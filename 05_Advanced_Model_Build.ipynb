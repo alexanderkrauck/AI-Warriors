{
 "metadata": {
  "language_info": {
   "codemirror_mode": {
    "name": "ipython",
    "version": 3
   },
   "file_extension": ".py",
   "mimetype": "text/x-python",
   "name": "python",
   "nbconvert_exporter": "python",
   "pygments_lexer": "ipython3",
   "version": "3.8.8"
  },
  "orig_nbformat": 2,
  "kernelspec": {
   "name": "python388jvsc74a57bd03b92691d56bfc9d5af752bc6654e963678e4150a6c1b95c958d07e2434145127",
   "display_name": "Python 3.8.8 64-bit ('m1': conda)"
  },
  "metadata": {
   "interpreter": {
    "hash": "3b92691d56bfc9d5af752bc6654e963678e4150a6c1b95c958d07e2434145127"
   }
  }
 },
 "nbformat": 4,
 "nbformat_minor": 2,
 "cells": [
  {
   "source": [
    "## Train the model"
   ],
   "cell_type": "markdown",
   "metadata": {}
  },
  {
   "cell_type": "code",
   "execution_count": 1,
   "metadata": {},
   "outputs": [],
   "source": [
    "from utils import dataloader\n",
    "import utils.model\n",
    "from datetime import datetime\n",
    "\n",
    "filter_timestamp = cutoff_timestamp = None#int(datetime(2021, 2, 19, 0).timestamp())\n",
    "use_user_index = \"user_index.parquet\"#\"train_user_index.parquet\"\n",
    "csv_data_location = \"downloaded_data\""
   ]
  },
  {
   "cell_type": "code",
   "execution_count": 2,
   "metadata": {},
   "outputs": [],
   "source": [
    "dl = dataloader.RecSys2021TSVDataLoader(csv_data_location, use_user_index, mode=\"train\", filter_timestamp=filter_timestamp)"
   ]
  },
  {
   "cell_type": "code",
   "execution_count": 3,
   "metadata": {},
   "outputs": [
    {
     "output_type": "stream",
     "name": "stdout",
     "text": [
      "CPU times: user 3min 9s, sys: 8.77 s, total: 3min 18s\nWall time: 3min 22s\n"
     ]
    }
   ],
   "source": [
    "%%time\n",
    "data = next(iter(dl))\n",
    "train_data = data[0]\n",
    "labels = data[1]"
   ]
  },
  {
   "cell_type": "code",
   "execution_count": 4,
   "metadata": {},
   "outputs": [],
   "source": [
    "recsysxgb = utils.model.RecSysXGB1()\n",
    "xgb_params = {'objective': 'binary:logistic', 'eval_metric':'map'}\n",
    "recsysxgb.train_in_memory(train_data, labels, xgb_params, save_dir = \"xgb_models_05_submission\")"
   ]
  },
  {
   "source": [
    "## Evaluate the model"
   ],
   "cell_type": "markdown",
   "metadata": {}
  },
  {
   "cell_type": "code",
   "execution_count": 9,
   "metadata": {},
   "outputs": [],
   "source": [
    "#recsysxgb = utils.model.RecSysXGB1(\"xgb_models_04_better_features1\")\n",
    "dl = dataloader.RecSys2021TSVDataLoader(csv_data_location, use_user_index, mode=\"val\", filter_timestamp=filter_timestamp)"
   ]
  },
  {
   "cell_type": "code",
   "execution_count": 10,
   "metadata": {},
   "outputs": [
    {
     "output_type": "stream",
     "name": "stdout",
     "text": [
      "has_reply: 0.16962196226086176 - 10.747179145045871\nhas_retweet: 0.38669954726459954 - 19.86339784995025\nhas_retweet_comment: 0.043576703594668656 - -20.327808991302177\nhas_like: 0.6932498419910613 - 9.419793147661126\n"
     ]
    }
   ],
   "source": [
    "res = recsysxgb.evaluate_validation_set(dl)\n",
    "for (target, ap, rce) in zip(recsysxgb.targets__, res[0], res[1]):\n",
    "    print(f\"{target}: {ap} - {rce}\")"
   ]
  },
  {
   "cell_type": "code",
   "execution_count": 20,
   "metadata": {},
   "outputs": [
    {
     "output_type": "execute_result",
     "data": {
      "text/plain": [
       "{'TE_like_a_A': 17684.535543281632,\n",
       " 'TE_retweet_b_B': 3859.1417743324137,\n",
       " 'n_like_a_A': 3752.7517747058814,\n",
       " 'type_encoding': 2855.152270493333,\n",
       " 'n_like_b_B': 2604.5063219985723,\n",
       " 'n_present_a_A': 2312.108605638519,\n",
       " 'n_present_b_A': 1986.8852737500001,\n",
       " 'a_follower_count': 1946.3226197428571,\n",
       " 'TE_reply_b_B': 1858.9121773749998,\n",
       " 'n_retweet_b_A': 1570.3047206769234,\n",
       " 'bert_token_len': 1454.75,\n",
       " 'n_photos': 1375.9783322888889,\n",
       " 'TE_like_b_B': 1352.4801489709928,\n",
       " 'b_creation_delta': 1246.4472216285715,\n",
       " 'n_reply_a_A': 1227.1597588233333,\n",
       " 'a_follows_b': 1008.1858988,\n",
       " 'TE_retweet_a_B': 957.880188,\n",
       " 'n_day_45_A': 826.6675516133333,\n",
       " 'a_is_verified': 775.8146670000001,\n",
       " 'n_retweet_comment_a_A': 723.8681656666668,\n",
       " 'TE_retweet_a_A': 680.0563918333332,\n",
       " 'n_day_40_A': 617.94104,\n",
       " 'n_retweet_b_B': 520.4279785,\n",
       " 'b_following_count': 452.9670416666666,\n",
       " 'n_retweet_a_A': 255.85770425,\n",
       " 'n_present_b_B': 232.654556,\n",
       " 'n_day_36_B': 67.7659912,\n",
       " 'TE_like_a_B': 26.8093872,\n",
       " 'n_retweet_a_B': 24.7126465,\n",
       " 'a_creation_delta': 20.6503906,\n",
       " 'n_day_47_A': 20.057785}"
      ]
     },
     "metadata": {},
     "execution_count": 20
    }
   ],
   "source": [
    "dict(sorted(recsysxgb.clfs_[\"has_like\"].get_score(importance_type='gain').items(), key=lambda item: item[1],reverse=True))"
   ]
  },
  {
   "source": [
    "## Try sample test run"
   ],
   "cell_type": "markdown",
   "metadata": {}
  },
  {
   "cell_type": "code",
   "execution_count": null,
   "metadata": {},
   "outputs": [],
   "source": [
    "import utils.model\n",
    "import utils.dataloader\n",
    "\n",
    "dl = utils.dataloader.RecSys2021TSVDataLoader(\"test\", \"user_index.parquet\", mode=\"test\", load_n_batches=-1)\n",
    "recsysxgb = utils.model.RecSysXGB1(\"xgb_models_05_submission\")\n",
    "\n",
    "recsysxgb.evaluate_test_set(testLoader = dl, output_file = \"res.csv\")"
   ]
  },
  {
   "source": [
    "## Testing Custom batch sizes"
   ],
   "cell_type": "markdown",
   "metadata": {}
  },
  {
   "cell_type": "code",
   "execution_count": 2,
   "metadata": {},
   "outputs": [],
   "source": [
    "from utils import dataloader\n",
    "import utils.model\n",
    "from datetime import datetime\n",
    "\n",
    "filter_timestamp = cutoff_timestamp = None#int(datetime(2021, 2, 19, 0).timestamp())\n",
    "use_user_index = \"user_index.parquet\"#\"train_user_index.parquet\"\n",
    "csv_data_location = \"downloaded_data\""
   ]
  },
  {
   "cell_type": "code",
   "execution_count": 3,
   "metadata": {},
   "outputs": [],
   "source": [
    "dl = dataloader.RecSys2021TSVDataLoader(csv_data_location, use_user_index, mode=\"train\", filter_timestamp=filter_timestamp, load_n_batches=1, batch_size=5000000, verbose=1)"
   ]
  },
  {
   "cell_type": "code",
   "execution_count": 4,
   "metadata": {},
   "outputs": [
    {
     "output_type": "stream",
     "name": "stdout",
     "text": [
      "Finished Batch Nr. 1 from file part-00001.tsv!\n"
     ]
    }
   ],
   "source": [
    "r = [a[0] for a in dl]"
   ]
  },
  {
   "cell_type": "code",
   "execution_count": 5,
   "metadata": {},
   "outputs": [
    {
     "output_type": "execute_result",
     "data": {
      "text/plain": [
       "         a_follower_count  a_following_count  a_is_verified  b_follower_count  \\\n",
       "0                  526918                163          False               220   \n",
       "1                    3062               1695          False               392   \n",
       "2                    2298                346          False              1306   \n",
       "3                 4813450                662           True                90   \n",
       "4                 2740151              15255           True               158   \n",
       "...                   ...                ...            ...               ...   \n",
       "1699225           1682398               4939           True               288   \n",
       "1699226            138545                267          False               197   \n",
       "1699227              4018               4048          False               112   \n",
       "1699228            523356               6145           True                 0   \n",
       "1699229              2723               2484          False               354   \n",
       "\n",
       "         b_following_count  b_is_verified  a_follows_b  bert_token_len  \\\n",
       "0                      638          False        False               3   \n",
       "1                      487          False         True               3   \n",
       "2                     5000          False         True               2   \n",
       "3                       91          False        False               3   \n",
       "4                      411          False        False               3   \n",
       "...                    ...            ...          ...             ...   \n",
       "1699225                390          False        False               3   \n",
       "1699226                450          False        False               4   \n",
       "1699227                 85          False         True               3   \n",
       "1699228                 73          False        False               3   \n",
       "1699229               1464          False        False               3   \n",
       "\n",
       "         n_photos  n_videos  ...  TE_like_b_A  TE_like_b_B  TE_retweet_a_A  \\\n",
       "0        0.693147       0.0  ...     0.655940     0.582249        0.040542   \n",
       "1       -1.000000      -1.0  ...     0.718410     0.644231        0.020698   \n",
       "2       -1.000000      -1.0  ...     0.285400     0.757480        0.035474   \n",
       "3        0.693147       0.0  ...     0.754331     0.705587        0.031772   \n",
       "4       -1.000000      -1.0  ...     0.754331     0.803464        0.016482   \n",
       "...           ...       ...  ...          ...          ...             ...   \n",
       "1699225  0.693147       0.0  ...     0.754331     0.371785        0.026459   \n",
       "1699226 -1.000000      -1.0  ...     0.699418     0.504699        0.176268   \n",
       "1699227 -1.000000      -1.0  ...     0.731210     0.763234        0.017553   \n",
       "1699228 -1.000000      -1.0  ...     0.753609     0.837485        0.095438   \n",
       "1699229 -1.000000      -1.0  ...     0.669554     0.812955        0.058681   \n",
       "\n",
       "         TE_retweet_a_B  TE_retweet_b_A  TE_retweet_b_B  \\\n",
       "0              0.050395        0.158352        0.006139   \n",
       "1              0.055194        0.173433        0.053160   \n",
       "2              0.074269        0.031520        0.103158   \n",
       "3              0.052660        0.132105        0.148972   \n",
       "4              0.057954        0.132105        0.105684   \n",
       "...                 ...             ...             ...   \n",
       "1699225        0.035124        0.132105        0.348737   \n",
       "1699226        0.105287        0.114874        0.089691   \n",
       "1699227        0.022727        0.120095        0.036060   \n",
       "1699228        0.057954        0.110087        0.043313   \n",
       "1699229        0.093873        0.154737        0.049851   \n",
       "\n",
       "         TE_retweet_comment_a_A  TE_retweet_comment_a_B  \\\n",
       "0                      0.001334                0.005083   \n",
       "1                      0.019945                0.005567   \n",
       "2                      0.000508                0.002088   \n",
       "3                      0.004921                0.002851   \n",
       "4                      0.002477                0.005845   \n",
       "...                         ...                     ...   \n",
       "1699225                0.007123                0.003542   \n",
       "1699226                0.005643                0.002386   \n",
       "1699227                0.000950                0.002292   \n",
       "1699228                0.006496                0.005845   \n",
       "1699229                0.000958                0.005083   \n",
       "\n",
       "         TE_retweet_comment_b_A  TE_retweet_comment_b_B  \n",
       "0                      0.011672                0.000292  \n",
       "1                      0.012784                0.001226  \n",
       "2                      0.007086                0.005966  \n",
       "3                      0.013423                0.012081  \n",
       "4                      0.013423                0.010738  \n",
       "...                         ...                     ...  \n",
       "1699225                0.013423                0.000831  \n",
       "1699226                0.011672                0.000226  \n",
       "1699227                0.012203                0.002658  \n",
       "1699228                0.011186                0.004401  \n",
       "1699229                0.042282                0.005065  \n",
       "\n",
       "[5000000 rows x 103 columns]"
      ],
      "text/html": "<div>\n<style scoped>\n    .dataframe tbody tr th:only-of-type {\n        vertical-align: middle;\n    }\n\n    .dataframe tbody tr th {\n        vertical-align: top;\n    }\n\n    .dataframe thead th {\n        text-align: right;\n    }\n</style>\n<table border=\"1\" class=\"dataframe\">\n  <thead>\n    <tr style=\"text-align: right;\">\n      <th></th>\n      <th>a_follower_count</th>\n      <th>a_following_count</th>\n      <th>a_is_verified</th>\n      <th>b_follower_count</th>\n      <th>b_following_count</th>\n      <th>b_is_verified</th>\n      <th>a_follows_b</th>\n      <th>bert_token_len</th>\n      <th>n_photos</th>\n      <th>n_videos</th>\n      <th>...</th>\n      <th>TE_like_b_A</th>\n      <th>TE_like_b_B</th>\n      <th>TE_retweet_a_A</th>\n      <th>TE_retweet_a_B</th>\n      <th>TE_retweet_b_A</th>\n      <th>TE_retweet_b_B</th>\n      <th>TE_retweet_comment_a_A</th>\n      <th>TE_retweet_comment_a_B</th>\n      <th>TE_retweet_comment_b_A</th>\n      <th>TE_retweet_comment_b_B</th>\n    </tr>\n  </thead>\n  <tbody>\n    <tr>\n      <th>0</th>\n      <td>526918</td>\n      <td>163</td>\n      <td>False</td>\n      <td>220</td>\n      <td>638</td>\n      <td>False</td>\n      <td>False</td>\n      <td>3</td>\n      <td>0.693147</td>\n      <td>0.0</td>\n      <td>...</td>\n      <td>0.655940</td>\n      <td>0.582249</td>\n      <td>0.040542</td>\n      <td>0.050395</td>\n      <td>0.158352</td>\n      <td>0.006139</td>\n      <td>0.001334</td>\n      <td>0.005083</td>\n      <td>0.011672</td>\n      <td>0.000292</td>\n    </tr>\n    <tr>\n      <th>1</th>\n      <td>3062</td>\n      <td>1695</td>\n      <td>False</td>\n      <td>392</td>\n      <td>487</td>\n      <td>False</td>\n      <td>True</td>\n      <td>3</td>\n      <td>-1.000000</td>\n      <td>-1.0</td>\n      <td>...</td>\n      <td>0.718410</td>\n      <td>0.644231</td>\n      <td>0.020698</td>\n      <td>0.055194</td>\n      <td>0.173433</td>\n      <td>0.053160</td>\n      <td>0.019945</td>\n      <td>0.005567</td>\n      <td>0.012784</td>\n      <td>0.001226</td>\n    </tr>\n    <tr>\n      <th>2</th>\n      <td>2298</td>\n      <td>346</td>\n      <td>False</td>\n      <td>1306</td>\n      <td>5000</td>\n      <td>False</td>\n      <td>True</td>\n      <td>2</td>\n      <td>-1.000000</td>\n      <td>-1.0</td>\n      <td>...</td>\n      <td>0.285400</td>\n      <td>0.757480</td>\n      <td>0.035474</td>\n      <td>0.074269</td>\n      <td>0.031520</td>\n      <td>0.103158</td>\n      <td>0.000508</td>\n      <td>0.002088</td>\n      <td>0.007086</td>\n      <td>0.005966</td>\n    </tr>\n    <tr>\n      <th>3</th>\n      <td>4813450</td>\n      <td>662</td>\n      <td>True</td>\n      <td>90</td>\n      <td>91</td>\n      <td>False</td>\n      <td>False</td>\n      <td>3</td>\n      <td>0.693147</td>\n      <td>0.0</td>\n      <td>...</td>\n      <td>0.754331</td>\n      <td>0.705587</td>\n      <td>0.031772</td>\n      <td>0.052660</td>\n      <td>0.132105</td>\n      <td>0.148972</td>\n      <td>0.004921</td>\n      <td>0.002851</td>\n      <td>0.013423</td>\n      <td>0.012081</td>\n    </tr>\n    <tr>\n      <th>4</th>\n      <td>2740151</td>\n      <td>15255</td>\n      <td>True</td>\n      <td>158</td>\n      <td>411</td>\n      <td>False</td>\n      <td>False</td>\n      <td>3</td>\n      <td>-1.000000</td>\n      <td>-1.0</td>\n      <td>...</td>\n      <td>0.754331</td>\n      <td>0.803464</td>\n      <td>0.016482</td>\n      <td>0.057954</td>\n      <td>0.132105</td>\n      <td>0.105684</td>\n      <td>0.002477</td>\n      <td>0.005845</td>\n      <td>0.013423</td>\n      <td>0.010738</td>\n    </tr>\n    <tr>\n      <th>...</th>\n      <td>...</td>\n      <td>...</td>\n      <td>...</td>\n      <td>...</td>\n      <td>...</td>\n      <td>...</td>\n      <td>...</td>\n      <td>...</td>\n      <td>...</td>\n      <td>...</td>\n      <td>...</td>\n      <td>...</td>\n      <td>...</td>\n      <td>...</td>\n      <td>...</td>\n      <td>...</td>\n      <td>...</td>\n      <td>...</td>\n      <td>...</td>\n      <td>...</td>\n      <td>...</td>\n    </tr>\n    <tr>\n      <th>1699225</th>\n      <td>1682398</td>\n      <td>4939</td>\n      <td>True</td>\n      <td>288</td>\n      <td>390</td>\n      <td>False</td>\n      <td>False</td>\n      <td>3</td>\n      <td>0.693147</td>\n      <td>0.0</td>\n      <td>...</td>\n      <td>0.754331</td>\n      <td>0.371785</td>\n      <td>0.026459</td>\n      <td>0.035124</td>\n      <td>0.132105</td>\n      <td>0.348737</td>\n      <td>0.007123</td>\n      <td>0.003542</td>\n      <td>0.013423</td>\n      <td>0.000831</td>\n    </tr>\n    <tr>\n      <th>1699226</th>\n      <td>138545</td>\n      <td>267</td>\n      <td>False</td>\n      <td>197</td>\n      <td>450</td>\n      <td>False</td>\n      <td>False</td>\n      <td>4</td>\n      <td>-1.000000</td>\n      <td>-1.0</td>\n      <td>...</td>\n      <td>0.699418</td>\n      <td>0.504699</td>\n      <td>0.176268</td>\n      <td>0.105287</td>\n      <td>0.114874</td>\n      <td>0.089691</td>\n      <td>0.005643</td>\n      <td>0.002386</td>\n      <td>0.011672</td>\n      <td>0.000226</td>\n    </tr>\n    <tr>\n      <th>1699227</th>\n      <td>4018</td>\n      <td>4048</td>\n      <td>False</td>\n      <td>112</td>\n      <td>85</td>\n      <td>False</td>\n      <td>True</td>\n      <td>3</td>\n      <td>-1.000000</td>\n      <td>-1.0</td>\n      <td>...</td>\n      <td>0.731210</td>\n      <td>0.763234</td>\n      <td>0.017553</td>\n      <td>0.022727</td>\n      <td>0.120095</td>\n      <td>0.036060</td>\n      <td>0.000950</td>\n      <td>0.002292</td>\n      <td>0.012203</td>\n      <td>0.002658</td>\n    </tr>\n    <tr>\n      <th>1699228</th>\n      <td>523356</td>\n      <td>6145</td>\n      <td>True</td>\n      <td>0</td>\n      <td>73</td>\n      <td>False</td>\n      <td>False</td>\n      <td>3</td>\n      <td>-1.000000</td>\n      <td>-1.0</td>\n      <td>...</td>\n      <td>0.753609</td>\n      <td>0.837485</td>\n      <td>0.095438</td>\n      <td>0.057954</td>\n      <td>0.110087</td>\n      <td>0.043313</td>\n      <td>0.006496</td>\n      <td>0.005845</td>\n      <td>0.011186</td>\n      <td>0.004401</td>\n    </tr>\n    <tr>\n      <th>1699229</th>\n      <td>2723</td>\n      <td>2484</td>\n      <td>False</td>\n      <td>354</td>\n      <td>1464</td>\n      <td>False</td>\n      <td>False</td>\n      <td>3</td>\n      <td>-1.000000</td>\n      <td>-1.0</td>\n      <td>...</td>\n      <td>0.669554</td>\n      <td>0.812955</td>\n      <td>0.058681</td>\n      <td>0.093873</td>\n      <td>0.154737</td>\n      <td>0.049851</td>\n      <td>0.000958</td>\n      <td>0.005083</td>\n      <td>0.042282</td>\n      <td>0.005065</td>\n    </tr>\n  </tbody>\n</table>\n<p>5000000 rows × 103 columns</p>\n</div>"
     },
     "metadata": {},
     "execution_count": 5
    }
   ],
   "source": [
    "r[0]"
   ]
  },
  {
   "source": [
    "small batch sizes are unproportionally slow. Probably the left merge with the index is the slow thing but not sure"
   ],
   "cell_type": "markdown",
   "metadata": {}
  },
  {
   "cell_type": "code",
   "execution_count": null,
   "metadata": {},
   "outputs": [],
   "source": []
  }
 ]
}