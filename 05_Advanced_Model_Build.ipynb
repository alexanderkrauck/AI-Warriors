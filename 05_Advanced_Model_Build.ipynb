{
 "metadata": {
  "language_info": {
   "codemirror_mode": {
    "name": "ipython",
    "version": 3
   },
   "file_extension": ".py",
   "mimetype": "text/x-python",
   "name": "python",
   "nbconvert_exporter": "python",
   "pygments_lexer": "ipython3",
   "version": "3.8.8"
  },
  "orig_nbformat": 2,
  "kernelspec": {
   "name": "python388jvsc74a57bd03b92691d56bfc9d5af752bc6654e963678e4150a6c1b95c958d07e2434145127",
   "display_name": "Python 3.8.8 64-bit ('m1': conda)"
  },
  "metadata": {
   "interpreter": {
    "hash": "3b92691d56bfc9d5af752bc6654e963678e4150a6c1b95c958d07e2434145127"
   }
  }
 },
 "nbformat": 4,
 "nbformat_minor": 2,
 "cells": [
  {
   "source": [
    "## Train the model"
   ],
   "cell_type": "markdown",
   "metadata": {}
  },
  {
   "cell_type": "code",
   "execution_count": 1,
   "metadata": {},
   "outputs": [],
   "source": [
    "from utils import dataloader\n",
    "import utils.model\n",
    "from datetime import datetime\n",
    "\n",
    "filter_timestamp = cutoff_timestamp = None#int(datetime(2021, 2, 19, 0).timestamp())\n",
    "use_user_index = \"user_index.parquet\"#\"train_user_index.parquet\"\n",
    "csv_data_location = \"downloaded_data\""
   ]
  },
  {
   "cell_type": "code",
   "execution_count": 2,
   "metadata": {},
   "outputs": [],
   "source": [
    "dl = dataloader.RecSys2021TSVDataLoader(csv_data_location, use_user_index, mode=\"train\", filter_timestamp=filter_timestamp)"
   ]
  },
  {
   "cell_type": "code",
   "execution_count": 3,
   "metadata": {},
   "outputs": [
    {
     "output_type": "stream",
     "name": "stdout",
     "text": [
      "CPU times: user 3min 9s, sys: 8.77 s, total: 3min 18s\nWall time: 3min 22s\n"
     ]
    }
   ],
   "source": [
    "%%time\n",
    "data = next(iter(dl))\n",
    "train_data = data[0]\n",
    "labels = data[1]"
   ]
  },
  {
   "cell_type": "code",
   "execution_count": 4,
   "metadata": {},
   "outputs": [],
   "source": [
    "recsysxgb = utils.model.RecSysXGB1()\n",
    "xgb_params = {'objective': 'binary:logistic', 'eval_metric':'map'}\n",
    "recsysxgb.train_in_memory(train_data, labels, xgb_params, save_dir = \"xgb_models_05_submission\")"
   ]
  },
  {
   "source": [
    "## Evaluate the model"
   ],
   "cell_type": "markdown",
   "metadata": {}
  },
  {
   "cell_type": "code",
   "execution_count": 9,
   "metadata": {},
   "outputs": [],
   "source": [
    "#recsysxgb = utils.model.RecSysXGB1(\"xgb_models_04_better_features1\")\n",
    "dl = dataloader.RecSys2021TSVDataLoader(csv_data_location, use_user_index, mode=\"val\", filter_timestamp=filter_timestamp)"
   ]
  },
  {
   "cell_type": "code",
   "execution_count": 10,
   "metadata": {},
   "outputs": [
    {
     "output_type": "stream",
     "name": "stdout",
     "text": [
      "has_reply: 0.16962196226086176 - 10.747179145045871\nhas_retweet: 0.38669954726459954 - 19.86339784995025\nhas_retweet_comment: 0.043576703594668656 - -20.327808991302177\nhas_like: 0.6932498419910613 - 9.419793147661126\n"
     ]
    }
   ],
   "source": [
    "res = recsysxgb.evaluate_validation_set(dl)\n",
    "for (target, ap, rce) in zip(recsysxgb.targets__, res[0], res[1]):\n",
    "    print(f\"{target}: {ap} - {rce}\")"
   ]
  },
  {
   "cell_type": "code",
   "execution_count": 20,
   "metadata": {},
   "outputs": [
    {
     "output_type": "execute_result",
     "data": {
      "text/plain": [
       "{'TE_like_a_A': 17684.535543281632,\n",
       " 'TE_retweet_b_B': 3859.1417743324137,\n",
       " 'n_like_a_A': 3752.7517747058814,\n",
       " 'type_encoding': 2855.152270493333,\n",
       " 'n_like_b_B': 2604.5063219985723,\n",
       " 'n_present_a_A': 2312.108605638519,\n",
       " 'n_present_b_A': 1986.8852737500001,\n",
       " 'a_follower_count': 1946.3226197428571,\n",
       " 'TE_reply_b_B': 1858.9121773749998,\n",
       " 'n_retweet_b_A': 1570.3047206769234,\n",
       " 'bert_token_len': 1454.75,\n",
       " 'n_photos': 1375.9783322888889,\n",
       " 'TE_like_b_B': 1352.4801489709928,\n",
       " 'b_creation_delta': 1246.4472216285715,\n",
       " 'n_reply_a_A': 1227.1597588233333,\n",
       " 'a_follows_b': 1008.1858988,\n",
       " 'TE_retweet_a_B': 957.880188,\n",
       " 'n_day_45_A': 826.6675516133333,\n",
       " 'a_is_verified': 775.8146670000001,\n",
       " 'n_retweet_comment_a_A': 723.8681656666668,\n",
       " 'TE_retweet_a_A': 680.0563918333332,\n",
       " 'n_day_40_A': 617.94104,\n",
       " 'n_retweet_b_B': 520.4279785,\n",
       " 'b_following_count': 452.9670416666666,\n",
       " 'n_retweet_a_A': 255.85770425,\n",
       " 'n_present_b_B': 232.654556,\n",
       " 'n_day_36_B': 67.7659912,\n",
       " 'TE_like_a_B': 26.8093872,\n",
       " 'n_retweet_a_B': 24.7126465,\n",
       " 'a_creation_delta': 20.6503906,\n",
       " 'n_day_47_A': 20.057785}"
      ]
     },
     "metadata": {},
     "execution_count": 20
    }
   ],
   "source": [
    "dict(sorted(recsysxgb.clfs_[\"has_like\"].get_score(importance_type='gain').items(), key=lambda item: item[1],reverse=True))"
   ]
  },
  {
   "source": [
    "## Try sample test run"
   ],
   "cell_type": "markdown",
   "metadata": {}
  },
  {
   "cell_type": "code",
   "execution_count": null,
   "metadata": {},
   "outputs": [],
   "source": [
    "import utils.model\n",
    "import utils.dataloader\n",
    "\n",
    "dl = utils.dataloader.RecSys2021TSVDataLoader(\"test\", \"user_index.parquet\", mode=\"test\", load_n_batches=-1)\n",
    "recsysxgb = utils.model.RecSysXGB1(\"xgb_models_05_submission\")\n",
    "\n",
    "recsysxgb.evaluate_test_set(testLoader = dl, output_file = \"res.csv\")"
   ]
  },
  {
   "source": [
    "## Other"
   ],
   "cell_type": "markdown",
   "metadata": {}
  },
  {
   "cell_type": "code",
   "execution_count": 2,
   "metadata": {},
   "outputs": [],
   "source": [
    "from utils import dataloader\n",
    "import utils.model\n",
    "from datetime import datetime\n",
    "\n",
    "filter_timestamp = cutoff_timestamp = None#int(datetime(2021, 2, 19, 0).timestamp())\n",
    "use_user_index = \"user_index.parquet\"#\"train_user_index.parquet\"\n",
    "csv_data_location = \"downloaded_data\""
   ]
  },
  {
   "cell_type": "code",
   "execution_count": 3,
   "metadata": {},
   "outputs": [],
   "source": [
    "dl = dataloader.RecSys2021TSVDataLoader(csv_data_location, use_user_index, mode=\"train\", filter_timestamp=filter_timestamp, load_n_batches=1, batch_size=5000000, verbose=1)"
   ]
  },
  {
   "cell_type": "code",
   "execution_count": 3,
   "metadata": {},
   "outputs": [
    {
     "output_type": "stream",
     "name": "stdout",
     "text": [
      "Finished Batch Nr. 1 from file part-00000.tsv!\n",
      "Finished Batch Nr. 2 from file part-00000.tsv!\n",
      "Finished Batch Nr. 3 from file part-00000.tsv!\n",
      "Finished Batch Nr. 4 from file part-00000.tsv!\n",
      "Finished Batch Nr. 5 from file part-00000.tsv!\n",
      "Finished Batch Nr. 6 from file part-00000.tsv!\n",
      "Finished Batch Nr. 7 from file part-00000.tsv!\n",
      "Finished Batch Nr. 8 from file part-00000.tsv!\n",
      "Finished Batch Nr. 9 from file part-00000.tsv!\n",
      "Finished Batch Nr. 10 from file part-00000.tsv!\n"
     ]
    }
   ],
   "source": [
    "r = [a[0] for a in dl]"
   ]
  },
  {
   "cell_type": "code",
   "execution_count": 4,
   "metadata": {},
   "outputs": [
    {
     "output_type": "execute_result",
     "data": {
      "text/plain": [
       "     a_follower_count  a_following_count  a_is_verified  b_follower_count  \\\n",
       "0              526918                163          False               220   \n",
       "1                3062               1695          False               392   \n",
       "2                2298                346          False              1306   \n",
       "3             4813450                662           True                90   \n",
       "4             2740151              15255           True               158   \n",
       "..                ...                ...            ...               ...   \n",
       "995             70817                847          False                 9   \n",
       "996             20974                523           True                19   \n",
       "997              2952                675          False                31   \n",
       "998             29819                  2          False                 9   \n",
       "999               154                136          False               252   \n",
       "\n",
       "     b_following_count  b_is_verified  a_follows_b  bert_token_len  n_photos  \\\n",
       "0                  638          False        False               3  0.693147   \n",
       "1                  487          False         True               3 -1.000000   \n",
       "2                 5000          False         True               2 -1.000000   \n",
       "3                   91          False        False               3  0.693147   \n",
       "4                  411          False        False               3 -1.000000   \n",
       "..                 ...            ...          ...             ...       ...   \n",
       "995                330          False        False               3  0.693147   \n",
       "996                301          False        False               3 -1.000000   \n",
       "997                 72          False         True               4  0.000000   \n",
       "998                162          False        False               4  0.000000   \n",
       "999                276          False         True               3 -1.000000   \n",
       "\n",
       "     n_videos  ...  TE_like_b_A  TE_like_b_B  TE_retweet_a_A  TE_retweet_a_B  \\\n",
       "0    0.000000  ...     0.655940     0.582249        0.040542        0.050395   \n",
       "1   -1.000000  ...     0.718410     0.644231        0.020698        0.055194   \n",
       "2   -1.000000  ...     0.285400     0.757480        0.035474        0.074269   \n",
       "3    0.000000  ...     0.754331     0.705587        0.031772        0.052660   \n",
       "4   -1.000000  ...     0.754331     0.803464        0.016482        0.057954   \n",
       "..        ...  ...          ...          ...             ...             ...   \n",
       "995  0.000000  ...     0.731210     0.776664        0.045440        0.057954   \n",
       "996 -1.000000  ...     0.766029     0.718410        0.034596        0.057954   \n",
       "997  0.000000  ...     0.522638     0.856602        0.051763        0.046363   \n",
       "998  0.693147  ...     0.655940     0.701054        0.203735        0.057954   \n",
       "999 -1.000000  ...     0.766029     0.706514        0.052685        0.112824   \n",
       "\n",
       "     TE_retweet_b_A  TE_retweet_b_B  TE_retweet_comment_a_A  \\\n",
       "0          0.158352        0.006139                0.001334   \n",
       "1          0.173433        0.053160                0.019945   \n",
       "2          0.031520        0.103158                0.000508   \n",
       "3          0.132105        0.148972                0.004921   \n",
       "4          0.132105        0.105684                0.002477   \n",
       "..              ...             ...                     ...   \n",
       "995        0.120095        0.120095                0.005333   \n",
       "996        0.125814        0.173433                0.005546   \n",
       "997        0.096710        0.044636                0.003891   \n",
       "998        0.158352        0.014927                0.001872   \n",
       "999        0.125814        0.264593                0.005314   \n",
       "\n",
       "     TE_retweet_comment_a_B  TE_retweet_comment_b_A  TE_retweet_comment_b_B  \n",
       "0                  0.005083                0.011672                0.000292  \n",
       "1                  0.005567                0.012784                0.001226  \n",
       "2                  0.002088                0.007086                0.005966  \n",
       "3                  0.002851                0.013423                0.012081  \n",
       "4                  0.005845                0.013423                0.010738  \n",
       "..                      ...                     ...                     ...  \n",
       "995                0.005845                0.012203                0.012203  \n",
       "996                0.005845                0.012784                0.012784  \n",
       "997                0.004676                0.005593                0.002581  \n",
       "998                0.005845                0.011672                0.001517  \n",
       "999                0.039889                0.012784                0.028829  \n",
       "\n",
       "[1000 rows x 103 columns]"
      ],
      "text/html": "<div>\n<style scoped>\n    .dataframe tbody tr th:only-of-type {\n        vertical-align: middle;\n    }\n\n    .dataframe tbody tr th {\n        vertical-align: top;\n    }\n\n    .dataframe thead th {\n        text-align: right;\n    }\n</style>\n<table border=\"1\" class=\"dataframe\">\n  <thead>\n    <tr style=\"text-align: right;\">\n      <th></th>\n      <th>a_follower_count</th>\n      <th>a_following_count</th>\n      <th>a_is_verified</th>\n      <th>b_follower_count</th>\n      <th>b_following_count</th>\n      <th>b_is_verified</th>\n      <th>a_follows_b</th>\n      <th>bert_token_len</th>\n      <th>n_photos</th>\n      <th>n_videos</th>\n      <th>...</th>\n      <th>TE_like_b_A</th>\n      <th>TE_like_b_B</th>\n      <th>TE_retweet_a_A</th>\n      <th>TE_retweet_a_B</th>\n      <th>TE_retweet_b_A</th>\n      <th>TE_retweet_b_B</th>\n      <th>TE_retweet_comment_a_A</th>\n      <th>TE_retweet_comment_a_B</th>\n      <th>TE_retweet_comment_b_A</th>\n      <th>TE_retweet_comment_b_B</th>\n    </tr>\n  </thead>\n  <tbody>\n    <tr>\n      <th>0</th>\n      <td>526918</td>\n      <td>163</td>\n      <td>False</td>\n      <td>220</td>\n      <td>638</td>\n      <td>False</td>\n      <td>False</td>\n      <td>3</td>\n      <td>0.693147</td>\n      <td>0.000000</td>\n      <td>...</td>\n      <td>0.655940</td>\n      <td>0.582249</td>\n      <td>0.040542</td>\n      <td>0.050395</td>\n      <td>0.158352</td>\n      <td>0.006139</td>\n      <td>0.001334</td>\n      <td>0.005083</td>\n      <td>0.011672</td>\n      <td>0.000292</td>\n    </tr>\n    <tr>\n      <th>1</th>\n      <td>3062</td>\n      <td>1695</td>\n      <td>False</td>\n      <td>392</td>\n      <td>487</td>\n      <td>False</td>\n      <td>True</td>\n      <td>3</td>\n      <td>-1.000000</td>\n      <td>-1.000000</td>\n      <td>...</td>\n      <td>0.718410</td>\n      <td>0.644231</td>\n      <td>0.020698</td>\n      <td>0.055194</td>\n      <td>0.173433</td>\n      <td>0.053160</td>\n      <td>0.019945</td>\n      <td>0.005567</td>\n      <td>0.012784</td>\n      <td>0.001226</td>\n    </tr>\n    <tr>\n      <th>2</th>\n      <td>2298</td>\n      <td>346</td>\n      <td>False</td>\n      <td>1306</td>\n      <td>5000</td>\n      <td>False</td>\n      <td>True</td>\n      <td>2</td>\n      <td>-1.000000</td>\n      <td>-1.000000</td>\n      <td>...</td>\n      <td>0.285400</td>\n      <td>0.757480</td>\n      <td>0.035474</td>\n      <td>0.074269</td>\n      <td>0.031520</td>\n      <td>0.103158</td>\n      <td>0.000508</td>\n      <td>0.002088</td>\n      <td>0.007086</td>\n      <td>0.005966</td>\n    </tr>\n    <tr>\n      <th>3</th>\n      <td>4813450</td>\n      <td>662</td>\n      <td>True</td>\n      <td>90</td>\n      <td>91</td>\n      <td>False</td>\n      <td>False</td>\n      <td>3</td>\n      <td>0.693147</td>\n      <td>0.000000</td>\n      <td>...</td>\n      <td>0.754331</td>\n      <td>0.705587</td>\n      <td>0.031772</td>\n      <td>0.052660</td>\n      <td>0.132105</td>\n      <td>0.148972</td>\n      <td>0.004921</td>\n      <td>0.002851</td>\n      <td>0.013423</td>\n      <td>0.012081</td>\n    </tr>\n    <tr>\n      <th>4</th>\n      <td>2740151</td>\n      <td>15255</td>\n      <td>True</td>\n      <td>158</td>\n      <td>411</td>\n      <td>False</td>\n      <td>False</td>\n      <td>3</td>\n      <td>-1.000000</td>\n      <td>-1.000000</td>\n      <td>...</td>\n      <td>0.754331</td>\n      <td>0.803464</td>\n      <td>0.016482</td>\n      <td>0.057954</td>\n      <td>0.132105</td>\n      <td>0.105684</td>\n      <td>0.002477</td>\n      <td>0.005845</td>\n      <td>0.013423</td>\n      <td>0.010738</td>\n    </tr>\n    <tr>\n      <th>...</th>\n      <td>...</td>\n      <td>...</td>\n      <td>...</td>\n      <td>...</td>\n      <td>...</td>\n      <td>...</td>\n      <td>...</td>\n      <td>...</td>\n      <td>...</td>\n      <td>...</td>\n      <td>...</td>\n      <td>...</td>\n      <td>...</td>\n      <td>...</td>\n      <td>...</td>\n      <td>...</td>\n      <td>...</td>\n      <td>...</td>\n      <td>...</td>\n      <td>...</td>\n      <td>...</td>\n    </tr>\n    <tr>\n      <th>995</th>\n      <td>70817</td>\n      <td>847</td>\n      <td>False</td>\n      <td>9</td>\n      <td>330</td>\n      <td>False</td>\n      <td>False</td>\n      <td>3</td>\n      <td>0.693147</td>\n      <td>0.000000</td>\n      <td>...</td>\n      <td>0.731210</td>\n      <td>0.776664</td>\n      <td>0.045440</td>\n      <td>0.057954</td>\n      <td>0.120095</td>\n      <td>0.120095</td>\n      <td>0.005333</td>\n      <td>0.005845</td>\n      <td>0.012203</td>\n      <td>0.012203</td>\n    </tr>\n    <tr>\n      <th>996</th>\n      <td>20974</td>\n      <td>523</td>\n      <td>True</td>\n      <td>19</td>\n      <td>301</td>\n      <td>False</td>\n      <td>False</td>\n      <td>3</td>\n      <td>-1.000000</td>\n      <td>-1.000000</td>\n      <td>...</td>\n      <td>0.766029</td>\n      <td>0.718410</td>\n      <td>0.034596</td>\n      <td>0.057954</td>\n      <td>0.125814</td>\n      <td>0.173433</td>\n      <td>0.005546</td>\n      <td>0.005845</td>\n      <td>0.012784</td>\n      <td>0.012784</td>\n    </tr>\n    <tr>\n      <th>997</th>\n      <td>2952</td>\n      <td>675</td>\n      <td>False</td>\n      <td>31</td>\n      <td>72</td>\n      <td>False</td>\n      <td>True</td>\n      <td>4</td>\n      <td>0.000000</td>\n      <td>0.000000</td>\n      <td>...</td>\n      <td>0.522638</td>\n      <td>0.856602</td>\n      <td>0.051763</td>\n      <td>0.046363</td>\n      <td>0.096710</td>\n      <td>0.044636</td>\n      <td>0.003891</td>\n      <td>0.004676</td>\n      <td>0.005593</td>\n      <td>0.002581</td>\n    </tr>\n    <tr>\n      <th>998</th>\n      <td>29819</td>\n      <td>2</td>\n      <td>False</td>\n      <td>9</td>\n      <td>162</td>\n      <td>False</td>\n      <td>False</td>\n      <td>4</td>\n      <td>0.000000</td>\n      <td>0.693147</td>\n      <td>...</td>\n      <td>0.655940</td>\n      <td>0.701054</td>\n      <td>0.203735</td>\n      <td>0.057954</td>\n      <td>0.158352</td>\n      <td>0.014927</td>\n      <td>0.001872</td>\n      <td>0.005845</td>\n      <td>0.011672</td>\n      <td>0.001517</td>\n    </tr>\n    <tr>\n      <th>999</th>\n      <td>154</td>\n      <td>136</td>\n      <td>False</td>\n      <td>252</td>\n      <td>276</td>\n      <td>False</td>\n      <td>True</td>\n      <td>3</td>\n      <td>-1.000000</td>\n      <td>-1.000000</td>\n      <td>...</td>\n      <td>0.766029</td>\n      <td>0.706514</td>\n      <td>0.052685</td>\n      <td>0.112824</td>\n      <td>0.125814</td>\n      <td>0.264593</td>\n      <td>0.005314</td>\n      <td>0.039889</td>\n      <td>0.012784</td>\n      <td>0.028829</td>\n    </tr>\n  </tbody>\n</table>\n<p>1000 rows × 103 columns</p>\n</div>"
     },
     "metadata": {},
     "execution_count": 4
    }
   ],
   "source": [
    "r[0]"
   ]
  },
  {
   "cell_type": "code",
   "execution_count": null,
   "metadata": {},
   "outputs": [],
   "source": []
  }
 ]
}