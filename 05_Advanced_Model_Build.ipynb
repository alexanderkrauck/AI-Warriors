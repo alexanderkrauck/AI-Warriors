{
 "metadata": {
  "language_info": {
   "codemirror_mode": {
    "name": "ipython",
    "version": 3
   },
   "file_extension": ".py",
   "mimetype": "text/x-python",
   "name": "python",
   "nbconvert_exporter": "python",
   "pygments_lexer": "ipython3",
   "version": "3.8.8"
  },
  "orig_nbformat": 2,
  "kernelspec": {
   "name": "python388jvsc74a57bd03b92691d56bfc9d5af752bc6654e963678e4150a6c1b95c958d07e2434145127",
   "display_name": "Python 3.8.8 64-bit ('m1': conda)"
  },
  "metadata": {
   "interpreter": {
    "hash": "3b92691d56bfc9d5af752bc6654e963678e4150a6c1b95c958d07e2434145127"
   }
  }
 },
 "nbformat": 4,
 "nbformat_minor": 2,
 "cells": [
  {
   "source": [
    "## Train the model"
   ],
   "cell_type": "markdown",
   "metadata": {}
  },
  {
   "cell_type": "code",
   "execution_count": null,
   "metadata": {},
   "outputs": [],
   "source": [
    "from utils import dataloader\n",
    "import utils.model\n",
    "from datetime import datetime\n",
    "\n",
    "filter_timestamp = cutoff_timestamp = None#int(datetime(2021, 2, 19, 0).timestamp())\n",
    "use_user_index = \"user_index.parquet\"#\"train_user_index.parquet\"\n",
    "csv_data_location = \"downloaded_data\""
   ]
  },
  {
   "cell_type": "code",
   "execution_count": 2,
   "metadata": {},
   "outputs": [],
   "source": [
    "dl = dataloader.RecSys2021TSVDataLoader(csv_data_location, use_user_index, mode=\"train\", filter_timestamp=filter_timestamp)"
   ]
  },
  {
   "cell_type": "code",
   "execution_count": 3,
   "metadata": {},
   "outputs": [
    {
     "output_type": "stream",
     "name": "stdout",
     "text": [
      "CPU times: user 3min 9s, sys: 8.77 s, total: 3min 18s\nWall time: 3min 22s\n"
     ]
    }
   ],
   "source": [
    "%%time\n",
    "data = next(iter(dl))\n",
    "train_data = data[0]\n",
    "labels = data[1]"
   ]
  },
  {
   "cell_type": "code",
   "execution_count": 4,
   "metadata": {},
   "outputs": [],
   "source": [
    "recsysxgb = utils.model.RecSysXGB1()\n",
    "xgb_params = {'objective': 'binary:logistic', 'eval_metric':'map'}\n",
    "recsysxgb.train_in_memory(train_data, labels, xgb_params, save_dir = \"xgb_models_05_submission\")"
   ]
  },
  {
   "source": [
    "## Evaluate the model"
   ],
   "cell_type": "markdown",
   "metadata": {}
  },
  {
   "cell_type": "code",
   "execution_count": 9,
   "metadata": {},
   "outputs": [],
   "source": [
    "#recsysxgb = utils.model.RecSysXGB1(\"xgb_models_04_better_features1\")\n",
    "dl = dataloader.RecSys2021TSVDataLoader(csv_data_location, use_user_index, mode=\"val\", filter_timestamp=filter_timestamp)"
   ]
  },
  {
   "cell_type": "code",
   "execution_count": 10,
   "metadata": {},
   "outputs": [
    {
     "output_type": "stream",
     "name": "stdout",
     "text": [
      "has_reply: 0.16962196226086176 - 10.747179145045871\nhas_retweet: 0.38669954726459954 - 19.86339784995025\nhas_retweet_comment: 0.043576703594668656 - -20.327808991302177\nhas_like: 0.6932498419910613 - 9.419793147661126\n"
     ]
    }
   ],
   "source": [
    "res = recsysxgb.evaluate_validation_set(dl)\n",
    "for (target, ap, rce) in zip(recsysxgb.targets__, res[0], res[1]):\n",
    "    print(f\"{target}: {ap} - {rce}\")"
   ]
  },
  {
   "cell_type": "code",
   "execution_count": 20,
   "metadata": {},
   "outputs": [
    {
     "output_type": "execute_result",
     "data": {
      "text/plain": [
       "{'TE_like_a_A': 17684.535543281632,\n",
       " 'TE_retweet_b_B': 3859.1417743324137,\n",
       " 'n_like_a_A': 3752.7517747058814,\n",
       " 'type_encoding': 2855.152270493333,\n",
       " 'n_like_b_B': 2604.5063219985723,\n",
       " 'n_present_a_A': 2312.108605638519,\n",
       " 'n_present_b_A': 1986.8852737500001,\n",
       " 'a_follower_count': 1946.3226197428571,\n",
       " 'TE_reply_b_B': 1858.9121773749998,\n",
       " 'n_retweet_b_A': 1570.3047206769234,\n",
       " 'bert_token_len': 1454.75,\n",
       " 'n_photos': 1375.9783322888889,\n",
       " 'TE_like_b_B': 1352.4801489709928,\n",
       " 'b_creation_delta': 1246.4472216285715,\n",
       " 'n_reply_a_A': 1227.1597588233333,\n",
       " 'a_follows_b': 1008.1858988,\n",
       " 'TE_retweet_a_B': 957.880188,\n",
       " 'n_day_45_A': 826.6675516133333,\n",
       " 'a_is_verified': 775.8146670000001,\n",
       " 'n_retweet_comment_a_A': 723.8681656666668,\n",
       " 'TE_retweet_a_A': 680.0563918333332,\n",
       " 'n_day_40_A': 617.94104,\n",
       " 'n_retweet_b_B': 520.4279785,\n",
       " 'b_following_count': 452.9670416666666,\n",
       " 'n_retweet_a_A': 255.85770425,\n",
       " 'n_present_b_B': 232.654556,\n",
       " 'n_day_36_B': 67.7659912,\n",
       " 'TE_like_a_B': 26.8093872,\n",
       " 'n_retweet_a_B': 24.7126465,\n",
       " 'a_creation_delta': 20.6503906,\n",
       " 'n_day_47_A': 20.057785}"
      ]
     },
     "metadata": {},
     "execution_count": 20
    }
   ],
   "source": [
    "dict(sorted(recsysxgb.clfs_[\"has_like\"].get_score(importance_type='gain').items(), key=lambda item: item[1],reverse=True))"
   ]
  },
  {
   "source": [
    "## Try sample test run"
   ],
   "cell_type": "markdown",
   "metadata": {}
  },
  {
   "cell_type": "code",
   "execution_count": null,
   "metadata": {},
   "outputs": [],
   "source": [
    "import utils.model\n",
    "import utils.dataloader\n",
    "\n",
    "dl = utils.dataloader.RecSys2021TSVDataLoader(\"test\", \"user_index.parquet\", mode=\"test\", load_n_batches=-1)\n",
    "recsysxgb = utils.model.RecSysXGB1(\"xgb_models_05_submission\")\n",
    "\n",
    "recsysxgb.evaluate_test_set(testLoader = dl, output_file = \"res.csv\")"
   ]
  }
 ]
}