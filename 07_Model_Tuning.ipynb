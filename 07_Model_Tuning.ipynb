{
 "metadata": {
  "language_info": {
   "codemirror_mode": {
    "name": "ipython",
    "version": 3
   },
   "file_extension": ".py",
   "mimetype": "text/x-python",
   "name": "python",
   "nbconvert_exporter": "python",
   "pygments_lexer": "ipython3",
   "version": "3.9.5"
  },
  "orig_nbformat": 2,
  "kernelspec": {
   "name": "python3",
   "display_name": "Python 3.9.5 64-bit ('m1': conda)"
  },
  "metadata": {
   "interpreter": {
    "hash": "3b92691d56bfc9d5af752bc6654e963678e4150a6c1b95c958d07e2434145127"
   }
  },
  "interpreter": {
   "hash": "3b92691d56bfc9d5af752bc6654e963678e4150a6c1b95c958d07e2434145127"
  }
 },
 "nbformat": 4,
 "nbformat_minor": 2,
 "cells": [
  {
   "source": [
    "## Train the model"
   ],
   "cell_type": "markdown",
   "metadata": {}
  },
  {
   "cell_type": "code",
   "execution_count": 5,
   "metadata": {},
   "outputs": [],
   "source": [
    "from utils import dataloader\n",
    "import utils.model\n",
    "from datetime import datetime\n",
    "from os.path import join\n",
    "from importlib import reload\n",
    "\n",
    "method_name = \"43_Prior_Baseline\"\n",
    "filter_timestamp = None#int(datetime(2021, 2, 19, 0).timestamp())\n",
    "use_user_index = join(\"indices\",\"user_index_w_type.parquet\")#\"train_user_index.parquet\"\n",
    "csv_data_location = join(\"data\",\"downloaded_data\")\n",
    "model_save_location = join(\"saved_models\",\"xgb_models_\"+method_name)\n",
    "result_logfile = join(\"logs\",\"3batches_results.csv\")\n",
    "full_result_logfile = join(\"logs\",\"results.csv\")"
   ]
  },
  {
   "cell_type": "code",
   "execution_count": 6,
   "metadata": {},
   "outputs": [
    {
     "output_type": "stream",
     "name": "stdout",
     "text": [
      "Loading User Index\n",
      "Randomly keeping only 98.0% of the users.\n",
      "Removing day counts\n",
      "Extracting combined user counts\n",
      "Created Dataloader in 59.51 seconds!\n"
     ]
    }
   ],
   "source": [
    "dl = dataloader.RecSys2021TSVDataLoader(\n",
    "    csv_data_location, \n",
    "    use_user_index, \n",
    "    mode=\"train\", \n",
    "    filter_timestamp=filter_timestamp, \n",
    "    verbose=2, \n",
    "    remove_day_counts=True, \n",
    "    keep_user_percent=0.98, \n",
    "    batch_size = 1500000,\n",
    "    load_n_batches = 1,\n",
    "    TE_smoothing = {\"reply\":40, \"like\":40, \"retweet\":20, \"retweet_comment\":15},\n",
    "    remove_user_counts=True,\n",
    "    add_normal_TE_noise_std= 0.0\n",
    "    )"
   ]
  },
  {
   "source": [
    "  TE_smoothing = {\"reply\":40, \"like\":40, \"retweet\":20, \"retweet_comment\":15}"
   ],
   "cell_type": "markdown",
   "metadata": {}
  },
  {
   "cell_type": "code",
   "execution_count": 8,
   "metadata": {},
   "outputs": [],
   "source": [
    "recsysxgb = utils.model.RecSysXGB1(model_dir = model_save_location)\n",
    "#recsys_neural = utils.model.RecSysNeural1(model_dir = model_save_location, n_input_features=90, device=\"cuda\")\n",
    "xgb_params = {'objective': 'binary:logistic', 'eval_metric':'map', 'max_depth':8, \"max_delta_step\":0}"
   ]
  },
  {
   "cell_type": "code",
   "execution_count": 7,
   "metadata": {},
   "outputs": [
    {
     "output_type": "stream",
     "name": "stdout",
     "text": [
      "Loaded Batch Nr. 1 in 10.30\n",
      "Timestamp Filtered Batch Nr. 1 in 0.00\n",
      "Did prepro part 1 of Batch Nr. 1 in 0.34\n",
      "Did prepro part 2 of Batch Nr. 1 in 18.93\n",
      "Did prepro part 3 of Batch Nr. 1 in 0.11\n",
      "Merged Users of Batch Nr. 1 in 25.70\n",
      "Extracted TE of Batch Nr. 1 in 16.39\n",
      "Finished Batch Nr. 1 from file part-00000.tsv in 74.86s!\n"
     ]
    }
   ],
   "source": [
    "model = utils.model.PriorPredModel()\n",
    "model.fit(dl)"
   ]
  },
  {
   "cell_type": "code",
   "execution_count": 9,
   "metadata": {},
   "outputs": [
    {
     "output_type": "stream",
     "name": "stdout",
     "text": [
      "Loaded Batch Nr. 1 in 10.82\n",
      "Timestamp Filtered Batch Nr. 1 in 0.00\n",
      "Did prepro part 1 of Batch Nr. 1 in 0.33\n",
      "Did prepro part 2 of Batch Nr. 1 in 18.52\n",
      "Did prepro part 3 of Batch Nr. 1 in 0.11\n",
      "Merged Users of Batch Nr. 1 in 27.01\n",
      "Extracted TE of Batch Nr. 1 in 16.05\n",
      "Finished Batch Nr. 1 from file part-00000.tsv in 75.91s!\n",
      "Finished 1 epochs.\n",
      "CPU times: user 53min 17s, sys: 33 s, total: 53min 50s\n",
      "Wall time: 8min 37s\n"
     ]
    }
   ],
   "source": [
    "%%time\n",
    "recsysxgb.fit(\n",
    "    train_loader= dl,\n",
    "    xgb_parameters = xgb_params,\n",
    "    boost_rounds_per_iteration = 20,\n",
    "    verbose = 1,\n",
    "    n_epochs = 1\n",
    ")\n",
    "#recsys_neural.fit(dl, 1, lr = 5 * 1e-5)"
   ]
  },
  {
   "source": [
    "## Evaluate the model"
   ],
   "cell_type": "markdown",
   "metadata": {}
  },
  {
   "cell_type": "code",
   "execution_count": 8,
   "metadata": {},
   "outputs": [
    {
     "output_type": "stream",
     "name": "stdout",
     "text": [
      "Loading User Index\n",
      "Removing day counts\n",
      "Extracting combined user counts\n",
      "Created Dataloader in 20.17 seconds!\n"
     ]
    }
   ],
   "source": [
    "#recsysxgb = utils.model.RecSysXGB1(model_save_location)\n",
    "#model = utils.model.RandomBaselineModel()\n",
    "val_data_location = join(\"data\",\"validation_data\")\n",
    "\n",
    "dl = dataloader.RecSys2021TSVDataLoader(\n",
    "    data_directory = val_data_location, \n",
    "    user_index_location = use_user_index,\n",
    "    mode=\"val\", \n",
    "    filter_timestamp=filter_timestamp, \n",
    "    verbose=2, \n",
    "    random_file_sampling=False, \n",
    "    load_n_batches=-1, \n",
    "    remove_day_counts=True,\n",
    "    TE_smoothing = {\"reply\":20, \"like\":20, \"retweet\":20, \"retweet_comment\":20},\n",
    "    batch_size = 1000000,\n",
    "    keep_user_percent=1,\n",
    "    remove_user_counts=True,\n",
    "    #normalize_batch=True\n",
    ")"
   ]
  },
  {
   "cell_type": "code",
   "execution_count": 9,
   "metadata": {},
   "outputs": [
    {
     "output_type": "stream",
     "name": "stdout",
     "text": [
      "Loaded Batch Nr. 1 in 8.19\n",
      "Timestamp Filtered Batch Nr. 1 in 0.00\n",
      "Did prepro part 1 of Batch Nr. 1 in 0.23\n",
      "Did prepro part 2 of Batch Nr. 1 in 12.68\n",
      "Did prepro part 3 of Batch Nr. 1 in 0.08\n",
      "Merged Users of Batch Nr. 1 in 24.41\n",
      "Extracted TE of Batch Nr. 1 in 15.34\n",
      "Finished Batch Nr. 1 from file part-00000.csv in 62.98s!\n",
      "Loaded Batch Nr. 2 in 9.65\n",
      "Timestamp Filtered Batch Nr. 2 in 0.00\n",
      "Did prepro part 1 of Batch Nr. 2 in 0.23\n",
      "Did prepro part 2 of Batch Nr. 2 in 12.59\n",
      "Did prepro part 3 of Batch Nr. 2 in 0.08\n",
      "Merged Users of Batch Nr. 2 in 23.79\n",
      "Extracted TE of Batch Nr. 2 in 15.38\n",
      "Finished Batch Nr. 2 from file part-00000.csv in 63.84s!\n",
      "Loaded Batch Nr. 3 in 9.88\n",
      "Timestamp Filtered Batch Nr. 3 in 0.00\n",
      "Did prepro part 1 of Batch Nr. 3 in 0.22\n",
      "Did prepro part 2 of Batch Nr. 3 in 12.56\n",
      "Did prepro part 3 of Batch Nr. 3 in 0.08\n",
      "Merged Users of Batch Nr. 3 in 23.82\n",
      "Extracted TE of Batch Nr. 3 in 15.35\n",
      "Finished Batch Nr. 3 from file part-00000.csv in 64.05s!\n",
      "Loaded Batch Nr. 4 in 10.94\n",
      "Timestamp Filtered Batch Nr. 4 in 0.00\n",
      "Did prepro part 1 of Batch Nr. 4 in 0.22\n",
      "Did prepro part 2 of Batch Nr. 4 in 12.59\n",
      "Did prepro part 3 of Batch Nr. 4 in 0.08\n",
      "Merged Users of Batch Nr. 4 in 23.46\n",
      "Extracted TE of Batch Nr. 4 in 15.45\n",
      "Finished Batch Nr. 4 from file part-00000.csv in 64.92s!\n",
      "Loaded Batch Nr. 5 in 11.52\n",
      "Timestamp Filtered Batch Nr. 5 in 0.00\n",
      "Did prepro part 1 of Batch Nr. 5 in 0.23\n",
      "Did prepro part 2 of Batch Nr. 5 in 12.49\n",
      "Did prepro part 3 of Batch Nr. 5 in 0.08\n",
      "Merged Users of Batch Nr. 5 in 23.55\n",
      "Extracted TE of Batch Nr. 5 in 15.38\n",
      "Finished Batch Nr. 5 from file part-00000.csv in 65.44s!\n",
      "Loaded Batch Nr. 6 in 12.55\n",
      "Timestamp Filtered Batch Nr. 6 in 0.00\n",
      "Did prepro part 1 of Batch Nr. 6 in 0.22\n",
      "Did prepro part 2 of Batch Nr. 6 in 12.62\n",
      "Did prepro part 3 of Batch Nr. 6 in 0.08\n",
      "Merged Users of Batch Nr. 6 in 23.11\n",
      "Extracted TE of Batch Nr. 6 in 15.40\n",
      "Finished Batch Nr. 6 from file part-00000.csv in 66.19s!\n",
      "Loaded Batch Nr. 7 in 13.46\n",
      "Timestamp Filtered Batch Nr. 7 in 0.00\n",
      "Did prepro part 1 of Batch Nr. 7 in 0.23\n",
      "Did prepro part 2 of Batch Nr. 7 in 12.61\n",
      "Did prepro part 3 of Batch Nr. 7 in 0.08\n",
      "Merged Users of Batch Nr. 7 in 23.81\n",
      "Extracted TE of Batch Nr. 7 in 15.39\n",
      "Finished Batch Nr. 7 from file part-00000.csv in 67.81s!\n",
      "Loaded Batch Nr. 8 in 14.09\n",
      "Timestamp Filtered Batch Nr. 8 in 0.00\n",
      "Did prepro part 1 of Batch Nr. 8 in 0.23\n",
      "Did prepro part 2 of Batch Nr. 8 in 12.59\n",
      "Did prepro part 3 of Batch Nr. 8 in 0.08\n",
      "Merged Users of Batch Nr. 8 in 24.11\n",
      "Extracted TE of Batch Nr. 8 in 15.41\n",
      "Finished Batch Nr. 8 from file part-00000.csv in 68.79s!\n",
      "Loaded Batch Nr. 9 in 15.65\n",
      "Timestamp Filtered Batch Nr. 9 in 0.00\n",
      "Did prepro part 1 of Batch Nr. 9 in 0.23\n",
      "Did prepro part 2 of Batch Nr. 9 in 12.78\n",
      "Did prepro part 3 of Batch Nr. 9 in 0.07\n",
      "Merged Users of Batch Nr. 9 in 22.06\n",
      "Extracted TE of Batch Nr. 9 in 14.97\n",
      "Finished Batch Nr. 9 from file part-00000.csv in 67.99s!\n",
      "Loaded Batch Nr. 10 in 16.70\n",
      "Timestamp Filtered Batch Nr. 10 in 0.00\n",
      "Did prepro part 1 of Batch Nr. 10 in 0.22\n",
      "Did prepro part 2 of Batch Nr. 10 in 12.28\n",
      "Did prepro part 3 of Batch Nr. 10 in 0.07\n",
      "Merged Users of Batch Nr. 10 in 22.80\n",
      "Extracted TE of Batch Nr. 10 in 14.98\n",
      "Finished Batch Nr. 10 from file part-00000.csv in 69.32s!\n",
      "Loaded Batch Nr. 11 in 16.75\n",
      "Timestamp Filtered Batch Nr. 11 in 0.00\n",
      "Did prepro part 1 of Batch Nr. 11 in 0.22\n",
      "Did prepro part 2 of Batch Nr. 11 in 12.26\n",
      "Did prepro part 3 of Batch Nr. 11 in 0.07\n",
      "Merged Users of Batch Nr. 11 in 23.52\n",
      "Extracted TE of Batch Nr. 11 in 15.71\n",
      "Finished Batch Nr. 11 from file part-00000.csv in 70.81s!\n",
      "Loaded Batch Nr. 12 in 20.03\n",
      "Timestamp Filtered Batch Nr. 12 in 0.00\n",
      "Did prepro part 1 of Batch Nr. 12 in 0.22\n",
      "Did prepro part 2 of Batch Nr. 12 in 12.64\n",
      "Did prepro part 3 of Batch Nr. 12 in 0.08\n",
      "Merged Users of Batch Nr. 12 in 25.13\n",
      "Extracted TE of Batch Nr. 12 in 15.36\n",
      "Finished Batch Nr. 12 from file part-00000.csv in 75.82s!\n",
      "Loaded Batch Nr. 13 in 28.10\n",
      "Timestamp Filtered Batch Nr. 13 in 0.00\n",
      "Did prepro part 1 of Batch Nr. 13 in 0.22\n",
      "Did prepro part 2 of Batch Nr. 13 in 12.69\n",
      "Did prepro part 3 of Batch Nr. 13 in 0.08\n",
      "Merged Users of Batch Nr. 13 in 24.08\n",
      "Extracted TE of Batch Nr. 13 in 15.40\n",
      "Finished Batch Nr. 13 from file part-00000.csv in 82.95s!\n",
      "Loaded Batch Nr. 14 in 20.33\n",
      "Timestamp Filtered Batch Nr. 14 in 0.00\n",
      "Did prepro part 1 of Batch Nr. 14 in 0.22\n",
      "Did prepro part 2 of Batch Nr. 14 in 12.64\n",
      "Did prepro part 3 of Batch Nr. 14 in 0.08\n",
      "Merged Users of Batch Nr. 14 in 25.01\n",
      "Extracted TE of Batch Nr. 14 in 15.46\n",
      "Finished Batch Nr. 14 from file part-00000.csv in 76.16s!\n",
      "Loaded Batch Nr. 15 in 34.61\n",
      "Timestamp Filtered Batch Nr. 15 in 0.00\n",
      "Did prepro part 1 of Batch Nr. 15 in 0.10\n",
      "Did prepro part 2 of Batch Nr. 15 in 5.88\n",
      "Did prepro part 3 of Batch Nr. 15 in 0.04\n",
      "Merged Users of Batch Nr. 15 in 24.50\n",
      "Extracted TE of Batch Nr. 15 in 14.00\n",
      "Finished Batch Nr. 15 from file part-00000.csv in 80.48s!\n"
     ]
    }
   ],
   "source": [
    "res = model.evaluate_validation_set(dl, store_results_file=full_result_logfile, validation_run_name=method_name)"
   ]
  },
  {
   "cell_type": "code",
   "execution_count": 12,
   "metadata": {},
   "outputs": [
    {
     "output_type": "stream",
     "name": "stdout",
     "text": [
      "Q1_reply_rce                    : -12.585719490603209\nQ1_retweet_rce                  : 0.4125306471494561\nQ1_retweet_comment_rce          : -6.146190616662284\nQ1_like_rce                     : -12.167885394376965\nQ1_reply_avg_prec               : 0.1211784738452119\nQ1_retweet_avg_prec             : 0.3180248997974516\nQ1_retweet_comment_avg_prec     : 0.024446132102799913\nQ1_like_avg_prec                : 0.5592943225962173\nQ2_reply_rce                    : -2.3790892398693586\nQ2_retweet_rce                  : 7.739039833443629\nQ2_retweet_comment_rce          : -4.303713220733707\nQ2_like_rce                     : -3.241459100826116\nQ2_reply_avg_prec               : 0.15038604849459117\nQ2_retweet_avg_prec             : 0.3225702729386979\nQ2_retweet_comment_avg_prec     : 0.024064927702804485\nQ2_like_avg_prec                : 0.5561679729119796\nQ3_reply_rce                    : 6.126517344773886\nQ3_retweet_rce                  : 13.491213765462906\nQ3_retweet_comment_rce          : -0.7078152830194417\nQ3_like_rce                     : 2.565320862940401\nQ3_reply_avg_prec               : 0.18418360667101466\nQ3_retweet_avg_prec             : 0.3500528687549211\nQ3_retweet_comment_avg_prec     : 0.029967716802815295\nQ3_like_avg_prec                : 0.5711194741118905\nQ4_reply_rce                    : 7.703332302270427\nQ4_retweet_rce                  : 16.381991294541553\nQ4_retweet_comment_rce          : 3.757566312398253\nQ4_like_rce                     : 5.905522964369247\nQ4_reply_avg_prec               : 0.15441583971798134\nQ4_retweet_avg_prec             : 0.3648171090256241\nQ4_retweet_comment_avg_prec     : 0.03585552361328042\nQ4_like_avg_prec                : 0.6049286445926418\nQ5_reply_rce                    : 5.647274780372302\nQ5_retweet_rce                  : 14.23122738732464\nQ5_retweet_comment_rce          : 4.089429370080122\nQ5_like_rce                     : 8.047404914340262\nQ5_reply_avg_prec               : 0.10299525360322603\nQ5_retweet_avg_prec             : 0.2990998870374847\nQ5_retweet_comment_avg_prec     : 0.03434274189168045\nQ5_like_avg_prec                : 0.6405524502857302\nTOTAL_reply_rce                 : 0.9024631393888095\nTOTAL_retweet_rce               : 10.451200585584436\nTOTAL_retweet_comment_rce       : -0.6621446875874115\nTOTAL_like_rce                  : 0.22178084928936598\nTOTAL_reply_avg_prec            : 0.14263184446640503\nTOTAL_retweet_avg_prec          : 0.33091300751083585\nTOTAL_retweet_comment_avg_prec  : 0.029735408422676114\nTOTAL_like_avg_prec             : 0.586412572899692\n"
     ]
    }
   ],
   "source": [
    "for key in res:\n",
    "    print(f\"{key:32}: {res[key]}\")"
   ]
  },
  {
   "cell_type": "code",
   "execution_count": 13,
   "metadata": {
    "tags": []
   },
   "outputs": [
    {
     "output_type": "stream",
     "name": "stdout",
     "text": [
      "\nhas_reply:\n{'TE_reply_b_B': 735.350947829531, 'TE_reply_a_A': 376.37462088576865, 'TE_like_b_TopLevel_B': 100.13497553691674, 'type_encoding': 97.2133077297846, 'a_follows_b': 86.46060753400002, 'TE_reply_b_TopLevel_B': 84.86845846827272, 'TE_reply_b_Quote_B': 65.84351171276433, 'TE_retweet_b_TopLevel_B': 60.80687721988095, 'TE_like_b_Quote_B': 52.61863481170639, 'TE_reply_b_Retweet_B': 49.23593328271971, 'TE_like_b_A': 45.121439091351355, 'photo_count': 40.56001616166667, 'TE_like_a_TopLevel_A': 37.43380112304284, 'TE_retweet_comment_a_TopLevel_A': 36.820448405644065, 'TE_like_b_B': 36.22819135241667, 'TE_reply_a_TopLevel_A': 35.549748509981555, 'TE_reply_a_Quote_A': 32.027620360622954, 'a_follower_count': 31.441350596188673, 'TE_reply_a_B': 30.992988409957448, 'TE_retweet_comment_b_TopLevel_B': 30.766983620190477, 'TE_retweet_comment_a_A': 30.348533817285723, 'TE_retweet_comment_a_TopLevel_B': 27.112423234565224, 'TE_like_a_TopLevel_B': 26.035899335342858, 'TE_like_b_Retweet_B': 25.917251820799997, 'TE_retweet_a_B': 24.578752270259262, 'TE_retweet_comment_b_B': 23.15158708090322, 'TE_reply_a_Retweet_A': 22.520141873203603, 'TE_retweet_comment_b_Retweet_A': 21.836519454541673, 'TE_like_a_A': 21.343626149565218, 'TE_retweet_a_Retweet_A': 19.784573541724136, 'TE_reply_b_TopLevel_A': 17.758630474, 'TE_like_b_Retweet_A': 17.606679701870963, 'TE_retweet_comment_b_Retweet_B': 17.181661237967905, 'a_b_follower_ratio': 16.4578372737, 'TE_retweet_comment_a_Retweet_A': 16.437686927938774, 'TE_like_a_B': 15.629357669483868, 'TE_retweet_comment_b_Quote_B': 14.659222670297869, 'TE_like_b_TopLevel_A': 14.263506290666665, 'b_follower_count': 13.667302002507046, 'language_encoding': 13.565400266000001, 'TE_retweet_a_TopLevel_A': 13.140318953255816, 'TE_reply_b_A': 13.099505271333335, 'TE_retweet_comment_a_Quote_A': 12.949858467230769, 'TE_like_a_Quote_A': 12.795870321136364, 'TE_retweet_b_A': 12.502500168185186, 'b_creation_delta': 12.424642036333337, 'TE_retweet_b_Quote_B': 12.407090208928569, 'TE_like_a_Retweet_A': 12.116686329016131, 'TE_reply_a_Retweet_B': 12.093473238645162, 'TE_reply_b_Retweet_A': 12.052070306272727, 'a_is_verified': 11.98280644, 'TE_retweet_a_A': 11.748966710625002, 'TE_retweet_b_B': 11.618974960736843, 'TE_retweet_b_Retweet_B': 11.371863960085713, 'TE_retweet_comment_b_A': 10.488844336111114, 'bert_token_len': 10.334788491632652, 'TE_retweet_b_Retweet_A': 10.163364912277778, 'a_creation_delta': 9.45431252, 'TE_retweet_a_Quote_A': 9.41895406941951, 'TE_reply_a_TopLevel_B': 8.93448859191176, 'TE_reply_b_Quote_A': 8.819671916875, 'hour_of_day': 8.638589191923076, 'a_following_count': 8.56912028725, 'b_following_count': 8.50937338645833, 'TE_retweet_a_TopLevel_B': 8.183331822534884, 'TE_retweet_a_Quote_B': 8.141043765517242, 'a_b_following_ratio': 8.082364855394735, 'TE_retweet_comment_b_TopLevel_A': 8.078436575, 'TE_like_a_Retweet_B': 8.055443899295833, 'TE_reply_a_Quote_B': 8.049649234999999, 'TE_retweet_comment_a_Quote_B': 7.938351414090909, 'TE_like_b_Quote_A': 7.7724766734375015, 'TE_like_a_Quote_B': 7.576505992366667, 'TE_retweet_a_Retweet_B': 7.105479877095237, 'TE_retweet_comment_a_Retweet_B': 6.763648246, 'TE_retweet_comment_b_Quote_A': 6.709247112071429, 'TE_retweet_b_TopLevel_A': 6.686166048475, 'TE_retweet_b_Quote_A': 6.6856121858125, 'TE_retweet_comment_a_B': 6.5639856836999995, 'day_of_week': 6.4101619749999985, 'a_b_creation_delta': 5.381229051971429, 'gif_count': 4.45510101}\n\nhas_retweet:\n{'TE_retweet_b_B': 1314.9245310258787, 'TE_retweet_a_A': 595.1989010112901, 'TE_retweet_comment_b_Quote_A': 167.40395585214287, 'TE_like_b_Retweet_A': 120.84354879120002, 'TE_retweet_a_Retweet_A': 101.09821354838459, 'TE_like_b_B': 97.62905287558665, 'TE_retweet_b_TopLevel_B': 88.71397012849445, 'TE_retweet_b_Retweet_B': 76.6801521865069, 'type_encoding': 76.0667829078188, 'TE_like_b_Retweet_B': 75.2430448218913, 'TE_like_a_A': 60.25431762510314, 'TE_like_b_A': 57.69761466336958, 'TE_like_a_Retweet_B': 52.35115527428571, 'TE_retweet_comment_a_Retweet_B': 48.9966518888889, 'a_follows_b': 48.106839824, 'TE_reply_b_Retweet_B': 47.74589658234374, 'TE_like_b_TopLevel_B': 46.838966316211106, 'TE_retweet_a_TopLevel_A': 45.43313554372556, 'TE_like_a_Retweet_A': 44.75914146333332, 'TE_retweet_comment_a_A': 44.00016966945454, 'TE_reply_b_B': 43.792895998230776, 'TE_reply_a_Retweet_B': 43.37396265957448, 'TE_like_a_B': 42.715357725576915, 'TE_reply_a_A': 41.950367477066685, 'TE_reply_b_TopLevel_B': 41.76003375893617, 'TE_like_a_TopLevel_A': 40.55497271732557, 'photo_count': 40.007660432666675, 'a_follower_count': 39.96348456820349, 'TE_like_b_Quote_B': 38.71115787537037, 'TE_retweet_b_Quote_B': 38.37092187369998, 'TE_reply_a_Retweet_A': 38.011295263621236, 'TE_retweet_comment_b_B': 37.139907734259246, 'a_b_follower_ratio': 34.300843296000004, 'TE_reply_b_Quote_B': 32.65838178, 'video_count': 29.345542899999998, 'bert_token_len': 28.432981629329607, 'TE_retweet_comment_b_Quote_B': 28.26361520233928, 'TE_retweet_comment_a_Quote_A': 25.486798400117646, 'TE_retweet_a_Quote_A': 25.26453104209677, 'TE_retweet_comment_a_B': 24.666834008823532, 'language_encoding': 23.772491995526316, 'TE_retweet_b_Retweet_A': 23.65838214866667, 'TE_retweet_comment_a_Retweet_A': 23.120159227469387, 'TE_retweet_a_TopLevel_B': 22.51158444041667, 'b_creation_delta': 21.34806245089887, 'TE_retweet_b_A': 20.34240113076923, 'TE_like_b_TopLevel_A': 20.33884837222222, 'TE_retweet_comment_b_TopLevel_B': 19.69515554902941, 'TE_reply_a_Quote_A': 17.710829534333335, 'TE_like_a_Quote_A': 17.453275756162164, 'TE_retweet_comment_b_Retweet_B': 17.364162266814287, 'TE_like_b_Quote_A': 16.491342926, 'TE_retweet_comment_b_TopLevel_A': 16.28218293833333, 'TE_retweet_a_B': 15.490362555000003, 'TE_retweet_a_Retweet_B': 15.351989015599997, 'a_is_verified': 15.1200752, 'TE_reply_a_TopLevel_B': 14.550401936842105, 'TE_reply_a_TopLevel_A': 14.160648750878789, 'b_following_count': 13.523752630212767, 'TE_like_a_TopLevel_B': 13.51787025862069, 'TE_reply_b_Retweet_A': 13.255869229666665, 'TE_retweet_b_TopLevel_A': 13.231739235000001, 'TE_retweet_comment_a_TopLevel_A': 13.230510122333333, 'TE_reply_a_B': 13.200757373333335, 'a_creation_delta': 13.077948367163263, 'b_follower_count': 13.049544149497677, 'TE_reply_b_TopLevel_A': 12.83815854333333, 'TE_reply_a_Quote_B': 12.02571707375, 'a_b_following_ratio': 11.895445458301888, 'TE_like_a_Quote_B': 11.683148061363637, 'a_following_count': 11.556370445137931, 'day_of_week': 11.333721536, 'TE_retweet_b_Quote_A': 11.016177037999999, 'TE_retweet_a_Quote_B': 10.42294493137931, 'TE_retweet_comment_b_A': 10.279226771666666, 'TE_retweet_comment_b_Retweet_A': 9.697044094285713, 'TE_reply_b_A': 9.43815591625, 'TE_retweet_comment_a_TopLevel_B': 8.854914814210526, 'TE_reply_b_Quote_A': 8.660132406833334, 'a_b_creation_delta': 8.654860767217391, 'hour_of_day': 7.598327293749999, 'TE_retweet_comment_a_Quote_B': 7.270253551111111}\n\nhas_retweet_comment:\n{'TE_retweet_comment_b_B': 240.70094091180096, 'TE_retweet_comment_a_A': 82.61076145241046, 'TE_retweet_comment_b_TopLevel_B': 25.46176460921323, 'TE_retweet_comment_b_Retweet_B': 20.85320320182051, 'type_encoding': 20.539419183095248, 'TE_reply_a_TopLevel_A': 18.660869343543478, 'TE_retweet_comment_a_TopLevel_A': 15.784068481120373, 'TE_retweet_comment_a_Retweet_A': 14.036665056091664, 'TE_retweet_a_A': 13.297176395499998, 'TE_like_b_Quote_B': 13.189676186005773, 'TE_reply_b_Retweet_B': 13.07356543445, 'TE_retweet_b_TopLevel_B': 12.922705787425532, 'TE_retweet_comment_a_Quote_B': 12.735670174394738, 'TE_reply_b_TopLevel_B': 12.699488031581398, 'TE_retweet_comment_b_Quote_B': 11.81069158755, 'TE_like_b_B': 10.536810883255816, 'a_b_follower_ratio': 10.49165557030769, 'TE_reply_a_Retweet_A': 9.799664419499997, 'TE_reply_b_Retweet_A': 9.796722074705881, 'TE_like_b_Retweet_B': 9.551328320604444, 'TE_like_a_A': 9.411345093468753, 'TE_retweet_b_Retweet_B': 9.406271122117648, 'a_follows_b': 9.207795619999999, 'TE_like_b_A': 9.17857160806452, 'TE_like_b_TopLevel_B': 8.963050224410257, 'photo_count': 8.955622500127658, 'TE_retweet_b_B': 8.86884961335135, 'TE_retweet_b_A': 8.367157108947367, 'TE_reply_a_B': 8.1893089066, 'video_count': 8.127425280454547, 'TE_retweet_comment_b_Retweet_A': 8.031397679166666, 'TE_retweet_comment_a_Quote_A': 7.969213672012502, 'TE_like_a_TopLevel_A': 7.736604687628569, 'a_follower_count': 7.721559854092779, 'bert_token_len': 7.65193743979, 'TE_reply_a_Retweet_B': 7.624680041536586, 'TE_retweet_a_Quote_A': 7.5825162862424245, 'TE_like_a_B': 7.508394171395831, 'TE_like_b_Quote_A': 7.465019290666667, 'TE_retweet_comment_b_A': 7.404336034874999, 'day_of_week': 7.3055101136363625, 'b_following_count': 7.212908648019231, 'TE_like_b_TopLevel_A': 7.178487300323528, 'language_encoding': 7.1042941965, 'TE_like_a_Quote_A': 6.989366946600001, 'TE_retweet_a_TopLevel_B': 6.90753788678276, 'TE_reply_a_Quote_A': 6.896319444545455, 'TE_reply_b_B': 6.865804792315789, 'TE_reply_b_A': 6.8614073011, 'TE_retweet_a_B': 6.715939535379309, 'TE_like_a_TopLevel_B': 6.706970330377775, 'TE_retweet_comment_b_Quote_A': 6.663619607142856, 'TE_retweet_b_TopLevel_A': 6.5067497001764725, 'TE_like_a_Retweet_A': 6.471108264461538, 'TE_reply_a_A': 6.317132583333334, 'TE_retweet_b_Quote_A': 6.142980643529412, 'TE_reply_b_Quote_A': 6.069595922538462, 'TE_retweet_a_Retweet_A': 6.032637421820513, 'TE_reply_b_TopLevel_A': 6.003108139322581, 'TE_retweet_a_TopLevel_A': 6.002315809184212, 'TE_retweet_comment_a_Retweet_B': 5.825326912705883, 'b_follower_count': 5.820530273399998, 'TE_reply_b_Quote_B': 5.7720013216, 'TE_retweet_comment_b_TopLevel_A': 5.759711890208332, 'b_creation_delta': 5.7432310367752795, 'TE_like_a_Retweet_B': 5.57066978102564, 'TE_retweet_comment_a_B': 5.553721035, 'a_following_count': 5.549591571179486, 'TE_retweet_b_Quote_B': 5.407103912236841, 'a_creation_delta': 5.396874930941176, 'TE_retweet_comment_a_TopLevel_B': 5.391177000023254, 'a_b_following_ratio': 5.329232390346156, 'TE_reply_a_TopLevel_B': 5.217229786707318, 'TE_like_b_Retweet_A': 5.110355639666666, 'b_is_verified': 5.08532715, 'a_b_creation_delta': 5.050362560393444, 'TE_retweet_a_Quote_B': 4.900545566216216, 'a_is_verified': 4.72504234, 'TE_retweet_a_Retweet_B': 4.687846105030303, 'TE_reply_a_Quote_B': 4.659171973076922, 'hour_of_day': 4.6458565948, 'TE_retweet_b_Retweet_A': 4.1113472428749995, 'TE_like_a_Quote_B': 3.9312996442000006}\n\nhas_like:\n{'TE_like_a_A': 3444.6209093371062, 'TE_retweet_comment_b_Quote_A': 1709.7544974900004, 'type_encoding': 457.1860188157795, 'TE_like_b_TopLevel_B': 413.8254742072521, 'a_follower_count': 337.2331410107648, 'TE_like_a_TopLevel_A': 286.8296010184307, 'TE_like_b_Retweet_B': 265.91147371782887, 'a_follows_b': 250.93724990711112, 'TE_like_b_Quote_B': 241.1957893329122, 'TE_retweet_comment_a_A': 200.23533114961532, 'TE_retweet_comment_a_TopLevel_A': 199.86721047606565, 'TE_like_a_Retweet_A': 193.3670318456061, 'TE_retweet_b_B': 192.13491641001386, 'photo_count': 172.19481074874994, 'TE_like_a_Quote_A': 171.2587809701075, 'a_b_follower_ratio': 135.08078840497708, 'TE_like_b_B': 132.78538294487, 'TE_retweet_b_Retweet_B': 129.73532442389833, 'TE_like_b_A': 129.35949213714284, 'b_creation_delta': 111.36843990602343, 'TE_reply_b_B': 107.14802580316454, 'a_is_verified': 104.85359804, 'TE_reply_b_Retweet_B': 98.38453373311367, 'TE_reply_a_TopLevel_A': 95.8414911891207, 'TE_retweet_comment_b_Quote_B': 94.32323018930136, 'TE_reply_b_TopLevel_B': 90.15216035316453, 'TE_retweet_a_TopLevel_A': 80.08601827249998, 'TE_retweet_a_A': 79.35348506800003, 'TE_retweet_b_Quote_A': 78.06911972083333, 'TE_reply_a_A': 76.82945928720837, 'TE_retweet_comment_b_Retweet_B': 76.7250624253442, 'TE_like_a_B': 75.09035406941176, 'TE_retweet_comment_b_TopLevel_B': 63.58733566070366, 'TE_retweet_b_TopLevel_A': 62.10919374523809, 'bert_token_len': 61.904165229156625, 'TE_retweet_a_Retweet_A': 61.57941465672151, 'TE_reply_a_Retweet_B': 56.832262670000006, 'TE_reply_a_Retweet_A': 55.35483723179486, 'TE_retweet_comment_a_Quote_A': 48.72269238041667, 'TE_retweet_comment_b_Retweet_A': 47.63119986923077, 'TE_retweet_b_TopLevel_B': 45.49645905916979, 'a_b_following_ratio': 44.936085502196725, 'TE_like_b_Quote_A': 44.6638537611111, 'language_encoding': 42.77666126974358, 'TE_retweet_comment_b_B': 41.569382256820504, 'TE_like_a_Retweet_B': 40.9828723360606, 'TE_retweet_comment_a_Retweet_A': 39.897607918644084, 'b_following_count': 38.29339699144317, 'TE_like_b_TopLevel_A': 36.34367639952381, 'TE_reply_b_Retweet_A': 35.73073812105264, 'TE_reply_a_Quote_A': 34.755696236525004, 'TE_retweet_a_Retweet_B': 32.21778552366667, 'a_creation_delta': 31.543100719682542, 'TE_retweet_comment_a_Quote_B': 28.0634954075, 'TE_retweet_a_B': 27.89513965157894, 'TE_reply_a_TopLevel_B': 27.42829492176471, 'TE_retweet_comment_a_Retweet_B': 26.025695215714286, 'a_following_count': 24.855525697317077, 'TE_reply_a_Quote_B': 23.5757285075, 'TE_retweet_b_Retweet_A': 23.531902870909086, 'TE_retweet_b_Quote_B': 22.363280702105254, 'TE_like_a_Quote_B': 20.362411902857144, 'TE_like_a_TopLevel_B': 19.77509327172414, 'TE_retweet_b_A': 19.255931801304342, 'TE_retweet_comment_b_A': 19.234925456875, 'TE_retweet_comment_a_TopLevel_B': 19.18485559, 'TE_retweet_comment_a_B': 18.880381378846156, 'TE_reply_a_B': 18.395131615589747, 'TE_reply_b_Quote_B': 17.83673196005263, 'b_follower_count': 17.733656796097566, 'TE_like_b_Retweet_A': 16.910416941176468, 'TE_retweet_a_Quote_B': 16.08119497725, 'TE_retweet_a_TopLevel_B': 15.173277899000002, 'TE_retweet_a_Quote_A': 14.617884572142858, 'video_count': 12.409226714, 'TE_retweet_comment_b_TopLevel_A': 12.205582427692304, 'TE_reply_b_TopLevel_A': 12.149156527692307, 'TE_reply_b_A': 10.115559734666668, 'a_b_creation_delta': 10.04738783875, 'TE_reply_b_Quote_A': 7.548509656999999, 'day_of_week': 7.3959423412500005, 'hour_of_day': 6.8483274120000015, 'gif_count': 6.37105465}\n"
     ]
    }
   ],
   "source": [
    "for target in recsysxgb.targets__:\n",
    "    print(f\"\\n{target}:\")\n",
    "    print(dict(sorted(recsysxgb.clfs_[target].get_score(importance_type='gain').items(), key=lambda item: item[1], reverse=True)))"
   ]
  },
  {
   "cell_type": "code",
   "execution_count": null,
   "metadata": {},
   "outputs": [],
   "source": []
  }
 ]
}