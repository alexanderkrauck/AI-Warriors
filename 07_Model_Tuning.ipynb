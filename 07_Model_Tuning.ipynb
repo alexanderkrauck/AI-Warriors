{
 "metadata": {
  "language_info": {
   "codemirror_mode": {
    "name": "ipython",
    "version": 3
   },
   "file_extension": ".py",
   "mimetype": "text/x-python",
   "name": "python",
   "nbconvert_exporter": "python",
   "pygments_lexer": "ipython3",
   "version": "3.9.5"
  },
  "orig_nbformat": 2,
  "kernelspec": {
   "name": "python3",
   "display_name": "Python 3.9.5 64-bit ('m1': conda)"
  },
  "metadata": {
   "interpreter": {
    "hash": "3b92691d56bfc9d5af752bc6654e963678e4150a6c1b95c958d07e2434145127"
   }
  },
  "interpreter": {
   "hash": "3b92691d56bfc9d5af752bc6654e963678e4150a6c1b95c958d07e2434145127"
  }
 },
 "nbformat": 4,
 "nbformat_minor": 2,
 "cells": [
  {
   "source": [
    "## Train the model"
   ],
   "cell_type": "markdown",
   "metadata": {}
  },
  {
   "cell_type": "code",
   "execution_count": 1,
   "metadata": {},
   "outputs": [],
   "source": [
    "from utils import dataloader\n",
    "import utils.model\n",
    "from datetime import datetime\n",
    "from os.path import join\n",
    "from importlib import reload\n",
    "\n",
    "method_name = \"33_0.05_noise_0maxdeltastep\"\n",
    "filter_timestamp = None#int(datetime(2021, 2, 19, 0).timestamp())\n",
    "use_user_index = join(\"indices\",\"user_index_w_type.parquet\")#\"train_user_index.parquet\"\n",
    "csv_data_location = join(\"data\",\"downloaded_data\")\n",
    "model_save_location = join(\"saved_models\",\"xgb_models_\"+method_name)\n",
    "result_logfile = join(\"logs\",\"3batches_results.csv\")"
   ]
  },
  {
   "cell_type": "code",
   "execution_count": 2,
   "metadata": {},
   "outputs": [
    {
     "output_type": "stream",
     "name": "stdout",
     "text": [
      "Loading User Index\n",
      "Randomly keeping only 98.0% of the users.\n",
      "Removing day counts\n",
      "Extracting combined user counts\n",
      "Created Dataloader in 45.76 seconds!\n"
     ]
    }
   ],
   "source": [
    "dl = dataloader.RecSys2021TSVDataLoader(\n",
    "    csv_data_location, \n",
    "    use_user_index, \n",
    "    mode=\"train\", \n",
    "    filter_timestamp=filter_timestamp, \n",
    "    verbose=2, \n",
    "    remove_day_counts=True, \n",
    "    keep_user_percent=0.98, \n",
    "    batch_size = 1500000,\n",
    "    load_n_batches = 1,\n",
    "    TE_smoothing = {\"reply\":40, \"like\":40, \"retweet\":20, \"retweet_comment\":15},\n",
    "    remove_user_counts=True,\n",
    "    add_normal_TE_noise_std= 0.05\n",
    "    )"
   ]
  },
  {
   "cell_type": "code",
   "execution_count": 3,
   "metadata": {},
   "outputs": [],
   "source": [
    "recsysxgb = utils.model.RecSysXGB1(model_dir = model_save_location)\n",
    "xgb_params = {'objective': 'binary:logistic', 'eval_metric':'logloss', 'max_depth':8, \"max_delta_step\":0}"
   ]
  },
  {
   "cell_type": "code",
   "execution_count": 4,
   "metadata": {},
   "outputs": [
    {
     "output_type": "stream",
     "name": "stdout",
     "text": [
      "Loaded Batch Nr. 1 in 7.53\n",
      "Timestamp Filtered Batch Nr. 1 in 0.00\n",
      "Did prepro part 1 of 1 in 0.34\n",
      "Did prepro part 2 of 1 in 18.43\n",
      "Did prepro part 3 of 1 in 0.11\n",
      "Merged Users of 1 in 24.65\n",
      "Extracted TE of 1 in 18.77\n",
      "Finished Batch Nr. 1 from file part-00000.tsv in 72.85s!\n",
      "Finished 1 epochs.\n",
      "CPU times: user 1h 30min, sys: 45.5 s, total: 1h 30min 45s\n",
      "Wall time: 13min 52s\n"
     ]
    }
   ],
   "source": [
    "%%time\n",
    "recsysxgb.fit(\n",
    "    train_loader= dl,\n",
    "    xgb_parameters = xgb_params,\n",
    "    boost_rounds_per_iteration = 20,\n",
    "    verbose = 1,\n",
    "    n_epochs = 1\n",
    ")"
   ]
  },
  {
   "source": [
    "## Evaluate the model"
   ],
   "cell_type": "markdown",
   "metadata": {}
  },
  {
   "cell_type": "code",
   "execution_count": 5,
   "metadata": {},
   "outputs": [
    {
     "output_type": "stream",
     "name": "stdout",
     "text": [
      "Loading User Index\n",
      "Removing day counts\n",
      "Extracting combined user counts\n",
      "Created Dataloader in 12.50 seconds!\n"
     ]
    }
   ],
   "source": [
    "recsysxgb = utils.model.RecSysXGB1(model_save_location)\n",
    "val_data_location = join(\"data\",\"validation_data\")\n",
    "\n",
    "dl = dataloader.RecSys2021TSVDataLoader(\n",
    "    data_directory = val_data_location, \n",
    "    user_index_location = use_user_index,\n",
    "    mode=\"val\", \n",
    "    filter_timestamp=filter_timestamp, \n",
    "    verbose=2, \n",
    "    random_file_sampling=False, \n",
    "    load_n_batches=3, \n",
    "    remove_day_counts=True,\n",
    "    batch_size = 1000000,\n",
    "    keep_user_percent=1,\n",
    "    remove_user_counts=True\n",
    ")"
   ]
  },
  {
   "cell_type": "code",
   "execution_count": 6,
   "metadata": {},
   "outputs": [
    {
     "output_type": "stream",
     "name": "stdout",
     "text": [
      "Loaded Batch Nr. 1 in 4.94\n",
      "Timestamp Filtered Batch Nr. 1 in 0.00\n",
      "Did prepro part 1 of 1 in 0.22\n",
      "Did prepro part 2 of 1 in 12.36\n",
      "Did prepro part 3 of 1 in 0.07\n",
      "Merged Users of 1 in 23.32\n",
      "Extracted TE of 1 in 14.98\n",
      "Finished Batch Nr. 1 from file part-00000.csv in 57.89s!\n",
      "Loaded Batch Nr. 2 in 5.82\n",
      "Timestamp Filtered Batch Nr. 2 in 0.00\n",
      "Did prepro part 1 of 2 in 0.21\n",
      "Did prepro part 2 of 2 in 12.42\n",
      "Did prepro part 3 of 2 in 0.07\n",
      "Merged Users of 2 in 21.65\n",
      "Extracted TE of 2 in 14.88\n",
      "Finished Batch Nr. 2 from file part-00000.csv in 57.02s!\n",
      "Loaded Batch Nr. 3 in 6.70\n",
      "Timestamp Filtered Batch Nr. 3 in 0.00\n",
      "Did prepro part 1 of 3 in 0.22\n",
      "Did prepro part 2 of 3 in 12.38\n",
      "Did prepro part 3 of 3 in 0.07\n",
      "Merged Users of 3 in 22.17\n",
      "Extracted TE of 3 in 15.00\n",
      "Finished Batch Nr. 3 from file part-00000.csv in 58.59s!\n"
     ]
    }
   ],
   "source": [
    "res = recsysxgb.evaluate_validation_set(dl, store_results_file=result_logfile, validation_run_name=method_name)"
   ]
  },
  {
   "cell_type": "code",
   "execution_count": 7,
   "metadata": {},
   "outputs": [
    {
     "output_type": "stream",
     "name": "stdout",
     "text": [
      "Q1_reply_rce                    : 17.19306231467185\nQ1_retweet_rce                  : 15.806994007718467\nQ1_retweet_comment_rce          : 6.578871030452227\nQ1_like_rce                     : 6.326756895025232\nQ1_reply_avg_prec               : 0.16847035085312123\nQ1_retweet_avg_prec             : 0.3522366348413583\nQ1_retweet_comment_avg_prec     : 0.04266301088430227\nQ1_like_avg_prec                : 0.5712954520336122\nQ2_reply_rce                    : 19.386015987269168\nQ2_retweet_rce                  : 18.317730476619353\nQ2_retweet_comment_rce          : 7.4926811005397\nQ2_like_rce                     : 6.4936511023766075\nQ2_reply_avg_prec               : 0.1926149047835078\nQ2_retweet_avg_prec             : 0.3459767288853279\nQ2_retweet_comment_avg_prec     : 0.041310461975374496\nQ2_like_avg_prec                : 0.5583947703919344\nQ3_reply_rce                    : 22.04401847799914\nQ3_retweet_rce                  : 20.1304995095671\nQ3_retweet_comment_rce          : 9.17981725123267\nQ3_like_rce                     : 8.770962608423616\nQ3_reply_avg_prec               : 0.22540600112518872\nQ3_retweet_avg_prec             : 0.36534140656060715\nQ3_retweet_comment_avg_prec     : 0.04927756874869589\nQ3_like_avg_prec                : 0.573906103020978\nQ4_reply_rce                    : 20.369504303690956\nQ4_retweet_rce                  : 21.50108394206276\nQ4_retweet_comment_rce          : 9.35888707875191\nQ4_like_rce                     : 10.958128641539355\nQ4_reply_avg_prec               : 0.1855439512641907\nQ4_retweet_avg_prec             : 0.37642532419864383\nQ4_retweet_comment_avg_prec     : 0.04558065925564162\nQ4_like_avg_prec                : 0.6073752893569241\nQ5_reply_rce                    : 15.291867118374537\nQ5_retweet_rce                  : 20.026727951415644\nQ5_retweet_comment_rce          : 8.774782653114777\nQ5_like_rce                     : 13.12593924411386\nQ5_reply_avg_prec               : 0.11650635020824035\nQ5_retweet_avg_prec             : 0.316987640632122\nQ5_retweet_comment_avg_prec     : 0.039733497216877044\nQ5_like_avg_prec                : 0.6461297683888335\nTOTAL_reply_rce                 : 18.856893640401132\nTOTAL_retweet_rce               : 19.156607177476666\nTOTAL_retweet_comment_rce       : 8.277007822818256\nTOTAL_like_rce                  : 9.135087698295735\nTOTAL_reply_avg_prec            : 0.17770831164684978\nTOTAL_retweet_avg_prec          : 0.3513935470236118\nTOTAL_retweet_comment_avg_prec  : 0.04371303961617826\nTOTAL_like_avg_prec             : 0.5914202766384564\n"
     ]
    }
   ],
   "source": [
    "for key in res:\n",
    "    print(f\"{key:32}: {res[key]}\")"
   ]
  },
  {
   "cell_type": "code",
   "execution_count": 8,
   "metadata": {
    "tags": []
   },
   "outputs": [
    {
     "output_type": "stream",
     "name": "stdout",
     "text": [
      "\nhas_reply:\n{'type_encoding': 516.0185199718644, 'a_follows_b': 272.93308897021274, 'TE_reply_b_B': 155.77995340318492, 'TE_reply_b_TopLevel_B': 129.09025256397956, 'TE_reply_a_TopLevel_A': 100.6807867513584, 'TE_reply_a_A': 48.900253671830555, 'photo_count': 41.749488106, 'TE_like_b_TopLevel_B': 39.48130324687211, 'a_follower_count': 36.12854599777085, 'TE_like_b_B': 33.666527354503295, 'TE_retweet_b_B': 26.722678859827585, 'language_encoding': 26.712142765000003, 'a_b_follower_ratio': 24.1270222878125, 'TE_like_a_B': 21.453110082006454, 'a_following_count': 21.145258542687507, 'TE_retweet_b_TopLevel_B': 21.11887422726191, 'TE_like_a_TopLevel_A': 20.238477804585717, 'TE_like_a_A': 19.92183009922078, 'TE_like_b_A': 19.479185936831684, 'TE_reply_a_Quote_A': 18.477372693448707, 'TE_reply_b_Quote_B': 17.772813520388347, 'TE_like_b_Retweet_B': 17.157151726903223, 'TE_like_b_Quote_B': 16.8535674552381, 'b_creation_delta': 16.667103316806283, 'TE_like_a_TopLevel_B': 16.654681305135135, 'bert_token_len': 16.3966481215625, 'TE_reply_b_Retweet_B': 16.204874845859376, 'b_follower_count': 15.237181381799996, 'TE_like_a_Retweet_B': 14.653082762916666, 'TE_like_a_Retweet_A': 14.604360826264367, 'TE_reply_a_TopLevel_B': 13.86759028189655, 'a_creation_delta': 13.444650477941176, 'TE_retweet_a_TopLevel_A': 13.39565298923077, 'TE_reply_a_B': 12.942628041666666, 'TE_like_a_Quote_A': 12.93870152488372, 'TE_retweet_comment_b_Quote_B': 12.78629577846154, 'TE_retweet_a_Retweet_A': 12.203436019411766, 'TE_like_b_TopLevel_A': 11.632187162758619, 'TE_retweet_comment_a_Quote_B': 11.368544660374999, 'TE_retweet_b_TopLevel_A': 11.13168910915254, 'TE_retweet_comment_a_TopLevel_B': 11.025164338888889, 'TE_retweet_b_Retweet_B': 10.864599315000001, 'TE_retweet_comment_a_A': 10.756866573809525, 'a_b_following_ratio': 10.751372899999998, 'TE_retweet_comment_b_A': 10.697296351818183, 'TE_retweet_a_A': 10.577390213333333, 'TE_retweet_a_Quote_A': 10.421175486551725, 'TE_like_b_Quote_A': 10.287403045319145, 'TE_like_a_Quote_B': 10.268393618095239, 'hour_of_day': 10.24522924875, 'a_is_verified': 10.1859617, 'a_b_creation_delta': 9.860424354675002, 'TE_retweet_b_A': 9.793901306666665, 'TE_retweet_a_B': 9.657683456944447, 'TE_retweet_b_Quote_B': 9.644108664594594, 'day_of_week': 9.631024761285715, 'TE_retweet_comment_b_TopLevel_B': 9.403020058696969, 'TE_retweet_comment_a_Retweet_B': 9.357657439565216, 'TE_retweet_comment_b_TopLevel_A': 9.248981116666668, 'TE_retweet_b_Retweet_A': 9.247630378296295, 'b_following_count': 9.079859739999998, 'TE_retweet_comment_a_B': 8.98302390314815, 'TE_retweet_comment_a_Retweet_A': 8.909444422903224, 'TE_retweet_b_Quote_A': 8.886516157710526, 'TE_retweet_a_Retweet_B': 8.881806486458334, 'TE_reply_a_Quote_B': 8.844890691481481, 'TE_reply_b_TopLevel_A': 8.832185136634145, 'TE_retweet_a_Quote_B': 8.805417227125002, 'TE_like_b_Retweet_A': 8.708367410640001, 'TE_reply_a_Retweet_A': 8.691279769863248, 'TE_retweet_comment_b_B': 8.620988287448275, 'TE_reply_a_Retweet_B': 8.47155789368421, 'TE_retweet_comment_b_Quote_A': 8.35954549909091, 'TE_retweet_a_TopLevel_B': 8.323620026097561, 'TE_reply_b_A': 8.25475712892683, 'TE_retweet_comment_b_Retweet_A': 8.229472239999998, 'TE_retweet_comment_a_Quote_A': 8.19640390415, 'TE_reply_b_Retweet_A': 8.177620792583333, 'TE_retweet_comment_b_Retweet_B': 7.870012564333334, 'TE_retweet_comment_a_TopLevel_A': 7.831025430952381, 'TE_reply_b_Quote_A': 7.7056575084375}\n\nhas_retweet:\n{'TE_retweet_b_B': 1216.1049117564728, 'TE_retweet_a_A': 499.69027638005576, 'TE_retweet_a_Retweet_A': 97.87293186140778, 'TE_like_a_A': 89.94229663371742, 'TE_like_b_B': 85.15067832932834, 'TE_retweet_b_TopLevel_B': 81.35747432491198, 'type_encoding': 76.72820807861424, 'a_follows_b': 48.930982204375, 'TE_like_b_A': 46.6537525388, 'TE_retweet_b_Retweet_B': 46.07617261953113, 'TE_like_b_Retweet_A': 43.2251291548148, 'TE_retweet_a_TopLevel_A': 42.32275867838078, 'photo_count': 40.38495294650792, 'TE_like_a_Retweet_A': 40.14510716198529, 'TE_like_b_Retweet_B': 40.104770919062496, 'TE_like_b_TopLevel_B': 39.791118413887745, 'a_follower_count': 38.926842380807436, 'a_b_follower_ratio': 36.91820229477391, 'TE_like_a_Retweet_B': 36.19809247194446, 'language_encoding': 35.56068109833334, 'TE_like_a_B': 34.07122448842104, 'b_creation_delta': 32.14025529960001, 'bert_token_len': 30.537950570561584, 'TE_retweet_b_Quote_B': 30.45148675930694, 'TE_retweet_b_A': 29.721868008400012, 'TE_like_a_TopLevel_A': 28.33544160158729, 'a_is_verified': 25.3473911, 'b_follower_count': 22.680647531274502, 'TE_retweet_a_Retweet_B': 22.444530660342107, 'a_following_count': 21.423856717, 'TE_retweet_comment_b_A': 21.119166041153846, 'TE_like_b_Quote_A': 20.71189235095238, 'TE_like_b_TopLevel_A': 20.563597987419353, 'TE_reply_b_TopLevel_B': 19.946971025, 'a_creation_delta': 19.904339686296296, 'TE_retweet_a_Quote_A': 19.640473704199998, 'TE_like_a_Quote_A': 19.597238361090913, 'video_count': 19.245749722727272, 'TE_retweet_a_TopLevel_B': 18.754485933181822, 'TE_retweet_b_Quote_A': 18.46718110653846, 'b_following_count': 18.04224297411764, 'a_b_following_ratio': 17.337295053076925, 'TE_retweet_a_B': 16.913379213611112, 'TE_reply_b_Quote_B': 16.78691838473684, 'TE_like_b_Quote_B': 16.709173928064516, 'TE_retweet_a_Quote_B': 16.17069095516129, 'TE_reply_a_Quote_B': 15.882785550416665, 'TE_reply_b_B': 15.56696189818182, 'TE_reply_a_TopLevel_A': 15.399548644166666, 'TE_retweet_b_Retweet_A': 14.906305341363636, 'TE_retweet_comment_a_Quote_B': 14.477005708571426, 'TE_retweet_b_TopLevel_A': 14.232230223076922, 'TE_retweet_comment_a_TopLevel_B': 14.041388679499999, 'TE_reply_a_TopLevel_B': 13.781890909999996, 'TE_reply_b_Quote_A': 13.528473318095237, 'TE_retweet_comment_a_Retweet_A': 13.464453261935487, 'a_b_creation_delta': 13.303491081199997, 'TE_like_a_TopLevel_B': 13.19186069275862, 'gif_count': 12.9613571, 'TE_reply_b_TopLevel_A': 12.84887683, 'TE_retweet_comment_b_Quote_A': 12.721496280333332, 'TE_like_a_Quote_B': 12.683347232222225, 'TE_reply_a_B': 12.674273514545456, 'TE_reply_a_Quote_A': 12.470430245555555, 'TE_retweet_comment_b_Quote_B': 12.32824750909091, 'TE_retweet_comment_b_TopLevel_A': 12.315125127058822, 'TE_reply_a_A': 12.141872025909093, 'TE_retweet_comment_a_Retweet_B': 12.141782802631578, 'TE_reply_b_A': 12.079781622941178, 'TE_reply_a_Retweet_A': 11.705684743333334, 'TE_retweet_comment_a_A': 11.664127646695652, 'TE_retweet_comment_b_B': 11.508357455666669, 'TE_reply_b_Retweet_A': 11.345003583809524, 'TE_retweet_comment_a_TopLevel_A': 11.0534629935, 'hour_of_day': 10.985177117166666, 'TE_retweet_comment_b_Retweet_A': 10.87108948, 'TE_reply_a_Retweet_B': 10.832378904, 'TE_retweet_comment_b_TopLevel_B': 10.677217132258066, 'TE_reply_b_Retweet_B': 10.656811930625, 'TE_retweet_comment_b_Retweet_B': 10.643863928947368, 'TE_retweet_comment_a_B': 10.525920205624997, 'TE_retweet_comment_a_Quote_A': 10.467653274782608, 'day_of_week': 8.700917318333333, 'b_is_verified': 8.15124512}\n\nhas_retweet_comment:\n{'TE_retweet_comment_b_B': 85.89759772993973, 'TE_retweet_comment_b_TopLevel_B': 32.776881456411445, 'TE_like_b_TopLevel_B': 24.569339160430104, 'TE_like_b_B': 23.187440818358706, 'type_encoding': 20.881572748691593, 'a_follows_b': 19.77357457272727, 'TE_like_a_Quote_B': 18.125190834714285, 'TE_retweet_a_A': 17.817825492294123, 'day_of_week': 17.010243675, 'photo_count': 16.82825829833333, 'language_encoding': 15.502188899999998, 'TE_like_a_A': 15.22398151327869, 'TE_retweet_b_B': 14.510611300845069, 'video_count': 14.165636454705881, 'TE_retweet_comment_b_Retweet_B': 14.00224435144555, 'TE_retweet_a_TopLevel_A': 13.33965745675385, 'TE_retweet_comment_a_TopLevel_A': 13.053067708190783, 'TE_like_a_TopLevel_B': 12.856382006814815, 'b_follower_count': 12.029677856333329, 'TE_retweet_comment_a_A': 11.97177993302198, 'a_b_follower_ratio': 11.961671758328356, 'a_follower_count': 10.645739968949151, 'TE_like_a_TopLevel_A': 10.590414775914896, 'TE_retweet_a_Retweet_A': 10.5661620577013, 'TE_like_b_Quote_B': 10.376839258048783, 'TE_like_a_Retweet_A': 10.276627511166662, 'TE_retweet_b_TopLevel_B': 10.249835308285716, 'TE_like_a_Retweet_B': 10.13674892325, 'TE_retweet_a_B': 9.9351809603125, 'b_creation_delta': 9.730702658983052, 'TE_like_b_Retweet_B': 9.698202264893618, 'TE_retweet_a_Retweet_B': 9.686455125888891, 'bert_token_len': 9.247319915454547, 'TE_retweet_comment_a_Retweet_A': 9.246967293775189, 'TE_like_a_B': 9.10053151567742, 'TE_retweet_b_Retweet_A': 9.099201310451614, 'TE_retweet_b_Quote_B': 8.992244390540543, 'TE_reply_b_A': 8.763788388309525, 'TE_like_b_TopLevel_A': 8.727696312642857, 'TE_retweet_comment_a_TopLevel_B': 8.551750774193549, 'TE_retweet_b_Retweet_B': 8.512259404864865, 'a_creation_delta': 8.492857471899999, 'TE_like_a_Quote_A': 8.473310852500001, 'TE_like_b_A': 8.425233592249997, 'TE_retweet_a_Quote_A': 8.34428818608108, 'TE_retweet_b_A': 8.321945260425531, 'TE_retweet_comment_a_B': 8.298268398235294, 'TE_reply_a_Retweet_A': 8.260989823999997, 'TE_like_b_Quote_A': 8.25116830382222, 'TE_retweet_b_TopLevel_A': 8.186062481666665, 'TE_reply_b_Retweet_B': 8.125152960709679, 'TE_retweet_a_TopLevel_B': 8.118256426363635, 'b_following_count': 8.103935244210527, 'TE_reply_a_B': 8.075537692617022, 'TE_reply_a_A': 8.067221647222222, 'a_b_following_ratio': 7.987485376285714, 'TE_retweet_comment_a_Quote_B': 7.9496753341176465, 'TE_reply_b_B': 7.796606173581394, 'TE_retweet_comment_b_Quote_B': 7.7597506154565234, 'TE_reply_a_Quote_A': 7.728622201604168, 'TE_reply_b_Quote_B': 7.711666680916665, 'TE_reply_b_TopLevel_B': 7.690266088468086, 'TE_reply_a_Quote_B': 7.682322635763635, 'TE_retweet_comment_b_Quote_A': 7.636037628709678, 'TE_like_b_Retweet_A': 7.60398724787234, 'TE_reply_a_TopLevel_A': 7.568084341632653, 'hour_of_day': 7.563005832938888, 'TE_retweet_comment_a_Quote_A': 7.45567966659375, 'TE_retweet_b_Quote_A': 7.341939125714284, 'TE_reply_a_TopLevel_B': 7.322194381651162, 'TE_retweet_comment_b_A': 7.319685539189189, 'TE_reply_b_Retweet_A': 7.319585481199999, 'TE_reply_b_Quote_A': 7.313561960690475, 'TE_retweet_comment_b_TopLevel_A': 7.303463395625001, 'a_b_creation_delta': 7.215399008508888, 'TE_reply_a_Retweet_B': 7.089767462439024, 'TE_retweet_comment_a_Retweet_B': 6.948483745210527, 'TE_retweet_a_Quote_B': 6.800563913425532, 'a_following_count': 6.6373247647666656, 'TE_reply_b_TopLevel_A': 6.218784130285714, 'a_is_verified': 5.6573391, 'TE_retweet_comment_b_Retweet_A': 5.6297904229705855, 'b_is_verified': 5.13037109, 'gif_count': 4.33386993}\n\nhas_like:\n{'TE_like_a_A': 4132.369183490335, 'type_encoding': 520.3377068046631, 'TE_retweet_b_A': 484.72736656033334, 'TE_like_b_TopLevel_B': 264.5910025096654, 'a_follows_b': 246.58620200119043, 'TE_retweet_b_B': 244.7999143918264, 'a_follower_count': 239.33081214851418, 'TE_like_a_TopLevel_A': 238.5901874468648, 'TE_like_b_Retweet_B': 197.11538460455947, 'TE_like_a_Retweet_A': 174.38100493904753, 'photo_count': 159.7358258018072, 'TE_like_b_Quote_B': 137.381055338673, 'TE_like_b_B': 113.37148354783787, 'TE_like_a_Quote_A': 105.76935553603967, 'TE_retweet_a_A': 97.43856646433338, 'b_creation_delta': 97.0881141917919, 'TE_reply_b_Quote_A': 80.58517779292308, 'language_encoding': 78.94036486936508, 'TE_reply_b_B': 72.71028895746667, 'a_b_follower_ratio': 71.08127049361445, 'TE_like_b_A': 68.18077623422224, 'bert_token_len': 64.77435251227276, 'a_is_verified': 58.34160195, 'a_creation_delta': 54.419415369350645, 'TE_like_a_B': 52.87646161847255, 'TE_retweet_a_TopLevel_A': 52.83879825, 'a_b_following_ratio': 51.04911183490909, 'TE_reply_b_TopLevel_B': 50.845853138493155, 'video_count': 47.98267062428572, 'a_following_count': 43.56188126195652, 'b_follower_count': 42.838350914084494, 'b_following_count': 42.313456981495314, 'TE_retweet_a_Retweet_A': 41.09636519333335, 'TE_retweet_b_Retweet_B': 37.92063231640624, 'TE_like_b_TopLevel_A': 37.26505963475, 'TE_retweet_b_TopLevel_A': 35.360277696875, 'TE_retweet_b_TopLevel_B': 34.88480450461539, 'TE_like_a_TopLevel_B': 33.38156802452381, 'TE_like_b_Retweet_A': 30.282420160322587, 'TE_like_a_Retweet_B': 28.824884214000004, 'TE_retweet_comment_a_Quote_B': 25.238078062533337, 'TE_like_b_Quote_A': 23.70133981974358, 'TE_reply_b_Retweet_B': 23.147514065909093, 'TE_retweet_b_Retweet_A': 21.29102360434782, 'TE_reply_b_TopLevel_A': 21.16937039074075, 'TE_retweet_b_Quote_B': 21.13459891119047, 'TE_retweet_comment_b_B': 17.843995410344828, 'TE_reply_a_B': 17.593285055149998, 'hour_of_day': 17.25202143375, 'TE_retweet_a_Retweet_B': 16.883044160155556, 'TE_retweet_comment_b_TopLevel_B': 16.783029553684212, 'a_b_creation_delta': 16.753347454736844, 'TE_retweet_comment_b_Retweet_B': 15.771530018571427, 'TE_retweet_a_Quote_A': 15.014212367826088, 'TE_reply_a_TopLevel_A': 14.856462082083334, 'TE_retweet_a_B': 14.386219546967743, 'day_of_week': 13.719820019999998, 'TE_reply_b_A': 13.705940830333331, 'TE_retweet_b_Quote_A': 13.101995568000001, 'TE_reply_a_A': 12.903319872915382, 'TE_retweet_comment_a_Quote_A': 12.852247363333337, 'TE_reply_b_Quote_B': 12.779100035833332, 'TE_like_a_Quote_B': 12.657168447857144, 'TE_retweet_a_TopLevel_B': 11.850973281880004, 'TE_reply_a_Quote_B': 11.7093061005, 'TE_retweet_comment_a_Retweet_B': 11.4194556335, 'TE_reply_a_Retweet_B': 11.284171433846156, 'TE_retweet_comment_a_Retweet_A': 11.197119869583334, 'TE_reply_a_Quote_A': 11.118506812105261, 'TE_retweet_comment_a_B': 10.767626809677418, 'TE_retweet_comment_a_TopLevel_B': 10.684571528709679, 'TE_retweet_comment_b_Quote_A': 10.57313821111111, 'TE_retweet_comment_b_A': 10.194492934375, 'TE_reply_b_Retweet_A': 10.1918020695, 'TE_retweet_comment_a_TopLevel_A': 10.06557854137037, 'TE_retweet_a_Quote_B': 9.982804956818182, 'TE_retweet_comment_b_Retweet_A': 9.838947032347829, 'TE_retweet_comment_b_Quote_B': 9.601854535555555, 'TE_reply_a_Retweet_A': 9.559149825043479, 'TE_retweet_comment_a_A': 9.35894261375, 'TE_retweet_comment_b_TopLevel_A': 9.174966602777777, 'TE_reply_a_TopLevel_B': 9.025907774677002, 'gif_count': 6.62556458}\n"
     ]
    }
   ],
   "source": [
    "for target in recsysxgb.targets__:\n",
    "    print(f\"\\n{target}:\")\n",
    "    print(dict(sorted(recsysxgb.clfs_[target].get_score(importance_type='gain').items(), key=lambda item: item[1], reverse=True)))"
   ]
  },
  {
   "source": [
    "## Try sample test run"
   ],
   "cell_type": "markdown",
   "metadata": {}
  },
  {
   "cell_type": "code",
   "execution_count": 2,
   "metadata": {},
   "outputs": [
    {
     "output_type": "stream",
     "name": "stdout",
     "text": [
      "Loading User Index\n",
      "Removing day counts\n",
      "Extracting combined user counts\n",
      "Created Dataloader in 16.03 seconds!\n",
      "Creating XGB model\n",
      "Evaluating Test Set\n",
      "Loaded Batch Nr. 1 in 5.82\n",
      "Timestamp Filtered Batch Nr. 1 in 0.00\n",
      "Did prepro part 1 of 1 in 0.20\n",
      "Did prepro part 2 of 1 in 12.24\n",
      "Did prepro part 3 of 1 in 0.06\n",
      "Merged Users of 1 in 23.25\n",
      "Extracted TE of 1 in 13.98\n",
      "Finished Batch Nr. 1 from file part-00002.csv in 57.56s!\n",
      "Loaded Batch Nr. 2 in 8.86\n",
      "Timestamp Filtered Batch Nr. 2 in 0.00\n",
      "Did prepro part 1 of 2 in 0.19\n",
      "Did prepro part 2 of 2 in 12.41\n",
      "Did prepro part 3 of 2 in 0.06\n",
      "Merged Users of 2 in 22.67\n",
      "Extracted TE of 2 in 14.35\n",
      "Finished Batch Nr. 2 from file part-00002.csv in 60.52s!\n",
      "Loaded Batch Nr. 3 in 11.00\n",
      "Timestamp Filtered Batch Nr. 3 in 0.00\n",
      "Did prepro part 1 of 3 in 0.19\n",
      "Did prepro part 2 of 3 in 12.02\n",
      "Did prepro part 3 of 3 in 0.06\n",
      "Merged Users of 3 in 21.02\n",
      "Extracted TE of 3 in 14.14\n",
      "Finished Batch Nr. 3 from file part-00002.csv in 60.37s!\n",
      "Loaded Batch Nr. 4 in 12.25\n",
      "Timestamp Filtered Batch Nr. 4 in 0.00\n",
      "Did prepro part 1 of 4 in 0.20\n",
      "Did prepro part 2 of 4 in 12.07\n",
      "Did prepro part 3 of 4 in 0.06\n",
      "Merged Users of 4 in 25.14\n",
      "Extracted TE of 4 in 14.00\n",
      "Finished Batch Nr. 4 from file part-00003.csv in 65.90s!\n",
      "Loaded Batch Nr. 5 in 9.51\n",
      "Timestamp Filtered Batch Nr. 5 in 0.00\n",
      "Did prepro part 1 of 5 in 0.19\n",
      "Did prepro part 2 of 5 in 11.88\n",
      "Did prepro part 3 of 5 in 0.06\n"
     ]
    },
    {
     "output_type": "error",
     "ename": "KeyboardInterrupt",
     "evalue": "",
     "traceback": [
      "\u001b[0;31m---------------------------------------------------------------------------\u001b[0m",
      "\u001b[0;31mKeyboardInterrupt\u001b[0m                         Traceback (most recent call last)",
      "\u001b[0;32m<ipython-input-2-f512dcbe22c4>\u001b[0m in \u001b[0;36m<module>\u001b[0;34m\u001b[0m\n\u001b[1;32m     15\u001b[0m \u001b[0mrecsysxgb\u001b[0m \u001b[0;34m=\u001b[0m \u001b[0mutils\u001b[0m\u001b[0;34m.\u001b[0m\u001b[0mmodel\u001b[0m\u001b[0;34m.\u001b[0m\u001b[0mRecSysXGB1\u001b[0m\u001b[0;34m(\u001b[0m\u001b[0;34m\"saved_models/xgb_models_26_normal_noise\"\u001b[0m\u001b[0;34m)\u001b[0m\u001b[0;34m\u001b[0m\u001b[0;34m\u001b[0m\u001b[0m\n\u001b[1;32m     16\u001b[0m \u001b[0mprint\u001b[0m\u001b[0;34m(\u001b[0m\u001b[0;34m\"Evaluating Test Set\"\u001b[0m\u001b[0;34m)\u001b[0m\u001b[0;34m\u001b[0m\u001b[0;34m\u001b[0m\u001b[0m\n\u001b[0;32m---> 17\u001b[0;31m \u001b[0mrecsysxgb\u001b[0m\u001b[0;34m.\u001b[0m\u001b[0mevaluate_test_set\u001b[0m\u001b[0;34m(\u001b[0m\u001b[0mtestLoader\u001b[0m \u001b[0;34m=\u001b[0m \u001b[0mdl\u001b[0m\u001b[0;34m,\u001b[0m \u001b[0moutput_file\u001b[0m \u001b[0;34m=\u001b[0m \u001b[0;34m\"results.csv\"\u001b[0m\u001b[0;34m)\u001b[0m\u001b[0;34m\u001b[0m\u001b[0;34m\u001b[0m\u001b[0m\n\u001b[0m",
      "\u001b[0;32m/mnt/14FA125EFA123D04/RecSys2021/utils/model.py\u001b[0m in \u001b[0;36mevaluate_test_set\u001b[0;34m(self, testLoader, output_file)\u001b[0m\n\u001b[1;32m     45\u001b[0m \u001b[0;34m\u001b[0m\u001b[0m\n\u001b[1;32m     46\u001b[0m         \u001b[0;32mwith\u001b[0m \u001b[0mopen\u001b[0m\u001b[0;34m(\u001b[0m\u001b[0moutput_file\u001b[0m\u001b[0;34m,\u001b[0m \u001b[0;34m'a'\u001b[0m\u001b[0;34m)\u001b[0m \u001b[0;32mas\u001b[0m \u001b[0moutput\u001b[0m\u001b[0;34m:\u001b[0m\u001b[0;34m\u001b[0m\u001b[0;34m\u001b[0m\u001b[0m\n\u001b[0;32m---> 47\u001b[0;31m             \u001b[0;32mfor\u001b[0m \u001b[0mbatch\u001b[0m\u001b[0;34m,\u001b[0m \u001b[0mquantile\u001b[0m\u001b[0;34m,\u001b[0m \u001b[0;34m(\u001b[0m\u001b[0mtweet_ids\u001b[0m\u001b[0;34m,\u001b[0m \u001b[0muser_ids\u001b[0m\u001b[0;34m)\u001b[0m \u001b[0;32min\u001b[0m \u001b[0mtestLoader\u001b[0m\u001b[0;34m:\u001b[0m\u001b[0;34m\u001b[0m\u001b[0;34m\u001b[0m\u001b[0m\n\u001b[0m\u001b[1;32m     48\u001b[0m                 \u001b[0mreply_preds\u001b[0m\u001b[0;34m,\u001b[0m \u001b[0mretweet_preds\u001b[0m\u001b[0;34m,\u001b[0m \u001b[0mretweet_comment_preds\u001b[0m\u001b[0;34m,\u001b[0m \u001b[0mlike_preds\u001b[0m \u001b[0;34m=\u001b[0m \u001b[0mself\u001b[0m\u001b[0;34m.\u001b[0m\u001b[0minfer\u001b[0m\u001b[0;34m(\u001b[0m\u001b[0mbatch\u001b[0m\u001b[0;34m)\u001b[0m\u001b[0;34m\u001b[0m\u001b[0;34m\u001b[0m\u001b[0m\n\u001b[1;32m     49\u001b[0m \u001b[0;34m\u001b[0m\u001b[0m\n",
      "\u001b[0;32m/mnt/14FA125EFA123D04/RecSys2021/utils/dataloader.py\u001b[0m in \u001b[0;36m__next__\u001b[0;34m(self)\u001b[0m\n\u001b[1;32m    402\u001b[0m     \u001b[0;32mdef\u001b[0m \u001b[0m__next__\u001b[0m\u001b[0;34m(\u001b[0m\u001b[0mself\u001b[0m\u001b[0;34m)\u001b[0m\u001b[0;34m:\u001b[0m\u001b[0;34m\u001b[0m\u001b[0;34m\u001b[0m\u001b[0m\n\u001b[1;32m    403\u001b[0m         \u001b[0;32mif\u001b[0m \u001b[0mself\u001b[0m\u001b[0;34m.\u001b[0m\u001b[0mminibatch_size\u001b[0m \u001b[0;34m==\u001b[0m \u001b[0;34m-\u001b[0m\u001b[0;36m1\u001b[0m \u001b[0;32mor\u001b[0m \u001b[0mself\u001b[0m\u001b[0;34m.\u001b[0m\u001b[0mbatch\u001b[0m \u001b[0;32mis\u001b[0m \u001b[0;32mNone\u001b[0m\u001b[0;34m:\u001b[0m\u001b[0;34m\u001b[0m\u001b[0;34m\u001b[0m\u001b[0m\n\u001b[0;32m--> 404\u001b[0;31m             \u001b[0mdf\u001b[0m \u001b[0;34m=\u001b[0m \u001b[0mself\u001b[0m\u001b[0;34m.\u001b[0m\u001b[0mload_next_batch__\u001b[0m\u001b[0;34m(\u001b[0m\u001b[0;34m)\u001b[0m\u001b[0;34m\u001b[0m\u001b[0;34m\u001b[0m\u001b[0m\n\u001b[0m\u001b[1;32m    405\u001b[0m \u001b[0;34m\u001b[0m\u001b[0m\n\u001b[1;32m    406\u001b[0m             \u001b[0;32mif\u001b[0m \u001b[0mself\u001b[0m\u001b[0;34m.\u001b[0m\u001b[0mnormalize_batch\u001b[0m\u001b[0;34m:\u001b[0m\u001b[0;34m\u001b[0m\u001b[0;34m\u001b[0m\u001b[0m\n",
      "\u001b[0;32m/mnt/14FA125EFA123D04/RecSys2021/utils/dataloader.py\u001b[0m in \u001b[0;36mload_next_batch__\u001b[0;34m(self)\u001b[0m\n\u001b[1;32m    354\u001b[0m         \u001b[0mgc\u001b[0m\u001b[0;34m.\u001b[0m\u001b[0mcollect\u001b[0m\u001b[0;34m(\u001b[0m\u001b[0;34m)\u001b[0m\u001b[0;34m\u001b[0m\u001b[0;34m\u001b[0m\u001b[0m\n\u001b[1;32m    355\u001b[0m         \u001b[0;31m#df = pd.merge(df, self.user_index, how=\"left\", left_on=\"b_user_id_num\", right_index=True, suffixes=(\"_A\", \"_B\"))\u001b[0m\u001b[0;34m\u001b[0m\u001b[0;34m\u001b[0m\u001b[0;34m\u001b[0m\u001b[0m\n\u001b[0;32m--> 356\u001b[0;31m         \u001b[0mdf\u001b[0m  \u001b[0;34m=\u001b[0m \u001b[0mdf\u001b[0m\u001b[0;34m.\u001b[0m\u001b[0mjoin\u001b[0m\u001b[0;34m(\u001b[0m\u001b[0mself\u001b[0m\u001b[0;34m.\u001b[0m\u001b[0muser_index\u001b[0m\u001b[0;34m,\u001b[0m \u001b[0mon\u001b[0m\u001b[0;34m=\u001b[0m\u001b[0;34m\"b_user_id_num\"\u001b[0m\u001b[0;34m,\u001b[0m \u001b[0mlsuffix\u001b[0m\u001b[0;34m=\u001b[0m\u001b[0;34m\"_A\"\u001b[0m\u001b[0;34m,\u001b[0m \u001b[0mrsuffix\u001b[0m\u001b[0;34m=\u001b[0m\u001b[0;34m\"_B\"\u001b[0m\u001b[0;34m)\u001b[0m\u001b[0;34m\u001b[0m\u001b[0;34m\u001b[0m\u001b[0m\n\u001b[0m\u001b[1;32m    357\u001b[0m         \u001b[0mgc\u001b[0m\u001b[0;34m.\u001b[0m\u001b[0mcollect\u001b[0m\u001b[0;34m(\u001b[0m\u001b[0;34m)\u001b[0m\u001b[0;34m\u001b[0m\u001b[0;34m\u001b[0m\u001b[0m\n\u001b[1;32m    358\u001b[0m \u001b[0;34m\u001b[0m\u001b[0m\n",
      "\u001b[0;32m~/miniconda3/envs/m1/lib/python3.9/site-packages/pandas/core/frame.py\u001b[0m in \u001b[0;36mjoin\u001b[0;34m(self, other, on, how, lsuffix, rsuffix, sort)\u001b[0m\n\u001b[1;32m   8108\u001b[0m         \u001b[0;36m5\u001b[0m  \u001b[0mK5\u001b[0m  \u001b[0mA5\u001b[0m  \u001b[0mNaN\u001b[0m\u001b[0;34m\u001b[0m\u001b[0;34m\u001b[0m\u001b[0m\n\u001b[1;32m   8109\u001b[0m         \"\"\"\n\u001b[0;32m-> 8110\u001b[0;31m         return self._join_compat(\n\u001b[0m\u001b[1;32m   8111\u001b[0m             \u001b[0mother\u001b[0m\u001b[0;34m,\u001b[0m \u001b[0mon\u001b[0m\u001b[0;34m=\u001b[0m\u001b[0mon\u001b[0m\u001b[0;34m,\u001b[0m \u001b[0mhow\u001b[0m\u001b[0;34m=\u001b[0m\u001b[0mhow\u001b[0m\u001b[0;34m,\u001b[0m \u001b[0mlsuffix\u001b[0m\u001b[0;34m=\u001b[0m\u001b[0mlsuffix\u001b[0m\u001b[0;34m,\u001b[0m \u001b[0mrsuffix\u001b[0m\u001b[0;34m=\u001b[0m\u001b[0mrsuffix\u001b[0m\u001b[0;34m,\u001b[0m \u001b[0msort\u001b[0m\u001b[0;34m=\u001b[0m\u001b[0msort\u001b[0m\u001b[0;34m\u001b[0m\u001b[0;34m\u001b[0m\u001b[0m\n\u001b[1;32m   8112\u001b[0m         )\n",
      "\u001b[0;32m~/miniconda3/envs/m1/lib/python3.9/site-packages/pandas/core/frame.py\u001b[0m in \u001b[0;36m_join_compat\u001b[0;34m(self, other, on, how, lsuffix, rsuffix, sort)\u001b[0m\n\u001b[1;32m   8133\u001b[0m                     \u001b[0msort\u001b[0m\u001b[0;34m=\u001b[0m\u001b[0msort\u001b[0m\u001b[0;34m,\u001b[0m\u001b[0;34m\u001b[0m\u001b[0;34m\u001b[0m\u001b[0m\n\u001b[1;32m   8134\u001b[0m                 )\n\u001b[0;32m-> 8135\u001b[0;31m             return merge(\n\u001b[0m\u001b[1;32m   8136\u001b[0m                 \u001b[0mself\u001b[0m\u001b[0;34m,\u001b[0m\u001b[0;34m\u001b[0m\u001b[0;34m\u001b[0m\u001b[0m\n\u001b[1;32m   8137\u001b[0m                 \u001b[0mother\u001b[0m\u001b[0;34m,\u001b[0m\u001b[0;34m\u001b[0m\u001b[0;34m\u001b[0m\u001b[0m\n",
      "\u001b[0;32m~/miniconda3/envs/m1/lib/python3.9/site-packages/pandas/core/reshape/merge.py\u001b[0m in \u001b[0;36mmerge\u001b[0;34m(left, right, how, on, left_on, right_on, left_index, right_index, sort, suffixes, copy, indicator, validate)\u001b[0m\n\u001b[1;32m     87\u001b[0m         \u001b[0mvalidate\u001b[0m\u001b[0;34m=\u001b[0m\u001b[0mvalidate\u001b[0m\u001b[0;34m,\u001b[0m\u001b[0;34m\u001b[0m\u001b[0;34m\u001b[0m\u001b[0m\n\u001b[1;32m     88\u001b[0m     )\n\u001b[0;32m---> 89\u001b[0;31m     \u001b[0;32mreturn\u001b[0m \u001b[0mop\u001b[0m\u001b[0;34m.\u001b[0m\u001b[0mget_result\u001b[0m\u001b[0;34m(\u001b[0m\u001b[0;34m)\u001b[0m\u001b[0;34m\u001b[0m\u001b[0;34m\u001b[0m\u001b[0m\n\u001b[0m\u001b[1;32m     90\u001b[0m \u001b[0;34m\u001b[0m\u001b[0m\n\u001b[1;32m     91\u001b[0m \u001b[0;34m\u001b[0m\u001b[0m\n",
      "\u001b[0;32m~/miniconda3/envs/m1/lib/python3.9/site-packages/pandas/core/reshape/merge.py\u001b[0m in \u001b[0;36mget_result\u001b[0;34m(self)\u001b[0m\n\u001b[1;32m    691\u001b[0m         \u001b[0mrindexers\u001b[0m \u001b[0;34m=\u001b[0m \u001b[0;34m{\u001b[0m\u001b[0;36m1\u001b[0m\u001b[0;34m:\u001b[0m \u001b[0mright_indexer\u001b[0m\u001b[0;34m}\u001b[0m \u001b[0;32mif\u001b[0m \u001b[0mright_indexer\u001b[0m \u001b[0;32mis\u001b[0m \u001b[0;32mnot\u001b[0m \u001b[0;32mNone\u001b[0m \u001b[0;32melse\u001b[0m \u001b[0;34m{\u001b[0m\u001b[0;34m}\u001b[0m\u001b[0;34m\u001b[0m\u001b[0;34m\u001b[0m\u001b[0m\n\u001b[1;32m    692\u001b[0m \u001b[0;34m\u001b[0m\u001b[0m\n\u001b[0;32m--> 693\u001b[0;31m         result_data = concatenate_block_managers(\n\u001b[0m\u001b[1;32m    694\u001b[0m             \u001b[0;34m[\u001b[0m\u001b[0;34m(\u001b[0m\u001b[0mself\u001b[0m\u001b[0;34m.\u001b[0m\u001b[0mleft\u001b[0m\u001b[0;34m.\u001b[0m\u001b[0m_mgr\u001b[0m\u001b[0;34m,\u001b[0m \u001b[0mlindexers\u001b[0m\u001b[0;34m)\u001b[0m\u001b[0;34m,\u001b[0m \u001b[0;34m(\u001b[0m\u001b[0mself\u001b[0m\u001b[0;34m.\u001b[0m\u001b[0mright\u001b[0m\u001b[0;34m.\u001b[0m\u001b[0m_mgr\u001b[0m\u001b[0;34m,\u001b[0m \u001b[0mrindexers\u001b[0m\u001b[0;34m)\u001b[0m\u001b[0;34m]\u001b[0m\u001b[0;34m,\u001b[0m\u001b[0;34m\u001b[0m\u001b[0;34m\u001b[0m\u001b[0m\n\u001b[1;32m    695\u001b[0m             \u001b[0maxes\u001b[0m\u001b[0;34m=\u001b[0m\u001b[0;34m[\u001b[0m\u001b[0mllabels\u001b[0m\u001b[0;34m.\u001b[0m\u001b[0mappend\u001b[0m\u001b[0;34m(\u001b[0m\u001b[0mrlabels\u001b[0m\u001b[0;34m)\u001b[0m\u001b[0;34m,\u001b[0m \u001b[0mjoin_index\u001b[0m\u001b[0;34m]\u001b[0m\u001b[0;34m,\u001b[0m\u001b[0;34m\u001b[0m\u001b[0;34m\u001b[0m\u001b[0m\n",
      "\u001b[0;32m~/miniconda3/envs/m1/lib/python3.9/site-packages/pandas/core/internals/concat.py\u001b[0m in \u001b[0;36mconcatenate_block_managers\u001b[0;34m(mgrs_indexers, axes, concat_axis, copy)\u001b[0m\n\u001b[1;32m     81\u001b[0m         \u001b[0;32melse\u001b[0m\u001b[0;34m:\u001b[0m\u001b[0;34m\u001b[0m\u001b[0;34m\u001b[0m\u001b[0m\n\u001b[1;32m     82\u001b[0m             b = make_block(\n\u001b[0;32m---> 83\u001b[0;31m                 \u001b[0m_concatenate_join_units\u001b[0m\u001b[0;34m(\u001b[0m\u001b[0mjoin_units\u001b[0m\u001b[0;34m,\u001b[0m \u001b[0mconcat_axis\u001b[0m\u001b[0;34m,\u001b[0m \u001b[0mcopy\u001b[0m\u001b[0;34m=\u001b[0m\u001b[0mcopy\u001b[0m\u001b[0;34m)\u001b[0m\u001b[0;34m,\u001b[0m\u001b[0;34m\u001b[0m\u001b[0;34m\u001b[0m\u001b[0m\n\u001b[0m\u001b[1;32m     84\u001b[0m                 \u001b[0mplacement\u001b[0m\u001b[0;34m=\u001b[0m\u001b[0mplacement\u001b[0m\u001b[0;34m,\u001b[0m\u001b[0;34m\u001b[0m\u001b[0;34m\u001b[0m\u001b[0m\n\u001b[1;32m     85\u001b[0m                 \u001b[0mndim\u001b[0m\u001b[0;34m=\u001b[0m\u001b[0mlen\u001b[0m\u001b[0;34m(\u001b[0m\u001b[0maxes\u001b[0m\u001b[0;34m)\u001b[0m\u001b[0;34m,\u001b[0m\u001b[0;34m\u001b[0m\u001b[0;34m\u001b[0m\u001b[0m\n",
      "\u001b[0;32m~/miniconda3/envs/m1/lib/python3.9/site-packages/pandas/core/internals/concat.py\u001b[0m in \u001b[0;36m_concatenate_join_units\u001b[0;34m(join_units, concat_axis, copy)\u001b[0m\n\u001b[1;32m    311\u001b[0m     \u001b[0mempty_dtype\u001b[0m\u001b[0;34m,\u001b[0m \u001b[0mupcasted_na\u001b[0m \u001b[0;34m=\u001b[0m \u001b[0m_get_empty_dtype_and_na\u001b[0m\u001b[0;34m(\u001b[0m\u001b[0mjoin_units\u001b[0m\u001b[0;34m)\u001b[0m\u001b[0;34m\u001b[0m\u001b[0;34m\u001b[0m\u001b[0m\n\u001b[1;32m    312\u001b[0m \u001b[0;34m\u001b[0m\u001b[0m\n\u001b[0;32m--> 313\u001b[0;31m     to_concat = [\n\u001b[0m\u001b[1;32m    314\u001b[0m         \u001b[0mju\u001b[0m\u001b[0;34m.\u001b[0m\u001b[0mget_reindexed_values\u001b[0m\u001b[0;34m(\u001b[0m\u001b[0mempty_dtype\u001b[0m\u001b[0;34m=\u001b[0m\u001b[0mempty_dtype\u001b[0m\u001b[0;34m,\u001b[0m \u001b[0mupcasted_na\u001b[0m\u001b[0;34m=\u001b[0m\u001b[0mupcasted_na\u001b[0m\u001b[0;34m)\u001b[0m\u001b[0;34m\u001b[0m\u001b[0;34m\u001b[0m\u001b[0m\n\u001b[1;32m    315\u001b[0m         \u001b[0;32mfor\u001b[0m \u001b[0mju\u001b[0m \u001b[0;32min\u001b[0m \u001b[0mjoin_units\u001b[0m\u001b[0;34m\u001b[0m\u001b[0;34m\u001b[0m\u001b[0m\n",
      "\u001b[0;32m~/miniconda3/envs/m1/lib/python3.9/site-packages/pandas/core/internals/concat.py\u001b[0m in \u001b[0;36m<listcomp>\u001b[0;34m(.0)\u001b[0m\n\u001b[1;32m    312\u001b[0m \u001b[0;34m\u001b[0m\u001b[0m\n\u001b[1;32m    313\u001b[0m     to_concat = [\n\u001b[0;32m--> 314\u001b[0;31m         \u001b[0mju\u001b[0m\u001b[0;34m.\u001b[0m\u001b[0mget_reindexed_values\u001b[0m\u001b[0;34m(\u001b[0m\u001b[0mempty_dtype\u001b[0m\u001b[0;34m=\u001b[0m\u001b[0mempty_dtype\u001b[0m\u001b[0;34m,\u001b[0m \u001b[0mupcasted_na\u001b[0m\u001b[0;34m=\u001b[0m\u001b[0mupcasted_na\u001b[0m\u001b[0;34m)\u001b[0m\u001b[0;34m\u001b[0m\u001b[0;34m\u001b[0m\u001b[0m\n\u001b[0m\u001b[1;32m    315\u001b[0m         \u001b[0;32mfor\u001b[0m \u001b[0mju\u001b[0m \u001b[0;32min\u001b[0m \u001b[0mjoin_units\u001b[0m\u001b[0;34m\u001b[0m\u001b[0;34m\u001b[0m\u001b[0m\n\u001b[1;32m    316\u001b[0m     ]\n",
      "\u001b[0;32m~/miniconda3/envs/m1/lib/python3.9/site-packages/pandas/core/internals/concat.py\u001b[0m in \u001b[0;36mget_reindexed_values\u001b[0;34m(self, empty_dtype, upcasted_na)\u001b[0m\n\u001b[1;32m    296\u001b[0m         \u001b[0;32melse\u001b[0m\u001b[0;34m:\u001b[0m\u001b[0;34m\u001b[0m\u001b[0;34m\u001b[0m\u001b[0m\n\u001b[1;32m    297\u001b[0m             \u001b[0;32mfor\u001b[0m \u001b[0max\u001b[0m\u001b[0;34m,\u001b[0m \u001b[0mindexer\u001b[0m \u001b[0;32min\u001b[0m \u001b[0mself\u001b[0m\u001b[0;34m.\u001b[0m\u001b[0mindexers\u001b[0m\u001b[0;34m.\u001b[0m\u001b[0mitems\u001b[0m\u001b[0;34m(\u001b[0m\u001b[0;34m)\u001b[0m\u001b[0;34m:\u001b[0m\u001b[0;34m\u001b[0m\u001b[0;34m\u001b[0m\u001b[0m\n\u001b[0;32m--> 298\u001b[0;31m                 \u001b[0mvalues\u001b[0m \u001b[0;34m=\u001b[0m \u001b[0malgos\u001b[0m\u001b[0;34m.\u001b[0m\u001b[0mtake_nd\u001b[0m\u001b[0;34m(\u001b[0m\u001b[0mvalues\u001b[0m\u001b[0;34m,\u001b[0m \u001b[0mindexer\u001b[0m\u001b[0;34m,\u001b[0m \u001b[0maxis\u001b[0m\u001b[0;34m=\u001b[0m\u001b[0max\u001b[0m\u001b[0;34m,\u001b[0m \u001b[0mfill_value\u001b[0m\u001b[0;34m=\u001b[0m\u001b[0mfill_value\u001b[0m\u001b[0;34m)\u001b[0m\u001b[0;34m\u001b[0m\u001b[0;34m\u001b[0m\u001b[0m\n\u001b[0m\u001b[1;32m    299\u001b[0m \u001b[0;34m\u001b[0m\u001b[0m\n\u001b[1;32m    300\u001b[0m         \u001b[0;32mreturn\u001b[0m \u001b[0mvalues\u001b[0m\u001b[0;34m\u001b[0m\u001b[0;34m\u001b[0m\u001b[0m\n",
      "\u001b[0;32m~/miniconda3/envs/m1/lib/python3.9/site-packages/pandas/core/algorithms.py\u001b[0m in \u001b[0;36mtake_nd\u001b[0;34m(arr, indexer, axis, out, fill_value, allow_fill)\u001b[0m\n\u001b[1;32m   1757\u001b[0m         \u001b[0marr\u001b[0m\u001b[0;34m.\u001b[0m\u001b[0mndim\u001b[0m\u001b[0;34m,\u001b[0m \u001b[0marr\u001b[0m\u001b[0;34m.\u001b[0m\u001b[0mdtype\u001b[0m\u001b[0;34m,\u001b[0m \u001b[0mout\u001b[0m\u001b[0;34m.\u001b[0m\u001b[0mdtype\u001b[0m\u001b[0;34m,\u001b[0m \u001b[0maxis\u001b[0m\u001b[0;34m=\u001b[0m\u001b[0maxis\u001b[0m\u001b[0;34m,\u001b[0m \u001b[0mmask_info\u001b[0m\u001b[0;34m=\u001b[0m\u001b[0mmask_info\u001b[0m\u001b[0;34m\u001b[0m\u001b[0;34m\u001b[0m\u001b[0m\n\u001b[1;32m   1758\u001b[0m     )\n\u001b[0;32m-> 1759\u001b[0;31m     \u001b[0mfunc\u001b[0m\u001b[0;34m(\u001b[0m\u001b[0marr\u001b[0m\u001b[0;34m,\u001b[0m \u001b[0mindexer\u001b[0m\u001b[0;34m,\u001b[0m \u001b[0mout\u001b[0m\u001b[0;34m,\u001b[0m \u001b[0mfill_value\u001b[0m\u001b[0;34m)\u001b[0m\u001b[0;34m\u001b[0m\u001b[0;34m\u001b[0m\u001b[0m\n\u001b[0m\u001b[1;32m   1760\u001b[0m \u001b[0;34m\u001b[0m\u001b[0m\n\u001b[1;32m   1761\u001b[0m     \u001b[0;32mif\u001b[0m \u001b[0mflip_order\u001b[0m\u001b[0;34m:\u001b[0m\u001b[0;34m\u001b[0m\u001b[0;34m\u001b[0m\u001b[0m\n",
      "\u001b[0;32m~/miniconda3/envs/m1/lib/python3.9/site-packages/pandas/core/algorithms.py\u001b[0m in \u001b[0;36mwrapper\u001b[0;34m(arr, indexer, out, fill_value)\u001b[0m\n\u001b[1;32m   1387\u001b[0m     \u001b[0;32mdef\u001b[0m \u001b[0mwrapper\u001b[0m\u001b[0;34m(\u001b[0m\u001b[0marr\u001b[0m\u001b[0;34m,\u001b[0m \u001b[0mindexer\u001b[0m\u001b[0;34m,\u001b[0m \u001b[0mout\u001b[0m\u001b[0;34m,\u001b[0m \u001b[0mfill_value\u001b[0m\u001b[0;34m=\u001b[0m\u001b[0mnp\u001b[0m\u001b[0;34m.\u001b[0m\u001b[0mnan\u001b[0m\u001b[0;34m)\u001b[0m\u001b[0;34m:\u001b[0m\u001b[0;34m\u001b[0m\u001b[0;34m\u001b[0m\u001b[0m\n\u001b[1;32m   1388\u001b[0m         \u001b[0marr\u001b[0m \u001b[0;34m=\u001b[0m \u001b[0marr\u001b[0m\u001b[0;34m.\u001b[0m\u001b[0mastype\u001b[0m\u001b[0;34m(\u001b[0m\u001b[0mconv_dtype\u001b[0m\u001b[0;34m)\u001b[0m\u001b[0;34m\u001b[0m\u001b[0;34m\u001b[0m\u001b[0m\n\u001b[0;32m-> 1389\u001b[0;31m         \u001b[0mf\u001b[0m\u001b[0;34m(\u001b[0m\u001b[0marr\u001b[0m\u001b[0;34m,\u001b[0m \u001b[0mindexer\u001b[0m\u001b[0;34m,\u001b[0m \u001b[0mout\u001b[0m\u001b[0;34m,\u001b[0m \u001b[0mfill_value\u001b[0m\u001b[0;34m=\u001b[0m\u001b[0mfill_value\u001b[0m\u001b[0;34m)\u001b[0m\u001b[0;34m\u001b[0m\u001b[0;34m\u001b[0m\u001b[0m\n\u001b[0m\u001b[1;32m   1390\u001b[0m \u001b[0;34m\u001b[0m\u001b[0m\n\u001b[1;32m   1391\u001b[0m     \u001b[0;32mreturn\u001b[0m \u001b[0mwrapper\u001b[0m\u001b[0;34m\u001b[0m\u001b[0;34m\u001b[0m\u001b[0m\n",
      "\u001b[0;31mKeyboardInterrupt\u001b[0m: "
     ]
    }
   ],
   "source": [
    "dl = utils.dataloader.RecSys2021TSVDataLoader(\n",
    "        data_directory = \"data/test_files\", \n",
    "        user_index_location = \"indices/user_index_w_type.parquet\",\n",
    "        mode = \"test\", \n",
    "        load_n_batches = -1, \n",
    "        batch_size = 1000000,#1 million\n",
    "        verbose = 2,\n",
    "        remove_day_counts = True,\n",
    "        remove_user_counts= True,\n",
    "        random_file_sampling=False\n",
    "        )\n",
    "\n",
    "\n",
    "print(\"Creating XGB model\")\n",
    "recsysxgb = utils.model.RecSysXGB1(\"saved_models/xgb_models_26_normal_noise\")\n",
    "print(\"Evaluating Test Set\")\n",
    "recsysxgb.evaluate_test_set(testLoader = dl, output_file = \"results.csv\")"
   ]
  },
  {
   "cell_type": "code",
   "execution_count": 26,
   "metadata": {},
   "outputs": [],
   "source": [
    "pred = recsysxgb.infer(out[0])"
   ]
  },
  {
   "cell_type": "code",
   "execution_count": 37,
   "metadata": {},
   "outputs": [
    {
     "output_type": "execute_result",
     "data": {
      "text/plain": [
       "5.9604645e-08"
      ]
     },
     "metadata": {},
     "execution_count": 37
    }
   ],
   "source": [
    "(((pred[3]-0.5)*0.9999999)+0.5).min()"
   ]
  },
  {
   "source": [
    "## Testing Custom batch sizes"
   ],
   "cell_type": "markdown",
   "metadata": {}
  },
  {
   "cell_type": "code",
   "execution_count": 1,
   "metadata": {},
   "outputs": [],
   "source": [
    "from utils import dataloader\n",
    "from utils import dataloader\n",
    "import utils.model\n",
    "from datetime import datetime\n",
    "from os.path import join\n",
    "\n",
    "filter_timestamp = None#int(datetime(2021, 2, 19, 0).timestamp())\n",
    "use_user_index = join(\"indices\",\"user_index.parquet\")#\"train_user_index.parquet\"\n",
    "csv_data_location = join(\"data\",\"test_files\")\n",
    "model_save_location = join(\"saved_models\",\"xgb_models_06_submission\")"
   ]
  },
  {
   "cell_type": "code",
   "execution_count": 2,
   "metadata": {},
   "outputs": [],
   "source": [
    "dl = dataloader.RecSys2021TSVDataLoader(csv_data_location, use_user_index, mode=\"test\", filter_timestamp=filter_timestamp, load_n_batches=-1, batch_size=1000000, verbose=2, random_file_sampling=True)"
   ]
  },
  {
   "cell_type": "code",
   "execution_count": 3,
   "metadata": {},
   "outputs": [
    {
     "output_type": "stream",
     "name": "stdout",
     "text": [
      "just one\n",
      "1000000\n",
      "Loaded Batch Nr. 1 in 6.10\n",
      "Timestamp Filtered Batch Nr. 1 in 0.00\n",
      "Did prepro part 1 of 1 in 0.20\n",
      "Did prepro part 2 of 1 in 11.80\n",
      "Did prepro part 3 of 1 in 0.05\n",
      "Merged Users of 1 in 21.76\n",
      "Extracted TE of 1 in 3.21\n",
      "Finished Batch Nr. 1 from file part-00003.csv in 45.47s!\n",
      "just one\n",
      "1000000\n",
      "Loaded Batch Nr. 2 in 7.32\n",
      "Timestamp Filtered Batch Nr. 2 in 0.00\n",
      "Did prepro part 1 of 2 in 0.20\n",
      "Did prepro part 2 of 2 in 11.87\n",
      "Did prepro part 3 of 2 in 0.05\n",
      "Merged Users of 2 in 22.05\n",
      "Extracted TE of 2 in 3.20\n",
      "Finished Batch Nr. 2 from file part-00003.csv in 47.02s!\n",
      "just one\n",
      "1000000\n",
      "Loaded Batch Nr. 3 in 8.79\n",
      "Timestamp Filtered Batch Nr. 3 in 0.00\n",
      "Did prepro part 1 of 3 in 0.20\n",
      "Did prepro part 2 of 3 in 11.85\n",
      "Did prepro part 3 of 3 in 0.05\n",
      "Merged Users of 3 in 22.73\n",
      "Extracted TE of 3 in 3.20\n",
      "Finished Batch Nr. 3 from file part-00003.csv in 49.16s!\n",
      "more than one 1000000\n",
      "1000000\n",
      "Loaded Batch Nr. 4 in 12.99\n",
      "Timestamp Filtered Batch Nr. 4 in 0.00\n",
      "Did prepro part 1 of 4 in 0.20\n",
      "Did prepro part 2 of 4 in 11.84\n",
      "Did prepro part 3 of 4 in 0.05\n",
      "Merged Users of 4 in 20.62\n",
      "Extracted TE of 4 in 3.22\n",
      "Finished Batch Nr. 4 from file part-00002.csv in 51.52s!\n",
      "just one\n",
      "1000000\n",
      "Loaded Batch Nr. 5 in 9.31\n",
      "Timestamp Filtered Batch Nr. 5 in 0.00\n",
      "Did prepro part 1 of 5 in 0.20\n",
      "Did prepro part 2 of 5 in 11.78\n",
      "Did prepro part 3 of 5 in 0.05\n",
      "Merged Users of 5 in 21.59\n",
      "Extracted TE of 5 in 3.18\n",
      "Finished Batch Nr. 5 from file part-00002.csv in 48.45s!\n",
      "just one\n",
      "1000000\n",
      "Loaded Batch Nr. 6 in 10.75\n",
      "Timestamp Filtered Batch Nr. 6 in 0.00\n",
      "Did prepro part 1 of 6 in 0.20\n",
      "Did prepro part 2 of 6 in 11.86\n",
      "Did prepro part 3 of 6 in 0.05\n",
      "Merged Users of 6 in 21.92\n",
      "Extracted TE of 6 in 3.19\n",
      "Finished Batch Nr. 6 from file part-00002.csv in 50.29s!\n",
      "just one\n",
      "21788\n",
      "Loaded Batch Nr. 7 in 5.44\n",
      "Timestamp Filtered Batch Nr. 7 in 0.00\n",
      "Did prepro part 1 of 7 in 0.01\n",
      "Did prepro part 2 of 7 in 0.26\n",
      "Did prepro part 3 of 7 in 0.00\n",
      "Merged Users of 7 in 20.21\n",
      "Extracted TE of 7 in 3.00\n",
      "Finished Batch Nr. 7 from file part-00002.csv in 29.01s!\n"
     ]
    }
   ],
   "source": [
    "r = [a[1] for a in dl]"
   ]
  },
  {
   "cell_type": "code",
   "execution_count": 4,
   "metadata": {},
   "outputs": [
    {
     "output_type": "stream",
     "name": "stdout",
     "text": [
      "1000000\n1000000\n1000000\n1000000\n1000000\n1000000\n21788\n"
     ]
    }
   ],
   "source": [
    "for df in r:\n",
    "    print(len(df))"
   ]
  },
  {
   "cell_type": "code",
   "execution_count": 17,
   "metadata": {},
   "outputs": [],
   "source": [
    "import utils.features as fe\n",
    "import utils.constants as co\n",
    "import pandas as pd\n",
    "import numpy as np"
   ]
  },
  {
   "cell_type": "code",
   "execution_count": 12,
   "metadata": {},
   "outputs": [],
   "source": [
    "current_file = pd.read_csv(\n",
    "                \"data/test_files/part-00002.csv\",\n",
    "                sep='\\x01',\n",
    "                header=None,\n",
    "                names=co.all_features,\n",
    "                dtype={k: v for k, v in co.dtypes_of_features.items() if k in co.all_features}\n",
    "            )"
   ]
  },
  {
   "cell_type": "code",
   "execution_count": 14,
   "metadata": {},
   "outputs": [],
   "source": [
    "current_file[\"medias\"] = current_file[\"medias\"].fillna(\"\")\n",
    "current_file[\"hashtags\"] = current_file[\"hashtags\"].fillna(\"\")\n",
    "current_file[\"links\"] = current_file[\"links\"].fillna(\"\")\n",
    "current_file[\"domains\"] = current_file[\"domains\"].fillna(\"\")\n",
    "current_file[\"medias\"] = current_file[\"medias\"].fillna(\"\")"
   ]
  },
  {
   "cell_type": "code",
   "execution_count": 27,
   "metadata": {},
   "outputs": [
    {
     "output_type": "execute_result",
     "data": {
      "text/plain": [
       "{-0.9502129554748535, 1.0, 2.0, 3.0, 4.000000476837158, 5.0, 7.0}"
      ]
     },
     "metadata": {},
     "execution_count": 27
    }
   ],
   "source": [
    "import numpy as np\n",
    "set(np.exp(train_data[\"n_gifs\"]+ train_data[\"n_photos\"] +train_data[\"n_videos\"])-1)"
   ]
  },
  {
   "source": [
    "# Other"
   ],
   "cell_type": "markdown",
   "metadata": {}
  },
  {
   "cell_type": "code",
   "execution_count": 3,
   "metadata": {},
   "outputs": [],
   "source": [
    "from utils import dataloader\n",
    "import utils.model\n",
    "from datetime import datetime\n",
    "from os.path import join\n",
    "from importlib import reload\n",
    "import torch\n",
    "\n",
    "filter_timestamp = int(datetime(2021, 2, 19, 0).timestamp())\n",
    "use_user_index = join(\"indices\",\"train_user_index_w_type.parquet\")#\"train_user_index.parquet\"\n",
    "csv_data_location = join(\"data\",\"downloaded_data\")\n",
    "model_save_location = join(\"saved_models\",\"xgb_models_15_better_index\")"
   ]
  },
  {
   "cell_type": "code",
   "execution_count": 2,
   "metadata": {},
   "outputs": [
    {
     "output_type": "stream",
     "name": "stdout",
     "text": [
      "Loading User Index\n",
      "Randomly keeping only 50.0% of the users.\n",
      "Removing day counts\n",
      "Extracting combined user counts\n",
      "Created Dataloader in 21.99 seconds!\n"
     ]
    }
   ],
   "source": [
    "dl = dataloader.RecSys2021TSVDataLoader(\n",
    "    csv_data_location, \n",
    "    use_user_index, \n",
    "    mode=\"train\", \n",
    "    filter_timestamp=filter_timestamp, \n",
    "    verbose=2, \n",
    "    remove_day_counts=True, \n",
    "    keep_user_percent=0.5, \n",
    "    batch_size = 100000,\n",
    "    minibatches_size = 64,\n",
    "    load_n_batches = 20,\n",
    "    normalize_batch = True\n",
    "    )"
   ]
  },
  {
   "cell_type": "code",
   "execution_count": 3,
   "metadata": {},
   "outputs": [],
   "source": [
    "nn = utils.model.RecSysNeural1(\"saved_models/nn1\",166).to(\"cuda\")"
   ]
  },
  {
   "cell_type": "code",
   "execution_count": 4,
   "metadata": {},
   "outputs": [
    {
     "output_type": "stream",
     "name": "stdout",
     "text": [
      "Loaded Batch Nr. 1 in 0.53\n",
      "Timestamp Filtered Batch Nr. 1 in 0.02\n",
      "Did prepro part 1 of 1 in 0.02\n",
      "Did prepro part 2 of 1 in 0.88\n",
      "Did prepro part 3 of 1 in 0.01\n",
      "Merged Users of 1 in 8.78\n",
      "Extracted TE of 1 in 5.36\n",
      "Finished Batch Nr. 1 from file part-00000.tsv in 15.86s!\n",
      "Loaded Batch Nr. 2 in 0.61\n",
      "Timestamp Filtered Batch Nr. 2 in 0.02\n",
      "Did prepro part 1 of 2 in 0.02\n",
      "Did prepro part 2 of 2 in 0.88\n",
      "Did prepro part 3 of 2 in 0.01\n",
      "Merged Users of 2 in 8.81\n",
      "Extracted TE of 2 in 5.29\n",
      "Finished Batch Nr. 2 from file part-00000.tsv in 15.91s!\n",
      "Loaded Batch Nr. 3 in 1.41\n",
      "Timestamp Filtered Batch Nr. 3 in 0.02\n",
      "Did prepro part 1 of 3 in 0.02\n",
      "Did prepro part 2 of 3 in 0.86\n",
      "Did prepro part 3 of 3 in 0.00\n",
      "Merged Users of 3 in 8.80\n",
      "Extracted TE of 3 in 5.32\n",
      "Finished Batch Nr. 3 from file part-00000.tsv in 16.70s!\n",
      "Loaded Batch Nr. 4 in 1.51\n",
      "Timestamp Filtered Batch Nr. 4 in 0.02\n",
      "Did prepro part 1 of 4 in 0.02\n",
      "Did prepro part 2 of 4 in 0.87\n",
      "Did prepro part 3 of 4 in 0.01\n",
      "Merged Users of 4 in 8.77\n",
      "Extracted TE of 4 in 5.38\n",
      "Finished Batch Nr. 4 from file part-00000.tsv in 16.85s!\n",
      "Loaded Batch Nr. 5 in 1.58\n",
      "Timestamp Filtered Batch Nr. 5 in 0.02\n",
      "Did prepro part 1 of 5 in 0.02\n",
      "Did prepro part 2 of 5 in 0.86\n",
      "Did prepro part 3 of 5 in 0.01\n",
      "Merged Users of 5 in 8.73\n",
      "Extracted TE of 5 in 5.30\n",
      "Finished Batch Nr. 5 from file part-00000.tsv in 16.79s!\n",
      "Loaded Batch Nr. 6 in 1.71\n",
      "Timestamp Filtered Batch Nr. 6 in 0.02\n",
      "Did prepro part 1 of 6 in 0.02\n",
      "Did prepro part 2 of 6 in 0.87\n",
      "Did prepro part 3 of 6 in 0.01\n",
      "Merged Users of 6 in 8.79\n",
      "Extracted TE of 6 in 5.32\n",
      "Finished Batch Nr. 6 from file part-00000.tsv in 17.00s!\n",
      "Loaded Batch Nr. 7 in 1.78\n",
      "Timestamp Filtered Batch Nr. 7 in 0.02\n",
      "Did prepro part 1 of 7 in 0.02\n",
      "Did prepro part 2 of 7 in 0.87\n",
      "Did prepro part 3 of 7 in 0.01\n",
      "Merged Users of 7 in 8.82\n",
      "Extracted TE of 7 in 5.35\n",
      "Finished Batch Nr. 7 from file part-00000.tsv in 17.15s!\n",
      "Loaded Batch Nr. 8 in 1.88\n",
      "Timestamp Filtered Batch Nr. 8 in 0.02\n",
      "Did prepro part 1 of 8 in 0.02\n",
      "Did prepro part 2 of 8 in 0.86\n",
      "Did prepro part 3 of 8 in 0.01\n",
      "Merged Users of 8 in 8.76\n",
      "Extracted TE of 8 in 5.33\n",
      "Finished Batch Nr. 8 from file part-00000.tsv in 17.14s!\n",
      "Loaded Batch Nr. 9 in 1.92\n",
      "Timestamp Filtered Batch Nr. 9 in 0.02\n",
      "Did prepro part 1 of 9 in 0.02\n",
      "Did prepro part 2 of 9 in 0.87\n",
      "Did prepro part 3 of 9 in 0.01\n",
      "Merged Users of 9 in 8.84\n",
      "Extracted TE of 9 in 5.29\n",
      "Finished Batch Nr. 9 from file part-00000.tsv in 17.23s!\n",
      "Loaded Batch Nr. 10 in 2.10\n",
      "Timestamp Filtered Batch Nr. 10 in 0.02\n",
      "Did prepro part 1 of 10 in 0.02\n",
      "Did prepro part 2 of 10 in 0.88\n",
      "Did prepro part 3 of 10 in 0.01\n",
      "Merged Users of 10 in 8.81\n",
      "Extracted TE of 10 in 5.33\n",
      "Finished Batch Nr. 10 from file part-00000.tsv in 17.42s!\n",
      "Loaded Batch Nr. 11 in 2.09\n",
      "Timestamp Filtered Batch Nr. 11 in 0.02\n",
      "Did prepro part 1 of 11 in 0.02\n",
      "Did prepro part 2 of 11 in 0.86\n",
      "Did prepro part 3 of 11 in 0.01\n",
      "Merged Users of 11 in 8.81\n",
      "Extracted TE of 11 in 5.30\n",
      "Finished Batch Nr. 11 from file part-00000.tsv in 17.38s!\n",
      "Loaded Batch Nr. 12 in 2.21\n",
      "Timestamp Filtered Batch Nr. 12 in 0.02\n",
      "Did prepro part 1 of 12 in 0.02\n",
      "Did prepro part 2 of 12 in 0.88\n",
      "Did prepro part 3 of 12 in 0.01\n",
      "Merged Users of 12 in 8.76\n",
      "Extracted TE of 12 in 5.34\n",
      "Finished Batch Nr. 12 from file part-00000.tsv in 17.50s!\n",
      "Loaded Batch Nr. 13 in 2.31\n",
      "Timestamp Filtered Batch Nr. 13 in 0.02\n",
      "Did prepro part 1 of 13 in 0.02\n",
      "Did prepro part 2 of 13 in 0.87\n",
      "Did prepro part 3 of 13 in 0.01\n",
      "Merged Users of 13 in 8.71\n",
      "Extracted TE of 13 in 5.30\n",
      "Finished Batch Nr. 13 from file part-00000.tsv in 17.50s!\n",
      "Loaded Batch Nr. 14 in 2.40\n",
      "Timestamp Filtered Batch Nr. 14 in 0.02\n",
      "Did prepro part 1 of 14 in 0.02\n",
      "Did prepro part 2 of 14 in 0.88\n",
      "Did prepro part 3 of 14 in 0.01\n",
      "Merged Users of 14 in 8.77\n",
      "Extracted TE of 14 in 5.29\n",
      "Finished Batch Nr. 14 from file part-00000.tsv in 17.66s!\n",
      "Loaded Batch Nr. 15 in 2.51\n",
      "Timestamp Filtered Batch Nr. 15 in 0.02\n",
      "Did prepro part 1 of 15 in 0.02\n",
      "Did prepro part 2 of 15 in 0.88\n",
      "Did prepro part 3 of 15 in 0.01\n",
      "Merged Users of 15 in 8.82\n",
      "Extracted TE of 15 in 5.35\n",
      "Finished Batch Nr. 15 from file part-00000.tsv in 17.87s!\n",
      "Loaded Batch Nr. 16 in 2.69\n",
      "Timestamp Filtered Batch Nr. 16 in 0.02\n",
      "Did prepro part 1 of 16 in 0.02\n",
      "Did prepro part 2 of 16 in 0.87\n",
      "Did prepro part 3 of 16 in 0.01\n",
      "Merged Users of 16 in 8.79\n",
      "Extracted TE of 16 in 5.34\n",
      "Finished Batch Nr. 16 from file part-00000.tsv in 18.01s!\n",
      "Loaded Batch Nr. 17 in 2.68\n",
      "Timestamp Filtered Batch Nr. 17 in 0.02\n",
      "Did prepro part 1 of 17 in 0.02\n",
      "Did prepro part 2 of 17 in 0.86\n",
      "Did prepro part 3 of 17 in 0.00\n",
      "Merged Users of 17 in 8.78\n",
      "Extracted TE of 17 in 5.30\n",
      "Finished Batch Nr. 17 from file part-00000.tsv in 17.92s!\n",
      "Loaded Batch Nr. 18 in 2.73\n",
      "Timestamp Filtered Batch Nr. 18 in 0.02\n",
      "Did prepro part 1 of 18 in 0.02\n",
      "Did prepro part 2 of 18 in 0.88\n",
      "Did prepro part 3 of 18 in 0.00\n",
      "Merged Users of 18 in 8.73\n",
      "Extracted TE of 18 in 5.30\n",
      "Finished Batch Nr. 18 from file part-00000.tsv in 17.96s!\n",
      "Loaded Batch Nr. 19 in 2.83\n",
      "Timestamp Filtered Batch Nr. 19 in 0.02\n",
      "Did prepro part 1 of 19 in 0.02\n",
      "Did prepro part 2 of 19 in 0.86\n",
      "Did prepro part 3 of 19 in 0.01\n",
      "Merged Users of 19 in 8.69\n",
      "Extracted TE of 19 in 5.29\n",
      "Finished Batch Nr. 19 from file part-00000.tsv in 17.99s!\n",
      "Loaded Batch Nr. 20 in 3.06\n",
      "Timestamp Filtered Batch Nr. 20 in 0.02\n",
      "Did prepro part 1 of 20 in 0.02\n",
      "Did prepro part 2 of 20 in 0.88\n",
      "Did prepro part 3 of 20 in 0.00\n",
      "Merged Users of 20 in 8.81\n",
      "Extracted TE of 20 in 5.28\n",
      "Finished Batch Nr. 20 from file part-00000.tsv in 18.33s!\n"
     ]
    }
   ],
   "source": [
    "nn.fit(dl, 1)"
   ]
  },
  {
   "cell_type": "code",
   "execution_count": 5,
   "metadata": {},
   "outputs": [
    {
     "output_type": "stream",
     "name": "stdout",
     "text": [
      "Loading User Index\n",
      "Removing day counts\n",
      "Extracting combined user counts\n",
      "Created Dataloader in 9.23 seconds!\n",
      "Loaded Batch Nr. 1 in 0.50\n",
      "Timestamp Filtered Batch Nr. 1 in 0.01\n",
      "Did prepro part 1 of 1 in 0.01\n",
      "Did prepro part 2 of 1 in 0.35\n",
      "Did prepro part 3 of 1 in 0.00\n",
      "Merged Users of 1 in 20.75\n",
      "Extracted TE of 1 in 10.51\n",
      "Finished Batch Nr. 1 from file part-00000.tsv in 32.27s!\n",
      "Loaded Batch Nr. 2 in 0.60\n",
      "Timestamp Filtered Batch Nr. 2 in 0.01\n",
      "Did prepro part 1 of 2 in 0.01\n",
      "Did prepro part 2 of 2 in 0.36\n",
      "Did prepro part 3 of 2 in 0.00\n",
      "Merged Users of 2 in 19.24\n",
      "Extracted TE of 2 in 10.39\n",
      "Finished Batch Nr. 2 from file part-00000.tsv in 30.75s!\n"
     ]
    },
    {
     "output_type": "execute_result",
     "data": {
      "text/plain": [
       "{'Q1_reply_rce': -55.06375529232655,\n",
       " 'Q1_retweet_rce': 2.022846040964088,\n",
       " 'Q1_retweet_comment_rce': -1779.8738613419546,\n",
       " 'Q1_like_rce': -33.556324489285075,\n",
       " 'Q1_reply_avg_prec': 0.15847665901759944,\n",
       " 'Q1_retweet_avg_prec': 0.3183992278567487,\n",
       " 'Q1_retweet_comment_avg_prec': 0.012456490593981896,\n",
       " 'Q1_like_avg_prec': 0.6371322559900724,\n",
       " 'Q2_reply_rce': -69.87847181000113,\n",
       " 'Q2_retweet_rce': 6.4290856674497965,\n",
       " 'Q2_retweet_comment_rce': -1713.128849104653,\n",
       " 'Q2_like_rce': -26.586873867452155,\n",
       " 'Q2_reply_avg_prec': 0.15787283026510363,\n",
       " 'Q2_retweet_avg_prec': 0.30418172967899715,\n",
       " 'Q2_retweet_comment_avg_prec': 0.0320185234437078,\n",
       " 'Q2_like_avg_prec': 0.6575847322885718,\n",
       " 'Q3_reply_rce': -68.04658336242227,\n",
       " 'Q3_retweet_rce': 11.167206860620848,\n",
       " 'Q3_retweet_comment_rce': -1096.8625199070543,\n",
       " 'Q3_like_rce': -15.533225203282308,\n",
       " 'Q3_reply_avg_prec': 0.17978344581739844,\n",
       " 'Q3_retweet_avg_prec': 0.3482818652909233,\n",
       " 'Q3_retweet_comment_avg_prec': 0.015857833740217535,\n",
       " 'Q3_like_avg_prec': 0.6567000236385427,\n",
       " 'Q4_reply_rce': -94.08723578637476,\n",
       " 'Q4_retweet_rce': 14.027504353393683,\n",
       " 'Q4_retweet_comment_rce': -1043.8681907205514,\n",
       " 'Q4_like_rce': -15.70046307663635,\n",
       " 'Q4_reply_avg_prec': 0.1357782597762223,\n",
       " 'Q4_retweet_avg_prec': 0.37342436753051944,\n",
       " 'Q4_retweet_comment_avg_prec': 0.03359344801286888,\n",
       " 'Q4_like_avg_prec': 0.6577912227315191,\n",
       " 'Q5_reply_rce': -114.27845531785246,\n",
       " 'Q5_retweet_rce': 7.551634417797592,\n",
       " 'Q5_retweet_comment_rce': -1171.679261120721,\n",
       " 'Q5_like_rce': -3.3687576940799158,\n",
       " 'Q5_reply_avg_prec': 0.09227073574736669,\n",
       " 'Q5_retweet_avg_prec': 0.28978193582223455,\n",
       " 'Q5_retweet_comment_avg_prec': 0.017640340920890958,\n",
       " 'Q5_like_avg_prec': 0.657477525382726,\n",
       " 'TOTAL_reply_rce': -80.27090031379544,\n",
       " 'TOTAL_retweet_rce': 8.239655468045202,\n",
       " 'TOTAL_retweet_comment_rce': -1361.082536438987,\n",
       " 'TOTAL_like_rce': -18.949128866147163,\n",
       " 'TOTAL_reply_avg_prec': 0.1448363861247381,\n",
       " 'TOTAL_retweet_avg_prec': 0.32681382523588465,\n",
       " 'TOTAL_retweet_comment_avg_prec': 0.022313327342333412,\n",
       " 'TOTAL_like_avg_prec': 0.6533371520062864}"
      ]
     },
     "metadata": {},
     "execution_count": 5
    }
   ],
   "source": [
    "dl = dataloader.RecSys2021TSVDataLoader(\n",
    "    csv_data_location, \n",
    "    use_user_index, \n",
    "    mode=\"val\", \n",
    "    filter_timestamp=filter_timestamp, \n",
    "    verbose=2,\n",
    "    remove_day_counts=True, \n",
    "    keep_user_percent=1, \n",
    "    batch_size = 100000,\n",
    "    minibatches_size = 64,\n",
    "    load_n_batches = 2,\n",
    "    normalize_batch = True\n",
    ")\n",
    "\n",
    "nn.evaluate_validation_set(dl)"
   ]
  },
  {
   "cell_type": "code",
   "execution_count": 2,
   "metadata": {},
   "outputs": [],
   "source": [
    "from utils.constants import user_group_weights\n",
    "import torch"
   ]
  },
  {
   "cell_type": "code",
   "execution_count": 7,
   "metadata": {},
   "outputs": [],
   "source": [
    "groups = [1,2,4,5]"
   ]
  },
  {
   "cell_type": "code",
   "execution_count": 8,
   "metadata": {},
   "outputs": [
    {
     "output_type": "execute_result",
     "data": {
      "text/plain": [
       "[0.9870774328685435,\n",
       " 0.9705157535873209,\n",
       " 0.8466576397178028,\n",
       " 0.4343195950966685]"
      ]
     },
     "metadata": {},
     "execution_count": 8
    }
   ],
   "source": [
    "[user_group_weights[it] for it in groups]"
   ]
  },
  {
   "source": [
    "# Other"
   ],
   "cell_type": "markdown",
   "metadata": {}
  },
  {
   "cell_type": "code",
   "execution_count": 1,
   "metadata": {},
   "outputs": [],
   "source": [
    "import utils.download"
   ]
  },
  {
   "cell_type": "code",
   "execution_count": 2,
   "metadata": {},
   "outputs": [
    {
     "output_type": "stream",
     "name": "stdout",
     "text": [
      "Downloading https://storage.googleapis.com to data/validation_data/part-00000.lzo... done\n",
      "Uncompressing data/validation_data/part-00000.lzo... done\n",
      "Downloading https://storage.googleapis.com to data/validation_data/part-00001.lzo... done\n",
      "Uncompressing data/validation_data/part-00001.lzo... done\n"
     ]
    }
   ],
   "source": [
    "utils.download.download_data(\"validation_urls.txt\",\"data/validation_data\", delete_compressed = False)"
   ]
  },
  {
   "cell_type": "code",
   "execution_count": 10,
   "metadata": {},
   "outputs": [],
   "source": [
    "import pandas as pd\n",
    "from utils.constants import all_columns, dtypes_of_features, all_features"
   ]
  },
  {
   "cell_type": "code",
   "execution_count": 11,
   "metadata": {},
   "outputs": [
    {
     "output_type": "execute_result",
     "data": {
      "text/plain": [
       "                     bert_base_multilingual_cased_tokens  \\\n",
       "0      101\\t157\\t39554\\t117\\t51747\\t10479\\t27874\\t101...   \n",
       "1      101\\t14120\\t131\\t120\\t120\\t188\\t119\\t11170\\t12...   \n",
       "2      101\\t56898\\t137\\t10279\\t10908\\t10138\\t168\\t398...   \n",
       "3      101\\t56898\\t137\\t12275\\t10738\\t11534\\t15417\\t9...   \n",
       "4      101\\t109821\\t24093\\t14703\\t30118\\t11259\\t160\\t...   \n",
       "...                                                  ...   \n",
       "99995  101\\t49056\\t27354\\t34935\\t69618\\t39752\\t10230\\...   \n",
       "99996  101\\t10911\\t146\\t100\\t172\\t16863\\t29597\\t86607...   \n",
       "99997  101\\t56898\\t137\\t14424\\t168\\t48742\\t131\\t108\\t...   \n",
       "99998  101\\t1894\\t88218\\t7860\\t2316\\t1895\\t108\\t2087\\...   \n",
       "99999  101\\t24625\\t12216\\t16190\\t20934\\t10305\\t39135\\...   \n",
       "\n",
       "                                                hashtags  \\\n",
       "0                                                    NaN   \n",
       "1                                                    NaN   \n",
       "2      90C52DDF506D1C98EE678E84C08C36AB\\tCD8639BABE54...   \n",
       "3      D704B4128E35F9BC995E701523676542\\tCFD3AF9039C6...   \n",
       "4                                                    NaN   \n",
       "...                                                  ...   \n",
       "99995                   E27EDC9E620D43F17663DCAEAA958585   \n",
       "99996                                                NaN   \n",
       "99997  4A99F523FECC5224DFB8B55027794D21\\t18B9EA3B7FDC...   \n",
       "99998  35825087788754DC26ED3A6364FD3A55\\tD1E4BFB9BD83...   \n",
       "99999                                                NaN   \n",
       "\n",
       "                               tweet_id                      medias  \\\n",
       "0      0C8E7372269942BB173EED7C0A72DA09                         NaN   \n",
       "1      858720854891DFED04A5B91758049833                       Photo   \n",
       "2      1988AA4069C46F57990B6983FBD427A6                         NaN   \n",
       "3      89C86150124016236B7D4A286B041210                         NaN   \n",
       "4      971197A8E595128D8BAF8F3F9D20CFF3                Photo\\tPhoto   \n",
       "...                                 ...                         ...   \n",
       "99995  B434BB652FBBA4D4CA2C8B75CD65D60D  Photo\\tPhoto\\tPhoto\\tPhoto   \n",
       "99996  710CA52FDB579F8C375D21CF967DD32A                         NaN   \n",
       "99997  ACF411715253EA6B18794E067D62D530                         NaN   \n",
       "99998  0F6E4AF7D5A70C4C9519D224604EB61C                         NaN   \n",
       "99999  00AD7C226F494AB80FE24B262CDA7092  Photo\\tPhoto\\tPhoto\\tPhoto   \n",
       "\n",
       "                                  links                           domains  \\\n",
       "0                                   NaN                               NaN   \n",
       "1                                   NaN                               NaN   \n",
       "2      D249E94F6D37A7D5E37185E02C94CDFF  9EFF000CDB18B710CDDB43EE1D8C300B   \n",
       "3                                   NaN                               NaN   \n",
       "4                                   NaN                               NaN   \n",
       "...                                 ...                               ...   \n",
       "99995                               NaN                               NaN   \n",
       "99996                               NaN                               NaN   \n",
       "99997                               NaN                               NaN   \n",
       "99998  A33C298D80264AFAB5612248F785024C  1CE85CC733BA6144D83EDF75F95DCA4E   \n",
       "99999                               NaN                               NaN   \n",
       "\n",
       "           type                          language   timestamp  \\\n",
       "0         Quote  488B32D24BD4BB44172EB981C1BCA6FA  1614523782   \n",
       "1      TopLevel  313ECD3A1E5BB07406E4249475C2D6D6  1614335436   \n",
       "2       Retweet  E7F038DE3EAD397AEC9193686C911677  1614618153   \n",
       "3       Retweet  E7F038DE3EAD397AEC9193686C911677  1614714932   \n",
       "4      TopLevel  488B32D24BD4BB44172EB981C1BCA6FA  1614559113   \n",
       "...         ...                               ...         ...   \n",
       "99995  TopLevel  488B32D24BD4BB44172EB981C1BCA6FA  1614747844   \n",
       "99996  TopLevel  488B32D24BD4BB44172EB981C1BCA6FA  1614670776   \n",
       "99997   Retweet  E7F038DE3EAD397AEC9193686C911677  1614768600   \n",
       "99998  TopLevel  E7F038DE3EAD397AEC9193686C911677  1614238664   \n",
       "99999  TopLevel  1F73BB863A39DB62B4A55B7E558DB1E8  1614248932   \n",
       "\n",
       "                              a_user_id  ...  \\\n",
       "0      8B7BB615A39DF112B0037E960C27F220  ...   \n",
       "1      74B09D5BC3FCE5CC4DEE34BF049A0EE5  ...   \n",
       "2      316C2BE47E445DA930E56C12F3AF31C5  ...   \n",
       "3      C19FC40FBF0AA0BAC4797BD47483349B  ...   \n",
       "4      46846BF25E56F8BA11C0AE36ED31B28F  ...   \n",
       "...                                 ...  ...   \n",
       "99995  967E7C2A6A7F277E37C8E77D224B7E18  ...   \n",
       "99996  04F8A6F207D69EF1E63F4926D1D4DBAB  ...   \n",
       "99997  3AD09AAD3F97E386B12E14772CAA5E67  ...   \n",
       "99998  2D2E9B9AD37B72325FDEA86D1197975D  ...   \n",
       "99999  FA3D16F4CF4256512B2FEEECA6378146  ...   \n",
       "\n",
       "                              b_user_id  b_follower_count  b_following_count  \\\n",
       "0      3044AFDB7E977FB7F62D49C5C97794B7              1128               4028   \n",
       "1      23ACD97ACEF57BF6416670BE1133A664                72                115   \n",
       "2      99F829F88A12BF8B92EDF11A10B6533C               130                638   \n",
       "3      A3A7B6D928FAD730BA9967B53EA7CC28               234                640   \n",
       "4      BA94D75FC03B42F88CAE61485E075960                 8                208   \n",
       "...                                 ...               ...                ...   \n",
       "99995  F9414BF0E778E51C5BC48655D0C52583              4542               1401   \n",
       "99996  D8462FB3BBD84B0431CF79EC2D106983               738                677   \n",
       "99997  7A7A62AC9D03EC812B0971FFCE113A9B               324               1736   \n",
       "99998  3EA329F4500E2FB2DFEF0C482E43C2D5                 8                 57   \n",
       "99999  5288EF236BD63A6A403F58A821A38B19               381                525   \n",
       "\n",
       "       b_is_verified b_account_creation  a_follows_b  reply  retweet  \\\n",
       "0              False         1419763073        False    NaN      NaN   \n",
       "1              False         1600058407        False    NaN      NaN   \n",
       "2              False         1257076693        False    NaN      NaN   \n",
       "3              False         1599725409        False    NaN      NaN   \n",
       "4              False         1532879982        False    NaN      NaN   \n",
       "...              ...                ...          ...    ...      ...   \n",
       "99995          False         1344160517         True    NaN      NaN   \n",
       "99996          False         1288417538        False    NaN      NaN   \n",
       "99997          False         1339671557         True    NaN      NaN   \n",
       "99998          False         1548231263        False    NaN      NaN   \n",
       "99999          False         1349299536         True    NaN      NaN   \n",
       "\n",
       "       retweet_comment          like  \n",
       "0                  NaN  1.614526e+09  \n",
       "1                  NaN  1.614379e+09  \n",
       "2                  NaN           NaN  \n",
       "3                  NaN  1.614715e+09  \n",
       "4                  NaN  1.614618e+09  \n",
       "...                ...           ...  \n",
       "99995              NaN  1.614755e+09  \n",
       "99996              NaN           NaN  \n",
       "99997              NaN           NaN  \n",
       "99998              NaN           NaN  \n",
       "99999              NaN  1.614249e+09  \n",
       "\n",
       "[100000 rows x 24 columns]"
      ],
      "text/html": "<div>\n<style scoped>\n    .dataframe tbody tr th:only-of-type {\n        vertical-align: middle;\n    }\n\n    .dataframe tbody tr th {\n        vertical-align: top;\n    }\n\n    .dataframe thead th {\n        text-align: right;\n    }\n</style>\n<table border=\"1\" class=\"dataframe\">\n  <thead>\n    <tr style=\"text-align: right;\">\n      <th></th>\n      <th>bert_base_multilingual_cased_tokens</th>\n      <th>hashtags</th>\n      <th>tweet_id</th>\n      <th>medias</th>\n      <th>links</th>\n      <th>domains</th>\n      <th>type</th>\n      <th>language</th>\n      <th>timestamp</th>\n      <th>a_user_id</th>\n      <th>...</th>\n      <th>b_user_id</th>\n      <th>b_follower_count</th>\n      <th>b_following_count</th>\n      <th>b_is_verified</th>\n      <th>b_account_creation</th>\n      <th>a_follows_b</th>\n      <th>reply</th>\n      <th>retweet</th>\n      <th>retweet_comment</th>\n      <th>like</th>\n    </tr>\n  </thead>\n  <tbody>\n    <tr>\n      <th>0</th>\n      <td>101\\t157\\t39554\\t117\\t51747\\t10479\\t27874\\t101...</td>\n      <td>NaN</td>\n      <td>0C8E7372269942BB173EED7C0A72DA09</td>\n      <td>NaN</td>\n      <td>NaN</td>\n      <td>NaN</td>\n      <td>Quote</td>\n      <td>488B32D24BD4BB44172EB981C1BCA6FA</td>\n      <td>1614523782</td>\n      <td>8B7BB615A39DF112B0037E960C27F220</td>\n      <td>...</td>\n      <td>3044AFDB7E977FB7F62D49C5C97794B7</td>\n      <td>1128</td>\n      <td>4028</td>\n      <td>False</td>\n      <td>1419763073</td>\n      <td>False</td>\n      <td>NaN</td>\n      <td>NaN</td>\n      <td>NaN</td>\n      <td>1.614526e+09</td>\n    </tr>\n    <tr>\n      <th>1</th>\n      <td>101\\t14120\\t131\\t120\\t120\\t188\\t119\\t11170\\t12...</td>\n      <td>NaN</td>\n      <td>858720854891DFED04A5B91758049833</td>\n      <td>Photo</td>\n      <td>NaN</td>\n      <td>NaN</td>\n      <td>TopLevel</td>\n      <td>313ECD3A1E5BB07406E4249475C2D6D6</td>\n      <td>1614335436</td>\n      <td>74B09D5BC3FCE5CC4DEE34BF049A0EE5</td>\n      <td>...</td>\n      <td>23ACD97ACEF57BF6416670BE1133A664</td>\n      <td>72</td>\n      <td>115</td>\n      <td>False</td>\n      <td>1600058407</td>\n      <td>False</td>\n      <td>NaN</td>\n      <td>NaN</td>\n      <td>NaN</td>\n      <td>1.614379e+09</td>\n    </tr>\n    <tr>\n      <th>2</th>\n      <td>101\\t56898\\t137\\t10279\\t10908\\t10138\\t168\\t398...</td>\n      <td>90C52DDF506D1C98EE678E84C08C36AB\\tCD8639BABE54...</td>\n      <td>1988AA4069C46F57990B6983FBD427A6</td>\n      <td>NaN</td>\n      <td>D249E94F6D37A7D5E37185E02C94CDFF</td>\n      <td>9EFF000CDB18B710CDDB43EE1D8C300B</td>\n      <td>Retweet</td>\n      <td>E7F038DE3EAD397AEC9193686C911677</td>\n      <td>1614618153</td>\n      <td>316C2BE47E445DA930E56C12F3AF31C5</td>\n      <td>...</td>\n      <td>99F829F88A12BF8B92EDF11A10B6533C</td>\n      <td>130</td>\n      <td>638</td>\n      <td>False</td>\n      <td>1257076693</td>\n      <td>False</td>\n      <td>NaN</td>\n      <td>NaN</td>\n      <td>NaN</td>\n      <td>NaN</td>\n    </tr>\n    <tr>\n      <th>3</th>\n      <td>101\\t56898\\t137\\t12275\\t10738\\t11534\\t15417\\t9...</td>\n      <td>D704B4128E35F9BC995E701523676542\\tCFD3AF9039C6...</td>\n      <td>89C86150124016236B7D4A286B041210</td>\n      <td>NaN</td>\n      <td>NaN</td>\n      <td>NaN</td>\n      <td>Retweet</td>\n      <td>E7F038DE3EAD397AEC9193686C911677</td>\n      <td>1614714932</td>\n      <td>C19FC40FBF0AA0BAC4797BD47483349B</td>\n      <td>...</td>\n      <td>A3A7B6D928FAD730BA9967B53EA7CC28</td>\n      <td>234</td>\n      <td>640</td>\n      <td>False</td>\n      <td>1599725409</td>\n      <td>False</td>\n      <td>NaN</td>\n      <td>NaN</td>\n      <td>NaN</td>\n      <td>1.614715e+09</td>\n    </tr>\n    <tr>\n      <th>4</th>\n      <td>101\\t109821\\t24093\\t14703\\t30118\\t11259\\t160\\t...</td>\n      <td>NaN</td>\n      <td>971197A8E595128D8BAF8F3F9D20CFF3</td>\n      <td>Photo\\tPhoto</td>\n      <td>NaN</td>\n      <td>NaN</td>\n      <td>TopLevel</td>\n      <td>488B32D24BD4BB44172EB981C1BCA6FA</td>\n      <td>1614559113</td>\n      <td>46846BF25E56F8BA11C0AE36ED31B28F</td>\n      <td>...</td>\n      <td>BA94D75FC03B42F88CAE61485E075960</td>\n      <td>8</td>\n      <td>208</td>\n      <td>False</td>\n      <td>1532879982</td>\n      <td>False</td>\n      <td>NaN</td>\n      <td>NaN</td>\n      <td>NaN</td>\n      <td>1.614618e+09</td>\n    </tr>\n    <tr>\n      <th>...</th>\n      <td>...</td>\n      <td>...</td>\n      <td>...</td>\n      <td>...</td>\n      <td>...</td>\n      <td>...</td>\n      <td>...</td>\n      <td>...</td>\n      <td>...</td>\n      <td>...</td>\n      <td>...</td>\n      <td>...</td>\n      <td>...</td>\n      <td>...</td>\n      <td>...</td>\n      <td>...</td>\n      <td>...</td>\n      <td>...</td>\n      <td>...</td>\n      <td>...</td>\n      <td>...</td>\n    </tr>\n    <tr>\n      <th>99995</th>\n      <td>101\\t49056\\t27354\\t34935\\t69618\\t39752\\t10230\\...</td>\n      <td>E27EDC9E620D43F17663DCAEAA958585</td>\n      <td>B434BB652FBBA4D4CA2C8B75CD65D60D</td>\n      <td>Photo\\tPhoto\\tPhoto\\tPhoto</td>\n      <td>NaN</td>\n      <td>NaN</td>\n      <td>TopLevel</td>\n      <td>488B32D24BD4BB44172EB981C1BCA6FA</td>\n      <td>1614747844</td>\n      <td>967E7C2A6A7F277E37C8E77D224B7E18</td>\n      <td>...</td>\n      <td>F9414BF0E778E51C5BC48655D0C52583</td>\n      <td>4542</td>\n      <td>1401</td>\n      <td>False</td>\n      <td>1344160517</td>\n      <td>True</td>\n      <td>NaN</td>\n      <td>NaN</td>\n      <td>NaN</td>\n      <td>1.614755e+09</td>\n    </tr>\n    <tr>\n      <th>99996</th>\n      <td>101\\t10911\\t146\\t100\\t172\\t16863\\t29597\\t86607...</td>\n      <td>NaN</td>\n      <td>710CA52FDB579F8C375D21CF967DD32A</td>\n      <td>NaN</td>\n      <td>NaN</td>\n      <td>NaN</td>\n      <td>TopLevel</td>\n      <td>488B32D24BD4BB44172EB981C1BCA6FA</td>\n      <td>1614670776</td>\n      <td>04F8A6F207D69EF1E63F4926D1D4DBAB</td>\n      <td>...</td>\n      <td>D8462FB3BBD84B0431CF79EC2D106983</td>\n      <td>738</td>\n      <td>677</td>\n      <td>False</td>\n      <td>1288417538</td>\n      <td>False</td>\n      <td>NaN</td>\n      <td>NaN</td>\n      <td>NaN</td>\n      <td>NaN</td>\n    </tr>\n    <tr>\n      <th>99997</th>\n      <td>101\\t56898\\t137\\t14424\\t168\\t48742\\t131\\t108\\t...</td>\n      <td>4A99F523FECC5224DFB8B55027794D21\\t18B9EA3B7FDC...</td>\n      <td>ACF411715253EA6B18794E067D62D530</td>\n      <td>NaN</td>\n      <td>NaN</td>\n      <td>NaN</td>\n      <td>Retweet</td>\n      <td>E7F038DE3EAD397AEC9193686C911677</td>\n      <td>1614768600</td>\n      <td>3AD09AAD3F97E386B12E14772CAA5E67</td>\n      <td>...</td>\n      <td>7A7A62AC9D03EC812B0971FFCE113A9B</td>\n      <td>324</td>\n      <td>1736</td>\n      <td>False</td>\n      <td>1339671557</td>\n      <td>True</td>\n      <td>NaN</td>\n      <td>NaN</td>\n      <td>NaN</td>\n      <td>NaN</td>\n    </tr>\n    <tr>\n      <th>99998</th>\n      <td>101\\t1894\\t88218\\t7860\\t2316\\t1895\\t108\\t2087\\...</td>\n      <td>35825087788754DC26ED3A6364FD3A55\\tD1E4BFB9BD83...</td>\n      <td>0F6E4AF7D5A70C4C9519D224604EB61C</td>\n      <td>NaN</td>\n      <td>A33C298D80264AFAB5612248F785024C</td>\n      <td>1CE85CC733BA6144D83EDF75F95DCA4E</td>\n      <td>TopLevel</td>\n      <td>E7F038DE3EAD397AEC9193686C911677</td>\n      <td>1614238664</td>\n      <td>2D2E9B9AD37B72325FDEA86D1197975D</td>\n      <td>...</td>\n      <td>3EA329F4500E2FB2DFEF0C482E43C2D5</td>\n      <td>8</td>\n      <td>57</td>\n      <td>False</td>\n      <td>1548231263</td>\n      <td>False</td>\n      <td>NaN</td>\n      <td>NaN</td>\n      <td>NaN</td>\n      <td>NaN</td>\n    </tr>\n    <tr>\n      <th>99999</th>\n      <td>101\\t24625\\t12216\\t16190\\t20934\\t10305\\t39135\\...</td>\n      <td>NaN</td>\n      <td>00AD7C226F494AB80FE24B262CDA7092</td>\n      <td>Photo\\tPhoto\\tPhoto\\tPhoto</td>\n      <td>NaN</td>\n      <td>NaN</td>\n      <td>TopLevel</td>\n      <td>1F73BB863A39DB62B4A55B7E558DB1E8</td>\n      <td>1614248932</td>\n      <td>FA3D16F4CF4256512B2FEEECA6378146</td>\n      <td>...</td>\n      <td>5288EF236BD63A6A403F58A821A38B19</td>\n      <td>381</td>\n      <td>525</td>\n      <td>False</td>\n      <td>1349299536</td>\n      <td>True</td>\n      <td>NaN</td>\n      <td>NaN</td>\n      <td>NaN</td>\n      <td>1.614249e+09</td>\n    </tr>\n  </tbody>\n</table>\n<p>100000 rows × 24 columns</p>\n</div>"
     },
     "metadata": {},
     "execution_count": 11
    }
   ],
   "source": [
    "pd.read_csv(\"data/validation_data/part-00000.lzo\",\n",
    "                sep='\\x01',\n",
    "                header=None,\n",
    "                names=all_columns,\n",
    "                dtype={k: v for k, v in dtypes_of_features.items() if k in all_features},\n",
    "                nrows = 100000\n",
    "                )"
   ]
  },
  {
   "cell_type": "code",
   "execution_count": 3,
   "metadata": {},
   "outputs": [
    {
     "output_type": "stream",
     "name": "stdout",
     "text": [
      "Loaded Batch Nr. 1 in 8.59\n",
      "Timestamp Filtered Batch Nr. 1 in 0.00\n",
      "Did prepro part 1 of 1 in 0.36\n",
      "Did prepro part 2 of 1 in 20.40\n",
      "Did prepro part 3 of 1 in 0.09\n",
      "Merged Users of 1 in 25.17\n",
      "Extracted TE of 1 in 14.11\n",
      "Finished Batch Nr. 1 from file part-00000.tsv in 73.28s!\n"
     ]
    }
   ],
   "source": [
    "res = next(iter(dl))"
   ]
  },
  {
   "cell_type": "code",
   "execution_count": 5,
   "metadata": {},
   "outputs": [
    {
     "output_type": "stream",
     "name": "stdout",
     "text": [
      "a_follower_count                                            a_following_count                                           a_is_verified                                               b_follower_count                                            b_following_count                                           b_is_verified                                               a_follows_b                                                 bert_token_len                                              photo_count                                                 video_count                                                 gif_count                                                   type_encoding                                               language_encoding                                           a_followers                                                 a_following                                                 b_followers                                                 b_following                                                 day_of_week                                                 hour_of_day                                                 a_b_creation_delta                                          a_creation_delta                                            b_creation_delta                                            a_b_follower_ratio                                          a_b_following_ratio                                         TE_reply_a_TopLevel_A                                       TE_reply_a_TopLevel_B                                       TE_reply_a_Retweet_A                                        TE_reply_a_Retweet_B                                        TE_reply_a_Quote_A                                          TE_reply_a_Quote_B                                          TE_reply_a_A                                                TE_reply_a_B                                                TE_reply_b_TopLevel_A                                       TE_reply_b_TopLevel_B                                       TE_reply_b_Retweet_A                                        TE_reply_b_Retweet_B                                        TE_reply_b_Quote_A                                          TE_reply_b_Quote_B                                          TE_reply_b_A                                                TE_reply_b_B                                                TE_like_a_TopLevel_A                                        TE_like_a_TopLevel_B                                        TE_like_a_Retweet_A                                         TE_like_a_Retweet_B                                         TE_like_a_Quote_A                                           TE_like_a_Quote_B                                           TE_like_a_A                                                 TE_like_a_B                                                 TE_like_b_TopLevel_A                                        TE_like_b_TopLevel_B                                        TE_like_b_Retweet_A                                         TE_like_b_Retweet_B                                         TE_like_b_Quote_A                                           TE_like_b_Quote_B                                           TE_like_b_A                                                 TE_like_b_B                                                 TE_retweet_a_TopLevel_A                                     TE_retweet_a_TopLevel_B                                     TE_retweet_a_Retweet_A                                      TE_retweet_a_Retweet_B                                      TE_retweet_a_Quote_A                                        TE_retweet_a_Quote_B                                        TE_retweet_a_A                                              TE_retweet_a_B                                              TE_retweet_b_TopLevel_A                                     TE_retweet_b_TopLevel_B                                     TE_retweet_b_Retweet_A                                      TE_retweet_b_Retweet_B                                      TE_retweet_b_Quote_A                                        TE_retweet_b_Quote_B                                        TE_retweet_b_A                                              TE_retweet_b_B                                              TE_retweet_comment_a_TopLevel_A                             TE_retweet_comment_a_TopLevel_B                             TE_retweet_comment_a_Retweet_A                              TE_retweet_comment_a_Retweet_B                              TE_retweet_comment_a_Quote_A                                TE_retweet_comment_a_Quote_B                                TE_retweet_comment_a_A                                      TE_retweet_comment_a_B                                      TE_retweet_comment_b_TopLevel_A                             TE_retweet_comment_b_TopLevel_B                             TE_retweet_comment_b_Retweet_A                              TE_retweet_comment_b_Retweet_B                              TE_retweet_comment_b_Quote_A                                TE_retweet_comment_b_Quote_B                                TE_retweet_comment_b_A                                      TE_retweet_comment_b_B                                      "
     ]
    }
   ],
   "source": [
    "for col in res[0].columns:\n",
    "    if col.startswith(\"n_\") or True:\n",
    "        print(f\"{col:60}\", end=\"\")"
   ]
  },
  {
   "cell_type": "code",
   "execution_count": 23,
   "metadata": {},
   "outputs": [],
   "source": []
  },
  {
   "cell_type": "code",
   "execution_count": null,
   "metadata": {},
   "outputs": [],
   "source": [
    "for key in res:\n",
    "    print(f\"{key:32}: {res[key]}\")"
   ]
  }
 ]
}