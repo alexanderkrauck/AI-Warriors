{
 "metadata": {
  "language_info": {
   "codemirror_mode": {
    "name": "ipython",
    "version": 3
   },
   "file_extension": ".py",
   "mimetype": "text/x-python",
   "name": "python",
   "nbconvert_exporter": "python",
   "pygments_lexer": "ipython3",
   "version": "3.9.5"
  },
  "orig_nbformat": 2,
  "kernelspec": {
   "name": "python3",
   "display_name": "Python 3.9.5 64-bit ('m1': conda)"
  },
  "metadata": {
   "interpreter": {
    "hash": "3b92691d56bfc9d5af752bc6654e963678e4150a6c1b95c958d07e2434145127"
   }
  },
  "interpreter": {
   "hash": "3b92691d56bfc9d5af752bc6654e963678e4150a6c1b95c958d07e2434145127"
  }
 },
 "nbformat": 4,
 "nbformat_minor": 2,
 "cells": [
  {
   "source": [
    "## Train the model"
   ],
   "cell_type": "markdown",
   "metadata": {}
  },
  {
   "cell_type": "code",
   "execution_count": 1,
   "metadata": {},
   "outputs": [],
   "source": [
    "from utils import dataloader\n",
    "import utils.model\n",
    "from datetime import datetime\n",
    "from os.path import join\n",
    "from importlib import reload\n",
    "\n",
    "method_name = \"54_All_20_TE_98percent_user_no_tweet_features\"\n",
    "filter_timestamp = None#int(datetime(2021, 2, 19, 0).timestamp())\n",
    "use_user_index = join(\"indices\",\"user_index_w_type.parquet\")#\"train_user_index.parquet\"\n",
    "csv_data_location = join(\"data\",\"downloaded_data\")\n",
    "model_save_location = join(\"saved_models\",\"xgb_models_\"+method_name)\n",
    "batches1_result_logfile = join(\"logs\",\"1batches_results.csv\")\n",
    "batches3_result_logfile = join(\"logs\",\"3batches_results.csv\")\n",
    "full_result_logfile = join(\"logs\",\"results.csv\")"
   ]
  },
  {
   "cell_type": "code",
   "execution_count": 2,
   "metadata": {},
   "outputs": [
    {
     "output_type": "stream",
     "name": "stdout",
     "text": [
      "Loading User Index\n",
      "Randomly keeping only 98.0% of the users.\n",
      "Removing day counts\n",
      "Extracting combined user counts\n",
      "Created Dataloader in 59.73 seconds!\n"
     ]
    }
   ],
   "source": [
    "dl = dataloader.RecSys2021TSVDataLoader(\n",
    "    csv_data_location, \n",
    "    use_user_index, \n",
    "    mode=\"train\", \n",
    "    filter_timestamp=filter_timestamp, \n",
    "    verbose=2, \n",
    "    remove_day_counts=True, \n",
    "    keep_user_percent=0.98, \n",
    "    batch_size = 1500000,\n",
    "    load_n_batches = 1,\n",
    "    TE_smoothing = {\"reply\":20, \"like\":20, \"retweet\":20, \"retweet_comment\":20},\n",
    "    remove_user_counts=True,\n",
    "    add_normal_TE_noise_std= 0.05,\n",
    "    drop_features=[\"hour_of_day\", \"day_of_week\"]\n",
    "    )"
   ]
  },
  {
   "source": [
    "  TE_smoothing = {\"reply\":40, \"like\":40, \"retweet\":20, \"retweet_comment\":15}"
   ],
   "cell_type": "markdown",
   "metadata": {}
  },
  {
   "cell_type": "code",
   "execution_count": 3,
   "metadata": {},
   "outputs": [],
   "source": [
    "recsysxgb = utils.model.RecSysXGB1(model_dir = model_save_location)\n",
    "#recsys_neural = utils.model.RecSysNeural1(model_dir = model_save_location, n_input_features=90, device=\"cuda\")\n",
    "xgb_params = {'objective': 'binary:logistic', 'eval_metric':'map', 'max_depth':8, \"max_delta_step\":0}"
   ]
  },
  {
   "cell_type": "code",
   "execution_count": 4,
   "metadata": {},
   "outputs": [
    {
     "output_type": "stream",
     "name": "stdout",
     "text": [
      "Loaded Batch Nr. 1 in 11.02\n",
      "Timestamp Filtered Batch Nr. 1 in 0.00\n",
      "Did prepro part 1 of Batch Nr. 1 in 0.33\n",
      "Did prepro part 2 of Batch Nr. 1 in 19.19\n",
      "Did prepro part 3 of Batch Nr. 1 in 0.11\n",
      "Merged Users of Batch Nr. 1 in 25.34\n",
      "Extracted TE of Batch Nr. 1 in 19.00\n",
      "Finished Batch Nr. 1 from file part-00000.tsv in 78.08s!\n",
      "Finished 1 epochs.\n",
      "CPU times: user 1h 26min 31s, sys: 41.8 s, total: 1h 27min 13s\n",
      "Wall time: 13min 23s\n"
     ]
    }
   ],
   "source": [
    "%%time\n",
    "recsysxgb.fit(\n",
    "    train_loader= dl,\n",
    "    xgb_parameters = xgb_params,\n",
    "    boost_rounds_per_iteration = 20,\n",
    "    verbose = 1,\n",
    "    n_epochs = 1\n",
    ")\n",
    "#recsys_neural.fit(dl, 1, lr = 5 * 1e-5)"
   ]
  },
  {
   "source": [
    "## Evaluate the model"
   ],
   "cell_type": "markdown",
   "metadata": {}
  },
  {
   "cell_type": "code",
   "execution_count": 19,
   "metadata": {},
   "outputs": [
    {
     "output_type": "stream",
     "name": "stdout",
     "text": [
      "Loading User Index\n",
      "Removing day counts\n",
      "Extracting combined user counts\n",
      "Created Dataloader in 15.55 seconds!\n"
     ]
    }
   ],
   "source": [
    "recsysxgb = utils.model.RecSysXGB1(\"saved_models/xgb_models_45_No_Item_Based_Features\")\n",
    "#model = utils.model.RandomBaselineModel()\n",
    "val_data_location = join(\"data\",\"validation_data\")\n",
    "\n",
    "dl = dataloader.RecSys2021TSVDataLoader(\n",
    "    data_directory = val_data_location, \n",
    "    user_index_location = use_user_index,\n",
    "    mode=\"val\", \n",
    "    filter_timestamp=filter_timestamp, \n",
    "    verbose=2, \n",
    "    random_file_sampling=False, \n",
    "    load_n_batches=-1, \n",
    "    remove_day_counts=True,\n",
    "    TE_smoothing = {\"reply\":15, \"like\":15, \"retweet\":15, \"retweet_comment\":15},\n",
    "    batch_size = 1000000,\n",
    "    keep_user_percent=1,\n",
    "    remove_user_counts=True,\n",
    "    drop_features=[\"hour_of_day\", \"day_of_week\"]\n",
    "    #normalize_batch=True\n",
    ")"
   ]
  },
  {
   "cell_type": "code",
   "execution_count": 20,
   "metadata": {},
   "outputs": [
    {
     "output_type": "stream",
     "name": "stdout",
     "text": [
      "Loaded Batch Nr. 1 in 5.65\n",
      "Timestamp Filtered Batch Nr. 1 in 0.00\n",
      "Did prepro part 1 of Batch Nr. 1 in 0.22\n",
      "Did prepro part 2 of Batch Nr. 1 in 12.99\n",
      "Did prepro part 3 of Batch Nr. 1 in 0.08\n",
      "Merged Users of Batch Nr. 1 in 24.03\n",
      "Extracted TE of Batch Nr. 1 in 15.33\n",
      "Finished Batch Nr. 1 from file part-00000.csv in 60.39s!\n",
      "Loaded Batch Nr. 2 in 8.84\n",
      "Timestamp Filtered Batch Nr. 2 in 0.00\n",
      "Did prepro part 1 of Batch Nr. 2 in 0.23\n",
      "Did prepro part 2 of Batch Nr. 2 in 13.03\n",
      "Did prepro part 3 of Batch Nr. 2 in 0.08\n",
      "Merged Users of Batch Nr. 2 in 23.59\n",
      "Extracted TE of Batch Nr. 2 in 15.34\n",
      "Finished Batch Nr. 2 from file part-00000.csv in 63.19s!\n",
      "Loaded Batch Nr. 3 in 11.98\n",
      "Timestamp Filtered Batch Nr. 3 in 0.00\n",
      "Did prepro part 1 of Batch Nr. 3 in 0.22\n",
      "Did prepro part 2 of Batch Nr. 3 in 13.48\n",
      "Did prepro part 3 of Batch Nr. 3 in 0.08\n",
      "Merged Users of Batch Nr. 3 in 26.97\n",
      "Extracted TE of Batch Nr. 3 in 16.15\n",
      "Finished Batch Nr. 3 from file part-00000.csv in 71.09s!\n",
      "Loaded Batch Nr. 4 in 12.01\n",
      "Timestamp Filtered Batch Nr. 4 in 0.00\n",
      "Did prepro part 1 of Batch Nr. 4 in 0.25\n",
      "Did prepro part 2 of Batch Nr. 4 in 14.93\n",
      "Did prepro part 3 of Batch Nr. 4 in 0.08\n",
      "Merged Users of Batch Nr. 4 in 33.20\n",
      "Extracted TE of Batch Nr. 4 in 16.09\n",
      "Finished Batch Nr. 4 from file part-00000.csv in 78.83s!\n",
      "Loaded Batch Nr. 5 in 16.12\n",
      "Timestamp Filtered Batch Nr. 5 in 0.00\n",
      "Did prepro part 1 of Batch Nr. 5 in 0.24\n",
      "Did prepro part 2 of Batch Nr. 5 in 13.43\n",
      "Did prepro part 3 of Batch Nr. 5 in 0.08\n",
      "Merged Users of Batch Nr. 5 in 27.83\n",
      "Extracted TE of Batch Nr. 5 in 15.41\n",
      "Finished Batch Nr. 5 from file part-00000.csv in 75.35s!\n",
      "Loaded Batch Nr. 6 in 13.52\n",
      "Timestamp Filtered Batch Nr. 6 in 0.00\n",
      "Did prepro part 1 of Batch Nr. 6 in 0.22\n",
      "Did prepro part 2 of Batch Nr. 6 in 13.14\n",
      "Did prepro part 3 of Batch Nr. 6 in 0.08\n",
      "Merged Users of Batch Nr. 6 in 25.64\n",
      "Extracted TE of Batch Nr. 6 in 15.40\n",
      "Finished Batch Nr. 6 from file part-00000.csv in 70.29s!\n",
      "Loaded Batch Nr. 7 in 15.59\n",
      "Timestamp Filtered Batch Nr. 7 in 0.00\n",
      "Did prepro part 1 of Batch Nr. 7 in 0.22\n",
      "Did prepro part 2 of Batch Nr. 7 in 13.06\n",
      "Did prepro part 3 of Batch Nr. 7 in 0.08\n",
      "Merged Users of Batch Nr. 7 in 25.67\n",
      "Extracted TE of Batch Nr. 7 in 15.41\n",
      "Finished Batch Nr. 7 from file part-00000.csv in 72.32s!\n",
      "Loaded Batch Nr. 8 in 20.01\n",
      "Timestamp Filtered Batch Nr. 8 in 0.00\n",
      "Did prepro part 1 of Batch Nr. 8 in 0.23\n",
      "Did prepro part 2 of Batch Nr. 8 in 13.11\n",
      "Did prepro part 3 of Batch Nr. 8 in 0.08\n",
      "Merged Users of Batch Nr. 8 in 26.55\n",
      "Extracted TE of Batch Nr. 8 in 15.30\n",
      "Finished Batch Nr. 8 from file part-00000.csv in 77.59s!\n",
      "Loaded Batch Nr. 9 in 22.74\n",
      "Timestamp Filtered Batch Nr. 9 in 0.00\n",
      "Did prepro part 1 of Batch Nr. 9 in 0.22\n",
      "Did prepro part 2 of Batch Nr. 9 in 13.31\n",
      "Did prepro part 3 of Batch Nr. 9 in 0.08\n",
      "Merged Users of Batch Nr. 9 in 27.67\n",
      "Extracted TE of Batch Nr. 9 in 15.40\n",
      "Finished Batch Nr. 9 from file part-00000.csv in 81.79s!\n",
      "Loaded Batch Nr. 10 in 28.04\n",
      "Timestamp Filtered Batch Nr. 10 in 0.00\n",
      "Did prepro part 1 of Batch Nr. 10 in 0.22\n",
      "Did prepro part 2 of Batch Nr. 10 in 13.13\n",
      "Did prepro part 3 of Batch Nr. 10 in 0.08\n",
      "Merged Users of Batch Nr. 10 in 27.12\n",
      "Extracted TE of Batch Nr. 10 in 15.33\n",
      "Finished Batch Nr. 10 from file part-00000.csv in 86.30s!\n",
      "Loaded Batch Nr. 11 in 32.78\n",
      "Timestamp Filtered Batch Nr. 11 in 0.00\n",
      "Did prepro part 1 of Batch Nr. 11 in 0.23\n",
      "Did prepro part 2 of Batch Nr. 11 in 13.27\n",
      "Did prepro part 3 of Batch Nr. 11 in 0.08\n",
      "Merged Users of Batch Nr. 11 in 27.70\n",
      "Extracted TE of Batch Nr. 11 in 15.50\n",
      "Finished Batch Nr. 11 from file part-00000.csv in 92.09s!\n",
      "Loaded Batch Nr. 12 in 39.73\n",
      "Timestamp Filtered Batch Nr. 12 in 0.00\n",
      "Did prepro part 1 of Batch Nr. 12 in 0.23\n",
      "Did prepro part 2 of Batch Nr. 12 in 13.17\n",
      "Did prepro part 3 of Batch Nr. 12 in 0.08\n",
      "Merged Users of Batch Nr. 12 in 28.70\n",
      "Extracted TE of Batch Nr. 12 in 15.40\n",
      "Finished Batch Nr. 12 from file part-00000.csv in 99.75s!\n",
      "Loaded Batch Nr. 13 in 42.75\n",
      "Timestamp Filtered Batch Nr. 13 in 0.00\n",
      "Did prepro part 1 of Batch Nr. 13 in 0.22\n",
      "Did prepro part 2 of Batch Nr. 13 in 13.11\n",
      "Did prepro part 3 of Batch Nr. 13 in 0.08\n",
      "Merged Users of Batch Nr. 13 in 29.36\n",
      "Extracted TE of Batch Nr. 13 in 15.43\n",
      "Finished Batch Nr. 13 from file part-00000.csv in 103.45s!\n",
      "Loaded Batch Nr. 14 in 49.93\n",
      "Timestamp Filtered Batch Nr. 14 in 0.00\n",
      "Did prepro part 1 of Batch Nr. 14 in 0.22\n",
      "Did prepro part 2 of Batch Nr. 14 in 13.14\n",
      "Did prepro part 3 of Batch Nr. 14 in 0.08\n",
      "Merged Users of Batch Nr. 14 in 29.96\n",
      "Extracted TE of Batch Nr. 14 in 15.44\n",
      "Finished Batch Nr. 14 from file part-00000.csv in 111.32s!\n",
      "Loaded Batch Nr. 15 in 50.16\n",
      "Timestamp Filtered Batch Nr. 15 in 0.00\n",
      "Did prepro part 1 of Batch Nr. 15 in 0.11\n",
      "Did prepro part 2 of Batch Nr. 15 in 6.03\n",
      "Did prepro part 3 of Batch Nr. 15 in 0.04\n",
      "Merged Users of Batch Nr. 15 in 29.18\n",
      "Extracted TE of Batch Nr. 15 in 13.85\n",
      "Finished Batch Nr. 15 from file part-00000.csv in 100.83s!\n"
     ]
    }
   ],
   "source": [
    "res = recsysxgb.evaluate_validation_set(dl, store_results_file=full_result_logfile, validation_run_name=\"45_No_Item_Based_Features_15TE\")"
   ]
  },
  {
   "cell_type": "code",
   "execution_count": 7,
   "metadata": {},
   "outputs": [
    {
     "output_type": "stream",
     "name": "stdout",
     "text": [
      "Q1_reply_rce                    : 14.013823473473263\nQ1_retweet_rce                  : 16.404863358793374\nQ1_retweet_comment_rce          : 8.382256077513139\nQ1_like_rce                     : 2.2255545096960594\nQ1_reply_avg_prec               : 0.1618842827217921\nQ1_retweet_avg_prec             : 0.35054776613360816\nQ1_retweet_comment_avg_prec     : 0.05265133649580212\nQ1_like_avg_prec                : 0.5629720154270186\nQ2_reply_rce                    : 17.42610515679328\nQ2_retweet_rce                  : 19.088782129516304\nQ2_retweet_comment_rce          : 8.580979222956975\nQ2_like_rce                     : 4.616886495217698\nQ2_reply_avg_prec               : 0.19057418117297945\nQ2_retweet_avg_prec             : 0.3542256415570396\nQ2_retweet_comment_avg_prec     : 0.04753390248413203\nQ2_like_avg_prec                : 0.5529952328129224\nQ3_reply_rce                    : 20.240779997182745\nQ3_retweet_rce                  : 20.96650504393377\nQ3_retweet_comment_rce          : 9.745675534568331\nQ3_like_rce                     : 7.666387758879534\nQ3_reply_avg_prec               : 0.21499317934463075\nQ3_retweet_avg_prec             : 0.37501304015838055\nQ3_retweet_comment_avg_prec     : 0.05072804018821942\nQ3_like_avg_prec                : 0.5701285886795237\nQ4_reply_rce                    : 20.168802632742768\nQ4_retweet_rce                  : 22.17999161235674\nQ4_retweet_comment_rce          : 10.756357170259434\nQ4_like_rce                     : 10.32251417842983\nQ4_reply_avg_prec               : 0.19038821464602812\nQ4_retweet_avg_prec             : 0.379432355330757\nQ4_retweet_comment_avg_prec     : 0.05601595534308981\nQ4_like_avg_prec                : 0.6100955934240508\nQ5_reply_rce                    : 15.436726449615634\nQ5_retweet_rce                  : 20.493425363989605\nQ5_retweet_comment_rce          : 9.80665626940821\nQ5_like_rce                     : 12.230760405967878\nQ5_reply_avg_prec               : 0.11735693674013296\nQ5_retweet_avg_prec             : 0.3175024332281879\nQ5_retweet_comment_avg_prec     : 0.04459292566259166\nQ5_like_avg_prec                : 0.644270441831625\nTOTAL_reply_rce                 : 17.45724754196154\nTOTAL_retweet_rce               : 19.826713501717958\nTOTAL_retweet_comment_rce       : 9.454384854941217\nTOTAL_like_rce                  : 7.4124206696382\nTOTAL_reply_avg_prec            : 0.17503935892511266\nTOTAL_retweet_avg_prec          : 0.3553442472815947\nTOTAL_retweet_comment_avg_prec  : 0.05030443203476701\nTOTAL_like_avg_prec             : 0.5880923744350282\n"
     ]
    }
   ],
   "source": [
    "for key in res:\n",
    "    print(f\"{key:32}: {res[key]}\")"
   ]
  },
  {
   "cell_type": "code",
   "execution_count": 8,
   "metadata": {
    "tags": []
   },
   "outputs": [
    {
     "output_type": "stream",
     "name": "stdout",
     "text": [
      "\n",
      "has_reply:\n",
      "{'type_encoding': 284.1526326651887, 'TE_reply_b_B': 234.93349084924142, 'a_follows_b': 137.81420806428574, 'TE_reply_a_TopLevel_A': 101.19735677495663, 'TE_reply_b_TopLevel_B': 82.40309073139193, 'TE_reply_a_A': 77.3664276162817, 'photo_count': 45.331092485999996, 'TE_like_b_TopLevel_B': 44.9664293289007, 'a_follower_count': 33.57327131576975, 'TE_like_b_B': 30.77871013116574, 'TE_retweet_b_B': 28.04354604183333, 'TE_like_b_A': 27.012651586562495, 'TE_like_a_TopLevel_A': 26.403389915533335, 'TE_like_a_A': 25.371632450597218, 'TE_reply_b_Quote_B': 24.86108129402778, 'TE_like_a_B': 24.682872706244897, 'TE_reply_b_Retweet_B': 23.67892222197575, 'a_b_follower_ratio': 23.094230736636366, 'TE_like_a_TopLevel_B': 21.888018830631577, 'TE_like_b_Quote_B': 19.976625707301586, 'b_follower_count': 18.718336541999996, 'TE_reply_a_Quote_A': 18.619800717777782, 'language_encoding': 17.93715884722222, 'TE_retweet_b_TopLevel_B': 17.747888495444442, 'TE_like_a_Retweet_A': 17.43989414268519, 'b_creation_delta': 16.922223871383554, 'a_following_count': 16.245694605441862, 'bert_token_len': 15.978030077548388, 'TE_reply_a_TopLevel_B': 15.468630802888892, 'TE_like_a_Quote_A': 14.643793850833335, 'TE_reply_a_B': 13.737493007789475, 'b_a_follower_ratio': 13.6950684, 'TE_like_a_Quote_B': 13.684799890350877, 'TE_retweet_a_TopLevel_A': 12.93945069457143, 'TE_retweet_a_A': 12.921375271130433, 'a_creation_delta': 12.228986937903226, 'TE_retweet_a_Retweet_B': 12.186046589130433, 'TE_retweet_b_Retweet_B': 11.990315073529409, 'TE_retweet_b_TopLevel_A': 11.828811681384616, 'a_b_following_ratio': 11.762645062833334, 'TE_like_b_Retweet_B': 11.651775465399997, 'TE_like_b_Retweet_A': 11.563753043437497, 'TE_reply_a_Quote_B': 11.100975465151514, 'TE_retweet_a_Retweet_A': 10.923887739999998, 'TE_like_b_TopLevel_A': 10.681589400625, 'TE_like_a_Retweet_B': 10.671552722500001, 'TE_retweet_a_Quote_B': 10.393265954413794, 'TE_retweet_a_Quote_A': 10.341391491428572, 'TE_retweet_b_Retweet_A': 10.210731187851854, 'TE_reply_b_TopLevel_A': 10.178557776333333, 'TE_retweet_comment_b_TopLevel_A': 10.050943194444445, 'TE_retweet_comment_a_TopLevel_B': 9.78455297347619, 'TE_retweet_b_A': 9.73757694891892, 'TE_reply_b_A': 9.720878467384617, 'TE_retweet_comment_b_A': 9.46946659575, 'TE_retweet_comment_b_TopLevel_B': 9.457122721826085, 'TE_reply_b_Retweet_A': 9.38913792317647, 'TE_like_b_Quote_A': 9.305743483047618, 'TE_retweet_comment_a_Quote_B': 9.267100667916665, 'TE_reply_a_Retweet_A': 9.257802712516662, 'TE_reply_b_Quote_A': 9.23953745038889, 'b_following_count': 9.222588846173911, 'TE_retweet_a_B': 9.198930518636361, 'TE_retweet_comment_a_A': 9.186451391428571, 'TE_retweet_comment_a_TopLevel_A': 9.1611784625, 'TE_retweet_comment_a_Quote_A': 9.114124700281248, 'TE_retweet_comment_a_Retweet_A': 8.772602401470591, 'TE_retweet_b_Quote_B': 8.751903687916666, 'TE_retweet_b_Quote_A': 8.549408099914892, 'TE_retweet_comment_b_Retweet_B': 8.539224944166667, 'TE_retweet_comment_a_B': 8.424411521000001, 'TE_retweet_comment_a_Retweet_B': 8.383011799130434, 'TE_retweet_comment_b_Quote_B': 8.259618191083336, 'TE_retweet_a_TopLevel_B': 8.095597093435897, 'TE_reply_a_Retweet_B': 8.088716948783782, 'a_b_creation_delta': 7.9052835525714285, 'TE_retweet_comment_b_B': 7.849452309181819, 'TE_retweet_comment_b_Retweet_A': 7.533975513296296, 'TE_retweet_comment_b_Quote_A': 7.249214447542858}\n",
      "\n",
      "has_retweet:\n",
      "{'TE_retweet_b_B': 1220.8325108300153, 'TE_retweet_a_A': 519.6514506553452, 'TE_like_b_B': 132.74385739496068, 'TE_like_a_A': 95.3214220412676, 'a_follows_b': 86.18853392, 'TE_retweet_a_Retweet_A': 84.05049578331855, 'TE_retweet_b_TopLevel_B': 78.21566993021983, 'type_encoding': 63.38150427211413, 'TE_like_b_TopLevel_B': 55.719390893181796, 'TE_like_b_A': 48.13662910436364, 'TE_like_a_Retweet_A': 47.13276422433803, 'TE_like_b_Retweet_B': 44.39171957170212, 'TE_retweet_b_Retweet_B': 44.19164076810629, 'TE_like_a_Retweet_B': 44.09321603212119, 'TE_retweet_a_TopLevel_A': 41.56339724424707, 'photo_count': 40.94664179523077, 'language_encoding': 40.402295511499986, 'a_follower_count': 40.21545517652438, 'a_b_follower_ratio': 37.66940679209091, 'a_is_verified': 35.0610199, 'bert_token_len': 34.92461357421054, 'b_creation_delta': 34.0356496061972, 'TE_like_a_TopLevel_A': 30.358990840810808, 'TE_retweet_b_Quote_B': 27.612915760894317, 'TE_like_a_Quote_A': 26.01793136604651, 'TE_like_b_Quote_B': 25.861663815714266, 'TE_like_a_B': 25.755397124984373, 'TE_like_a_TopLevel_B': 24.073054662258063, 'video_count': 21.803705517142856, 'TE_like_b_TopLevel_A': 21.022550745416666, 'TE_retweet_comment_b_Retweet_B': 20.250604767666665, 'TE_retweet_a_Retweet_B': 19.59858704071429, 'a_following_count': 19.173548535600005, 'TE_retweet_a_Quote_A': 19.093960344901962, 'TE_reply_b_B': 18.899919192972977, 'TE_retweet_comment_a_A': 18.819286749166668, 'TE_reply_b_Retweet_A': 18.689212796923076, 'b_follower_count': 18.56034521688637, 'TE_reply_b_TopLevel_B': 18.403544390344827, 'TE_retweet_b_A': 17.833010422758623, 'TE_retweet_a_B': 17.509195208888883, 'a_b_following_ratio': 17.486208995111106, 'a_creation_delta': 17.11922465925926, 'TE_reply_a_Retweet_B': 16.432107518421056, 'TE_retweet_a_Quote_B': 15.783546256923081, 'TE_reply_a_TopLevel_A': 15.696203342941176, 'b_following_count': 15.30157796, 'TE_reply_b_Quote_A': 14.98036549490909, 'TE_reply_a_Quote_A': 14.882235338749998, 'TE_reply_a_TopLevel_B': 14.802581164400003, 'TE_retweet_b_Retweet_A': 14.681536363461536, 'TE_like_a_Quote_B': 14.450533370740745, 'TE_reply_a_A': 14.288363913750002, 'TE_retweet_comment_a_Retweet_A': 14.226804320434782, 'TE_reply_a_Quote_B': 13.798051503823533, 'TE_like_b_Quote_A': 13.560229102727272, 'TE_retweet_comment_b_Quote_A': 12.971637704782609, 'TE_retweet_b_Quote_A': 12.774932028620686, 'TE_retweet_b_TopLevel_A': 12.763544403200001, 'TE_reply_b_Retweet_B': 12.759589328666667, 'TE_retweet_comment_b_Quote_B': 12.41122737888889, 'TE_retweet_comment_b_TopLevel_A': 12.393124380947368, 'TE_reply_b_TopLevel_A': 12.237819865454547, 'TE_retweet_comment_a_Quote_A': 12.138114709947368, 'TE_reply_a_Retweet_A': 12.05991357235294, 'TE_retweet_a_TopLevel_B': 11.8644057975, 'TE_retweet_comment_b_Retweet_A': 11.661139707272724, 'TE_retweet_comment_a_Quote_B': 11.6573005368125, 'TE_retweet_comment_a_Retweet_B': 11.433388710000001, 'TE_retweet_comment_a_TopLevel_A': 11.2830423505, 'TE_retweet_comment_a_TopLevel_B': 11.217372220000001, 'TE_reply_b_A': 11.024533627500002, 'TE_reply_a_B': 10.973438401249998, 'TE_retweet_comment_b_B': 10.909855858076924, 'TE_retweet_comment_b_A': 10.909332707181818, 'TE_retweet_comment_a_B': 10.820051292857142, 'TE_reply_b_Quote_B': 10.566646007647059, 'TE_like_b_Retweet_A': 10.501229714482761, 'TE_retweet_comment_b_TopLevel_B': 10.2336460195, 'a_b_creation_delta': 10.16289913625, 'gif_count': 6.253433230000001}\n",
      "\n",
      "has_retweet_comment:\n",
      "{'TE_retweet_comment_b_B': 69.60221632968963, 'TE_like_b_B': 43.05160137759723, 'TE_retweet_comment_b_TopLevel_B': 30.703207527087905, 'TE_like_b_TopLevel_B': 24.289432994864857, 'TE_like_a_Quote_B': 20.6874334842623, 'type_encoding': 18.609133760212767, 'TE_retweet_a_A': 17.20313777476316, 'a_follows_b': 17.000504725, 'language_encoding': 16.651517565749998, 'TE_retweet_b_B': 16.321947561038968, 'TE_like_a_A': 14.348270217926473, 'photo_count': 13.303209308695651, 'TE_retweet_comment_b_Retweet_B': 13.10677739713979, 'TE_like_b_Quote_B': 13.1049620425, 'TE_retweet_comment_a_A': 12.733408706448724, 'TE_retweet_b_TopLevel_B': 12.531967313915253, 'TE_retweet_comment_a_TopLevel_A': 12.378542740751945, 'video_count': 12.207351728181818, 'TE_retweet_a_TopLevel_A': 11.62250002704918, 'TE_like_b_Retweet_B': 11.539922128125001, 'a_follower_count': 11.457466377680003, 'TE_retweet_a_Retweet_A': 10.99941578245614, 'b_follower_count': 10.944951733347827, 'a_b_follower_ratio': 10.829163876164179, 'TE_retweet_b_Retweet_A': 10.480190643061222, 'TE_like_a_Retweet_A': 9.907239465933332, 'TE_like_b_A': 9.873353039452383, 'TE_like_a_Quote_A': 9.765335546875, 'TE_reply_a_TopLevel_B': 9.492280035882352, 'bert_token_len': 9.417198315454549, 'TE_like_a_B': 9.405263534055557, 'TE_retweet_comment_a_Retweet_A': 9.40270349661321, 'TE_like_a_TopLevel_A': 9.315149427173912, 'TE_reply_b_TopLevel_A': 9.289751915172413, 'b_creation_delta': 9.211298132055553, 'TE_retweet_a_B': 9.097313611071428, 'TE_like_b_Quote_A': 9.069524953622638, 'TE_reply_b_Retweet_B': 8.857182303823528, 'TE_like_a_TopLevel_B': 8.75005096625, 'TE_retweet_b_TopLevel_A': 8.748054602352942, 'TE_retweet_b_Retweet_B': 8.743739054782608, 'TE_retweet_comment_b_Quote_B': 8.684421407918604, 'a_following_count': 8.635974425161288, 'TE_reply_a_Quote_B': 8.53474602125, 'TE_retweet_b_A': 8.300693102655172, 'TE_like_a_Retweet_B': 8.260675333103448, 'TE_reply_b_TopLevel_B': 8.251108086400002, 'TE_reply_a_Retweet_A': 8.052040999, 'TE_reply_b_B': 8.011934499027781, 'TE_reply_a_TopLevel_A': 7.998385096023255, 'TE_retweet_comment_b_A': 7.990795502127657, 'TE_reply_a_B': 7.967422338617023, 'TE_retweet_comment_a_TopLevel_B': 7.9398747611904765, 'TE_retweet_comment_b_Quote_A': 7.914781874999999, 'TE_reply_b_Quote_A': 7.902350842351351, 'TE_retweet_comment_a_B': 7.808128912375001, 'TE_reply_a_Quote_A': 7.749889954929821, 'TE_reply_b_A': 7.735155277142859, 'a_b_following_ratio': 7.717880359545455, 'TE_retweet_a_Retweet_B': 7.716554338666667, 'TE_reply_a_A': 7.663120445348836, 'a_b_creation_delta': 7.630695979772728, 'TE_retweet_b_Quote_A': 7.627469777058824, 'TE_reply_b_Quote_B': 7.605661686225, 'b_following_count': 7.604122879573528, 'TE_like_b_Retweet_A': 7.579866466235294, 'TE_like_b_TopLevel_A': 7.542931612560974, 'TE_retweet_b_Quote_B': 7.4949999227857145, 'a_creation_delta': 7.475248134809523, 'TE_retweet_comment_a_Quote_A': 7.392414222175436, 'TE_retweet_comment_a_Quote_B': 7.342762881127658, 'TE_retweet_a_TopLevel_B': 7.127070802606061, 'TE_retweet_comment_b_Retweet_A': 7.09611718390196, 'TE_reply_b_Retweet_A': 6.9018652388, 'TE_retweet_a_Quote_B': 6.870829173947368, 'TE_retweet_comment_a_Retweet_B': 6.8043486687878785, 'TE_retweet_a_Quote_A': 6.766440309868422, 'TE_reply_a_Retweet_B': 6.5524517115312495, 'TE_retweet_comment_b_TopLevel_A': 6.537510779037737}\n",
      "\n",
      "has_like:\n",
      "{'TE_like_a_A': 4092.5625727211295, 'type_encoding': 406.461159358889, 'TE_retweet_b_A': 295.00186311978257, 'TE_like_b_TopLevel_B': 262.0327004553815, 'TE_like_a_TopLevel_A': 241.35544808364983, 'a_follower_count': 204.84323149904787, 'TE_like_a_Retweet_A': 193.51692984768033, 'a_follows_b': 191.86058157764717, 'TE_like_b_Retweet_B': 190.05312656765685, 'TE_retweet_b_B': 178.56183651880008, 'TE_like_b_Quote_B': 157.97900944422904, 'photo_count': 157.91025260410257, 'TE_like_b_B': 148.59501975412613, 'TE_like_a_Quote_A': 136.3553813423009, 'b_creation_delta': 110.50466972683094, 'a_b_follower_ratio': 99.91097685693329, 'TE_retweet_b_Retweet_A': 94.04557742600001, 'TE_reply_b_B': 84.2722927734615, 'language_encoding': 81.8394545832653, 'TE_retweet_a_Quote_A': 75.9164333964, 'TE_like_b_A': 69.02801431365384, 'TE_like_a_B': 62.30283847272724, 'TE_reply_b_TopLevel_B': 58.13019781906494, 'TE_retweet_a_A': 56.85329496056337, 'a_is_verified': 56.59609010769231, 'a_b_following_ratio': 56.57614967913044, 'a_creation_delta': 55.392635993472226, 'bert_token_len': 55.219301429482734, 'b_following_count': 48.08819675065934, 'TE_retweet_a_TopLevel_A': 44.89680096388733, 'TE_like_b_TopLevel_A': 42.70808851594287, 'TE_retweet_b_Retweet_B': 41.836147356471706, 'b_follower_count': 40.46248473825424, 'TE_like_a_Retweet_B': 39.64295644372882, 'TE_retweet_a_Retweet_A': 38.61993021385716, 'TE_retweet_comment_b_Retweet_B': 33.30941310199999, 'TE_retweet_b_TopLevel_A': 32.64085909676471, 'video_count': 32.15581298, 'a_following_count': 31.27246876518518, 'TE_retweet_b_TopLevel_B': 31.259228322145464, 'TE_like_a_TopLevel_B': 29.752930057599997, 'TE_retweet_a_Retweet_B': 25.420240142857146, 'TE_like_b_Quote_A': 22.358763362799994, 'TE_retweet_a_B': 21.929231994705884, 'TE_retweet_a_Quote_B': 21.04033617333333, 'TE_retweet_b_Quote_B': 18.747975646904763, 'TE_reply_a_Quote_B': 17.572102662499997, 'TE_retweet_comment_b_Quote_B': 17.322062089230766, 'TE_reply_a_TopLevel_A': 16.1540953585, 'TE_retweet_comment_a_TopLevel_B': 15.477296144869563, 'TE_retweet_comment_b_TopLevel_B': 14.904787079629633, 'TE_retweet_comment_a_Retweet_A': 14.201665122631582, 'TE_like_b_Retweet_A': 13.954546817099999, 'TE_retweet_comment_b_A': 13.826022938999998, 'TE_reply_a_A': 13.113747421120003, 'TE_reply_a_Quote_A': 13.09916597222222, 'TE_retweet_comment_a_Retweet_B': 12.91327215761905, 'TE_retweet_a_TopLevel_B': 12.707873852631577, 'TE_reply_a_TopLevel_B': 12.672150678235296, 'TE_retweet_comment_a_TopLevel_A': 12.47913063409091, 'TE_reply_b_Retweet_B': 12.451603655384616, 'TE_retweet_comment_a_Quote_B': 12.333590351034482, 'TE_retweet_comment_b_TopLevel_A': 12.317027985200003, 'TE_retweet_comment_b_B': 12.133000805454543, 'TE_retweet_comment_a_A': 11.905001587142854, 'TE_retweet_b_Quote_A': 11.841056057370372, 'TE_like_a_Quote_B': 11.837828357264709, 'TE_reply_a_Retweet_A': 11.642496164117645, 'TE_reply_b_Quote_B': 11.348827669259258, 'TE_reply_a_Retweet_B': 11.311952752380957, 'TE_reply_b_A': 11.279344126842105, 'TE_retweet_comment_a_B': 11.187028333333334, 'a_b_creation_delta': 10.8701555016, 'gif_count': 10.81659125, 'TE_retweet_comment_a_Quote_A': 10.688587749999998, 'TE_reply_b_Quote_A': 10.504694426, 'TE_reply_b_Retweet_A': 10.473294476428574, 'TE_retweet_comment_b_Quote_A': 10.119406796249999, 'TE_retweet_comment_b_Retweet_A': 9.680833221250001, 'TE_reply_b_TopLevel_A': 9.450459873334482, 'TE_reply_a_B': 8.640399790999998, 'b_a_follower_ratio': 0.560592651}\n"
     ]
    }
   ],
   "source": [
    "for target in recsysxgb.targets__:\n",
    "    print(f\"\\n{target}:\")\n",
    "    print(dict(sorted(recsysxgb.clfs_[target].get_score(importance_type='gain').items(), key=lambda item: item[1], reverse=True)))"
   ]
  },
  {
   "cell_type": "code",
   "execution_count": null,
   "metadata": {},
   "outputs": [],
   "source": []
  }
 ]
}