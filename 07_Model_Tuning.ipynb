{
 "metadata": {
  "language_info": {
   "codemirror_mode": {
    "name": "ipython",
    "version": 3
   },
   "file_extension": ".py",
   "mimetype": "text/x-python",
   "name": "python",
   "nbconvert_exporter": "python",
   "pygments_lexer": "ipython3",
   "version": "3.9.5"
  },
  "orig_nbformat": 2,
  "kernelspec": {
   "name": "python3",
   "display_name": "Python 3.9.5 64-bit ('m1': conda)"
  },
  "metadata": {
   "interpreter": {
    "hash": "3b92691d56bfc9d5af752bc6654e963678e4150a6c1b95c958d07e2434145127"
   }
  },
  "interpreter": {
   "hash": "3b92691d56bfc9d5af752bc6654e963678e4150a6c1b95c958d07e2434145127"
  }
 },
 "nbformat": 4,
 "nbformat_minor": 2,
 "cells": [
  {
   "source": [
    "## Train the model"
   ],
   "cell_type": "markdown",
   "metadata": {}
  },
  {
   "cell_type": "code",
   "execution_count": 1,
   "metadata": {},
   "outputs": [],
   "source": [
    "from utils import dataloader\n",
    "import utils.model\n",
    "from datetime import datetime\n",
    "from os.path import join\n",
    "from importlib import reload\n",
    "\n",
    "filter_timestamp = None#int(datetime(2021, 2, 19, 0).timestamp())\n",
    "use_user_index = join(\"indices\",\"user_index_w_type.parquet\")#\"train_user_index.parquet\"\n",
    "csv_data_location = join(\"data\",\"downloaded_data\")\n",
    "model_save_location = join(\"saved_models\",\"xgb_models_22_new_features3_nousercounts\")"
   ]
  },
  {
   "cell_type": "code",
   "execution_count": 8,
   "metadata": {},
   "outputs": [
    {
     "output_type": "stream",
     "name": "stdout",
     "text": [
      "Loading User Index\n",
      "Randomly keeping only 98.0% of the users.\n",
      "Removing day counts\n",
      "Extracting combined user counts\n",
      "Created Dataloader in 46.41 seconds!\n"
     ]
    }
   ],
   "source": [
    "dl = dataloader.RecSys2021TSVDataLoader(\n",
    "    csv_data_location, \n",
    "    use_user_index, \n",
    "    mode=\"train\", \n",
    "    filter_timestamp=filter_timestamp, \n",
    "    verbose=2, \n",
    "    remove_day_counts=True, \n",
    "    keep_user_percent=0.98, \n",
    "    batch_size = 1500000,\n",
    "    load_n_batches = 1,\n",
    "    TE_smoothing = {\"reply\":50, \"like\":50, \"retweet\":50, \"retweet_comment\":50},\n",
    "    remove_user_counts=True\n",
    "    )"
   ]
  },
  {
   "cell_type": "code",
   "execution_count": 9,
   "metadata": {},
   "outputs": [],
   "source": [
    "recsysxgb = utils.model.RecSysXGB1(model_dir = model_save_location)\n",
    "xgb_params = {'objective': 'binary:logistic', 'eval_metric':'map', 'max_depth':5}"
   ]
  },
  {
   "cell_type": "code",
   "execution_count": 10,
   "metadata": {},
   "outputs": [
    {
     "output_type": "stream",
     "name": "stdout",
     "text": [
      "Loaded Batch Nr. 1 in 7.84\n",
      "Timestamp Filtered Batch Nr. 1 in 0.00\n",
      "Did prepro part 1 of 1 in 0.35\n",
      "Did prepro part 2 of 1 in 20.59\n",
      "Did prepro part 3 of 1 in 0.08\n",
      "Merged Users of 1 in 25.88\n",
      "Extracted TE of 1 in 14.41\n",
      "Finished Batch Nr. 1 from file part-00000.tsv in 73.97s!\n",
      "Finished 1 epochs.\n",
      "CPU times: user 39min 47s, sys: 31.4 s, total: 40min 18s\n",
      "Wall time: 7min 23s\n"
     ]
    }
   ],
   "source": [
    "%%time\n",
    "recsysxgb.fit(\n",
    "    train_loader= dl,\n",
    "    xgb_parameters = xgb_params,\n",
    "    boost_rounds_per_iteration = 25,\n",
    "    verbose = 1,\n",
    "    n_epochs = 1\n",
    ")"
   ]
  },
  {
   "source": [
    "## Evaluate the model"
   ],
   "cell_type": "markdown",
   "metadata": {}
  },
  {
   "cell_type": "code",
   "execution_count": 2,
   "metadata": {},
   "outputs": [
    {
     "output_type": "stream",
     "name": "stdout",
     "text": [
      "Loading User Index\n",
      "Removing day counts\n",
      "Extracting combined user counts\n",
      "Created Dataloader in 21.04 seconds!\n"
     ]
    }
   ],
   "source": [
    "recsysxgb = utils.model.RecSysXGB1(model_save_location)\n",
    "val_data_location = join(\"data\",\"validation_data\")\n",
    "\n",
    "dl = dataloader.RecSys2021TSVDataLoader(\n",
    "    data_directory = val_data_location, \n",
    "    user_index_location = use_user_index,\n",
    "    mode=\"val\", \n",
    "    filter_timestamp=filter_timestamp, \n",
    "    verbose=2, \n",
    "    random_file_sampling=True, \n",
    "    load_n_batches=3, \n",
    "    remove_day_counts=True,\n",
    "    batch_size = 1000000,\n",
    "    keep_user_percent=1,\n",
    "    remove_user_counts=True\n",
    ")"
   ]
  },
  {
   "cell_type": "code",
   "execution_count": 24,
   "metadata": {},
   "outputs": [
    {
     "output_type": "error",
     "ename": "TypeError",
     "evalue": "evaluate_validation_set() got an unexpected keyword argument 'store_results_file'",
     "traceback": [
      "\u001b[0;31m---------------------------------------------------------------------------\u001b[0m",
      "\u001b[0;31mTypeError\u001b[0m                                 Traceback (most recent call last)",
      "\u001b[0;32m<ipython-input-24-92d52003c8ca>\u001b[0m in \u001b[0;36m<module>\u001b[0;34m\u001b[0m\n\u001b[0;32m----> 1\u001b[0;31m \u001b[0mres\u001b[0m \u001b[0;34m=\u001b[0m \u001b[0mrecsysxgb\u001b[0m\u001b[0;34m.\u001b[0m\u001b[0mevaluate_validation_set\u001b[0m\u001b[0;34m(\u001b[0m\u001b[0mdl\u001b[0m\u001b[0;34m,\u001b[0m \u001b[0mstore_results_file\u001b[0m\u001b[0;34m=\u001b[0m\u001b[0;34m\"3batches_results.txt\"\u001b[0m\u001b[0;34m,\u001b[0m \u001b[0mvalidation_run_name\u001b[0m\u001b[0;34m=\u001b[0m\u001b[0;34m\"new_features3_nousercounts\"\u001b[0m\u001b[0;34m)\u001b[0m\u001b[0;34m\u001b[0m\u001b[0;34m\u001b[0m\u001b[0m\n\u001b[0m",
      "\u001b[0;31mTypeError\u001b[0m: evaluate_validation_set() got an unexpected keyword argument 'store_results_file'"
     ]
    }
   ],
   "source": [
    "res = recsysxgb.evaluate_validation_set(dl, store_results_file=\"3batches_results.txt\", validation_run_name=\"new_features3_nousercounts\")"
   ]
  },
  {
   "cell_type": "code",
   "execution_count": 17,
   "metadata": {},
   "outputs": [
    {
     "output_type": "stream",
     "name": "stdout",
     "text": [
      "Q1_reply_rce                    : 2.1334304339196697\nQ1_retweet_rce                  : 10.495107077703059\nQ1_retweet_comment_rce          : -6.291605539843559\nQ1_like_rce                     : -0.29712346257502187\nQ1_reply_avg_prec               : 0.14030549178220816\nQ1_retweet_avg_prec             : 0.3310426036101689\nQ1_retweet_comment_avg_prec     : 0.029252400457672183\nQ1_like_avg_prec                : 0.5587189049823393\nQ2_reply_rce                    : 8.149512080356946\nQ2_retweet_rce                  : 13.670965945902125\nQ2_retweet_comment_rce          : -4.994011636897966\nQ2_like_rce                     : 1.8734064866610334\nQ2_reply_avg_prec               : 0.16846213279382888\nQ2_retweet_avg_prec             : 0.3329504104983296\nQ2_retweet_comment_avg_prec     : 0.028245397663101218\nQ2_like_avg_prec                : 0.5485853368226589\nQ3_reply_rce                    : 13.483406654015573\nQ3_retweet_rce                  : 16.31005380259434\nQ3_retweet_comment_rce          : -0.1476314655541211\nQ3_like_rce                     : 5.469020341844266\nQ3_reply_avg_prec               : 0.19936120841569785\nQ3_retweet_avg_prec             : 0.35427552676340945\nQ3_retweet_comment_avg_prec     : 0.0345026159864692\nQ3_like_avg_prec                : 0.5668276248801492\nQ4_reply_rce                    : 13.356005731103139\nQ4_retweet_rce                  : 17.927466683686543\nQ4_retweet_comment_rce          : 2.0563553962936187\nQ4_like_rce                     : 7.642749760646462\nQ4_reply_avg_prec               : 0.16630267951655292\nQ4_retweet_avg_prec             : 0.36462444151312534\nQ4_retweet_comment_avg_prec     : 0.039276725754733996\nQ4_like_avg_prec                : 0.5979732532124515\nQ5_reply_rce                    : 9.927871337007355\nQ5_retweet_rce                  : 16.265510383329072\nQ5_retweet_comment_rce          : 0.8530113929665517\nQ5_like_rce                     : 9.565595398357097\nQ5_reply_avg_prec               : 0.10892656913432418\nQ5_retweet_avg_prec             : 0.30282319526652446\nQ5_retweet_comment_avg_prec     : 0.03609746437970333\nQ5_like_avg_prec                : 0.6336697354983077\nTOTAL_reply_rce                 : 9.410045247280536\nTOTAL_retweet_rce               : 14.933820778643028\nTOTAL_retweet_comment_rce       : -1.7047763706070949\nTOTAL_like_rce                  : 4.850729704986767\nTOTAL_reply_avg_prec            : 0.1566716163285224\nTOTAL_retweet_avg_prec          : 0.33714323553031156\nTOTAL_retweet_comment_avg_prec  : 0.03347492084833598\nTOTAL_like_avg_prec             : 0.5811549710791815\n"
     ]
    }
   ],
   "source": [
    "for key in res:\n",
    "    print(f\"{key:32}: {res[key]}\")"
   ]
  },
  {
   "cell_type": "code",
   "execution_count": 18,
   "metadata": {
    "tags": []
   },
   "outputs": [
    {
     "output_type": "stream",
     "name": "stdout",
     "text": [
      "\nhas_reply:\n{'TE_reply_b_B': 1439.2339849177217, 'TE_reply_a_A': 1048.7742989375506, 'TE_reply_b_TopLevel_B': 443.9620220428572, 'type_encoding': 338.60956891249987, 'TE_retweet_comment_b_Retweet_A': 260.939178, 'TE_reply_a_Retweet_B': 257.4744656666666, 'a_follows_b': 252.24239722500002, 'TE_retweet_comment_b_TopLevel_B': 236.68395790000002, 'TE_like_b_B': 236.39051226000004, 'TE_like_b_TopLevel_B': 233.639168275, 'TE_like_a_TopLevel_B': 216.44144419999998, 'TE_reply_b_Quote_B': 197.655217140625, 'TE_reply_a_TopLevel_A': 194.02731625675676, 'TE_like_b_A': 191.37993963700004, 'TE_like_a_A': 188.79179526666667, 'TE_retweet_b_B': 180.89927065555557, 'TE_reply_b_Retweet_B': 177.98346229320512, 'TE_retweet_a_Retweet_A': 176.4464823666667, 'TE_retweet_b_TopLevel_B': 175.111084, 'TE_like_a_TopLevel_A': 171.29658658181816, 'TE_retweet_a_TopLevel_B': 153.125, 'TE_retweet_comment_b_Quote_B': 143.66897493750002, 'TE_retweet_comment_a_TopLevel_B': 140.953125, 'TE_reply_a_Quote_A': 134.61751157705882, 'TE_retweet_comment_a_TopLevel_A': 133.11852275, 'TE_retweet_comment_b_Quote_A': 132.12561, 'b_follower_count': 122.03270766249999, 'TE_retweet_comment_a_Retweet_A': 114.92228685, 'TE_retweet_comment_a_Retweet_B': 113.843338, 'TE_retweet_comment_b_B': 110.60176021428572, 'TE_like_b_Retweet_B': 104.24977567519994, 'TE_reply_b_Retweet_A': 103.41741005, 'TE_like_a_B': 102.973365825, 'TE_retweet_comment_b_Retweet_B': 100.74481717363636, 'TE_reply_a_Retweet_A': 98.70324875078433, 'TE_retweet_a_B': 95.98297115, 'TE_retweet_b_Retweet_B': 95.17768095000001, 'a_follower_count': 91.60369618966668, 'TE_like_b_Quote_B': 89.19925202142858, 'TE_retweet_a_Quote_B': 84.52656362333333, 'TE_retweet_b_A': 80.999321, 'a_b_follower_ratio': 80.3532697, 'TE_reply_a_B': 79.22217804428571, 'TE_like_b_Retweet_A': 70.71441308857142, 'TE_like_a_Retweet_A': 68.99818164999999, 'TE_retweet_a_TopLevel_A': 65.83476951166666, 'TE_retweet_a_Quote_A': 62.3715725, 'TE_retweet_a_A': 48.42555873333333, 'TE_retweet_comment_a_B': 46.22858808, 'TE_retweet_a_Retweet_B': 43.1196518, 'b_creation_delta': 40.085656306666664, 'a_creation_delta': 38.745375599999996, 'language_encoding': 37.66883465, 'photo_count': 37.4006424, 'TE_like_b_TopLevel_A': 32.87370683333333, 'bert_token_len': 29.733738266666666, 'TE_retweet_b_Quote_B': 27.258158366666667, 'TE_like_a_Quote_B': 26.7869148, 'a_following_count': 26.4739304, 'TE_like_a_Quote_A': 24.461734136666664, 'TE_like_a_Retweet_B': 16.0805969, 'TE_retweet_b_Quote_A': 12.9179935, 'hour_of_day': 12.488157769999999, 'a_b_following_ratio': 12.071065207142857, 'TE_retweet_b_Retweet_A': 10.08739851, 'TE_retweet_comment_a_Quote_A': 8.31843758, 'TE_retweet_comment_a_Quote_B': 1.87329102}\n\nhas_retweet:\n{'TE_retweet_b_B': 2896.2436149231394, 'TE_retweet_a_A': 1770.9072722181813, 'TE_like_b_Retweet_A': 766.1373486666666, 'TE_retweet_a_Retweet_A': 685.6176353635711, 'TE_retweet_comment_b_Retweet_A': 615.537109, 'TE_reply_a_TopLevel_A': 543.2323915000001, 'TE_like_b_B': 525.4431772240001, 'TE_reply_a_Retweet_B': 519.858017, 'TE_reply_b_B': 436.72059012142853, 'TE_like_a_Retweet_A': 433.37940753333334, 'TE_like_b_Quote_A': 412.5715606999999, 'TE_like_b_Quote_B': 401.10730750000005, 'TE_retweet_b_TopLevel_B': 398.4904884503637, 'TE_retweet_a_Quote_B': 379.1780166333333, 'TE_retweet_a_TopLevel_B': 378.8729855, 'type_encoding': 367.24344875254224, 'TE_reply_b_TopLevel_B': 351.7720133333333, 'TE_retweet_b_Retweet_B': 349.50198701485715, 'TE_like_b_TopLevel_A': 338.23579901666665, 'TE_reply_a_Retweet_A': 321.0474497, 'TE_like_b_TopLevel_B': 308.94696911818176, 'photo_count': 290.43972393750005, 'TE_retweet_a_TopLevel_A': 290.1184880636364, 'TE_like_a_A': 255.79208108148148, 'TE_like_b_Retweet_B': 221.1706118222222, 'TE_retweet_comment_a_Retweet_A': 207.75480633333333, 'a_b_follower_ratio': 204.94931702, 'TE_reply_b_Retweet_B': 201.4953709722222, 'TE_retweet_comment_b_Quote_B': 199.1076166, 'TE_retweet_comment_b_B': 198.48784066875004, 'a_follower_count': 191.4285760210526, 'bert_token_len': 162.09177490090912, 'TE_retweet_comment_a_Quote_A': 161.62468458333333, 'TE_like_a_TopLevel_A': 161.06262342352943, 'b_follower_count': 160.09644883333334, 'TE_like_a_Retweet_B': 158.70872414814815, 'TE_like_b_A': 153.14928322857142, 'TE_retweet_b_Quote_B': 145.945546945, 'TE_like_a_B': 139.02786390000003, 'TE_retweet_comment_a_A': 130.50981898333333, 'TE_like_a_Quote_A': 118.41942590000001, 'TE_retweet_a_Quote_A': 115.92550046874999, 'TE_reply_b_Quote_B': 106.440384, 'TE_retweet_b_A': 94.798868175, 'language_encoding': 92.48496940000001, 'b_creation_delta': 92.09034883000001, 'TE_retweet_comment_a_TopLevel_A': 89.3052465, 'a_follows_b': 86.94196696666667, 'video_count': 80.6885452, 'TE_reply_b_TopLevel_A': 79.4773178, 'TE_retweet_a_Retweet_B': 70.034961825, 'TE_reply_a_B': 67.2503586, 'TE_reply_a_Quote_A': 66.83428943333332, 'TE_reply_a_A': 62.8745518, 'TE_retweet_comment_a_Retweet_B': 61.2607422, 'TE_retweet_comment_b_TopLevel_B': 49.0365601, 'TE_retweet_comment_b_Retweet_B': 42.17354205, 'b_following_count': 40.804365796666666, 'a_is_verified': 37.9446411, 'TE_retweet_b_Retweet_A': 25.02617136666667, 'TE_retweet_a_B': 23.99549175, 'a_creation_delta': 21.06548025, 'TE_reply_a_Quote_B': 18.31426045, 'a_following_count': 17.2980728, 'a_b_creation_delta': 17.1294098, 'a_b_following_ratio': 13.91139505, 'TE_like_a_TopLevel_B': 11.5413837, 'TE_retweet_comment_b_Quote_A': 11.1837082, 'TE_retweet_comment_a_Quote_B': 7.91146088}\n\nhas_retweet_comment:\n{'TE_retweet_comment_b_B': 427.6295997991738, 'TE_retweet_comment_a_A': 156.71683640963957, 'TE_like_b_Retweet_B': 85.67985814117645, 'TE_like_b_B': 83.73256778875, 'TE_reply_a_Retweet_B': 74.3611755, 'TE_reply_b_TopLevel_B': 73.87814270833333, 'TE_reply_b_B': 69.6181796, 'TE_like_b_Quote_B': 63.12205938111111, 'TE_retweet_comment_b_TopLevel_B': 55.089959701428555, 'type_encoding': 53.24409178206897, 'TE_reply_a_B': 51.804062544, 'TE_reply_a_TopLevel_A': 49.378963188620695, 'TE_reply_b_Retweet_B': 48.22993531052631, 'TE_retweet_comment_a_B': 44.5403671, 'TE_like_b_Retweet_A': 40.769874575, 'TE_like_b_TopLevel_B': 40.026593130769236, 'photo_count': 38.78351105444445, 'TE_reply_b_Quote_B': 38.02278887125, 'TE_retweet_comment_a_Retweet_A': 37.74002123125, 'TE_retweet_a_A': 36.89439838333333, 'TE_retweet_b_Retweet_B': 36.84524355999999, 'a_follower_count': 35.55640383944444, 'a_b_follower_ratio': 35.1856834369, 'TE_like_b_Quote_A': 33.39030555, 'TE_retweet_comment_a_Quote_B': 33.29898506666667, 'TE_retweet_comment_a_TopLevel_A': 31.081759694375002, 'TE_retweet_a_Retweet_A': 30.335411088, 'TE_retweet_b_B': 30.157580186, 'video_count': 29.551052050000003, 'TE_like_b_A': 29.484829382222227, 'TE_retweet_comment_b_Retweet_B': 28.990456873214292, 'TE_reply_a_Retweet_A': 28.793975833333334, 'TE_reply_a_Quote_A': 28.271895346250002, 'TE_retweet_comment_b_Quote_B': 28.04331603523809, 'bert_token_len': 27.638544269090904, 'b_follower_count': 27.32542325, 'TE_like_b_TopLevel_A': 26.85303425, 'TE_like_a_A': 26.35616521923077, 'TE_retweet_comment_b_A': 25.4502153, 'b_creation_delta': 25.16087309, 'TE_like_a_TopLevel_A': 23.526068755384618, 'TE_retweet_a_B': 23.221482566666666, 'TE_reply_a_TopLevel_B': 22.97509, 'TE_reply_a_A': 21.46087315, 'TE_like_a_B': 20.869795234, 'a_following_count': 20.838913, 'TE_like_a_Retweet_A': 20.78347129, 'TE_retweet_comment_a_Retweet_B': 20.5267868, 'TE_reply_b_A': 20.0227051, 'TE_retweet_b_TopLevel_B': 19.71339415, 'TE_like_a_Quote_B': 19.397803471428574, 'TE_retweet_b_Retweet_A': 18.60813333333333, 'TE_retweet_comment_a_Quote_A': 18.17315758777778, 'TE_reply_b_Retweet_A': 18.119619370000002, 'TE_retweet_b_Quote_B': 17.85072325, 'b_following_count': 17.2123636, 'TE_retweet_a_Quote_A': 15.894139908333335, 'TE_like_a_TopLevel_B': 15.379648325000002, 'TE_retweet_a_Retweet_B': 14.6853771, 'TE_retweet_comment_a_TopLevel_B': 14.3870296425, 'TE_retweet_b_Quote_A': 13.72268582, 'TE_retweet_a_Quote_B': 12.95586701, 'a_creation_delta': 12.186313615, 'language_encoding': 10.8398857, 'TE_like_a_Retweet_B': 10.253378664000001, 'a_b_following_ratio': 9.9013462, 'TE_retweet_comment_b_TopLevel_A': 8.69929314, 'TE_like_a_Quote_A': 8.22402954, 'a_b_creation_delta': 5.687421173333333, 'TE_retweet_a_TopLevel_B': 5.29421743, 'TE_retweet_a_TopLevel_A': 3.30392456, 'TE_reply_b_Quote_A': 3.23291016, 'TE_retweet_comment_b_Retweet_A': 0.458984375}\n\nhas_like:\n{'TE_like_a_A': 8850.758290715625, 'TE_reply_b_Quote_A': 2551.55469, 'TE_reply_a_Quote_A': 2488.48926, 'TE_retweet_b_A': 2252.6946386333334, 'TE_like_a_Retweet_A': 1879.4574194137926, 'TE_retweet_b_Quote_A': 1585.0463653333334, 'type_encoding': 1517.2280574045458, 'TE_like_a_TopLevel_A': 1480.7102216641022, 'TE_retweet_comment_b_Quote_B': 1474.1926322500003, 'TE_reply_b_Quote_B': 1419.7049565714285, 'TE_like_b_TopLevel_B': 1333.030089748387, 'TE_retweet_b_Retweet_B': 1258.774526847619, 'TE_retweet_b_TopLevel_B': 1237.235105, 'TE_reply_b_A': 1215.2984314999999, 'TE_like_b_Retweet_B': 1196.7920896035716, 'a_follower_count': 1125.563909787, 'photo_count': 1112.3188680999997, 'TE_like_a_B': 1011.4565608333334, 'TE_reply_b_Retweet_A': 968.0644515, 'TE_retweet_b_B': 897.6109581057142, 'TE_like_b_A': 894.77209625, 'TE_reply_a_TopLevel_A': 893.3572786666665, 'TE_reply_b_TopLevel_B': 879.1377932727275, 'b_creation_delta': 738.76120658, 'TE_like_b_Retweet_A': 737.3750806666667, 'a_follows_b': 727.331476475, 'a_b_follower_ratio': 724.2069359, 'TE_retweet_comment_b_TopLevel_B': 690.9478961909091, 'TE_like_a_Quote_A': 658.7081828882353, 'TE_like_b_Quote_A': 650.4468596666667, 'TE_retweet_a_Retweet_A': 606.3520900461536, 'TE_reply_a_A': 578.815063, 'TE_reply_b_Retweet_B': 551.0457266730768, 'TE_reply_a_Retweet_A': 536.9619214666667, 'TE_like_b_B': 517.8169843321838, 'TE_like_b_TopLevel_A': 462.0674583285714, 'TE_like_b_Quote_B': 432.6865069714285, 'TE_reply_b_B': 427.8220514714285, 'TE_retweet_comment_b_TopLevel_A': 398.486877, 'TE_retweet_b_Quote_B': 365.89038106666663, 'a_b_following_ratio': 339.98459376666665, 'TE_retweet_comment_a_Retweet_A': 326.09364684999997, 'a_following_count': 313.146454, 'TE_retweet_comment_b_Retweet_B': 312.5717208283333, 'TE_retweet_a_TopLevel_A': 287.7787705, 'bert_token_len': 286.9488374583333, 'TE_retweet_a_A': 284.748115, 'b_following_count': 260.54830932, 'TE_retweet_a_B': 259.4032337666667, 'TE_like_a_Retweet_B': 242.91992954999998, 'TE_retweet_comment_a_A': 235.37249, 'TE_retweet_b_TopLevel_A': 234.974777, 'TE_retweet_comment_b_B': 190.6991469666667, 'TE_retweet_a_Retweet_B': 182.311924075, 'a_creation_delta': 157.6619427, 'TE_reply_a_B': 109.09513204999999, 'b_follower_count': 81.053588725, 'a_is_verified': 64.8040237, 'TE_retweet_comment_b_A': 58.76539325, 'TE_retweet_comment_a_Quote_A': 52.7254639, 'TE_retweet_comment_b_Retweet_A': 40.762104, 'TE_like_a_TopLevel_B': 29.616246533333328, 'TE_like_a_Quote_B': 19.0806427, 'TE_reply_a_Quote_B': 5.73947144}\n"
     ]
    }
   ],
   "source": [
    "for target in recsysxgb.targets__:\n",
    "    print(f\"\\n{target}:\")\n",
    "    print(dict(sorted(recsysxgb.clfs_[target].get_score(importance_type='gain').items(), key=lambda item: item[1], reverse=True)))"
   ]
  },
  {
   "source": [
    "## Try sample test run"
   ],
   "cell_type": "markdown",
   "metadata": {}
  },
  {
   "cell_type": "code",
   "execution_count": 22,
   "metadata": {},
   "outputs": [
    {
     "output_type": "stream",
     "name": "stdout",
     "text": [
      "Loaded Batch Nr. 1 in 20.16\n",
      "Timestamp Filtered Batch Nr. 1 in 0.41\n",
      "Did prepro part 1 of 1 in 0.27\n",
      "Did prepro part 2 of 1 in 10.67\n",
      "Did prepro part 3 of 1 in 0.05\n",
      "Merged Users of 1 in 23.01\n",
      "Extracted TE of 1 in 13.02\n",
      "Finished Batch Nr. 1 from file part-00073.tsv in 70.12s!\n"
     ]
    }
   ],
   "source": [
    "out = next(iter(dl))"
   ]
  },
  {
   "cell_type": "code",
   "execution_count": 26,
   "metadata": {},
   "outputs": [],
   "source": [
    "pred = recsysxgb.infer(out[0])"
   ]
  },
  {
   "cell_type": "code",
   "execution_count": 37,
   "metadata": {},
   "outputs": [
    {
     "output_type": "execute_result",
     "data": {
      "text/plain": [
       "5.9604645e-08"
      ]
     },
     "metadata": {},
     "execution_count": 37
    }
   ],
   "source": [
    "(((pred[3]-0.5)*0.9999999)+0.5).min()"
   ]
  },
  {
   "source": [
    "## Testing Custom batch sizes"
   ],
   "cell_type": "markdown",
   "metadata": {}
  },
  {
   "cell_type": "code",
   "execution_count": 1,
   "metadata": {},
   "outputs": [],
   "source": [
    "from utils import dataloader\n",
    "from utils import dataloader\n",
    "import utils.model\n",
    "from datetime import datetime\n",
    "from os.path import join\n",
    "\n",
    "filter_timestamp = None#int(datetime(2021, 2, 19, 0).timestamp())\n",
    "use_user_index = join(\"indices\",\"user_index.parquet\")#\"train_user_index.parquet\"\n",
    "csv_data_location = join(\"data\",\"test_files\")\n",
    "model_save_location = join(\"saved_models\",\"xgb_models_06_submission\")"
   ]
  },
  {
   "cell_type": "code",
   "execution_count": 2,
   "metadata": {},
   "outputs": [],
   "source": [
    "dl = dataloader.RecSys2021TSVDataLoader(csv_data_location, use_user_index, mode=\"test\", filter_timestamp=filter_timestamp, load_n_batches=-1, batch_size=1000000, verbose=2, random_file_sampling=True)"
   ]
  },
  {
   "cell_type": "code",
   "execution_count": 3,
   "metadata": {},
   "outputs": [
    {
     "output_type": "stream",
     "name": "stdout",
     "text": [
      "just one\n",
      "1000000\n",
      "Loaded Batch Nr. 1 in 6.10\n",
      "Timestamp Filtered Batch Nr. 1 in 0.00\n",
      "Did prepro part 1 of 1 in 0.20\n",
      "Did prepro part 2 of 1 in 11.80\n",
      "Did prepro part 3 of 1 in 0.05\n",
      "Merged Users of 1 in 21.76\n",
      "Extracted TE of 1 in 3.21\n",
      "Finished Batch Nr. 1 from file part-00003.csv in 45.47s!\n",
      "just one\n",
      "1000000\n",
      "Loaded Batch Nr. 2 in 7.32\n",
      "Timestamp Filtered Batch Nr. 2 in 0.00\n",
      "Did prepro part 1 of 2 in 0.20\n",
      "Did prepro part 2 of 2 in 11.87\n",
      "Did prepro part 3 of 2 in 0.05\n",
      "Merged Users of 2 in 22.05\n",
      "Extracted TE of 2 in 3.20\n",
      "Finished Batch Nr. 2 from file part-00003.csv in 47.02s!\n",
      "just one\n",
      "1000000\n",
      "Loaded Batch Nr. 3 in 8.79\n",
      "Timestamp Filtered Batch Nr. 3 in 0.00\n",
      "Did prepro part 1 of 3 in 0.20\n",
      "Did prepro part 2 of 3 in 11.85\n",
      "Did prepro part 3 of 3 in 0.05\n",
      "Merged Users of 3 in 22.73\n",
      "Extracted TE of 3 in 3.20\n",
      "Finished Batch Nr. 3 from file part-00003.csv in 49.16s!\n",
      "more than one 1000000\n",
      "1000000\n",
      "Loaded Batch Nr. 4 in 12.99\n",
      "Timestamp Filtered Batch Nr. 4 in 0.00\n",
      "Did prepro part 1 of 4 in 0.20\n",
      "Did prepro part 2 of 4 in 11.84\n",
      "Did prepro part 3 of 4 in 0.05\n",
      "Merged Users of 4 in 20.62\n",
      "Extracted TE of 4 in 3.22\n",
      "Finished Batch Nr. 4 from file part-00002.csv in 51.52s!\n",
      "just one\n",
      "1000000\n",
      "Loaded Batch Nr. 5 in 9.31\n",
      "Timestamp Filtered Batch Nr. 5 in 0.00\n",
      "Did prepro part 1 of 5 in 0.20\n",
      "Did prepro part 2 of 5 in 11.78\n",
      "Did prepro part 3 of 5 in 0.05\n",
      "Merged Users of 5 in 21.59\n",
      "Extracted TE of 5 in 3.18\n",
      "Finished Batch Nr. 5 from file part-00002.csv in 48.45s!\n",
      "just one\n",
      "1000000\n",
      "Loaded Batch Nr. 6 in 10.75\n",
      "Timestamp Filtered Batch Nr. 6 in 0.00\n",
      "Did prepro part 1 of 6 in 0.20\n",
      "Did prepro part 2 of 6 in 11.86\n",
      "Did prepro part 3 of 6 in 0.05\n",
      "Merged Users of 6 in 21.92\n",
      "Extracted TE of 6 in 3.19\n",
      "Finished Batch Nr. 6 from file part-00002.csv in 50.29s!\n",
      "just one\n",
      "21788\n",
      "Loaded Batch Nr. 7 in 5.44\n",
      "Timestamp Filtered Batch Nr. 7 in 0.00\n",
      "Did prepro part 1 of 7 in 0.01\n",
      "Did prepro part 2 of 7 in 0.26\n",
      "Did prepro part 3 of 7 in 0.00\n",
      "Merged Users of 7 in 20.21\n",
      "Extracted TE of 7 in 3.00\n",
      "Finished Batch Nr. 7 from file part-00002.csv in 29.01s!\n"
     ]
    }
   ],
   "source": [
    "r = [a[1] for a in dl]"
   ]
  },
  {
   "cell_type": "code",
   "execution_count": 4,
   "metadata": {},
   "outputs": [
    {
     "output_type": "stream",
     "name": "stdout",
     "text": [
      "1000000\n1000000\n1000000\n1000000\n1000000\n1000000\n21788\n"
     ]
    }
   ],
   "source": [
    "for df in r:\n",
    "    print(len(df))"
   ]
  },
  {
   "cell_type": "code",
   "execution_count": 17,
   "metadata": {},
   "outputs": [],
   "source": [
    "import utils.features as fe\n",
    "import utils.constants as co\n",
    "import pandas as pd\n",
    "import numpy as np"
   ]
  },
  {
   "cell_type": "code",
   "execution_count": 12,
   "metadata": {},
   "outputs": [],
   "source": [
    "current_file = pd.read_csv(\n",
    "                \"data/test_files/part-00002.csv\",\n",
    "                sep='\\x01',\n",
    "                header=None,\n",
    "                names=co.all_features,\n",
    "                dtype={k: v for k, v in co.dtypes_of_features.items() if k in co.all_features}\n",
    "            )"
   ]
  },
  {
   "cell_type": "code",
   "execution_count": 14,
   "metadata": {},
   "outputs": [],
   "source": [
    "current_file[\"medias\"] = current_file[\"medias\"].fillna(\"\")\n",
    "current_file[\"hashtags\"] = current_file[\"hashtags\"].fillna(\"\")\n",
    "current_file[\"links\"] = current_file[\"links\"].fillna(\"\")\n",
    "current_file[\"domains\"] = current_file[\"domains\"].fillna(\"\")\n",
    "current_file[\"medias\"] = current_file[\"medias\"].fillna(\"\")"
   ]
  },
  {
   "cell_type": "code",
   "execution_count": 27,
   "metadata": {},
   "outputs": [
    {
     "output_type": "execute_result",
     "data": {
      "text/plain": [
       "{-0.9502129554748535, 1.0, 2.0, 3.0, 4.000000476837158, 5.0, 7.0}"
      ]
     },
     "metadata": {},
     "execution_count": 27
    }
   ],
   "source": [
    "import numpy as np\n",
    "set(np.exp(train_data[\"n_gifs\"]+ train_data[\"n_photos\"] +train_data[\"n_videos\"])-1)"
   ]
  },
  {
   "source": [
    "# Other"
   ],
   "cell_type": "markdown",
   "metadata": {}
  },
  {
   "cell_type": "code",
   "execution_count": 3,
   "metadata": {},
   "outputs": [],
   "source": [
    "from utils import dataloader\n",
    "import utils.model\n",
    "from datetime import datetime\n",
    "from os.path import join\n",
    "from importlib import reload\n",
    "import torch\n",
    "\n",
    "filter_timestamp = int(datetime(2021, 2, 19, 0).timestamp())\n",
    "use_user_index = join(\"indices\",\"train_user_index_w_type.parquet\")#\"train_user_index.parquet\"\n",
    "csv_data_location = join(\"data\",\"downloaded_data\")\n",
    "model_save_location = join(\"saved_models\",\"xgb_models_15_better_index\")"
   ]
  },
  {
   "cell_type": "code",
   "execution_count": 2,
   "metadata": {},
   "outputs": [
    {
     "output_type": "stream",
     "name": "stdout",
     "text": [
      "Loading User Index\n",
      "Randomly keeping only 50.0% of the users.\n",
      "Removing day counts\n",
      "Extracting combined user counts\n",
      "Created Dataloader in 21.99 seconds!\n"
     ]
    }
   ],
   "source": [
    "dl = dataloader.RecSys2021TSVDataLoader(\n",
    "    csv_data_location, \n",
    "    use_user_index, \n",
    "    mode=\"train\", \n",
    "    filter_timestamp=filter_timestamp, \n",
    "    verbose=2, \n",
    "    remove_day_counts=True, \n",
    "    keep_user_percent=0.5, \n",
    "    batch_size = 100000,\n",
    "    minibatches_size = 64,\n",
    "    load_n_batches = 20,\n",
    "    normalize_batch = True\n",
    "    )"
   ]
  },
  {
   "cell_type": "code",
   "execution_count": 3,
   "metadata": {},
   "outputs": [],
   "source": [
    "nn = utils.model.RecSysNeural1(\"saved_models/nn1\",166).to(\"cuda\")"
   ]
  },
  {
   "cell_type": "code",
   "execution_count": 4,
   "metadata": {},
   "outputs": [
    {
     "output_type": "stream",
     "name": "stdout",
     "text": [
      "Loaded Batch Nr. 1 in 0.53\n",
      "Timestamp Filtered Batch Nr. 1 in 0.02\n",
      "Did prepro part 1 of 1 in 0.02\n",
      "Did prepro part 2 of 1 in 0.88\n",
      "Did prepro part 3 of 1 in 0.01\n",
      "Merged Users of 1 in 8.78\n",
      "Extracted TE of 1 in 5.36\n",
      "Finished Batch Nr. 1 from file part-00000.tsv in 15.86s!\n",
      "Loaded Batch Nr. 2 in 0.61\n",
      "Timestamp Filtered Batch Nr. 2 in 0.02\n",
      "Did prepro part 1 of 2 in 0.02\n",
      "Did prepro part 2 of 2 in 0.88\n",
      "Did prepro part 3 of 2 in 0.01\n",
      "Merged Users of 2 in 8.81\n",
      "Extracted TE of 2 in 5.29\n",
      "Finished Batch Nr. 2 from file part-00000.tsv in 15.91s!\n",
      "Loaded Batch Nr. 3 in 1.41\n",
      "Timestamp Filtered Batch Nr. 3 in 0.02\n",
      "Did prepro part 1 of 3 in 0.02\n",
      "Did prepro part 2 of 3 in 0.86\n",
      "Did prepro part 3 of 3 in 0.00\n",
      "Merged Users of 3 in 8.80\n",
      "Extracted TE of 3 in 5.32\n",
      "Finished Batch Nr. 3 from file part-00000.tsv in 16.70s!\n",
      "Loaded Batch Nr. 4 in 1.51\n",
      "Timestamp Filtered Batch Nr. 4 in 0.02\n",
      "Did prepro part 1 of 4 in 0.02\n",
      "Did prepro part 2 of 4 in 0.87\n",
      "Did prepro part 3 of 4 in 0.01\n",
      "Merged Users of 4 in 8.77\n",
      "Extracted TE of 4 in 5.38\n",
      "Finished Batch Nr. 4 from file part-00000.tsv in 16.85s!\n",
      "Loaded Batch Nr. 5 in 1.58\n",
      "Timestamp Filtered Batch Nr. 5 in 0.02\n",
      "Did prepro part 1 of 5 in 0.02\n",
      "Did prepro part 2 of 5 in 0.86\n",
      "Did prepro part 3 of 5 in 0.01\n",
      "Merged Users of 5 in 8.73\n",
      "Extracted TE of 5 in 5.30\n",
      "Finished Batch Nr. 5 from file part-00000.tsv in 16.79s!\n",
      "Loaded Batch Nr. 6 in 1.71\n",
      "Timestamp Filtered Batch Nr. 6 in 0.02\n",
      "Did prepro part 1 of 6 in 0.02\n",
      "Did prepro part 2 of 6 in 0.87\n",
      "Did prepro part 3 of 6 in 0.01\n",
      "Merged Users of 6 in 8.79\n",
      "Extracted TE of 6 in 5.32\n",
      "Finished Batch Nr. 6 from file part-00000.tsv in 17.00s!\n",
      "Loaded Batch Nr. 7 in 1.78\n",
      "Timestamp Filtered Batch Nr. 7 in 0.02\n",
      "Did prepro part 1 of 7 in 0.02\n",
      "Did prepro part 2 of 7 in 0.87\n",
      "Did prepro part 3 of 7 in 0.01\n",
      "Merged Users of 7 in 8.82\n",
      "Extracted TE of 7 in 5.35\n",
      "Finished Batch Nr. 7 from file part-00000.tsv in 17.15s!\n",
      "Loaded Batch Nr. 8 in 1.88\n",
      "Timestamp Filtered Batch Nr. 8 in 0.02\n",
      "Did prepro part 1 of 8 in 0.02\n",
      "Did prepro part 2 of 8 in 0.86\n",
      "Did prepro part 3 of 8 in 0.01\n",
      "Merged Users of 8 in 8.76\n",
      "Extracted TE of 8 in 5.33\n",
      "Finished Batch Nr. 8 from file part-00000.tsv in 17.14s!\n",
      "Loaded Batch Nr. 9 in 1.92\n",
      "Timestamp Filtered Batch Nr. 9 in 0.02\n",
      "Did prepro part 1 of 9 in 0.02\n",
      "Did prepro part 2 of 9 in 0.87\n",
      "Did prepro part 3 of 9 in 0.01\n",
      "Merged Users of 9 in 8.84\n",
      "Extracted TE of 9 in 5.29\n",
      "Finished Batch Nr. 9 from file part-00000.tsv in 17.23s!\n",
      "Loaded Batch Nr. 10 in 2.10\n",
      "Timestamp Filtered Batch Nr. 10 in 0.02\n",
      "Did prepro part 1 of 10 in 0.02\n",
      "Did prepro part 2 of 10 in 0.88\n",
      "Did prepro part 3 of 10 in 0.01\n",
      "Merged Users of 10 in 8.81\n",
      "Extracted TE of 10 in 5.33\n",
      "Finished Batch Nr. 10 from file part-00000.tsv in 17.42s!\n",
      "Loaded Batch Nr. 11 in 2.09\n",
      "Timestamp Filtered Batch Nr. 11 in 0.02\n",
      "Did prepro part 1 of 11 in 0.02\n",
      "Did prepro part 2 of 11 in 0.86\n",
      "Did prepro part 3 of 11 in 0.01\n",
      "Merged Users of 11 in 8.81\n",
      "Extracted TE of 11 in 5.30\n",
      "Finished Batch Nr. 11 from file part-00000.tsv in 17.38s!\n",
      "Loaded Batch Nr. 12 in 2.21\n",
      "Timestamp Filtered Batch Nr. 12 in 0.02\n",
      "Did prepro part 1 of 12 in 0.02\n",
      "Did prepro part 2 of 12 in 0.88\n",
      "Did prepro part 3 of 12 in 0.01\n",
      "Merged Users of 12 in 8.76\n",
      "Extracted TE of 12 in 5.34\n",
      "Finished Batch Nr. 12 from file part-00000.tsv in 17.50s!\n",
      "Loaded Batch Nr. 13 in 2.31\n",
      "Timestamp Filtered Batch Nr. 13 in 0.02\n",
      "Did prepro part 1 of 13 in 0.02\n",
      "Did prepro part 2 of 13 in 0.87\n",
      "Did prepro part 3 of 13 in 0.01\n",
      "Merged Users of 13 in 8.71\n",
      "Extracted TE of 13 in 5.30\n",
      "Finished Batch Nr. 13 from file part-00000.tsv in 17.50s!\n",
      "Loaded Batch Nr. 14 in 2.40\n",
      "Timestamp Filtered Batch Nr. 14 in 0.02\n",
      "Did prepro part 1 of 14 in 0.02\n",
      "Did prepro part 2 of 14 in 0.88\n",
      "Did prepro part 3 of 14 in 0.01\n",
      "Merged Users of 14 in 8.77\n",
      "Extracted TE of 14 in 5.29\n",
      "Finished Batch Nr. 14 from file part-00000.tsv in 17.66s!\n",
      "Loaded Batch Nr. 15 in 2.51\n",
      "Timestamp Filtered Batch Nr. 15 in 0.02\n",
      "Did prepro part 1 of 15 in 0.02\n",
      "Did prepro part 2 of 15 in 0.88\n",
      "Did prepro part 3 of 15 in 0.01\n",
      "Merged Users of 15 in 8.82\n",
      "Extracted TE of 15 in 5.35\n",
      "Finished Batch Nr. 15 from file part-00000.tsv in 17.87s!\n",
      "Loaded Batch Nr. 16 in 2.69\n",
      "Timestamp Filtered Batch Nr. 16 in 0.02\n",
      "Did prepro part 1 of 16 in 0.02\n",
      "Did prepro part 2 of 16 in 0.87\n",
      "Did prepro part 3 of 16 in 0.01\n",
      "Merged Users of 16 in 8.79\n",
      "Extracted TE of 16 in 5.34\n",
      "Finished Batch Nr. 16 from file part-00000.tsv in 18.01s!\n",
      "Loaded Batch Nr. 17 in 2.68\n",
      "Timestamp Filtered Batch Nr. 17 in 0.02\n",
      "Did prepro part 1 of 17 in 0.02\n",
      "Did prepro part 2 of 17 in 0.86\n",
      "Did prepro part 3 of 17 in 0.00\n",
      "Merged Users of 17 in 8.78\n",
      "Extracted TE of 17 in 5.30\n",
      "Finished Batch Nr. 17 from file part-00000.tsv in 17.92s!\n",
      "Loaded Batch Nr. 18 in 2.73\n",
      "Timestamp Filtered Batch Nr. 18 in 0.02\n",
      "Did prepro part 1 of 18 in 0.02\n",
      "Did prepro part 2 of 18 in 0.88\n",
      "Did prepro part 3 of 18 in 0.00\n",
      "Merged Users of 18 in 8.73\n",
      "Extracted TE of 18 in 5.30\n",
      "Finished Batch Nr. 18 from file part-00000.tsv in 17.96s!\n",
      "Loaded Batch Nr. 19 in 2.83\n",
      "Timestamp Filtered Batch Nr. 19 in 0.02\n",
      "Did prepro part 1 of 19 in 0.02\n",
      "Did prepro part 2 of 19 in 0.86\n",
      "Did prepro part 3 of 19 in 0.01\n",
      "Merged Users of 19 in 8.69\n",
      "Extracted TE of 19 in 5.29\n",
      "Finished Batch Nr. 19 from file part-00000.tsv in 17.99s!\n",
      "Loaded Batch Nr. 20 in 3.06\n",
      "Timestamp Filtered Batch Nr. 20 in 0.02\n",
      "Did prepro part 1 of 20 in 0.02\n",
      "Did prepro part 2 of 20 in 0.88\n",
      "Did prepro part 3 of 20 in 0.00\n",
      "Merged Users of 20 in 8.81\n",
      "Extracted TE of 20 in 5.28\n",
      "Finished Batch Nr. 20 from file part-00000.tsv in 18.33s!\n"
     ]
    }
   ],
   "source": [
    "nn.fit(dl, 1)"
   ]
  },
  {
   "cell_type": "code",
   "execution_count": 5,
   "metadata": {},
   "outputs": [
    {
     "output_type": "stream",
     "name": "stdout",
     "text": [
      "Loading User Index\n",
      "Removing day counts\n",
      "Extracting combined user counts\n",
      "Created Dataloader in 9.23 seconds!\n",
      "Loaded Batch Nr. 1 in 0.50\n",
      "Timestamp Filtered Batch Nr. 1 in 0.01\n",
      "Did prepro part 1 of 1 in 0.01\n",
      "Did prepro part 2 of 1 in 0.35\n",
      "Did prepro part 3 of 1 in 0.00\n",
      "Merged Users of 1 in 20.75\n",
      "Extracted TE of 1 in 10.51\n",
      "Finished Batch Nr. 1 from file part-00000.tsv in 32.27s!\n",
      "Loaded Batch Nr. 2 in 0.60\n",
      "Timestamp Filtered Batch Nr. 2 in 0.01\n",
      "Did prepro part 1 of 2 in 0.01\n",
      "Did prepro part 2 of 2 in 0.36\n",
      "Did prepro part 3 of 2 in 0.00\n",
      "Merged Users of 2 in 19.24\n",
      "Extracted TE of 2 in 10.39\n",
      "Finished Batch Nr. 2 from file part-00000.tsv in 30.75s!\n"
     ]
    },
    {
     "output_type": "execute_result",
     "data": {
      "text/plain": [
       "{'Q1_reply_rce': -55.06375529232655,\n",
       " 'Q1_retweet_rce': 2.022846040964088,\n",
       " 'Q1_retweet_comment_rce': -1779.8738613419546,\n",
       " 'Q1_like_rce': -33.556324489285075,\n",
       " 'Q1_reply_avg_prec': 0.15847665901759944,\n",
       " 'Q1_retweet_avg_prec': 0.3183992278567487,\n",
       " 'Q1_retweet_comment_avg_prec': 0.012456490593981896,\n",
       " 'Q1_like_avg_prec': 0.6371322559900724,\n",
       " 'Q2_reply_rce': -69.87847181000113,\n",
       " 'Q2_retweet_rce': 6.4290856674497965,\n",
       " 'Q2_retweet_comment_rce': -1713.128849104653,\n",
       " 'Q2_like_rce': -26.586873867452155,\n",
       " 'Q2_reply_avg_prec': 0.15787283026510363,\n",
       " 'Q2_retweet_avg_prec': 0.30418172967899715,\n",
       " 'Q2_retweet_comment_avg_prec': 0.0320185234437078,\n",
       " 'Q2_like_avg_prec': 0.6575847322885718,\n",
       " 'Q3_reply_rce': -68.04658336242227,\n",
       " 'Q3_retweet_rce': 11.167206860620848,\n",
       " 'Q3_retweet_comment_rce': -1096.8625199070543,\n",
       " 'Q3_like_rce': -15.533225203282308,\n",
       " 'Q3_reply_avg_prec': 0.17978344581739844,\n",
       " 'Q3_retweet_avg_prec': 0.3482818652909233,\n",
       " 'Q3_retweet_comment_avg_prec': 0.015857833740217535,\n",
       " 'Q3_like_avg_prec': 0.6567000236385427,\n",
       " 'Q4_reply_rce': -94.08723578637476,\n",
       " 'Q4_retweet_rce': 14.027504353393683,\n",
       " 'Q4_retweet_comment_rce': -1043.8681907205514,\n",
       " 'Q4_like_rce': -15.70046307663635,\n",
       " 'Q4_reply_avg_prec': 0.1357782597762223,\n",
       " 'Q4_retweet_avg_prec': 0.37342436753051944,\n",
       " 'Q4_retweet_comment_avg_prec': 0.03359344801286888,\n",
       " 'Q4_like_avg_prec': 0.6577912227315191,\n",
       " 'Q5_reply_rce': -114.27845531785246,\n",
       " 'Q5_retweet_rce': 7.551634417797592,\n",
       " 'Q5_retweet_comment_rce': -1171.679261120721,\n",
       " 'Q5_like_rce': -3.3687576940799158,\n",
       " 'Q5_reply_avg_prec': 0.09227073574736669,\n",
       " 'Q5_retweet_avg_prec': 0.28978193582223455,\n",
       " 'Q5_retweet_comment_avg_prec': 0.017640340920890958,\n",
       " 'Q5_like_avg_prec': 0.657477525382726,\n",
       " 'TOTAL_reply_rce': -80.27090031379544,\n",
       " 'TOTAL_retweet_rce': 8.239655468045202,\n",
       " 'TOTAL_retweet_comment_rce': -1361.082536438987,\n",
       " 'TOTAL_like_rce': -18.949128866147163,\n",
       " 'TOTAL_reply_avg_prec': 0.1448363861247381,\n",
       " 'TOTAL_retweet_avg_prec': 0.32681382523588465,\n",
       " 'TOTAL_retweet_comment_avg_prec': 0.022313327342333412,\n",
       " 'TOTAL_like_avg_prec': 0.6533371520062864}"
      ]
     },
     "metadata": {},
     "execution_count": 5
    }
   ],
   "source": [
    "dl = dataloader.RecSys2021TSVDataLoader(\n",
    "    csv_data_location, \n",
    "    use_user_index, \n",
    "    mode=\"val\", \n",
    "    filter_timestamp=filter_timestamp, \n",
    "    verbose=2,\n",
    "    remove_day_counts=True, \n",
    "    keep_user_percent=1, \n",
    "    batch_size = 100000,\n",
    "    minibatches_size = 64,\n",
    "    load_n_batches = 2,\n",
    "    normalize_batch = True\n",
    ")\n",
    "\n",
    "nn.evaluate_validation_set(dl)"
   ]
  },
  {
   "cell_type": "code",
   "execution_count": 2,
   "metadata": {},
   "outputs": [],
   "source": [
    "from utils.constants import user_group_weights\n",
    "import torch"
   ]
  },
  {
   "cell_type": "code",
   "execution_count": 7,
   "metadata": {},
   "outputs": [],
   "source": [
    "groups = [1,2,4,5]"
   ]
  },
  {
   "cell_type": "code",
   "execution_count": 8,
   "metadata": {},
   "outputs": [
    {
     "output_type": "execute_result",
     "data": {
      "text/plain": [
       "[0.9870774328685435,\n",
       " 0.9705157535873209,\n",
       " 0.8466576397178028,\n",
       " 0.4343195950966685]"
      ]
     },
     "metadata": {},
     "execution_count": 8
    }
   ],
   "source": [
    "[user_group_weights[it] for it in groups]"
   ]
  },
  {
   "source": [
    "# Other"
   ],
   "cell_type": "markdown",
   "metadata": {}
  },
  {
   "cell_type": "code",
   "execution_count": 1,
   "metadata": {},
   "outputs": [],
   "source": [
    "import utils.download"
   ]
  },
  {
   "cell_type": "code",
   "execution_count": 2,
   "metadata": {},
   "outputs": [
    {
     "output_type": "stream",
     "name": "stdout",
     "text": [
      "Downloading https://storage.googleapis.com to data/validation_data/part-00000.lzo... done\n",
      "Uncompressing data/validation_data/part-00000.lzo... done\n",
      "Downloading https://storage.googleapis.com to data/validation_data/part-00001.lzo... done\n",
      "Uncompressing data/validation_data/part-00001.lzo... done\n"
     ]
    }
   ],
   "source": [
    "utils.download.download_data(\"validation_urls.txt\",\"data/validation_data\", delete_compressed = False)"
   ]
  },
  {
   "cell_type": "code",
   "execution_count": 10,
   "metadata": {},
   "outputs": [],
   "source": [
    "import pandas as pd\n",
    "from utils.constants import all_columns, dtypes_of_features, all_features"
   ]
  },
  {
   "cell_type": "code",
   "execution_count": 11,
   "metadata": {},
   "outputs": [
    {
     "output_type": "execute_result",
     "data": {
      "text/plain": [
       "                     bert_base_multilingual_cased_tokens  \\\n",
       "0      101\\t157\\t39554\\t117\\t51747\\t10479\\t27874\\t101...   \n",
       "1      101\\t14120\\t131\\t120\\t120\\t188\\t119\\t11170\\t12...   \n",
       "2      101\\t56898\\t137\\t10279\\t10908\\t10138\\t168\\t398...   \n",
       "3      101\\t56898\\t137\\t12275\\t10738\\t11534\\t15417\\t9...   \n",
       "4      101\\t109821\\t24093\\t14703\\t30118\\t11259\\t160\\t...   \n",
       "...                                                  ...   \n",
       "99995  101\\t49056\\t27354\\t34935\\t69618\\t39752\\t10230\\...   \n",
       "99996  101\\t10911\\t146\\t100\\t172\\t16863\\t29597\\t86607...   \n",
       "99997  101\\t56898\\t137\\t14424\\t168\\t48742\\t131\\t108\\t...   \n",
       "99998  101\\t1894\\t88218\\t7860\\t2316\\t1895\\t108\\t2087\\...   \n",
       "99999  101\\t24625\\t12216\\t16190\\t20934\\t10305\\t39135\\...   \n",
       "\n",
       "                                                hashtags  \\\n",
       "0                                                    NaN   \n",
       "1                                                    NaN   \n",
       "2      90C52DDF506D1C98EE678E84C08C36AB\\tCD8639BABE54...   \n",
       "3      D704B4128E35F9BC995E701523676542\\tCFD3AF9039C6...   \n",
       "4                                                    NaN   \n",
       "...                                                  ...   \n",
       "99995                   E27EDC9E620D43F17663DCAEAA958585   \n",
       "99996                                                NaN   \n",
       "99997  4A99F523FECC5224DFB8B55027794D21\\t18B9EA3B7FDC...   \n",
       "99998  35825087788754DC26ED3A6364FD3A55\\tD1E4BFB9BD83...   \n",
       "99999                                                NaN   \n",
       "\n",
       "                               tweet_id                      medias  \\\n",
       "0      0C8E7372269942BB173EED7C0A72DA09                         NaN   \n",
       "1      858720854891DFED04A5B91758049833                       Photo   \n",
       "2      1988AA4069C46F57990B6983FBD427A6                         NaN   \n",
       "3      89C86150124016236B7D4A286B041210                         NaN   \n",
       "4      971197A8E595128D8BAF8F3F9D20CFF3                Photo\\tPhoto   \n",
       "...                                 ...                         ...   \n",
       "99995  B434BB652FBBA4D4CA2C8B75CD65D60D  Photo\\tPhoto\\tPhoto\\tPhoto   \n",
       "99996  710CA52FDB579F8C375D21CF967DD32A                         NaN   \n",
       "99997  ACF411715253EA6B18794E067D62D530                         NaN   \n",
       "99998  0F6E4AF7D5A70C4C9519D224604EB61C                         NaN   \n",
       "99999  00AD7C226F494AB80FE24B262CDA7092  Photo\\tPhoto\\tPhoto\\tPhoto   \n",
       "\n",
       "                                  links                           domains  \\\n",
       "0                                   NaN                               NaN   \n",
       "1                                   NaN                               NaN   \n",
       "2      D249E94F6D37A7D5E37185E02C94CDFF  9EFF000CDB18B710CDDB43EE1D8C300B   \n",
       "3                                   NaN                               NaN   \n",
       "4                                   NaN                               NaN   \n",
       "...                                 ...                               ...   \n",
       "99995                               NaN                               NaN   \n",
       "99996                               NaN                               NaN   \n",
       "99997                               NaN                               NaN   \n",
       "99998  A33C298D80264AFAB5612248F785024C  1CE85CC733BA6144D83EDF75F95DCA4E   \n",
       "99999                               NaN                               NaN   \n",
       "\n",
       "           type                          language   timestamp  \\\n",
       "0         Quote  488B32D24BD4BB44172EB981C1BCA6FA  1614523782   \n",
       "1      TopLevel  313ECD3A1E5BB07406E4249475C2D6D6  1614335436   \n",
       "2       Retweet  E7F038DE3EAD397AEC9193686C911677  1614618153   \n",
       "3       Retweet  E7F038DE3EAD397AEC9193686C911677  1614714932   \n",
       "4      TopLevel  488B32D24BD4BB44172EB981C1BCA6FA  1614559113   \n",
       "...         ...                               ...         ...   \n",
       "99995  TopLevel  488B32D24BD4BB44172EB981C1BCA6FA  1614747844   \n",
       "99996  TopLevel  488B32D24BD4BB44172EB981C1BCA6FA  1614670776   \n",
       "99997   Retweet  E7F038DE3EAD397AEC9193686C911677  1614768600   \n",
       "99998  TopLevel  E7F038DE3EAD397AEC9193686C911677  1614238664   \n",
       "99999  TopLevel  1F73BB863A39DB62B4A55B7E558DB1E8  1614248932   \n",
       "\n",
       "                              a_user_id  ...  \\\n",
       "0      8B7BB615A39DF112B0037E960C27F220  ...   \n",
       "1      74B09D5BC3FCE5CC4DEE34BF049A0EE5  ...   \n",
       "2      316C2BE47E445DA930E56C12F3AF31C5  ...   \n",
       "3      C19FC40FBF0AA0BAC4797BD47483349B  ...   \n",
       "4      46846BF25E56F8BA11C0AE36ED31B28F  ...   \n",
       "...                                 ...  ...   \n",
       "99995  967E7C2A6A7F277E37C8E77D224B7E18  ...   \n",
       "99996  04F8A6F207D69EF1E63F4926D1D4DBAB  ...   \n",
       "99997  3AD09AAD3F97E386B12E14772CAA5E67  ...   \n",
       "99998  2D2E9B9AD37B72325FDEA86D1197975D  ...   \n",
       "99999  FA3D16F4CF4256512B2FEEECA6378146  ...   \n",
       "\n",
       "                              b_user_id  b_follower_count  b_following_count  \\\n",
       "0      3044AFDB7E977FB7F62D49C5C97794B7              1128               4028   \n",
       "1      23ACD97ACEF57BF6416670BE1133A664                72                115   \n",
       "2      99F829F88A12BF8B92EDF11A10B6533C               130                638   \n",
       "3      A3A7B6D928FAD730BA9967B53EA7CC28               234                640   \n",
       "4      BA94D75FC03B42F88CAE61485E075960                 8                208   \n",
       "...                                 ...               ...                ...   \n",
       "99995  F9414BF0E778E51C5BC48655D0C52583              4542               1401   \n",
       "99996  D8462FB3BBD84B0431CF79EC2D106983               738                677   \n",
       "99997  7A7A62AC9D03EC812B0971FFCE113A9B               324               1736   \n",
       "99998  3EA329F4500E2FB2DFEF0C482E43C2D5                 8                 57   \n",
       "99999  5288EF236BD63A6A403F58A821A38B19               381                525   \n",
       "\n",
       "       b_is_verified b_account_creation  a_follows_b  reply  retweet  \\\n",
       "0              False         1419763073        False    NaN      NaN   \n",
       "1              False         1600058407        False    NaN      NaN   \n",
       "2              False         1257076693        False    NaN      NaN   \n",
       "3              False         1599725409        False    NaN      NaN   \n",
       "4              False         1532879982        False    NaN      NaN   \n",
       "...              ...                ...          ...    ...      ...   \n",
       "99995          False         1344160517         True    NaN      NaN   \n",
       "99996          False         1288417538        False    NaN      NaN   \n",
       "99997          False         1339671557         True    NaN      NaN   \n",
       "99998          False         1548231263        False    NaN      NaN   \n",
       "99999          False         1349299536         True    NaN      NaN   \n",
       "\n",
       "       retweet_comment          like  \n",
       "0                  NaN  1.614526e+09  \n",
       "1                  NaN  1.614379e+09  \n",
       "2                  NaN           NaN  \n",
       "3                  NaN  1.614715e+09  \n",
       "4                  NaN  1.614618e+09  \n",
       "...                ...           ...  \n",
       "99995              NaN  1.614755e+09  \n",
       "99996              NaN           NaN  \n",
       "99997              NaN           NaN  \n",
       "99998              NaN           NaN  \n",
       "99999              NaN  1.614249e+09  \n",
       "\n",
       "[100000 rows x 24 columns]"
      ],
      "text/html": "<div>\n<style scoped>\n    .dataframe tbody tr th:only-of-type {\n        vertical-align: middle;\n    }\n\n    .dataframe tbody tr th {\n        vertical-align: top;\n    }\n\n    .dataframe thead th {\n        text-align: right;\n    }\n</style>\n<table border=\"1\" class=\"dataframe\">\n  <thead>\n    <tr style=\"text-align: right;\">\n      <th></th>\n      <th>bert_base_multilingual_cased_tokens</th>\n      <th>hashtags</th>\n      <th>tweet_id</th>\n      <th>medias</th>\n      <th>links</th>\n      <th>domains</th>\n      <th>type</th>\n      <th>language</th>\n      <th>timestamp</th>\n      <th>a_user_id</th>\n      <th>...</th>\n      <th>b_user_id</th>\n      <th>b_follower_count</th>\n      <th>b_following_count</th>\n      <th>b_is_verified</th>\n      <th>b_account_creation</th>\n      <th>a_follows_b</th>\n      <th>reply</th>\n      <th>retweet</th>\n      <th>retweet_comment</th>\n      <th>like</th>\n    </tr>\n  </thead>\n  <tbody>\n    <tr>\n      <th>0</th>\n      <td>101\\t157\\t39554\\t117\\t51747\\t10479\\t27874\\t101...</td>\n      <td>NaN</td>\n      <td>0C8E7372269942BB173EED7C0A72DA09</td>\n      <td>NaN</td>\n      <td>NaN</td>\n      <td>NaN</td>\n      <td>Quote</td>\n      <td>488B32D24BD4BB44172EB981C1BCA6FA</td>\n      <td>1614523782</td>\n      <td>8B7BB615A39DF112B0037E960C27F220</td>\n      <td>...</td>\n      <td>3044AFDB7E977FB7F62D49C5C97794B7</td>\n      <td>1128</td>\n      <td>4028</td>\n      <td>False</td>\n      <td>1419763073</td>\n      <td>False</td>\n      <td>NaN</td>\n      <td>NaN</td>\n      <td>NaN</td>\n      <td>1.614526e+09</td>\n    </tr>\n    <tr>\n      <th>1</th>\n      <td>101\\t14120\\t131\\t120\\t120\\t188\\t119\\t11170\\t12...</td>\n      <td>NaN</td>\n      <td>858720854891DFED04A5B91758049833</td>\n      <td>Photo</td>\n      <td>NaN</td>\n      <td>NaN</td>\n      <td>TopLevel</td>\n      <td>313ECD3A1E5BB07406E4249475C2D6D6</td>\n      <td>1614335436</td>\n      <td>74B09D5BC3FCE5CC4DEE34BF049A0EE5</td>\n      <td>...</td>\n      <td>23ACD97ACEF57BF6416670BE1133A664</td>\n      <td>72</td>\n      <td>115</td>\n      <td>False</td>\n      <td>1600058407</td>\n      <td>False</td>\n      <td>NaN</td>\n      <td>NaN</td>\n      <td>NaN</td>\n      <td>1.614379e+09</td>\n    </tr>\n    <tr>\n      <th>2</th>\n      <td>101\\t56898\\t137\\t10279\\t10908\\t10138\\t168\\t398...</td>\n      <td>90C52DDF506D1C98EE678E84C08C36AB\\tCD8639BABE54...</td>\n      <td>1988AA4069C46F57990B6983FBD427A6</td>\n      <td>NaN</td>\n      <td>D249E94F6D37A7D5E37185E02C94CDFF</td>\n      <td>9EFF000CDB18B710CDDB43EE1D8C300B</td>\n      <td>Retweet</td>\n      <td>E7F038DE3EAD397AEC9193686C911677</td>\n      <td>1614618153</td>\n      <td>316C2BE47E445DA930E56C12F3AF31C5</td>\n      <td>...</td>\n      <td>99F829F88A12BF8B92EDF11A10B6533C</td>\n      <td>130</td>\n      <td>638</td>\n      <td>False</td>\n      <td>1257076693</td>\n      <td>False</td>\n      <td>NaN</td>\n      <td>NaN</td>\n      <td>NaN</td>\n      <td>NaN</td>\n    </tr>\n    <tr>\n      <th>3</th>\n      <td>101\\t56898\\t137\\t12275\\t10738\\t11534\\t15417\\t9...</td>\n      <td>D704B4128E35F9BC995E701523676542\\tCFD3AF9039C6...</td>\n      <td>89C86150124016236B7D4A286B041210</td>\n      <td>NaN</td>\n      <td>NaN</td>\n      <td>NaN</td>\n      <td>Retweet</td>\n      <td>E7F038DE3EAD397AEC9193686C911677</td>\n      <td>1614714932</td>\n      <td>C19FC40FBF0AA0BAC4797BD47483349B</td>\n      <td>...</td>\n      <td>A3A7B6D928FAD730BA9967B53EA7CC28</td>\n      <td>234</td>\n      <td>640</td>\n      <td>False</td>\n      <td>1599725409</td>\n      <td>False</td>\n      <td>NaN</td>\n      <td>NaN</td>\n      <td>NaN</td>\n      <td>1.614715e+09</td>\n    </tr>\n    <tr>\n      <th>4</th>\n      <td>101\\t109821\\t24093\\t14703\\t30118\\t11259\\t160\\t...</td>\n      <td>NaN</td>\n      <td>971197A8E595128D8BAF8F3F9D20CFF3</td>\n      <td>Photo\\tPhoto</td>\n      <td>NaN</td>\n      <td>NaN</td>\n      <td>TopLevel</td>\n      <td>488B32D24BD4BB44172EB981C1BCA6FA</td>\n      <td>1614559113</td>\n      <td>46846BF25E56F8BA11C0AE36ED31B28F</td>\n      <td>...</td>\n      <td>BA94D75FC03B42F88CAE61485E075960</td>\n      <td>8</td>\n      <td>208</td>\n      <td>False</td>\n      <td>1532879982</td>\n      <td>False</td>\n      <td>NaN</td>\n      <td>NaN</td>\n      <td>NaN</td>\n      <td>1.614618e+09</td>\n    </tr>\n    <tr>\n      <th>...</th>\n      <td>...</td>\n      <td>...</td>\n      <td>...</td>\n      <td>...</td>\n      <td>...</td>\n      <td>...</td>\n      <td>...</td>\n      <td>...</td>\n      <td>...</td>\n      <td>...</td>\n      <td>...</td>\n      <td>...</td>\n      <td>...</td>\n      <td>...</td>\n      <td>...</td>\n      <td>...</td>\n      <td>...</td>\n      <td>...</td>\n      <td>...</td>\n      <td>...</td>\n      <td>...</td>\n    </tr>\n    <tr>\n      <th>99995</th>\n      <td>101\\t49056\\t27354\\t34935\\t69618\\t39752\\t10230\\...</td>\n      <td>E27EDC9E620D43F17663DCAEAA958585</td>\n      <td>B434BB652FBBA4D4CA2C8B75CD65D60D</td>\n      <td>Photo\\tPhoto\\tPhoto\\tPhoto</td>\n      <td>NaN</td>\n      <td>NaN</td>\n      <td>TopLevel</td>\n      <td>488B32D24BD4BB44172EB981C1BCA6FA</td>\n      <td>1614747844</td>\n      <td>967E7C2A6A7F277E37C8E77D224B7E18</td>\n      <td>...</td>\n      <td>F9414BF0E778E51C5BC48655D0C52583</td>\n      <td>4542</td>\n      <td>1401</td>\n      <td>False</td>\n      <td>1344160517</td>\n      <td>True</td>\n      <td>NaN</td>\n      <td>NaN</td>\n      <td>NaN</td>\n      <td>1.614755e+09</td>\n    </tr>\n    <tr>\n      <th>99996</th>\n      <td>101\\t10911\\t146\\t100\\t172\\t16863\\t29597\\t86607...</td>\n      <td>NaN</td>\n      <td>710CA52FDB579F8C375D21CF967DD32A</td>\n      <td>NaN</td>\n      <td>NaN</td>\n      <td>NaN</td>\n      <td>TopLevel</td>\n      <td>488B32D24BD4BB44172EB981C1BCA6FA</td>\n      <td>1614670776</td>\n      <td>04F8A6F207D69EF1E63F4926D1D4DBAB</td>\n      <td>...</td>\n      <td>D8462FB3BBD84B0431CF79EC2D106983</td>\n      <td>738</td>\n      <td>677</td>\n      <td>False</td>\n      <td>1288417538</td>\n      <td>False</td>\n      <td>NaN</td>\n      <td>NaN</td>\n      <td>NaN</td>\n      <td>NaN</td>\n    </tr>\n    <tr>\n      <th>99997</th>\n      <td>101\\t56898\\t137\\t14424\\t168\\t48742\\t131\\t108\\t...</td>\n      <td>4A99F523FECC5224DFB8B55027794D21\\t18B9EA3B7FDC...</td>\n      <td>ACF411715253EA6B18794E067D62D530</td>\n      <td>NaN</td>\n      <td>NaN</td>\n      <td>NaN</td>\n      <td>Retweet</td>\n      <td>E7F038DE3EAD397AEC9193686C911677</td>\n      <td>1614768600</td>\n      <td>3AD09AAD3F97E386B12E14772CAA5E67</td>\n      <td>...</td>\n      <td>7A7A62AC9D03EC812B0971FFCE113A9B</td>\n      <td>324</td>\n      <td>1736</td>\n      <td>False</td>\n      <td>1339671557</td>\n      <td>True</td>\n      <td>NaN</td>\n      <td>NaN</td>\n      <td>NaN</td>\n      <td>NaN</td>\n    </tr>\n    <tr>\n      <th>99998</th>\n      <td>101\\t1894\\t88218\\t7860\\t2316\\t1895\\t108\\t2087\\...</td>\n      <td>35825087788754DC26ED3A6364FD3A55\\tD1E4BFB9BD83...</td>\n      <td>0F6E4AF7D5A70C4C9519D224604EB61C</td>\n      <td>NaN</td>\n      <td>A33C298D80264AFAB5612248F785024C</td>\n      <td>1CE85CC733BA6144D83EDF75F95DCA4E</td>\n      <td>TopLevel</td>\n      <td>E7F038DE3EAD397AEC9193686C911677</td>\n      <td>1614238664</td>\n      <td>2D2E9B9AD37B72325FDEA86D1197975D</td>\n      <td>...</td>\n      <td>3EA329F4500E2FB2DFEF0C482E43C2D5</td>\n      <td>8</td>\n      <td>57</td>\n      <td>False</td>\n      <td>1548231263</td>\n      <td>False</td>\n      <td>NaN</td>\n      <td>NaN</td>\n      <td>NaN</td>\n      <td>NaN</td>\n    </tr>\n    <tr>\n      <th>99999</th>\n      <td>101\\t24625\\t12216\\t16190\\t20934\\t10305\\t39135\\...</td>\n      <td>NaN</td>\n      <td>00AD7C226F494AB80FE24B262CDA7092</td>\n      <td>Photo\\tPhoto\\tPhoto\\tPhoto</td>\n      <td>NaN</td>\n      <td>NaN</td>\n      <td>TopLevel</td>\n      <td>1F73BB863A39DB62B4A55B7E558DB1E8</td>\n      <td>1614248932</td>\n      <td>FA3D16F4CF4256512B2FEEECA6378146</td>\n      <td>...</td>\n      <td>5288EF236BD63A6A403F58A821A38B19</td>\n      <td>381</td>\n      <td>525</td>\n      <td>False</td>\n      <td>1349299536</td>\n      <td>True</td>\n      <td>NaN</td>\n      <td>NaN</td>\n      <td>NaN</td>\n      <td>1.614249e+09</td>\n    </tr>\n  </tbody>\n</table>\n<p>100000 rows × 24 columns</p>\n</div>"
     },
     "metadata": {},
     "execution_count": 11
    }
   ],
   "source": [
    "pd.read_csv(\"data/validation_data/part-00000.lzo\",\n",
    "                sep='\\x01',\n",
    "                header=None,\n",
    "                names=all_columns,\n",
    "                dtype={k: v for k, v in dtypes_of_features.items() if k in all_features},\n",
    "                nrows = 100000\n",
    "                )"
   ]
  },
  {
   "cell_type": "code",
   "execution_count": 3,
   "metadata": {},
   "outputs": [
    {
     "output_type": "stream",
     "name": "stdout",
     "text": [
      "Loaded Batch Nr. 1 in 8.59\n",
      "Timestamp Filtered Batch Nr. 1 in 0.00\n",
      "Did prepro part 1 of 1 in 0.36\n",
      "Did prepro part 2 of 1 in 20.40\n",
      "Did prepro part 3 of 1 in 0.09\n",
      "Merged Users of 1 in 25.17\n",
      "Extracted TE of 1 in 14.11\n",
      "Finished Batch Nr. 1 from file part-00000.tsv in 73.28s!\n"
     ]
    }
   ],
   "source": [
    "res = next(iter(dl))"
   ]
  },
  {
   "cell_type": "code",
   "execution_count": 5,
   "metadata": {},
   "outputs": [
    {
     "output_type": "stream",
     "name": "stdout",
     "text": [
      "a_follower_count                                            a_following_count                                           a_is_verified                                               b_follower_count                                            b_following_count                                           b_is_verified                                               a_follows_b                                                 bert_token_len                                              photo_count                                                 video_count                                                 gif_count                                                   type_encoding                                               language_encoding                                           a_followers                                                 a_following                                                 b_followers                                                 b_following                                                 day_of_week                                                 hour_of_day                                                 a_b_creation_delta                                          a_creation_delta                                            b_creation_delta                                            a_b_follower_ratio                                          a_b_following_ratio                                         TE_reply_a_TopLevel_A                                       TE_reply_a_TopLevel_B                                       TE_reply_a_Retweet_A                                        TE_reply_a_Retweet_B                                        TE_reply_a_Quote_A                                          TE_reply_a_Quote_B                                          TE_reply_a_A                                                TE_reply_a_B                                                TE_reply_b_TopLevel_A                                       TE_reply_b_TopLevel_B                                       TE_reply_b_Retweet_A                                        TE_reply_b_Retweet_B                                        TE_reply_b_Quote_A                                          TE_reply_b_Quote_B                                          TE_reply_b_A                                                TE_reply_b_B                                                TE_like_a_TopLevel_A                                        TE_like_a_TopLevel_B                                        TE_like_a_Retweet_A                                         TE_like_a_Retweet_B                                         TE_like_a_Quote_A                                           TE_like_a_Quote_B                                           TE_like_a_A                                                 TE_like_a_B                                                 TE_like_b_TopLevel_A                                        TE_like_b_TopLevel_B                                        TE_like_b_Retweet_A                                         TE_like_b_Retweet_B                                         TE_like_b_Quote_A                                           TE_like_b_Quote_B                                           TE_like_b_A                                                 TE_like_b_B                                                 TE_retweet_a_TopLevel_A                                     TE_retweet_a_TopLevel_B                                     TE_retweet_a_Retweet_A                                      TE_retweet_a_Retweet_B                                      TE_retweet_a_Quote_A                                        TE_retweet_a_Quote_B                                        TE_retweet_a_A                                              TE_retweet_a_B                                              TE_retweet_b_TopLevel_A                                     TE_retweet_b_TopLevel_B                                     TE_retweet_b_Retweet_A                                      TE_retweet_b_Retweet_B                                      TE_retweet_b_Quote_A                                        TE_retweet_b_Quote_B                                        TE_retweet_b_A                                              TE_retweet_b_B                                              TE_retweet_comment_a_TopLevel_A                             TE_retweet_comment_a_TopLevel_B                             TE_retweet_comment_a_Retweet_A                              TE_retweet_comment_a_Retweet_B                              TE_retweet_comment_a_Quote_A                                TE_retweet_comment_a_Quote_B                                TE_retweet_comment_a_A                                      TE_retweet_comment_a_B                                      TE_retweet_comment_b_TopLevel_A                             TE_retweet_comment_b_TopLevel_B                             TE_retweet_comment_b_Retweet_A                              TE_retweet_comment_b_Retweet_B                              TE_retweet_comment_b_Quote_A                                TE_retweet_comment_b_Quote_B                                TE_retweet_comment_b_A                                      TE_retweet_comment_b_B                                      "
     ]
    }
   ],
   "source": [
    "for col in res[0].columns:\n",
    "    if col.startswith(\"n_\") or True:\n",
    "        print(f\"{col:60}\", end=\"\")"
   ]
  },
  {
   "cell_type": "code",
   "execution_count": 23,
   "metadata": {},
   "outputs": [],
   "source": []
  },
  {
   "cell_type": "code",
   "execution_count": null,
   "metadata": {},
   "outputs": [],
   "source": [
    "for key in res:\n",
    "    print(f\"{key:32}: {res[key]}\")"
   ]
  }
 ]
}