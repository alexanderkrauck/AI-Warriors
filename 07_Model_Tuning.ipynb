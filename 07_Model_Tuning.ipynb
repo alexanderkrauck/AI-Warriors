{
 "metadata": {
  "language_info": {
   "codemirror_mode": {
    "name": "ipython",
    "version": 3
   },
   "file_extension": ".py",
   "mimetype": "text/x-python",
   "name": "python",
   "nbconvert_exporter": "python",
   "pygments_lexer": "ipython3",
   "version": "3.9.5"
  },
  "orig_nbformat": 2,
  "kernelspec": {
   "name": "python3",
   "display_name": "Python 3.9.5 64-bit ('m1': conda)"
  },
  "metadata": {
   "interpreter": {
    "hash": "3b92691d56bfc9d5af752bc6654e963678e4150a6c1b95c958d07e2434145127"
   }
  },
  "interpreter": {
   "hash": "3b92691d56bfc9d5af752bc6654e963678e4150a6c1b95c958d07e2434145127"
  }
 },
 "nbformat": 4,
 "nbformat_minor": 2,
 "cells": [
  {
   "source": [
    "## Train the model"
   ],
   "cell_type": "markdown",
   "metadata": {}
  },
  {
   "cell_type": "code",
   "execution_count": 1,
   "metadata": {},
   "outputs": [],
   "source": [
    "from utils import dataloader\n",
    "import utils.model\n",
    "from datetime import datetime\n",
    "from os.path import join\n",
    "from importlib import reload\n",
    "\n",
    "method_name = \"26_normal_noise\"\n",
    "filter_timestamp = None#int(datetime(2021, 2, 19, 0).timestamp())\n",
    "use_user_index = join(\"indices\",\"user_index_w_type.parquet\")#\"train_user_index.parquet\"\n",
    "csv_data_location = join(\"data\",\"downloaded_data\")\n",
    "model_save_location = join(\"saved_models\",\"xgb_models_\"+method_name)\n",
    "result_logfile = join(\"logs\",\"3batches_results.txt\")"
   ]
  },
  {
   "cell_type": "code",
   "execution_count": 2,
   "metadata": {},
   "outputs": [
    {
     "output_type": "stream",
     "name": "stdout",
     "text": [
      "Loading User Index\n",
      "Randomly keeping only 98.0% of the users.\n",
      "Removing day counts\n",
      "Extracting combined user counts\n",
      "Created Dataloader in 62.04 seconds!\n"
     ]
    }
   ],
   "source": [
    "dl = dataloader.RecSys2021TSVDataLoader(\n",
    "    csv_data_location, \n",
    "    use_user_index, \n",
    "    mode=\"train\", \n",
    "    filter_timestamp=filter_timestamp, \n",
    "    verbose=2, \n",
    "    remove_day_counts=True, \n",
    "    keep_user_percent=0.98, \n",
    "    batch_size = 1500000,\n",
    "    load_n_batches = 1,\n",
    "    TE_smoothing = {\"reply\":50, \"like\":50, \"retweet\":50, \"retweet_comment\":50},\n",
    "    remove_user_counts=True,\n",
    "    add_normal_TE_noise_std= 0.1\n",
    "    )"
   ]
  },
  {
   "cell_type": "code",
   "execution_count": 3,
   "metadata": {},
   "outputs": [],
   "source": [
    "recsysxgb = utils.model.RecSysXGB1(model_dir = model_save_location)\n",
    "xgb_params = {'objective': 'binary:logistic', 'eval_metric':'logloss', 'max_depth':8, \"max_delta_step\":5}"
   ]
  },
  {
   "cell_type": "code",
   "execution_count": 4,
   "metadata": {},
   "outputs": [
    {
     "output_type": "stream",
     "name": "stdout",
     "text": [
      "Loaded Batch Nr. 1 in 11.54\n",
      "Timestamp Filtered Batch Nr. 1 in 0.00\n",
      "Did prepro part 1 of 1 in 0.37\n",
      "Did prepro part 2 of 1 in 19.89\n",
      "Did prepro part 3 of 1 in 0.09\n",
      "Merged Users of 1 in 29.89\n",
      "Extracted TE of 1 in 18.45\n",
      "Finished Batch Nr. 1 from file part-00000.tsv in 83.33s!\n",
      "Finished 1 epochs.\n",
      "CPU times: user 1h 49min 59s, sys: 1min 8s, total: 1h 51min 7s\n",
      "Wall time: 19min 2s\n"
     ]
    }
   ],
   "source": [
    "%%time\n",
    "recsysxgb.fit(\n",
    "    train_loader= dl,\n",
    "    xgb_parameters = xgb_params,\n",
    "    boost_rounds_per_iteration = 25,\n",
    "    verbose = 1,\n",
    "    n_epochs = 1\n",
    ")"
   ]
  },
  {
   "source": [
    "## Evaluate the model"
   ],
   "cell_type": "markdown",
   "metadata": {}
  },
  {
   "cell_type": "code",
   "execution_count": 5,
   "metadata": {},
   "outputs": [
    {
     "output_type": "stream",
     "name": "stdout",
     "text": [
      "Loading User Index\n",
      "Removing day counts\n",
      "Extracting combined user counts\n",
      "Created Dataloader in 17.37 seconds!\n"
     ]
    }
   ],
   "source": [
    "recsysxgb = utils.model.RecSysXGB1(model_save_location)\n",
    "val_data_location = join(\"data\",\"validation_data\")\n",
    "\n",
    "dl = dataloader.RecSys2021TSVDataLoader(\n",
    "    data_directory = val_data_location, \n",
    "    user_index_location = use_user_index,\n",
    "    mode=\"val\", \n",
    "    filter_timestamp=filter_timestamp, \n",
    "    verbose=2, \n",
    "    random_file_sampling=False, \n",
    "    load_n_batches=3, \n",
    "    remove_day_counts=True,\n",
    "    batch_size = 1000000,\n",
    "    keep_user_percent=1,\n",
    "    remove_user_counts=True\n",
    ")"
   ]
  },
  {
   "cell_type": "code",
   "execution_count": 6,
   "metadata": {},
   "outputs": [
    {
     "output_type": "stream",
     "name": "stdout",
     "text": [
      "Loaded Batch Nr. 1 in 9.60\n",
      "Timestamp Filtered Batch Nr. 1 in 0.00\n",
      "Did prepro part 1 of 1 in 0.24\n",
      "Did prepro part 2 of 1 in 12.95\n",
      "Did prepro part 3 of 1 in 0.06\n",
      "Merged Users of 1 in 26.75\n",
      "Extracted TE of 1 in 14.53\n",
      "Finished Batch Nr. 1 from file part-00000.csv in 66.29s!\n",
      "Loaded Batch Nr. 2 in 8.41\n",
      "Timestamp Filtered Batch Nr. 2 in 0.00\n",
      "Did prepro part 1 of 2 in 0.23\n",
      "Did prepro part 2 of 2 in 13.72\n",
      "Did prepro part 3 of 2 in 0.06\n",
      "Merged Users of 2 in 26.90\n",
      "Extracted TE of 2 in 14.60\n",
      "Finished Batch Nr. 2 from file part-00000.csv in 66.14s!\n",
      "Loaded Batch Nr. 3 in 9.92\n",
      "Timestamp Filtered Batch Nr. 3 in 0.00\n",
      "Did prepro part 1 of 3 in 0.23\n",
      "Did prepro part 2 of 3 in 12.86\n",
      "Did prepro part 3 of 3 in 0.06\n",
      "Merged Users of 3 in 26.11\n",
      "Extracted TE of 3 in 14.48\n",
      "Finished Batch Nr. 3 from file part-00000.csv in 65.87s!\n"
     ]
    }
   ],
   "source": [
    "res = recsysxgb.evaluate_validation_set(dl, store_results_file=result_logfile, validation_run_name=method_name)"
   ]
  },
  {
   "cell_type": "code",
   "execution_count": 7,
   "metadata": {},
   "outputs": [
    {
     "output_type": "stream",
     "name": "stdout",
     "text": [
      "Q1_reply_rce                    : 16.797255603849504\nQ1_retweet_rce                  : 17.84944501996282\nQ1_retweet_comment_rce          : 7.346209054571551\nQ1_like_rce                     : 8.10435535071986\nQ1_reply_avg_prec               : 0.15672771595875065\nQ1_retweet_avg_prec             : 0.34807501659488777\nQ1_retweet_comment_avg_prec     : 0.032727663041728305\nQ1_like_avg_prec                : 0.5737051328069082\nQ2_reply_rce                    : 17.642558663218622\nQ2_retweet_rce                  : 18.53405541099886\nQ2_retweet_comment_rce          : 7.16232480681489\nQ2_like_rce                     : 6.690560483830488\nQ2_reply_avg_prec               : 0.17692840174294674\nQ2_retweet_avg_prec             : 0.34011477720675376\nQ2_retweet_comment_avg_prec     : 0.03215066514415215\nQ2_like_avg_prec                : 0.5545472446376853\nQ3_reply_rce                    : 19.548606830474014\nQ3_retweet_rce                  : 19.669318098613886\nQ3_retweet_comment_rce          : 7.825250034320009\nQ3_like_rce                     : 8.34388923621251\nQ3_reply_avg_prec               : 0.20904162765935355\nQ3_retweet_avg_prec             : 0.3587550600877805\nQ3_retweet_comment_avg_prec     : 0.03340873773228904\nQ3_like_avg_prec                : 0.5680425170822975\nQ4_reply_rce                    : 17.15886657849117\nQ4_retweet_rce                  : 20.62755887070943\nQ4_retweet_comment_rce          : 7.881919404846127\nQ4_like_rce                     : 10.085994285664146\nQ4_reply_avg_prec               : 0.167527077236942\nQ4_retweet_avg_prec             : 0.36664910938337797\nQ4_retweet_comment_avg_prec     : 0.031577059697539954\nQ4_like_avg_prec                : 0.6013756694318192\nQ5_reply_rce                    : 10.903118533889112\nQ5_retweet_rce                  : 18.668134595257545\nQ5_retweet_comment_rce          : 8.48636236500403\nQ5_like_rce                     : 12.06585673090369\nQ5_reply_avg_prec               : 0.08940363922609221\nQ5_retweet_avg_prec             : 0.3049768063778523\nQ5_retweet_comment_avg_prec     : 0.029901030240612945\nQ5_like_avg_prec                : 0.6386427525977095\nTOTAL_reply_rce                 : 16.410081241984486\nTOTAL_retweet_rce               : 19.069702399108504\nTOTAL_retweet_comment_rce       : 7.74041313311132\nTOTAL_like_rce                  : 9.058131217466137\nTOTAL_reply_avg_prec            : 0.15992569236481705\nTOTAL_retweet_avg_prec          : 0.34371415393013044\nTOTAL_retweet_comment_avg_prec  : 0.03195303117126448\nTOTAL_like_avg_prec             : 0.587262663311284\n"
     ]
    }
   ],
   "source": [
    "for key in res:\n",
    "    print(f\"{key:32}: {res[key]}\")"
   ]
  },
  {
   "cell_type": "code",
   "execution_count": 8,
   "metadata": {
    "tags": []
   },
   "outputs": [
    {
     "output_type": "stream",
     "name": "stdout",
     "text": [
      "\n",
      "has_reply:\n",
      "{'a_follows_b': 816.8727754674998, 'type_encoding': 698.7584911069767, 'TE_reply_b_TopLevel_B': 79.17604270813766, 'TE_reply_b_B': 62.9810340630632, 'TE_reply_a_TopLevel_A': 47.11173821669586, 'photo_count': 44.71449772142858, 'language_encoding': 37.563772370786516, 'TE_reply_a_A': 33.0878790388255, 'a_follower_count': 32.53890980251586, 'TE_like_b_TopLevel_B': 28.264533574417275, 'TE_like_b_B': 26.166588066086533, 'a_following_count': 24.044217551615375, 'a_b_follower_ratio': 23.798618769, 'TE_like_b_A': 20.612591891060603, 'TE_like_a_A': 19.181902940800004, 'TE_retweet_b_B': 18.78931545011905, 'bert_token_len': 18.49117528077612, 'TE_like_b_TopLevel_A': 17.817566853570252, 'TE_like_a_TopLevel_A': 17.661627712989695, 'b_creation_delta': 16.310241203855565, 'TE_reply_b_Quote_B': 15.777532801475607, 'TE_reply_a_Quote_A': 15.586299199583337, 'TE_retweet_b_TopLevel_B': 15.349920673897959, 'a_creation_delta': 14.84359915544445, 'TE_retweet_a_TopLevel_A': 14.097147418023257, 'TE_like_b_Retweet_B': 13.988145763200004, 'a_b_following_ratio': 13.967363780810809, 'b_follower_count': 13.33256767921839, 'TE_like_a_Retweet_A': 12.942056335851351, 'TE_like_a_Quote_A': 12.150005846673468, 'TE_reply_a_B': 11.852775280392157, 'TE_reply_b_Retweet_A': 11.575885818387098, 'TE_reply_b_TopLevel_A': 11.156758717436619, 'TE_like_b_Retweet_A': 11.13459798410909, 'TE_retweet_comment_a_TopLevel_B': 11.032388782124997, 'TE_reply_b_Retweet_B': 10.834416535217395, 'TE_like_a_Quote_B': 10.770041659459457, 'TE_like_b_Quote_A': 10.638331967843136, 'TE_reply_b_A': 10.632482914842102, 'TE_reply_b_Quote_A': 10.55399395004762, 'a_b_creation_delta': 10.442436114078433, 'TE_retweet_comment_b_Retweet_A': 10.27641450817143, 'TE_retweet_a_Retweet_A': 10.230797332105265, 'TE_retweet_a_Retweet_B': 10.193505804285714, 'TE_retweet_a_A': 10.179776798320754, 'TE_reply_a_Quote_B': 10.12088596746154, 'TE_retweet_a_Quote_B': 10.034495797375001, 'TE_like_a_B': 10.030212605857145, 'TE_like_a_Retweet_B': 10.018685083580646, 'hour_of_day': 9.930210985312502, 'TE_retweet_comment_b_Retweet_B': 9.869182705833333, 'TE_like_a_TopLevel_B': 9.83985566123077, 'TE_retweet_b_TopLevel_A': 9.794747850571428, 'TE_reply_a_Retweet_B': 9.7936575542973, 'TE_retweet_comment_a_B': 9.761785768594596, 'TE_like_b_Quote_B': 9.699509541326085, 'b_following_count': 9.623631152452054, 'TE_retweet_comment_a_Quote_B': 9.538370662441178, 'TE_retweet_b_A': 9.496820815954544, 'TE_retweet_b_Retweet_B': 9.434573544391302, 'TE_reply_a_TopLevel_B': 9.425290285348837, 'TE_retweet_comment_a_Retweet_B': 9.211731136085714, 'TE_reply_a_Retweet_A': 9.140262785204822, 'TE_retweet_b_Retweet_A': 9.045158555102041, 'TE_retweet_a_TopLevel_B': 8.926886990044444, 'TE_retweet_comment_a_A': 8.9221258195, 'TE_retweet_comment_b_A': 8.899355026342104, 'TE_retweet_b_Quote_A': 8.689169845416664, 'TE_retweet_comment_b_Quote_B': 8.616447229942857, 'TE_retweet_a_B': 8.596483521153846, 'TE_retweet_comment_a_TopLevel_A': 8.558481044285715, 'TE_retweet_a_Quote_A': 8.436372635837838, 'TE_retweet_b_Quote_B': 8.393328409862745, 'TE_retweet_comment_b_TopLevel_A': 8.308367126743589, 'TE_retweet_comment_a_Quote_A': 8.28763316105, 'TE_retweet_comment_b_Quote_A': 8.210810885031249, 'TE_retweet_comment_b_TopLevel_B': 8.115779511514283, 'TE_retweet_comment_b_B': 8.090269228707317, 'day_of_week': 7.843851886666666, 'TE_retweet_comment_a_Retweet_A': 7.262693837743591}\n",
      "\n",
      "has_retweet:\n",
      "{'TE_retweet_b_B': 650.6883859868267, 'TE_retweet_a_A': 361.62987425690176, 'TE_retweet_b_TopLevel_B': 120.61049200179676, 'TE_retweet_a_Retweet_A': 116.6195223217103, 'TE_like_b_B': 107.34114864299467, 'type_encoding': 67.67757096369156, 'TE_like_b_A': 64.46579974507435, 'TE_like_b_TopLevel_B': 55.666789281560696, 'TE_like_a_A': 54.115674398493944, 'a_follows_b': 52.47831492647058, 'TE_retweet_b_Retweet_B': 50.4369211152985, 'TE_retweet_a_TopLevel_A': 48.33043029193801, 'photo_count': 47.325853143292676, 'language_encoding': 44.00863437494737, 'TE_like_a_Retweet_A': 42.249427618141034, 'a_follower_count': 40.01708989116668, 'bert_token_len': 38.8139826110588, 'a_is_verified': 36.19409544444445, 'a_b_follower_ratio': 35.85285601276609, 'TE_like_a_TopLevel_A': 34.278960443185575, 'video_count': 33.97661918357143, 'TE_like_a_Retweet_B': 33.42003053833127, 'TE_like_b_Retweet_A': 31.253729519000004, 'b_creation_delta': 29.849414223566445, 'TE_like_b_TopLevel_A': 29.804326674693883, 'a_b_following_ratio': 23.903240374590165, 'b_follower_count': 23.303582401391893, 'b_following_count': 23.11367145655737, 'TE_retweet_b_Quote_B': 23.04426501507635, 'TE_like_b_Retweet_B': 22.782483328275863, 'a_following_count': 21.535607684482756, 'TE_retweet_b_A': 19.159296521606556, 'TE_like_a_Quote_A': 19.051742270370372, 'TE_like_a_TopLevel_B': 17.514882992222223, 'TE_retweet_a_B': 17.248946263066667, 'a_creation_delta': 15.901164062600001, 'TE_like_a_B': 15.68807133614035, 'TE_retweet_b_TopLevel_A': 15.631252025894732, 'TE_reply_b_Retweet_B': 15.346423311739132, 'TE_retweet_a_Quote_A': 14.672380351206899, 'TE_reply_a_TopLevel_B': 14.245747405062502, 'TE_retweet_a_Retweet_B': 14.216272519565212, 'TE_like_b_Quote_B': 14.047798292432436, 'a_b_creation_delta': 13.973312981891894, 'TE_retweet_comment_b_Retweet_A': 13.072498922266668, 'TE_retweet_comment_a_TopLevel_B': 12.976428216269227, 'TE_retweet_b_Quote_A': 12.777524084285714, 'TE_reply_b_TopLevel_B': 12.761513631944442, 'TE_retweet_comment_a_Quote_B': 12.70882132322581, 'TE_like_b_Quote_A': 12.703161670688885, 'TE_retweet_comment_a_Quote_A': 12.62411128464516, 'TE_retweet_comment_a_Retweet_A': 12.55714398448276, 'TE_reply_b_B': 12.523565151081078, 'TE_retweet_comment_b_A': 12.2138046203125, 'TE_reply_a_Retweet_B': 11.983478667666665, 'TE_retweet_comment_b_Quote_B': 11.919824552121211, 'TE_retweet_comment_b_B': 11.888332328055558, 'TE_retweet_comment_b_TopLevel_B': 11.83673173086842, 'TE_retweet_b_Retweet_A': 11.724862374479171, 'TE_retweet_comment_b_Retweet_B': 11.40555701875, 'TE_reply_b_A': 11.349805845714286, 'TE_retweet_comment_a_TopLevel_A': 11.266093111578948, 'TE_reply_b_Retweet_A': 11.249346877241377, 'TE_retweet_comment_a_A': 11.225512809935484, 'TE_reply_a_B': 11.205182594, 'TE_reply_b_Quote_A': 11.17809530130435, 'TE_reply_a_A': 11.003026174099999, 'TE_retweet_comment_b_Quote_A': 10.910574656956522, 'TE_retweet_comment_b_TopLevel_A': 10.866018419189192, 'TE_reply_a_TopLevel_A': 10.82874183657895, 'TE_reply_a_Retweet_A': 10.827915055294117, 'hour_of_day': 10.7972027725, 'TE_reply_b_Quote_B': 10.706472939655173, 'TE_retweet_a_Quote_B': 10.706270460000002, 'TE_retweet_a_TopLevel_B': 10.505760414621623, 'TE_reply_b_TopLevel_A': 10.244780405624999, 'day_of_week': 10.070056910000002, 'TE_reply_a_Quote_A': 9.884643556799999, 'TE_reply_a_Quote_B': 9.661062813999997, 'TE_retweet_comment_a_B': 9.314529124733331, 'TE_retweet_comment_a_Retweet_B': 9.214173626666662, 'TE_like_a_Quote_B': 8.483268334166668}\n",
      "\n",
      "has_retweet_comment:\n",
      "{'TE_retweet_comment_b_TopLevel_B': 20.351803106634364, 'language_encoding': 20.318222504929583, 'TE_like_b_B': 20.006467239213592, 'type_encoding': 18.8680695131579, 'TE_like_b_TopLevel_B': 18.56602095507318, 'TE_retweet_comment_b_B': 18.284196802075584, 'a_follows_b': 18.19303927653846, 'TE_retweet_a_A': 16.357482653493673, 'TE_retweet_b_B': 16.056779284210528, 'photo_count': 15.718589314958335, 'TE_retweet_b_TopLevel_B': 15.0409569622, 'b_follower_count': 14.235716530833338, 'video_count': 13.193884089166666, 'TE_retweet_a_TopLevel_A': 12.364748795819672, 'b_creation_delta': 11.954984356953123, 'TE_retweet_comment_b_Retweet_B': 11.657261783985918, 'TE_like_a_TopLevel_A': 11.311312807441857, 'bert_token_len': 11.233133551836735, 'TE_retweet_b_Retweet_B': 11.222952797344824, 'TE_like_b_A': 11.147813102863635, 'a_is_verified': 11.14728545, 'TE_like_a_A': 10.713699513084338, 'TE_retweet_comment_a_A': 10.505885517011764, 'TE_like_a_TopLevel_B': 10.395614661559998, 'TE_like_b_TopLevel_A': 10.204160915265625, 'TE_like_a_Quote_B': 10.195054127716672, 'TE_like_b_Quote_A': 9.976524937759258, 'TE_retweet_a_Retweet_A': 9.949179082618183, 'b_following_count': 9.94445884848485, 'TE_retweet_b_TopLevel_A': 9.943539448000001, 'TE_like_b_Retweet_B': 9.92477618286111, 'a_b_following_ratio': 9.921475516172414, 'TE_reply_b_TopLevel_B': 9.797076966263889, 'TE_like_b_Retweet_A': 9.697220935625001, 'TE_like_a_Retweet_A': 9.66240639896429, 'TE_retweet_a_Quote_A': 9.57647254935484, 'TE_retweet_comment_b_TopLevel_A': 9.514976773421054, 'TE_reply_a_Quote_B': 9.51013865436957, 'a_following_count': 9.509499122619046, 'a_b_follower_ratio': 9.44669373849091, 'TE_like_a_B': 9.364976536785715, 'a_follower_count': 9.1689133572, 'TE_reply_a_Retweet_B': 8.99861107847826, 'TE_retweet_a_Retweet_B': 8.965356587592591, 'TE_retweet_comment_b_Retweet_A': 8.961358688636363, 'TE_retweet_comment_b_Quote_B': 8.922549806061538, 'TE_retweet_comment_a_TopLevel_A': 8.826305758647887, 'TE_reply_b_Quote_A': 8.770435972733335, 'TE_retweet_comment_a_Quote_A': 8.70799192815, 'TE_like_b_Quote_B': 8.694127992454545, 'TE_reply_b_A': 8.607250100780002, 'TE_retweet_a_Quote_B': 8.588750902040815, 'TE_retweet_b_Quote_A': 8.577074207823529, 'TE_retweet_comment_a_Quote_B': 8.553106711666667, 'TE_retweet_comment_a_Retweet_A': 8.53102105730769, 'TE_reply_b_Retweet_A': 8.524988119414633, 'TE_reply_a_B': 8.484930281392156, 'TE_reply_a_Quote_A': 8.460852737073171, 'TE_like_a_Retweet_B': 8.404392694317073, 'TE_reply_b_B': 8.389923897125001, 'TE_retweet_comment_b_A': 8.38802228162222, 'hour_of_day': 8.281588322631578, 'TE_reply_b_Retweet_B': 8.114351595277776, 'TE_retweet_a_TopLevel_B': 8.052335723062502, 'TE_retweet_b_Retweet_A': 8.019810027894737, 'TE_retweet_comment_b_Quote_A': 7.924651791487181, 'TE_reply_b_TopLevel_A': 7.874549133076924, 'a_creation_delta': 7.845510485681819, 'a_b_creation_delta': 7.8194296185238095, 'TE_retweet_b_A': 7.806617644219997, 'TE_retweet_a_B': 7.688410240772726, 'TE_reply_a_A': 7.6773716885333325, 'TE_like_a_Quote_A': 7.6421146691166655, 'TE_retweet_comment_a_B': 7.561919336428571, 'TE_reply_a_TopLevel_A': 7.522538981970149, 'TE_retweet_comment_a_TopLevel_B': 7.498368750806454, 'TE_retweet_b_Quote_B': 7.404810334, 'TE_reply_a_Retweet_A': 7.388729101829268, 'TE_retweet_comment_a_Retweet_B': 7.307398229114285, 'TE_reply_a_TopLevel_B': 6.742083901787234, 'day_of_week': 6.404593440375, 'b_is_verified': 6.065933225833334, 'TE_reply_b_Quote_B': 5.850412842727273}\n",
      "\n",
      "has_like:\n",
      "{'TE_like_a_A': 2391.5998640209323, 'type_encoding': 891.8916455079484, 'TE_like_a_TopLevel_A': 484.3008504210527, 'TE_like_a_Retweet_A': 256.54529889843377, 'a_follows_b': 144.69244077659576, 'photo_count': 144.5468461817526, 'a_follower_count': 125.60272796597937, 'TE_retweet_b_B': 109.36172197055203, 'TE_retweet_comment_a_Retweet_A': 97.50313883137929, 'TE_like_a_Quote_A': 91.69991850583817, 'TE_retweet_a_Retweet_A': 91.50331174669698, 'TE_like_b_Retweet_B': 85.17678209454546, 'TE_reply_b_TopLevel_A': 81.82145248016002, 'b_creation_delta': 80.6905337647698, 'TE_like_b_TopLevel_B': 79.46636854445848, 'TE_like_b_B': 74.22876073031047, 'TE_retweet_b_Retweet_B': 71.35268044759538, 'bert_token_len': 70.48290003351721, 'TE_like_b_A': 70.32336305857143, 'a_is_verified': 68.72035149583334, 'TE_like_a_B': 67.1198253434149, 'TE_like_b_Retweet_A': 58.886714825000006, 'TE_reply_b_B': 54.46668157284089, 'TE_retweet_b_TopLevel_B': 52.17315945605263, 'TE_reply_b_TopLevel_B': 49.37528736555556, 'language_encoding': 47.68400312819736, 'TE_reply_b_A': 46.57030089461538, 'TE_like_b_Quote_A': 46.56505155282053, 'TE_like_a_Retweet_B': 44.95874649713223, 'b_following_count': 44.09954315370627, 'b_follower_count': 43.394912092380935, 'TE_retweet_a_TopLevel_A': 36.61424196513514, 'TE_retweet_a_A': 34.6653480681081, 'a_b_follower_ratio': 34.42780490139535, 'a_creation_delta': 32.99508082517645, 'video_count': 32.59292687333333, 'a_b_following_ratio': 32.44135200494119, 'a_following_count': 28.076824585487817, 'TE_like_b_Quote_B': 27.912996348077332, 'TE_like_a_TopLevel_B': 26.7859287211096, 'TE_retweet_b_Quote_B': 25.619867073692312, 'TE_like_b_TopLevel_A': 25.607729695499994, 'TE_retweet_comment_a_TopLevel_A': 23.00439128178, 'TE_retweet_comment_b_TopLevel_A': 21.855709234838713, 'hour_of_day': 21.62160890173913, 'TE_retweet_a_Retweet_B': 20.22059519914894, 'TE_retweet_a_B': 18.689219204444445, 'TE_reply_b_Quote_B': 18.227896185172415, 'TE_retweet_comment_b_Retweet_A': 16.0549706369697, 'TE_retweet_b_A': 12.950158090270273, 'TE_retweet_b_TopLevel_A': 12.942369837250002, 'TE_reply_a_Quote_A': 12.916139936071428, 'TE_retweet_comment_a_Quote_A': 12.395638959130432, 'TE_retweet_comment_b_B': 12.385367799099996, 'TE_reply_a_TopLevel_B': 12.3454378924, 'a_b_creation_delta': 12.208927340277778, 'TE_like_a_Quote_B': 12.145385753235297, 'TE_reply_a_TopLevel_A': 12.014690623488372, 'TE_retweet_comment_a_TopLevel_B': 11.053319167624998, 'TE_retweet_a_TopLevel_B': 11.042129752173912, 'TE_reply_b_Retweet_A': 11.008286515, 'TE_reply_a_B': 10.975741359411765, 'TE_retweet_comment_b_A': 10.963154804375, 'TE_reply_a_Quote_B': 10.812105576086958, 'TE_retweet_comment_a_Quote_B': 10.673072127586208, 'TE_retweet_a_Quote_A': 10.6561172810635, 'TE_retweet_comment_a_B': 10.331310608433334, 'TE_retweet_comment_b_Retweet_B': 10.291540337586206, 'TE_retweet_b_Retweet_A': 10.281183653666663, 'TE_retweet_comment_a_A': 10.252448460588234, 'TE_retweet_comment_b_Quote_A': 10.245547972181816, 'TE_reply_a_Retweet_B': 10.235814051000002, 'TE_retweet_a_Quote_B': 10.108483008148148, 'TE_retweet_b_Quote_A': 10.028362878777775, 'TE_retweet_comment_b_Quote_B': 9.769450054954547, 'TE_reply_b_Retweet_B': 9.743334406454549, 'TE_reply_a_Retweet_A': 9.67843910539405, 'TE_reply_b_Quote_A': 9.625957243428568, 'TE_retweet_comment_b_TopLevel_B': 9.444756262, 'day_of_week': 9.2959513, 'TE_retweet_comment_a_Retweet_B': 9.219951384285716, 'TE_reply_a_A': 8.953450805131581, 'gif_count': 5.40517807}\n"
     ]
    }
   ],
   "source": [
    "for target in recsysxgb.targets__:\n",
    "    print(f\"\\n{target}:\")\n",
    "    print(dict(sorted(recsysxgb.clfs_[target].get_score(importance_type='gain').items(), key=lambda item: item[1], reverse=True)))"
   ]
  },
  {
   "source": [
    "## Try sample test run"
   ],
   "cell_type": "markdown",
   "metadata": {}
  },
  {
   "cell_type": "code",
   "execution_count": 22,
   "metadata": {},
   "outputs": [
    {
     "output_type": "stream",
     "name": "stdout",
     "text": [
      "Loaded Batch Nr. 1 in 20.16\n",
      "Timestamp Filtered Batch Nr. 1 in 0.41\n",
      "Did prepro part 1 of 1 in 0.27\n",
      "Did prepro part 2 of 1 in 10.67\n",
      "Did prepro part 3 of 1 in 0.05\n",
      "Merged Users of 1 in 23.01\n",
      "Extracted TE of 1 in 13.02\n",
      "Finished Batch Nr. 1 from file part-00073.tsv in 70.12s!\n"
     ]
    }
   ],
   "source": [
    "out = next(iter(dl))"
   ]
  },
  {
   "cell_type": "code",
   "execution_count": 26,
   "metadata": {},
   "outputs": [],
   "source": [
    "pred = recsysxgb.infer(out[0])"
   ]
  },
  {
   "cell_type": "code",
   "execution_count": 37,
   "metadata": {},
   "outputs": [
    {
     "output_type": "execute_result",
     "data": {
      "text/plain": [
       "5.9604645e-08"
      ]
     },
     "metadata": {},
     "execution_count": 37
    }
   ],
   "source": [
    "(((pred[3]-0.5)*0.9999999)+0.5).min()"
   ]
  },
  {
   "source": [
    "## Testing Custom batch sizes"
   ],
   "cell_type": "markdown",
   "metadata": {}
  },
  {
   "cell_type": "code",
   "execution_count": 1,
   "metadata": {},
   "outputs": [],
   "source": [
    "from utils import dataloader\n",
    "from utils import dataloader\n",
    "import utils.model\n",
    "from datetime import datetime\n",
    "from os.path import join\n",
    "\n",
    "filter_timestamp = None#int(datetime(2021, 2, 19, 0).timestamp())\n",
    "use_user_index = join(\"indices\",\"user_index.parquet\")#\"train_user_index.parquet\"\n",
    "csv_data_location = join(\"data\",\"test_files\")\n",
    "model_save_location = join(\"saved_models\",\"xgb_models_06_submission\")"
   ]
  },
  {
   "cell_type": "code",
   "execution_count": 2,
   "metadata": {},
   "outputs": [],
   "source": [
    "dl = dataloader.RecSys2021TSVDataLoader(csv_data_location, use_user_index, mode=\"test\", filter_timestamp=filter_timestamp, load_n_batches=-1, batch_size=1000000, verbose=2, random_file_sampling=True)"
   ]
  },
  {
   "cell_type": "code",
   "execution_count": 3,
   "metadata": {},
   "outputs": [
    {
     "output_type": "stream",
     "name": "stdout",
     "text": [
      "just one\n",
      "1000000\n",
      "Loaded Batch Nr. 1 in 6.10\n",
      "Timestamp Filtered Batch Nr. 1 in 0.00\n",
      "Did prepro part 1 of 1 in 0.20\n",
      "Did prepro part 2 of 1 in 11.80\n",
      "Did prepro part 3 of 1 in 0.05\n",
      "Merged Users of 1 in 21.76\n",
      "Extracted TE of 1 in 3.21\n",
      "Finished Batch Nr. 1 from file part-00003.csv in 45.47s!\n",
      "just one\n",
      "1000000\n",
      "Loaded Batch Nr. 2 in 7.32\n",
      "Timestamp Filtered Batch Nr. 2 in 0.00\n",
      "Did prepro part 1 of 2 in 0.20\n",
      "Did prepro part 2 of 2 in 11.87\n",
      "Did prepro part 3 of 2 in 0.05\n",
      "Merged Users of 2 in 22.05\n",
      "Extracted TE of 2 in 3.20\n",
      "Finished Batch Nr. 2 from file part-00003.csv in 47.02s!\n",
      "just one\n",
      "1000000\n",
      "Loaded Batch Nr. 3 in 8.79\n",
      "Timestamp Filtered Batch Nr. 3 in 0.00\n",
      "Did prepro part 1 of 3 in 0.20\n",
      "Did prepro part 2 of 3 in 11.85\n",
      "Did prepro part 3 of 3 in 0.05\n",
      "Merged Users of 3 in 22.73\n",
      "Extracted TE of 3 in 3.20\n",
      "Finished Batch Nr. 3 from file part-00003.csv in 49.16s!\n",
      "more than one 1000000\n",
      "1000000\n",
      "Loaded Batch Nr. 4 in 12.99\n",
      "Timestamp Filtered Batch Nr. 4 in 0.00\n",
      "Did prepro part 1 of 4 in 0.20\n",
      "Did prepro part 2 of 4 in 11.84\n",
      "Did prepro part 3 of 4 in 0.05\n",
      "Merged Users of 4 in 20.62\n",
      "Extracted TE of 4 in 3.22\n",
      "Finished Batch Nr. 4 from file part-00002.csv in 51.52s!\n",
      "just one\n",
      "1000000\n",
      "Loaded Batch Nr. 5 in 9.31\n",
      "Timestamp Filtered Batch Nr. 5 in 0.00\n",
      "Did prepro part 1 of 5 in 0.20\n",
      "Did prepro part 2 of 5 in 11.78\n",
      "Did prepro part 3 of 5 in 0.05\n",
      "Merged Users of 5 in 21.59\n",
      "Extracted TE of 5 in 3.18\n",
      "Finished Batch Nr. 5 from file part-00002.csv in 48.45s!\n",
      "just one\n",
      "1000000\n",
      "Loaded Batch Nr. 6 in 10.75\n",
      "Timestamp Filtered Batch Nr. 6 in 0.00\n",
      "Did prepro part 1 of 6 in 0.20\n",
      "Did prepro part 2 of 6 in 11.86\n",
      "Did prepro part 3 of 6 in 0.05\n",
      "Merged Users of 6 in 21.92\n",
      "Extracted TE of 6 in 3.19\n",
      "Finished Batch Nr. 6 from file part-00002.csv in 50.29s!\n",
      "just one\n",
      "21788\n",
      "Loaded Batch Nr. 7 in 5.44\n",
      "Timestamp Filtered Batch Nr. 7 in 0.00\n",
      "Did prepro part 1 of 7 in 0.01\n",
      "Did prepro part 2 of 7 in 0.26\n",
      "Did prepro part 3 of 7 in 0.00\n",
      "Merged Users of 7 in 20.21\n",
      "Extracted TE of 7 in 3.00\n",
      "Finished Batch Nr. 7 from file part-00002.csv in 29.01s!\n"
     ]
    }
   ],
   "source": [
    "r = [a[1] for a in dl]"
   ]
  },
  {
   "cell_type": "code",
   "execution_count": 4,
   "metadata": {},
   "outputs": [
    {
     "output_type": "stream",
     "name": "stdout",
     "text": [
      "1000000\n1000000\n1000000\n1000000\n1000000\n1000000\n21788\n"
     ]
    }
   ],
   "source": [
    "for df in r:\n",
    "    print(len(df))"
   ]
  },
  {
   "cell_type": "code",
   "execution_count": 17,
   "metadata": {},
   "outputs": [],
   "source": [
    "import utils.features as fe\n",
    "import utils.constants as co\n",
    "import pandas as pd\n",
    "import numpy as np"
   ]
  },
  {
   "cell_type": "code",
   "execution_count": 12,
   "metadata": {},
   "outputs": [],
   "source": [
    "current_file = pd.read_csv(\n",
    "                \"data/test_files/part-00002.csv\",\n",
    "                sep='\\x01',\n",
    "                header=None,\n",
    "                names=co.all_features,\n",
    "                dtype={k: v for k, v in co.dtypes_of_features.items() if k in co.all_features}\n",
    "            )"
   ]
  },
  {
   "cell_type": "code",
   "execution_count": 14,
   "metadata": {},
   "outputs": [],
   "source": [
    "current_file[\"medias\"] = current_file[\"medias\"].fillna(\"\")\n",
    "current_file[\"hashtags\"] = current_file[\"hashtags\"].fillna(\"\")\n",
    "current_file[\"links\"] = current_file[\"links\"].fillna(\"\")\n",
    "current_file[\"domains\"] = current_file[\"domains\"].fillna(\"\")\n",
    "current_file[\"medias\"] = current_file[\"medias\"].fillna(\"\")"
   ]
  },
  {
   "cell_type": "code",
   "execution_count": 27,
   "metadata": {},
   "outputs": [
    {
     "output_type": "execute_result",
     "data": {
      "text/plain": [
       "{-0.9502129554748535, 1.0, 2.0, 3.0, 4.000000476837158, 5.0, 7.0}"
      ]
     },
     "metadata": {},
     "execution_count": 27
    }
   ],
   "source": [
    "import numpy as np\n",
    "set(np.exp(train_data[\"n_gifs\"]+ train_data[\"n_photos\"] +train_data[\"n_videos\"])-1)"
   ]
  },
  {
   "source": [
    "# Other"
   ],
   "cell_type": "markdown",
   "metadata": {}
  },
  {
   "cell_type": "code",
   "execution_count": 3,
   "metadata": {},
   "outputs": [],
   "source": [
    "from utils import dataloader\n",
    "import utils.model\n",
    "from datetime import datetime\n",
    "from os.path import join\n",
    "from importlib import reload\n",
    "import torch\n",
    "\n",
    "filter_timestamp = int(datetime(2021, 2, 19, 0).timestamp())\n",
    "use_user_index = join(\"indices\",\"train_user_index_w_type.parquet\")#\"train_user_index.parquet\"\n",
    "csv_data_location = join(\"data\",\"downloaded_data\")\n",
    "model_save_location = join(\"saved_models\",\"xgb_models_15_better_index\")"
   ]
  },
  {
   "cell_type": "code",
   "execution_count": 2,
   "metadata": {},
   "outputs": [
    {
     "output_type": "stream",
     "name": "stdout",
     "text": [
      "Loading User Index\n",
      "Randomly keeping only 50.0% of the users.\n",
      "Removing day counts\n",
      "Extracting combined user counts\n",
      "Created Dataloader in 21.99 seconds!\n"
     ]
    }
   ],
   "source": [
    "dl = dataloader.RecSys2021TSVDataLoader(\n",
    "    csv_data_location, \n",
    "    use_user_index, \n",
    "    mode=\"train\", \n",
    "    filter_timestamp=filter_timestamp, \n",
    "    verbose=2, \n",
    "    remove_day_counts=True, \n",
    "    keep_user_percent=0.5, \n",
    "    batch_size = 100000,\n",
    "    minibatches_size = 64,\n",
    "    load_n_batches = 20,\n",
    "    normalize_batch = True\n",
    "    )"
   ]
  },
  {
   "cell_type": "code",
   "execution_count": 3,
   "metadata": {},
   "outputs": [],
   "source": [
    "nn = utils.model.RecSysNeural1(\"saved_models/nn1\",166).to(\"cuda\")"
   ]
  },
  {
   "cell_type": "code",
   "execution_count": 4,
   "metadata": {},
   "outputs": [
    {
     "output_type": "stream",
     "name": "stdout",
     "text": [
      "Loaded Batch Nr. 1 in 0.53\n",
      "Timestamp Filtered Batch Nr. 1 in 0.02\n",
      "Did prepro part 1 of 1 in 0.02\n",
      "Did prepro part 2 of 1 in 0.88\n",
      "Did prepro part 3 of 1 in 0.01\n",
      "Merged Users of 1 in 8.78\n",
      "Extracted TE of 1 in 5.36\n",
      "Finished Batch Nr. 1 from file part-00000.tsv in 15.86s!\n",
      "Loaded Batch Nr. 2 in 0.61\n",
      "Timestamp Filtered Batch Nr. 2 in 0.02\n",
      "Did prepro part 1 of 2 in 0.02\n",
      "Did prepro part 2 of 2 in 0.88\n",
      "Did prepro part 3 of 2 in 0.01\n",
      "Merged Users of 2 in 8.81\n",
      "Extracted TE of 2 in 5.29\n",
      "Finished Batch Nr. 2 from file part-00000.tsv in 15.91s!\n",
      "Loaded Batch Nr. 3 in 1.41\n",
      "Timestamp Filtered Batch Nr. 3 in 0.02\n",
      "Did prepro part 1 of 3 in 0.02\n",
      "Did prepro part 2 of 3 in 0.86\n",
      "Did prepro part 3 of 3 in 0.00\n",
      "Merged Users of 3 in 8.80\n",
      "Extracted TE of 3 in 5.32\n",
      "Finished Batch Nr. 3 from file part-00000.tsv in 16.70s!\n",
      "Loaded Batch Nr. 4 in 1.51\n",
      "Timestamp Filtered Batch Nr. 4 in 0.02\n",
      "Did prepro part 1 of 4 in 0.02\n",
      "Did prepro part 2 of 4 in 0.87\n",
      "Did prepro part 3 of 4 in 0.01\n",
      "Merged Users of 4 in 8.77\n",
      "Extracted TE of 4 in 5.38\n",
      "Finished Batch Nr. 4 from file part-00000.tsv in 16.85s!\n",
      "Loaded Batch Nr. 5 in 1.58\n",
      "Timestamp Filtered Batch Nr. 5 in 0.02\n",
      "Did prepro part 1 of 5 in 0.02\n",
      "Did prepro part 2 of 5 in 0.86\n",
      "Did prepro part 3 of 5 in 0.01\n",
      "Merged Users of 5 in 8.73\n",
      "Extracted TE of 5 in 5.30\n",
      "Finished Batch Nr. 5 from file part-00000.tsv in 16.79s!\n",
      "Loaded Batch Nr. 6 in 1.71\n",
      "Timestamp Filtered Batch Nr. 6 in 0.02\n",
      "Did prepro part 1 of 6 in 0.02\n",
      "Did prepro part 2 of 6 in 0.87\n",
      "Did prepro part 3 of 6 in 0.01\n",
      "Merged Users of 6 in 8.79\n",
      "Extracted TE of 6 in 5.32\n",
      "Finished Batch Nr. 6 from file part-00000.tsv in 17.00s!\n",
      "Loaded Batch Nr. 7 in 1.78\n",
      "Timestamp Filtered Batch Nr. 7 in 0.02\n",
      "Did prepro part 1 of 7 in 0.02\n",
      "Did prepro part 2 of 7 in 0.87\n",
      "Did prepro part 3 of 7 in 0.01\n",
      "Merged Users of 7 in 8.82\n",
      "Extracted TE of 7 in 5.35\n",
      "Finished Batch Nr. 7 from file part-00000.tsv in 17.15s!\n",
      "Loaded Batch Nr. 8 in 1.88\n",
      "Timestamp Filtered Batch Nr. 8 in 0.02\n",
      "Did prepro part 1 of 8 in 0.02\n",
      "Did prepro part 2 of 8 in 0.86\n",
      "Did prepro part 3 of 8 in 0.01\n",
      "Merged Users of 8 in 8.76\n",
      "Extracted TE of 8 in 5.33\n",
      "Finished Batch Nr. 8 from file part-00000.tsv in 17.14s!\n",
      "Loaded Batch Nr. 9 in 1.92\n",
      "Timestamp Filtered Batch Nr. 9 in 0.02\n",
      "Did prepro part 1 of 9 in 0.02\n",
      "Did prepro part 2 of 9 in 0.87\n",
      "Did prepro part 3 of 9 in 0.01\n",
      "Merged Users of 9 in 8.84\n",
      "Extracted TE of 9 in 5.29\n",
      "Finished Batch Nr. 9 from file part-00000.tsv in 17.23s!\n",
      "Loaded Batch Nr. 10 in 2.10\n",
      "Timestamp Filtered Batch Nr. 10 in 0.02\n",
      "Did prepro part 1 of 10 in 0.02\n",
      "Did prepro part 2 of 10 in 0.88\n",
      "Did prepro part 3 of 10 in 0.01\n",
      "Merged Users of 10 in 8.81\n",
      "Extracted TE of 10 in 5.33\n",
      "Finished Batch Nr. 10 from file part-00000.tsv in 17.42s!\n",
      "Loaded Batch Nr. 11 in 2.09\n",
      "Timestamp Filtered Batch Nr. 11 in 0.02\n",
      "Did prepro part 1 of 11 in 0.02\n",
      "Did prepro part 2 of 11 in 0.86\n",
      "Did prepro part 3 of 11 in 0.01\n",
      "Merged Users of 11 in 8.81\n",
      "Extracted TE of 11 in 5.30\n",
      "Finished Batch Nr. 11 from file part-00000.tsv in 17.38s!\n",
      "Loaded Batch Nr. 12 in 2.21\n",
      "Timestamp Filtered Batch Nr. 12 in 0.02\n",
      "Did prepro part 1 of 12 in 0.02\n",
      "Did prepro part 2 of 12 in 0.88\n",
      "Did prepro part 3 of 12 in 0.01\n",
      "Merged Users of 12 in 8.76\n",
      "Extracted TE of 12 in 5.34\n",
      "Finished Batch Nr. 12 from file part-00000.tsv in 17.50s!\n",
      "Loaded Batch Nr. 13 in 2.31\n",
      "Timestamp Filtered Batch Nr. 13 in 0.02\n",
      "Did prepro part 1 of 13 in 0.02\n",
      "Did prepro part 2 of 13 in 0.87\n",
      "Did prepro part 3 of 13 in 0.01\n",
      "Merged Users of 13 in 8.71\n",
      "Extracted TE of 13 in 5.30\n",
      "Finished Batch Nr. 13 from file part-00000.tsv in 17.50s!\n",
      "Loaded Batch Nr. 14 in 2.40\n",
      "Timestamp Filtered Batch Nr. 14 in 0.02\n",
      "Did prepro part 1 of 14 in 0.02\n",
      "Did prepro part 2 of 14 in 0.88\n",
      "Did prepro part 3 of 14 in 0.01\n",
      "Merged Users of 14 in 8.77\n",
      "Extracted TE of 14 in 5.29\n",
      "Finished Batch Nr. 14 from file part-00000.tsv in 17.66s!\n",
      "Loaded Batch Nr. 15 in 2.51\n",
      "Timestamp Filtered Batch Nr. 15 in 0.02\n",
      "Did prepro part 1 of 15 in 0.02\n",
      "Did prepro part 2 of 15 in 0.88\n",
      "Did prepro part 3 of 15 in 0.01\n",
      "Merged Users of 15 in 8.82\n",
      "Extracted TE of 15 in 5.35\n",
      "Finished Batch Nr. 15 from file part-00000.tsv in 17.87s!\n",
      "Loaded Batch Nr. 16 in 2.69\n",
      "Timestamp Filtered Batch Nr. 16 in 0.02\n",
      "Did prepro part 1 of 16 in 0.02\n",
      "Did prepro part 2 of 16 in 0.87\n",
      "Did prepro part 3 of 16 in 0.01\n",
      "Merged Users of 16 in 8.79\n",
      "Extracted TE of 16 in 5.34\n",
      "Finished Batch Nr. 16 from file part-00000.tsv in 18.01s!\n",
      "Loaded Batch Nr. 17 in 2.68\n",
      "Timestamp Filtered Batch Nr. 17 in 0.02\n",
      "Did prepro part 1 of 17 in 0.02\n",
      "Did prepro part 2 of 17 in 0.86\n",
      "Did prepro part 3 of 17 in 0.00\n",
      "Merged Users of 17 in 8.78\n",
      "Extracted TE of 17 in 5.30\n",
      "Finished Batch Nr. 17 from file part-00000.tsv in 17.92s!\n",
      "Loaded Batch Nr. 18 in 2.73\n",
      "Timestamp Filtered Batch Nr. 18 in 0.02\n",
      "Did prepro part 1 of 18 in 0.02\n",
      "Did prepro part 2 of 18 in 0.88\n",
      "Did prepro part 3 of 18 in 0.00\n",
      "Merged Users of 18 in 8.73\n",
      "Extracted TE of 18 in 5.30\n",
      "Finished Batch Nr. 18 from file part-00000.tsv in 17.96s!\n",
      "Loaded Batch Nr. 19 in 2.83\n",
      "Timestamp Filtered Batch Nr. 19 in 0.02\n",
      "Did prepro part 1 of 19 in 0.02\n",
      "Did prepro part 2 of 19 in 0.86\n",
      "Did prepro part 3 of 19 in 0.01\n",
      "Merged Users of 19 in 8.69\n",
      "Extracted TE of 19 in 5.29\n",
      "Finished Batch Nr. 19 from file part-00000.tsv in 17.99s!\n",
      "Loaded Batch Nr. 20 in 3.06\n",
      "Timestamp Filtered Batch Nr. 20 in 0.02\n",
      "Did prepro part 1 of 20 in 0.02\n",
      "Did prepro part 2 of 20 in 0.88\n",
      "Did prepro part 3 of 20 in 0.00\n",
      "Merged Users of 20 in 8.81\n",
      "Extracted TE of 20 in 5.28\n",
      "Finished Batch Nr. 20 from file part-00000.tsv in 18.33s!\n"
     ]
    }
   ],
   "source": [
    "nn.fit(dl, 1)"
   ]
  },
  {
   "cell_type": "code",
   "execution_count": 5,
   "metadata": {},
   "outputs": [
    {
     "output_type": "stream",
     "name": "stdout",
     "text": [
      "Loading User Index\n",
      "Removing day counts\n",
      "Extracting combined user counts\n",
      "Created Dataloader in 9.23 seconds!\n",
      "Loaded Batch Nr. 1 in 0.50\n",
      "Timestamp Filtered Batch Nr. 1 in 0.01\n",
      "Did prepro part 1 of 1 in 0.01\n",
      "Did prepro part 2 of 1 in 0.35\n",
      "Did prepro part 3 of 1 in 0.00\n",
      "Merged Users of 1 in 20.75\n",
      "Extracted TE of 1 in 10.51\n",
      "Finished Batch Nr. 1 from file part-00000.tsv in 32.27s!\n",
      "Loaded Batch Nr. 2 in 0.60\n",
      "Timestamp Filtered Batch Nr. 2 in 0.01\n",
      "Did prepro part 1 of 2 in 0.01\n",
      "Did prepro part 2 of 2 in 0.36\n",
      "Did prepro part 3 of 2 in 0.00\n",
      "Merged Users of 2 in 19.24\n",
      "Extracted TE of 2 in 10.39\n",
      "Finished Batch Nr. 2 from file part-00000.tsv in 30.75s!\n"
     ]
    },
    {
     "output_type": "execute_result",
     "data": {
      "text/plain": [
       "{'Q1_reply_rce': -55.06375529232655,\n",
       " 'Q1_retweet_rce': 2.022846040964088,\n",
       " 'Q1_retweet_comment_rce': -1779.8738613419546,\n",
       " 'Q1_like_rce': -33.556324489285075,\n",
       " 'Q1_reply_avg_prec': 0.15847665901759944,\n",
       " 'Q1_retweet_avg_prec': 0.3183992278567487,\n",
       " 'Q1_retweet_comment_avg_prec': 0.012456490593981896,\n",
       " 'Q1_like_avg_prec': 0.6371322559900724,\n",
       " 'Q2_reply_rce': -69.87847181000113,\n",
       " 'Q2_retweet_rce': 6.4290856674497965,\n",
       " 'Q2_retweet_comment_rce': -1713.128849104653,\n",
       " 'Q2_like_rce': -26.586873867452155,\n",
       " 'Q2_reply_avg_prec': 0.15787283026510363,\n",
       " 'Q2_retweet_avg_prec': 0.30418172967899715,\n",
       " 'Q2_retweet_comment_avg_prec': 0.0320185234437078,\n",
       " 'Q2_like_avg_prec': 0.6575847322885718,\n",
       " 'Q3_reply_rce': -68.04658336242227,\n",
       " 'Q3_retweet_rce': 11.167206860620848,\n",
       " 'Q3_retweet_comment_rce': -1096.8625199070543,\n",
       " 'Q3_like_rce': -15.533225203282308,\n",
       " 'Q3_reply_avg_prec': 0.17978344581739844,\n",
       " 'Q3_retweet_avg_prec': 0.3482818652909233,\n",
       " 'Q3_retweet_comment_avg_prec': 0.015857833740217535,\n",
       " 'Q3_like_avg_prec': 0.6567000236385427,\n",
       " 'Q4_reply_rce': -94.08723578637476,\n",
       " 'Q4_retweet_rce': 14.027504353393683,\n",
       " 'Q4_retweet_comment_rce': -1043.8681907205514,\n",
       " 'Q4_like_rce': -15.70046307663635,\n",
       " 'Q4_reply_avg_prec': 0.1357782597762223,\n",
       " 'Q4_retweet_avg_prec': 0.37342436753051944,\n",
       " 'Q4_retweet_comment_avg_prec': 0.03359344801286888,\n",
       " 'Q4_like_avg_prec': 0.6577912227315191,\n",
       " 'Q5_reply_rce': -114.27845531785246,\n",
       " 'Q5_retweet_rce': 7.551634417797592,\n",
       " 'Q5_retweet_comment_rce': -1171.679261120721,\n",
       " 'Q5_like_rce': -3.3687576940799158,\n",
       " 'Q5_reply_avg_prec': 0.09227073574736669,\n",
       " 'Q5_retweet_avg_prec': 0.28978193582223455,\n",
       " 'Q5_retweet_comment_avg_prec': 0.017640340920890958,\n",
       " 'Q5_like_avg_prec': 0.657477525382726,\n",
       " 'TOTAL_reply_rce': -80.27090031379544,\n",
       " 'TOTAL_retweet_rce': 8.239655468045202,\n",
       " 'TOTAL_retweet_comment_rce': -1361.082536438987,\n",
       " 'TOTAL_like_rce': -18.949128866147163,\n",
       " 'TOTAL_reply_avg_prec': 0.1448363861247381,\n",
       " 'TOTAL_retweet_avg_prec': 0.32681382523588465,\n",
       " 'TOTAL_retweet_comment_avg_prec': 0.022313327342333412,\n",
       " 'TOTAL_like_avg_prec': 0.6533371520062864}"
      ]
     },
     "metadata": {},
     "execution_count": 5
    }
   ],
   "source": [
    "dl = dataloader.RecSys2021TSVDataLoader(\n",
    "    csv_data_location, \n",
    "    use_user_index, \n",
    "    mode=\"val\", \n",
    "    filter_timestamp=filter_timestamp, \n",
    "    verbose=2,\n",
    "    remove_day_counts=True, \n",
    "    keep_user_percent=1, \n",
    "    batch_size = 100000,\n",
    "    minibatches_size = 64,\n",
    "    load_n_batches = 2,\n",
    "    normalize_batch = True\n",
    ")\n",
    "\n",
    "nn.evaluate_validation_set(dl)"
   ]
  },
  {
   "cell_type": "code",
   "execution_count": 2,
   "metadata": {},
   "outputs": [],
   "source": [
    "from utils.constants import user_group_weights\n",
    "import torch"
   ]
  },
  {
   "cell_type": "code",
   "execution_count": 7,
   "metadata": {},
   "outputs": [],
   "source": [
    "groups = [1,2,4,5]"
   ]
  },
  {
   "cell_type": "code",
   "execution_count": 8,
   "metadata": {},
   "outputs": [
    {
     "output_type": "execute_result",
     "data": {
      "text/plain": [
       "[0.9870774328685435,\n",
       " 0.9705157535873209,\n",
       " 0.8466576397178028,\n",
       " 0.4343195950966685]"
      ]
     },
     "metadata": {},
     "execution_count": 8
    }
   ],
   "source": [
    "[user_group_weights[it] for it in groups]"
   ]
  },
  {
   "source": [
    "# Other"
   ],
   "cell_type": "markdown",
   "metadata": {}
  },
  {
   "cell_type": "code",
   "execution_count": 1,
   "metadata": {},
   "outputs": [],
   "source": [
    "import utils.download"
   ]
  },
  {
   "cell_type": "code",
   "execution_count": 2,
   "metadata": {},
   "outputs": [
    {
     "output_type": "stream",
     "name": "stdout",
     "text": [
      "Downloading https://storage.googleapis.com to data/validation_data/part-00000.lzo... done\n",
      "Uncompressing data/validation_data/part-00000.lzo... done\n",
      "Downloading https://storage.googleapis.com to data/validation_data/part-00001.lzo... done\n",
      "Uncompressing data/validation_data/part-00001.lzo... done\n"
     ]
    }
   ],
   "source": [
    "utils.download.download_data(\"validation_urls.txt\",\"data/validation_data\", delete_compressed = False)"
   ]
  },
  {
   "cell_type": "code",
   "execution_count": 10,
   "metadata": {},
   "outputs": [],
   "source": [
    "import pandas as pd\n",
    "from utils.constants import all_columns, dtypes_of_features, all_features"
   ]
  },
  {
   "cell_type": "code",
   "execution_count": 11,
   "metadata": {},
   "outputs": [
    {
     "output_type": "execute_result",
     "data": {
      "text/plain": [
       "                     bert_base_multilingual_cased_tokens  \\\n",
       "0      101\\t157\\t39554\\t117\\t51747\\t10479\\t27874\\t101...   \n",
       "1      101\\t14120\\t131\\t120\\t120\\t188\\t119\\t11170\\t12...   \n",
       "2      101\\t56898\\t137\\t10279\\t10908\\t10138\\t168\\t398...   \n",
       "3      101\\t56898\\t137\\t12275\\t10738\\t11534\\t15417\\t9...   \n",
       "4      101\\t109821\\t24093\\t14703\\t30118\\t11259\\t160\\t...   \n",
       "...                                                  ...   \n",
       "99995  101\\t49056\\t27354\\t34935\\t69618\\t39752\\t10230\\...   \n",
       "99996  101\\t10911\\t146\\t100\\t172\\t16863\\t29597\\t86607...   \n",
       "99997  101\\t56898\\t137\\t14424\\t168\\t48742\\t131\\t108\\t...   \n",
       "99998  101\\t1894\\t88218\\t7860\\t2316\\t1895\\t108\\t2087\\...   \n",
       "99999  101\\t24625\\t12216\\t16190\\t20934\\t10305\\t39135\\...   \n",
       "\n",
       "                                                hashtags  \\\n",
       "0                                                    NaN   \n",
       "1                                                    NaN   \n",
       "2      90C52DDF506D1C98EE678E84C08C36AB\\tCD8639BABE54...   \n",
       "3      D704B4128E35F9BC995E701523676542\\tCFD3AF9039C6...   \n",
       "4                                                    NaN   \n",
       "...                                                  ...   \n",
       "99995                   E27EDC9E620D43F17663DCAEAA958585   \n",
       "99996                                                NaN   \n",
       "99997  4A99F523FECC5224DFB8B55027794D21\\t18B9EA3B7FDC...   \n",
       "99998  35825087788754DC26ED3A6364FD3A55\\tD1E4BFB9BD83...   \n",
       "99999                                                NaN   \n",
       "\n",
       "                               tweet_id                      medias  \\\n",
       "0      0C8E7372269942BB173EED7C0A72DA09                         NaN   \n",
       "1      858720854891DFED04A5B91758049833                       Photo   \n",
       "2      1988AA4069C46F57990B6983FBD427A6                         NaN   \n",
       "3      89C86150124016236B7D4A286B041210                         NaN   \n",
       "4      971197A8E595128D8BAF8F3F9D20CFF3                Photo\\tPhoto   \n",
       "...                                 ...                         ...   \n",
       "99995  B434BB652FBBA4D4CA2C8B75CD65D60D  Photo\\tPhoto\\tPhoto\\tPhoto   \n",
       "99996  710CA52FDB579F8C375D21CF967DD32A                         NaN   \n",
       "99997  ACF411715253EA6B18794E067D62D530                         NaN   \n",
       "99998  0F6E4AF7D5A70C4C9519D224604EB61C                         NaN   \n",
       "99999  00AD7C226F494AB80FE24B262CDA7092  Photo\\tPhoto\\tPhoto\\tPhoto   \n",
       "\n",
       "                                  links                           domains  \\\n",
       "0                                   NaN                               NaN   \n",
       "1                                   NaN                               NaN   \n",
       "2      D249E94F6D37A7D5E37185E02C94CDFF  9EFF000CDB18B710CDDB43EE1D8C300B   \n",
       "3                                   NaN                               NaN   \n",
       "4                                   NaN                               NaN   \n",
       "...                                 ...                               ...   \n",
       "99995                               NaN                               NaN   \n",
       "99996                               NaN                               NaN   \n",
       "99997                               NaN                               NaN   \n",
       "99998  A33C298D80264AFAB5612248F785024C  1CE85CC733BA6144D83EDF75F95DCA4E   \n",
       "99999                               NaN                               NaN   \n",
       "\n",
       "           type                          language   timestamp  \\\n",
       "0         Quote  488B32D24BD4BB44172EB981C1BCA6FA  1614523782   \n",
       "1      TopLevel  313ECD3A1E5BB07406E4249475C2D6D6  1614335436   \n",
       "2       Retweet  E7F038DE3EAD397AEC9193686C911677  1614618153   \n",
       "3       Retweet  E7F038DE3EAD397AEC9193686C911677  1614714932   \n",
       "4      TopLevel  488B32D24BD4BB44172EB981C1BCA6FA  1614559113   \n",
       "...         ...                               ...         ...   \n",
       "99995  TopLevel  488B32D24BD4BB44172EB981C1BCA6FA  1614747844   \n",
       "99996  TopLevel  488B32D24BD4BB44172EB981C1BCA6FA  1614670776   \n",
       "99997   Retweet  E7F038DE3EAD397AEC9193686C911677  1614768600   \n",
       "99998  TopLevel  E7F038DE3EAD397AEC9193686C911677  1614238664   \n",
       "99999  TopLevel  1F73BB863A39DB62B4A55B7E558DB1E8  1614248932   \n",
       "\n",
       "                              a_user_id  ...  \\\n",
       "0      8B7BB615A39DF112B0037E960C27F220  ...   \n",
       "1      74B09D5BC3FCE5CC4DEE34BF049A0EE5  ...   \n",
       "2      316C2BE47E445DA930E56C12F3AF31C5  ...   \n",
       "3      C19FC40FBF0AA0BAC4797BD47483349B  ...   \n",
       "4      46846BF25E56F8BA11C0AE36ED31B28F  ...   \n",
       "...                                 ...  ...   \n",
       "99995  967E7C2A6A7F277E37C8E77D224B7E18  ...   \n",
       "99996  04F8A6F207D69EF1E63F4926D1D4DBAB  ...   \n",
       "99997  3AD09AAD3F97E386B12E14772CAA5E67  ...   \n",
       "99998  2D2E9B9AD37B72325FDEA86D1197975D  ...   \n",
       "99999  FA3D16F4CF4256512B2FEEECA6378146  ...   \n",
       "\n",
       "                              b_user_id  b_follower_count  b_following_count  \\\n",
       "0      3044AFDB7E977FB7F62D49C5C97794B7              1128               4028   \n",
       "1      23ACD97ACEF57BF6416670BE1133A664                72                115   \n",
       "2      99F829F88A12BF8B92EDF11A10B6533C               130                638   \n",
       "3      A3A7B6D928FAD730BA9967B53EA7CC28               234                640   \n",
       "4      BA94D75FC03B42F88CAE61485E075960                 8                208   \n",
       "...                                 ...               ...                ...   \n",
       "99995  F9414BF0E778E51C5BC48655D0C52583              4542               1401   \n",
       "99996  D8462FB3BBD84B0431CF79EC2D106983               738                677   \n",
       "99997  7A7A62AC9D03EC812B0971FFCE113A9B               324               1736   \n",
       "99998  3EA329F4500E2FB2DFEF0C482E43C2D5                 8                 57   \n",
       "99999  5288EF236BD63A6A403F58A821A38B19               381                525   \n",
       "\n",
       "       b_is_verified b_account_creation  a_follows_b  reply  retweet  \\\n",
       "0              False         1419763073        False    NaN      NaN   \n",
       "1              False         1600058407        False    NaN      NaN   \n",
       "2              False         1257076693        False    NaN      NaN   \n",
       "3              False         1599725409        False    NaN      NaN   \n",
       "4              False         1532879982        False    NaN      NaN   \n",
       "...              ...                ...          ...    ...      ...   \n",
       "99995          False         1344160517         True    NaN      NaN   \n",
       "99996          False         1288417538        False    NaN      NaN   \n",
       "99997          False         1339671557         True    NaN      NaN   \n",
       "99998          False         1548231263        False    NaN      NaN   \n",
       "99999          False         1349299536         True    NaN      NaN   \n",
       "\n",
       "       retweet_comment          like  \n",
       "0                  NaN  1.614526e+09  \n",
       "1                  NaN  1.614379e+09  \n",
       "2                  NaN           NaN  \n",
       "3                  NaN  1.614715e+09  \n",
       "4                  NaN  1.614618e+09  \n",
       "...                ...           ...  \n",
       "99995              NaN  1.614755e+09  \n",
       "99996              NaN           NaN  \n",
       "99997              NaN           NaN  \n",
       "99998              NaN           NaN  \n",
       "99999              NaN  1.614249e+09  \n",
       "\n",
       "[100000 rows x 24 columns]"
      ],
      "text/html": "<div>\n<style scoped>\n    .dataframe tbody tr th:only-of-type {\n        vertical-align: middle;\n    }\n\n    .dataframe tbody tr th {\n        vertical-align: top;\n    }\n\n    .dataframe thead th {\n        text-align: right;\n    }\n</style>\n<table border=\"1\" class=\"dataframe\">\n  <thead>\n    <tr style=\"text-align: right;\">\n      <th></th>\n      <th>bert_base_multilingual_cased_tokens</th>\n      <th>hashtags</th>\n      <th>tweet_id</th>\n      <th>medias</th>\n      <th>links</th>\n      <th>domains</th>\n      <th>type</th>\n      <th>language</th>\n      <th>timestamp</th>\n      <th>a_user_id</th>\n      <th>...</th>\n      <th>b_user_id</th>\n      <th>b_follower_count</th>\n      <th>b_following_count</th>\n      <th>b_is_verified</th>\n      <th>b_account_creation</th>\n      <th>a_follows_b</th>\n      <th>reply</th>\n      <th>retweet</th>\n      <th>retweet_comment</th>\n      <th>like</th>\n    </tr>\n  </thead>\n  <tbody>\n    <tr>\n      <th>0</th>\n      <td>101\\t157\\t39554\\t117\\t51747\\t10479\\t27874\\t101...</td>\n      <td>NaN</td>\n      <td>0C8E7372269942BB173EED7C0A72DA09</td>\n      <td>NaN</td>\n      <td>NaN</td>\n      <td>NaN</td>\n      <td>Quote</td>\n      <td>488B32D24BD4BB44172EB981C1BCA6FA</td>\n      <td>1614523782</td>\n      <td>8B7BB615A39DF112B0037E960C27F220</td>\n      <td>...</td>\n      <td>3044AFDB7E977FB7F62D49C5C97794B7</td>\n      <td>1128</td>\n      <td>4028</td>\n      <td>False</td>\n      <td>1419763073</td>\n      <td>False</td>\n      <td>NaN</td>\n      <td>NaN</td>\n      <td>NaN</td>\n      <td>1.614526e+09</td>\n    </tr>\n    <tr>\n      <th>1</th>\n      <td>101\\t14120\\t131\\t120\\t120\\t188\\t119\\t11170\\t12...</td>\n      <td>NaN</td>\n      <td>858720854891DFED04A5B91758049833</td>\n      <td>Photo</td>\n      <td>NaN</td>\n      <td>NaN</td>\n      <td>TopLevel</td>\n      <td>313ECD3A1E5BB07406E4249475C2D6D6</td>\n      <td>1614335436</td>\n      <td>74B09D5BC3FCE5CC4DEE34BF049A0EE5</td>\n      <td>...</td>\n      <td>23ACD97ACEF57BF6416670BE1133A664</td>\n      <td>72</td>\n      <td>115</td>\n      <td>False</td>\n      <td>1600058407</td>\n      <td>False</td>\n      <td>NaN</td>\n      <td>NaN</td>\n      <td>NaN</td>\n      <td>1.614379e+09</td>\n    </tr>\n    <tr>\n      <th>2</th>\n      <td>101\\t56898\\t137\\t10279\\t10908\\t10138\\t168\\t398...</td>\n      <td>90C52DDF506D1C98EE678E84C08C36AB\\tCD8639BABE54...</td>\n      <td>1988AA4069C46F57990B6983FBD427A6</td>\n      <td>NaN</td>\n      <td>D249E94F6D37A7D5E37185E02C94CDFF</td>\n      <td>9EFF000CDB18B710CDDB43EE1D8C300B</td>\n      <td>Retweet</td>\n      <td>E7F038DE3EAD397AEC9193686C911677</td>\n      <td>1614618153</td>\n      <td>316C2BE47E445DA930E56C12F3AF31C5</td>\n      <td>...</td>\n      <td>99F829F88A12BF8B92EDF11A10B6533C</td>\n      <td>130</td>\n      <td>638</td>\n      <td>False</td>\n      <td>1257076693</td>\n      <td>False</td>\n      <td>NaN</td>\n      <td>NaN</td>\n      <td>NaN</td>\n      <td>NaN</td>\n    </tr>\n    <tr>\n      <th>3</th>\n      <td>101\\t56898\\t137\\t12275\\t10738\\t11534\\t15417\\t9...</td>\n      <td>D704B4128E35F9BC995E701523676542\\tCFD3AF9039C6...</td>\n      <td>89C86150124016236B7D4A286B041210</td>\n      <td>NaN</td>\n      <td>NaN</td>\n      <td>NaN</td>\n      <td>Retweet</td>\n      <td>E7F038DE3EAD397AEC9193686C911677</td>\n      <td>1614714932</td>\n      <td>C19FC40FBF0AA0BAC4797BD47483349B</td>\n      <td>...</td>\n      <td>A3A7B6D928FAD730BA9967B53EA7CC28</td>\n      <td>234</td>\n      <td>640</td>\n      <td>False</td>\n      <td>1599725409</td>\n      <td>False</td>\n      <td>NaN</td>\n      <td>NaN</td>\n      <td>NaN</td>\n      <td>1.614715e+09</td>\n    </tr>\n    <tr>\n      <th>4</th>\n      <td>101\\t109821\\t24093\\t14703\\t30118\\t11259\\t160\\t...</td>\n      <td>NaN</td>\n      <td>971197A8E595128D8BAF8F3F9D20CFF3</td>\n      <td>Photo\\tPhoto</td>\n      <td>NaN</td>\n      <td>NaN</td>\n      <td>TopLevel</td>\n      <td>488B32D24BD4BB44172EB981C1BCA6FA</td>\n      <td>1614559113</td>\n      <td>46846BF25E56F8BA11C0AE36ED31B28F</td>\n      <td>...</td>\n      <td>BA94D75FC03B42F88CAE61485E075960</td>\n      <td>8</td>\n      <td>208</td>\n      <td>False</td>\n      <td>1532879982</td>\n      <td>False</td>\n      <td>NaN</td>\n      <td>NaN</td>\n      <td>NaN</td>\n      <td>1.614618e+09</td>\n    </tr>\n    <tr>\n      <th>...</th>\n      <td>...</td>\n      <td>...</td>\n      <td>...</td>\n      <td>...</td>\n      <td>...</td>\n      <td>...</td>\n      <td>...</td>\n      <td>...</td>\n      <td>...</td>\n      <td>...</td>\n      <td>...</td>\n      <td>...</td>\n      <td>...</td>\n      <td>...</td>\n      <td>...</td>\n      <td>...</td>\n      <td>...</td>\n      <td>...</td>\n      <td>...</td>\n      <td>...</td>\n      <td>...</td>\n    </tr>\n    <tr>\n      <th>99995</th>\n      <td>101\\t49056\\t27354\\t34935\\t69618\\t39752\\t10230\\...</td>\n      <td>E27EDC9E620D43F17663DCAEAA958585</td>\n      <td>B434BB652FBBA4D4CA2C8B75CD65D60D</td>\n      <td>Photo\\tPhoto\\tPhoto\\tPhoto</td>\n      <td>NaN</td>\n      <td>NaN</td>\n      <td>TopLevel</td>\n      <td>488B32D24BD4BB44172EB981C1BCA6FA</td>\n      <td>1614747844</td>\n      <td>967E7C2A6A7F277E37C8E77D224B7E18</td>\n      <td>...</td>\n      <td>F9414BF0E778E51C5BC48655D0C52583</td>\n      <td>4542</td>\n      <td>1401</td>\n      <td>False</td>\n      <td>1344160517</td>\n      <td>True</td>\n      <td>NaN</td>\n      <td>NaN</td>\n      <td>NaN</td>\n      <td>1.614755e+09</td>\n    </tr>\n    <tr>\n      <th>99996</th>\n      <td>101\\t10911\\t146\\t100\\t172\\t16863\\t29597\\t86607...</td>\n      <td>NaN</td>\n      <td>710CA52FDB579F8C375D21CF967DD32A</td>\n      <td>NaN</td>\n      <td>NaN</td>\n      <td>NaN</td>\n      <td>TopLevel</td>\n      <td>488B32D24BD4BB44172EB981C1BCA6FA</td>\n      <td>1614670776</td>\n      <td>04F8A6F207D69EF1E63F4926D1D4DBAB</td>\n      <td>...</td>\n      <td>D8462FB3BBD84B0431CF79EC2D106983</td>\n      <td>738</td>\n      <td>677</td>\n      <td>False</td>\n      <td>1288417538</td>\n      <td>False</td>\n      <td>NaN</td>\n      <td>NaN</td>\n      <td>NaN</td>\n      <td>NaN</td>\n    </tr>\n    <tr>\n      <th>99997</th>\n      <td>101\\t56898\\t137\\t14424\\t168\\t48742\\t131\\t108\\t...</td>\n      <td>4A99F523FECC5224DFB8B55027794D21\\t18B9EA3B7FDC...</td>\n      <td>ACF411715253EA6B18794E067D62D530</td>\n      <td>NaN</td>\n      <td>NaN</td>\n      <td>NaN</td>\n      <td>Retweet</td>\n      <td>E7F038DE3EAD397AEC9193686C911677</td>\n      <td>1614768600</td>\n      <td>3AD09AAD3F97E386B12E14772CAA5E67</td>\n      <td>...</td>\n      <td>7A7A62AC9D03EC812B0971FFCE113A9B</td>\n      <td>324</td>\n      <td>1736</td>\n      <td>False</td>\n      <td>1339671557</td>\n      <td>True</td>\n      <td>NaN</td>\n      <td>NaN</td>\n      <td>NaN</td>\n      <td>NaN</td>\n    </tr>\n    <tr>\n      <th>99998</th>\n      <td>101\\t1894\\t88218\\t7860\\t2316\\t1895\\t108\\t2087\\...</td>\n      <td>35825087788754DC26ED3A6364FD3A55\\tD1E4BFB9BD83...</td>\n      <td>0F6E4AF7D5A70C4C9519D224604EB61C</td>\n      <td>NaN</td>\n      <td>A33C298D80264AFAB5612248F785024C</td>\n      <td>1CE85CC733BA6144D83EDF75F95DCA4E</td>\n      <td>TopLevel</td>\n      <td>E7F038DE3EAD397AEC9193686C911677</td>\n      <td>1614238664</td>\n      <td>2D2E9B9AD37B72325FDEA86D1197975D</td>\n      <td>...</td>\n      <td>3EA329F4500E2FB2DFEF0C482E43C2D5</td>\n      <td>8</td>\n      <td>57</td>\n      <td>False</td>\n      <td>1548231263</td>\n      <td>False</td>\n      <td>NaN</td>\n      <td>NaN</td>\n      <td>NaN</td>\n      <td>NaN</td>\n    </tr>\n    <tr>\n      <th>99999</th>\n      <td>101\\t24625\\t12216\\t16190\\t20934\\t10305\\t39135\\...</td>\n      <td>NaN</td>\n      <td>00AD7C226F494AB80FE24B262CDA7092</td>\n      <td>Photo\\tPhoto\\tPhoto\\tPhoto</td>\n      <td>NaN</td>\n      <td>NaN</td>\n      <td>TopLevel</td>\n      <td>1F73BB863A39DB62B4A55B7E558DB1E8</td>\n      <td>1614248932</td>\n      <td>FA3D16F4CF4256512B2FEEECA6378146</td>\n      <td>...</td>\n      <td>5288EF236BD63A6A403F58A821A38B19</td>\n      <td>381</td>\n      <td>525</td>\n      <td>False</td>\n      <td>1349299536</td>\n      <td>True</td>\n      <td>NaN</td>\n      <td>NaN</td>\n      <td>NaN</td>\n      <td>1.614249e+09</td>\n    </tr>\n  </tbody>\n</table>\n<p>100000 rows × 24 columns</p>\n</div>"
     },
     "metadata": {},
     "execution_count": 11
    }
   ],
   "source": [
    "pd.read_csv(\"data/validation_data/part-00000.lzo\",\n",
    "                sep='\\x01',\n",
    "                header=None,\n",
    "                names=all_columns,\n",
    "                dtype={k: v for k, v in dtypes_of_features.items() if k in all_features},\n",
    "                nrows = 100000\n",
    "                )"
   ]
  },
  {
   "cell_type": "code",
   "execution_count": 3,
   "metadata": {},
   "outputs": [
    {
     "output_type": "stream",
     "name": "stdout",
     "text": [
      "Loaded Batch Nr. 1 in 8.59\n",
      "Timestamp Filtered Batch Nr. 1 in 0.00\n",
      "Did prepro part 1 of 1 in 0.36\n",
      "Did prepro part 2 of 1 in 20.40\n",
      "Did prepro part 3 of 1 in 0.09\n",
      "Merged Users of 1 in 25.17\n",
      "Extracted TE of 1 in 14.11\n",
      "Finished Batch Nr. 1 from file part-00000.tsv in 73.28s!\n"
     ]
    }
   ],
   "source": [
    "res = next(iter(dl))"
   ]
  },
  {
   "cell_type": "code",
   "execution_count": 5,
   "metadata": {},
   "outputs": [
    {
     "output_type": "stream",
     "name": "stdout",
     "text": [
      "a_follower_count                                            a_following_count                                           a_is_verified                                               b_follower_count                                            b_following_count                                           b_is_verified                                               a_follows_b                                                 bert_token_len                                              photo_count                                                 video_count                                                 gif_count                                                   type_encoding                                               language_encoding                                           a_followers                                                 a_following                                                 b_followers                                                 b_following                                                 day_of_week                                                 hour_of_day                                                 a_b_creation_delta                                          a_creation_delta                                            b_creation_delta                                            a_b_follower_ratio                                          a_b_following_ratio                                         TE_reply_a_TopLevel_A                                       TE_reply_a_TopLevel_B                                       TE_reply_a_Retweet_A                                        TE_reply_a_Retweet_B                                        TE_reply_a_Quote_A                                          TE_reply_a_Quote_B                                          TE_reply_a_A                                                TE_reply_a_B                                                TE_reply_b_TopLevel_A                                       TE_reply_b_TopLevel_B                                       TE_reply_b_Retweet_A                                        TE_reply_b_Retweet_B                                        TE_reply_b_Quote_A                                          TE_reply_b_Quote_B                                          TE_reply_b_A                                                TE_reply_b_B                                                TE_like_a_TopLevel_A                                        TE_like_a_TopLevel_B                                        TE_like_a_Retweet_A                                         TE_like_a_Retweet_B                                         TE_like_a_Quote_A                                           TE_like_a_Quote_B                                           TE_like_a_A                                                 TE_like_a_B                                                 TE_like_b_TopLevel_A                                        TE_like_b_TopLevel_B                                        TE_like_b_Retweet_A                                         TE_like_b_Retweet_B                                         TE_like_b_Quote_A                                           TE_like_b_Quote_B                                           TE_like_b_A                                                 TE_like_b_B                                                 TE_retweet_a_TopLevel_A                                     TE_retweet_a_TopLevel_B                                     TE_retweet_a_Retweet_A                                      TE_retweet_a_Retweet_B                                      TE_retweet_a_Quote_A                                        TE_retweet_a_Quote_B                                        TE_retweet_a_A                                              TE_retweet_a_B                                              TE_retweet_b_TopLevel_A                                     TE_retweet_b_TopLevel_B                                     TE_retweet_b_Retweet_A                                      TE_retweet_b_Retweet_B                                      TE_retweet_b_Quote_A                                        TE_retweet_b_Quote_B                                        TE_retweet_b_A                                              TE_retweet_b_B                                              TE_retweet_comment_a_TopLevel_A                             TE_retweet_comment_a_TopLevel_B                             TE_retweet_comment_a_Retweet_A                              TE_retweet_comment_a_Retweet_B                              TE_retweet_comment_a_Quote_A                                TE_retweet_comment_a_Quote_B                                TE_retweet_comment_a_A                                      TE_retweet_comment_a_B                                      TE_retweet_comment_b_TopLevel_A                             TE_retweet_comment_b_TopLevel_B                             TE_retweet_comment_b_Retweet_A                              TE_retweet_comment_b_Retweet_B                              TE_retweet_comment_b_Quote_A                                TE_retweet_comment_b_Quote_B                                TE_retweet_comment_b_A                                      TE_retweet_comment_b_B                                      "
     ]
    }
   ],
   "source": [
    "for col in res[0].columns:\n",
    "    if col.startswith(\"n_\") or True:\n",
    "        print(f\"{col:60}\", end=\"\")"
   ]
  },
  {
   "cell_type": "code",
   "execution_count": 23,
   "metadata": {},
   "outputs": [],
   "source": []
  },
  {
   "cell_type": "code",
   "execution_count": null,
   "metadata": {},
   "outputs": [],
   "source": [
    "for key in res:\n",
    "    print(f\"{key:32}: {res[key]}\")"
   ]
  }
 ]
}