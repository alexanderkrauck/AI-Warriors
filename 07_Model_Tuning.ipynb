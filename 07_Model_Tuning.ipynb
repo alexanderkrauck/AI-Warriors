{
 "metadata": {
  "language_info": {
   "codemirror_mode": {
    "name": "ipython",
    "version": 3
   },
   "file_extension": ".py",
   "mimetype": "text/x-python",
   "name": "python",
   "nbconvert_exporter": "python",
   "pygments_lexer": "ipython3",
   "version": "3.9.5"
  },
  "orig_nbformat": 2,
  "kernelspec": {
   "name": "python395jvsc74a57bd03b92691d56bfc9d5af752bc6654e963678e4150a6c1b95c958d07e2434145127",
   "display_name": "Python 3.9.5 64-bit ('m1': conda)"
  },
  "metadata": {
   "interpreter": {
    "hash": "3b92691d56bfc9d5af752bc6654e963678e4150a6c1b95c958d07e2434145127"
   }
  }
 },
 "nbformat": 4,
 "nbformat_minor": 2,
 "cells": [
  {
   "source": [
    "## Train the model"
   ],
   "cell_type": "markdown",
   "metadata": {}
  },
  {
   "cell_type": "code",
   "execution_count": 2,
   "metadata": {},
   "outputs": [],
   "source": [
    "from utils import dataloader\n",
    "import utils.model\n",
    "from datetime import datetime\n",
    "from os.path import join\n",
    "from importlib import reload\n",
    "\n",
    "filter_timestamp = int(datetime(2021, 2, 19, 0).timestamp())\n",
    "use_user_index = join(\"indices\",\"train_user_index_w_type.parquet\")#\"train_user_index.parquet\"\n",
    "csv_data_location = join(\"data\",\"downloaded_data\")\n",
    "model_save_location = join(\"saved_models\",\"xgb_models_17_long_training\")"
   ]
  },
  {
   "cell_type": "code",
   "execution_count": 14,
   "metadata": {},
   "outputs": [
    {
     "output_type": "stream",
     "name": "stdout",
     "text": [
      "Loading User Index\n",
      "Randomly keeping only 50.0% of the users.\n",
      "Removing day counts\n",
      "Extracting combined user counts\n",
      "Created Dataloader in 22.36 seconds!\n"
     ]
    }
   ],
   "source": [
    "dl = dataloader.RecSys2021TSVDataLoader(\n",
    "    csv_data_location, \n",
    "    use_user_index, \n",
    "    mode=\"train\", \n",
    "    filter_timestamp=filter_timestamp, \n",
    "    verbose=2, \n",
    "    remove_day_counts=True, \n",
    "    keep_user_percent=0.5, \n",
    "    batch_size = 1000000,\n",
    "    load_n_batches = 30\n",
    "    )"
   ]
  },
  {
   "cell_type": "code",
   "execution_count": 16,
   "metadata": {},
   "outputs": [
    {
     "output_type": "stream",
     "name": "stdout",
     "text": [
      "CPU times: user 1.71 ms, sys: 78 µs, total: 1.79 ms\nWall time: 23.6 ms\n"
     ]
    }
   ],
   "source": [
    "%%time\n",
    "recsysxgb = utils.model.RecSysXGB1(model_dir = model_save_location)\n",
    "xgb_params = {'objective': 'binary:logistic', 'eval_metric':'map', 'max_depth':10}"
   ]
  },
  {
   "cell_type": "code",
   "execution_count": 17,
   "metadata": {},
   "outputs": [
    {
     "output_type": "stream",
     "name": "stdout",
     "text": [
      "Loaded Batch Nr. 1 in 4.86\n",
      "Timestamp Filtered Batch Nr. 1 in 0.16\n",
      "Did prepro part 1 of 1 in 0.19\n",
      "Did prepro part 2 of 1 in 8.70\n",
      "Did prepro part 3 of 1 in 0.04\n",
      "Merged Users of 1 in 9.34\n",
      "Extracted TE of 1 in 6.24\n",
      "Finished Batch Nr. 1 from file part-00000.tsv in 31.81s!\n",
      "Loaded Batch Nr. 2 in 5.80\n",
      "Timestamp Filtered Batch Nr. 2 in 0.17\n",
      "Did prepro part 1 of 2 in 0.17\n",
      "Did prepro part 2 of 2 in 8.63\n",
      "Did prepro part 3 of 2 in 0.04\n",
      "Merged Users of 2 in 9.32\n",
      "Extracted TE of 2 in 6.23\n",
      "Finished Batch Nr. 2 from file part-00000.tsv in 32.69s!\n",
      "Loaded Batch Nr. 3 in 9.20\n",
      "Timestamp Filtered Batch Nr. 3 in 0.16\n",
      "Did prepro part 1 of 3 in 0.18\n",
      "Did prepro part 2 of 3 in 8.75\n",
      "Did prepro part 3 of 3 in 0.04\n",
      "Merged Users of 3 in 9.46\n",
      "Extracted TE of 3 in 6.24\n",
      "Finished Batch Nr. 3 from file part-00000.tsv in 36.36s!\n",
      "Loaded Batch Nr. 4 in 10.07\n",
      "Timestamp Filtered Batch Nr. 4 in 0.38\n",
      "Did prepro part 1 of 4 in 0.16\n",
      "Did prepro part 2 of 4 in 8.29\n",
      "Did prepro part 3 of 4 in 0.03\n",
      "Merged Users of 4 in 8.53\n",
      "Extracted TE of 4 in 5.98\n",
      "Finished Batch Nr. 4 from file part-00001.tsv in 35.66s!\n",
      "Loaded Batch Nr. 5 in 7.69\n",
      "Timestamp Filtered Batch Nr. 5 in 0.15\n",
      "Did prepro part 1 of 5 in 0.16\n",
      "Did prepro part 2 of 5 in 8.31\n",
      "Did prepro part 3 of 5 in 0.03\n",
      "Merged Users of 5 in 8.61\n",
      "Extracted TE of 5 in 6.00\n",
      "Finished Batch Nr. 5 from file part-00001.tsv in 33.14s!\n",
      "Loaded Batch Nr. 6 in 8.75\n",
      "Timestamp Filtered Batch Nr. 6 in 0.15\n",
      "Did prepro part 1 of 6 in 0.16\n",
      "Did prepro part 2 of 6 in 8.31\n",
      "Did prepro part 3 of 6 in 0.03\n",
      "Merged Users of 6 in 8.39\n",
      "Extracted TE of 6 in 5.98\n",
      "Finished Batch Nr. 6 from file part-00001.tsv in 33.97s!\n",
      "Loaded Batch Nr. 7 in 10.01\n",
      "Timestamp Filtered Batch Nr. 7 in 0.38\n",
      "Did prepro part 1 of 7 in 0.16\n",
      "Did prepro part 2 of 7 in 8.35\n",
      "Did prepro part 3 of 7 in 0.03\n",
      "Merged Users of 7 in 8.44\n",
      "Extracted TE of 7 in 6.00\n",
      "Finished Batch Nr. 7 from file part-00002.tsv in 35.58s!\n",
      "Loaded Batch Nr. 8 in 7.77\n",
      "Timestamp Filtered Batch Nr. 8 in 0.15\n",
      "Did prepro part 1 of 8 in 0.16\n",
      "Did prepro part 2 of 8 in 8.30\n",
      "Did prepro part 3 of 8 in 0.03\n",
      "Merged Users of 8 in 8.50\n",
      "Extracted TE of 8 in 5.99\n",
      "Finished Batch Nr. 8 from file part-00002.tsv in 33.09s!\n",
      "Loaded Batch Nr. 9 in 8.68\n",
      "Timestamp Filtered Batch Nr. 9 in 0.15\n",
      "Did prepro part 1 of 9 in 0.16\n",
      "Did prepro part 2 of 9 in 8.32\n",
      "Did prepro part 3 of 9 in 0.03\n",
      "Merged Users of 9 in 8.53\n",
      "Extracted TE of 9 in 5.98\n",
      "Finished Batch Nr. 9 from file part-00002.tsv in 34.05s!\n",
      "Loaded Batch Nr. 10 in 10.07\n",
      "Timestamp Filtered Batch Nr. 10 in 0.34\n",
      "Did prepro part 1 of 10 in 0.16\n",
      "Did prepro part 2 of 10 in 8.31\n",
      "Did prepro part 3 of 10 in 0.03\n",
      "Merged Users of 10 in 8.53\n",
      "Extracted TE of 10 in 5.79\n",
      "Finished Batch Nr. 10 from file part-00003.tsv in 35.45s!\n",
      "Loaded Batch Nr. 11 in 7.78\n",
      "Timestamp Filtered Batch Nr. 11 in 0.15\n",
      "Did prepro part 1 of 11 in 0.16\n",
      "Did prepro part 2 of 11 in 8.36\n",
      "Did prepro part 3 of 11 in 0.03\n",
      "Merged Users of 11 in 8.74\n",
      "Extracted TE of 11 in 5.79\n",
      "Finished Batch Nr. 11 from file part-00003.tsv in 33.23s!\n",
      "Loaded Batch Nr. 12 in 8.68\n",
      "Timestamp Filtered Batch Nr. 12 in 0.15\n",
      "Did prepro part 1 of 12 in 0.18\n",
      "Did prepro part 2 of 12 in 8.32\n",
      "Did prepro part 3 of 12 in 0.03\n",
      "Merged Users of 12 in 8.81\n",
      "Extracted TE of 12 in 5.77\n",
      "Finished Batch Nr. 12 from file part-00003.tsv in 34.13s!\n",
      "Loaded Batch Nr. 13 in 9.97\n",
      "Timestamp Filtered Batch Nr. 13 in 0.34\n",
      "Did prepro part 1 of 13 in 0.16\n",
      "Did prepro part 2 of 13 in 8.22\n",
      "Did prepro part 3 of 13 in 0.03\n",
      "Merged Users of 13 in 8.61\n",
      "Extracted TE of 13 in 5.98\n",
      "Finished Batch Nr. 13 from file part-00004.tsv in 35.54s!\n",
      "Loaded Batch Nr. 14 in 7.81\n",
      "Timestamp Filtered Batch Nr. 14 in 0.15\n",
      "Did prepro part 1 of 14 in 0.16\n",
      "Did prepro part 2 of 14 in 8.31\n",
      "Did prepro part 3 of 14 in 0.03\n",
      "Merged Users of 14 in 8.84\n",
      "Extracted TE of 14 in 5.79\n",
      "Finished Batch Nr. 14 from file part-00004.tsv in 33.28s!\n",
      "Loaded Batch Nr. 15 in 8.62\n",
      "Timestamp Filtered Batch Nr. 15 in 0.16\n",
      "Did prepro part 1 of 15 in 0.16\n",
      "Did prepro part 2 of 15 in 8.33\n",
      "Did prepro part 3 of 15 in 0.03\n",
      "Merged Users of 15 in 8.76\n",
      "Extracted TE of 15 in 5.75\n",
      "Finished Batch Nr. 15 from file part-00004.tsv in 34.01s!\n",
      "Loaded Batch Nr. 16 in 10.40\n",
      "Timestamp Filtered Batch Nr. 16 in 0.34\n",
      "Did prepro part 1 of 16 in 0.16\n",
      "Did prepro part 2 of 16 in 8.28\n",
      "Did prepro part 3 of 16 in 0.03\n",
      "Merged Users of 16 in 8.47\n",
      "Extracted TE of 16 in 5.76\n",
      "Finished Batch Nr. 16 from file part-00005.tsv in 35.64s!\n",
      "Loaded Batch Nr. 17 in 7.90\n",
      "Timestamp Filtered Batch Nr. 17 in 0.15\n",
      "Did prepro part 1 of 17 in 0.16\n",
      "Did prepro part 2 of 17 in 8.31\n",
      "Did prepro part 3 of 17 in 0.03\n",
      "Merged Users of 17 in 8.52\n",
      "Extracted TE of 17 in 5.77\n",
      "Finished Batch Nr. 17 from file part-00005.tsv in 33.06s!\n",
      "Loaded Batch Nr. 18 in 8.95\n",
      "Timestamp Filtered Batch Nr. 18 in 0.14\n",
      "Did prepro part 1 of 18 in 0.16\n",
      "Did prepro part 2 of 18 in 8.35\n",
      "Did prepro part 3 of 18 in 0.03\n",
      "Merged Users of 18 in 8.31\n",
      "Extracted TE of 18 in 5.79\n",
      "Finished Batch Nr. 18 from file part-00005.tsv in 33.92s!\n",
      "Loaded Batch Nr. 19 in 9.94\n",
      "Timestamp Filtered Batch Nr. 19 in 0.34\n",
      "Did prepro part 1 of 19 in 0.16\n",
      "Did prepro part 2 of 19 in 8.25\n",
      "Did prepro part 3 of 19 in 0.03\n",
      "Merged Users of 19 in 8.60\n",
      "Extracted TE of 19 in 5.77\n",
      "Finished Batch Nr. 19 from file part-00006.tsv in 35.29s!\n",
      "Loaded Batch Nr. 20 in 7.44\n",
      "Timestamp Filtered Batch Nr. 20 in 0.14\n",
      "Did prepro part 1 of 20 in 0.16\n",
      "Did prepro part 2 of 20 in 8.29\n",
      "Did prepro part 3 of 20 in 0.03\n",
      "Merged Users of 20 in 8.68\n",
      "Extracted TE of 20 in 5.74\n",
      "Finished Batch Nr. 20 from file part-00006.tsv in 32.68s!\n",
      "Loaded Batch Nr. 21 in 8.74\n",
      "Timestamp Filtered Batch Nr. 21 in 0.14\n",
      "Did prepro part 1 of 21 in 0.16\n",
      "Did prepro part 2 of 21 in 8.30\n",
      "Did prepro part 3 of 21 in 0.03\n",
      "Merged Users of 21 in 8.60\n",
      "Extracted TE of 21 in 5.77\n",
      "Finished Batch Nr. 21 from file part-00006.tsv in 33.96s!\n",
      "Loaded Batch Nr. 22 in 10.09\n",
      "Timestamp Filtered Batch Nr. 22 in 0.34\n",
      "Did prepro part 1 of 22 in 0.16\n",
      "Did prepro part 2 of 22 in 8.26\n",
      "Did prepro part 3 of 22 in 0.03\n",
      "Merged Users of 22 in 8.66\n",
      "Extracted TE of 22 in 5.77\n",
      "Finished Batch Nr. 22 from file part-00007.tsv in 35.52s!\n",
      "Loaded Batch Nr. 23 in 7.79\n",
      "Timestamp Filtered Batch Nr. 23 in 0.14\n",
      "Did prepro part 1 of 23 in 0.16\n",
      "Did prepro part 2 of 23 in 8.29\n",
      "Did prepro part 3 of 23 in 0.03\n",
      "Merged Users of 23 in 8.57\n",
      "Extracted TE of 23 in 5.76\n",
      "Finished Batch Nr. 23 from file part-00007.tsv in 32.94s!\n",
      "Loaded Batch Nr. 24 in 8.77\n",
      "Timestamp Filtered Batch Nr. 24 in 0.15\n",
      "Did prepro part 1 of 24 in 0.16\n",
      "Did prepro part 2 of 24 in 8.26\n",
      "Did prepro part 3 of 24 in 0.03\n",
      "Merged Users of 24 in 8.67\n",
      "Extracted TE of 24 in 5.76\n",
      "Finished Batch Nr. 24 from file part-00007.tsv in 33.99s!\n",
      "Loaded Batch Nr. 25 in 10.48\n",
      "Timestamp Filtered Batch Nr. 25 in 0.34\n",
      "Did prepro part 1 of 25 in 0.16\n",
      "Did prepro part 2 of 25 in 8.23\n",
      "Did prepro part 3 of 25 in 0.03\n",
      "Merged Users of 25 in 8.82\n",
      "Extracted TE of 25 in 5.78\n",
      "Finished Batch Nr. 25 from file part-00008.tsv in 36.04s!\n",
      "Loaded Batch Nr. 26 in 8.16\n",
      "Timestamp Filtered Batch Nr. 26 in 0.15\n",
      "Did prepro part 1 of 26 in 0.16\n",
      "Did prepro part 2 of 26 in 8.30\n",
      "Did prepro part 3 of 26 in 0.03\n",
      "Merged Users of 26 in 8.57\n",
      "Extracted TE of 26 in 5.77\n",
      "Finished Batch Nr. 26 from file part-00008.tsv in 33.33s!\n",
      "Loaded Batch Nr. 27 in 8.65\n",
      "Timestamp Filtered Batch Nr. 27 in 0.15\n",
      "Did prepro part 1 of 27 in 0.16\n",
      "Did prepro part 2 of 27 in 8.27\n",
      "Did prepro part 3 of 27 in 0.03\n",
      "Merged Users of 27 in 8.69\n",
      "Extracted TE of 27 in 5.77\n",
      "Finished Batch Nr. 27 from file part-00008.tsv in 33.93s!\n",
      "Loaded Batch Nr. 28 in 9.73\n",
      "Timestamp Filtered Batch Nr. 28 in 0.35\n",
      "Did prepro part 1 of 28 in 0.16\n",
      "Did prepro part 2 of 28 in 8.31\n",
      "Did prepro part 3 of 28 in 0.03\n",
      "Merged Users of 28 in 8.62\n",
      "Extracted TE of 28 in 5.77\n",
      "Finished Batch Nr. 28 from file part-00009.tsv in 35.16s!\n",
      "Loaded Batch Nr. 29 in 7.54\n",
      "Timestamp Filtered Batch Nr. 29 in 0.15\n",
      "Did prepro part 1 of 29 in 0.16\n",
      "Did prepro part 2 of 29 in 8.31\n",
      "Did prepro part 3 of 29 in 0.03\n",
      "Merged Users of 29 in 8.79\n",
      "Extracted TE of 29 in 5.78\n",
      "Finished Batch Nr. 29 from file part-00009.tsv in 32.97s!\n",
      "Loaded Batch Nr. 30 in 8.94\n",
      "Timestamp Filtered Batch Nr. 30 in 0.15\n",
      "Did prepro part 1 of 30 in 0.16\n",
      "Did prepro part 2 of 30 in 8.29\n",
      "Did prepro part 3 of 30 in 0.03\n",
      "Merged Users of 30 in 8.82\n",
      "Extracted TE of 30 in 5.78\n",
      "Finished Batch Nr. 30 from file part-00009.tsv in 34.36s!\n",
      "Finished 1 epochs.\n"
     ]
    }
   ],
   "source": [
    "recsysxgb.fit(\n",
    "    train_loader= dl,\n",
    "    xgb_parameters = xgb_params,\n",
    "    boost_rounds_per_iteration = 10,\n",
    "    verbose = 1,\n",
    "    n_epochs = 1\n",
    ")"
   ]
  },
  {
   "source": [
    "## Evaluate the model"
   ],
   "cell_type": "markdown",
   "metadata": {}
  },
  {
   "cell_type": "code",
   "execution_count": 3,
   "metadata": {},
   "outputs": [
    {
     "output_type": "stream",
     "name": "stdout",
     "text": [
      "Loading User Index\n",
      "Removing day counts\n",
      "Extracting combined user counts\n",
      "Created Dataloader in 13.79 seconds!\n"
     ]
    }
   ],
   "source": [
    "recsysxgb = utils.model.RecSysXGB1(model_save_location)\n",
    "dl = dataloader.RecSys2021TSVDataLoader(\n",
    "    data_directory = csv_data_location, \n",
    "    user_index_location = join(\"indices\",\"user_index_w_type.parquet\"),#use_user_index, \n",
    "    mode=\"val\", \n",
    "    filter_timestamp=filter_timestamp, \n",
    "    verbose=2, \n",
    "    random_file_sampling=True, \n",
    "    load_n_batches=3, \n",
    "    remove_day_counts=True,\n",
    "    keep_user_percent=1\n",
    ")"
   ]
  },
  {
   "cell_type": "code",
   "execution_count": 4,
   "metadata": {},
   "outputs": [
    {
     "output_type": "stream",
     "name": "stdout",
     "text": [
      "Loaded Batch Nr. 1 in 20.61\n",
      "Timestamp Filtered Batch Nr. 1 in 0.39\n",
      "Did prepro part 1 of 1 in 0.23\n",
      "Did prepro part 2 of 1 in 10.31\n",
      "Did prepro part 3 of 1 in 0.04\n",
      "Merged Users of 1 in 23.14\n",
      "Extracted TE of 1 in 12.76\n",
      "Finished Batch Nr. 1 from file part-00142.tsv in 69.88s!\n",
      "Loaded Batch Nr. 2 in 20.76\n",
      "Timestamp Filtered Batch Nr. 2 in 0.40\n",
      "Did prepro part 1 of 2 in 0.23\n",
      "Did prepro part 2 of 2 in 10.36\n",
      "Did prepro part 3 of 2 in 0.04\n",
      "Merged Users of 2 in 22.74\n",
      "Extracted TE of 2 in 12.74\n",
      "Finished Batch Nr. 2 from file part-00038.tsv in 69.70s!\n",
      "Loaded Batch Nr. 3 in 20.18\n",
      "Timestamp Filtered Batch Nr. 3 in 0.39\n",
      "Did prepro part 1 of 3 in 0.22\n",
      "Did prepro part 2 of 3 in 10.88\n",
      "Did prepro part 3 of 3 in 0.04\n",
      "Merged Users of 3 in 24.62\n",
      "Extracted TE of 3 in 13.11\n",
      "Finished Batch Nr. 3 from file part-00151.tsv in 71.98s!\n"
     ]
    }
   ],
   "source": [
    "res = recsysxgb.evaluate_validation_set(dl)"
   ]
  },
  {
   "cell_type": "code",
   "execution_count": 5,
   "metadata": {},
   "outputs": [
    {
     "output_type": "stream",
     "name": "stdout",
     "text": [
      "Q1_reply_rce                    : 31.965043874533517\nQ1_retweet_rce                  : 37.19519389850131\nQ1_retweet_comment_rce          : -6.613239380417002\nQ1_like_rce                     : 38.690061700877095\nQ1_reply_avg_prec               : 0.46727806000774486\nQ1_retweet_avg_prec             : 0.601238406188639\nQ1_retweet_comment_avg_prec     : 0.2244352033494541\nQ1_like_avg_prec                : 0.842852978835866\nQ2_reply_rce                    : 21.181695912925434\nQ2_retweet_rce                  : 28.63620842474095\nQ2_retweet_comment_rce          : -19.73141715700617\nQ2_like_rce                     : 30.576676249946388\nQ2_reply_avg_prec               : 0.3657215431893473\nQ2_retweet_avg_prec             : 0.5112469616250706\nQ2_retweet_comment_avg_prec     : 0.14863262523337073\nQ2_like_avg_prec                : 0.7910485712599772\nQ3_reply_rce                    : 12.699308295528123\nQ3_retweet_rce                  : 21.819434032414275\nQ3_retweet_comment_rce          : -28.114804284076534\nQ3_like_rce                     : 26.017084979666073\nQ3_reply_avg_prec               : 0.3106553060188935\nQ3_retweet_avg_prec             : 0.4661501167522156\nQ3_retweet_comment_avg_prec     : 0.1122619303666215\nQ3_like_avg_prec                : 0.7670970064996843\nQ4_reply_rce                    : 10.53779620246611\nQ4_retweet_rce                  : 20.740701415611053\nQ4_retweet_comment_rce          : -31.822722737827625\nQ4_like_rce                     : 24.320750315098994\nQ4_reply_avg_prec               : 0.25958738163312806\nQ4_retweet_avg_prec             : 0.44443072989384513\nQ4_retweet_comment_avg_prec     : 0.09045129765103344\nQ4_like_avg_prec                : 0.7471627632383931\nQ5_reply_rce                    : 2.4489201043925823\nQ5_retweet_rce                  : 15.606391941903608\nQ5_retweet_comment_rce          : -40.67886260424585\nQ5_like_rce                     : 19.920136679013677\nQ5_reply_avg_prec               : 0.18860366593847436\nQ5_retweet_avg_prec             : 0.35570542354613377\nQ5_retweet_comment_avg_prec     : 0.07320439783778832\nQ5_like_avg_prec                : 0.7004830058566343\nTOTAL_reply_rce                 : 15.766552877969156\nTOTAL_retweet_rce               : 24.79958594263424\nTOTAL_retweet_comment_rce       : -25.392209232714638\nTOTAL_like_rce                  : 27.90494198492044\nTOTAL_reply_avg_prec            : 0.3183691913575176\nTOTAL_retweet_avg_prec          : 0.4757543276011808\nTOTAL_retweet_comment_avg_prec  : 0.12979709088765362\nTOTAL_like_avg_prec             : 0.7697288651381109\n"
     ]
    }
   ],
   "source": [
    "for key in res:\n",
    "    print(f\"{key:32}: {res[key]}\")"
   ]
  },
  {
   "cell_type": "code",
   "execution_count": 5,
   "metadata": {},
   "outputs": [
    {
     "output_type": "execute_result",
     "data": {
      "text/plain": [
       "{'type_encoding': 61.62220535634151,\n",
       " 'a_follows_b': 46.650430013040015,\n",
       " 'TE_reply_b_B': 37.44942618886715,\n",
       " 'n_reply_b_B': 23.095458300374673,\n",
       " 'TE_reply_a_A': 22.246823007659398,\n",
       " 'TE_retweet_comment_a_Quote_B': 20.542540637438734,\n",
       " 'n_reply_a_A': 18.34867954385838,\n",
       " 'TE_reply_b_TopLevel_B': 14.378844105746493,\n",
       " 'n_like_b_B': 14.172060342488278,\n",
       " 'n_reply_b_TopLevel_B': 13.956302263336331,\n",
       " 'n_retweet_comment_b_Quote_B': 13.947119664857142,\n",
       " 'TE_reply_a_TopLevel_A': 13.631062231180488,\n",
       " 'n_reply_b_Quote_B': 13.437879992250243,\n",
       " 'n_retweet_comment_a_Quote_B': 13.342948623333335,\n",
       " 'TE_like_b_Quote_A': 13.217098923865748,\n",
       " 'TE_reply_b_Retweet_B': 12.908840923630692,\n",
       " 'n_present_a_A': 12.234450315147056,\n",
       " 'n_retweet_b_Quote_A': 12.091599398267604,\n",
       " 'n_retweet_a_Retweet_B': 12.080321862633584,\n",
       " 'n_retweet_comment_a_B': 12.050153463317075,\n",
       " 'TE_retweet_a_Quote_B': 11.95957932136457,\n",
       " 'n_like_b_TopLevel_B': 11.939778022310408,\n",
       " 'n_retweet_comment_b_TopLevel_A': 11.923213499012984,\n",
       " 'TE_like_b_TopLevel_A': 11.91140970256351,\n",
       " 'n_like_a_Quote_B': 11.885653833674759,\n",
       " 'n_retweet_comment_a_Retweet_B': 11.809089432852458,\n",
       " 'n_retweet_comment_b_B': 11.800409679138658,\n",
       " 'TE_like_b_TopLevel_B': 11.625070703236148,\n",
       " 'n_reply_a_TopLevel_A': 11.5387473814381,\n",
       " 'n_present_a_Quote_B': 11.507112546242935,\n",
       " 'n_present_b_B': 11.41626264999379,\n",
       " 'TE_retweet_a_TopLevel_B': 11.411213243971979,\n",
       " 'n_reply_a_B': 11.35879414072656,\n",
       " 'n_like_a_TopLevel_A': 11.317590006308066,\n",
       " 'n_retweet_comment_b_TopLevel_B': 11.316130890327273,\n",
       " 'TE_like_b_Retweet_A': 11.211130209534844,\n",
       " 'n_reply_b_Retweet_B': 11.109808359580084,\n",
       " 'n_reply_b_A': 11.106685816153847,\n",
       " 'n_reply_a_Retweet_B': 11.078610961110128,\n",
       " 'n_present_b_Retweet_A': 11.028963605140943,\n",
       " 'n_retweet_a_Quote_B': 10.898931555448716,\n",
       " 'n_retweet_b_B': 10.829860100261635,\n",
       " 'n_retweet_comment_b_Quote_A': 10.778859620999999,\n",
       " 'n_reply_a_TopLevel_B': 10.746641791486669,\n",
       " 'b_is_verified': 10.700890085000001,\n",
       " 'n_retweet_a_B': 10.69841866536802,\n",
       " 'TE_retweet_comment_b_Retweet_A': 10.694561635477429,\n",
       " 'n_present_a_TopLevel_A': 10.686116306187836,\n",
       " 'n_reply_b_Quote_A': 10.658247643166668,\n",
       " 'n_retweet_comment_b_Retweet_A': 10.650300501606061,\n",
       " 'n_retweet_comment_b_A': 10.572414044872136,\n",
       " 'n_retweet_b_Retweet_B': 10.571858518229442,\n",
       " 'TE_reply_b_Quote_B': 10.568843390367867,\n",
       " 'TE_like_b_B': 10.520127339859107,\n",
       " 'n_retweet_comment_a_TopLevel_B': 10.516858371983604,\n",
       " 'TE_reply_a_Quote_A': 10.512085605580186,\n",
       " 'n_reply_b_Retweet_A': 10.41011552997561,\n",
       " 'TE_like_b_Quote_B': 10.396980649274393,\n",
       " 'n_retweet_b_Retweet_A': 10.3900861130625,\n",
       " 'n_retweet_a_TopLevel_B': 10.34732996058278,\n",
       " 'n_like_a_TopLevel_B': 10.31968751866667,\n",
       " 'TE_reply_b_A': 10.315985857926632,\n",
       " 'n_retweet_a_Retweet_A': 10.288377662577776,\n",
       " 'n_present_b_Quote_A': 10.284427075716666,\n",
       " 'TE_retweet_comment_b_Quote_B': 10.281998765982637,\n",
       " 'n_present_a_Retweet_B': 10.244705340861605,\n",
       " 'TE_like_a_Quote_B': 10.234717997730117,\n",
       " 'n_retweet_b_Quote_B': 10.218220674687023,\n",
       " 'n_reply_a_Quote_A': 10.19759961681062,\n",
       " 'n_present_b_Retweet_B': 10.171602217694929,\n",
       " 'TE_reply_a_Retweet_B': 10.106510484238925,\n",
       " 'TE_retweet_comment_a_Retweet_A': 10.071090270095285,\n",
       " 'TE_reply_a_Retweet_A': 10.01694402480586,\n",
       " 'TE_retweet_comment_b_TopLevel_B': 10.01110479763185,\n",
       " 'n_like_a_A': 9.994739948190244,\n",
       " 'n_like_a_B': 9.988900100465816,\n",
       " 'TE_retweet_comment_b_B': 9.952973767616106,\n",
       " 'TE_like_a_B': 9.951754357129365,\n",
       " 'TE_retweet_b_TopLevel_B': 9.942485459515208,\n",
       " 'TE_retweet_b_Quote_B': 9.93077200068421,\n",
       " 'TE_retweet_comment_a_B': 9.921333699679069,\n",
       " 'n_retweet_comment_a_A': 9.894820459739027,\n",
       " 'TE_reply_a_Quote_B': 9.86078107882448,\n",
       " 'TE_like_b_Retweet_B': 9.85922527690825,\n",
       " 'n_gifs': 9.833322344,\n",
       " 'n_reply_a_Retweet_A': 9.806635021284677,\n",
       " 'TE_retweet_b_TopLevel_A': 9.794012933083286,\n",
       " 'n_reply_a_Quote_B': 9.734899458581332,\n",
       " 'n_like_a_Retweet_B': 9.715464342056432,\n",
       " 'n_present_b_A': 9.699668737143837,\n",
       " 'TE_retweet_b_B': 9.665801777289538,\n",
       " 'TE_retweet_a_Quote_A': 9.641185259804166,\n",
       " 'TE_retweet_a_A': 9.64008485662124,\n",
       " 'n_retweet_b_TopLevel_B': 9.612313870129112,\n",
       " 'TE_retweet_comment_a_Quote_A': 9.588114548301993,\n",
       " 'TE_retweet_comment_a_TopLevel_B': 9.581836431559058,\n",
       " 'TE_like_a_TopLevel_A': 9.566166690049423,\n",
       " 'n_retweet_b_A': 9.557832520790475,\n",
       " 'TE_reply_b_TopLevel_A': 9.557421498906976,\n",
       " 'TE_like_a_Retweet_B': 9.550422534203003,\n",
       " 'TE_like_b_A': 9.54376087805999,\n",
       " 'TE_retweet_a_Retweet_A': 9.529302198629638,\n",
       " 'TE_retweet_comment_a_Retweet_B': 9.496018570349593,\n",
       " 'n_like_b_Retweet_A': 9.491625242804512,\n",
       " 'n_like_b_Quote_A': 9.490014735877352,\n",
       " 'TE_like_a_TopLevel_B': 9.475687489060222,\n",
       " 'n_like_b_A': 9.437924488064997,\n",
       " 'n_present_a_B': 9.426004253979842,\n",
       " 'TE_retweet_b_Quote_A': 9.40967748965104,\n",
       " 'n_like_b_Retweet_B': 9.40717038683415,\n",
       " 'n_present_b_TopLevel_B': 9.396199357427632,\n",
       " 'TE_retweet_comment_a_A': 9.390962472071624,\n",
       " 'n_retweet_comment_b_Retweet_B': 9.348248940567904,\n",
       " 'TE_reply_a_TopLevel_B': 9.336675084406375,\n",
       " 'TE_reply_a_B': 9.334978030554547,\n",
       " 'TE_like_a_Quote_A': 9.325247640655673,\n",
       " 'TE_reply_b_Quote_A': 9.324194639803489,\n",
       " 'n_present_a_Quote_A': 9.304783188869203,\n",
       " 'n_retweet_comment_a_TopLevel_A': 9.297397247388352,\n",
       " 'TE_retweet_comment_b_Quote_A': 9.282273897520833,\n",
       " 'TE_retweet_comment_a_TopLevel_A': 9.252419602013932,\n",
       " 'n_retweet_comment_a_Retweet_A': 9.251718497014927,\n",
       " 'n_retweet_a_TopLevel_A': 9.240189605625467,\n",
       " 'n_like_b_TopLevel_A': 9.216387283243996,\n",
       " 'TE_like_a_A': 9.193905341661072,\n",
       " 'TE_retweet_b_Retweet_B': 9.16634884239235,\n",
       " 'TE_retweet_a_Retweet_B': 9.140517042645577,\n",
       " 'TE_retweet_a_B': 9.139315584593405,\n",
       " 'n_present_a_TopLevel_B': 9.102325301495757,\n",
       " 'TE_retweet_comment_b_Retweet_B': 9.102066371420955,\n",
       " 'n_present_b_Quote_B': 9.098838841124488,\n",
       " 'n_present_b_TopLevel_A': 9.09797570412102,\n",
       " 'TE_retweet_b_Retweet_A': 9.083053436468093,\n",
       " 'n_like_b_Quote_B': 9.054611208815382,\n",
       " 'n_retweet_comment_a_Quote_A': 9.042875564631577,\n",
       " 'n_like_a_Retweet_A': 9.031040782970152,\n",
       " 'TE_retweet_comment_b_A': 9.02509593211568,\n",
       " 'n_retweet_a_Quote_A': 8.958594173950981,\n",
       " 'TE_like_a_Retweet_A': 8.954379707793418,\n",
       " 'a_is_verified': 8.945538792499999,\n",
       " 'n_retweet_b_TopLevel_A': 8.941672501471906,\n",
       " 'n_present_a_Retweet_A': 8.865087360374076,\n",
       " 'TE_retweet_b_A': 8.837244658623135,\n",
       " 'n_retweet_a_A': 8.826174234471699,\n",
       " 'n_reply_b_TopLevel_A': 8.825681997567887,\n",
       " 'a_follower_count': 8.809663774649875,\n",
       " 'TE_retweet_a_TopLevel_A': 8.808018815020507,\n",
       " 'TE_retweet_comment_b_TopLevel_A': 8.722043368134614,\n",
       " 'language_encoding': 8.60196182759785,\n",
       " 'TE_reply_b_Retweet_A': 8.313772842402264,\n",
       " 'a_following_count': 8.241031566933584,\n",
       " 'a_creation_delta': 8.0976254643049,\n",
       " 'b_creation_delta': 8.069898254892955,\n",
       " 'n_like_a_Quote_A': 8.047536058123809,\n",
       " 'bert_token_len': 8.046622833491947,\n",
       " 'b_following_count': 7.992772093969532,\n",
       " 'a_b_creation_delta': 7.8655968323820025,\n",
       " 'b_follower_count': 7.847332736741179,\n",
       " 'n_photos': 7.430224957421451,\n",
       " 'day_of_week': 7.002200075758721,\n",
       " 'hour_of_day': 6.990859195636737,\n",
       " 'n_videos': 6.601084773266667}"
      ]
     },
     "metadata": {},
     "execution_count": 5
    }
   ],
   "source": [
    "dict(sorted(recsysxgb.clfs_[\"has_reply\"].get_score(importance_type='gain').items(), key=lambda item: item[1], reverse=True))"
   ]
  },
  {
   "source": [
    "## Try sample test run"
   ],
   "cell_type": "markdown",
   "metadata": {}
  },
  {
   "cell_type": "code",
   "execution_count": 22,
   "metadata": {},
   "outputs": [
    {
     "output_type": "stream",
     "name": "stdout",
     "text": [
      "Loaded Batch Nr. 1 in 20.16\n",
      "Timestamp Filtered Batch Nr. 1 in 0.41\n",
      "Did prepro part 1 of 1 in 0.27\n",
      "Did prepro part 2 of 1 in 10.67\n",
      "Did prepro part 3 of 1 in 0.05\n",
      "Merged Users of 1 in 23.01\n",
      "Extracted TE of 1 in 13.02\n",
      "Finished Batch Nr. 1 from file part-00073.tsv in 70.12s!\n"
     ]
    }
   ],
   "source": [
    "out = next(iter(dl))"
   ]
  },
  {
   "cell_type": "code",
   "execution_count": 26,
   "metadata": {},
   "outputs": [],
   "source": [
    "pred = recsysxgb.infer(out[0])"
   ]
  },
  {
   "cell_type": "code",
   "execution_count": 37,
   "metadata": {},
   "outputs": [
    {
     "output_type": "execute_result",
     "data": {
      "text/plain": [
       "5.9604645e-08"
      ]
     },
     "metadata": {},
     "execution_count": 37
    }
   ],
   "source": [
    "(((pred[3]-0.5)*0.9999999)+0.5).min()"
   ]
  },
  {
   "source": [
    "## Testing Custom batch sizes"
   ],
   "cell_type": "markdown",
   "metadata": {}
  },
  {
   "cell_type": "code",
   "execution_count": 1,
   "metadata": {},
   "outputs": [],
   "source": [
    "from utils import dataloader\n",
    "from utils import dataloader\n",
    "import utils.model\n",
    "from datetime import datetime\n",
    "from os.path import join\n",
    "\n",
    "filter_timestamp = None#int(datetime(2021, 2, 19, 0).timestamp())\n",
    "use_user_index = join(\"indices\",\"user_index.parquet\")#\"train_user_index.parquet\"\n",
    "csv_data_location = join(\"data\",\"test_files\")\n",
    "model_save_location = join(\"saved_models\",\"xgb_models_06_submission\")"
   ]
  },
  {
   "cell_type": "code",
   "execution_count": 2,
   "metadata": {},
   "outputs": [],
   "source": [
    "dl = dataloader.RecSys2021TSVDataLoader(csv_data_location, use_user_index, mode=\"test\", filter_timestamp=filter_timestamp, load_n_batches=-1, batch_size=1000000, verbose=2, random_file_sampling=True)"
   ]
  },
  {
   "cell_type": "code",
   "execution_count": 3,
   "metadata": {},
   "outputs": [
    {
     "output_type": "stream",
     "name": "stdout",
     "text": [
      "just one\n",
      "1000000\n",
      "Loaded Batch Nr. 1 in 6.10\n",
      "Timestamp Filtered Batch Nr. 1 in 0.00\n",
      "Did prepro part 1 of 1 in 0.20\n",
      "Did prepro part 2 of 1 in 11.80\n",
      "Did prepro part 3 of 1 in 0.05\n",
      "Merged Users of 1 in 21.76\n",
      "Extracted TE of 1 in 3.21\n",
      "Finished Batch Nr. 1 from file part-00003.csv in 45.47s!\n",
      "just one\n",
      "1000000\n",
      "Loaded Batch Nr. 2 in 7.32\n",
      "Timestamp Filtered Batch Nr. 2 in 0.00\n",
      "Did prepro part 1 of 2 in 0.20\n",
      "Did prepro part 2 of 2 in 11.87\n",
      "Did prepro part 3 of 2 in 0.05\n",
      "Merged Users of 2 in 22.05\n",
      "Extracted TE of 2 in 3.20\n",
      "Finished Batch Nr. 2 from file part-00003.csv in 47.02s!\n",
      "just one\n",
      "1000000\n",
      "Loaded Batch Nr. 3 in 8.79\n",
      "Timestamp Filtered Batch Nr. 3 in 0.00\n",
      "Did prepro part 1 of 3 in 0.20\n",
      "Did prepro part 2 of 3 in 11.85\n",
      "Did prepro part 3 of 3 in 0.05\n",
      "Merged Users of 3 in 22.73\n",
      "Extracted TE of 3 in 3.20\n",
      "Finished Batch Nr. 3 from file part-00003.csv in 49.16s!\n",
      "more than one 1000000\n",
      "1000000\n",
      "Loaded Batch Nr. 4 in 12.99\n",
      "Timestamp Filtered Batch Nr. 4 in 0.00\n",
      "Did prepro part 1 of 4 in 0.20\n",
      "Did prepro part 2 of 4 in 11.84\n",
      "Did prepro part 3 of 4 in 0.05\n",
      "Merged Users of 4 in 20.62\n",
      "Extracted TE of 4 in 3.22\n",
      "Finished Batch Nr. 4 from file part-00002.csv in 51.52s!\n",
      "just one\n",
      "1000000\n",
      "Loaded Batch Nr. 5 in 9.31\n",
      "Timestamp Filtered Batch Nr. 5 in 0.00\n",
      "Did prepro part 1 of 5 in 0.20\n",
      "Did prepro part 2 of 5 in 11.78\n",
      "Did prepro part 3 of 5 in 0.05\n",
      "Merged Users of 5 in 21.59\n",
      "Extracted TE of 5 in 3.18\n",
      "Finished Batch Nr. 5 from file part-00002.csv in 48.45s!\n",
      "just one\n",
      "1000000\n",
      "Loaded Batch Nr. 6 in 10.75\n",
      "Timestamp Filtered Batch Nr. 6 in 0.00\n",
      "Did prepro part 1 of 6 in 0.20\n",
      "Did prepro part 2 of 6 in 11.86\n",
      "Did prepro part 3 of 6 in 0.05\n",
      "Merged Users of 6 in 21.92\n",
      "Extracted TE of 6 in 3.19\n",
      "Finished Batch Nr. 6 from file part-00002.csv in 50.29s!\n",
      "just one\n",
      "21788\n",
      "Loaded Batch Nr. 7 in 5.44\n",
      "Timestamp Filtered Batch Nr. 7 in 0.00\n",
      "Did prepro part 1 of 7 in 0.01\n",
      "Did prepro part 2 of 7 in 0.26\n",
      "Did prepro part 3 of 7 in 0.00\n",
      "Merged Users of 7 in 20.21\n",
      "Extracted TE of 7 in 3.00\n",
      "Finished Batch Nr. 7 from file part-00002.csv in 29.01s!\n"
     ]
    }
   ],
   "source": [
    "r = [a[1] for a in dl]"
   ]
  },
  {
   "cell_type": "code",
   "execution_count": 4,
   "metadata": {},
   "outputs": [
    {
     "output_type": "stream",
     "name": "stdout",
     "text": [
      "1000000\n1000000\n1000000\n1000000\n1000000\n1000000\n21788\n"
     ]
    }
   ],
   "source": [
    "for df in r:\n",
    "    print(len(df))"
   ]
  },
  {
   "cell_type": "code",
   "execution_count": 17,
   "metadata": {},
   "outputs": [],
   "source": [
    "import utils.features as fe\n",
    "import utils.constants as co\n",
    "import pandas as pd\n",
    "import numpy as np"
   ]
  },
  {
   "cell_type": "code",
   "execution_count": 12,
   "metadata": {},
   "outputs": [],
   "source": [
    "current_file = pd.read_csv(\n",
    "                \"data/test_files/part-00002.csv\",\n",
    "                sep='\\x01',\n",
    "                header=None,\n",
    "                names=co.all_features,\n",
    "                dtype={k: v for k, v in co.dtypes_of_features.items() if k in co.all_features}\n",
    "            )"
   ]
  },
  {
   "cell_type": "code",
   "execution_count": 14,
   "metadata": {},
   "outputs": [],
   "source": [
    "current_file[\"medias\"] = current_file[\"medias\"].fillna(\"\")\n",
    "current_file[\"hashtags\"] = current_file[\"hashtags\"].fillna(\"\")\n",
    "current_file[\"links\"] = current_file[\"links\"].fillna(\"\")\n",
    "current_file[\"domains\"] = current_file[\"domains\"].fillna(\"\")\n",
    "current_file[\"medias\"] = current_file[\"medias\"].fillna(\"\")"
   ]
  },
  {
   "cell_type": "code",
   "execution_count": 27,
   "metadata": {},
   "outputs": [
    {
     "output_type": "execute_result",
     "data": {
      "text/plain": [
       "{-0.9502129554748535, 1.0, 2.0, 3.0, 4.000000476837158, 5.0, 7.0}"
      ]
     },
     "metadata": {},
     "execution_count": 27
    }
   ],
   "source": [
    "import numpy as np\n",
    "set(np.exp(train_data[\"n_gifs\"]+ train_data[\"n_photos\"] +train_data[\"n_videos\"])-1)"
   ]
  },
  {
   "source": [
    "# Other"
   ],
   "cell_type": "markdown",
   "metadata": {}
  },
  {
   "cell_type": "code",
   "execution_count": 1,
   "metadata": {},
   "outputs": [],
   "source": [
    "from utils import dataloader\n",
    "import utils.model\n",
    "from datetime import datetime\n",
    "from os.path import join\n",
    "from importlib import reload\n",
    "import torch\n",
    "\n",
    "filter_timestamp = int(datetime(2021, 2, 19, 0).timestamp())\n",
    "use_user_index = join(\"indices\",\"train_user_index_w_type.parquet\")#\"train_user_index.parquet\"\n",
    "csv_data_location = join(\"data\",\"downloaded_data\")\n",
    "model_save_location = join(\"saved_models\",\"xgb_models_17_long_training\")"
   ]
  },
  {
   "cell_type": "code",
   "execution_count": 2,
   "metadata": {},
   "outputs": [
    {
     "output_type": "stream",
     "name": "stdout",
     "text": [
      "Loading User Index\n",
      "Randomly keeping only 50.0% of the users.\n",
      "Removing day counts\n",
      "Extracting combined user counts\n",
      "Created Dataloader in 21.51 seconds!\n"
     ]
    }
   ],
   "source": [
    "dl = dataloader.RecSys2021TSVDataLoader(\n",
    "    csv_data_location, \n",
    "    use_user_index, \n",
    "    mode=\"train\", \n",
    "    filter_timestamp=filter_timestamp, \n",
    "    verbose=2, \n",
    "    remove_day_counts=True, \n",
    "    keep_user_percent=0.5, \n",
    "    batch_size = 100000,\n",
    "    minibatches_size = 64,\n",
    "    load_n_batches = 2,\n",
    "    normalize_batch = True\n",
    "    )"
   ]
  },
  {
   "cell_type": "code",
   "execution_count": 3,
   "metadata": {},
   "outputs": [],
   "source": [
    "nn = utils.model.RecSysNeural1(\"saved_models/nn1\",166).to(\"cuda\")"
   ]
  },
  {
   "cell_type": "code",
   "execution_count": 4,
   "metadata": {},
   "outputs": [
    {
     "output_type": "stream",
     "name": "stdout",
     "text": [
      "Loaded Batch Nr. 1 in 0.53\n",
      "Timestamp Filtered Batch Nr. 1 in 0.02\n",
      "Did prepro part 1 of 1 in 0.02\n",
      "Did prepro part 2 of 1 in 1.00\n",
      "Did prepro part 3 of 1 in 0.01\n",
      "Merged Users of 1 in 8.74\n",
      "Extracted TE of 1 in 5.33\n",
      "Finished Batch Nr. 1 from file part-00000.tsv in 15.91s!\n",
      "Loaded Batch Nr. 2 in 1.33\n",
      "Timestamp Filtered Batch Nr. 2 in 0.02\n",
      "Did prepro part 1 of 2 in 0.02\n",
      "Did prepro part 2 of 2 in 1.00\n",
      "Did prepro part 3 of 2 in 0.01\n",
      "Merged Users of 2 in 8.78\n",
      "Extracted TE of 2 in 5.30\n",
      "Finished Batch Nr. 2 from file part-00000.tsv in 16.72s!\n"
     ]
    }
   ],
   "source": [
    "nn.fit(dl, 1)"
   ]
  },
  {
   "cell_type": "code",
   "execution_count": 6,
   "metadata": {},
   "outputs": [
    {
     "output_type": "stream",
     "name": "stdout",
     "text": [
      "Loading User Index\n",
      "Removing day counts\n",
      "Extracting combined user counts\n",
      "Created Dataloader in 8.69 seconds!\n",
      "Loaded Batch Nr. 1 in 0.52\n",
      "Timestamp Filtered Batch Nr. 1 in 0.02\n",
      "Did prepro part 1 of 1 in 0.01\n",
      "Did prepro part 2 of 1 in 0.39\n",
      "Did prepro part 3 of 1 in 0.00\n",
      "Merged Users of 1 in 19.52\n",
      "Extracted TE of 1 in 10.67\n",
      "Finished Batch Nr. 1 from file part-00000.tsv in 31.25s!\n"
     ]
    },
    {
     "output_type": "execute_result",
     "data": {
      "text/plain": [
       "{'Q1_reply_rce': 8.68125501103274,\n",
       " 'Q1_retweet_rce': 3.400062978361129,\n",
       " 'Q1_retweet_comment_rce': -44.404965645466746,\n",
       " 'Q1_like_rce': 8.125657632640237,\n",
       " 'Q1_reply_avg_prec': 0.1315984137720102,\n",
       " 'Q1_retweet_avg_prec': 0.3321852703862555,\n",
       " 'Q1_retweet_comment_avg_prec': 0.004715542128430863,\n",
       " 'Q1_like_avg_prec': 0.6609896239976686,\n",
       " 'Q2_reply_rce': 12.13713074310232,\n",
       " 'Q2_retweet_rce': 8.197141367376236,\n",
       " 'Q2_retweet_comment_rce': -33.55661430274217,\n",
       " 'Q2_like_rce': 12.078644737768263,\n",
       " 'Q2_reply_avg_prec': 0.14269045272667516,\n",
       " 'Q2_retweet_avg_prec': 0.3180733598775403,\n",
       " 'Q2_retweet_comment_avg_prec': 0.013366630634222066,\n",
       " 'Q2_like_avg_prec': 0.6636784282153383,\n",
       " 'Q3_reply_rce': 12.486972645735438,\n",
       " 'Q3_retweet_rce': 9.905978649974767,\n",
       " 'Q3_retweet_comment_rce': -18.88081583461232,\n",
       " 'Q3_like_rce': 14.159144487434638,\n",
       " 'Q3_reply_avg_prec': 0.1476714204382969,\n",
       " 'Q3_retweet_avg_prec': 0.3590855036125054,\n",
       " 'Q3_retweet_comment_avg_prec': 0.008938643475619129,\n",
       " 'Q3_like_avg_prec': 0.6547479574509623,\n",
       " 'Q4_reply_rce': 12.578172885739603,\n",
       " 'Q4_retweet_rce': 7.717502053360281,\n",
       " 'Q4_retweet_comment_rce': -28.777186689168623,\n",
       " 'Q4_like_rce': 14.055821254079515,\n",
       " 'Q4_reply_avg_prec': 0.15650480335955083,\n",
       " 'Q4_retweet_avg_prec': 0.38284587564569095,\n",
       " 'Q4_retweet_comment_avg_prec': 0.006346940747315674,\n",
       " 'Q4_like_avg_prec': 0.663653364862925,\n",
       " 'Q5_reply_rce': 1.000196124993824,\n",
       " 'Q5_retweet_rce': 5.130414253504123,\n",
       " 'Q5_retweet_comment_rce': -30.289329998355583,\n",
       " 'Q5_like_rce': 14.139749863811435,\n",
       " 'Q5_reply_avg_prec': 0.050071880018609856,\n",
       " 'Q5_retweet_avg_prec': 0.2843331815040057,\n",
       " 'Q5_retweet_comment_avg_prec': 0.009070565994772774,\n",
       " 'Q5_like_avg_prec': 0.657047497135478,\n",
       " 'TOTAL_reply_rce': 9.376745482120786,\n",
       " 'TOTAL_retweet_rce': 6.8702198605153075,\n",
       " 'TOTAL_retweet_comment_rce': -31.181782494069086,\n",
       " 'TOTAL_like_rce': 12.511803595146816,\n",
       " 'TOTAL_reply_avg_prec': 0.12570739406302858,\n",
       " 'TOTAL_retweet_avg_prec': 0.33530463820519957,\n",
       " 'TOTAL_retweet_comment_avg_prec': 0.008487664596072102,\n",
       " 'TOTAL_like_avg_prec': 0.6600233743324744}"
      ]
     },
     "metadata": {},
     "execution_count": 6
    }
   ],
   "source": [
    "dl = dataloader.RecSys2021TSVDataLoader(\n",
    "    csv_data_location, \n",
    "    use_user_index, \n",
    "    mode=\"val\", \n",
    "    filter_timestamp=filter_timestamp, \n",
    "    verbose=2,\n",
    "    remove_day_counts=True, \n",
    "    keep_user_percent=1, \n",
    "    batch_size = 100000,\n",
    "    minibatches_size = 64,\n",
    "    load_n_batches = 1,\n",
    "    normalize_batch = True\n",
    ")\n",
    "\n",
    "nn.evaluate_validation_set(dl)"
   ]
  },
  {
   "cell_type": "code",
   "execution_count": null,
   "metadata": {},
   "outputs": [],
   "source": []
  }
 ]
}