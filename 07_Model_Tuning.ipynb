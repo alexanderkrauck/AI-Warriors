{
 "metadata": {
  "language_info": {
   "codemirror_mode": {
    "name": "ipython",
    "version": 3
   },
   "file_extension": ".py",
   "mimetype": "text/x-python",
   "name": "python",
   "nbconvert_exporter": "python",
   "pygments_lexer": "ipython3",
   "version": "3.9.5"
  },
  "orig_nbformat": 2,
  "kernelspec": {
   "name": "python3",
   "display_name": "Python 3.9.5 64-bit ('m1': conda)"
  },
  "metadata": {
   "interpreter": {
    "hash": "3b92691d56bfc9d5af752bc6654e963678e4150a6c1b95c958d07e2434145127"
   }
  },
  "interpreter": {
   "hash": "3b92691d56bfc9d5af752bc6654e963678e4150a6c1b95c958d07e2434145127"
  }
 },
 "nbformat": 4,
 "nbformat_minor": 2,
 "cells": [
  {
   "source": [
    "## Train the model"
   ],
   "cell_type": "markdown",
   "metadata": {}
  },
  {
   "cell_type": "code",
   "execution_count": 1,
   "metadata": {},
   "outputs": [],
   "source": [
    "from utils import dataloader\n",
    "import utils.model\n",
    "from datetime import datetime\n",
    "from os.path import join\n",
    "from importlib import reload\n",
    "\n",
    "method_name = \"28_normal_noise_fixed_ratios\"\n",
    "filter_timestamp = None#int(datetime(2021, 2, 19, 0).timestamp())\n",
    "use_user_index = join(\"indices\",\"user_index_w_type.parquet\")#\"train_user_index.parquet\"\n",
    "csv_data_location = join(\"data\",\"downloaded_data\")\n",
    "model_save_location = join(\"saved_models\",\"xgb_models_\"+method_name)\n",
    "result_logfile = join(\"logs\",\"3batches_results.txt\")"
   ]
  },
  {
   "cell_type": "code",
   "execution_count": 2,
   "metadata": {},
   "outputs": [
    {
     "output_type": "stream",
     "name": "stdout",
     "text": [
      "Loading User Index\n",
      "Randomly keeping only 98.0% of the users.\n",
      "Removing day counts\n",
      "Extracting combined user counts\n",
      "Created Dataloader in 45.63 seconds!\n"
     ]
    }
   ],
   "source": [
    "dl = dataloader.RecSys2021TSVDataLoader(\n",
    "    csv_data_location, \n",
    "    use_user_index, \n",
    "    mode=\"train\", \n",
    "    filter_timestamp=filter_timestamp, \n",
    "    verbose=2, \n",
    "    remove_day_counts=True, \n",
    "    keep_user_percent=0.98, \n",
    "    batch_size = 1500000,\n",
    "    load_n_batches = 1,\n",
    "    TE_smoothing = {\"reply\":50, \"like\":50, \"retweet\":50, \"retweet_comment\":50},\n",
    "    remove_user_counts=True,\n",
    "    add_normal_TE_noise_std= 0.1\n",
    "    )"
   ]
  },
  {
   "cell_type": "code",
   "execution_count": 3,
   "metadata": {},
   "outputs": [],
   "source": [
    "recsysxgb = utils.model.RecSysXGB1(model_dir = model_save_location)\n",
    "xgb_params = {'objective': 'binary:logistic', 'eval_metric':'logloss', 'max_depth':8, \"max_delta_step\":5}"
   ]
  },
  {
   "cell_type": "code",
   "execution_count": 4,
   "metadata": {},
   "outputs": [
    {
     "output_type": "stream",
     "name": "stdout",
     "text": [
      "Loaded Batch Nr. 1 in 11.08\n",
      "Timestamp Filtered Batch Nr. 1 in 0.00\n",
      "Did prepro part 1 of 1 in 0.35\n",
      "Did prepro part 2 of 1 in 18.04\n",
      "Did prepro part 3 of 1 in 0.11\n",
      "Merged Users of 1 in 24.85\n",
      "Extracted TE of 1 in 18.65\n",
      "Finished Batch Nr. 1 from file part-00000.tsv in 76.20s!\n",
      "Finished 1 epochs.\n",
      "CPU times: user 1h 29min 13s, sys: 45.3 s, total: 1h 29min 58s\n",
      "Wall time: 13min 42s\n"
     ]
    }
   ],
   "source": [
    "%%time\n",
    "recsysxgb.fit(\n",
    "    train_loader= dl,\n",
    "    xgb_parameters = xgb_params,\n",
    "    boost_rounds_per_iteration = 20,\n",
    "    verbose = 1,\n",
    "    n_epochs = 1\n",
    ")"
   ]
  },
  {
   "source": [
    "## Evaluate the model"
   ],
   "cell_type": "markdown",
   "metadata": {}
  },
  {
   "cell_type": "code",
   "execution_count": 5,
   "metadata": {},
   "outputs": [
    {
     "output_type": "stream",
     "name": "stdout",
     "text": [
      "Loading User Index\n",
      "Removing day counts\n",
      "Extracting combined user counts\n",
      "Created Dataloader in 11.66 seconds!\n"
     ]
    }
   ],
   "source": [
    "recsysxgb = utils.model.RecSysXGB1(model_save_location)\n",
    "val_data_location = join(\"data\",\"validation_data\")\n",
    "\n",
    "dl = dataloader.RecSys2021TSVDataLoader(\n",
    "    data_directory = val_data_location, \n",
    "    user_index_location = use_user_index,\n",
    "    mode=\"val\", \n",
    "    filter_timestamp=filter_timestamp, \n",
    "    verbose=2, \n",
    "    random_file_sampling=False, \n",
    "    load_n_batches=3, \n",
    "    remove_day_counts=True,\n",
    "    batch_size = 1000000,\n",
    "    keep_user_percent=1,\n",
    "    remove_user_counts=True\n",
    ")"
   ]
  },
  {
   "cell_type": "code",
   "execution_count": 6,
   "metadata": {},
   "outputs": [
    {
     "output_type": "stream",
     "name": "stdout",
     "text": [
      "Loaded Batch Nr. 1 in 8.84\n",
      "Timestamp Filtered Batch Nr. 1 in 0.00\n",
      "Did prepro part 1 of 1 in 0.22\n",
      "Did prepro part 2 of 1 in 12.23\n",
      "Did prepro part 3 of 1 in 0.08\n",
      "Merged Users of 1 in 24.04\n",
      "Extracted TE of 1 in 15.63\n",
      "Finished Batch Nr. 1 from file part-00000.csv in 63.17s!\n",
      "Loaded Batch Nr. 2 in 8.90\n",
      "Timestamp Filtered Batch Nr. 2 in 0.00\n",
      "Did prepro part 1 of 2 in 0.23\n",
      "Did prepro part 2 of 2 in 13.00\n",
      "Did prepro part 3 of 2 in 0.08\n",
      "Merged Users of 2 in 23.37\n",
      "Extracted TE of 2 in 15.12\n",
      "Finished Batch Nr. 2 from file part-00000.csv in 62.79s!\n",
      "Loaded Batch Nr. 3 in 11.04\n",
      "Timestamp Filtered Batch Nr. 3 in 0.00\n",
      "Did prepro part 1 of 3 in 0.26\n",
      "Did prepro part 2 of 3 in 14.18\n",
      "Did prepro part 3 of 3 in 0.08\n",
      "Merged Users of 3 in 29.78\n",
      "Extracted TE of 3 in 16.71\n",
      "Finished Batch Nr. 3 from file part-00000.csv in 74.46s!\n"
     ]
    }
   ],
   "source": [
    "res = recsysxgb.evaluate_validation_set(dl, store_results_file=result_logfile, validation_run_name=method_name)"
   ]
  },
  {
   "cell_type": "code",
   "execution_count": 7,
   "metadata": {},
   "outputs": [
    {
     "output_type": "stream",
     "name": "stdout",
     "text": [
      "Q1_reply_rce                    : 16.718007136074586\nQ1_retweet_rce                  : 18.212462095312574\nQ1_retweet_comment_rce          : 6.526576454774835\nQ1_like_rce                     : 8.455217509551593\nQ1_reply_avg_prec               : 0.1591346875554318\nQ1_retweet_avg_prec             : 0.35151962474767856\nQ1_retweet_comment_avg_prec     : 0.033911418766087206\nQ1_like_avg_prec                : 0.5732521422930593\nQ2_reply_rce                    : 17.85682118698353\nQ2_retweet_rce                  : 19.355132547639855\nQ2_retweet_comment_rce          : 7.021122959880199\nQ2_like_rce                     : 7.870888326755754\nQ2_reply_avg_prec               : 0.18154893034529285\nQ2_retweet_avg_prec             : 0.3487344475364401\nQ2_retweet_comment_avg_prec     : 0.03550432196263561\nQ2_like_avg_prec                : 0.557941041929299\nQ3_reply_rce                    : 19.76350716343218\nQ3_retweet_rce                  : 20.222482162126\nQ3_retweet_comment_rce          : 7.699011500961372\nQ3_like_rce                     : 9.384463957623145\nQ3_reply_avg_prec               : 0.21440410587837405\nQ3_retweet_avg_prec             : 0.364336042310692\nQ3_retweet_comment_avg_prec     : 0.03696639786364093\nQ3_like_avg_prec                : 0.5708782046251073\nQ4_reply_rce                    : 17.248375592831643\nQ4_retweet_rce                  : 21.158088209487357\nQ4_retweet_comment_rce          : 7.739720499516444\nQ4_like_rce                     : 11.13889647710604\nQ4_reply_avg_prec               : 0.17076172581735827\nQ4_retweet_avg_prec             : 0.37277979037423226\nQ4_retweet_comment_avg_prec     : 0.03395197467096317\nQ4_like_avg_prec                : 0.6038497351252986\nQ5_reply_rce                    : 11.045749444190722\nQ5_retweet_rce                  : 18.866756905294622\nQ5_retweet_comment_rce          : 7.8980615703518\nQ5_like_rce                     : 12.995174038250934\nQ5_reply_avg_prec               : 0.09615034324217214\nQ5_retweet_avg_prec             : 0.3076385910638519\nQ5_retweet_comment_avg_prec     : 0.030070523502153054\nQ5_like_avg_prec                : 0.6407741458268206\nTOTAL_reply_rce                 : 16.52649210470253\nTOTAL_retweet_rce               : 19.562984383972083\nTOTAL_retweet_comment_rce       : 7.376898597096931\nTOTAL_like_rce                  : 9.968928061857493\nTOTAL_reply_avg_prec            : 0.16439995856772582\nTOTAL_retweet_avg_prec          : 0.349001699206579\nTOTAL_retweet_comment_avg_prec  : 0.034080927353095994\nTOTAL_like_avg_prec             : 0.5893390539599169\n"
     ]
    }
   ],
   "source": [
    "for key in res:\n",
    "    print(f\"{key:32}: {res[key]}\")"
   ]
  },
  {
   "cell_type": "code",
   "execution_count": 9,
   "metadata": {
    "tags": []
   },
   "outputs": [
    {
     "output_type": "stream",
     "name": "stdout",
     "text": [
      "\nhas_reply:\n{'a_follows_b': 952.0609946090002, 'type_encoding': 724.3795041882926, 'TE_reply_b_TopLevel_B': 83.10196995740684, 'TE_reply_b_B': 69.70010775504869, 'photo_count': 52.14989898333334, 'TE_reply_a_TopLevel_A': 50.344235677517965, 'a_follower_count': 44.11503549151785, 'language_encoding': 41.56315662406249, 'TE_like_b_TopLevel_B': 40.9100123104142, 'TE_reply_a_A': 34.54774497013731, 'TE_like_b_B': 30.03561927754718, 'a_following_count': 25.782066739999994, 'TE_like_a_A': 23.29790945118182, 'TE_like_b_Retweet_B': 22.372821306730764, 'TE_retweet_b_B': 20.94743823682927, 'TE_like_b_A': 19.950283654352955, 'bert_token_len': 19.524813444079992, 'TE_retweet_b_TopLevel_B': 18.26236555997619, 'TE_like_a_TopLevel_A': 18.05258223510204, 'b_creation_delta': 16.805790802257377, 'a_is_verified': 15.7941351, 'TE_reply_a_Quote_A': 15.356673970188398, 'a_b_following_ratio': 14.870347360169491, 'TE_like_b_TopLevel_A': 14.476053733333336, 'TE_reply_b_Quote_B': 14.400298535854546, 'TE_retweet_a_TopLevel_A': 14.261381087333332, 'TE_retweet_a_A': 13.659242313942856, 'a_b_follower_ratio': 13.654269900769224, 'TE_reply_b_TopLevel_A': 13.619458713483871, 'TE_like_a_Retweet_A': 13.556547899972609, 'TE_retweet_a_Retweet_A': 13.44936351375, 'day_of_week': 13.078333586666666, 'TE_reply_a_TopLevel_B': 12.789730424999995, 'a_creation_delta': 12.655547365933337, 'TE_like_a_Retweet_B': 12.618938762820509, 'TE_like_a_B': 12.534208597916665, 'b_follower_count': 12.104226052000003, 'TE_reply_a_Retweet_B': 11.618245809285712, 'TE_retweet_b_A': 11.55048580195652, 'TE_like_b_Quote_B': 11.358622456722223, 'TE_like_a_TopLevel_B': 11.18211586390244, 'TE_like_a_Quote_B': 10.559062449000004, 'TE_retweet_comment_a_Quote_A': 10.276176013999999, 'hour_of_day': 10.175347122307691, 'TE_reply_a_B': 10.135607469171429, 'TE_reply_b_A': 9.8906694858, 'b_following_count': 9.793307830217392, 'TE_like_a_Quote_A': 9.741764157244896, 'TE_retweet_a_Quote_A': 9.73506599930435, 'TE_retweet_b_TopLevel_A': 9.504486209591834, 'TE_like_b_Quote_A': 9.48731311692683, 'TE_reply_a_Quote_B': 9.407815879423076, 'TE_reply_b_Retweet_B': 9.386494640696968, 'TE_retweet_a_Quote_B': 9.337589265545454, 'TE_retweet_comment_a_B': 9.28796412, 'TE_retweet_comment_a_TopLevel_A': 9.159897398464286, 'TE_retweet_b_Retweet_B': 9.122130419523806, 'TE_retweet_comment_b_Quote_B': 9.09279064, 'TE_reply_a_Retweet_A': 8.709535431836736, 'TE_retweet_comment_b_TopLevel_A': 8.695497707730768, 'TE_reply_b_Quote_A': 8.673149110935482, 'a_b_creation_delta': 8.664009434666667, 'TE_retweet_b_Quote_A': 8.656008211604652, 'TE_retweet_comment_a_Quote_B': 8.638995800312502, 'TE_retweet_comment_b_TopLevel_B': 8.587707138437501, 'TE_retweet_comment_a_TopLevel_B': 8.515476562413792, 'TE_retweet_b_Retweet_A': 8.484542735625002, 'TE_retweet_comment_b_Quote_A': 8.448995455454547, 'TE_retweet_comment_b_Retweet_A': 8.3622642925, 'TE_retweet_comment_b_A': 8.322609372035714, 'TE_retweet_a_B': 8.157261151481482, 'TE_retweet_a_Retweet_B': 8.148740969363635, 'TE_reply_b_Retweet_A': 8.120418856025806, 'TE_retweet_comment_a_Retweet_A': 8.111923126066666, 'TE_retweet_b_Quote_B': 8.110260149583333, 'TE_like_b_Retweet_A': 8.049979381730768, 'TE_retweet_comment_b_Retweet_B': 7.526225424642859, 'TE_retweet_a_TopLevel_B': 6.738040041133331, 'TE_retweet_comment_a_A': 6.5258848183125, 'TE_retweet_comment_a_Retweet_B': 6.363204886919999, 'TE_retweet_comment_b_B': 6.159058550294118, 'b_is_verified': 1.37890625}\n\nhas_retweet:\n{'TE_retweet_b_B': 735.3657056819889, 'TE_retweet_a_A': 426.50653138339544, 'TE_retweet_a_Retweet_A': 184.00511765022725, 'TE_like_b_B': 115.25303792093177, 'TE_retweet_b_TopLevel_B': 114.41542188375762, 'TE_like_b_TopLevel_B': 72.86937898920733, 'type_encoding': 66.99624978276836, 'TE_like_a_A': 62.08824250145039, 'a_follows_b': 57.77041972666667, 'TE_like_a_Retweet_A': 56.064934944353745, 'TE_retweet_b_Retweet_B': 55.20710045443039, 'TE_retweet_a_TopLevel_A': 51.53635991004672, 'a_is_verified': 49.13879523333333, 'TE_like_a_TopLevel_A': 48.93160345357141, 'language_encoding': 48.04762653857142, 'TE_like_b_A': 47.883334884022986, 'photo_count': 45.63898568253334, 'a_b_follower_ratio': 45.333036405624995, 'a_follower_count': 42.20583927842367, 'TE_like_a_Retweet_B': 41.032463048289664, 'bert_token_len': 40.61965986398104, 'b_creation_delta': 36.34160994114035, 'TE_retweet_b_A': 33.467839494249986, 'TE_like_b_Retweet_B': 30.865493241212135, 'TE_retweet_b_Quote_B': 30.62425481364865, 'b_following_count': 30.060465586666663, 'video_count': 29.56438056666667, 'b_follower_count': 27.892335199107134, 'TE_like_a_TopLevel_B': 26.234904157, 'TE_like_b_Quote_B': 24.101594761249995, 'a_following_count': 23.804915993846155, 'TE_retweet_b_Retweet_A': 23.44007360955, 'a_b_following_ratio': 21.126997177719293, 'TE_retweet_b_TopLevel_A': 19.711328327432433, 'TE_retweet_a_Quote_A': 18.98112891213137, 'TE_like_a_Quote_A': 18.386181264612237, 'TE_like_a_B': 17.77183685182353, 'a_creation_delta': 17.73344352648649, 'TE_like_b_TopLevel_A': 16.4689954802439, 'TE_retweet_comment_a_Retweet_B': 16.304477044545454, 'TE_retweet_a_Retweet_B': 15.795905623084744, 'TE_retweet_comment_a_Retweet_A': 14.380731363969698, 'TE_reply_a_B': 14.075512859130436, 'TE_reply_b_TopLevel_B': 13.88864500631579, 'TE_retweet_b_Quote_A': 13.438538252105264, 'TE_reply_a_TopLevel_A': 13.310207261111112, 'TE_retweet_comment_a_TopLevel_A': 13.223896806363637, 'TE_reply_a_Retweet_A': 13.171065160526318, 'TE_retweet_comment_b_Quote_A': 13.085084804117647, 'TE_like_b_Retweet_A': 13.079945390277778, 'TE_like_b_Quote_A': 12.952424170526314, 'TE_retweet_a_B': 12.910169662564101, 'TE_reply_a_TopLevel_B': 12.733614255, 'TE_reply_a_Quote_B': 12.3923992172, 'TE_retweet_comment_b_TopLevel_B': 12.238654178818182, 'hour_of_day': 12.168516470000002, 'a_b_creation_delta': 12.164252900000006, 'TE_retweet_a_TopLevel_B': 11.90357901307692, 'TE_retweet_comment_a_Quote_B': 11.783433235714284, 'TE_reply_b_Retweet_A': 11.724321458275863, 'TE_retweet_comment_a_A': 11.536243236250002, 'TE_reply_b_Retweet_B': 11.478073123846157, 'TE_reply_a_Quote_A': 11.3227894975, 'TE_retweet_comment_b_A': 11.25307764932, 'TE_reply_b_B': 11.155804604848482, 'TE_reply_b_Quote_A': 10.91594976666667, 'TE_retweet_comment_a_TopLevel_B': 10.717404843333332, 'day_of_week': 10.6369028, 'TE_retweet_comment_b_B': 10.507859469375, 'TE_reply_b_Quote_B': 10.492272396666666, 'TE_reply_b_A': 10.399921436999998, 'TE_retweet_comment_b_Retweet_A': 10.3758319075, 'TE_retweet_comment_b_Retweet_B': 10.362494327391303, 'TE_reply_a_Retweet_B': 10.3218822875, 'TE_like_a_Quote_B': 10.306478624148149, 'TE_retweet_comment_a_Quote_A': 10.236849689583332, 'TE_retweet_comment_b_TopLevel_A': 10.1558803078, 'TE_reply_b_TopLevel_A': 10.046418327692306, 'TE_retweet_comment_b_Quote_B': 9.842922575555555, 'TE_reply_a_A': 9.363364328444446, 'TE_retweet_comment_a_B': 9.19901680076923, 'TE_retweet_a_Quote_B': 8.788981367692308}\n\nhas_retweet_comment:\n{'TE_like_b_B': 30.755524275697685, 'type_encoding': 24.561306587058823, 'a_follows_b': 23.6863229051875, 'language_encoding': 23.440935787021274, 'TE_retweet_comment_b_B': 19.561421845929583, 'TE_like_b_TopLevel_B': 18.921674177842508, 'TE_retweet_comment_b_TopLevel_B': 17.64106279348485, 'video_count': 14.54234546652174, 'b_follower_count': 13.889521546657141, 'a_is_verified': 13.6473198, 'TE_like_a_Quote_B': 13.263658598455287, 'bert_token_len': 13.169541685135135, 'photo_count': 13.144042864210524, 'TE_like_a_A': 12.032631692651515, 'TE_like_b_Retweet_B': 11.943119025365853, 'TE_retweet_b_B': 11.876875690231882, 'TE_retweet_comment_b_Retweet_B': 11.744403623438092, 'TE_retweet_b_TopLevel_B': 11.643728887204086, 'TE_retweet_a_A': 11.548575978177078, 'TE_like_a_Retweet_A': 11.23263834923077, 'TE_retweet_a_TopLevel_A': 11.141249197098361, 'TE_retweet_comment_a_A': 11.008306319054054, 'b_creation_delta': 10.506388025972974, 'TE_retweet_a_Retweet_A': 10.451118543829788, 'TE_retweet_comment_a_TopLevel_A': 9.807518307500002, 'TE_retweet_a_Retweet_B': 9.689561328235294, 'TE_reply_b_TopLevel_A': 9.665343304558824, 'TE_like_a_Quote_A': 9.52801721142857, 'TE_like_b_A': 9.240934153604165, 'TE_reply_b_B': 9.096573226624997, 'TE_like_b_TopLevel_A': 9.06679303906, 'TE_retweet_comment_b_Quote_B': 9.033338055, 'TE_retweet_comment_a_Quote_A': 9.027460405333333, 'TE_like_b_Quote_B': 8.934030743955557, 'TE_like_a_TopLevel_B': 8.871095136232556, 'TE_retweet_comment_b_A': 8.791373112172412, 'TE_like_a_B': 8.784560692692308, 'a_following_count': 8.745276872268294, 'TE_retweet_b_A': 8.62561151522222, 'a_b_following_ratio': 8.58960056297059, 'TE_like_a_TopLevel_A': 8.566224213046512, 'TE_reply_a_Quote_B': 8.52279742253061, 'a_b_follower_ratio': 8.512352018857142, 'TE_retweet_comment_a_Retweet_A': 8.26573116189796, 'TE_retweet_b_Quote_A': 8.242692330861113, 'b_following_count': 8.219145975409091, 'TE_retweet_b_Quote_B': 8.210406115, 'TE_retweet_a_B': 8.18190731617857, 'TE_retweet_b_Retweet_A': 8.03276545304762, 'TE_like_a_Retweet_B': 7.692942082454544, 'a_follower_count': 7.653033497608696, 'TE_retweet_b_TopLevel_A': 7.65172543271739, 'TE_retweet_comment_b_Quote_A': 7.6479528821428575, 'a_creation_delta': 7.594717627499999, 'TE_reply_b_TopLevel_B': 7.465076134382352, 'TE_retweet_comment_a_Retweet_B': 7.4208582619259245, 'TE_retweet_b_Retweet_B': 7.346215063199999, 'TE_reply_b_Quote_A': 7.321487446954546, 'TE_reply_a_B': 7.258029922631577, 'TE_reply_a_Retweet_B': 7.1427528341578945, 'TE_retweet_comment_b_Retweet_A': 7.128104237083332, 'TE_reply_a_TopLevel_A': 7.057584818045453, 'TE_retweet_a_Quote_A': 7.007375581634147, 'TE_retweet_comment_a_TopLevel_B': 6.9970549119999985, 'TE_retweet_comment_a_Quote_B': 6.993536332370371, 'TE_reply_a_Retweet_A': 6.958518275666667, 'TE_retweet_a_Quote_B': 6.869163426666666, 'TE_retweet_comment_b_TopLevel_A': 6.787554489772728, 'TE_like_b_Retweet_A': 6.760566779866667, 'TE_reply_a_TopLevel_B': 6.753402524933333, 'TE_reply_b_A': 6.7496637324444455, 'TE_reply_b_Quote_B': 6.706587067499998, 'TE_reply_a_Quote_A': 6.6522904473599995, 'TE_like_b_Quote_A': 6.643399229116279, 'TE_reply_a_A': 6.630590163205129, 'day_of_week': 6.440845483333334, 'TE_retweet_a_TopLevel_B': 6.36950627162963, 'TE_retweet_comment_a_B': 6.298299036064516, 'TE_reply_b_Retweet_A': 6.2169907571000005, 'a_b_creation_delta': 6.140295869244898, 'TE_reply_b_Retweet_B': 6.08485620836842, 'hour_of_day': 5.6018535599, 'b_is_verified': 4.6741333}\n\nhas_like:\n{'TE_like_a_A': 2437.6041302863814, 'type_encoding': 742.1940862007858, 'TE_like_a_TopLevel_A': 397.8199353022785, 'a_follows_b': 237.91227826851846, 'a_follower_count': 226.15888559731042, 'TE_like_b_TopLevel_B': 218.99577604329957, 'TE_like_a_Retweet_A': 203.95044859307072, 'TE_like_b_Retweet_B': 146.7865797946493, 'TE_like_b_Quote_B': 146.15583289915733, 'photo_count': 143.43401177037035, 'TE_like_b_B': 135.09225812529357, 'TE_retweet_b_B': 130.1682247686544, 'TE_retweet_comment_a_Retweet_A': 119.47247501588885, 'b_creation_delta': 103.89694664017647, 'TE_like_a_Quote_A': 85.54791764571429, 'language_encoding': 83.74797272943395, 'TE_retweet_b_Quote_A': 81.39567511016001, 'TE_retweet_a_A': 80.38039666561646, 'a_following_count': 74.49131266666664, 'bert_token_len': 74.44711356379564, 'TE_retweet_comment_a_Quote_A': 69.70863657058823, 'TE_like_b_A': 61.423378610000015, 'a_is_verified': 59.84054679466667, 'a_b_follower_ratio': 51.91360776066666, 'TE_like_a_B': 49.24953811684786, 'b_follower_count': 48.19757019514852, 'TE_reply_b_B': 44.17656305764706, 'a_creation_delta': 41.21074283381443, 'TE_like_b_TopLevel_A': 40.11397956512196, 'b_following_count': 39.576513062429896, 'a_b_following_ratio': 38.79986971186668, 'TE_retweet_b_TopLevel_B': 38.77158264017188, 'TE_retweet_a_TopLevel_A': 37.48423082918367, 'TE_reply_b_TopLevel_B': 36.51294112662337, 'video_count': 34.598760375, 'TE_retweet_b_Retweet_B': 32.45317198982759, 'TE_retweet_a_Retweet_A': 32.118007168125, 'TE_like_b_Quote_A': 30.839346447674416, 'TE_retweet_b_A': 29.448322793675676, 'hour_of_day': 26.49210706153846, 'TE_like_a_Retweet_B': 25.877824136122435, 'TE_like_a_TopLevel_B': 23.680406300627897, 'TE_like_b_Retweet_A': 23.20922542054054, 'TE_retweet_comment_b_Quote_A': 22.23094567269231, 'TE_retweet_b_TopLevel_A': 20.696454686363634, 'TE_retweet_b_Quote_B': 19.209575466923077, 'TE_reply_b_Retweet_B': 16.862714713105266, 'TE_retweet_a_B': 15.7185149325, 'TE_retweet_a_Quote_A': 12.835473456875002, 'TE_like_a_Quote_B': 12.635802398571427, 'TE_retweet_a_TopLevel_B': 12.565888120434781, 'TE_retweet_b_Retweet_A': 12.564190288749998, 'TE_reply_a_A': 12.205725174074075, 'TE_retweet_comment_b_Retweet_B': 12.10827738625, 'TE_reply_a_Retweet_B': 12.068553864666665, 'TE_reply_a_TopLevel_A': 11.956214100666667, 'TE_retweet_a_Retweet_B': 11.9011304185, 'TE_reply_b_Quote_B': 11.850686970000002, 'TE_reply_a_Retweet_A': 11.8271757385, 'TE_retweet_comment_b_A': 11.803126287272727, 'TE_retweet_comment_a_TopLevel_A': 11.72150838740741, 'TE_retweet_comment_a_A': 11.666649405652175, 'TE_reply_b_Quote_A': 11.598878644705882, 'TE_reply_a_B': 11.524086780416667, 'TE_reply_b_A': 11.387927071578947, 'TE_retweet_comment_b_Quote_B': 11.349338861481485, 'TE_retweet_comment_a_TopLevel_B': 11.348957790740743, 'TE_reply_a_Quote_B': 11.093386493750002, 'TE_retweet_comment_b_TopLevel_A': 10.7875219775, 'a_b_creation_delta': 10.711131445925924, 'TE_reply_b_Retweet_A': 10.638662816137927, 'TE_reply_a_Quote_A': 10.574463005999998, 'TE_retweet_a_Quote_B': 10.523270454615385, 'TE_reply_a_TopLevel_B': 10.510581720000001, 'TE_retweet_comment_b_B': 10.466710472941177, 'TE_retweet_comment_b_TopLevel_B': 10.382374215555556, 'TE_reply_b_TopLevel_A': 10.36461169, 'TE_retweet_comment_b_Retweet_A': 10.340901178181818, 'TE_retweet_comment_a_Quote_B': 9.997888444583333, 'TE_retweet_comment_a_Retweet_B': 9.903106798148146, 'TE_retweet_comment_a_B': 9.785612792941174, 'day_of_week': 8.91792883, 'gif_count': 5.5016861}\n"
     ]
    }
   ],
   "source": [
    "for target in recsysxgb.targets__:\n",
    "    print(f\"\\n{target}:\")\n",
    "    print(dict(sorted(recsysxgb.clfs_[target].get_score(importance_type='gain').items(), key=lambda item: item[1], reverse=True)))"
   ]
  },
  {
   "source": [
    "## Try sample test run"
   ],
   "cell_type": "markdown",
   "metadata": {}
  },
  {
   "cell_type": "code",
   "execution_count": 2,
   "metadata": {},
   "outputs": [
    {
     "output_type": "stream",
     "name": "stdout",
     "text": [
      "Loading User Index\n",
      "Removing day counts\n",
      "Extracting combined user counts\n",
      "Created Dataloader in 16.03 seconds!\n",
      "Creating XGB model\n",
      "Evaluating Test Set\n",
      "Loaded Batch Nr. 1 in 5.82\n",
      "Timestamp Filtered Batch Nr. 1 in 0.00\n",
      "Did prepro part 1 of 1 in 0.20\n",
      "Did prepro part 2 of 1 in 12.24\n",
      "Did prepro part 3 of 1 in 0.06\n",
      "Merged Users of 1 in 23.25\n",
      "Extracted TE of 1 in 13.98\n",
      "Finished Batch Nr. 1 from file part-00002.csv in 57.56s!\n",
      "Loaded Batch Nr. 2 in 8.86\n",
      "Timestamp Filtered Batch Nr. 2 in 0.00\n",
      "Did prepro part 1 of 2 in 0.19\n",
      "Did prepro part 2 of 2 in 12.41\n",
      "Did prepro part 3 of 2 in 0.06\n",
      "Merged Users of 2 in 22.67\n",
      "Extracted TE of 2 in 14.35\n",
      "Finished Batch Nr. 2 from file part-00002.csv in 60.52s!\n",
      "Loaded Batch Nr. 3 in 11.00\n",
      "Timestamp Filtered Batch Nr. 3 in 0.00\n",
      "Did prepro part 1 of 3 in 0.19\n",
      "Did prepro part 2 of 3 in 12.02\n",
      "Did prepro part 3 of 3 in 0.06\n",
      "Merged Users of 3 in 21.02\n",
      "Extracted TE of 3 in 14.14\n",
      "Finished Batch Nr. 3 from file part-00002.csv in 60.37s!\n",
      "Loaded Batch Nr. 4 in 12.25\n",
      "Timestamp Filtered Batch Nr. 4 in 0.00\n",
      "Did prepro part 1 of 4 in 0.20\n",
      "Did prepro part 2 of 4 in 12.07\n",
      "Did prepro part 3 of 4 in 0.06\n",
      "Merged Users of 4 in 25.14\n",
      "Extracted TE of 4 in 14.00\n",
      "Finished Batch Nr. 4 from file part-00003.csv in 65.90s!\n",
      "Loaded Batch Nr. 5 in 9.51\n",
      "Timestamp Filtered Batch Nr. 5 in 0.00\n",
      "Did prepro part 1 of 5 in 0.19\n",
      "Did prepro part 2 of 5 in 11.88\n",
      "Did prepro part 3 of 5 in 0.06\n"
     ]
    },
    {
     "output_type": "error",
     "ename": "KeyboardInterrupt",
     "evalue": "",
     "traceback": [
      "\u001b[0;31m---------------------------------------------------------------------------\u001b[0m",
      "\u001b[0;31mKeyboardInterrupt\u001b[0m                         Traceback (most recent call last)",
      "\u001b[0;32m<ipython-input-2-f512dcbe22c4>\u001b[0m in \u001b[0;36m<module>\u001b[0;34m\u001b[0m\n\u001b[1;32m     15\u001b[0m \u001b[0mrecsysxgb\u001b[0m \u001b[0;34m=\u001b[0m \u001b[0mutils\u001b[0m\u001b[0;34m.\u001b[0m\u001b[0mmodel\u001b[0m\u001b[0;34m.\u001b[0m\u001b[0mRecSysXGB1\u001b[0m\u001b[0;34m(\u001b[0m\u001b[0;34m\"saved_models/xgb_models_26_normal_noise\"\u001b[0m\u001b[0;34m)\u001b[0m\u001b[0;34m\u001b[0m\u001b[0;34m\u001b[0m\u001b[0m\n\u001b[1;32m     16\u001b[0m \u001b[0mprint\u001b[0m\u001b[0;34m(\u001b[0m\u001b[0;34m\"Evaluating Test Set\"\u001b[0m\u001b[0;34m)\u001b[0m\u001b[0;34m\u001b[0m\u001b[0;34m\u001b[0m\u001b[0m\n\u001b[0;32m---> 17\u001b[0;31m \u001b[0mrecsysxgb\u001b[0m\u001b[0;34m.\u001b[0m\u001b[0mevaluate_test_set\u001b[0m\u001b[0;34m(\u001b[0m\u001b[0mtestLoader\u001b[0m \u001b[0;34m=\u001b[0m \u001b[0mdl\u001b[0m\u001b[0;34m,\u001b[0m \u001b[0moutput_file\u001b[0m \u001b[0;34m=\u001b[0m \u001b[0;34m\"results.csv\"\u001b[0m\u001b[0;34m)\u001b[0m\u001b[0;34m\u001b[0m\u001b[0;34m\u001b[0m\u001b[0m\n\u001b[0m",
      "\u001b[0;32m/mnt/14FA125EFA123D04/RecSys2021/utils/model.py\u001b[0m in \u001b[0;36mevaluate_test_set\u001b[0;34m(self, testLoader, output_file)\u001b[0m\n\u001b[1;32m     45\u001b[0m \u001b[0;34m\u001b[0m\u001b[0m\n\u001b[1;32m     46\u001b[0m         \u001b[0;32mwith\u001b[0m \u001b[0mopen\u001b[0m\u001b[0;34m(\u001b[0m\u001b[0moutput_file\u001b[0m\u001b[0;34m,\u001b[0m \u001b[0;34m'a'\u001b[0m\u001b[0;34m)\u001b[0m \u001b[0;32mas\u001b[0m \u001b[0moutput\u001b[0m\u001b[0;34m:\u001b[0m\u001b[0;34m\u001b[0m\u001b[0;34m\u001b[0m\u001b[0m\n\u001b[0;32m---> 47\u001b[0;31m             \u001b[0;32mfor\u001b[0m \u001b[0mbatch\u001b[0m\u001b[0;34m,\u001b[0m \u001b[0mquantile\u001b[0m\u001b[0;34m,\u001b[0m \u001b[0;34m(\u001b[0m\u001b[0mtweet_ids\u001b[0m\u001b[0;34m,\u001b[0m \u001b[0muser_ids\u001b[0m\u001b[0;34m)\u001b[0m \u001b[0;32min\u001b[0m \u001b[0mtestLoader\u001b[0m\u001b[0;34m:\u001b[0m\u001b[0;34m\u001b[0m\u001b[0;34m\u001b[0m\u001b[0m\n\u001b[0m\u001b[1;32m     48\u001b[0m                 \u001b[0mreply_preds\u001b[0m\u001b[0;34m,\u001b[0m \u001b[0mretweet_preds\u001b[0m\u001b[0;34m,\u001b[0m \u001b[0mretweet_comment_preds\u001b[0m\u001b[0;34m,\u001b[0m \u001b[0mlike_preds\u001b[0m \u001b[0;34m=\u001b[0m \u001b[0mself\u001b[0m\u001b[0;34m.\u001b[0m\u001b[0minfer\u001b[0m\u001b[0;34m(\u001b[0m\u001b[0mbatch\u001b[0m\u001b[0;34m)\u001b[0m\u001b[0;34m\u001b[0m\u001b[0;34m\u001b[0m\u001b[0m\n\u001b[1;32m     49\u001b[0m \u001b[0;34m\u001b[0m\u001b[0m\n",
      "\u001b[0;32m/mnt/14FA125EFA123D04/RecSys2021/utils/dataloader.py\u001b[0m in \u001b[0;36m__next__\u001b[0;34m(self)\u001b[0m\n\u001b[1;32m    402\u001b[0m     \u001b[0;32mdef\u001b[0m \u001b[0m__next__\u001b[0m\u001b[0;34m(\u001b[0m\u001b[0mself\u001b[0m\u001b[0;34m)\u001b[0m\u001b[0;34m:\u001b[0m\u001b[0;34m\u001b[0m\u001b[0;34m\u001b[0m\u001b[0m\n\u001b[1;32m    403\u001b[0m         \u001b[0;32mif\u001b[0m \u001b[0mself\u001b[0m\u001b[0;34m.\u001b[0m\u001b[0mminibatch_size\u001b[0m \u001b[0;34m==\u001b[0m \u001b[0;34m-\u001b[0m\u001b[0;36m1\u001b[0m \u001b[0;32mor\u001b[0m \u001b[0mself\u001b[0m\u001b[0;34m.\u001b[0m\u001b[0mbatch\u001b[0m \u001b[0;32mis\u001b[0m \u001b[0;32mNone\u001b[0m\u001b[0;34m:\u001b[0m\u001b[0;34m\u001b[0m\u001b[0;34m\u001b[0m\u001b[0m\n\u001b[0;32m--> 404\u001b[0;31m             \u001b[0mdf\u001b[0m \u001b[0;34m=\u001b[0m \u001b[0mself\u001b[0m\u001b[0;34m.\u001b[0m\u001b[0mload_next_batch__\u001b[0m\u001b[0;34m(\u001b[0m\u001b[0;34m)\u001b[0m\u001b[0;34m\u001b[0m\u001b[0;34m\u001b[0m\u001b[0m\n\u001b[0m\u001b[1;32m    405\u001b[0m \u001b[0;34m\u001b[0m\u001b[0m\n\u001b[1;32m    406\u001b[0m             \u001b[0;32mif\u001b[0m \u001b[0mself\u001b[0m\u001b[0;34m.\u001b[0m\u001b[0mnormalize_batch\u001b[0m\u001b[0;34m:\u001b[0m\u001b[0;34m\u001b[0m\u001b[0;34m\u001b[0m\u001b[0m\n",
      "\u001b[0;32m/mnt/14FA125EFA123D04/RecSys2021/utils/dataloader.py\u001b[0m in \u001b[0;36mload_next_batch__\u001b[0;34m(self)\u001b[0m\n\u001b[1;32m    354\u001b[0m         \u001b[0mgc\u001b[0m\u001b[0;34m.\u001b[0m\u001b[0mcollect\u001b[0m\u001b[0;34m(\u001b[0m\u001b[0;34m)\u001b[0m\u001b[0;34m\u001b[0m\u001b[0;34m\u001b[0m\u001b[0m\n\u001b[1;32m    355\u001b[0m         \u001b[0;31m#df = pd.merge(df, self.user_index, how=\"left\", left_on=\"b_user_id_num\", right_index=True, suffixes=(\"_A\", \"_B\"))\u001b[0m\u001b[0;34m\u001b[0m\u001b[0;34m\u001b[0m\u001b[0;34m\u001b[0m\u001b[0m\n\u001b[0;32m--> 356\u001b[0;31m         \u001b[0mdf\u001b[0m  \u001b[0;34m=\u001b[0m \u001b[0mdf\u001b[0m\u001b[0;34m.\u001b[0m\u001b[0mjoin\u001b[0m\u001b[0;34m(\u001b[0m\u001b[0mself\u001b[0m\u001b[0;34m.\u001b[0m\u001b[0muser_index\u001b[0m\u001b[0;34m,\u001b[0m \u001b[0mon\u001b[0m\u001b[0;34m=\u001b[0m\u001b[0;34m\"b_user_id_num\"\u001b[0m\u001b[0;34m,\u001b[0m \u001b[0mlsuffix\u001b[0m\u001b[0;34m=\u001b[0m\u001b[0;34m\"_A\"\u001b[0m\u001b[0;34m,\u001b[0m \u001b[0mrsuffix\u001b[0m\u001b[0;34m=\u001b[0m\u001b[0;34m\"_B\"\u001b[0m\u001b[0;34m)\u001b[0m\u001b[0;34m\u001b[0m\u001b[0;34m\u001b[0m\u001b[0m\n\u001b[0m\u001b[1;32m    357\u001b[0m         \u001b[0mgc\u001b[0m\u001b[0;34m.\u001b[0m\u001b[0mcollect\u001b[0m\u001b[0;34m(\u001b[0m\u001b[0;34m)\u001b[0m\u001b[0;34m\u001b[0m\u001b[0;34m\u001b[0m\u001b[0m\n\u001b[1;32m    358\u001b[0m \u001b[0;34m\u001b[0m\u001b[0m\n",
      "\u001b[0;32m~/miniconda3/envs/m1/lib/python3.9/site-packages/pandas/core/frame.py\u001b[0m in \u001b[0;36mjoin\u001b[0;34m(self, other, on, how, lsuffix, rsuffix, sort)\u001b[0m\n\u001b[1;32m   8108\u001b[0m         \u001b[0;36m5\u001b[0m  \u001b[0mK5\u001b[0m  \u001b[0mA5\u001b[0m  \u001b[0mNaN\u001b[0m\u001b[0;34m\u001b[0m\u001b[0;34m\u001b[0m\u001b[0m\n\u001b[1;32m   8109\u001b[0m         \"\"\"\n\u001b[0;32m-> 8110\u001b[0;31m         return self._join_compat(\n\u001b[0m\u001b[1;32m   8111\u001b[0m             \u001b[0mother\u001b[0m\u001b[0;34m,\u001b[0m \u001b[0mon\u001b[0m\u001b[0;34m=\u001b[0m\u001b[0mon\u001b[0m\u001b[0;34m,\u001b[0m \u001b[0mhow\u001b[0m\u001b[0;34m=\u001b[0m\u001b[0mhow\u001b[0m\u001b[0;34m,\u001b[0m \u001b[0mlsuffix\u001b[0m\u001b[0;34m=\u001b[0m\u001b[0mlsuffix\u001b[0m\u001b[0;34m,\u001b[0m \u001b[0mrsuffix\u001b[0m\u001b[0;34m=\u001b[0m\u001b[0mrsuffix\u001b[0m\u001b[0;34m,\u001b[0m \u001b[0msort\u001b[0m\u001b[0;34m=\u001b[0m\u001b[0msort\u001b[0m\u001b[0;34m\u001b[0m\u001b[0;34m\u001b[0m\u001b[0m\n\u001b[1;32m   8112\u001b[0m         )\n",
      "\u001b[0;32m~/miniconda3/envs/m1/lib/python3.9/site-packages/pandas/core/frame.py\u001b[0m in \u001b[0;36m_join_compat\u001b[0;34m(self, other, on, how, lsuffix, rsuffix, sort)\u001b[0m\n\u001b[1;32m   8133\u001b[0m                     \u001b[0msort\u001b[0m\u001b[0;34m=\u001b[0m\u001b[0msort\u001b[0m\u001b[0;34m,\u001b[0m\u001b[0;34m\u001b[0m\u001b[0;34m\u001b[0m\u001b[0m\n\u001b[1;32m   8134\u001b[0m                 )\n\u001b[0;32m-> 8135\u001b[0;31m             return merge(\n\u001b[0m\u001b[1;32m   8136\u001b[0m                 \u001b[0mself\u001b[0m\u001b[0;34m,\u001b[0m\u001b[0;34m\u001b[0m\u001b[0;34m\u001b[0m\u001b[0m\n\u001b[1;32m   8137\u001b[0m                 \u001b[0mother\u001b[0m\u001b[0;34m,\u001b[0m\u001b[0;34m\u001b[0m\u001b[0;34m\u001b[0m\u001b[0m\n",
      "\u001b[0;32m~/miniconda3/envs/m1/lib/python3.9/site-packages/pandas/core/reshape/merge.py\u001b[0m in \u001b[0;36mmerge\u001b[0;34m(left, right, how, on, left_on, right_on, left_index, right_index, sort, suffixes, copy, indicator, validate)\u001b[0m\n\u001b[1;32m     87\u001b[0m         \u001b[0mvalidate\u001b[0m\u001b[0;34m=\u001b[0m\u001b[0mvalidate\u001b[0m\u001b[0;34m,\u001b[0m\u001b[0;34m\u001b[0m\u001b[0;34m\u001b[0m\u001b[0m\n\u001b[1;32m     88\u001b[0m     )\n\u001b[0;32m---> 89\u001b[0;31m     \u001b[0;32mreturn\u001b[0m \u001b[0mop\u001b[0m\u001b[0;34m.\u001b[0m\u001b[0mget_result\u001b[0m\u001b[0;34m(\u001b[0m\u001b[0;34m)\u001b[0m\u001b[0;34m\u001b[0m\u001b[0;34m\u001b[0m\u001b[0m\n\u001b[0m\u001b[1;32m     90\u001b[0m \u001b[0;34m\u001b[0m\u001b[0m\n\u001b[1;32m     91\u001b[0m \u001b[0;34m\u001b[0m\u001b[0m\n",
      "\u001b[0;32m~/miniconda3/envs/m1/lib/python3.9/site-packages/pandas/core/reshape/merge.py\u001b[0m in \u001b[0;36mget_result\u001b[0;34m(self)\u001b[0m\n\u001b[1;32m    691\u001b[0m         \u001b[0mrindexers\u001b[0m \u001b[0;34m=\u001b[0m \u001b[0;34m{\u001b[0m\u001b[0;36m1\u001b[0m\u001b[0;34m:\u001b[0m \u001b[0mright_indexer\u001b[0m\u001b[0;34m}\u001b[0m \u001b[0;32mif\u001b[0m \u001b[0mright_indexer\u001b[0m \u001b[0;32mis\u001b[0m \u001b[0;32mnot\u001b[0m \u001b[0;32mNone\u001b[0m \u001b[0;32melse\u001b[0m \u001b[0;34m{\u001b[0m\u001b[0;34m}\u001b[0m\u001b[0;34m\u001b[0m\u001b[0;34m\u001b[0m\u001b[0m\n\u001b[1;32m    692\u001b[0m \u001b[0;34m\u001b[0m\u001b[0m\n\u001b[0;32m--> 693\u001b[0;31m         result_data = concatenate_block_managers(\n\u001b[0m\u001b[1;32m    694\u001b[0m             \u001b[0;34m[\u001b[0m\u001b[0;34m(\u001b[0m\u001b[0mself\u001b[0m\u001b[0;34m.\u001b[0m\u001b[0mleft\u001b[0m\u001b[0;34m.\u001b[0m\u001b[0m_mgr\u001b[0m\u001b[0;34m,\u001b[0m \u001b[0mlindexers\u001b[0m\u001b[0;34m)\u001b[0m\u001b[0;34m,\u001b[0m \u001b[0;34m(\u001b[0m\u001b[0mself\u001b[0m\u001b[0;34m.\u001b[0m\u001b[0mright\u001b[0m\u001b[0;34m.\u001b[0m\u001b[0m_mgr\u001b[0m\u001b[0;34m,\u001b[0m \u001b[0mrindexers\u001b[0m\u001b[0;34m)\u001b[0m\u001b[0;34m]\u001b[0m\u001b[0;34m,\u001b[0m\u001b[0;34m\u001b[0m\u001b[0;34m\u001b[0m\u001b[0m\n\u001b[1;32m    695\u001b[0m             \u001b[0maxes\u001b[0m\u001b[0;34m=\u001b[0m\u001b[0;34m[\u001b[0m\u001b[0mllabels\u001b[0m\u001b[0;34m.\u001b[0m\u001b[0mappend\u001b[0m\u001b[0;34m(\u001b[0m\u001b[0mrlabels\u001b[0m\u001b[0;34m)\u001b[0m\u001b[0;34m,\u001b[0m \u001b[0mjoin_index\u001b[0m\u001b[0;34m]\u001b[0m\u001b[0;34m,\u001b[0m\u001b[0;34m\u001b[0m\u001b[0;34m\u001b[0m\u001b[0m\n",
      "\u001b[0;32m~/miniconda3/envs/m1/lib/python3.9/site-packages/pandas/core/internals/concat.py\u001b[0m in \u001b[0;36mconcatenate_block_managers\u001b[0;34m(mgrs_indexers, axes, concat_axis, copy)\u001b[0m\n\u001b[1;32m     81\u001b[0m         \u001b[0;32melse\u001b[0m\u001b[0;34m:\u001b[0m\u001b[0;34m\u001b[0m\u001b[0;34m\u001b[0m\u001b[0m\n\u001b[1;32m     82\u001b[0m             b = make_block(\n\u001b[0;32m---> 83\u001b[0;31m                 \u001b[0m_concatenate_join_units\u001b[0m\u001b[0;34m(\u001b[0m\u001b[0mjoin_units\u001b[0m\u001b[0;34m,\u001b[0m \u001b[0mconcat_axis\u001b[0m\u001b[0;34m,\u001b[0m \u001b[0mcopy\u001b[0m\u001b[0;34m=\u001b[0m\u001b[0mcopy\u001b[0m\u001b[0;34m)\u001b[0m\u001b[0;34m,\u001b[0m\u001b[0;34m\u001b[0m\u001b[0;34m\u001b[0m\u001b[0m\n\u001b[0m\u001b[1;32m     84\u001b[0m                 \u001b[0mplacement\u001b[0m\u001b[0;34m=\u001b[0m\u001b[0mplacement\u001b[0m\u001b[0;34m,\u001b[0m\u001b[0;34m\u001b[0m\u001b[0;34m\u001b[0m\u001b[0m\n\u001b[1;32m     85\u001b[0m                 \u001b[0mndim\u001b[0m\u001b[0;34m=\u001b[0m\u001b[0mlen\u001b[0m\u001b[0;34m(\u001b[0m\u001b[0maxes\u001b[0m\u001b[0;34m)\u001b[0m\u001b[0;34m,\u001b[0m\u001b[0;34m\u001b[0m\u001b[0;34m\u001b[0m\u001b[0m\n",
      "\u001b[0;32m~/miniconda3/envs/m1/lib/python3.9/site-packages/pandas/core/internals/concat.py\u001b[0m in \u001b[0;36m_concatenate_join_units\u001b[0;34m(join_units, concat_axis, copy)\u001b[0m\n\u001b[1;32m    311\u001b[0m     \u001b[0mempty_dtype\u001b[0m\u001b[0;34m,\u001b[0m \u001b[0mupcasted_na\u001b[0m \u001b[0;34m=\u001b[0m \u001b[0m_get_empty_dtype_and_na\u001b[0m\u001b[0;34m(\u001b[0m\u001b[0mjoin_units\u001b[0m\u001b[0;34m)\u001b[0m\u001b[0;34m\u001b[0m\u001b[0;34m\u001b[0m\u001b[0m\n\u001b[1;32m    312\u001b[0m \u001b[0;34m\u001b[0m\u001b[0m\n\u001b[0;32m--> 313\u001b[0;31m     to_concat = [\n\u001b[0m\u001b[1;32m    314\u001b[0m         \u001b[0mju\u001b[0m\u001b[0;34m.\u001b[0m\u001b[0mget_reindexed_values\u001b[0m\u001b[0;34m(\u001b[0m\u001b[0mempty_dtype\u001b[0m\u001b[0;34m=\u001b[0m\u001b[0mempty_dtype\u001b[0m\u001b[0;34m,\u001b[0m \u001b[0mupcasted_na\u001b[0m\u001b[0;34m=\u001b[0m\u001b[0mupcasted_na\u001b[0m\u001b[0;34m)\u001b[0m\u001b[0;34m\u001b[0m\u001b[0;34m\u001b[0m\u001b[0m\n\u001b[1;32m    315\u001b[0m         \u001b[0;32mfor\u001b[0m \u001b[0mju\u001b[0m \u001b[0;32min\u001b[0m \u001b[0mjoin_units\u001b[0m\u001b[0;34m\u001b[0m\u001b[0;34m\u001b[0m\u001b[0m\n",
      "\u001b[0;32m~/miniconda3/envs/m1/lib/python3.9/site-packages/pandas/core/internals/concat.py\u001b[0m in \u001b[0;36m<listcomp>\u001b[0;34m(.0)\u001b[0m\n\u001b[1;32m    312\u001b[0m \u001b[0;34m\u001b[0m\u001b[0m\n\u001b[1;32m    313\u001b[0m     to_concat = [\n\u001b[0;32m--> 314\u001b[0;31m         \u001b[0mju\u001b[0m\u001b[0;34m.\u001b[0m\u001b[0mget_reindexed_values\u001b[0m\u001b[0;34m(\u001b[0m\u001b[0mempty_dtype\u001b[0m\u001b[0;34m=\u001b[0m\u001b[0mempty_dtype\u001b[0m\u001b[0;34m,\u001b[0m \u001b[0mupcasted_na\u001b[0m\u001b[0;34m=\u001b[0m\u001b[0mupcasted_na\u001b[0m\u001b[0;34m)\u001b[0m\u001b[0;34m\u001b[0m\u001b[0;34m\u001b[0m\u001b[0m\n\u001b[0m\u001b[1;32m    315\u001b[0m         \u001b[0;32mfor\u001b[0m \u001b[0mju\u001b[0m \u001b[0;32min\u001b[0m \u001b[0mjoin_units\u001b[0m\u001b[0;34m\u001b[0m\u001b[0;34m\u001b[0m\u001b[0m\n\u001b[1;32m    316\u001b[0m     ]\n",
      "\u001b[0;32m~/miniconda3/envs/m1/lib/python3.9/site-packages/pandas/core/internals/concat.py\u001b[0m in \u001b[0;36mget_reindexed_values\u001b[0;34m(self, empty_dtype, upcasted_na)\u001b[0m\n\u001b[1;32m    296\u001b[0m         \u001b[0;32melse\u001b[0m\u001b[0;34m:\u001b[0m\u001b[0;34m\u001b[0m\u001b[0;34m\u001b[0m\u001b[0m\n\u001b[1;32m    297\u001b[0m             \u001b[0;32mfor\u001b[0m \u001b[0max\u001b[0m\u001b[0;34m,\u001b[0m \u001b[0mindexer\u001b[0m \u001b[0;32min\u001b[0m \u001b[0mself\u001b[0m\u001b[0;34m.\u001b[0m\u001b[0mindexers\u001b[0m\u001b[0;34m.\u001b[0m\u001b[0mitems\u001b[0m\u001b[0;34m(\u001b[0m\u001b[0;34m)\u001b[0m\u001b[0;34m:\u001b[0m\u001b[0;34m\u001b[0m\u001b[0;34m\u001b[0m\u001b[0m\n\u001b[0;32m--> 298\u001b[0;31m                 \u001b[0mvalues\u001b[0m \u001b[0;34m=\u001b[0m \u001b[0malgos\u001b[0m\u001b[0;34m.\u001b[0m\u001b[0mtake_nd\u001b[0m\u001b[0;34m(\u001b[0m\u001b[0mvalues\u001b[0m\u001b[0;34m,\u001b[0m \u001b[0mindexer\u001b[0m\u001b[0;34m,\u001b[0m \u001b[0maxis\u001b[0m\u001b[0;34m=\u001b[0m\u001b[0max\u001b[0m\u001b[0;34m,\u001b[0m \u001b[0mfill_value\u001b[0m\u001b[0;34m=\u001b[0m\u001b[0mfill_value\u001b[0m\u001b[0;34m)\u001b[0m\u001b[0;34m\u001b[0m\u001b[0;34m\u001b[0m\u001b[0m\n\u001b[0m\u001b[1;32m    299\u001b[0m \u001b[0;34m\u001b[0m\u001b[0m\n\u001b[1;32m    300\u001b[0m         \u001b[0;32mreturn\u001b[0m \u001b[0mvalues\u001b[0m\u001b[0;34m\u001b[0m\u001b[0;34m\u001b[0m\u001b[0m\n",
      "\u001b[0;32m~/miniconda3/envs/m1/lib/python3.9/site-packages/pandas/core/algorithms.py\u001b[0m in \u001b[0;36mtake_nd\u001b[0;34m(arr, indexer, axis, out, fill_value, allow_fill)\u001b[0m\n\u001b[1;32m   1757\u001b[0m         \u001b[0marr\u001b[0m\u001b[0;34m.\u001b[0m\u001b[0mndim\u001b[0m\u001b[0;34m,\u001b[0m \u001b[0marr\u001b[0m\u001b[0;34m.\u001b[0m\u001b[0mdtype\u001b[0m\u001b[0;34m,\u001b[0m \u001b[0mout\u001b[0m\u001b[0;34m.\u001b[0m\u001b[0mdtype\u001b[0m\u001b[0;34m,\u001b[0m \u001b[0maxis\u001b[0m\u001b[0;34m=\u001b[0m\u001b[0maxis\u001b[0m\u001b[0;34m,\u001b[0m \u001b[0mmask_info\u001b[0m\u001b[0;34m=\u001b[0m\u001b[0mmask_info\u001b[0m\u001b[0;34m\u001b[0m\u001b[0;34m\u001b[0m\u001b[0m\n\u001b[1;32m   1758\u001b[0m     )\n\u001b[0;32m-> 1759\u001b[0;31m     \u001b[0mfunc\u001b[0m\u001b[0;34m(\u001b[0m\u001b[0marr\u001b[0m\u001b[0;34m,\u001b[0m \u001b[0mindexer\u001b[0m\u001b[0;34m,\u001b[0m \u001b[0mout\u001b[0m\u001b[0;34m,\u001b[0m \u001b[0mfill_value\u001b[0m\u001b[0;34m)\u001b[0m\u001b[0;34m\u001b[0m\u001b[0;34m\u001b[0m\u001b[0m\n\u001b[0m\u001b[1;32m   1760\u001b[0m \u001b[0;34m\u001b[0m\u001b[0m\n\u001b[1;32m   1761\u001b[0m     \u001b[0;32mif\u001b[0m \u001b[0mflip_order\u001b[0m\u001b[0;34m:\u001b[0m\u001b[0;34m\u001b[0m\u001b[0;34m\u001b[0m\u001b[0m\n",
      "\u001b[0;32m~/miniconda3/envs/m1/lib/python3.9/site-packages/pandas/core/algorithms.py\u001b[0m in \u001b[0;36mwrapper\u001b[0;34m(arr, indexer, out, fill_value)\u001b[0m\n\u001b[1;32m   1387\u001b[0m     \u001b[0;32mdef\u001b[0m \u001b[0mwrapper\u001b[0m\u001b[0;34m(\u001b[0m\u001b[0marr\u001b[0m\u001b[0;34m,\u001b[0m \u001b[0mindexer\u001b[0m\u001b[0;34m,\u001b[0m \u001b[0mout\u001b[0m\u001b[0;34m,\u001b[0m \u001b[0mfill_value\u001b[0m\u001b[0;34m=\u001b[0m\u001b[0mnp\u001b[0m\u001b[0;34m.\u001b[0m\u001b[0mnan\u001b[0m\u001b[0;34m)\u001b[0m\u001b[0;34m:\u001b[0m\u001b[0;34m\u001b[0m\u001b[0;34m\u001b[0m\u001b[0m\n\u001b[1;32m   1388\u001b[0m         \u001b[0marr\u001b[0m \u001b[0;34m=\u001b[0m \u001b[0marr\u001b[0m\u001b[0;34m.\u001b[0m\u001b[0mastype\u001b[0m\u001b[0;34m(\u001b[0m\u001b[0mconv_dtype\u001b[0m\u001b[0;34m)\u001b[0m\u001b[0;34m\u001b[0m\u001b[0;34m\u001b[0m\u001b[0m\n\u001b[0;32m-> 1389\u001b[0;31m         \u001b[0mf\u001b[0m\u001b[0;34m(\u001b[0m\u001b[0marr\u001b[0m\u001b[0;34m,\u001b[0m \u001b[0mindexer\u001b[0m\u001b[0;34m,\u001b[0m \u001b[0mout\u001b[0m\u001b[0;34m,\u001b[0m \u001b[0mfill_value\u001b[0m\u001b[0;34m=\u001b[0m\u001b[0mfill_value\u001b[0m\u001b[0;34m)\u001b[0m\u001b[0;34m\u001b[0m\u001b[0;34m\u001b[0m\u001b[0m\n\u001b[0m\u001b[1;32m   1390\u001b[0m \u001b[0;34m\u001b[0m\u001b[0m\n\u001b[1;32m   1391\u001b[0m     \u001b[0;32mreturn\u001b[0m \u001b[0mwrapper\u001b[0m\u001b[0;34m\u001b[0m\u001b[0;34m\u001b[0m\u001b[0m\n",
      "\u001b[0;31mKeyboardInterrupt\u001b[0m: "
     ]
    }
   ],
   "source": [
    "dl = utils.dataloader.RecSys2021TSVDataLoader(\n",
    "        data_directory = \"data/test_files\", \n",
    "        user_index_location = \"indices/user_index_w_type.parquet\",\n",
    "        mode = \"test\", \n",
    "        load_n_batches = -1, \n",
    "        batch_size = 1000000,#1 million\n",
    "        verbose = 2,\n",
    "        remove_day_counts = True,\n",
    "        remove_user_counts= True,\n",
    "        random_file_sampling=False\n",
    "        )\n",
    "\n",
    "\n",
    "print(\"Creating XGB model\")\n",
    "recsysxgb = utils.model.RecSysXGB1(\"saved_models/xgb_models_26_normal_noise\")\n",
    "print(\"Evaluating Test Set\")\n",
    "recsysxgb.evaluate_test_set(testLoader = dl, output_file = \"results.csv\")"
   ]
  },
  {
   "cell_type": "code",
   "execution_count": 26,
   "metadata": {},
   "outputs": [],
   "source": [
    "pred = recsysxgb.infer(out[0])"
   ]
  },
  {
   "cell_type": "code",
   "execution_count": 37,
   "metadata": {},
   "outputs": [
    {
     "output_type": "execute_result",
     "data": {
      "text/plain": [
       "5.9604645e-08"
      ]
     },
     "metadata": {},
     "execution_count": 37
    }
   ],
   "source": [
    "(((pred[3]-0.5)*0.9999999)+0.5).min()"
   ]
  },
  {
   "source": [
    "## Testing Custom batch sizes"
   ],
   "cell_type": "markdown",
   "metadata": {}
  },
  {
   "cell_type": "code",
   "execution_count": 1,
   "metadata": {},
   "outputs": [],
   "source": [
    "from utils import dataloader\n",
    "from utils import dataloader\n",
    "import utils.model\n",
    "from datetime import datetime\n",
    "from os.path import join\n",
    "\n",
    "filter_timestamp = None#int(datetime(2021, 2, 19, 0).timestamp())\n",
    "use_user_index = join(\"indices\",\"user_index.parquet\")#\"train_user_index.parquet\"\n",
    "csv_data_location = join(\"data\",\"test_files\")\n",
    "model_save_location = join(\"saved_models\",\"xgb_models_06_submission\")"
   ]
  },
  {
   "cell_type": "code",
   "execution_count": 2,
   "metadata": {},
   "outputs": [],
   "source": [
    "dl = dataloader.RecSys2021TSVDataLoader(csv_data_location, use_user_index, mode=\"test\", filter_timestamp=filter_timestamp, load_n_batches=-1, batch_size=1000000, verbose=2, random_file_sampling=True)"
   ]
  },
  {
   "cell_type": "code",
   "execution_count": 3,
   "metadata": {},
   "outputs": [
    {
     "output_type": "stream",
     "name": "stdout",
     "text": [
      "just one\n",
      "1000000\n",
      "Loaded Batch Nr. 1 in 6.10\n",
      "Timestamp Filtered Batch Nr. 1 in 0.00\n",
      "Did prepro part 1 of 1 in 0.20\n",
      "Did prepro part 2 of 1 in 11.80\n",
      "Did prepro part 3 of 1 in 0.05\n",
      "Merged Users of 1 in 21.76\n",
      "Extracted TE of 1 in 3.21\n",
      "Finished Batch Nr. 1 from file part-00003.csv in 45.47s!\n",
      "just one\n",
      "1000000\n",
      "Loaded Batch Nr. 2 in 7.32\n",
      "Timestamp Filtered Batch Nr. 2 in 0.00\n",
      "Did prepro part 1 of 2 in 0.20\n",
      "Did prepro part 2 of 2 in 11.87\n",
      "Did prepro part 3 of 2 in 0.05\n",
      "Merged Users of 2 in 22.05\n",
      "Extracted TE of 2 in 3.20\n",
      "Finished Batch Nr. 2 from file part-00003.csv in 47.02s!\n",
      "just one\n",
      "1000000\n",
      "Loaded Batch Nr. 3 in 8.79\n",
      "Timestamp Filtered Batch Nr. 3 in 0.00\n",
      "Did prepro part 1 of 3 in 0.20\n",
      "Did prepro part 2 of 3 in 11.85\n",
      "Did prepro part 3 of 3 in 0.05\n",
      "Merged Users of 3 in 22.73\n",
      "Extracted TE of 3 in 3.20\n",
      "Finished Batch Nr. 3 from file part-00003.csv in 49.16s!\n",
      "more than one 1000000\n",
      "1000000\n",
      "Loaded Batch Nr. 4 in 12.99\n",
      "Timestamp Filtered Batch Nr. 4 in 0.00\n",
      "Did prepro part 1 of 4 in 0.20\n",
      "Did prepro part 2 of 4 in 11.84\n",
      "Did prepro part 3 of 4 in 0.05\n",
      "Merged Users of 4 in 20.62\n",
      "Extracted TE of 4 in 3.22\n",
      "Finished Batch Nr. 4 from file part-00002.csv in 51.52s!\n",
      "just one\n",
      "1000000\n",
      "Loaded Batch Nr. 5 in 9.31\n",
      "Timestamp Filtered Batch Nr. 5 in 0.00\n",
      "Did prepro part 1 of 5 in 0.20\n",
      "Did prepro part 2 of 5 in 11.78\n",
      "Did prepro part 3 of 5 in 0.05\n",
      "Merged Users of 5 in 21.59\n",
      "Extracted TE of 5 in 3.18\n",
      "Finished Batch Nr. 5 from file part-00002.csv in 48.45s!\n",
      "just one\n",
      "1000000\n",
      "Loaded Batch Nr. 6 in 10.75\n",
      "Timestamp Filtered Batch Nr. 6 in 0.00\n",
      "Did prepro part 1 of 6 in 0.20\n",
      "Did prepro part 2 of 6 in 11.86\n",
      "Did prepro part 3 of 6 in 0.05\n",
      "Merged Users of 6 in 21.92\n",
      "Extracted TE of 6 in 3.19\n",
      "Finished Batch Nr. 6 from file part-00002.csv in 50.29s!\n",
      "just one\n",
      "21788\n",
      "Loaded Batch Nr. 7 in 5.44\n",
      "Timestamp Filtered Batch Nr. 7 in 0.00\n",
      "Did prepro part 1 of 7 in 0.01\n",
      "Did prepro part 2 of 7 in 0.26\n",
      "Did prepro part 3 of 7 in 0.00\n",
      "Merged Users of 7 in 20.21\n",
      "Extracted TE of 7 in 3.00\n",
      "Finished Batch Nr. 7 from file part-00002.csv in 29.01s!\n"
     ]
    }
   ],
   "source": [
    "r = [a[1] for a in dl]"
   ]
  },
  {
   "cell_type": "code",
   "execution_count": 4,
   "metadata": {},
   "outputs": [
    {
     "output_type": "stream",
     "name": "stdout",
     "text": [
      "1000000\n1000000\n1000000\n1000000\n1000000\n1000000\n21788\n"
     ]
    }
   ],
   "source": [
    "for df in r:\n",
    "    print(len(df))"
   ]
  },
  {
   "cell_type": "code",
   "execution_count": 17,
   "metadata": {},
   "outputs": [],
   "source": [
    "import utils.features as fe\n",
    "import utils.constants as co\n",
    "import pandas as pd\n",
    "import numpy as np"
   ]
  },
  {
   "cell_type": "code",
   "execution_count": 12,
   "metadata": {},
   "outputs": [],
   "source": [
    "current_file = pd.read_csv(\n",
    "                \"data/test_files/part-00002.csv\",\n",
    "                sep='\\x01',\n",
    "                header=None,\n",
    "                names=co.all_features,\n",
    "                dtype={k: v for k, v in co.dtypes_of_features.items() if k in co.all_features}\n",
    "            )"
   ]
  },
  {
   "cell_type": "code",
   "execution_count": 14,
   "metadata": {},
   "outputs": [],
   "source": [
    "current_file[\"medias\"] = current_file[\"medias\"].fillna(\"\")\n",
    "current_file[\"hashtags\"] = current_file[\"hashtags\"].fillna(\"\")\n",
    "current_file[\"links\"] = current_file[\"links\"].fillna(\"\")\n",
    "current_file[\"domains\"] = current_file[\"domains\"].fillna(\"\")\n",
    "current_file[\"medias\"] = current_file[\"medias\"].fillna(\"\")"
   ]
  },
  {
   "cell_type": "code",
   "execution_count": 27,
   "metadata": {},
   "outputs": [
    {
     "output_type": "execute_result",
     "data": {
      "text/plain": [
       "{-0.9502129554748535, 1.0, 2.0, 3.0, 4.000000476837158, 5.0, 7.0}"
      ]
     },
     "metadata": {},
     "execution_count": 27
    }
   ],
   "source": [
    "import numpy as np\n",
    "set(np.exp(train_data[\"n_gifs\"]+ train_data[\"n_photos\"] +train_data[\"n_videos\"])-1)"
   ]
  },
  {
   "source": [
    "# Other"
   ],
   "cell_type": "markdown",
   "metadata": {}
  },
  {
   "cell_type": "code",
   "execution_count": 3,
   "metadata": {},
   "outputs": [],
   "source": [
    "from utils import dataloader\n",
    "import utils.model\n",
    "from datetime import datetime\n",
    "from os.path import join\n",
    "from importlib import reload\n",
    "import torch\n",
    "\n",
    "filter_timestamp = int(datetime(2021, 2, 19, 0).timestamp())\n",
    "use_user_index = join(\"indices\",\"train_user_index_w_type.parquet\")#\"train_user_index.parquet\"\n",
    "csv_data_location = join(\"data\",\"downloaded_data\")\n",
    "model_save_location = join(\"saved_models\",\"xgb_models_15_better_index\")"
   ]
  },
  {
   "cell_type": "code",
   "execution_count": 2,
   "metadata": {},
   "outputs": [
    {
     "output_type": "stream",
     "name": "stdout",
     "text": [
      "Loading User Index\n",
      "Randomly keeping only 50.0% of the users.\n",
      "Removing day counts\n",
      "Extracting combined user counts\n",
      "Created Dataloader in 21.99 seconds!\n"
     ]
    }
   ],
   "source": [
    "dl = dataloader.RecSys2021TSVDataLoader(\n",
    "    csv_data_location, \n",
    "    use_user_index, \n",
    "    mode=\"train\", \n",
    "    filter_timestamp=filter_timestamp, \n",
    "    verbose=2, \n",
    "    remove_day_counts=True, \n",
    "    keep_user_percent=0.5, \n",
    "    batch_size = 100000,\n",
    "    minibatches_size = 64,\n",
    "    load_n_batches = 20,\n",
    "    normalize_batch = True\n",
    "    )"
   ]
  },
  {
   "cell_type": "code",
   "execution_count": 3,
   "metadata": {},
   "outputs": [],
   "source": [
    "nn = utils.model.RecSysNeural1(\"saved_models/nn1\",166).to(\"cuda\")"
   ]
  },
  {
   "cell_type": "code",
   "execution_count": 4,
   "metadata": {},
   "outputs": [
    {
     "output_type": "stream",
     "name": "stdout",
     "text": [
      "Loaded Batch Nr. 1 in 0.53\n",
      "Timestamp Filtered Batch Nr. 1 in 0.02\n",
      "Did prepro part 1 of 1 in 0.02\n",
      "Did prepro part 2 of 1 in 0.88\n",
      "Did prepro part 3 of 1 in 0.01\n",
      "Merged Users of 1 in 8.78\n",
      "Extracted TE of 1 in 5.36\n",
      "Finished Batch Nr. 1 from file part-00000.tsv in 15.86s!\n",
      "Loaded Batch Nr. 2 in 0.61\n",
      "Timestamp Filtered Batch Nr. 2 in 0.02\n",
      "Did prepro part 1 of 2 in 0.02\n",
      "Did prepro part 2 of 2 in 0.88\n",
      "Did prepro part 3 of 2 in 0.01\n",
      "Merged Users of 2 in 8.81\n",
      "Extracted TE of 2 in 5.29\n",
      "Finished Batch Nr. 2 from file part-00000.tsv in 15.91s!\n",
      "Loaded Batch Nr. 3 in 1.41\n",
      "Timestamp Filtered Batch Nr. 3 in 0.02\n",
      "Did prepro part 1 of 3 in 0.02\n",
      "Did prepro part 2 of 3 in 0.86\n",
      "Did prepro part 3 of 3 in 0.00\n",
      "Merged Users of 3 in 8.80\n",
      "Extracted TE of 3 in 5.32\n",
      "Finished Batch Nr. 3 from file part-00000.tsv in 16.70s!\n",
      "Loaded Batch Nr. 4 in 1.51\n",
      "Timestamp Filtered Batch Nr. 4 in 0.02\n",
      "Did prepro part 1 of 4 in 0.02\n",
      "Did prepro part 2 of 4 in 0.87\n",
      "Did prepro part 3 of 4 in 0.01\n",
      "Merged Users of 4 in 8.77\n",
      "Extracted TE of 4 in 5.38\n",
      "Finished Batch Nr. 4 from file part-00000.tsv in 16.85s!\n",
      "Loaded Batch Nr. 5 in 1.58\n",
      "Timestamp Filtered Batch Nr. 5 in 0.02\n",
      "Did prepro part 1 of 5 in 0.02\n",
      "Did prepro part 2 of 5 in 0.86\n",
      "Did prepro part 3 of 5 in 0.01\n",
      "Merged Users of 5 in 8.73\n",
      "Extracted TE of 5 in 5.30\n",
      "Finished Batch Nr. 5 from file part-00000.tsv in 16.79s!\n",
      "Loaded Batch Nr. 6 in 1.71\n",
      "Timestamp Filtered Batch Nr. 6 in 0.02\n",
      "Did prepro part 1 of 6 in 0.02\n",
      "Did prepro part 2 of 6 in 0.87\n",
      "Did prepro part 3 of 6 in 0.01\n",
      "Merged Users of 6 in 8.79\n",
      "Extracted TE of 6 in 5.32\n",
      "Finished Batch Nr. 6 from file part-00000.tsv in 17.00s!\n",
      "Loaded Batch Nr. 7 in 1.78\n",
      "Timestamp Filtered Batch Nr. 7 in 0.02\n",
      "Did prepro part 1 of 7 in 0.02\n",
      "Did prepro part 2 of 7 in 0.87\n",
      "Did prepro part 3 of 7 in 0.01\n",
      "Merged Users of 7 in 8.82\n",
      "Extracted TE of 7 in 5.35\n",
      "Finished Batch Nr. 7 from file part-00000.tsv in 17.15s!\n",
      "Loaded Batch Nr. 8 in 1.88\n",
      "Timestamp Filtered Batch Nr. 8 in 0.02\n",
      "Did prepro part 1 of 8 in 0.02\n",
      "Did prepro part 2 of 8 in 0.86\n",
      "Did prepro part 3 of 8 in 0.01\n",
      "Merged Users of 8 in 8.76\n",
      "Extracted TE of 8 in 5.33\n",
      "Finished Batch Nr. 8 from file part-00000.tsv in 17.14s!\n",
      "Loaded Batch Nr. 9 in 1.92\n",
      "Timestamp Filtered Batch Nr. 9 in 0.02\n",
      "Did prepro part 1 of 9 in 0.02\n",
      "Did prepro part 2 of 9 in 0.87\n",
      "Did prepro part 3 of 9 in 0.01\n",
      "Merged Users of 9 in 8.84\n",
      "Extracted TE of 9 in 5.29\n",
      "Finished Batch Nr. 9 from file part-00000.tsv in 17.23s!\n",
      "Loaded Batch Nr. 10 in 2.10\n",
      "Timestamp Filtered Batch Nr. 10 in 0.02\n",
      "Did prepro part 1 of 10 in 0.02\n",
      "Did prepro part 2 of 10 in 0.88\n",
      "Did prepro part 3 of 10 in 0.01\n",
      "Merged Users of 10 in 8.81\n",
      "Extracted TE of 10 in 5.33\n",
      "Finished Batch Nr. 10 from file part-00000.tsv in 17.42s!\n",
      "Loaded Batch Nr. 11 in 2.09\n",
      "Timestamp Filtered Batch Nr. 11 in 0.02\n",
      "Did prepro part 1 of 11 in 0.02\n",
      "Did prepro part 2 of 11 in 0.86\n",
      "Did prepro part 3 of 11 in 0.01\n",
      "Merged Users of 11 in 8.81\n",
      "Extracted TE of 11 in 5.30\n",
      "Finished Batch Nr. 11 from file part-00000.tsv in 17.38s!\n",
      "Loaded Batch Nr. 12 in 2.21\n",
      "Timestamp Filtered Batch Nr. 12 in 0.02\n",
      "Did prepro part 1 of 12 in 0.02\n",
      "Did prepro part 2 of 12 in 0.88\n",
      "Did prepro part 3 of 12 in 0.01\n",
      "Merged Users of 12 in 8.76\n",
      "Extracted TE of 12 in 5.34\n",
      "Finished Batch Nr. 12 from file part-00000.tsv in 17.50s!\n",
      "Loaded Batch Nr. 13 in 2.31\n",
      "Timestamp Filtered Batch Nr. 13 in 0.02\n",
      "Did prepro part 1 of 13 in 0.02\n",
      "Did prepro part 2 of 13 in 0.87\n",
      "Did prepro part 3 of 13 in 0.01\n",
      "Merged Users of 13 in 8.71\n",
      "Extracted TE of 13 in 5.30\n",
      "Finished Batch Nr. 13 from file part-00000.tsv in 17.50s!\n",
      "Loaded Batch Nr. 14 in 2.40\n",
      "Timestamp Filtered Batch Nr. 14 in 0.02\n",
      "Did prepro part 1 of 14 in 0.02\n",
      "Did prepro part 2 of 14 in 0.88\n",
      "Did prepro part 3 of 14 in 0.01\n",
      "Merged Users of 14 in 8.77\n",
      "Extracted TE of 14 in 5.29\n",
      "Finished Batch Nr. 14 from file part-00000.tsv in 17.66s!\n",
      "Loaded Batch Nr. 15 in 2.51\n",
      "Timestamp Filtered Batch Nr. 15 in 0.02\n",
      "Did prepro part 1 of 15 in 0.02\n",
      "Did prepro part 2 of 15 in 0.88\n",
      "Did prepro part 3 of 15 in 0.01\n",
      "Merged Users of 15 in 8.82\n",
      "Extracted TE of 15 in 5.35\n",
      "Finished Batch Nr. 15 from file part-00000.tsv in 17.87s!\n",
      "Loaded Batch Nr. 16 in 2.69\n",
      "Timestamp Filtered Batch Nr. 16 in 0.02\n",
      "Did prepro part 1 of 16 in 0.02\n",
      "Did prepro part 2 of 16 in 0.87\n",
      "Did prepro part 3 of 16 in 0.01\n",
      "Merged Users of 16 in 8.79\n",
      "Extracted TE of 16 in 5.34\n",
      "Finished Batch Nr. 16 from file part-00000.tsv in 18.01s!\n",
      "Loaded Batch Nr. 17 in 2.68\n",
      "Timestamp Filtered Batch Nr. 17 in 0.02\n",
      "Did prepro part 1 of 17 in 0.02\n",
      "Did prepro part 2 of 17 in 0.86\n",
      "Did prepro part 3 of 17 in 0.00\n",
      "Merged Users of 17 in 8.78\n",
      "Extracted TE of 17 in 5.30\n",
      "Finished Batch Nr. 17 from file part-00000.tsv in 17.92s!\n",
      "Loaded Batch Nr. 18 in 2.73\n",
      "Timestamp Filtered Batch Nr. 18 in 0.02\n",
      "Did prepro part 1 of 18 in 0.02\n",
      "Did prepro part 2 of 18 in 0.88\n",
      "Did prepro part 3 of 18 in 0.00\n",
      "Merged Users of 18 in 8.73\n",
      "Extracted TE of 18 in 5.30\n",
      "Finished Batch Nr. 18 from file part-00000.tsv in 17.96s!\n",
      "Loaded Batch Nr. 19 in 2.83\n",
      "Timestamp Filtered Batch Nr. 19 in 0.02\n",
      "Did prepro part 1 of 19 in 0.02\n",
      "Did prepro part 2 of 19 in 0.86\n",
      "Did prepro part 3 of 19 in 0.01\n",
      "Merged Users of 19 in 8.69\n",
      "Extracted TE of 19 in 5.29\n",
      "Finished Batch Nr. 19 from file part-00000.tsv in 17.99s!\n",
      "Loaded Batch Nr. 20 in 3.06\n",
      "Timestamp Filtered Batch Nr. 20 in 0.02\n",
      "Did prepro part 1 of 20 in 0.02\n",
      "Did prepro part 2 of 20 in 0.88\n",
      "Did prepro part 3 of 20 in 0.00\n",
      "Merged Users of 20 in 8.81\n",
      "Extracted TE of 20 in 5.28\n",
      "Finished Batch Nr. 20 from file part-00000.tsv in 18.33s!\n"
     ]
    }
   ],
   "source": [
    "nn.fit(dl, 1)"
   ]
  },
  {
   "cell_type": "code",
   "execution_count": 5,
   "metadata": {},
   "outputs": [
    {
     "output_type": "stream",
     "name": "stdout",
     "text": [
      "Loading User Index\n",
      "Removing day counts\n",
      "Extracting combined user counts\n",
      "Created Dataloader in 9.23 seconds!\n",
      "Loaded Batch Nr. 1 in 0.50\n",
      "Timestamp Filtered Batch Nr. 1 in 0.01\n",
      "Did prepro part 1 of 1 in 0.01\n",
      "Did prepro part 2 of 1 in 0.35\n",
      "Did prepro part 3 of 1 in 0.00\n",
      "Merged Users of 1 in 20.75\n",
      "Extracted TE of 1 in 10.51\n",
      "Finished Batch Nr. 1 from file part-00000.tsv in 32.27s!\n",
      "Loaded Batch Nr. 2 in 0.60\n",
      "Timestamp Filtered Batch Nr. 2 in 0.01\n",
      "Did prepro part 1 of 2 in 0.01\n",
      "Did prepro part 2 of 2 in 0.36\n",
      "Did prepro part 3 of 2 in 0.00\n",
      "Merged Users of 2 in 19.24\n",
      "Extracted TE of 2 in 10.39\n",
      "Finished Batch Nr. 2 from file part-00000.tsv in 30.75s!\n"
     ]
    },
    {
     "output_type": "execute_result",
     "data": {
      "text/plain": [
       "{'Q1_reply_rce': -55.06375529232655,\n",
       " 'Q1_retweet_rce': 2.022846040964088,\n",
       " 'Q1_retweet_comment_rce': -1779.8738613419546,\n",
       " 'Q1_like_rce': -33.556324489285075,\n",
       " 'Q1_reply_avg_prec': 0.15847665901759944,\n",
       " 'Q1_retweet_avg_prec': 0.3183992278567487,\n",
       " 'Q1_retweet_comment_avg_prec': 0.012456490593981896,\n",
       " 'Q1_like_avg_prec': 0.6371322559900724,\n",
       " 'Q2_reply_rce': -69.87847181000113,\n",
       " 'Q2_retweet_rce': 6.4290856674497965,\n",
       " 'Q2_retweet_comment_rce': -1713.128849104653,\n",
       " 'Q2_like_rce': -26.586873867452155,\n",
       " 'Q2_reply_avg_prec': 0.15787283026510363,\n",
       " 'Q2_retweet_avg_prec': 0.30418172967899715,\n",
       " 'Q2_retweet_comment_avg_prec': 0.0320185234437078,\n",
       " 'Q2_like_avg_prec': 0.6575847322885718,\n",
       " 'Q3_reply_rce': -68.04658336242227,\n",
       " 'Q3_retweet_rce': 11.167206860620848,\n",
       " 'Q3_retweet_comment_rce': -1096.8625199070543,\n",
       " 'Q3_like_rce': -15.533225203282308,\n",
       " 'Q3_reply_avg_prec': 0.17978344581739844,\n",
       " 'Q3_retweet_avg_prec': 0.3482818652909233,\n",
       " 'Q3_retweet_comment_avg_prec': 0.015857833740217535,\n",
       " 'Q3_like_avg_prec': 0.6567000236385427,\n",
       " 'Q4_reply_rce': -94.08723578637476,\n",
       " 'Q4_retweet_rce': 14.027504353393683,\n",
       " 'Q4_retweet_comment_rce': -1043.8681907205514,\n",
       " 'Q4_like_rce': -15.70046307663635,\n",
       " 'Q4_reply_avg_prec': 0.1357782597762223,\n",
       " 'Q4_retweet_avg_prec': 0.37342436753051944,\n",
       " 'Q4_retweet_comment_avg_prec': 0.03359344801286888,\n",
       " 'Q4_like_avg_prec': 0.6577912227315191,\n",
       " 'Q5_reply_rce': -114.27845531785246,\n",
       " 'Q5_retweet_rce': 7.551634417797592,\n",
       " 'Q5_retweet_comment_rce': -1171.679261120721,\n",
       " 'Q5_like_rce': -3.3687576940799158,\n",
       " 'Q5_reply_avg_prec': 0.09227073574736669,\n",
       " 'Q5_retweet_avg_prec': 0.28978193582223455,\n",
       " 'Q5_retweet_comment_avg_prec': 0.017640340920890958,\n",
       " 'Q5_like_avg_prec': 0.657477525382726,\n",
       " 'TOTAL_reply_rce': -80.27090031379544,\n",
       " 'TOTAL_retweet_rce': 8.239655468045202,\n",
       " 'TOTAL_retweet_comment_rce': -1361.082536438987,\n",
       " 'TOTAL_like_rce': -18.949128866147163,\n",
       " 'TOTAL_reply_avg_prec': 0.1448363861247381,\n",
       " 'TOTAL_retweet_avg_prec': 0.32681382523588465,\n",
       " 'TOTAL_retweet_comment_avg_prec': 0.022313327342333412,\n",
       " 'TOTAL_like_avg_prec': 0.6533371520062864}"
      ]
     },
     "metadata": {},
     "execution_count": 5
    }
   ],
   "source": [
    "dl = dataloader.RecSys2021TSVDataLoader(\n",
    "    csv_data_location, \n",
    "    use_user_index, \n",
    "    mode=\"val\", \n",
    "    filter_timestamp=filter_timestamp, \n",
    "    verbose=2,\n",
    "    remove_day_counts=True, \n",
    "    keep_user_percent=1, \n",
    "    batch_size = 100000,\n",
    "    minibatches_size = 64,\n",
    "    load_n_batches = 2,\n",
    "    normalize_batch = True\n",
    ")\n",
    "\n",
    "nn.evaluate_validation_set(dl)"
   ]
  },
  {
   "cell_type": "code",
   "execution_count": 2,
   "metadata": {},
   "outputs": [],
   "source": [
    "from utils.constants import user_group_weights\n",
    "import torch"
   ]
  },
  {
   "cell_type": "code",
   "execution_count": 7,
   "metadata": {},
   "outputs": [],
   "source": [
    "groups = [1,2,4,5]"
   ]
  },
  {
   "cell_type": "code",
   "execution_count": 8,
   "metadata": {},
   "outputs": [
    {
     "output_type": "execute_result",
     "data": {
      "text/plain": [
       "[0.9870774328685435,\n",
       " 0.9705157535873209,\n",
       " 0.8466576397178028,\n",
       " 0.4343195950966685]"
      ]
     },
     "metadata": {},
     "execution_count": 8
    }
   ],
   "source": [
    "[user_group_weights[it] for it in groups]"
   ]
  },
  {
   "source": [
    "# Other"
   ],
   "cell_type": "markdown",
   "metadata": {}
  },
  {
   "cell_type": "code",
   "execution_count": 1,
   "metadata": {},
   "outputs": [],
   "source": [
    "import utils.download"
   ]
  },
  {
   "cell_type": "code",
   "execution_count": 2,
   "metadata": {},
   "outputs": [
    {
     "output_type": "stream",
     "name": "stdout",
     "text": [
      "Downloading https://storage.googleapis.com to data/validation_data/part-00000.lzo... done\n",
      "Uncompressing data/validation_data/part-00000.lzo... done\n",
      "Downloading https://storage.googleapis.com to data/validation_data/part-00001.lzo... done\n",
      "Uncompressing data/validation_data/part-00001.lzo... done\n"
     ]
    }
   ],
   "source": [
    "utils.download.download_data(\"validation_urls.txt\",\"data/validation_data\", delete_compressed = False)"
   ]
  },
  {
   "cell_type": "code",
   "execution_count": 10,
   "metadata": {},
   "outputs": [],
   "source": [
    "import pandas as pd\n",
    "from utils.constants import all_columns, dtypes_of_features, all_features"
   ]
  },
  {
   "cell_type": "code",
   "execution_count": 11,
   "metadata": {},
   "outputs": [
    {
     "output_type": "execute_result",
     "data": {
      "text/plain": [
       "                     bert_base_multilingual_cased_tokens  \\\n",
       "0      101\\t157\\t39554\\t117\\t51747\\t10479\\t27874\\t101...   \n",
       "1      101\\t14120\\t131\\t120\\t120\\t188\\t119\\t11170\\t12...   \n",
       "2      101\\t56898\\t137\\t10279\\t10908\\t10138\\t168\\t398...   \n",
       "3      101\\t56898\\t137\\t12275\\t10738\\t11534\\t15417\\t9...   \n",
       "4      101\\t109821\\t24093\\t14703\\t30118\\t11259\\t160\\t...   \n",
       "...                                                  ...   \n",
       "99995  101\\t49056\\t27354\\t34935\\t69618\\t39752\\t10230\\...   \n",
       "99996  101\\t10911\\t146\\t100\\t172\\t16863\\t29597\\t86607...   \n",
       "99997  101\\t56898\\t137\\t14424\\t168\\t48742\\t131\\t108\\t...   \n",
       "99998  101\\t1894\\t88218\\t7860\\t2316\\t1895\\t108\\t2087\\...   \n",
       "99999  101\\t24625\\t12216\\t16190\\t20934\\t10305\\t39135\\...   \n",
       "\n",
       "                                                hashtags  \\\n",
       "0                                                    NaN   \n",
       "1                                                    NaN   \n",
       "2      90C52DDF506D1C98EE678E84C08C36AB\\tCD8639BABE54...   \n",
       "3      D704B4128E35F9BC995E701523676542\\tCFD3AF9039C6...   \n",
       "4                                                    NaN   \n",
       "...                                                  ...   \n",
       "99995                   E27EDC9E620D43F17663DCAEAA958585   \n",
       "99996                                                NaN   \n",
       "99997  4A99F523FECC5224DFB8B55027794D21\\t18B9EA3B7FDC...   \n",
       "99998  35825087788754DC26ED3A6364FD3A55\\tD1E4BFB9BD83...   \n",
       "99999                                                NaN   \n",
       "\n",
       "                               tweet_id                      medias  \\\n",
       "0      0C8E7372269942BB173EED7C0A72DA09                         NaN   \n",
       "1      858720854891DFED04A5B91758049833                       Photo   \n",
       "2      1988AA4069C46F57990B6983FBD427A6                         NaN   \n",
       "3      89C86150124016236B7D4A286B041210                         NaN   \n",
       "4      971197A8E595128D8BAF8F3F9D20CFF3                Photo\\tPhoto   \n",
       "...                                 ...                         ...   \n",
       "99995  B434BB652FBBA4D4CA2C8B75CD65D60D  Photo\\tPhoto\\tPhoto\\tPhoto   \n",
       "99996  710CA52FDB579F8C375D21CF967DD32A                         NaN   \n",
       "99997  ACF411715253EA6B18794E067D62D530                         NaN   \n",
       "99998  0F6E4AF7D5A70C4C9519D224604EB61C                         NaN   \n",
       "99999  00AD7C226F494AB80FE24B262CDA7092  Photo\\tPhoto\\tPhoto\\tPhoto   \n",
       "\n",
       "                                  links                           domains  \\\n",
       "0                                   NaN                               NaN   \n",
       "1                                   NaN                               NaN   \n",
       "2      D249E94F6D37A7D5E37185E02C94CDFF  9EFF000CDB18B710CDDB43EE1D8C300B   \n",
       "3                                   NaN                               NaN   \n",
       "4                                   NaN                               NaN   \n",
       "...                                 ...                               ...   \n",
       "99995                               NaN                               NaN   \n",
       "99996                               NaN                               NaN   \n",
       "99997                               NaN                               NaN   \n",
       "99998  A33C298D80264AFAB5612248F785024C  1CE85CC733BA6144D83EDF75F95DCA4E   \n",
       "99999                               NaN                               NaN   \n",
       "\n",
       "           type                          language   timestamp  \\\n",
       "0         Quote  488B32D24BD4BB44172EB981C1BCA6FA  1614523782   \n",
       "1      TopLevel  313ECD3A1E5BB07406E4249475C2D6D6  1614335436   \n",
       "2       Retweet  E7F038DE3EAD397AEC9193686C911677  1614618153   \n",
       "3       Retweet  E7F038DE3EAD397AEC9193686C911677  1614714932   \n",
       "4      TopLevel  488B32D24BD4BB44172EB981C1BCA6FA  1614559113   \n",
       "...         ...                               ...         ...   \n",
       "99995  TopLevel  488B32D24BD4BB44172EB981C1BCA6FA  1614747844   \n",
       "99996  TopLevel  488B32D24BD4BB44172EB981C1BCA6FA  1614670776   \n",
       "99997   Retweet  E7F038DE3EAD397AEC9193686C911677  1614768600   \n",
       "99998  TopLevel  E7F038DE3EAD397AEC9193686C911677  1614238664   \n",
       "99999  TopLevel  1F73BB863A39DB62B4A55B7E558DB1E8  1614248932   \n",
       "\n",
       "                              a_user_id  ...  \\\n",
       "0      8B7BB615A39DF112B0037E960C27F220  ...   \n",
       "1      74B09D5BC3FCE5CC4DEE34BF049A0EE5  ...   \n",
       "2      316C2BE47E445DA930E56C12F3AF31C5  ...   \n",
       "3      C19FC40FBF0AA0BAC4797BD47483349B  ...   \n",
       "4      46846BF25E56F8BA11C0AE36ED31B28F  ...   \n",
       "...                                 ...  ...   \n",
       "99995  967E7C2A6A7F277E37C8E77D224B7E18  ...   \n",
       "99996  04F8A6F207D69EF1E63F4926D1D4DBAB  ...   \n",
       "99997  3AD09AAD3F97E386B12E14772CAA5E67  ...   \n",
       "99998  2D2E9B9AD37B72325FDEA86D1197975D  ...   \n",
       "99999  FA3D16F4CF4256512B2FEEECA6378146  ...   \n",
       "\n",
       "                              b_user_id  b_follower_count  b_following_count  \\\n",
       "0      3044AFDB7E977FB7F62D49C5C97794B7              1128               4028   \n",
       "1      23ACD97ACEF57BF6416670BE1133A664                72                115   \n",
       "2      99F829F88A12BF8B92EDF11A10B6533C               130                638   \n",
       "3      A3A7B6D928FAD730BA9967B53EA7CC28               234                640   \n",
       "4      BA94D75FC03B42F88CAE61485E075960                 8                208   \n",
       "...                                 ...               ...                ...   \n",
       "99995  F9414BF0E778E51C5BC48655D0C52583              4542               1401   \n",
       "99996  D8462FB3BBD84B0431CF79EC2D106983               738                677   \n",
       "99997  7A7A62AC9D03EC812B0971FFCE113A9B               324               1736   \n",
       "99998  3EA329F4500E2FB2DFEF0C482E43C2D5                 8                 57   \n",
       "99999  5288EF236BD63A6A403F58A821A38B19               381                525   \n",
       "\n",
       "       b_is_verified b_account_creation  a_follows_b  reply  retweet  \\\n",
       "0              False         1419763073        False    NaN      NaN   \n",
       "1              False         1600058407        False    NaN      NaN   \n",
       "2              False         1257076693        False    NaN      NaN   \n",
       "3              False         1599725409        False    NaN      NaN   \n",
       "4              False         1532879982        False    NaN      NaN   \n",
       "...              ...                ...          ...    ...      ...   \n",
       "99995          False         1344160517         True    NaN      NaN   \n",
       "99996          False         1288417538        False    NaN      NaN   \n",
       "99997          False         1339671557         True    NaN      NaN   \n",
       "99998          False         1548231263        False    NaN      NaN   \n",
       "99999          False         1349299536         True    NaN      NaN   \n",
       "\n",
       "       retweet_comment          like  \n",
       "0                  NaN  1.614526e+09  \n",
       "1                  NaN  1.614379e+09  \n",
       "2                  NaN           NaN  \n",
       "3                  NaN  1.614715e+09  \n",
       "4                  NaN  1.614618e+09  \n",
       "...                ...           ...  \n",
       "99995              NaN  1.614755e+09  \n",
       "99996              NaN           NaN  \n",
       "99997              NaN           NaN  \n",
       "99998              NaN           NaN  \n",
       "99999              NaN  1.614249e+09  \n",
       "\n",
       "[100000 rows x 24 columns]"
      ],
      "text/html": "<div>\n<style scoped>\n    .dataframe tbody tr th:only-of-type {\n        vertical-align: middle;\n    }\n\n    .dataframe tbody tr th {\n        vertical-align: top;\n    }\n\n    .dataframe thead th {\n        text-align: right;\n    }\n</style>\n<table border=\"1\" class=\"dataframe\">\n  <thead>\n    <tr style=\"text-align: right;\">\n      <th></th>\n      <th>bert_base_multilingual_cased_tokens</th>\n      <th>hashtags</th>\n      <th>tweet_id</th>\n      <th>medias</th>\n      <th>links</th>\n      <th>domains</th>\n      <th>type</th>\n      <th>language</th>\n      <th>timestamp</th>\n      <th>a_user_id</th>\n      <th>...</th>\n      <th>b_user_id</th>\n      <th>b_follower_count</th>\n      <th>b_following_count</th>\n      <th>b_is_verified</th>\n      <th>b_account_creation</th>\n      <th>a_follows_b</th>\n      <th>reply</th>\n      <th>retweet</th>\n      <th>retweet_comment</th>\n      <th>like</th>\n    </tr>\n  </thead>\n  <tbody>\n    <tr>\n      <th>0</th>\n      <td>101\\t157\\t39554\\t117\\t51747\\t10479\\t27874\\t101...</td>\n      <td>NaN</td>\n      <td>0C8E7372269942BB173EED7C0A72DA09</td>\n      <td>NaN</td>\n      <td>NaN</td>\n      <td>NaN</td>\n      <td>Quote</td>\n      <td>488B32D24BD4BB44172EB981C1BCA6FA</td>\n      <td>1614523782</td>\n      <td>8B7BB615A39DF112B0037E960C27F220</td>\n      <td>...</td>\n      <td>3044AFDB7E977FB7F62D49C5C97794B7</td>\n      <td>1128</td>\n      <td>4028</td>\n      <td>False</td>\n      <td>1419763073</td>\n      <td>False</td>\n      <td>NaN</td>\n      <td>NaN</td>\n      <td>NaN</td>\n      <td>1.614526e+09</td>\n    </tr>\n    <tr>\n      <th>1</th>\n      <td>101\\t14120\\t131\\t120\\t120\\t188\\t119\\t11170\\t12...</td>\n      <td>NaN</td>\n      <td>858720854891DFED04A5B91758049833</td>\n      <td>Photo</td>\n      <td>NaN</td>\n      <td>NaN</td>\n      <td>TopLevel</td>\n      <td>313ECD3A1E5BB07406E4249475C2D6D6</td>\n      <td>1614335436</td>\n      <td>74B09D5BC3FCE5CC4DEE34BF049A0EE5</td>\n      <td>...</td>\n      <td>23ACD97ACEF57BF6416670BE1133A664</td>\n      <td>72</td>\n      <td>115</td>\n      <td>False</td>\n      <td>1600058407</td>\n      <td>False</td>\n      <td>NaN</td>\n      <td>NaN</td>\n      <td>NaN</td>\n      <td>1.614379e+09</td>\n    </tr>\n    <tr>\n      <th>2</th>\n      <td>101\\t56898\\t137\\t10279\\t10908\\t10138\\t168\\t398...</td>\n      <td>90C52DDF506D1C98EE678E84C08C36AB\\tCD8639BABE54...</td>\n      <td>1988AA4069C46F57990B6983FBD427A6</td>\n      <td>NaN</td>\n      <td>D249E94F6D37A7D5E37185E02C94CDFF</td>\n      <td>9EFF000CDB18B710CDDB43EE1D8C300B</td>\n      <td>Retweet</td>\n      <td>E7F038DE3EAD397AEC9193686C911677</td>\n      <td>1614618153</td>\n      <td>316C2BE47E445DA930E56C12F3AF31C5</td>\n      <td>...</td>\n      <td>99F829F88A12BF8B92EDF11A10B6533C</td>\n      <td>130</td>\n      <td>638</td>\n      <td>False</td>\n      <td>1257076693</td>\n      <td>False</td>\n      <td>NaN</td>\n      <td>NaN</td>\n      <td>NaN</td>\n      <td>NaN</td>\n    </tr>\n    <tr>\n      <th>3</th>\n      <td>101\\t56898\\t137\\t12275\\t10738\\t11534\\t15417\\t9...</td>\n      <td>D704B4128E35F9BC995E701523676542\\tCFD3AF9039C6...</td>\n      <td>89C86150124016236B7D4A286B041210</td>\n      <td>NaN</td>\n      <td>NaN</td>\n      <td>NaN</td>\n      <td>Retweet</td>\n      <td>E7F038DE3EAD397AEC9193686C911677</td>\n      <td>1614714932</td>\n      <td>C19FC40FBF0AA0BAC4797BD47483349B</td>\n      <td>...</td>\n      <td>A3A7B6D928FAD730BA9967B53EA7CC28</td>\n      <td>234</td>\n      <td>640</td>\n      <td>False</td>\n      <td>1599725409</td>\n      <td>False</td>\n      <td>NaN</td>\n      <td>NaN</td>\n      <td>NaN</td>\n      <td>1.614715e+09</td>\n    </tr>\n    <tr>\n      <th>4</th>\n      <td>101\\t109821\\t24093\\t14703\\t30118\\t11259\\t160\\t...</td>\n      <td>NaN</td>\n      <td>971197A8E595128D8BAF8F3F9D20CFF3</td>\n      <td>Photo\\tPhoto</td>\n      <td>NaN</td>\n      <td>NaN</td>\n      <td>TopLevel</td>\n      <td>488B32D24BD4BB44172EB981C1BCA6FA</td>\n      <td>1614559113</td>\n      <td>46846BF25E56F8BA11C0AE36ED31B28F</td>\n      <td>...</td>\n      <td>BA94D75FC03B42F88CAE61485E075960</td>\n      <td>8</td>\n      <td>208</td>\n      <td>False</td>\n      <td>1532879982</td>\n      <td>False</td>\n      <td>NaN</td>\n      <td>NaN</td>\n      <td>NaN</td>\n      <td>1.614618e+09</td>\n    </tr>\n    <tr>\n      <th>...</th>\n      <td>...</td>\n      <td>...</td>\n      <td>...</td>\n      <td>...</td>\n      <td>...</td>\n      <td>...</td>\n      <td>...</td>\n      <td>...</td>\n      <td>...</td>\n      <td>...</td>\n      <td>...</td>\n      <td>...</td>\n      <td>...</td>\n      <td>...</td>\n      <td>...</td>\n      <td>...</td>\n      <td>...</td>\n      <td>...</td>\n      <td>...</td>\n      <td>...</td>\n      <td>...</td>\n    </tr>\n    <tr>\n      <th>99995</th>\n      <td>101\\t49056\\t27354\\t34935\\t69618\\t39752\\t10230\\...</td>\n      <td>E27EDC9E620D43F17663DCAEAA958585</td>\n      <td>B434BB652FBBA4D4CA2C8B75CD65D60D</td>\n      <td>Photo\\tPhoto\\tPhoto\\tPhoto</td>\n      <td>NaN</td>\n      <td>NaN</td>\n      <td>TopLevel</td>\n      <td>488B32D24BD4BB44172EB981C1BCA6FA</td>\n      <td>1614747844</td>\n      <td>967E7C2A6A7F277E37C8E77D224B7E18</td>\n      <td>...</td>\n      <td>F9414BF0E778E51C5BC48655D0C52583</td>\n      <td>4542</td>\n      <td>1401</td>\n      <td>False</td>\n      <td>1344160517</td>\n      <td>True</td>\n      <td>NaN</td>\n      <td>NaN</td>\n      <td>NaN</td>\n      <td>1.614755e+09</td>\n    </tr>\n    <tr>\n      <th>99996</th>\n      <td>101\\t10911\\t146\\t100\\t172\\t16863\\t29597\\t86607...</td>\n      <td>NaN</td>\n      <td>710CA52FDB579F8C375D21CF967DD32A</td>\n      <td>NaN</td>\n      <td>NaN</td>\n      <td>NaN</td>\n      <td>TopLevel</td>\n      <td>488B32D24BD4BB44172EB981C1BCA6FA</td>\n      <td>1614670776</td>\n      <td>04F8A6F207D69EF1E63F4926D1D4DBAB</td>\n      <td>...</td>\n      <td>D8462FB3BBD84B0431CF79EC2D106983</td>\n      <td>738</td>\n      <td>677</td>\n      <td>False</td>\n      <td>1288417538</td>\n      <td>False</td>\n      <td>NaN</td>\n      <td>NaN</td>\n      <td>NaN</td>\n      <td>NaN</td>\n    </tr>\n    <tr>\n      <th>99997</th>\n      <td>101\\t56898\\t137\\t14424\\t168\\t48742\\t131\\t108\\t...</td>\n      <td>4A99F523FECC5224DFB8B55027794D21\\t18B9EA3B7FDC...</td>\n      <td>ACF411715253EA6B18794E067D62D530</td>\n      <td>NaN</td>\n      <td>NaN</td>\n      <td>NaN</td>\n      <td>Retweet</td>\n      <td>E7F038DE3EAD397AEC9193686C911677</td>\n      <td>1614768600</td>\n      <td>3AD09AAD3F97E386B12E14772CAA5E67</td>\n      <td>...</td>\n      <td>7A7A62AC9D03EC812B0971FFCE113A9B</td>\n      <td>324</td>\n      <td>1736</td>\n      <td>False</td>\n      <td>1339671557</td>\n      <td>True</td>\n      <td>NaN</td>\n      <td>NaN</td>\n      <td>NaN</td>\n      <td>NaN</td>\n    </tr>\n    <tr>\n      <th>99998</th>\n      <td>101\\t1894\\t88218\\t7860\\t2316\\t1895\\t108\\t2087\\...</td>\n      <td>35825087788754DC26ED3A6364FD3A55\\tD1E4BFB9BD83...</td>\n      <td>0F6E4AF7D5A70C4C9519D224604EB61C</td>\n      <td>NaN</td>\n      <td>A33C298D80264AFAB5612248F785024C</td>\n      <td>1CE85CC733BA6144D83EDF75F95DCA4E</td>\n      <td>TopLevel</td>\n      <td>E7F038DE3EAD397AEC9193686C911677</td>\n      <td>1614238664</td>\n      <td>2D2E9B9AD37B72325FDEA86D1197975D</td>\n      <td>...</td>\n      <td>3EA329F4500E2FB2DFEF0C482E43C2D5</td>\n      <td>8</td>\n      <td>57</td>\n      <td>False</td>\n      <td>1548231263</td>\n      <td>False</td>\n      <td>NaN</td>\n      <td>NaN</td>\n      <td>NaN</td>\n      <td>NaN</td>\n    </tr>\n    <tr>\n      <th>99999</th>\n      <td>101\\t24625\\t12216\\t16190\\t20934\\t10305\\t39135\\...</td>\n      <td>NaN</td>\n      <td>00AD7C226F494AB80FE24B262CDA7092</td>\n      <td>Photo\\tPhoto\\tPhoto\\tPhoto</td>\n      <td>NaN</td>\n      <td>NaN</td>\n      <td>TopLevel</td>\n      <td>1F73BB863A39DB62B4A55B7E558DB1E8</td>\n      <td>1614248932</td>\n      <td>FA3D16F4CF4256512B2FEEECA6378146</td>\n      <td>...</td>\n      <td>5288EF236BD63A6A403F58A821A38B19</td>\n      <td>381</td>\n      <td>525</td>\n      <td>False</td>\n      <td>1349299536</td>\n      <td>True</td>\n      <td>NaN</td>\n      <td>NaN</td>\n      <td>NaN</td>\n      <td>1.614249e+09</td>\n    </tr>\n  </tbody>\n</table>\n<p>100000 rows × 24 columns</p>\n</div>"
     },
     "metadata": {},
     "execution_count": 11
    }
   ],
   "source": [
    "pd.read_csv(\"data/validation_data/part-00000.lzo\",\n",
    "                sep='\\x01',\n",
    "                header=None,\n",
    "                names=all_columns,\n",
    "                dtype={k: v for k, v in dtypes_of_features.items() if k in all_features},\n",
    "                nrows = 100000\n",
    "                )"
   ]
  },
  {
   "cell_type": "code",
   "execution_count": 3,
   "metadata": {},
   "outputs": [
    {
     "output_type": "stream",
     "name": "stdout",
     "text": [
      "Loaded Batch Nr. 1 in 8.59\n",
      "Timestamp Filtered Batch Nr. 1 in 0.00\n",
      "Did prepro part 1 of 1 in 0.36\n",
      "Did prepro part 2 of 1 in 20.40\n",
      "Did prepro part 3 of 1 in 0.09\n",
      "Merged Users of 1 in 25.17\n",
      "Extracted TE of 1 in 14.11\n",
      "Finished Batch Nr. 1 from file part-00000.tsv in 73.28s!\n"
     ]
    }
   ],
   "source": [
    "res = next(iter(dl))"
   ]
  },
  {
   "cell_type": "code",
   "execution_count": 5,
   "metadata": {},
   "outputs": [
    {
     "output_type": "stream",
     "name": "stdout",
     "text": [
      "a_follower_count                                            a_following_count                                           a_is_verified                                               b_follower_count                                            b_following_count                                           b_is_verified                                               a_follows_b                                                 bert_token_len                                              photo_count                                                 video_count                                                 gif_count                                                   type_encoding                                               language_encoding                                           a_followers                                                 a_following                                                 b_followers                                                 b_following                                                 day_of_week                                                 hour_of_day                                                 a_b_creation_delta                                          a_creation_delta                                            b_creation_delta                                            a_b_follower_ratio                                          a_b_following_ratio                                         TE_reply_a_TopLevel_A                                       TE_reply_a_TopLevel_B                                       TE_reply_a_Retweet_A                                        TE_reply_a_Retweet_B                                        TE_reply_a_Quote_A                                          TE_reply_a_Quote_B                                          TE_reply_a_A                                                TE_reply_a_B                                                TE_reply_b_TopLevel_A                                       TE_reply_b_TopLevel_B                                       TE_reply_b_Retweet_A                                        TE_reply_b_Retweet_B                                        TE_reply_b_Quote_A                                          TE_reply_b_Quote_B                                          TE_reply_b_A                                                TE_reply_b_B                                                TE_like_a_TopLevel_A                                        TE_like_a_TopLevel_B                                        TE_like_a_Retweet_A                                         TE_like_a_Retweet_B                                         TE_like_a_Quote_A                                           TE_like_a_Quote_B                                           TE_like_a_A                                                 TE_like_a_B                                                 TE_like_b_TopLevel_A                                        TE_like_b_TopLevel_B                                        TE_like_b_Retweet_A                                         TE_like_b_Retweet_B                                         TE_like_b_Quote_A                                           TE_like_b_Quote_B                                           TE_like_b_A                                                 TE_like_b_B                                                 TE_retweet_a_TopLevel_A                                     TE_retweet_a_TopLevel_B                                     TE_retweet_a_Retweet_A                                      TE_retweet_a_Retweet_B                                      TE_retweet_a_Quote_A                                        TE_retweet_a_Quote_B                                        TE_retweet_a_A                                              TE_retweet_a_B                                              TE_retweet_b_TopLevel_A                                     TE_retweet_b_TopLevel_B                                     TE_retweet_b_Retweet_A                                      TE_retweet_b_Retweet_B                                      TE_retweet_b_Quote_A                                        TE_retweet_b_Quote_B                                        TE_retweet_b_A                                              TE_retweet_b_B                                              TE_retweet_comment_a_TopLevel_A                             TE_retweet_comment_a_TopLevel_B                             TE_retweet_comment_a_Retweet_A                              TE_retweet_comment_a_Retweet_B                              TE_retweet_comment_a_Quote_A                                TE_retweet_comment_a_Quote_B                                TE_retweet_comment_a_A                                      TE_retweet_comment_a_B                                      TE_retweet_comment_b_TopLevel_A                             TE_retweet_comment_b_TopLevel_B                             TE_retweet_comment_b_Retweet_A                              TE_retweet_comment_b_Retweet_B                              TE_retweet_comment_b_Quote_A                                TE_retweet_comment_b_Quote_B                                TE_retweet_comment_b_A                                      TE_retweet_comment_b_B                                      "
     ]
    }
   ],
   "source": [
    "for col in res[0].columns:\n",
    "    if col.startswith(\"n_\") or True:\n",
    "        print(f\"{col:60}\", end=\"\")"
   ]
  },
  {
   "cell_type": "code",
   "execution_count": 23,
   "metadata": {},
   "outputs": [],
   "source": []
  },
  {
   "cell_type": "code",
   "execution_count": null,
   "metadata": {},
   "outputs": [],
   "source": [
    "for key in res:\n",
    "    print(f\"{key:32}: {res[key]}\")"
   ]
  }
 ]
}