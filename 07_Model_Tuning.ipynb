{
 "metadata": {
  "language_info": {
   "codemirror_mode": {
    "name": "ipython",
    "version": 3
   },
   "file_extension": ".py",
   "mimetype": "text/x-python",
   "name": "python",
   "nbconvert_exporter": "python",
   "pygments_lexer": "ipython3",
   "version": "3.9.5"
  },
  "orig_nbformat": 2,
  "kernelspec": {
   "name": "python3",
   "display_name": "Python 3.9.5 64-bit ('m1': conda)"
  },
  "metadata": {
   "interpreter": {
    "hash": "3b92691d56bfc9d5af752bc6654e963678e4150a6c1b95c958d07e2434145127"
   }
  },
  "interpreter": {
   "hash": "3b92691d56bfc9d5af752bc6654e963678e4150a6c1b95c958d07e2434145127"
  }
 },
 "nbformat": 4,
 "nbformat_minor": 2,
 "cells": [
  {
   "source": [
    "## Train the model"
   ],
   "cell_type": "markdown",
   "metadata": {}
  },
  {
   "cell_type": "code",
   "execution_count": 21,
   "metadata": {},
   "outputs": [],
   "source": [
    "from utils import dataloader\n",
    "import utils.model\n",
    "from datetime import datetime\n",
    "from os.path import join\n",
    "from importlib import reload\n",
    "\n",
    "method_name = \"25_more_hyperparams\"\n",
    "filter_timestamp = None#int(datetime(2021, 2, 19, 0).timestamp())\n",
    "use_user_index = join(\"indices\",\"user_index_w_type.parquet\")#\"train_user_index.parquet\"\n",
    "csv_data_location = join(\"data\",\"downloaded_data\")\n",
    "model_save_location = join(\"saved_models\",\"xgb_models_\"+method_name)\n",
    "result_logfile = join(\"logs\",\"3batches_results.txt\")"
   ]
  },
  {
   "cell_type": "code",
   "execution_count": 22,
   "metadata": {},
   "outputs": [
    {
     "output_type": "stream",
     "name": "stdout",
     "text": [
      "Loading User Index\n",
      "Randomly keeping only 98.0% of the users.\n",
      "Removing day counts\n",
      "Extracting combined user counts\n",
      "Created Dataloader in 58.95 seconds!\n"
     ]
    }
   ],
   "source": [
    "dl = dataloader.RecSys2021TSVDataLoader(\n",
    "    csv_data_location, \n",
    "    use_user_index, \n",
    "    mode=\"train\", \n",
    "    filter_timestamp=filter_timestamp, \n",
    "    verbose=2, \n",
    "    remove_day_counts=True, \n",
    "    keep_user_percent=0.98, \n",
    "    batch_size = 1500000,\n",
    "    load_n_batches = 1,\n",
    "    TE_smoothing = {\"reply\":50, \"like\":50, \"retweet\":50, \"retweet_comment\":50},\n",
    "    remove_user_counts=True\n",
    "    )"
   ]
  },
  {
   "cell_type": "code",
   "execution_count": 23,
   "metadata": {},
   "outputs": [],
   "source": [
    "recsysxgb = utils.model.RecSysXGB1(model_dir = model_save_location)\n",
    "xgb_params = {'objective': 'binary:logistic', 'eval_metric':'logloss', 'max_depth':8, \"subsample\": 0.5, \"max_delta_step\":5}"
   ]
  },
  {
   "cell_type": "code",
   "execution_count": 24,
   "metadata": {},
   "outputs": [
    {
     "output_type": "stream",
     "name": "stdout",
     "text": [
      "Loaded Batch Nr. 1 in 11.52\n",
      "Timestamp Filtered Batch Nr. 1 in 0.00\n",
      "Did prepro part 1 of 1 in 0.35\n",
      "Did prepro part 2 of 1 in 18.96\n",
      "Did prepro part 3 of 1 in 0.09\n",
      "Merged Users of 1 in 24.92\n",
      "Extracted TE of 1 in 13.80\n",
      "Finished Batch Nr. 1 from file part-00000.tsv in 74.43s!\n",
      "Finished 1 epochs.\n",
      "CPU times: user 1h 3min 44s, sys: 41.6 s, total: 1h 4min 26s\n",
      "Wall time: 10min 35s\n"
     ]
    }
   ],
   "source": [
    "%%time\n",
    "recsysxgb.fit(\n",
    "    train_loader= dl,\n",
    "    xgb_parameters = xgb_params,\n",
    "    boost_rounds_per_iteration = 25,\n",
    "    verbose = 1,\n",
    "    n_epochs = 1\n",
    ")"
   ]
  },
  {
   "source": [
    "## Evaluate the model"
   ],
   "cell_type": "markdown",
   "metadata": {}
  },
  {
   "cell_type": "code",
   "execution_count": 25,
   "metadata": {},
   "outputs": [
    {
     "output_type": "stream",
     "name": "stdout",
     "text": [
      "Loading User Index\n",
      "Removing day counts\n",
      "Extracting combined user counts\n",
      "Created Dataloader in 26.28 seconds!\n"
     ]
    }
   ],
   "source": [
    "recsysxgb = utils.model.RecSysXGB1(model_save_location)\n",
    "val_data_location = join(\"data\",\"validation_data\")\n",
    "\n",
    "dl = dataloader.RecSys2021TSVDataLoader(\n",
    "    data_directory = val_data_location, \n",
    "    user_index_location = use_user_index,\n",
    "    mode=\"val\", \n",
    "    filter_timestamp=filter_timestamp, \n",
    "    verbose=2, \n",
    "    random_file_sampling=False, \n",
    "    load_n_batches=3, \n",
    "    remove_day_counts=True,\n",
    "    batch_size = 1000000,\n",
    "    keep_user_percent=1,\n",
    "    remove_user_counts=True\n",
    ")"
   ]
  },
  {
   "cell_type": "code",
   "execution_count": 26,
   "metadata": {},
   "outputs": [
    {
     "output_type": "stream",
     "name": "stdout",
     "text": [
      "Loaded Batch Nr. 1 in 10.29\n",
      "Timestamp Filtered Batch Nr. 1 in 0.00\n",
      "Did prepro part 1 of 1 in 0.23\n",
      "Did prepro part 2 of 1 in 12.80\n",
      "Did prepro part 3 of 1 in 0.06\n",
      "Merged Users of 1 in 24.80\n",
      "Extracted TE of 1 in 13.39\n",
      "Finished Batch Nr. 1 from file part-00000.csv in 64.74s!\n",
      "Loaded Batch Nr. 2 in 9.38\n",
      "Timestamp Filtered Batch Nr. 2 in 0.00\n",
      "Did prepro part 1 of 2 in 0.23\n",
      "Did prepro part 2 of 2 in 12.54\n",
      "Did prepro part 3 of 2 in 0.06\n",
      "Merged Users of 2 in 23.57\n",
      "Extracted TE of 2 in 13.38\n",
      "Finished Batch Nr. 2 from file part-00000.csv in 62.27s!\n",
      "Loaded Batch Nr. 3 in 10.07\n",
      "Timestamp Filtered Batch Nr. 3 in 0.00\n",
      "Did prepro part 1 of 3 in 0.23\n",
      "Did prepro part 2 of 3 in 12.80\n",
      "Did prepro part 3 of 3 in 0.06\n",
      "Merged Users of 3 in 23.94\n",
      "Extracted TE of 3 in 13.45\n",
      "Finished Batch Nr. 3 from file part-00000.csv in 63.85s!\n"
     ]
    }
   ],
   "source": [
    "res = recsysxgb.evaluate_validation_set(dl, store_results_file=result_logfile, validation_run_name=method_name)"
   ]
  },
  {
   "cell_type": "code",
   "execution_count": 27,
   "metadata": {},
   "outputs": [
    {
     "output_type": "stream",
     "name": "stdout",
     "text": [
      "Q1_reply_rce                    : -6.848454990409425\nQ1_retweet_rce                  : 2.3079910628311495\nQ1_retweet_comment_rce          : -9.774465983757352\nQ1_like_rce                     : -6.104001368411605\nQ1_reply_avg_prec               : 0.1287411639947537\nQ1_retweet_avg_prec             : 0.32520413516251934\nQ1_retweet_comment_avg_prec     : 0.027912266512364683\nQ1_like_avg_prec                : 0.5587119580927447\nQ2_reply_rce                    : 1.7375350414364554\nQ2_retweet_rce                  : 8.82767005801357\nQ2_retweet_comment_rce          : -7.8136136118959865\nQ2_like_rce                     : -2.7123691771427705\nQ2_reply_avg_prec               : 0.15520109280658845\nQ2_retweet_avg_prec             : 0.32766757124291285\nQ2_retweet_comment_avg_prec     : 0.025836250962125076\nQ2_like_avg_prec                : 0.5487933743852569\nQ3_reply_rce                    : 9.034945005253636\nQ3_retweet_rce                  : 12.700955333577046\nQ3_retweet_comment_rce          : -3.9679864570366874\nQ3_like_rce                     : 1.859872844539645\nQ3_reply_avg_prec               : 0.1859603850361169\nQ3_retweet_avg_prec             : 0.34845086016433424\nQ3_retweet_comment_avg_prec     : 0.03198453872022096\nQ3_like_avg_prec                : 0.5661447138875135\nQ4_reply_rce                    : 9.080757082723212\nQ4_retweet_rce                  : 14.686916616715306\nQ4_retweet_comment_rce          : -1.0469738178752408\nQ4_like_rce                     : 4.609329080851577\nQ4_reply_avg_prec               : 0.15276543308733379\nQ4_retweet_avg_prec             : 0.36233124853686577\nQ4_retweet_comment_avg_prec     : 0.034526884951627174\nQ4_like_avg_prec                : 0.5996012097161405\nQ5_reply_rce                    : 6.128042783329257\nQ5_retweet_rce                  : 11.757840822749277\nQ5_retweet_comment_rce          : -1.2327524586030592\nQ5_like_rce                     : 7.283914831882443\nQ5_reply_avg_prec               : 0.1016338570322059\nQ5_retweet_avg_prec             : 0.29696828824984\nQ5_retweet_comment_avg_prec     : 0.03349993249702099\nQ5_like_avg_prec                : 0.6381827924094691\nTOTAL_reply_rce                 : 3.826564984466627\nTOTAL_retweet_rce               : 10.05627477877727\nTOTAL_retweet_comment_rce       : -4.767158465833665\nTOTAL_like_rce                  : 0.9873492423438581\nTOTAL_reply_avg_prec            : 0.14486038639139975\nTOTAL_retweet_avg_prec          : 0.3321244206712944\nTOTAL_retweet_comment_avg_prec  : 0.030751974728671777\nTOTAL_like_avg_prec             : 0.582286809698225\n"
     ]
    }
   ],
   "source": [
    "for key in res:\n",
    "    print(f\"{key:32}: {res[key]}\")"
   ]
  },
  {
   "cell_type": "code",
   "execution_count": 28,
   "metadata": {
    "tags": []
   },
   "outputs": [
    {
     "output_type": "stream",
     "name": "stdout",
     "text": [
      "\n",
      "has_reply:\n",
      "{'TE_reply_b_B': 234.43800379276223, 'TE_reply_a_A': 183.38751511208744, 'type_encoding': 71.84508312773193, 'a_follows_b': 50.33437807333334, 'TE_reply_b_TopLevel_B': 40.942810946663315, 'TE_reply_b_Quote_B': 30.013468765991863, 'TE_reply_b_Retweet_B': 29.084792003413217, 'TE_like_b_B': 26.218162188920633, 'TE_reply_a_TopLevel_A': 25.532681905691888, 'TE_like_b_A': 25.31703953156383, 'TE_like_a_TopLevel_A': 23.85139826032968, 'TE_like_b_TopLevel_B': 22.611456997065787, 'TE_retweet_comment_a_TopLevel_A': 22.26193084683582, 'TE_retweet_comment_b_TopLevel_B': 20.90299531067442, 'TE_like_a_TopLevel_B': 20.426115327222227, 'TE_reply_a_Quote_A': 20.07289814727272, 'TE_retweet_comment_b_B': 19.965633638179476, 'TE_reply_a_Retweet_A': 19.919135052306824, 'TE_retweet_b_TopLevel_B': 19.721829861950003, 'TE_retweet_comment_b_Quote_B': 19.33468691243678, 'a_follower_count': 18.273520042440563, 'TE_like_b_Retweet_B': 17.65043320066667, 'TE_retweet_b_B': 17.410525958259996, 'a_is_verified': 17.229837399999997, 'photo_count': 16.696802112222223, 'TE_like_b_Retweet_A': 15.673210813075002, 'TE_retweet_comment_b_Retweet_B': 14.786283202287013, 'TE_retweet_a_TopLevel_A': 14.5804589928169, 'TE_like_a_A': 14.320722537262506, 'TE_reply_a_Retweet_B': 14.035293914277775, 'b_follower_count': 13.858696497519999, 'TE_retweet_a_Retweet_A': 13.601314499185188, 'a_b_follower_ratio': 13.38124830258112, 'TE_reply_a_B': 13.179910135232138, 'TE_retweet_b_Retweet_B': 12.975956675397434, 'TE_retweet_comment_a_A': 12.606836472283332, 'TE_retweet_comment_a_Retweet_A': 12.421112684932202, 'TE_retweet_comment_b_Retweet_A': 12.012431415088235, 'TE_like_a_B': 11.87223378548837, 'TE_retweet_comment_a_Quote_A': 11.838162967018516, 'TE_retweet_a_Quote_B': 11.685205509172413, 'TE_like_a_Quote_A': 11.564300882682925, 'TE_retweet_a_A': 11.448408365871797, 'TE_reply_a_TopLevel_B': 11.357505190944439, 'TE_retweet_b_A': 11.010613147586207, 'TE_retweet_comment_b_A': 10.407822465769227, 'TE_retweet_comment_a_TopLevel_B': 10.2607351729, 'language_encoding': 10.2357581134375, 'TE_like_a_Retweet_A': 10.223582112972224, 'TE_like_b_Quote_B': 10.14243758915625, 'TE_like_b_TopLevel_A': 9.91338609871795, 'TE_retweet_a_Quote_A': 9.905194498128203, 'TE_retweet_comment_a_B': 9.897792948428572, 'TE_reply_b_A': 9.845013318029412, 'b_creation_delta': 9.50328502286471, 'TE_reply_b_TopLevel_A': 9.439920468500002, 'TE_reply_b_Quote_A': 9.306865859450001, 'TE_reply_b_Retweet_A': 9.239408901851853, 'bert_token_len': 9.171608674028167, 'a_b_following_ratio': 9.08524953689655, 'TE_like_a_Retweet_B': 8.909487363295456, 'a_creation_delta': 8.625969484199997, 'TE_retweet_b_Retweet_A': 8.623583480562496, 'TE_like_b_Quote_A': 8.529262885272727, 'TE_retweet_b_TopLevel_A': 8.435760396153848, 'TE_retweet_a_Retweet_B': 8.172462805771428, 'a_following_count': 8.08799729039216, 'day_of_week': 8.081602063333335, 'TE_retweet_a_TopLevel_B': 7.906814572132076, 'TE_retweet_b_Quote_B': 7.731983011900002, 'TE_retweet_comment_a_Retweet_B': 7.674351920824325, 'TE_retweet_a_B': 7.617741936181819, 'hour_of_day': 7.5142165287500005, 'TE_retweet_comment_b_TopLevel_A': 7.4227506245238075, 'b_following_count': 7.359417878833333, 'TE_like_a_Quote_B': 7.30861167990244, 'TE_reply_a_Quote_B': 6.591570152, 'TE_retweet_comment_b_Quote_A': 6.500436021333331, 'a_b_creation_delta': 6.427365769600001, 'video_count': 6.284628233333334, 'TE_retweet_b_Quote_A': 6.075358118695654, 'TE_retweet_comment_a_Quote_B': 4.886981446705883}\n",
      "\n",
      "has_retweet:\n",
      "{'TE_retweet_b_B': 497.1829649016023, 'TE_retweet_a_A': 268.3991159294381, 'TE_retweet_a_Retweet_A': 80.55839560991244, 'TE_like_b_B': 80.2052462674835, 'type_encoding': 56.80506998656253, 'a_follows_b': 53.99157955, 'TE_retweet_b_TopLevel_B': 53.93366094124484, 'TE_like_b_Retweet_A': 51.32812124899999, 'TE_reply_b_B': 46.8767689165096, 'TE_retweet_b_Retweet_B': 40.64348662373335, 'TE_like_a_A': 38.63570972115943, 'TE_reply_b_Retweet_B': 32.844120264953276, 'TE_like_b_TopLevel_B': 32.618982608052626, 'TE_like_a_Retweet_A': 30.765993679111126, 'TE_retweet_a_TopLevel_A': 29.50795872939999, 'TE_reply_a_Retweet_A': 29.133971668075475, 'TE_retweet_comment_b_Retweet_A': 27.583384097000007, 'TE_like_a_Retweet_B': 27.454181651980203, 'TE_like_a_TopLevel_A': 26.25081980174117, 'TE_like_b_A': 24.957212079565213, 'photo_count': 24.736385737962955, 'a_follower_count': 24.206204735675165, 'TE_retweet_b_Quote_B': 23.948562742691784, 'TE_reply_b_TopLevel_B': 23.857299788655183, 'TE_like_b_Quote_A': 23.642628400517232, 'TE_retweet_comment_a_A': 22.58865089678125, 'TE_like_b_Retweet_B': 22.44187800897468, 'TE_retweet_comment_b_Quote_B': 22.225335622209673, 'TE_retweet_a_Quote_A': 21.787838899859157, 'TE_reply_a_TopLevel_A': 21.446643313125, 'TE_reply_a_Retweet_B': 20.80410592033334, 'TE_like_a_B': 20.622954831341183, 'TE_retweet_comment_b_B': 20.43199128328572, 'TE_like_b_Quote_B': 20.37060940592858, 'bert_token_len': 20.084571556215575, 'a_b_follower_ratio': 20.07197950590476, 'TE_reply_a_A': 20.02916851039437, 'TE_retweet_comment_a_Quote_A': 19.858257053119996, 'TE_retweet_comment_a_Retweet_B': 19.19751750884615, 'TE_retweet_comment_a_Retweet_A': 18.985221897708332, 'TE_retweet_b_TopLevel_A': 18.43568697307692, 'TE_retweet_comment_b_TopLevel_B': 17.36219633361476, 'TE_like_b_TopLevel_A': 17.199498845128208, 'TE_retweet_comment_b_Retweet_B': 17.175025616972217, 'language_encoding': 16.782226450666666, 'TE_reply_b_Retweet_A': 15.760322067785717, 'video_count': 15.435465981818181, 'a_is_verified': 15.120208260000002, 'b_creation_delta': 14.698215298634617, 'TE_like_a_Quote_A': 14.695675199154929, 'TE_retweet_b_A': 14.414820338, 'TE_reply_a_Quote_A': 14.329685442189657, 'TE_retweet_comment_a_TopLevel_A': 14.035993556068966, 'TE_retweet_comment_b_TopLevel_A': 13.606904889615386, 'TE_retweet_a_B': 13.565189759090913, 'TE_retweet_comment_a_Quote_B': 12.739150998461536, 'TE_reply_b_Quote_B': 12.532153629411768, 'b_follower_count': 12.506341710441173, 'TE_retweet_b_Quote_A': 12.277373973529413, 'TE_reply_b_TopLevel_A': 12.20738744573077, 'TE_retweet_a_Retweet_B': 12.180594521568185, 'TE_reply_b_A': 11.9361879168, 'TE_retweet_comment_b_Quote_A': 11.855249540454547, 'TE_reply_a_TopLevel_B': 11.599474197200003, 'TE_reply_a_B': 11.419847248461538, 'b_following_count': 11.014807010363633, 'TE_like_a_TopLevel_B': 10.537746322952378, 'a_creation_delta': 10.524018239374998, 'TE_reply_b_Quote_A': 10.205867346117646, 'TE_retweet_comment_a_B': 10.204626043576924, 'TE_like_a_Quote_B': 10.19897882173913, 'TE_retweet_comment_b_A': 10.19313295764706, 'TE_reply_a_Quote_B': 10.186787419000002, 'TE_retweet_b_Retweet_A': 10.128935203793105, 'a_b_following_ratio': 10.095552703890622, 'TE_retweet_a_TopLevel_B': 10.034382083076922, 'a_b_creation_delta': 9.904693219339624, 'TE_retweet_comment_a_TopLevel_B': 9.903879410531248, 'TE_retweet_a_Quote_B': 9.85231230882353, 'a_following_count': 9.35563614757143, 'hour_of_day': 9.335876755194445, 'day_of_week': 7.708570052999998}\n",
      "\n",
      "has_retweet_comment:\n",
      "{'TE_retweet_comment_b_B': 119.81387141450483, 'TE_retweet_comment_a_A': 45.12094115982999, 'type_encoding': 21.03586814581707, 'TE_like_b_Retweet_B': 14.566072132246155, 'TE_reply_a_TopLevel_A': 13.860912018238803, 'TE_reply_b_Retweet_B': 13.817534814246576, 'TE_retweet_comment_b_TopLevel_B': 13.191709942411768, 'TE_like_b_B': 11.877145616365855, 'TE_retweet_comment_a_Quote_B': 11.05532619330303, 'TE_reply_b_TopLevel_B': 10.923658872790698, 'photo_count': 10.829874308846152, 'TE_retweet_comment_a_Retweet_A': 10.504980138052082, 'TE_like_b_A': 10.443285614925, 'a_follower_count': 10.442702753465888, 'TE_like_b_TopLevel_B': 10.1995134967193, 'a_b_follower_ratio': 9.931283522325, 'TE_retweet_comment_b_Retweet_B': 9.740706766685484, 'TE_retweet_comment_a_TopLevel_A': 9.654754640019416, 'TE_reply_b_B': 9.427868557680002, 'TE_like_b_Quote_B': 9.218125347333334, 'TE_like_a_A': 8.863453645566668, 'TE_retweet_a_A': 8.666053275600001, 'TE_like_a_TopLevel_A': 8.53944319895082, 'TE_reply_b_A': 8.412289998666667, 'TE_like_b_Retweet_A': 8.411698945909091, 'TE_retweet_a_B': 8.309354223909091, 'TE_retweet_comment_a_B': 8.203954387027778, 'TE_retweet_comment_b_Quote_B': 8.112659481560748, 'video_count': 8.090659744789475, 'TE_retweet_b_Retweet_B': 8.041824552781815, 'TE_reply_a_B': 8.023291034375, 'TE_retweet_comment_a_Quote_A': 7.892469706250003, 'TE_retweet_comment_b_Retweet_A': 7.8474724185200015, 'TE_like_a_Quote_B': 7.822963526875001, 'bert_token_len': 7.698651344364864, 'a_is_verified': 7.572146798, 'TE_reply_a_TopLevel_B': 7.559049883685714, 'TE_reply_a_Retweet_A': 7.48771587703684, 'TE_like_a_TopLevel_B': 7.427562183192309, 'TE_retweet_b_Quote_B': 7.4212713223852935, 'a_follows_b': 7.391508426666667, 'TE_retweet_b_Retweet_A': 7.369660204761906, 'TE_retweet_a_Quote_A': 7.359688710867926, 'TE_reply_a_Retweet_B': 7.328047103692307, 'TE_like_a_Retweet_B': 7.269265803970588, 'TE_reply_a_A': 7.257020175539684, 'TE_reply_b_Quote_B': 7.23404511832143, 'TE_retweet_b_B': 7.223339615510205, 'TE_reply_a_Quote_A': 7.204922275833332, 'b_following_count': 7.159425813776316, 'TE_retweet_comment_a_TopLevel_B': 7.091025005424241, 'b_creation_delta': 7.0895079765919995, 'TE_like_b_Quote_A': 7.070917128333333, 'TE_retweet_a_Retweet_A': 7.05459211205, 'a_following_count': 7.019350279725805, 'TE_reply_b_Quote_A': 6.999112482375, 'TE_retweet_comment_a_Retweet_B': 6.941261671241379, 'hour_of_day': 6.912145735714286, 'TE_retweet_comment_b_A': 6.908251860281248, 'TE_retweet_b_Quote_A': 6.8731224554166666, 'TE_retweet_b_TopLevel_B': 6.812099094977778, 'TE_reply_b_TopLevel_A': 6.801249839777777, 'TE_like_a_Quote_A': 6.672559289136364, 'TE_like_b_TopLevel_A': 6.580037824962964, 'a_creation_delta': 6.562104120967213, 'language_encoding': 6.305435201851852, 'b_follower_count': 6.296187506361291, 'a_b_following_ratio': 6.274411968263158, 'TE_retweet_b_TopLevel_A': 6.213590852387096, 'TE_retweet_a_TopLevel_B': 6.162963212444442, 'day_of_week': 6.088748335533333, 'TE_retweet_a_Retweet_B': 6.0061802078055555, 'TE_retweet_comment_b_TopLevel_A': 6.005281426200002, 'TE_like_a_B': 5.879586140645162, 'TE_reply_b_Retweet_A': 5.861729542791667, 'a_b_creation_delta': 5.796477996354167, 'TE_retweet_b_A': 5.723029390675, 'TE_like_a_Retweet_A': 5.687644874819999, 'TE_retweet_a_TopLevel_A': 5.612749302000001, 'TE_reply_a_Quote_B': 5.4502480029318185, 'TE_retweet_a_Quote_B': 5.241851756647059, 'TE_retweet_comment_b_Quote_A': 4.334672995285714, 'gif_count': 3.95696259}\n",
      "\n",
      "has_like:\n",
      "{'TE_like_a_A': 1679.672719473652, 'type_encoding': 316.5428636516354, 'TE_like_a_TopLevel_A': 219.53435970604284, 'TE_retweet_b_Quote_A': 213.26975952864282, 'TE_like_a_Retweet_A': 176.8067451969813, 'TE_retweet_b_B': 131.34397093343574, 'a_follower_count': 130.36564072972996, 'a_follows_b': 130.2612621964516, 'TE_like_b_Retweet_B': 130.14517689475818, 'TE_retweet_b_Retweet_B': 128.632785217839, 'TE_like_b_TopLevel_B': 112.71949113995504, 'TE_like_b_A': 110.91940098795652, 'photo_count': 95.0227272211364, 'TE_like_b_Retweet_A': 91.13500664863147, 'TE_reply_b_Quote_B': 82.09178175974998, 'TE_like_b_Quote_A': 81.34559919200001, 'TE_like_a_Quote_A': 78.81723345835935, 'TE_reply_b_TopLevel_B': 74.4813489203226, 'TE_reply_b_Retweet_B': 72.9483661521923, 'TE_like_b_Quote_B': 69.71401474491228, 'TE_like_b_B': 68.5613423696626, 'TE_retweet_b_A': 66.84710786742858, 'TE_reply_b_B': 66.04365918441127, 'TE_retweet_comment_b_TopLevel_B': 63.10223733376989, 'TE_retweet_comment_b_Quote_B': 58.989582342081825, 'TE_retweet_comment_a_TopLevel_A': 56.814856461810386, 'TE_reply_b_Quote_A': 56.58366689, 'b_creation_delta': 55.45599892284029, 'a_b_follower_ratio': 54.49578272762184, 'TE_reply_a_TopLevel_A': 53.726237489166664, 'TE_retweet_a_Retweet_A': 49.53567859414737, 'TE_reply_a_Quote_A': 42.95648579320291, 'TE_retweet_comment_b_Retweet_B': 42.0888619969748, 'TE_retweet_b_TopLevel_B': 41.43168842416669, 'TE_like_a_B': 40.88733401525245, 'TE_reply_b_Retweet_A': 39.2834093425, 'TE_retweet_a_A': 39.26208455915296, 'TE_retweet_a_TopLevel_A': 38.60681847000001, 'TE_retweet_comment_a_A': 36.81682804821428, 'TE_retweet_comment_a_Retweet_A': 33.69401447149999, 'TE_retweet_b_Quote_B': 32.13866117388334, 'TE_reply_b_TopLevel_A': 30.574573667250004, 'TE_reply_a_Retweet_A': 30.282254167357145, 'TE_like_b_TopLevel_A': 30.01719453485294, 'TE_reply_b_A': 29.97403157291666, 'TE_retweet_comment_b_B': 27.520037334647892, 'bert_token_len': 26.072541847437492, 'TE_retweet_comment_b_Retweet_A': 26.069416051170833, 'TE_like_a_Retweet_B': 23.92438416571795, 'TE_retweet_comment_a_Quote_A': 23.439193866232554, 'TE_reply_a_A': 21.806613619934424, 'a_b_following_ratio': 21.35979453089887, 'language_encoding': 20.59922000178049, 'b_following_count': 20.33480471781482, 'TE_like_a_TopLevel_B': 19.686010976478727, 'a_is_verified': 19.248982402499998, 'TE_retweet_a_Retweet_B': 19.065927994571425, 'TE_retweet_b_TopLevel_A': 19.000865608214287, 'TE_retweet_a_B': 17.77694772977273, 'a_creation_delta': 17.63004265730769, 'TE_reply_a_B': 17.22765567585366, 'TE_retweet_comment_b_Quote_A': 17.083081332499997, 'TE_retweet_a_Quote_B': 15.932644560588233, 'TE_retweet_comment_a_TopLevel_B': 15.628124332166667, 'TE_retweet_a_Quote_A': 15.301097676249995, 'TE_retweet_comment_a_Retweet_B': 15.15509908083333, 'TE_retweet_a_TopLevel_B': 15.139744918160002, 'TE_like_a_Quote_B': 15.046492130588234, 'TE_reply_a_Retweet_B': 13.702765846190479, 'TE_retweet_comment_a_Quote_B': 13.620684764, 'b_follower_count': 12.287507431666667, 'TE_retweet_comment_a_B': 12.233566189870968, 'TE_reply_a_TopLevel_B': 12.011599379428569, 'video_count': 11.921726456250003, 'a_following_count': 11.72649404774242, 'TE_retweet_b_Retweet_A': 10.958722428888892, 'TE_retweet_comment_b_A': 10.849592952, 'TE_retweet_comment_b_TopLevel_A': 9.827359758947367, 'TE_reply_a_Quote_B': 9.7634077648, 'a_b_creation_delta': 9.219731798703705, 'hour_of_day': 7.767436602699998, 'day_of_week': 7.44864954, 'gif_count': 2.0927124}\n"
     ]
    }
   ],
   "source": [
    "for target in recsysxgb.targets__:\n",
    "    print(f\"\\n{target}:\")\n",
    "    print(dict(sorted(recsysxgb.clfs_[target].get_score(importance_type='gain').items(), key=lambda item: item[1], reverse=True)))"
   ]
  },
  {
   "source": [
    "## Try sample test run"
   ],
   "cell_type": "markdown",
   "metadata": {}
  },
  {
   "cell_type": "code",
   "execution_count": 22,
   "metadata": {},
   "outputs": [
    {
     "output_type": "stream",
     "name": "stdout",
     "text": [
      "Loaded Batch Nr. 1 in 20.16\n",
      "Timestamp Filtered Batch Nr. 1 in 0.41\n",
      "Did prepro part 1 of 1 in 0.27\n",
      "Did prepro part 2 of 1 in 10.67\n",
      "Did prepro part 3 of 1 in 0.05\n",
      "Merged Users of 1 in 23.01\n",
      "Extracted TE of 1 in 13.02\n",
      "Finished Batch Nr. 1 from file part-00073.tsv in 70.12s!\n"
     ]
    }
   ],
   "source": [
    "out = next(iter(dl))"
   ]
  },
  {
   "cell_type": "code",
   "execution_count": 26,
   "metadata": {},
   "outputs": [],
   "source": [
    "pred = recsysxgb.infer(out[0])"
   ]
  },
  {
   "cell_type": "code",
   "execution_count": 37,
   "metadata": {},
   "outputs": [
    {
     "output_type": "execute_result",
     "data": {
      "text/plain": [
       "5.9604645e-08"
      ]
     },
     "metadata": {},
     "execution_count": 37
    }
   ],
   "source": [
    "(((pred[3]-0.5)*0.9999999)+0.5).min()"
   ]
  },
  {
   "source": [
    "## Testing Custom batch sizes"
   ],
   "cell_type": "markdown",
   "metadata": {}
  },
  {
   "cell_type": "code",
   "execution_count": 1,
   "metadata": {},
   "outputs": [],
   "source": [
    "from utils import dataloader\n",
    "from utils import dataloader\n",
    "import utils.model\n",
    "from datetime import datetime\n",
    "from os.path import join\n",
    "\n",
    "filter_timestamp = None#int(datetime(2021, 2, 19, 0).timestamp())\n",
    "use_user_index = join(\"indices\",\"user_index.parquet\")#\"train_user_index.parquet\"\n",
    "csv_data_location = join(\"data\",\"test_files\")\n",
    "model_save_location = join(\"saved_models\",\"xgb_models_06_submission\")"
   ]
  },
  {
   "cell_type": "code",
   "execution_count": 2,
   "metadata": {},
   "outputs": [],
   "source": [
    "dl = dataloader.RecSys2021TSVDataLoader(csv_data_location, use_user_index, mode=\"test\", filter_timestamp=filter_timestamp, load_n_batches=-1, batch_size=1000000, verbose=2, random_file_sampling=True)"
   ]
  },
  {
   "cell_type": "code",
   "execution_count": 3,
   "metadata": {},
   "outputs": [
    {
     "output_type": "stream",
     "name": "stdout",
     "text": [
      "just one\n",
      "1000000\n",
      "Loaded Batch Nr. 1 in 6.10\n",
      "Timestamp Filtered Batch Nr. 1 in 0.00\n",
      "Did prepro part 1 of 1 in 0.20\n",
      "Did prepro part 2 of 1 in 11.80\n",
      "Did prepro part 3 of 1 in 0.05\n",
      "Merged Users of 1 in 21.76\n",
      "Extracted TE of 1 in 3.21\n",
      "Finished Batch Nr. 1 from file part-00003.csv in 45.47s!\n",
      "just one\n",
      "1000000\n",
      "Loaded Batch Nr. 2 in 7.32\n",
      "Timestamp Filtered Batch Nr. 2 in 0.00\n",
      "Did prepro part 1 of 2 in 0.20\n",
      "Did prepro part 2 of 2 in 11.87\n",
      "Did prepro part 3 of 2 in 0.05\n",
      "Merged Users of 2 in 22.05\n",
      "Extracted TE of 2 in 3.20\n",
      "Finished Batch Nr. 2 from file part-00003.csv in 47.02s!\n",
      "just one\n",
      "1000000\n",
      "Loaded Batch Nr. 3 in 8.79\n",
      "Timestamp Filtered Batch Nr. 3 in 0.00\n",
      "Did prepro part 1 of 3 in 0.20\n",
      "Did prepro part 2 of 3 in 11.85\n",
      "Did prepro part 3 of 3 in 0.05\n",
      "Merged Users of 3 in 22.73\n",
      "Extracted TE of 3 in 3.20\n",
      "Finished Batch Nr. 3 from file part-00003.csv in 49.16s!\n",
      "more than one 1000000\n",
      "1000000\n",
      "Loaded Batch Nr. 4 in 12.99\n",
      "Timestamp Filtered Batch Nr. 4 in 0.00\n",
      "Did prepro part 1 of 4 in 0.20\n",
      "Did prepro part 2 of 4 in 11.84\n",
      "Did prepro part 3 of 4 in 0.05\n",
      "Merged Users of 4 in 20.62\n",
      "Extracted TE of 4 in 3.22\n",
      "Finished Batch Nr. 4 from file part-00002.csv in 51.52s!\n",
      "just one\n",
      "1000000\n",
      "Loaded Batch Nr. 5 in 9.31\n",
      "Timestamp Filtered Batch Nr. 5 in 0.00\n",
      "Did prepro part 1 of 5 in 0.20\n",
      "Did prepro part 2 of 5 in 11.78\n",
      "Did prepro part 3 of 5 in 0.05\n",
      "Merged Users of 5 in 21.59\n",
      "Extracted TE of 5 in 3.18\n",
      "Finished Batch Nr. 5 from file part-00002.csv in 48.45s!\n",
      "just one\n",
      "1000000\n",
      "Loaded Batch Nr. 6 in 10.75\n",
      "Timestamp Filtered Batch Nr. 6 in 0.00\n",
      "Did prepro part 1 of 6 in 0.20\n",
      "Did prepro part 2 of 6 in 11.86\n",
      "Did prepro part 3 of 6 in 0.05\n",
      "Merged Users of 6 in 21.92\n",
      "Extracted TE of 6 in 3.19\n",
      "Finished Batch Nr. 6 from file part-00002.csv in 50.29s!\n",
      "just one\n",
      "21788\n",
      "Loaded Batch Nr. 7 in 5.44\n",
      "Timestamp Filtered Batch Nr. 7 in 0.00\n",
      "Did prepro part 1 of 7 in 0.01\n",
      "Did prepro part 2 of 7 in 0.26\n",
      "Did prepro part 3 of 7 in 0.00\n",
      "Merged Users of 7 in 20.21\n",
      "Extracted TE of 7 in 3.00\n",
      "Finished Batch Nr. 7 from file part-00002.csv in 29.01s!\n"
     ]
    }
   ],
   "source": [
    "r = [a[1] for a in dl]"
   ]
  },
  {
   "cell_type": "code",
   "execution_count": 4,
   "metadata": {},
   "outputs": [
    {
     "output_type": "stream",
     "name": "stdout",
     "text": [
      "1000000\n1000000\n1000000\n1000000\n1000000\n1000000\n21788\n"
     ]
    }
   ],
   "source": [
    "for df in r:\n",
    "    print(len(df))"
   ]
  },
  {
   "cell_type": "code",
   "execution_count": 17,
   "metadata": {},
   "outputs": [],
   "source": [
    "import utils.features as fe\n",
    "import utils.constants as co\n",
    "import pandas as pd\n",
    "import numpy as np"
   ]
  },
  {
   "cell_type": "code",
   "execution_count": 12,
   "metadata": {},
   "outputs": [],
   "source": [
    "current_file = pd.read_csv(\n",
    "                \"data/test_files/part-00002.csv\",\n",
    "                sep='\\x01',\n",
    "                header=None,\n",
    "                names=co.all_features,\n",
    "                dtype={k: v for k, v in co.dtypes_of_features.items() if k in co.all_features}\n",
    "            )"
   ]
  },
  {
   "cell_type": "code",
   "execution_count": 14,
   "metadata": {},
   "outputs": [],
   "source": [
    "current_file[\"medias\"] = current_file[\"medias\"].fillna(\"\")\n",
    "current_file[\"hashtags\"] = current_file[\"hashtags\"].fillna(\"\")\n",
    "current_file[\"links\"] = current_file[\"links\"].fillna(\"\")\n",
    "current_file[\"domains\"] = current_file[\"domains\"].fillna(\"\")\n",
    "current_file[\"medias\"] = current_file[\"medias\"].fillna(\"\")"
   ]
  },
  {
   "cell_type": "code",
   "execution_count": 27,
   "metadata": {},
   "outputs": [
    {
     "output_type": "execute_result",
     "data": {
      "text/plain": [
       "{-0.9502129554748535, 1.0, 2.0, 3.0, 4.000000476837158, 5.0, 7.0}"
      ]
     },
     "metadata": {},
     "execution_count": 27
    }
   ],
   "source": [
    "import numpy as np\n",
    "set(np.exp(train_data[\"n_gifs\"]+ train_data[\"n_photos\"] +train_data[\"n_videos\"])-1)"
   ]
  },
  {
   "source": [
    "# Other"
   ],
   "cell_type": "markdown",
   "metadata": {}
  },
  {
   "cell_type": "code",
   "execution_count": 3,
   "metadata": {},
   "outputs": [],
   "source": [
    "from utils import dataloader\n",
    "import utils.model\n",
    "from datetime import datetime\n",
    "from os.path import join\n",
    "from importlib import reload\n",
    "import torch\n",
    "\n",
    "filter_timestamp = int(datetime(2021, 2, 19, 0).timestamp())\n",
    "use_user_index = join(\"indices\",\"train_user_index_w_type.parquet\")#\"train_user_index.parquet\"\n",
    "csv_data_location = join(\"data\",\"downloaded_data\")\n",
    "model_save_location = join(\"saved_models\",\"xgb_models_15_better_index\")"
   ]
  },
  {
   "cell_type": "code",
   "execution_count": 2,
   "metadata": {},
   "outputs": [
    {
     "output_type": "stream",
     "name": "stdout",
     "text": [
      "Loading User Index\n",
      "Randomly keeping only 50.0% of the users.\n",
      "Removing day counts\n",
      "Extracting combined user counts\n",
      "Created Dataloader in 21.99 seconds!\n"
     ]
    }
   ],
   "source": [
    "dl = dataloader.RecSys2021TSVDataLoader(\n",
    "    csv_data_location, \n",
    "    use_user_index, \n",
    "    mode=\"train\", \n",
    "    filter_timestamp=filter_timestamp, \n",
    "    verbose=2, \n",
    "    remove_day_counts=True, \n",
    "    keep_user_percent=0.5, \n",
    "    batch_size = 100000,\n",
    "    minibatches_size = 64,\n",
    "    load_n_batches = 20,\n",
    "    normalize_batch = True\n",
    "    )"
   ]
  },
  {
   "cell_type": "code",
   "execution_count": 3,
   "metadata": {},
   "outputs": [],
   "source": [
    "nn = utils.model.RecSysNeural1(\"saved_models/nn1\",166).to(\"cuda\")"
   ]
  },
  {
   "cell_type": "code",
   "execution_count": 4,
   "metadata": {},
   "outputs": [
    {
     "output_type": "stream",
     "name": "stdout",
     "text": [
      "Loaded Batch Nr. 1 in 0.53\n",
      "Timestamp Filtered Batch Nr. 1 in 0.02\n",
      "Did prepro part 1 of 1 in 0.02\n",
      "Did prepro part 2 of 1 in 0.88\n",
      "Did prepro part 3 of 1 in 0.01\n",
      "Merged Users of 1 in 8.78\n",
      "Extracted TE of 1 in 5.36\n",
      "Finished Batch Nr. 1 from file part-00000.tsv in 15.86s!\n",
      "Loaded Batch Nr. 2 in 0.61\n",
      "Timestamp Filtered Batch Nr. 2 in 0.02\n",
      "Did prepro part 1 of 2 in 0.02\n",
      "Did prepro part 2 of 2 in 0.88\n",
      "Did prepro part 3 of 2 in 0.01\n",
      "Merged Users of 2 in 8.81\n",
      "Extracted TE of 2 in 5.29\n",
      "Finished Batch Nr. 2 from file part-00000.tsv in 15.91s!\n",
      "Loaded Batch Nr. 3 in 1.41\n",
      "Timestamp Filtered Batch Nr. 3 in 0.02\n",
      "Did prepro part 1 of 3 in 0.02\n",
      "Did prepro part 2 of 3 in 0.86\n",
      "Did prepro part 3 of 3 in 0.00\n",
      "Merged Users of 3 in 8.80\n",
      "Extracted TE of 3 in 5.32\n",
      "Finished Batch Nr. 3 from file part-00000.tsv in 16.70s!\n",
      "Loaded Batch Nr. 4 in 1.51\n",
      "Timestamp Filtered Batch Nr. 4 in 0.02\n",
      "Did prepro part 1 of 4 in 0.02\n",
      "Did prepro part 2 of 4 in 0.87\n",
      "Did prepro part 3 of 4 in 0.01\n",
      "Merged Users of 4 in 8.77\n",
      "Extracted TE of 4 in 5.38\n",
      "Finished Batch Nr. 4 from file part-00000.tsv in 16.85s!\n",
      "Loaded Batch Nr. 5 in 1.58\n",
      "Timestamp Filtered Batch Nr. 5 in 0.02\n",
      "Did prepro part 1 of 5 in 0.02\n",
      "Did prepro part 2 of 5 in 0.86\n",
      "Did prepro part 3 of 5 in 0.01\n",
      "Merged Users of 5 in 8.73\n",
      "Extracted TE of 5 in 5.30\n",
      "Finished Batch Nr. 5 from file part-00000.tsv in 16.79s!\n",
      "Loaded Batch Nr. 6 in 1.71\n",
      "Timestamp Filtered Batch Nr. 6 in 0.02\n",
      "Did prepro part 1 of 6 in 0.02\n",
      "Did prepro part 2 of 6 in 0.87\n",
      "Did prepro part 3 of 6 in 0.01\n",
      "Merged Users of 6 in 8.79\n",
      "Extracted TE of 6 in 5.32\n",
      "Finished Batch Nr. 6 from file part-00000.tsv in 17.00s!\n",
      "Loaded Batch Nr. 7 in 1.78\n",
      "Timestamp Filtered Batch Nr. 7 in 0.02\n",
      "Did prepro part 1 of 7 in 0.02\n",
      "Did prepro part 2 of 7 in 0.87\n",
      "Did prepro part 3 of 7 in 0.01\n",
      "Merged Users of 7 in 8.82\n",
      "Extracted TE of 7 in 5.35\n",
      "Finished Batch Nr. 7 from file part-00000.tsv in 17.15s!\n",
      "Loaded Batch Nr. 8 in 1.88\n",
      "Timestamp Filtered Batch Nr. 8 in 0.02\n",
      "Did prepro part 1 of 8 in 0.02\n",
      "Did prepro part 2 of 8 in 0.86\n",
      "Did prepro part 3 of 8 in 0.01\n",
      "Merged Users of 8 in 8.76\n",
      "Extracted TE of 8 in 5.33\n",
      "Finished Batch Nr. 8 from file part-00000.tsv in 17.14s!\n",
      "Loaded Batch Nr. 9 in 1.92\n",
      "Timestamp Filtered Batch Nr. 9 in 0.02\n",
      "Did prepro part 1 of 9 in 0.02\n",
      "Did prepro part 2 of 9 in 0.87\n",
      "Did prepro part 3 of 9 in 0.01\n",
      "Merged Users of 9 in 8.84\n",
      "Extracted TE of 9 in 5.29\n",
      "Finished Batch Nr. 9 from file part-00000.tsv in 17.23s!\n",
      "Loaded Batch Nr. 10 in 2.10\n",
      "Timestamp Filtered Batch Nr. 10 in 0.02\n",
      "Did prepro part 1 of 10 in 0.02\n",
      "Did prepro part 2 of 10 in 0.88\n",
      "Did prepro part 3 of 10 in 0.01\n",
      "Merged Users of 10 in 8.81\n",
      "Extracted TE of 10 in 5.33\n",
      "Finished Batch Nr. 10 from file part-00000.tsv in 17.42s!\n",
      "Loaded Batch Nr. 11 in 2.09\n",
      "Timestamp Filtered Batch Nr. 11 in 0.02\n",
      "Did prepro part 1 of 11 in 0.02\n",
      "Did prepro part 2 of 11 in 0.86\n",
      "Did prepro part 3 of 11 in 0.01\n",
      "Merged Users of 11 in 8.81\n",
      "Extracted TE of 11 in 5.30\n",
      "Finished Batch Nr. 11 from file part-00000.tsv in 17.38s!\n",
      "Loaded Batch Nr. 12 in 2.21\n",
      "Timestamp Filtered Batch Nr. 12 in 0.02\n",
      "Did prepro part 1 of 12 in 0.02\n",
      "Did prepro part 2 of 12 in 0.88\n",
      "Did prepro part 3 of 12 in 0.01\n",
      "Merged Users of 12 in 8.76\n",
      "Extracted TE of 12 in 5.34\n",
      "Finished Batch Nr. 12 from file part-00000.tsv in 17.50s!\n",
      "Loaded Batch Nr. 13 in 2.31\n",
      "Timestamp Filtered Batch Nr. 13 in 0.02\n",
      "Did prepro part 1 of 13 in 0.02\n",
      "Did prepro part 2 of 13 in 0.87\n",
      "Did prepro part 3 of 13 in 0.01\n",
      "Merged Users of 13 in 8.71\n",
      "Extracted TE of 13 in 5.30\n",
      "Finished Batch Nr. 13 from file part-00000.tsv in 17.50s!\n",
      "Loaded Batch Nr. 14 in 2.40\n",
      "Timestamp Filtered Batch Nr. 14 in 0.02\n",
      "Did prepro part 1 of 14 in 0.02\n",
      "Did prepro part 2 of 14 in 0.88\n",
      "Did prepro part 3 of 14 in 0.01\n",
      "Merged Users of 14 in 8.77\n",
      "Extracted TE of 14 in 5.29\n",
      "Finished Batch Nr. 14 from file part-00000.tsv in 17.66s!\n",
      "Loaded Batch Nr. 15 in 2.51\n",
      "Timestamp Filtered Batch Nr. 15 in 0.02\n",
      "Did prepro part 1 of 15 in 0.02\n",
      "Did prepro part 2 of 15 in 0.88\n",
      "Did prepro part 3 of 15 in 0.01\n",
      "Merged Users of 15 in 8.82\n",
      "Extracted TE of 15 in 5.35\n",
      "Finished Batch Nr. 15 from file part-00000.tsv in 17.87s!\n",
      "Loaded Batch Nr. 16 in 2.69\n",
      "Timestamp Filtered Batch Nr. 16 in 0.02\n",
      "Did prepro part 1 of 16 in 0.02\n",
      "Did prepro part 2 of 16 in 0.87\n",
      "Did prepro part 3 of 16 in 0.01\n",
      "Merged Users of 16 in 8.79\n",
      "Extracted TE of 16 in 5.34\n",
      "Finished Batch Nr. 16 from file part-00000.tsv in 18.01s!\n",
      "Loaded Batch Nr. 17 in 2.68\n",
      "Timestamp Filtered Batch Nr. 17 in 0.02\n",
      "Did prepro part 1 of 17 in 0.02\n",
      "Did prepro part 2 of 17 in 0.86\n",
      "Did prepro part 3 of 17 in 0.00\n",
      "Merged Users of 17 in 8.78\n",
      "Extracted TE of 17 in 5.30\n",
      "Finished Batch Nr. 17 from file part-00000.tsv in 17.92s!\n",
      "Loaded Batch Nr. 18 in 2.73\n",
      "Timestamp Filtered Batch Nr. 18 in 0.02\n",
      "Did prepro part 1 of 18 in 0.02\n",
      "Did prepro part 2 of 18 in 0.88\n",
      "Did prepro part 3 of 18 in 0.00\n",
      "Merged Users of 18 in 8.73\n",
      "Extracted TE of 18 in 5.30\n",
      "Finished Batch Nr. 18 from file part-00000.tsv in 17.96s!\n",
      "Loaded Batch Nr. 19 in 2.83\n",
      "Timestamp Filtered Batch Nr. 19 in 0.02\n",
      "Did prepro part 1 of 19 in 0.02\n",
      "Did prepro part 2 of 19 in 0.86\n",
      "Did prepro part 3 of 19 in 0.01\n",
      "Merged Users of 19 in 8.69\n",
      "Extracted TE of 19 in 5.29\n",
      "Finished Batch Nr. 19 from file part-00000.tsv in 17.99s!\n",
      "Loaded Batch Nr. 20 in 3.06\n",
      "Timestamp Filtered Batch Nr. 20 in 0.02\n",
      "Did prepro part 1 of 20 in 0.02\n",
      "Did prepro part 2 of 20 in 0.88\n",
      "Did prepro part 3 of 20 in 0.00\n",
      "Merged Users of 20 in 8.81\n",
      "Extracted TE of 20 in 5.28\n",
      "Finished Batch Nr. 20 from file part-00000.tsv in 18.33s!\n"
     ]
    }
   ],
   "source": [
    "nn.fit(dl, 1)"
   ]
  },
  {
   "cell_type": "code",
   "execution_count": 5,
   "metadata": {},
   "outputs": [
    {
     "output_type": "stream",
     "name": "stdout",
     "text": [
      "Loading User Index\n",
      "Removing day counts\n",
      "Extracting combined user counts\n",
      "Created Dataloader in 9.23 seconds!\n",
      "Loaded Batch Nr. 1 in 0.50\n",
      "Timestamp Filtered Batch Nr. 1 in 0.01\n",
      "Did prepro part 1 of 1 in 0.01\n",
      "Did prepro part 2 of 1 in 0.35\n",
      "Did prepro part 3 of 1 in 0.00\n",
      "Merged Users of 1 in 20.75\n",
      "Extracted TE of 1 in 10.51\n",
      "Finished Batch Nr. 1 from file part-00000.tsv in 32.27s!\n",
      "Loaded Batch Nr. 2 in 0.60\n",
      "Timestamp Filtered Batch Nr. 2 in 0.01\n",
      "Did prepro part 1 of 2 in 0.01\n",
      "Did prepro part 2 of 2 in 0.36\n",
      "Did prepro part 3 of 2 in 0.00\n",
      "Merged Users of 2 in 19.24\n",
      "Extracted TE of 2 in 10.39\n",
      "Finished Batch Nr. 2 from file part-00000.tsv in 30.75s!\n"
     ]
    },
    {
     "output_type": "execute_result",
     "data": {
      "text/plain": [
       "{'Q1_reply_rce': -55.06375529232655,\n",
       " 'Q1_retweet_rce': 2.022846040964088,\n",
       " 'Q1_retweet_comment_rce': -1779.8738613419546,\n",
       " 'Q1_like_rce': -33.556324489285075,\n",
       " 'Q1_reply_avg_prec': 0.15847665901759944,\n",
       " 'Q1_retweet_avg_prec': 0.3183992278567487,\n",
       " 'Q1_retweet_comment_avg_prec': 0.012456490593981896,\n",
       " 'Q1_like_avg_prec': 0.6371322559900724,\n",
       " 'Q2_reply_rce': -69.87847181000113,\n",
       " 'Q2_retweet_rce': 6.4290856674497965,\n",
       " 'Q2_retweet_comment_rce': -1713.128849104653,\n",
       " 'Q2_like_rce': -26.586873867452155,\n",
       " 'Q2_reply_avg_prec': 0.15787283026510363,\n",
       " 'Q2_retweet_avg_prec': 0.30418172967899715,\n",
       " 'Q2_retweet_comment_avg_prec': 0.0320185234437078,\n",
       " 'Q2_like_avg_prec': 0.6575847322885718,\n",
       " 'Q3_reply_rce': -68.04658336242227,\n",
       " 'Q3_retweet_rce': 11.167206860620848,\n",
       " 'Q3_retweet_comment_rce': -1096.8625199070543,\n",
       " 'Q3_like_rce': -15.533225203282308,\n",
       " 'Q3_reply_avg_prec': 0.17978344581739844,\n",
       " 'Q3_retweet_avg_prec': 0.3482818652909233,\n",
       " 'Q3_retweet_comment_avg_prec': 0.015857833740217535,\n",
       " 'Q3_like_avg_prec': 0.6567000236385427,\n",
       " 'Q4_reply_rce': -94.08723578637476,\n",
       " 'Q4_retweet_rce': 14.027504353393683,\n",
       " 'Q4_retweet_comment_rce': -1043.8681907205514,\n",
       " 'Q4_like_rce': -15.70046307663635,\n",
       " 'Q4_reply_avg_prec': 0.1357782597762223,\n",
       " 'Q4_retweet_avg_prec': 0.37342436753051944,\n",
       " 'Q4_retweet_comment_avg_prec': 0.03359344801286888,\n",
       " 'Q4_like_avg_prec': 0.6577912227315191,\n",
       " 'Q5_reply_rce': -114.27845531785246,\n",
       " 'Q5_retweet_rce': 7.551634417797592,\n",
       " 'Q5_retweet_comment_rce': -1171.679261120721,\n",
       " 'Q5_like_rce': -3.3687576940799158,\n",
       " 'Q5_reply_avg_prec': 0.09227073574736669,\n",
       " 'Q5_retweet_avg_prec': 0.28978193582223455,\n",
       " 'Q5_retweet_comment_avg_prec': 0.017640340920890958,\n",
       " 'Q5_like_avg_prec': 0.657477525382726,\n",
       " 'TOTAL_reply_rce': -80.27090031379544,\n",
       " 'TOTAL_retweet_rce': 8.239655468045202,\n",
       " 'TOTAL_retweet_comment_rce': -1361.082536438987,\n",
       " 'TOTAL_like_rce': -18.949128866147163,\n",
       " 'TOTAL_reply_avg_prec': 0.1448363861247381,\n",
       " 'TOTAL_retweet_avg_prec': 0.32681382523588465,\n",
       " 'TOTAL_retweet_comment_avg_prec': 0.022313327342333412,\n",
       " 'TOTAL_like_avg_prec': 0.6533371520062864}"
      ]
     },
     "metadata": {},
     "execution_count": 5
    }
   ],
   "source": [
    "dl = dataloader.RecSys2021TSVDataLoader(\n",
    "    csv_data_location, \n",
    "    use_user_index, \n",
    "    mode=\"val\", \n",
    "    filter_timestamp=filter_timestamp, \n",
    "    verbose=2,\n",
    "    remove_day_counts=True, \n",
    "    keep_user_percent=1, \n",
    "    batch_size = 100000,\n",
    "    minibatches_size = 64,\n",
    "    load_n_batches = 2,\n",
    "    normalize_batch = True\n",
    ")\n",
    "\n",
    "nn.evaluate_validation_set(dl)"
   ]
  },
  {
   "cell_type": "code",
   "execution_count": 2,
   "metadata": {},
   "outputs": [],
   "source": [
    "from utils.constants import user_group_weights\n",
    "import torch"
   ]
  },
  {
   "cell_type": "code",
   "execution_count": 7,
   "metadata": {},
   "outputs": [],
   "source": [
    "groups = [1,2,4,5]"
   ]
  },
  {
   "cell_type": "code",
   "execution_count": 8,
   "metadata": {},
   "outputs": [
    {
     "output_type": "execute_result",
     "data": {
      "text/plain": [
       "[0.9870774328685435,\n",
       " 0.9705157535873209,\n",
       " 0.8466576397178028,\n",
       " 0.4343195950966685]"
      ]
     },
     "metadata": {},
     "execution_count": 8
    }
   ],
   "source": [
    "[user_group_weights[it] for it in groups]"
   ]
  },
  {
   "source": [
    "# Other"
   ],
   "cell_type": "markdown",
   "metadata": {}
  },
  {
   "cell_type": "code",
   "execution_count": 1,
   "metadata": {},
   "outputs": [],
   "source": [
    "import utils.download"
   ]
  },
  {
   "cell_type": "code",
   "execution_count": 2,
   "metadata": {},
   "outputs": [
    {
     "output_type": "stream",
     "name": "stdout",
     "text": [
      "Downloading https://storage.googleapis.com to data/validation_data/part-00000.lzo... done\n",
      "Uncompressing data/validation_data/part-00000.lzo... done\n",
      "Downloading https://storage.googleapis.com to data/validation_data/part-00001.lzo... done\n",
      "Uncompressing data/validation_data/part-00001.lzo... done\n"
     ]
    }
   ],
   "source": [
    "utils.download.download_data(\"validation_urls.txt\",\"data/validation_data\", delete_compressed = False)"
   ]
  },
  {
   "cell_type": "code",
   "execution_count": 10,
   "metadata": {},
   "outputs": [],
   "source": [
    "import pandas as pd\n",
    "from utils.constants import all_columns, dtypes_of_features, all_features"
   ]
  },
  {
   "cell_type": "code",
   "execution_count": 11,
   "metadata": {},
   "outputs": [
    {
     "output_type": "execute_result",
     "data": {
      "text/plain": [
       "                     bert_base_multilingual_cased_tokens  \\\n",
       "0      101\\t157\\t39554\\t117\\t51747\\t10479\\t27874\\t101...   \n",
       "1      101\\t14120\\t131\\t120\\t120\\t188\\t119\\t11170\\t12...   \n",
       "2      101\\t56898\\t137\\t10279\\t10908\\t10138\\t168\\t398...   \n",
       "3      101\\t56898\\t137\\t12275\\t10738\\t11534\\t15417\\t9...   \n",
       "4      101\\t109821\\t24093\\t14703\\t30118\\t11259\\t160\\t...   \n",
       "...                                                  ...   \n",
       "99995  101\\t49056\\t27354\\t34935\\t69618\\t39752\\t10230\\...   \n",
       "99996  101\\t10911\\t146\\t100\\t172\\t16863\\t29597\\t86607...   \n",
       "99997  101\\t56898\\t137\\t14424\\t168\\t48742\\t131\\t108\\t...   \n",
       "99998  101\\t1894\\t88218\\t7860\\t2316\\t1895\\t108\\t2087\\...   \n",
       "99999  101\\t24625\\t12216\\t16190\\t20934\\t10305\\t39135\\...   \n",
       "\n",
       "                                                hashtags  \\\n",
       "0                                                    NaN   \n",
       "1                                                    NaN   \n",
       "2      90C52DDF506D1C98EE678E84C08C36AB\\tCD8639BABE54...   \n",
       "3      D704B4128E35F9BC995E701523676542\\tCFD3AF9039C6...   \n",
       "4                                                    NaN   \n",
       "...                                                  ...   \n",
       "99995                   E27EDC9E620D43F17663DCAEAA958585   \n",
       "99996                                                NaN   \n",
       "99997  4A99F523FECC5224DFB8B55027794D21\\t18B9EA3B7FDC...   \n",
       "99998  35825087788754DC26ED3A6364FD3A55\\tD1E4BFB9BD83...   \n",
       "99999                                                NaN   \n",
       "\n",
       "                               tweet_id                      medias  \\\n",
       "0      0C8E7372269942BB173EED7C0A72DA09                         NaN   \n",
       "1      858720854891DFED04A5B91758049833                       Photo   \n",
       "2      1988AA4069C46F57990B6983FBD427A6                         NaN   \n",
       "3      89C86150124016236B7D4A286B041210                         NaN   \n",
       "4      971197A8E595128D8BAF8F3F9D20CFF3                Photo\\tPhoto   \n",
       "...                                 ...                         ...   \n",
       "99995  B434BB652FBBA4D4CA2C8B75CD65D60D  Photo\\tPhoto\\tPhoto\\tPhoto   \n",
       "99996  710CA52FDB579F8C375D21CF967DD32A                         NaN   \n",
       "99997  ACF411715253EA6B18794E067D62D530                         NaN   \n",
       "99998  0F6E4AF7D5A70C4C9519D224604EB61C                         NaN   \n",
       "99999  00AD7C226F494AB80FE24B262CDA7092  Photo\\tPhoto\\tPhoto\\tPhoto   \n",
       "\n",
       "                                  links                           domains  \\\n",
       "0                                   NaN                               NaN   \n",
       "1                                   NaN                               NaN   \n",
       "2      D249E94F6D37A7D5E37185E02C94CDFF  9EFF000CDB18B710CDDB43EE1D8C300B   \n",
       "3                                   NaN                               NaN   \n",
       "4                                   NaN                               NaN   \n",
       "...                                 ...                               ...   \n",
       "99995                               NaN                               NaN   \n",
       "99996                               NaN                               NaN   \n",
       "99997                               NaN                               NaN   \n",
       "99998  A33C298D80264AFAB5612248F785024C  1CE85CC733BA6144D83EDF75F95DCA4E   \n",
       "99999                               NaN                               NaN   \n",
       "\n",
       "           type                          language   timestamp  \\\n",
       "0         Quote  488B32D24BD4BB44172EB981C1BCA6FA  1614523782   \n",
       "1      TopLevel  313ECD3A1E5BB07406E4249475C2D6D6  1614335436   \n",
       "2       Retweet  E7F038DE3EAD397AEC9193686C911677  1614618153   \n",
       "3       Retweet  E7F038DE3EAD397AEC9193686C911677  1614714932   \n",
       "4      TopLevel  488B32D24BD4BB44172EB981C1BCA6FA  1614559113   \n",
       "...         ...                               ...         ...   \n",
       "99995  TopLevel  488B32D24BD4BB44172EB981C1BCA6FA  1614747844   \n",
       "99996  TopLevel  488B32D24BD4BB44172EB981C1BCA6FA  1614670776   \n",
       "99997   Retweet  E7F038DE3EAD397AEC9193686C911677  1614768600   \n",
       "99998  TopLevel  E7F038DE3EAD397AEC9193686C911677  1614238664   \n",
       "99999  TopLevel  1F73BB863A39DB62B4A55B7E558DB1E8  1614248932   \n",
       "\n",
       "                              a_user_id  ...  \\\n",
       "0      8B7BB615A39DF112B0037E960C27F220  ...   \n",
       "1      74B09D5BC3FCE5CC4DEE34BF049A0EE5  ...   \n",
       "2      316C2BE47E445DA930E56C12F3AF31C5  ...   \n",
       "3      C19FC40FBF0AA0BAC4797BD47483349B  ...   \n",
       "4      46846BF25E56F8BA11C0AE36ED31B28F  ...   \n",
       "...                                 ...  ...   \n",
       "99995  967E7C2A6A7F277E37C8E77D224B7E18  ...   \n",
       "99996  04F8A6F207D69EF1E63F4926D1D4DBAB  ...   \n",
       "99997  3AD09AAD3F97E386B12E14772CAA5E67  ...   \n",
       "99998  2D2E9B9AD37B72325FDEA86D1197975D  ...   \n",
       "99999  FA3D16F4CF4256512B2FEEECA6378146  ...   \n",
       "\n",
       "                              b_user_id  b_follower_count  b_following_count  \\\n",
       "0      3044AFDB7E977FB7F62D49C5C97794B7              1128               4028   \n",
       "1      23ACD97ACEF57BF6416670BE1133A664                72                115   \n",
       "2      99F829F88A12BF8B92EDF11A10B6533C               130                638   \n",
       "3      A3A7B6D928FAD730BA9967B53EA7CC28               234                640   \n",
       "4      BA94D75FC03B42F88CAE61485E075960                 8                208   \n",
       "...                                 ...               ...                ...   \n",
       "99995  F9414BF0E778E51C5BC48655D0C52583              4542               1401   \n",
       "99996  D8462FB3BBD84B0431CF79EC2D106983               738                677   \n",
       "99997  7A7A62AC9D03EC812B0971FFCE113A9B               324               1736   \n",
       "99998  3EA329F4500E2FB2DFEF0C482E43C2D5                 8                 57   \n",
       "99999  5288EF236BD63A6A403F58A821A38B19               381                525   \n",
       "\n",
       "       b_is_verified b_account_creation  a_follows_b  reply  retweet  \\\n",
       "0              False         1419763073        False    NaN      NaN   \n",
       "1              False         1600058407        False    NaN      NaN   \n",
       "2              False         1257076693        False    NaN      NaN   \n",
       "3              False         1599725409        False    NaN      NaN   \n",
       "4              False         1532879982        False    NaN      NaN   \n",
       "...              ...                ...          ...    ...      ...   \n",
       "99995          False         1344160517         True    NaN      NaN   \n",
       "99996          False         1288417538        False    NaN      NaN   \n",
       "99997          False         1339671557         True    NaN      NaN   \n",
       "99998          False         1548231263        False    NaN      NaN   \n",
       "99999          False         1349299536         True    NaN      NaN   \n",
       "\n",
       "       retweet_comment          like  \n",
       "0                  NaN  1.614526e+09  \n",
       "1                  NaN  1.614379e+09  \n",
       "2                  NaN           NaN  \n",
       "3                  NaN  1.614715e+09  \n",
       "4                  NaN  1.614618e+09  \n",
       "...                ...           ...  \n",
       "99995              NaN  1.614755e+09  \n",
       "99996              NaN           NaN  \n",
       "99997              NaN           NaN  \n",
       "99998              NaN           NaN  \n",
       "99999              NaN  1.614249e+09  \n",
       "\n",
       "[100000 rows x 24 columns]"
      ],
      "text/html": "<div>\n<style scoped>\n    .dataframe tbody tr th:only-of-type {\n        vertical-align: middle;\n    }\n\n    .dataframe tbody tr th {\n        vertical-align: top;\n    }\n\n    .dataframe thead th {\n        text-align: right;\n    }\n</style>\n<table border=\"1\" class=\"dataframe\">\n  <thead>\n    <tr style=\"text-align: right;\">\n      <th></th>\n      <th>bert_base_multilingual_cased_tokens</th>\n      <th>hashtags</th>\n      <th>tweet_id</th>\n      <th>medias</th>\n      <th>links</th>\n      <th>domains</th>\n      <th>type</th>\n      <th>language</th>\n      <th>timestamp</th>\n      <th>a_user_id</th>\n      <th>...</th>\n      <th>b_user_id</th>\n      <th>b_follower_count</th>\n      <th>b_following_count</th>\n      <th>b_is_verified</th>\n      <th>b_account_creation</th>\n      <th>a_follows_b</th>\n      <th>reply</th>\n      <th>retweet</th>\n      <th>retweet_comment</th>\n      <th>like</th>\n    </tr>\n  </thead>\n  <tbody>\n    <tr>\n      <th>0</th>\n      <td>101\\t157\\t39554\\t117\\t51747\\t10479\\t27874\\t101...</td>\n      <td>NaN</td>\n      <td>0C8E7372269942BB173EED7C0A72DA09</td>\n      <td>NaN</td>\n      <td>NaN</td>\n      <td>NaN</td>\n      <td>Quote</td>\n      <td>488B32D24BD4BB44172EB981C1BCA6FA</td>\n      <td>1614523782</td>\n      <td>8B7BB615A39DF112B0037E960C27F220</td>\n      <td>...</td>\n      <td>3044AFDB7E977FB7F62D49C5C97794B7</td>\n      <td>1128</td>\n      <td>4028</td>\n      <td>False</td>\n      <td>1419763073</td>\n      <td>False</td>\n      <td>NaN</td>\n      <td>NaN</td>\n      <td>NaN</td>\n      <td>1.614526e+09</td>\n    </tr>\n    <tr>\n      <th>1</th>\n      <td>101\\t14120\\t131\\t120\\t120\\t188\\t119\\t11170\\t12...</td>\n      <td>NaN</td>\n      <td>858720854891DFED04A5B91758049833</td>\n      <td>Photo</td>\n      <td>NaN</td>\n      <td>NaN</td>\n      <td>TopLevel</td>\n      <td>313ECD3A1E5BB07406E4249475C2D6D6</td>\n      <td>1614335436</td>\n      <td>74B09D5BC3FCE5CC4DEE34BF049A0EE5</td>\n      <td>...</td>\n      <td>23ACD97ACEF57BF6416670BE1133A664</td>\n      <td>72</td>\n      <td>115</td>\n      <td>False</td>\n      <td>1600058407</td>\n      <td>False</td>\n      <td>NaN</td>\n      <td>NaN</td>\n      <td>NaN</td>\n      <td>1.614379e+09</td>\n    </tr>\n    <tr>\n      <th>2</th>\n      <td>101\\t56898\\t137\\t10279\\t10908\\t10138\\t168\\t398...</td>\n      <td>90C52DDF506D1C98EE678E84C08C36AB\\tCD8639BABE54...</td>\n      <td>1988AA4069C46F57990B6983FBD427A6</td>\n      <td>NaN</td>\n      <td>D249E94F6D37A7D5E37185E02C94CDFF</td>\n      <td>9EFF000CDB18B710CDDB43EE1D8C300B</td>\n      <td>Retweet</td>\n      <td>E7F038DE3EAD397AEC9193686C911677</td>\n      <td>1614618153</td>\n      <td>316C2BE47E445DA930E56C12F3AF31C5</td>\n      <td>...</td>\n      <td>99F829F88A12BF8B92EDF11A10B6533C</td>\n      <td>130</td>\n      <td>638</td>\n      <td>False</td>\n      <td>1257076693</td>\n      <td>False</td>\n      <td>NaN</td>\n      <td>NaN</td>\n      <td>NaN</td>\n      <td>NaN</td>\n    </tr>\n    <tr>\n      <th>3</th>\n      <td>101\\t56898\\t137\\t12275\\t10738\\t11534\\t15417\\t9...</td>\n      <td>D704B4128E35F9BC995E701523676542\\tCFD3AF9039C6...</td>\n      <td>89C86150124016236B7D4A286B041210</td>\n      <td>NaN</td>\n      <td>NaN</td>\n      <td>NaN</td>\n      <td>Retweet</td>\n      <td>E7F038DE3EAD397AEC9193686C911677</td>\n      <td>1614714932</td>\n      <td>C19FC40FBF0AA0BAC4797BD47483349B</td>\n      <td>...</td>\n      <td>A3A7B6D928FAD730BA9967B53EA7CC28</td>\n      <td>234</td>\n      <td>640</td>\n      <td>False</td>\n      <td>1599725409</td>\n      <td>False</td>\n      <td>NaN</td>\n      <td>NaN</td>\n      <td>NaN</td>\n      <td>1.614715e+09</td>\n    </tr>\n    <tr>\n      <th>4</th>\n      <td>101\\t109821\\t24093\\t14703\\t30118\\t11259\\t160\\t...</td>\n      <td>NaN</td>\n      <td>971197A8E595128D8BAF8F3F9D20CFF3</td>\n      <td>Photo\\tPhoto</td>\n      <td>NaN</td>\n      <td>NaN</td>\n      <td>TopLevel</td>\n      <td>488B32D24BD4BB44172EB981C1BCA6FA</td>\n      <td>1614559113</td>\n      <td>46846BF25E56F8BA11C0AE36ED31B28F</td>\n      <td>...</td>\n      <td>BA94D75FC03B42F88CAE61485E075960</td>\n      <td>8</td>\n      <td>208</td>\n      <td>False</td>\n      <td>1532879982</td>\n      <td>False</td>\n      <td>NaN</td>\n      <td>NaN</td>\n      <td>NaN</td>\n      <td>1.614618e+09</td>\n    </tr>\n    <tr>\n      <th>...</th>\n      <td>...</td>\n      <td>...</td>\n      <td>...</td>\n      <td>...</td>\n      <td>...</td>\n      <td>...</td>\n      <td>...</td>\n      <td>...</td>\n      <td>...</td>\n      <td>...</td>\n      <td>...</td>\n      <td>...</td>\n      <td>...</td>\n      <td>...</td>\n      <td>...</td>\n      <td>...</td>\n      <td>...</td>\n      <td>...</td>\n      <td>...</td>\n      <td>...</td>\n      <td>...</td>\n    </tr>\n    <tr>\n      <th>99995</th>\n      <td>101\\t49056\\t27354\\t34935\\t69618\\t39752\\t10230\\...</td>\n      <td>E27EDC9E620D43F17663DCAEAA958585</td>\n      <td>B434BB652FBBA4D4CA2C8B75CD65D60D</td>\n      <td>Photo\\tPhoto\\tPhoto\\tPhoto</td>\n      <td>NaN</td>\n      <td>NaN</td>\n      <td>TopLevel</td>\n      <td>488B32D24BD4BB44172EB981C1BCA6FA</td>\n      <td>1614747844</td>\n      <td>967E7C2A6A7F277E37C8E77D224B7E18</td>\n      <td>...</td>\n      <td>F9414BF0E778E51C5BC48655D0C52583</td>\n      <td>4542</td>\n      <td>1401</td>\n      <td>False</td>\n      <td>1344160517</td>\n      <td>True</td>\n      <td>NaN</td>\n      <td>NaN</td>\n      <td>NaN</td>\n      <td>1.614755e+09</td>\n    </tr>\n    <tr>\n      <th>99996</th>\n      <td>101\\t10911\\t146\\t100\\t172\\t16863\\t29597\\t86607...</td>\n      <td>NaN</td>\n      <td>710CA52FDB579F8C375D21CF967DD32A</td>\n      <td>NaN</td>\n      <td>NaN</td>\n      <td>NaN</td>\n      <td>TopLevel</td>\n      <td>488B32D24BD4BB44172EB981C1BCA6FA</td>\n      <td>1614670776</td>\n      <td>04F8A6F207D69EF1E63F4926D1D4DBAB</td>\n      <td>...</td>\n      <td>D8462FB3BBD84B0431CF79EC2D106983</td>\n      <td>738</td>\n      <td>677</td>\n      <td>False</td>\n      <td>1288417538</td>\n      <td>False</td>\n      <td>NaN</td>\n      <td>NaN</td>\n      <td>NaN</td>\n      <td>NaN</td>\n    </tr>\n    <tr>\n      <th>99997</th>\n      <td>101\\t56898\\t137\\t14424\\t168\\t48742\\t131\\t108\\t...</td>\n      <td>4A99F523FECC5224DFB8B55027794D21\\t18B9EA3B7FDC...</td>\n      <td>ACF411715253EA6B18794E067D62D530</td>\n      <td>NaN</td>\n      <td>NaN</td>\n      <td>NaN</td>\n      <td>Retweet</td>\n      <td>E7F038DE3EAD397AEC9193686C911677</td>\n      <td>1614768600</td>\n      <td>3AD09AAD3F97E386B12E14772CAA5E67</td>\n      <td>...</td>\n      <td>7A7A62AC9D03EC812B0971FFCE113A9B</td>\n      <td>324</td>\n      <td>1736</td>\n      <td>False</td>\n      <td>1339671557</td>\n      <td>True</td>\n      <td>NaN</td>\n      <td>NaN</td>\n      <td>NaN</td>\n      <td>NaN</td>\n    </tr>\n    <tr>\n      <th>99998</th>\n      <td>101\\t1894\\t88218\\t7860\\t2316\\t1895\\t108\\t2087\\...</td>\n      <td>35825087788754DC26ED3A6364FD3A55\\tD1E4BFB9BD83...</td>\n      <td>0F6E4AF7D5A70C4C9519D224604EB61C</td>\n      <td>NaN</td>\n      <td>A33C298D80264AFAB5612248F785024C</td>\n      <td>1CE85CC733BA6144D83EDF75F95DCA4E</td>\n      <td>TopLevel</td>\n      <td>E7F038DE3EAD397AEC9193686C911677</td>\n      <td>1614238664</td>\n      <td>2D2E9B9AD37B72325FDEA86D1197975D</td>\n      <td>...</td>\n      <td>3EA329F4500E2FB2DFEF0C482E43C2D5</td>\n      <td>8</td>\n      <td>57</td>\n      <td>False</td>\n      <td>1548231263</td>\n      <td>False</td>\n      <td>NaN</td>\n      <td>NaN</td>\n      <td>NaN</td>\n      <td>NaN</td>\n    </tr>\n    <tr>\n      <th>99999</th>\n      <td>101\\t24625\\t12216\\t16190\\t20934\\t10305\\t39135\\...</td>\n      <td>NaN</td>\n      <td>00AD7C226F494AB80FE24B262CDA7092</td>\n      <td>Photo\\tPhoto\\tPhoto\\tPhoto</td>\n      <td>NaN</td>\n      <td>NaN</td>\n      <td>TopLevel</td>\n      <td>1F73BB863A39DB62B4A55B7E558DB1E8</td>\n      <td>1614248932</td>\n      <td>FA3D16F4CF4256512B2FEEECA6378146</td>\n      <td>...</td>\n      <td>5288EF236BD63A6A403F58A821A38B19</td>\n      <td>381</td>\n      <td>525</td>\n      <td>False</td>\n      <td>1349299536</td>\n      <td>True</td>\n      <td>NaN</td>\n      <td>NaN</td>\n      <td>NaN</td>\n      <td>1.614249e+09</td>\n    </tr>\n  </tbody>\n</table>\n<p>100000 rows × 24 columns</p>\n</div>"
     },
     "metadata": {},
     "execution_count": 11
    }
   ],
   "source": [
    "pd.read_csv(\"data/validation_data/part-00000.lzo\",\n",
    "                sep='\\x01',\n",
    "                header=None,\n",
    "                names=all_columns,\n",
    "                dtype={k: v for k, v in dtypes_of_features.items() if k in all_features},\n",
    "                nrows = 100000\n",
    "                )"
   ]
  },
  {
   "cell_type": "code",
   "execution_count": 3,
   "metadata": {},
   "outputs": [
    {
     "output_type": "stream",
     "name": "stdout",
     "text": [
      "Loaded Batch Nr. 1 in 8.59\n",
      "Timestamp Filtered Batch Nr. 1 in 0.00\n",
      "Did prepro part 1 of 1 in 0.36\n",
      "Did prepro part 2 of 1 in 20.40\n",
      "Did prepro part 3 of 1 in 0.09\n",
      "Merged Users of 1 in 25.17\n",
      "Extracted TE of 1 in 14.11\n",
      "Finished Batch Nr. 1 from file part-00000.tsv in 73.28s!\n"
     ]
    }
   ],
   "source": [
    "res = next(iter(dl))"
   ]
  },
  {
   "cell_type": "code",
   "execution_count": 5,
   "metadata": {},
   "outputs": [
    {
     "output_type": "stream",
     "name": "stdout",
     "text": [
      "a_follower_count                                            a_following_count                                           a_is_verified                                               b_follower_count                                            b_following_count                                           b_is_verified                                               a_follows_b                                                 bert_token_len                                              photo_count                                                 video_count                                                 gif_count                                                   type_encoding                                               language_encoding                                           a_followers                                                 a_following                                                 b_followers                                                 b_following                                                 day_of_week                                                 hour_of_day                                                 a_b_creation_delta                                          a_creation_delta                                            b_creation_delta                                            a_b_follower_ratio                                          a_b_following_ratio                                         TE_reply_a_TopLevel_A                                       TE_reply_a_TopLevel_B                                       TE_reply_a_Retweet_A                                        TE_reply_a_Retweet_B                                        TE_reply_a_Quote_A                                          TE_reply_a_Quote_B                                          TE_reply_a_A                                                TE_reply_a_B                                                TE_reply_b_TopLevel_A                                       TE_reply_b_TopLevel_B                                       TE_reply_b_Retweet_A                                        TE_reply_b_Retweet_B                                        TE_reply_b_Quote_A                                          TE_reply_b_Quote_B                                          TE_reply_b_A                                                TE_reply_b_B                                                TE_like_a_TopLevel_A                                        TE_like_a_TopLevel_B                                        TE_like_a_Retweet_A                                         TE_like_a_Retweet_B                                         TE_like_a_Quote_A                                           TE_like_a_Quote_B                                           TE_like_a_A                                                 TE_like_a_B                                                 TE_like_b_TopLevel_A                                        TE_like_b_TopLevel_B                                        TE_like_b_Retweet_A                                         TE_like_b_Retweet_B                                         TE_like_b_Quote_A                                           TE_like_b_Quote_B                                           TE_like_b_A                                                 TE_like_b_B                                                 TE_retweet_a_TopLevel_A                                     TE_retweet_a_TopLevel_B                                     TE_retweet_a_Retweet_A                                      TE_retweet_a_Retweet_B                                      TE_retweet_a_Quote_A                                        TE_retweet_a_Quote_B                                        TE_retweet_a_A                                              TE_retweet_a_B                                              TE_retweet_b_TopLevel_A                                     TE_retweet_b_TopLevel_B                                     TE_retweet_b_Retweet_A                                      TE_retweet_b_Retweet_B                                      TE_retweet_b_Quote_A                                        TE_retweet_b_Quote_B                                        TE_retweet_b_A                                              TE_retweet_b_B                                              TE_retweet_comment_a_TopLevel_A                             TE_retweet_comment_a_TopLevel_B                             TE_retweet_comment_a_Retweet_A                              TE_retweet_comment_a_Retweet_B                              TE_retweet_comment_a_Quote_A                                TE_retweet_comment_a_Quote_B                                TE_retweet_comment_a_A                                      TE_retweet_comment_a_B                                      TE_retweet_comment_b_TopLevel_A                             TE_retweet_comment_b_TopLevel_B                             TE_retweet_comment_b_Retweet_A                              TE_retweet_comment_b_Retweet_B                              TE_retweet_comment_b_Quote_A                                TE_retweet_comment_b_Quote_B                                TE_retweet_comment_b_A                                      TE_retweet_comment_b_B                                      "
     ]
    }
   ],
   "source": [
    "for col in res[0].columns:\n",
    "    if col.startswith(\"n_\") or True:\n",
    "        print(f\"{col:60}\", end=\"\")"
   ]
  },
  {
   "cell_type": "code",
   "execution_count": 23,
   "metadata": {},
   "outputs": [],
   "source": []
  },
  {
   "cell_type": "code",
   "execution_count": null,
   "metadata": {},
   "outputs": [],
   "source": [
    "for key in res:\n",
    "    print(f\"{key:32}: {res[key]}\")"
   ]
  }
 ]
}