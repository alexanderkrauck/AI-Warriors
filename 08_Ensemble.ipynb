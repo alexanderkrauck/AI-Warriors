{
 "metadata": {
  "language_info": {
   "codemirror_mode": {
    "name": "ipython",
    "version": 3
   },
   "file_extension": ".py",
   "mimetype": "text/x-python",
   "name": "python",
   "nbconvert_exporter": "python",
   "pygments_lexer": "ipython3",
   "version": "3.9.5"
  },
  "orig_nbformat": 4,
  "kernelspec": {
   "name": "python3",
   "display_name": "Python 3.9.5 64-bit ('m1': conda)"
  },
  "interpreter": {
   "hash": "3b92691d56bfc9d5af752bc6654e963678e4150a6c1b95c958d07e2434145127"
  }
 },
 "nbformat": 4,
 "nbformat_minor": 2,
 "cells": [
  {
   "cell_type": "code",
   "execution_count": 7,
   "metadata": {},
   "outputs": [],
   "source": [
    "from utils import dataloader\n",
    "import utils.model\n",
    "from datetime import datetime\n",
    "from os.path import join\n",
    "from importlib import reload\n",
    "\n",
    "filter_timestamp = None#int(datetime(2021, 2, 19, 0).timestamp())\n",
    "use_user_index = join(\"indices\",\"user_index_w_type.parquet\")#\"train_user_index.parquet\"\n",
    "csv_data_location = join(\"data\",\"downloaded_data\")\n",
    "result_logfile = join(\"logs\",\"3batches_results.csv\")"
   ]
  },
  {
   "cell_type": "code",
   "execution_count": 8,
   "metadata": {},
   "outputs": [],
   "source": [
    "recsysxgb = utils.model.RecSysXGB1(model_dir = \"saved_models/xgb_models_33_0.05_noise_0maxdeltastep\")"
   ]
  },
  {
   "cell_type": "code",
   "execution_count": 9,
   "metadata": {},
   "outputs": [],
   "source": [
    "supermodel = utils.model.RecSysSuperModel([recsysxgb], \"saved_models/super_models/super_model_2\")"
   ]
  },
  {
   "cell_type": "code",
   "execution_count": 10,
   "metadata": {},
   "outputs": [
    {
     "output_type": "stream",
     "name": "stdout",
     "text": [
      "Loading User Index\n",
      "Removing day counts\n",
      "Extracting combined user counts\n",
      "Created Dataloader in 11.84 seconds!\n"
     ]
    }
   ],
   "source": [
    "dl = dataloader.RecSys2021TSVDataLoader(\n",
    "    csv_data_location, \n",
    "    use_user_index, \n",
    "    mode=\"train\", \n",
    "    filter_timestamp=filter_timestamp, \n",
    "    verbose=2, \n",
    "    remove_day_counts=True, \n",
    "    keep_user_percent=1, \n",
    "    batch_size = 1500000,\n",
    "    load_n_batches = 1,\n",
    "    TE_smoothing = {\"reply\":40, \"like\":40, \"retweet\":20, \"retweet_comment\":15},\n",
    "    remove_user_counts=True,\n",
    "    add_normal_TE_noise_std = 0 #here 0\n",
    "    )"
   ]
  },
  {
   "cell_type": "code",
   "execution_count": 11,
   "metadata": {},
   "outputs": [
    {
     "output_type": "stream",
     "name": "stdout",
     "text": [
      "Loaded Batch Nr. 1 in 7.68\n",
      "Timestamp Filtered Batch Nr. 1 in 0.00\n",
      "Did prepro part 1 of 1 in 0.35\n",
      "Did prepro part 2 of 1 in 20.14\n",
      "Did prepro part 3 of 1 in 0.11\n",
      "Merged Users of 1 in 23.04\n",
      "Extracted TE of 1 in 16.23\n",
      "Finished Batch Nr. 1 from file part-00000.tsv in 70.58s!\n"
     ]
    }
   ],
   "source": [
    "xgb_params = {'objective': 'binary:logistic', 'eval_metric':'logloss', 'max_depth':6, \"max_delta_step\":0}\n",
    "supermodel.fit(dl, verbose = 1, boost_rounds_per_iteration = 12, xgb_parameters = xgb_params)"
   ]
  },
  {
   "cell_type": "code",
   "execution_count": 12,
   "metadata": {},
   "outputs": [
    {
     "output_type": "stream",
     "name": "stdout",
     "text": [
      "Loading User Index\n",
      "Removing day counts\n",
      "Extracting combined user counts\n",
      "Created Dataloader in 11.59 seconds!\n"
     ]
    }
   ],
   "source": [
    "val_data_location = join(\"data\",\"validation_data\")\n",
    "\n",
    "dl = dataloader.RecSys2021TSVDataLoader(\n",
    "    data_directory = val_data_location, \n",
    "    user_index_location = use_user_index,\n",
    "    mode=\"val\", \n",
    "    filter_timestamp=filter_timestamp, \n",
    "    verbose=2, \n",
    "    random_file_sampling=False, \n",
    "    load_n_batches=3, \n",
    "    remove_day_counts=True,\n",
    "    batch_size = 1000000,\n",
    "    keep_user_percent=1,\n",
    "    remove_user_counts=True\n",
    ")"
   ]
  },
  {
   "cell_type": "code",
   "execution_count": 13,
   "metadata": {},
   "outputs": [
    {
     "output_type": "stream",
     "name": "stdout",
     "text": [
      "Loaded Batch Nr. 1 in 5.05\n",
      "Timestamp Filtered Batch Nr. 1 in 0.00\n",
      "Did prepro part 1 of 1 in 0.28\n",
      "Did prepro part 2 of 1 in 13.17\n",
      "Did prepro part 3 of 1 in 0.08\n",
      "Merged Users of 1 in 23.95\n",
      "Extracted TE of 1 in 15.46\n",
      "Finished Batch Nr. 1 from file part-00000.csv in 60.10s!\n",
      "Loaded Batch Nr. 2 in 6.02\n",
      "Timestamp Filtered Batch Nr. 2 in 0.00\n",
      "Did prepro part 1 of 2 in 0.23\n",
      "Did prepro part 2 of 2 in 13.34\n",
      "Did prepro part 3 of 2 in 0.08\n",
      "Merged Users of 2 in 23.60\n",
      "Extracted TE of 2 in 15.54\n",
      "Finished Batch Nr. 2 from file part-00000.csv in 60.90s!\n",
      "Loaded Batch Nr. 3 in 6.93\n",
      "Timestamp Filtered Batch Nr. 3 in 0.00\n",
      "Did prepro part 1 of 3 in 0.23\n",
      "Did prepro part 2 of 3 in 13.06\n",
      "Did prepro part 3 of 3 in 0.07\n",
      "Merged Users of 3 in 23.63\n",
      "Extracted TE of 3 in 15.29\n",
      "Finished Batch Nr. 3 from file part-00000.csv in 61.32s!\n"
     ]
    }
   ],
   "source": [
    "res = supermodel.evaluate_validation_set(dl, store_results_file=result_logfile, validation_run_name=\"second_try_ensemble\")"
   ]
  },
  {
   "cell_type": "code",
   "execution_count": null,
   "metadata": {},
   "outputs": [],
   "source": []
  }
 ]
}