{
 "metadata": {
  "language_info": {
   "codemirror_mode": {
    "name": "ipython",
    "version": 3
   },
   "file_extension": ".py",
   "mimetype": "text/x-python",
   "name": "python",
   "nbconvert_exporter": "python",
   "pygments_lexer": "ipython3",
   "version": "3.9.5"
  },
  "orig_nbformat": 4,
  "kernelspec": {
   "name": "python3",
   "display_name": "Python 3.9.5 64-bit ('m1': conda)"
  },
  "interpreter": {
   "hash": "3b92691d56bfc9d5af752bc6654e963678e4150a6c1b95c958d07e2434145127"
  }
 },
 "nbformat": 4,
 "nbformat_minor": 2,
 "cells": [
  {
   "cell_type": "code",
   "execution_count": 1,
   "metadata": {},
   "outputs": [],
   "source": [
    "from utils import dataloader\n",
    "import utils.model\n",
    "from datetime import datetime\n",
    "from os.path import join\n",
    "from importlib import reload\n",
    "\n",
    "filter_timestamp = None#int(datetime(2021, 2, 19, 0).timestamp())\n",
    "use_user_index = join(\"indices\",\"user_index_w_type.parquet\")#\"train_user_index.parquet\"\n",
    "csv_data_location = join(\"data\",\"downloaded_data\")\n",
    "result_logfile = join(\"logs\",\"3batches_results.csv\")"
   ]
  },
  {
   "cell_type": "code",
   "execution_count": 2,
   "metadata": {},
   "outputs": [],
   "source": [
    "models = [\n",
    "    utils.model.RecSysXGB1(model_dir = \"saved_models/xgb_models_33_0.05_noise_0maxdeltastep\"),\n",
    "    utils.model.RecSysXGB1(model_dir = \"saved_models/xgb_models_52_All_20_TE_95percent_user\"),\n",
    "    utils.model.RecSysXGB1(model_dir = \"saved_models/xgb_models_53_All_20_TE_95percent_user_100boost_rounds\"),\n",
    "    utils.model.RecSysXGB1(model_dir = \"saved_models/xgb_models_50_Different_TE_weight_different_reply15\"),\n",
    "    utils.model.RecSysXGB1(model_dir = \"saved_models/xgb_models_49_Different_TE_weight_different_reply30\"),\n",
    "    utils.model.RecSysXGB1(model_dir = \"saved_models/xgb_models_48_Different_TE_weight\"),\n",
    "    utils.model.RecSysXGB1(model_dir = \"saved_models/xgb_models_46_6_Max_depth\"),\n",
    "    utils.model.RecSysXGB1(model_dir = \"saved_models/xgb_models_47_10_Max_depth\")\n",
    "]"
   ]
  },
  {
   "cell_type": "code",
   "execution_count": 3,
   "metadata": {},
   "outputs": [],
   "source": [
    "supermodel = utils.model.RecSysSuperModel(models, \"saved_models/super_models/super_model_3_many\")"
   ]
  },
  {
   "cell_type": "code",
   "execution_count": 4,
   "metadata": {},
   "outputs": [
    {
     "output_type": "stream",
     "name": "stdout",
     "text": [
      "Loading User Index\n",
      "Removing day counts\n",
      "Extracting combined user counts\n",
      "Created Dataloader in 26.43 seconds!\n"
     ]
    }
   ],
   "source": [
    "dl = dataloader.RecSys2021TSVDataLoader(\n",
    "    csv_data_location, \n",
    "    use_user_index, \n",
    "    mode=\"train\", \n",
    "    filter_timestamp=filter_timestamp, \n",
    "    verbose=2, \n",
    "    remove_day_counts=True, \n",
    "    keep_user_percent=1, \n",
    "    batch_size = 1500000,\n",
    "    load_n_batches = 1,\n",
    "    TE_smoothing = {\"reply\":20, \"like\":20, \"retweet\":20, \"retweet_comment\":20},\n",
    "    remove_user_counts=True,\n",
    "    add_normal_TE_noise_std = 0 #here 0\n",
    "    )"
   ]
  },
  {
   "cell_type": "code",
   "execution_count": 5,
   "metadata": {},
   "outputs": [
    {
     "output_type": "stream",
     "name": "stdout",
     "text": [
      "Loaded Batch Nr. 1 in 11.02\n",
      "Timestamp Filtered Batch Nr. 1 in 0.00\n",
      "Did prepro part 1 of Batch Nr. 1 in 0.33\n",
      "Did prepro part 2 of Batch Nr. 1 in 18.23\n",
      "Did prepro part 3 of Batch Nr. 1 in 0.11\n",
      "Merged Users of Batch Nr. 1 in 25.97\n",
      "Extracted TE of Batch Nr. 1 in 16.00\n",
      "Finished Batch Nr. 1 from file part-00000.tsv in 74.66s!\n"
     ]
    }
   ],
   "source": [
    "xgb_params = {'objective': 'binary:logistic', 'eval_metric':'logloss', 'max_depth':6, \"max_delta_step\":0}\n",
    "supermodel.fit(dl, verbose = 1, boost_rounds_per_iteration = 12, xgb_parameters = xgb_params)"
   ]
  },
  {
   "cell_type": "code",
   "execution_count": 6,
   "metadata": {},
   "outputs": [
    {
     "output_type": "stream",
     "name": "stdout",
     "text": [
      "Loading User Index\n",
      "Removing day counts\n",
      "Extracting combined user counts\n",
      "Created Dataloader in 12.83 seconds!\n"
     ]
    }
   ],
   "source": [
    "val_data_location = join(\"data\",\"validation_data\")\n",
    "\n",
    "dl = dataloader.RecSys2021TSVDataLoader(\n",
    "    data_directory = val_data_location, \n",
    "    user_index_location = use_user_index,\n",
    "    mode=\"val\", \n",
    "    filter_timestamp=filter_timestamp, \n",
    "    verbose=2, \n",
    "    random_file_sampling=False, \n",
    "    load_n_batches=1, \n",
    "    remove_day_counts=True,\n",
    "    batch_size = 1000000,\n",
    "    keep_user_percent=1,\n",
    "    remove_user_counts=True\n",
    ")"
   ]
  },
  {
   "cell_type": "code",
   "execution_count": 7,
   "metadata": {},
   "outputs": [
    {
     "output_type": "stream",
     "name": "stdout",
     "text": [
      "Loaded Batch Nr. 1 in 9.94\n",
      "Timestamp Filtered Batch Nr. 1 in 0.00\n",
      "Did prepro part 1 of Batch Nr. 1 in 0.22\n",
      "Did prepro part 2 of Batch Nr. 1 in 12.34\n",
      "Did prepro part 3 of Batch Nr. 1 in 0.08\n",
      "Merged Users of Batch Nr. 1 in 26.12\n",
      "Extracted TE of Batch Nr. 1 in 15.28\n",
      "Finished Batch Nr. 1 from file part-00000.csv in 66.06s!\n"
     ]
    }
   ],
   "source": [
    "res = supermodel.evaluate_validation_set(dl, store_results_file=\"logs/1batches_results.csv\", validation_run_name=\"big3_try_ensemble\")"
   ]
  },
  {
   "cell_type": "code",
   "execution_count": null,
   "metadata": {},
   "outputs": [],
   "source": []
  }
 ]
}