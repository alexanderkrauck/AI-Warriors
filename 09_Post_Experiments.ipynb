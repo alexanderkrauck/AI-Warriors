{
 "metadata": {
  "language_info": {
   "codemirror_mode": {
    "name": "ipython",
    "version": 3
   },
   "file_extension": ".py",
   "mimetype": "text/x-python",
   "name": "python",
   "nbconvert_exporter": "python",
   "pygments_lexer": "ipython3",
   "version": "3.9.5"
  },
  "orig_nbformat": 4,
  "kernelspec": {
   "name": "python3",
   "display_name": "Python 3.9.5 64-bit ('m1': conda)"
  },
  "interpreter": {
   "hash": "3b92691d56bfc9d5af752bc6654e963678e4150a6c1b95c958d07e2434145127"
  }
 },
 "nbformat": 4,
 "nbformat_minor": 2,
 "cells": [
  {
   "cell_type": "code",
   "execution_count": 1,
   "metadata": {},
   "outputs": [],
   "source": [
    "import utils.download as downl"
   ]
  },
  {
   "cell_type": "code",
   "execution_count": 3,
   "metadata": {},
   "outputs": [],
   "source": [
    "import utils.dataloader as dl"
   ]
  },
  {
   "cell_type": "code",
   "execution_count": 4,
   "metadata": {},
   "outputs": [],
   "source": [
    "loader = dl.RecSys2021TSVDataLoader(\n",
    "    \"data/test_data\", \n",
    "    \"indices/user_index_w_type.parquet\", \n",
    "    mode=\"test\",\n",
    "    batch_size = 1500000,\n",
    "    remove_user_counts=True,\n",
    "    remove_day_counts=True)"
   ]
  },
  {
   "cell_type": "code",
   "execution_count": 5,
   "metadata": {},
   "outputs": [],
   "source": [
    "res = next(iter(loader))"
   ]
  },
  {
   "cell_type": "code",
   "execution_count": 7,
   "metadata": {},
   "outputs": [
    {
     "output_type": "execute_result",
     "data": {
      "text/plain": [
       "         a_follower_count  a_following_count  a_is_verified  b_follower_count  \\\n",
       "0                 1808268                 34           True                85   \n",
       "1                   12706               4464          False               383   \n",
       "2                   94907                497           True                85   \n",
       "3                    2391               2223          False               408   \n",
       "4                32952938                141           True                 5   \n",
       "...                   ...                ...            ...               ...   \n",
       "1499995            202227                318          False              1820   \n",
       "1499996              1568                172          False              1094   \n",
       "1499997             19855                 28          False                 0   \n",
       "1499998              1087               1035          False                33   \n",
       "1499999               764                878          False              1447   \n",
       "\n",
       "         b_following_count  b_is_verified  a_follows_b  bert_token_len  \\\n",
       "0                      373          False        False        3.931826   \n",
       "1                      758          False         True        4.127134   \n",
       "2                      528          False        False        3.610918   \n",
       "3                     1223          False        False        3.761200   \n",
       "4                       64          False        False        3.044523   \n",
       "...                    ...            ...          ...             ...   \n",
       "1499995                611          False        False        3.044523   \n",
       "1499996                964          False         True        4.804021   \n",
       "1499997                 40          False        False        2.995732   \n",
       "1499998                116          False         True        3.496508   \n",
       "1499999                700          False         True        3.135494   \n",
       "\n",
       "         photo_count  video_count  ...  TE_retweet_comment_a_A  \\\n",
       "0           0.693147     0.000000  ...                0.008349   \n",
       "1           0.000000     0.693147  ...                0.006041   \n",
       "2          -1.000000    -1.000000  ...                0.002042   \n",
       "3           0.693147     0.000000  ...                0.020689   \n",
       "4           0.693147     0.000000  ...                0.098739   \n",
       "...              ...          ...  ...                     ...   \n",
       "1499995    -1.000000    -1.000000  ...                0.008797   \n",
       "1499996    -1.000000    -1.000000  ...                0.009899   \n",
       "1499997    -1.000000    -1.000000  ...                0.010226   \n",
       "1499998     1.609438     0.000000  ...                0.017523   \n",
       "1499999    -1.000000    -1.000000  ...                0.002026   \n",
       "\n",
       "         TE_retweet_comment_a_B  TE_retweet_comment_b_TopLevel_A  \\\n",
       "0                      0.003444                         0.008860   \n",
       "1                      0.003280                         0.006110   \n",
       "2                      0.003444                         0.008054   \n",
       "3                      0.003444                         0.001464   \n",
       "4                      0.003444                         0.008860   \n",
       "...                         ...                              ...   \n",
       "1499995                0.003444                         0.008438   \n",
       "1499996                0.000538                         0.047088   \n",
       "1499997                0.003444                         0.008860   \n",
       "1499998                0.003444                         0.005063   \n",
       "1499999                0.012010                         0.007383   \n",
       "\n",
       "         TE_retweet_comment_b_TopLevel_B  TE_retweet_comment_b_Retweet_A  \\\n",
       "0                               0.006815                        0.005590   \n",
       "1                               0.008860                        0.003606   \n",
       "2                               0.002568                        0.005590   \n",
       "3                               0.008438                        0.001747   \n",
       "4                               0.008438                        0.005590   \n",
       "...                                  ...                             ...   \n",
       "1499995                         0.008438                        0.005323   \n",
       "1499996                         0.003055                        0.046325   \n",
       "1499997                         0.004322                        0.005590   \n",
       "1499998                         0.008438                        0.004472   \n",
       "1499999                         0.001772                        0.003288   \n",
       "\n",
       "         TE_retweet_comment_b_Retweet_B  TE_retweet_comment_b_Quote_A  \\\n",
       "0                              0.005081                      0.002205   \n",
       "1                              0.005590                      0.001764   \n",
       "2                              0.003855                      0.002205   \n",
       "3                              0.005590                      0.001917   \n",
       "4                              0.005590                      0.002205   \n",
       "...                                 ...                           ...   \n",
       "1499995                        0.005590                      0.002100   \n",
       "1499996                        0.002942                      0.002100   \n",
       "1499997                        0.004658                      0.002205   \n",
       "1499998                        0.005590                      0.001917   \n",
       "1499999                        0.001016                      0.002205   \n",
       "\n",
       "         TE_retweet_comment_b_Quote_B  TE_retweet_comment_b_A  \\\n",
       "0                            0.002100                0.010549   \n",
       "1                            0.002100                0.004688   \n",
       "2                            0.001521                0.009590   \n",
       "3                            0.002205                0.001256   \n",
       "4                            0.002205                0.010549   \n",
       "...                               ...                     ...   \n",
       "1499995                      0.002205                0.009173   \n",
       "1499996                      0.001837                0.073699   \n",
       "1499997                      0.002100                0.010549   \n",
       "1499998                      0.002205                0.004906   \n",
       "1499999                      0.001837                0.005552   \n",
       "\n",
       "         TE_retweet_comment_b_B  \n",
       "0                      0.007275  \n",
       "1                      0.010046  \n",
       "2                      0.002425  \n",
       "3                      0.010046  \n",
       "4                      0.010046  \n",
       "...                         ...  \n",
       "1499995                0.010046  \n",
       "1499996                0.002637  \n",
       "1499997                0.004586  \n",
       "1499998                0.010046  \n",
       "1499999                0.001087  \n",
       "\n",
       "[1500000 rows x 90 columns]"
      ],
      "text/html": "<div>\n<style scoped>\n    .dataframe tbody tr th:only-of-type {\n        vertical-align: middle;\n    }\n\n    .dataframe tbody tr th {\n        vertical-align: top;\n    }\n\n    .dataframe thead th {\n        text-align: right;\n    }\n</style>\n<table border=\"1\" class=\"dataframe\">\n  <thead>\n    <tr style=\"text-align: right;\">\n      <th></th>\n      <th>a_follower_count</th>\n      <th>a_following_count</th>\n      <th>a_is_verified</th>\n      <th>b_follower_count</th>\n      <th>b_following_count</th>\n      <th>b_is_verified</th>\n      <th>a_follows_b</th>\n      <th>bert_token_len</th>\n      <th>photo_count</th>\n      <th>video_count</th>\n      <th>...</th>\n      <th>TE_retweet_comment_a_A</th>\n      <th>TE_retweet_comment_a_B</th>\n      <th>TE_retweet_comment_b_TopLevel_A</th>\n      <th>TE_retweet_comment_b_TopLevel_B</th>\n      <th>TE_retweet_comment_b_Retweet_A</th>\n      <th>TE_retweet_comment_b_Retweet_B</th>\n      <th>TE_retweet_comment_b_Quote_A</th>\n      <th>TE_retweet_comment_b_Quote_B</th>\n      <th>TE_retweet_comment_b_A</th>\n      <th>TE_retweet_comment_b_B</th>\n    </tr>\n  </thead>\n  <tbody>\n    <tr>\n      <th>0</th>\n      <td>1808268</td>\n      <td>34</td>\n      <td>True</td>\n      <td>85</td>\n      <td>373</td>\n      <td>False</td>\n      <td>False</td>\n      <td>3.931826</td>\n      <td>0.693147</td>\n      <td>0.000000</td>\n      <td>...</td>\n      <td>0.008349</td>\n      <td>0.003444</td>\n      <td>0.008860</td>\n      <td>0.006815</td>\n      <td>0.005590</td>\n      <td>0.005081</td>\n      <td>0.002205</td>\n      <td>0.002100</td>\n      <td>0.010549</td>\n      <td>0.007275</td>\n    </tr>\n    <tr>\n      <th>1</th>\n      <td>12706</td>\n      <td>4464</td>\n      <td>False</td>\n      <td>383</td>\n      <td>758</td>\n      <td>False</td>\n      <td>True</td>\n      <td>4.127134</td>\n      <td>0.000000</td>\n      <td>0.693147</td>\n      <td>...</td>\n      <td>0.006041</td>\n      <td>0.003280</td>\n      <td>0.006110</td>\n      <td>0.008860</td>\n      <td>0.003606</td>\n      <td>0.005590</td>\n      <td>0.001764</td>\n      <td>0.002100</td>\n      <td>0.004688</td>\n      <td>0.010046</td>\n    </tr>\n    <tr>\n      <th>2</th>\n      <td>94907</td>\n      <td>497</td>\n      <td>True</td>\n      <td>85</td>\n      <td>528</td>\n      <td>False</td>\n      <td>False</td>\n      <td>3.610918</td>\n      <td>-1.000000</td>\n      <td>-1.000000</td>\n      <td>...</td>\n      <td>0.002042</td>\n      <td>0.003444</td>\n      <td>0.008054</td>\n      <td>0.002568</td>\n      <td>0.005590</td>\n      <td>0.003855</td>\n      <td>0.002205</td>\n      <td>0.001521</td>\n      <td>0.009590</td>\n      <td>0.002425</td>\n    </tr>\n    <tr>\n      <th>3</th>\n      <td>2391</td>\n      <td>2223</td>\n      <td>False</td>\n      <td>408</td>\n      <td>1223</td>\n      <td>False</td>\n      <td>False</td>\n      <td>3.761200</td>\n      <td>0.693147</td>\n      <td>0.000000</td>\n      <td>...</td>\n      <td>0.020689</td>\n      <td>0.003444</td>\n      <td>0.001464</td>\n      <td>0.008438</td>\n      <td>0.001747</td>\n      <td>0.005590</td>\n      <td>0.001917</td>\n      <td>0.002205</td>\n      <td>0.001256</td>\n      <td>0.010046</td>\n    </tr>\n    <tr>\n      <th>4</th>\n      <td>32952938</td>\n      <td>141</td>\n      <td>True</td>\n      <td>5</td>\n      <td>64</td>\n      <td>False</td>\n      <td>False</td>\n      <td>3.044523</td>\n      <td>0.693147</td>\n      <td>0.000000</td>\n      <td>...</td>\n      <td>0.098739</td>\n      <td>0.003444</td>\n      <td>0.008860</td>\n      <td>0.008438</td>\n      <td>0.005590</td>\n      <td>0.005590</td>\n      <td>0.002205</td>\n      <td>0.002205</td>\n      <td>0.010549</td>\n      <td>0.010046</td>\n    </tr>\n    <tr>\n      <th>...</th>\n      <td>...</td>\n      <td>...</td>\n      <td>...</td>\n      <td>...</td>\n      <td>...</td>\n      <td>...</td>\n      <td>...</td>\n      <td>...</td>\n      <td>...</td>\n      <td>...</td>\n      <td>...</td>\n      <td>...</td>\n      <td>...</td>\n      <td>...</td>\n      <td>...</td>\n      <td>...</td>\n      <td>...</td>\n      <td>...</td>\n      <td>...</td>\n      <td>...</td>\n      <td>...</td>\n    </tr>\n    <tr>\n      <th>1499995</th>\n      <td>202227</td>\n      <td>318</td>\n      <td>False</td>\n      <td>1820</td>\n      <td>611</td>\n      <td>False</td>\n      <td>False</td>\n      <td>3.044523</td>\n      <td>-1.000000</td>\n      <td>-1.000000</td>\n      <td>...</td>\n      <td>0.008797</td>\n      <td>0.003444</td>\n      <td>0.008438</td>\n      <td>0.008438</td>\n      <td>0.005323</td>\n      <td>0.005590</td>\n      <td>0.002100</td>\n      <td>0.002205</td>\n      <td>0.009173</td>\n      <td>0.010046</td>\n    </tr>\n    <tr>\n      <th>1499996</th>\n      <td>1568</td>\n      <td>172</td>\n      <td>False</td>\n      <td>1094</td>\n      <td>964</td>\n      <td>False</td>\n      <td>True</td>\n      <td>4.804021</td>\n      <td>-1.000000</td>\n      <td>-1.000000</td>\n      <td>...</td>\n      <td>0.009899</td>\n      <td>0.000538</td>\n      <td>0.047088</td>\n      <td>0.003055</td>\n      <td>0.046325</td>\n      <td>0.002942</td>\n      <td>0.002100</td>\n      <td>0.001837</td>\n      <td>0.073699</td>\n      <td>0.002637</td>\n    </tr>\n    <tr>\n      <th>1499997</th>\n      <td>19855</td>\n      <td>28</td>\n      <td>False</td>\n      <td>0</td>\n      <td>40</td>\n      <td>False</td>\n      <td>False</td>\n      <td>2.995732</td>\n      <td>-1.000000</td>\n      <td>-1.000000</td>\n      <td>...</td>\n      <td>0.010226</td>\n      <td>0.003444</td>\n      <td>0.008860</td>\n      <td>0.004322</td>\n      <td>0.005590</td>\n      <td>0.004658</td>\n      <td>0.002205</td>\n      <td>0.002100</td>\n      <td>0.010549</td>\n      <td>0.004586</td>\n    </tr>\n    <tr>\n      <th>1499998</th>\n      <td>1087</td>\n      <td>1035</td>\n      <td>False</td>\n      <td>33</td>\n      <td>116</td>\n      <td>False</td>\n      <td>True</td>\n      <td>3.496508</td>\n      <td>1.609438</td>\n      <td>0.000000</td>\n      <td>...</td>\n      <td>0.017523</td>\n      <td>0.003444</td>\n      <td>0.005063</td>\n      <td>0.008438</td>\n      <td>0.004472</td>\n      <td>0.005590</td>\n      <td>0.001917</td>\n      <td>0.002205</td>\n      <td>0.004906</td>\n      <td>0.010046</td>\n    </tr>\n    <tr>\n      <th>1499999</th>\n      <td>764</td>\n      <td>878</td>\n      <td>False</td>\n      <td>1447</td>\n      <td>700</td>\n      <td>False</td>\n      <td>True</td>\n      <td>3.135494</td>\n      <td>-1.000000</td>\n      <td>-1.000000</td>\n      <td>...</td>\n      <td>0.002026</td>\n      <td>0.012010</td>\n      <td>0.007383</td>\n      <td>0.001772</td>\n      <td>0.003288</td>\n      <td>0.001016</td>\n      <td>0.002205</td>\n      <td>0.001837</td>\n      <td>0.005552</td>\n      <td>0.001087</td>\n    </tr>\n  </tbody>\n</table>\n<p>1500000 rows × 90 columns</p>\n</div>"
     },
     "metadata": {},
     "execution_count": 7
    }
   ],
   "source": [
    "res[0]"
   ]
  },
  {
   "cell_type": "code",
   "execution_count": null,
   "metadata": {},
   "outputs": [],
   "source": []
  }
 ]
}