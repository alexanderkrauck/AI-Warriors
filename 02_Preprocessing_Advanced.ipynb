{
 "metadata": {
  "language_info": {
   "codemirror_mode": {
    "name": "ipython",
    "version": 3
   },
   "file_extension": ".py",
   "mimetype": "text/x-python",
   "name": "python",
   "nbconvert_exporter": "python",
   "pygments_lexer": "ipython3",
   "version": "3.8.8-final"
  },
  "orig_nbformat": 2,
  "kernelspec": {
   "name": "python388jvsc74a57bd04c83c5b9b5d2d50ddcda366d25ccf04f0f3b336554a780e447a2eb46bdf20827",
   "display_name": "Python 3.8.8 64-bit ('main': conda)"
  }
 },
 "nbformat": 4,
 "nbformat_minor": 2,
 "cells": [
  {
   "source": [
    "# For this notebook please first download and extract the data and save the data in the directory specified in \"data_location\". Note that depending on how much data is in the location it might take very long and also need lots of RAM."
   ],
   "cell_type": "markdown",
   "metadata": {}
  },
  {
   "cell_type": "code",
   "execution_count": 1,
   "metadata": {},
   "outputs": [],
   "source": [
    "data_location = \"selected_data\"\n",
    "save_to = \"reduced_21_data\""
   ]
  },
  {
   "cell_type": "code",
   "execution_count": 2,
   "metadata": {},
   "outputs": [],
   "source": [
    "#Imports\n",
    "from os.path import join\n",
    "\n",
    "import pandas as pd\n",
    "import dask\n",
    "import dask.dataframe as dd\n",
    "\n",
    "import utils.preprocess"
   ]
  },
  {
   "cell_type": "code",
   "execution_count": 3,
   "metadata": {},
   "outputs": [
    {
     "output_type": "stream",
     "name": "stdout",
     "text": [
      "The data is split into 26 partitions of size 64MB each.\n",
      "Now computing unique column elements... \n",
      "[                                        ] | 0% Completed |  7.0s\n"
     ]
    }
   ],
   "source": [
    "%%time\n",
    "#save data here\n",
    "utils.preprocess.initial_preprocess_data(  \n",
    "    csv_path=join(data_location, \"part-00000.tsv\"),\n",
    "    output_dir = save_to,\n",
    "    convert_tweet_id_to_number = False,\n",
    "    seperate_bert = True,\n",
    "    fully_drop_bert = True,\n",
    "    drop_tweet_id = True,\n",
    "    add_bert_length_as_feature = True,\n",
    "    blocksize = '64MB')"
   ]
  },
  {
   "cell_type": "code",
   "execution_count": null,
   "metadata": {},
   "outputs": [],
   "source": []
  }
 ]
}