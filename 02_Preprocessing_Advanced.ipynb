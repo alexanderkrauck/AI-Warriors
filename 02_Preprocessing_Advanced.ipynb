{
 "cells": [
  {
   "cell_type": "markdown",
   "metadata": {},
   "source": [
    "# For this notebook please first download and extract the data and save the data in the directory specified in \"data_location\". Note that depending on how much data is in the location it might take very long and also need lots of RAM."
   ]
  },
  {
   "cell_type": "code",
   "execution_count": 1,
   "metadata": {},
   "outputs": [],
   "source": [
    "data_location = \"selected_data\"\n",
    "save_to = \"reduced_21_data\""
   ]
  },
  {
   "cell_type": "code",
   "execution_count": 1,
   "metadata": {},
   "outputs": [],
   "source": [
    "#Imports\n",
    "import os\n",
    "from os.path import join\n",
    "from datetime import datetime\n",
    "\n",
    "import pandas as pd\n",
    "import dask\n",
    "import dask.dataframe as dd"
   ]
  },
  {
   "cell_type": "code",
   "execution_count": 1,
   "metadata": {},
   "outputs": [
    {
     "output_type": "stream",
     "name": "stdout",
     "text": [
      "['test\\\\part-00000.csv', 'test\\\\part-00001.csv', 'test\\\\part-00002.csv', 'test\\\\part-00003.csv', 'test\\\\part-00004.csv', 'test\\\\part-00005.csv', 'test\\\\part-00006.csv', 'test\\\\part-00007.csv', 'test\\\\part-00008.csv', 'test\\\\part-00009.csv']\n",
      "Outputting preprocessed files\n",
      "Compute environment established: <Client: 'tcp://127.0.0.1:57084' processes=2 threads=4, memory=11.18 GiB>\n",
      "Indexing finished\n",
      "The uncompressed dataset is saved to the disk.\n"
     ]
    },
    {
     "output_type": "error",
     "ename": "AbstractMethodError",
     "evalue": "This method must be defined in the concrete class Series",
     "traceback": [
      "\u001b[1;31m---------------------------------------------------------------------------\u001b[0m",
      "\u001b[1;31mAbstractMethodError\u001b[0m                       Traceback (most recent call last)",
      "\u001b[1;32m<timed exec>\u001b[0m in \u001b[0;36m<module>\u001b[1;34m\u001b[0m\n",
      "\u001b[1;32me:\\RecSys2021\\utils\\preprocess.py\u001b[0m in \u001b[0;36mpreprocess\u001b[1;34m(config, root_dir, comp_dir, uncomp_dir, new_features_dir, prepro_dir)\u001b[0m\n\u001b[0;32m    361\u001b[0m         \u001b[1;32melse\u001b[0m\u001b[1;33m:\u001b[0m\u001b[1;33m\u001b[0m\u001b[1;33m\u001b[0m\u001b[0m\n\u001b[0;32m    362\u001b[0m             \u001b[1;32mraise\u001b[0m \u001b[0mValueError\u001b[0m\u001b[1;33m(\u001b[0m\u001b[1;34m\"Wrong iterlevel.\"\u001b[0m\u001b[1;33m)\u001b[0m\u001b[1;33m\u001b[0m\u001b[1;33m\u001b[0m\u001b[0m\n\u001b[1;32m--> 363\u001b[1;33m         ddf = dd.merge(ddf,\n\u001b[0m\u001b[0;32m    364\u001b[0m                        \u001b[0mf_series\u001b[0m\u001b[1;33m,\u001b[0m\u001b[1;33m\u001b[0m\u001b[1;33m\u001b[0m\u001b[0m\n\u001b[0;32m    365\u001b[0m                        \u001b[0mhow\u001b[0m\u001b[1;33m=\u001b[0m\u001b[1;34m'inner'\u001b[0m\u001b[1;33m,\u001b[0m\u001b[1;33m\u001b[0m\u001b[1;33m\u001b[0m\u001b[0m\n",
      "\u001b[1;32m~\\.conda\\envs\\m3\\lib\\site-packages\\dask\\dataframe\\multi.py\u001b[0m in \u001b[0;36mmerge\u001b[1;34m(left, right, how, on, left_on, right_on, left_index, right_index, suffixes, indicator, npartitions, shuffle, max_branch, broadcast)\u001b[0m\n\u001b[0;32m    667\u001b[0m                 )\n\u001b[0;32m    668\u001b[0m \u001b[1;33m\u001b[0m\u001b[0m\n\u001b[1;32m--> 669\u001b[1;33m         return hash_join(\n\u001b[0m\u001b[0;32m    670\u001b[0m             \u001b[0mleft\u001b[0m\u001b[1;33m,\u001b[0m\u001b[1;33m\u001b[0m\u001b[1;33m\u001b[0m\u001b[0m\n\u001b[0;32m    671\u001b[0m             \u001b[0mleft\u001b[0m\u001b[1;33m.\u001b[0m\u001b[0mindex\u001b[0m \u001b[1;32mif\u001b[0m \u001b[0mleft_index\u001b[0m \u001b[1;32melse\u001b[0m \u001b[0mleft_on\u001b[0m\u001b[1;33m,\u001b[0m\u001b[1;33m\u001b[0m\u001b[1;33m\u001b[0m\u001b[0m\n",
      "\u001b[1;32m~\\.conda\\envs\\m3\\lib\\site-packages\\dask\\dataframe\\multi.py\u001b[0m in \u001b[0;36mhash_join\u001b[1;34m(lhs, left_on, rhs, right_on, how, npartitions, suffixes, shuffle, indicator, max_branch)\u001b[0m\n\u001b[0;32m    338\u001b[0m         \u001b[0mlhs\u001b[0m\u001b[1;33m,\u001b[0m \u001b[0mleft_on\u001b[0m\u001b[1;33m,\u001b[0m \u001b[0mnpartitions\u001b[0m\u001b[1;33m=\u001b[0m\u001b[0mnpartitions\u001b[0m\u001b[1;33m,\u001b[0m \u001b[0mshuffle\u001b[0m\u001b[1;33m=\u001b[0m\u001b[0mshuffle\u001b[0m\u001b[1;33m,\u001b[0m \u001b[0mmax_branch\u001b[0m\u001b[1;33m=\u001b[0m\u001b[0mmax_branch\u001b[0m\u001b[1;33m\u001b[0m\u001b[1;33m\u001b[0m\u001b[0m\n\u001b[0;32m    339\u001b[0m     )\n\u001b[1;32m--> 340\u001b[1;33m     rhs2 = shuffle_func(\n\u001b[0m\u001b[0;32m    341\u001b[0m         \u001b[0mrhs\u001b[0m\u001b[1;33m,\u001b[0m \u001b[0mright_on\u001b[0m\u001b[1;33m,\u001b[0m \u001b[0mnpartitions\u001b[0m\u001b[1;33m=\u001b[0m\u001b[0mnpartitions\u001b[0m\u001b[1;33m,\u001b[0m \u001b[0mshuffle\u001b[0m\u001b[1;33m=\u001b[0m\u001b[0mshuffle\u001b[0m\u001b[1;33m,\u001b[0m \u001b[0mmax_branch\u001b[0m\u001b[1;33m=\u001b[0m\u001b[0mmax_branch\u001b[0m\u001b[1;33m\u001b[0m\u001b[1;33m\u001b[0m\u001b[0m\n\u001b[0;32m    342\u001b[0m     )\n",
      "\u001b[1;32m~\\.conda\\envs\\m3\\lib\\site-packages\\dask\\dataframe\\shuffle.py\u001b[0m in \u001b[0;36mshuffle\u001b[1;34m(df, index, shuffle, npartitions, max_branch, ignore_index, compute)\u001b[0m\n\u001b[0;32m    351\u001b[0m         \u001b[0mpartitioning_index\u001b[0m\u001b[1;33m,\u001b[0m\u001b[1;33m\u001b[0m\u001b[1;33m\u001b[0m\u001b[0m\n\u001b[0;32m    352\u001b[0m         \u001b[0mnpartitions\u001b[0m\u001b[1;33m=\u001b[0m\u001b[0mnpartitions\u001b[0m \u001b[1;32mor\u001b[0m \u001b[0mdf\u001b[0m\u001b[1;33m.\u001b[0m\u001b[0mnpartitions\u001b[0m\u001b[1;33m,\u001b[0m\u001b[1;33m\u001b[0m\u001b[1;33m\u001b[0m\u001b[0m\n\u001b[1;32m--> 353\u001b[1;33m         \u001b[0mmeta\u001b[0m\u001b[1;33m=\u001b[0m\u001b[0mdf\u001b[0m\u001b[1;33m.\u001b[0m\u001b[0m_meta\u001b[0m\u001b[1;33m.\u001b[0m\u001b[0m_constructor_sliced\u001b[0m\u001b[1;33m(\u001b[0m\u001b[1;33m[\u001b[0m\u001b[1;36m0\u001b[0m\u001b[1;33m]\u001b[0m\u001b[1;33m)\u001b[0m\u001b[1;33m,\u001b[0m\u001b[1;33m\u001b[0m\u001b[1;33m\u001b[0m\u001b[0m\n\u001b[0m\u001b[0;32m    354\u001b[0m         \u001b[0mtransform_divisions\u001b[0m\u001b[1;33m=\u001b[0m\u001b[1;32mFalse\u001b[0m\u001b[1;33m,\u001b[0m\u001b[1;33m\u001b[0m\u001b[1;33m\u001b[0m\u001b[0m\n\u001b[0;32m    355\u001b[0m     )\n",
      "\u001b[1;32m~\\.conda\\envs\\m3\\lib\\site-packages\\pandas\\core\\generic.py\u001b[0m in \u001b[0;36m_constructor_sliced\u001b[1;34m(self)\u001b[0m\n\u001b[0;32m    371\u001b[0m         \u001b[0moriginal\u001b[0m\u001b[1;33m,\u001b[0m \u001b[0msuch\u001b[0m \u001b[1;32mas\u001b[0m \u001b[0mDataFrame\u001b[0m \u001b[0msingle\u001b[0m \u001b[0mcolumns\u001b[0m \u001b[0mslicing\u001b[0m\u001b[1;33m.\u001b[0m\u001b[1;33m\u001b[0m\u001b[1;33m\u001b[0m\u001b[0m\n\u001b[0;32m    372\u001b[0m         \"\"\"\n\u001b[1;32m--> 373\u001b[1;33m         \u001b[1;32mraise\u001b[0m \u001b[0mAbstractMethodError\u001b[0m\u001b[1;33m(\u001b[0m\u001b[0mself\u001b[0m\u001b[1;33m)\u001b[0m\u001b[1;33m\u001b[0m\u001b[1;33m\u001b[0m\u001b[0m\n\u001b[0m\u001b[0;32m    374\u001b[0m \u001b[1;33m\u001b[0m\u001b[0m\n\u001b[0;32m    375\u001b[0m     \u001b[1;33m@\u001b[0m\u001b[0mproperty\u001b[0m\u001b[1;33m\u001b[0m\u001b[1;33m\u001b[0m\u001b[0m\n",
      "\u001b[1;31mAbstractMethodError\u001b[0m: This method must be defined in the concrete class Series"
     ]
    }
   ],
   "source": [
    "%%time\n",
    "import utils.preprocess as preprocess\n",
    "from dask.distributed import progress\n",
    "\n",
    "config = preprocess.load_default_config()\n",
    "config[\"mem_lim\"] = \"6GB\"\n",
    "config[\"load_from\"] = \"parquet\"\n",
    "config['verbose'] = 2\n",
    "\n",
    "_, delayed_save = preprocess.preprocess(config, root_dir=\"test\", uncomp_dir = \"test\")\n",
    "\n",
    "\n",
    "with preprocess.get_dask_compute_environment() as client:\n",
    "        f = client.persist(delayed_save)\n",
    "        progress(f)\n",
    "        f.compute()"
   ]
  },
  {
   "cell_type": "code",
   "execution_count": 3,
   "metadata": {},
   "outputs": [
    {
     "output_type": "execute_result",
     "data": {
      "text/plain": [
       "                                   bert_base_multilingual_cased_tokens  \\\n",
       "__null_dask_index__                                                      \n",
       "0                    101\\t10485\\t131\\t177\\t13009\\t10261\\t27874\\t102...   \n",
       "1                    101\\t56898\\t137\\t19482\\t10317\\t14526\\t24387\\t1...   \n",
       "2                    101\\t56898\\t137\\t10474\\t85656\\t10403\\t40825\\t1...   \n",
       "3                    101\\t43843\\t10741\\t119\\t18424\\t20442\\t11940\\t1...   \n",
       "4                    101\\t137\\t156\\t10715\\t10133\\t11447\\t22659\\t234...   \n",
       "...                                                                ...   \n",
       "258807                    101\\t12541\\t10263\\t112\\t187\\t28150\\t136\\t102   \n",
       "258808               101\\t100\\t93495\\t83822\\t10238\\t10131\\t45707\\t1...   \n",
       "258809               101\\t67552\\t11153\\t81769\\t11015\\t79471\\t10361\\...   \n",
       "258810               101\\t14120\\t131\\t120\\t120\\t188\\t119\\t11170\\t12...   \n",
       "258811               101\\t10105\\t12504\\t16762\\t39742\\t72028\\t10124\\...   \n",
       "\n",
       "                    hashtags                          tweet_id        medias  \\\n",
       "__null_dask_index__                                                            \n",
       "0                       None  C789139E04D060218D1FF0D3637FC51E           GIF   \n",
       "1                       None  EF9FC4ABFE2920E45CD0C8207FE6989C          None   \n",
       "2                       None  DAA4481C1696AABC16E5B5C830AB8B67          None   \n",
       "3                       None  5B0BA86110D2BBBFD44C738D7D48592A          None   \n",
       "4                       None  06CD067EA3EE659E053FB07EFC37C6E2         Photo   \n",
       "...                      ...                               ...           ...   \n",
       "258807                  None  5280A8AB75D33A9AC9658C65B05151F5          None   \n",
       "258808                  None  F0AF5B737D7FA87E66F04A90ED04311C  Photo\\tPhoto   \n",
       "258809                  None  EC5D708867913F774FC3DAED64747082          None   \n",
       "258810                  None  83F93F7673BF56DF2F8EAC5206BA98D1         Photo   \n",
       "258811                  None  BEC1A09ABE4DD3B87548831975E98F13          None   \n",
       "\n",
       "                    links domains      type                          language  \\\n",
       "__null_dask_index__                                                             \n",
       "0                    None    None  TopLevel  488B32D24BD4BB44172EB981C1BCA6FA   \n",
       "1                    None    None   Retweet  B0FA488F2911701DD8EC5B1EA5E322D8   \n",
       "2                    None    None   Retweet  488B32D24BD4BB44172EB981C1BCA6FA   \n",
       "3                    None    None  TopLevel  488B32D24BD4BB44172EB981C1BCA6FA   \n",
       "4                    None    None  TopLevel  E6936751CBF4F921F7DE1AEF33A16ED0   \n",
       "...                   ...     ...       ...                               ...   \n",
       "258807               None    None  TopLevel  99CA116BF6AA65D70F3C78BEBADC51F0   \n",
       "258808               None    None  TopLevel  E6936751CBF4F921F7DE1AEF33A16ED0   \n",
       "258809               None    None     Quote  1F73BB863A39DB62B4A55B7E558DB1E8   \n",
       "258810               None    None  TopLevel  313ECD3A1E5BB07406E4249475C2D6D6   \n",
       "258811               None    None  TopLevel  488B32D24BD4BB44172EB981C1BCA6FA   \n",
       "\n",
       "                      timestamp                         a_user_id  ...  \\\n",
       "__null_dask_index__                                                ...   \n",
       "0                    1614060231  AB77058178EEAC0A68B3EF17987121D8  ...   \n",
       "1                    1612726580  F530AC292F66F67C86BA10DB4AE13E70  ...   \n",
       "2                    1612752638  147B3B61778A2C5C55A1025BDC6A754E  ...   \n",
       "3                    1612530302  F433C64C407673A25E58CF1F28A7FF78  ...   \n",
       "4                    1612432058  561ADEA7F5E34A24C95048CD4B86EC56  ...   \n",
       "...                         ...                               ...  ...   \n",
       "258807               1613701571  3234DB25E2AC3A6930C269A919FFD179  ...   \n",
       "258808               1613060615  2C34DFC23343A30095C15414A7CB8AC2  ...   \n",
       "258809               1612697872  2F3742902DAF5E66ED5248BBB5DAF777  ...   \n",
       "258810               1613341344  DC8E6CE827F1D3A0AEBEBFEF2FC7BD36  ...   \n",
       "258811               1612470492  2B8D30B8F5E526BB6A3DE2C6ED2F4216  ...   \n",
       "\n",
       "                     b_follower_count  b_following_count  b_is_verified  \\\n",
       "__null_dask_index__                                                       \n",
       "0                               54885              42664          False   \n",
       "1                                 619                605          False   \n",
       "2                                 469                432          False   \n",
       "3                                 364                258          False   \n",
       "4                                  23                 48          False   \n",
       "...                               ...                ...            ...   \n",
       "258807                            245                214          False   \n",
       "258808                            132                175          False   \n",
       "258809                            308                625          False   \n",
       "258810                            502                782          False   \n",
       "258811                            719                746          False   \n",
       "\n",
       "                     b_account_creation a_follows_b  reply  retweet  \\\n",
       "__null_dask_index__                                                   \n",
       "0                            1443867630        True      0        0   \n",
       "1                            1357779524        True      0        0   \n",
       "2                            1361999647        True      0        0   \n",
       "3                            1288726560       False      0        0   \n",
       "4                            1595477877        True      0        0   \n",
       "...                                 ...         ...    ...      ...   \n",
       "258807                       1446183899        True      0        0   \n",
       "258808                       1522766411       False      0        0   \n",
       "258809                       1573853028       False      0        0   \n",
       "258810                       1323107380       False      0        0   \n",
       "258811                       1467774235        True      0        0   \n",
       "\n",
       "                     retweet_comment        like     idx  \n",
       "__null_dask_index__                                       \n",
       "0                         1614060648           0  258323  \n",
       "1                                  0           0  258324  \n",
       "2                                  0           0  258325  \n",
       "3                                  0  1612531253  258326  \n",
       "4                                  0  1612644059  258327  \n",
       "...                              ...         ...     ...  \n",
       "258807                             0           0  517130  \n",
       "258808                             0  1613068262  517131  \n",
       "258809                             0  1612698287  517132  \n",
       "258810                             0           0  517133  \n",
       "258811                             0  1612485763  517134  \n",
       "\n",
       "[258812 rows x 25 columns]"
      ],
      "text/html": "<div>\n<style scoped>\n    .dataframe tbody tr th:only-of-type {\n        vertical-align: middle;\n    }\n\n    .dataframe tbody tr th {\n        vertical-align: top;\n    }\n\n    .dataframe thead th {\n        text-align: right;\n    }\n</style>\n<table border=\"1\" class=\"dataframe\">\n  <thead>\n    <tr style=\"text-align: right;\">\n      <th></th>\n      <th>bert_base_multilingual_cased_tokens</th>\n      <th>hashtags</th>\n      <th>tweet_id</th>\n      <th>medias</th>\n      <th>links</th>\n      <th>domains</th>\n      <th>type</th>\n      <th>language</th>\n      <th>timestamp</th>\n      <th>a_user_id</th>\n      <th>...</th>\n      <th>b_follower_count</th>\n      <th>b_following_count</th>\n      <th>b_is_verified</th>\n      <th>b_account_creation</th>\n      <th>a_follows_b</th>\n      <th>reply</th>\n      <th>retweet</th>\n      <th>retweet_comment</th>\n      <th>like</th>\n      <th>idx</th>\n    </tr>\n    <tr>\n      <th>__null_dask_index__</th>\n      <th></th>\n      <th></th>\n      <th></th>\n      <th></th>\n      <th></th>\n      <th></th>\n      <th></th>\n      <th></th>\n      <th></th>\n      <th></th>\n      <th></th>\n      <th></th>\n      <th></th>\n      <th></th>\n      <th></th>\n      <th></th>\n      <th></th>\n      <th></th>\n      <th></th>\n      <th></th>\n      <th></th>\n    </tr>\n  </thead>\n  <tbody>\n    <tr>\n      <th>0</th>\n      <td>101\\t10485\\t131\\t177\\t13009\\t10261\\t27874\\t102...</td>\n      <td>None</td>\n      <td>C789139E04D060218D1FF0D3637FC51E</td>\n      <td>GIF</td>\n      <td>None</td>\n      <td>None</td>\n      <td>TopLevel</td>\n      <td>488B32D24BD4BB44172EB981C1BCA6FA</td>\n      <td>1614060231</td>\n      <td>AB77058178EEAC0A68B3EF17987121D8</td>\n      <td>...</td>\n      <td>54885</td>\n      <td>42664</td>\n      <td>False</td>\n      <td>1443867630</td>\n      <td>True</td>\n      <td>0</td>\n      <td>0</td>\n      <td>1614060648</td>\n      <td>0</td>\n      <td>258323</td>\n    </tr>\n    <tr>\n      <th>1</th>\n      <td>101\\t56898\\t137\\t19482\\t10317\\t14526\\t24387\\t1...</td>\n      <td>None</td>\n      <td>EF9FC4ABFE2920E45CD0C8207FE6989C</td>\n      <td>None</td>\n      <td>None</td>\n      <td>None</td>\n      <td>Retweet</td>\n      <td>B0FA488F2911701DD8EC5B1EA5E322D8</td>\n      <td>1612726580</td>\n      <td>F530AC292F66F67C86BA10DB4AE13E70</td>\n      <td>...</td>\n      <td>619</td>\n      <td>605</td>\n      <td>False</td>\n      <td>1357779524</td>\n      <td>True</td>\n      <td>0</td>\n      <td>0</td>\n      <td>0</td>\n      <td>0</td>\n      <td>258324</td>\n    </tr>\n    <tr>\n      <th>2</th>\n      <td>101\\t56898\\t137\\t10474\\t85656\\t10403\\t40825\\t1...</td>\n      <td>None</td>\n      <td>DAA4481C1696AABC16E5B5C830AB8B67</td>\n      <td>None</td>\n      <td>None</td>\n      <td>None</td>\n      <td>Retweet</td>\n      <td>488B32D24BD4BB44172EB981C1BCA6FA</td>\n      <td>1612752638</td>\n      <td>147B3B61778A2C5C55A1025BDC6A754E</td>\n      <td>...</td>\n      <td>469</td>\n      <td>432</td>\n      <td>False</td>\n      <td>1361999647</td>\n      <td>True</td>\n      <td>0</td>\n      <td>0</td>\n      <td>0</td>\n      <td>0</td>\n      <td>258325</td>\n    </tr>\n    <tr>\n      <th>3</th>\n      <td>101\\t43843\\t10741\\t119\\t18424\\t20442\\t11940\\t1...</td>\n      <td>None</td>\n      <td>5B0BA86110D2BBBFD44C738D7D48592A</td>\n      <td>None</td>\n      <td>None</td>\n      <td>None</td>\n      <td>TopLevel</td>\n      <td>488B32D24BD4BB44172EB981C1BCA6FA</td>\n      <td>1612530302</td>\n      <td>F433C64C407673A25E58CF1F28A7FF78</td>\n      <td>...</td>\n      <td>364</td>\n      <td>258</td>\n      <td>False</td>\n      <td>1288726560</td>\n      <td>False</td>\n      <td>0</td>\n      <td>0</td>\n      <td>0</td>\n      <td>1612531253</td>\n      <td>258326</td>\n    </tr>\n    <tr>\n      <th>4</th>\n      <td>101\\t137\\t156\\t10715\\t10133\\t11447\\t22659\\t234...</td>\n      <td>None</td>\n      <td>06CD067EA3EE659E053FB07EFC37C6E2</td>\n      <td>Photo</td>\n      <td>None</td>\n      <td>None</td>\n      <td>TopLevel</td>\n      <td>E6936751CBF4F921F7DE1AEF33A16ED0</td>\n      <td>1612432058</td>\n      <td>561ADEA7F5E34A24C95048CD4B86EC56</td>\n      <td>...</td>\n      <td>23</td>\n      <td>48</td>\n      <td>False</td>\n      <td>1595477877</td>\n      <td>True</td>\n      <td>0</td>\n      <td>0</td>\n      <td>0</td>\n      <td>1612644059</td>\n      <td>258327</td>\n    </tr>\n    <tr>\n      <th>...</th>\n      <td>...</td>\n      <td>...</td>\n      <td>...</td>\n      <td>...</td>\n      <td>...</td>\n      <td>...</td>\n      <td>...</td>\n      <td>...</td>\n      <td>...</td>\n      <td>...</td>\n      <td>...</td>\n      <td>...</td>\n      <td>...</td>\n      <td>...</td>\n      <td>...</td>\n      <td>...</td>\n      <td>...</td>\n      <td>...</td>\n      <td>...</td>\n      <td>...</td>\n      <td>...</td>\n    </tr>\n    <tr>\n      <th>258807</th>\n      <td>101\\t12541\\t10263\\t112\\t187\\t28150\\t136\\t102</td>\n      <td>None</td>\n      <td>5280A8AB75D33A9AC9658C65B05151F5</td>\n      <td>None</td>\n      <td>None</td>\n      <td>None</td>\n      <td>TopLevel</td>\n      <td>99CA116BF6AA65D70F3C78BEBADC51F0</td>\n      <td>1613701571</td>\n      <td>3234DB25E2AC3A6930C269A919FFD179</td>\n      <td>...</td>\n      <td>245</td>\n      <td>214</td>\n      <td>False</td>\n      <td>1446183899</td>\n      <td>True</td>\n      <td>0</td>\n      <td>0</td>\n      <td>0</td>\n      <td>0</td>\n      <td>517130</td>\n    </tr>\n    <tr>\n      <th>258808</th>\n      <td>101\\t100\\t93495\\t83822\\t10238\\t10131\\t45707\\t1...</td>\n      <td>None</td>\n      <td>F0AF5B737D7FA87E66F04A90ED04311C</td>\n      <td>Photo\\tPhoto</td>\n      <td>None</td>\n      <td>None</td>\n      <td>TopLevel</td>\n      <td>E6936751CBF4F921F7DE1AEF33A16ED0</td>\n      <td>1613060615</td>\n      <td>2C34DFC23343A30095C15414A7CB8AC2</td>\n      <td>...</td>\n      <td>132</td>\n      <td>175</td>\n      <td>False</td>\n      <td>1522766411</td>\n      <td>False</td>\n      <td>0</td>\n      <td>0</td>\n      <td>0</td>\n      <td>1613068262</td>\n      <td>517131</td>\n    </tr>\n    <tr>\n      <th>258809</th>\n      <td>101\\t67552\\t11153\\t81769\\t11015\\t79471\\t10361\\...</td>\n      <td>None</td>\n      <td>EC5D708867913F774FC3DAED64747082</td>\n      <td>None</td>\n      <td>None</td>\n      <td>None</td>\n      <td>Quote</td>\n      <td>1F73BB863A39DB62B4A55B7E558DB1E8</td>\n      <td>1612697872</td>\n      <td>2F3742902DAF5E66ED5248BBB5DAF777</td>\n      <td>...</td>\n      <td>308</td>\n      <td>625</td>\n      <td>False</td>\n      <td>1573853028</td>\n      <td>False</td>\n      <td>0</td>\n      <td>0</td>\n      <td>0</td>\n      <td>1612698287</td>\n      <td>517132</td>\n    </tr>\n    <tr>\n      <th>258810</th>\n      <td>101\\t14120\\t131\\t120\\t120\\t188\\t119\\t11170\\t12...</td>\n      <td>None</td>\n      <td>83F93F7673BF56DF2F8EAC5206BA98D1</td>\n      <td>Photo</td>\n      <td>None</td>\n      <td>None</td>\n      <td>TopLevel</td>\n      <td>313ECD3A1E5BB07406E4249475C2D6D6</td>\n      <td>1613341344</td>\n      <td>DC8E6CE827F1D3A0AEBEBFEF2FC7BD36</td>\n      <td>...</td>\n      <td>502</td>\n      <td>782</td>\n      <td>False</td>\n      <td>1323107380</td>\n      <td>False</td>\n      <td>0</td>\n      <td>0</td>\n      <td>0</td>\n      <td>0</td>\n      <td>517133</td>\n    </tr>\n    <tr>\n      <th>258811</th>\n      <td>101\\t10105\\t12504\\t16762\\t39742\\t72028\\t10124\\...</td>\n      <td>None</td>\n      <td>BEC1A09ABE4DD3B87548831975E98F13</td>\n      <td>None</td>\n      <td>None</td>\n      <td>None</td>\n      <td>TopLevel</td>\n      <td>488B32D24BD4BB44172EB981C1BCA6FA</td>\n      <td>1612470492</td>\n      <td>2B8D30B8F5E526BB6A3DE2C6ED2F4216</td>\n      <td>...</td>\n      <td>719</td>\n      <td>746</td>\n      <td>False</td>\n      <td>1467774235</td>\n      <td>True</td>\n      <td>0</td>\n      <td>0</td>\n      <td>0</td>\n      <td>1612485763</td>\n      <td>517134</td>\n    </tr>\n  </tbody>\n</table>\n<p>258812 rows × 25 columns</p>\n</div>"
     },
     "metadata": {},
     "execution_count": 3
    }
   ],
   "source": [
    "import pandas as pd\n",
    "pd.read_parquet(\"test\\\\preprocessed\\\\part.1.parquet\")"
   ]
  },
  {
   "cell_type": "code",
   "execution_count": 2,
   "metadata": {},
   "outputs": [
    {
     "output_type": "execute_result",
     "data": {
      "text/plain": [
       "                   bert_base_multilingual_cased_tokens  \\\n",
       "idx                                                      \n",
       "1    101\\t56898\\t137\\t10148\\t96858\\t18193\\t11211\\t1...   \n",
       "2    101\\t22800\\t11206\\t117\\t13451\\t20517\\t25136\\t1...   \n",
       "3    101\\t119\\t119\\t119\\t45857\\t85270\\t10169\\t77086...   \n",
       "4    101\\t160\\t39187\\t10237\\t100\\t11337\\t100\\t13028...   \n",
       "5    101\\t56898\\t137\\t40586\\t10305\\t53244\\t22659\\t1...   \n",
       "\n",
       "                             hashtags                          tweet_id  \\\n",
       "idx                                                                       \n",
       "1    DF367A73CB84842E4A6080F624241703  C24EA5C3E19A388895D0FA05EA9E742F   \n",
       "2                                None  2B41BDE7839DE3117D994FDFC9BDA6E1   \n",
       "3                                None  BAF10FE3481E874ED104AC0950F18784   \n",
       "4                                None  BCDD3DDDA04C2E7843B3734620EE0C38   \n",
       "5    86458A61FFFA24A5624A9AD8AA2F0F52  43845DCDBC2A2CA15C3B18431F48F1F8   \n",
       "\n",
       "    medias links domains      type                          language  \\\n",
       "idx                                                                    \n",
       "1    Photo  None    None   Retweet  E7F038DE3EAD397AEC9193686C911677   \n",
       "2     None  None    None  TopLevel  488B32D24BD4BB44172EB981C1BCA6FA   \n",
       "3     None  None    None     Quote  488B32D24BD4BB44172EB981C1BCA6FA   \n",
       "4    Photo  None    None  TopLevel  488B32D24BD4BB44172EB981C1BCA6FA   \n",
       "5     None  None    None   Retweet  488B32D24BD4BB44172EB981C1BCA6FA   \n",
       "\n",
       "      timestamp                         a_user_id  ...  \\\n",
       "idx                                                ...   \n",
       "1    1612712747  419BAC1CC63FF819E98CFC5EFF52DFDA  ...   \n",
       "2    1614002023  547810FE65A44B3828FFA4587D1CA0C8  ...   \n",
       "3    1612452111  E18710A5B40F9187026AA49A220857BC  ...   \n",
       "4    1612980390  0CC43EBBB61E292102397B8B08A73DDD  ...   \n",
       "5    1612834174  29766FB1458BC9BB67EB7E61CBAB957C  ...   \n",
       "\n",
       "                            b_user_id  b_follower_count  b_following_count  \\\n",
       "idx                                                                          \n",
       "1    761EDF35532C3D3758DD01D33619D243               220                638   \n",
       "2    AE8B92F8CFE9F92C2942DEBBFE4F0FCF               392                487   \n",
       "3    ED5574665DB1478CA23F13647178D9BE              1306               5000   \n",
       "4    585F08165162A5C10DE2081ECFACCFC0                90                 91   \n",
       "5    CAD64086EF823706DEF953E615DB6743               158                411   \n",
       "\n",
       "     b_is_verified b_account_creation  a_follows_b  reply  retweet  \\\n",
       "idx                                                                  \n",
       "1            False         1464236635        False      0        0   \n",
       "2            False         1362687553         True      0        0   \n",
       "3            False         1244857625         True      0        0   \n",
       "4            False         1551356429        False      0        0   \n",
       "5            False         1417656869        False      0        0   \n",
       "\n",
       "     retweet_comment        like  \n",
       "idx                               \n",
       "1                  0  1612721339  \n",
       "2                  0           0  \n",
       "3                  0  1612457689  \n",
       "4                  0  1612981097  \n",
       "5                  0           0  \n",
       "\n",
       "[5 rows x 24 columns]"
      ],
      "text/html": "<div>\n<style scoped>\n    .dataframe tbody tr th:only-of-type {\n        vertical-align: middle;\n    }\n\n    .dataframe tbody tr th {\n        vertical-align: top;\n    }\n\n    .dataframe thead th {\n        text-align: right;\n    }\n</style>\n<table border=\"1\" class=\"dataframe\">\n  <thead>\n    <tr style=\"text-align: right;\">\n      <th></th>\n      <th>bert_base_multilingual_cased_tokens</th>\n      <th>hashtags</th>\n      <th>tweet_id</th>\n      <th>medias</th>\n      <th>links</th>\n      <th>domains</th>\n      <th>type</th>\n      <th>language</th>\n      <th>timestamp</th>\n      <th>a_user_id</th>\n      <th>...</th>\n      <th>b_user_id</th>\n      <th>b_follower_count</th>\n      <th>b_following_count</th>\n      <th>b_is_verified</th>\n      <th>b_account_creation</th>\n      <th>a_follows_b</th>\n      <th>reply</th>\n      <th>retweet</th>\n      <th>retweet_comment</th>\n      <th>like</th>\n    </tr>\n    <tr>\n      <th>idx</th>\n      <th></th>\n      <th></th>\n      <th></th>\n      <th></th>\n      <th></th>\n      <th></th>\n      <th></th>\n      <th></th>\n      <th></th>\n      <th></th>\n      <th></th>\n      <th></th>\n      <th></th>\n      <th></th>\n      <th></th>\n      <th></th>\n      <th></th>\n      <th></th>\n      <th></th>\n      <th></th>\n      <th></th>\n    </tr>\n  </thead>\n  <tbody>\n    <tr>\n      <th>1</th>\n      <td>101\\t56898\\t137\\t10148\\t96858\\t18193\\t11211\\t1...</td>\n      <td>DF367A73CB84842E4A6080F624241703</td>\n      <td>C24EA5C3E19A388895D0FA05EA9E742F</td>\n      <td>Photo</td>\n      <td>None</td>\n      <td>None</td>\n      <td>Retweet</td>\n      <td>E7F038DE3EAD397AEC9193686C911677</td>\n      <td>1612712747</td>\n      <td>419BAC1CC63FF819E98CFC5EFF52DFDA</td>\n      <td>...</td>\n      <td>761EDF35532C3D3758DD01D33619D243</td>\n      <td>220</td>\n      <td>638</td>\n      <td>False</td>\n      <td>1464236635</td>\n      <td>False</td>\n      <td>0</td>\n      <td>0</td>\n      <td>0</td>\n      <td>1612721339</td>\n    </tr>\n    <tr>\n      <th>2</th>\n      <td>101\\t22800\\t11206\\t117\\t13451\\t20517\\t25136\\t1...</td>\n      <td>None</td>\n      <td>2B41BDE7839DE3117D994FDFC9BDA6E1</td>\n      <td>None</td>\n      <td>None</td>\n      <td>None</td>\n      <td>TopLevel</td>\n      <td>488B32D24BD4BB44172EB981C1BCA6FA</td>\n      <td>1614002023</td>\n      <td>547810FE65A44B3828FFA4587D1CA0C8</td>\n      <td>...</td>\n      <td>AE8B92F8CFE9F92C2942DEBBFE4F0FCF</td>\n      <td>392</td>\n      <td>487</td>\n      <td>False</td>\n      <td>1362687553</td>\n      <td>True</td>\n      <td>0</td>\n      <td>0</td>\n      <td>0</td>\n      <td>0</td>\n    </tr>\n    <tr>\n      <th>3</th>\n      <td>101\\t119\\t119\\t119\\t45857\\t85270\\t10169\\t77086...</td>\n      <td>None</td>\n      <td>BAF10FE3481E874ED104AC0950F18784</td>\n      <td>None</td>\n      <td>None</td>\n      <td>None</td>\n      <td>Quote</td>\n      <td>488B32D24BD4BB44172EB981C1BCA6FA</td>\n      <td>1612452111</td>\n      <td>E18710A5B40F9187026AA49A220857BC</td>\n      <td>...</td>\n      <td>ED5574665DB1478CA23F13647178D9BE</td>\n      <td>1306</td>\n      <td>5000</td>\n      <td>False</td>\n      <td>1244857625</td>\n      <td>True</td>\n      <td>0</td>\n      <td>0</td>\n      <td>0</td>\n      <td>1612457689</td>\n    </tr>\n    <tr>\n      <th>4</th>\n      <td>101\\t160\\t39187\\t10237\\t100\\t11337\\t100\\t13028...</td>\n      <td>None</td>\n      <td>BCDD3DDDA04C2E7843B3734620EE0C38</td>\n      <td>Photo</td>\n      <td>None</td>\n      <td>None</td>\n      <td>TopLevel</td>\n      <td>488B32D24BD4BB44172EB981C1BCA6FA</td>\n      <td>1612980390</td>\n      <td>0CC43EBBB61E292102397B8B08A73DDD</td>\n      <td>...</td>\n      <td>585F08165162A5C10DE2081ECFACCFC0</td>\n      <td>90</td>\n      <td>91</td>\n      <td>False</td>\n      <td>1551356429</td>\n      <td>False</td>\n      <td>0</td>\n      <td>0</td>\n      <td>0</td>\n      <td>1612981097</td>\n    </tr>\n    <tr>\n      <th>5</th>\n      <td>101\\t56898\\t137\\t40586\\t10305\\t53244\\t22659\\t1...</td>\n      <td>86458A61FFFA24A5624A9AD8AA2F0F52</td>\n      <td>43845DCDBC2A2CA15C3B18431F48F1F8</td>\n      <td>None</td>\n      <td>None</td>\n      <td>None</td>\n      <td>Retweet</td>\n      <td>488B32D24BD4BB44172EB981C1BCA6FA</td>\n      <td>1612834174</td>\n      <td>29766FB1458BC9BB67EB7E61CBAB957C</td>\n      <td>...</td>\n      <td>CAD64086EF823706DEF953E615DB6743</td>\n      <td>158</td>\n      <td>411</td>\n      <td>False</td>\n      <td>1417656869</td>\n      <td>False</td>\n      <td>0</td>\n      <td>0</td>\n      <td>0</td>\n      <td>0</td>\n    </tr>\n  </tbody>\n</table>\n<p>5 rows × 24 columns</p>\n</div>"
     },
     "metadata": {},
     "execution_count": 2
    }
   ],
   "source": [
    "import dask.dataframe as dd\n",
    "ddf = dd.read_parquet(\"test\\\\preprocessed\", index=\"idx\")\n",
    "ddf.head()"
   ]
  },
  {
   "cell_type": "code",
   "execution_count": 2,
   "metadata": {},
   "outputs": [],
   "source": [
    "ddf_ = ddf.set_index(\"idx\", sorted=True, compute=True)"
   ]
  },
  {
   "cell_type": "code",
   "execution_count": null,
   "metadata": {},
   "outputs": [],
   "source": []
  }
 ],
 "metadata": {
  "kernelspec": {
   "name": "python388jvsc74a57bd0c6b843f3af2dabb1e3fbd5873f1c8dddaea821ff1dd89faafeae1498b4512a80",
   "display_name": "Python 3.8.8 64-bit ('m3': conda)"
  },
  "language_info": {
   "codemirror_mode": {
    "name": "ipython",
    "version": 3
   },
   "file_extension": ".py",
   "mimetype": "text/x-python",
   "name": "python",
   "nbconvert_exporter": "python",
   "pygments_lexer": "ipython3",
   "version": "3.8.8"
  }
 },
 "nbformat": 4,
 "nbformat_minor": 4
}