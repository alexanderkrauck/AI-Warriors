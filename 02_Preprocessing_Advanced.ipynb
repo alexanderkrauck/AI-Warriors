{
 "cells": [
  {
   "cell_type": "markdown",
   "metadata": {},
   "source": [
    "# For this notebook please first download and extract the data and save the data in the directory specified in \"data_location\". Note that depending on how much data is in the location it might take very long and also need lots of RAM."
   ]
  },
  {
   "cell_type": "code",
   "execution_count": 3,
   "metadata": {},
   "outputs": [],
   "source": [
    "data_location = \"selected_data\"\n",
    "save_to = \"reduced_21_data\""
   ]
  },
  {
   "cell_type": "code",
   "execution_count": 1,
   "metadata": {},
   "outputs": [],
   "source": [
    "#Imports\n",
    "import os\n",
    "from os.path import join\n",
    "from datetime import datetime\n",
    "\n",
    "import pandas as pd\n",
    "import dask\n",
    "import dask.dataframe as dd\n",
    "\n",
    "\n"
   ]
  },
  {
   "cell_type": "code",
   "execution_count": 1,
   "metadata": {},
   "outputs": [
    {
     "output_type": "stream",
     "name": "stdout",
     "text": [
      "Outputting preprocessed files\n",
      "Compute environment established: <Client: 'tcp://127.0.0.1:50179' processes=2 threads=4, memory=7.45 GiB>\n",
      "The uncompressed dataset is saved to the disk.\n",
      "The following preprocessed columns can be dumped:  ['tweet_id', 'a_is_verified', 'b_user_id', 'b_is_verified', 'a_follows_b', 'has_reply', 'bert_token_len', 'has_retweet', 'has_retweet_comment', 'has_like', 'n_photos', 'n_videos', 'n_gifs', 'type_encoding', 'language_encoding', 'a_followers', 'a_following', 'b_followers', 'b_following', 'day_of_week', 'hour_of_day', 'b_creation_delta', 'a_creation_delta', 'tweet_hash', 'b_hash', 'a_hash', 'TE_language_encoding_has_reply', 'TE_language_encoding_has_like', 'TE_language_encoding_has_retweet_comment', 'TE_language_encoding_has_retweet', 'TE_type_encoding_has_reply', 'TE_type_encoding_has_like', 'TE_type_encoding_has_retweet_comment', 'TE_type_encoding_has_retweet']\n",
      "Feature generation ready, manifest dumped, associated delayed objects: Dask DataFrame Structure:\n",
      "               bert_base_multilingual_cased_tokens hashtags tweet_id  medias   links domains    type language timestamp a_user_id a_follower_count a_following_count a_is_verified a_account_creation b_user_id b_follower_count b_following_count b_is_verified b_account_creation a_follows_b   reply retweet retweet_comment    like has_reply bert_token_len has_retweet has_retweet_comment has_like n_photos n_videos   n_gifs type_encoding language_encoding a_followers a_following b_followers b_following day_of_week hour_of_day b_creation_delta a_creation_delta tweet_hash  b_hash  a_hash TE_language_encoding_has_reply TE_language_encoding_has_like TE_language_encoding_has_retweet_comment TE_language_encoding_has_retweet TE_type_encoding_has_reply TE_type_encoding_has_like TE_type_encoding_has_retweet_comment TE_type_encoding_has_retweet\n",
      "npartitions=25                                                                                                                                                                                                                                                                                                                                                                                                                                                                                                                                                                                                                                                                                                                                                                                                                                                         \n",
      "                                            object   object   object  object  object  object  object   object    uint32    object           uint32            uint32          bool             uint32    object           uint32            uint32          bool             uint32        bool  uint32  uint32          uint32  uint32      bool         uint32        bool                bool     bool  float32  float32  float32         uint8            uint16     float32     float32     float32     float32       uint8       uint8          float32          float32     uint32  uint32  uint32                        float64                       float64                                  float64                          float64                    float64                   float64                              float64                      float64\n",
      "                                               ...      ...      ...     ...     ...     ...     ...      ...       ...       ...              ...               ...           ...                ...       ...              ...               ...           ...                ...         ...     ...     ...             ...     ...       ...            ...         ...                 ...      ...      ...      ...      ...           ...               ...         ...         ...         ...         ...         ...         ...              ...              ...        ...     ...     ...                            ...                           ...                                      ...                              ...                        ...                       ...                                  ...                          ...\n",
      "...                                            ...      ...      ...     ...     ...     ...     ...      ...       ...       ...              ...               ...           ...                ...       ...              ...               ...           ...                ...         ...     ...     ...             ...     ...       ...            ...         ...                 ...      ...      ...      ...      ...           ...               ...         ...         ...         ...         ...         ...         ...              ...              ...        ...     ...     ...                            ...                           ...                                      ...                              ...                        ...                       ...                                  ...                          ...\n",
      "                                               ...      ...      ...     ...     ...     ...     ...      ...       ...       ...              ...               ...           ...                ...       ...              ...               ...           ...                ...         ...     ...     ...             ...     ...       ...            ...         ...                 ...      ...      ...      ...      ...           ...               ...         ...         ...         ...         ...         ...         ...              ...              ...        ...     ...     ...                            ...                           ...                                      ...                              ...                        ...                       ...                                  ...                          ...\n",
      "                                               ...      ...      ...     ...     ...     ...     ...      ...       ...       ...              ...               ...           ...                ...       ...              ...               ...           ...                ...         ...     ...     ...             ...     ...       ...            ...         ...                 ...      ...      ...      ...      ...           ...               ...         ...         ...         ...         ...         ...         ...              ...              ...        ...     ...     ...                            ...                           ...                                      ...                              ...                        ...                       ...                                  ...                          ...\n",
      "Dask Name: merge, 4996 tasks\n",
      "\n",
      "Delayed('to-parquet-0766c10ce43c817867c64f705f3ffa78').\n",
      "Wall time: 51.2 s\n"
     ]
    }
   ],
   "source": [
    "%%time\n",
    "import utils.preprocess as preprocess\n",
    "import utils.config as config\n",
    "from dask.distributed import progress\n",
    "\n",
    "config = config.load_config(\"mach2_train_config.yaml\")\n",
    "\n",
    "ddf, delayed_dump, other_delayed = preprocess.preprocess(config)"
   ]
  },
  {
   "cell_type": "code",
   "execution_count": 2,
   "metadata": {},
   "outputs": [
    {
     "output_type": "stream",
     "name": "stdout",
     "text": [
      "Compute environment established: <Client: 'tcp://127.0.0.1:50229' processes=2 threads=4, memory=7.45 GiB>\n",
      "Wall time: 6min 50s\n"
     ]
    }
   ],
   "source": [
    "%%time\n",
    "\n",
    "import utils.compute_and_front as compute\n",
    "with compute.get_dask_compute_environment() as client:\n",
    "        f = client.persist(delayed_dump)\n",
    "        progress(f)\n",
    "        f.compute()"
   ]
  },
  {
   "cell_type": "code",
   "execution_count": 3,
   "metadata": {},
   "outputs": [
    {
     "output_type": "stream",
     "name": "stdout",
     "text": [
      "Compute environment established: <Client: 'tcp://127.0.0.1:50370' processes=2 threads=4, memory=7.45 GiB>\n",
      "Wall time: 40min 28s\n"
     ]
    }
   ],
   "source": [
    "%%time#Really Slow (because things are done redundently in the process tree)\n",
    "with compute.get_dask_compute_environment() as client:\n",
    "    for delayed in other_delayed:\n",
    "        f = client.persist(delayed)\n",
    "        progress(f)\n",
    "        f.compute()"
   ]
  },
  {
   "cell_type": "code",
   "execution_count": 1,
   "metadata": {},
   "outputs": [
    {
     "output_type": "stream",
     "name": "stdout",
     "text": [
      "Outputting preprocessed files\n",
      "Compute environment established: <Client: 'tcp://127.0.0.1:60786' processes=2 threads=4, memory=7.45 GiB>\n",
      "The uncompressed dataset is saved to the disk.\n",
      "WARNING: a label based feature specified in the preprocessing for a test set, ignoring it.\n",
      "\n",
      "WARNING: a label based feature specified in the preprocessing for a test set, ignoring it.\n",
      "\n",
      "WARNING: a label based feature specified in the preprocessing for a test set, ignoring it.\n",
      "\n",
      "WARNING: a label based feature specified in the preprocessing for a test set, ignoring it.\n",
      "\n",
      "The following preprocessed columns can be dumped:  ['tweet_id', 'a_is_verified', 'b_user_id', 'b_is_verified', 'a_follows_b', 'bert_token_len', 'n_photos', 'n_videos', 'n_gifs', 'type_encoding', 'language_encoding', 'a_followers', 'a_following', 'b_followers', 'b_following', 'day_of_week', 'hour_of_day', 'b_creation_delta', 'a_creation_delta', 'tweet_hash', 'b_hash', 'a_hash', 'TE_language_encoding_has_reply', 'TE_language_encoding_has_like', 'TE_language_encoding_has_retweet_comment', 'TE_language_encoding_has_retweet', 'TE_type_encoding_has_reply', 'TE_type_encoding_has_like', 'TE_type_encoding_has_retweet_comment', 'TE_type_encoding_has_retweet']\n",
      "Feature generation ready, manifest dumped, associated delayed objects: Dask DataFrame Structure:\n",
      "               bert_base_multilingual_cased_tokens hashtags tweet_id  medias   links domains    type language timestamp a_user_id a_follower_count a_following_count a_is_verified a_account_creation b_user_id b_follower_count b_following_count b_is_verified b_account_creation a_follows_b   reply retweet retweet_comment    like bert_token_len n_photos n_videos   n_gifs type_encoding language_encoding a_followers a_following b_followers b_following day_of_week hour_of_day b_creation_delta a_creation_delta tweet_hash  b_hash  a_hash TE_language_encoding_has_reply TE_language_encoding_has_like TE_language_encoding_has_retweet_comment TE_language_encoding_has_retweet TE_type_encoding_has_reply TE_type_encoding_has_like TE_type_encoding_has_retweet_comment TE_type_encoding_has_retweet\n",
      "npartitions=12                                                                                                                                                                                                                                                                                                                                                                                                                                                                                                                                                                                                                                                                                                                                                                                                      \n",
      "                                            object   object   object  object  object  object  object   object    uint32    object           uint32            uint32          bool             uint32    object           uint32            uint32          bool             uint32        bool  uint32  uint32          uint32  uint32         uint32  float32  float32  float32         uint8            uint16     float32     float32     float32     float32       uint8       uint8          float32          float32     uint32  uint32  uint32                        float64                       float64                                  float64                          float64                    float64                   float64                              float64                      float64\n",
      "                                               ...      ...      ...     ...     ...     ...     ...      ...       ...       ...              ...               ...           ...                ...       ...              ...               ...           ...                ...         ...     ...     ...             ...     ...            ...      ...      ...      ...           ...               ...         ...         ...         ...         ...         ...         ...              ...              ...        ...     ...     ...                            ...                           ...                                      ...                              ...                        ...                       ...                                  ...                          ...\n",
      "...                                            ...      ...      ...     ...     ...     ...     ...      ...       ...       ...              ...               ...           ...                ...       ...              ...               ...           ...                ...         ...     ...     ...             ...     ...            ...      ...      ...      ...           ...               ...         ...         ...         ...         ...         ...         ...              ...              ...        ...     ...     ...                            ...                           ...                                      ...                              ...                        ...                       ...                                  ...                          ...\n",
      "                                               ...      ...      ...     ...     ...     ...     ...      ...       ...       ...              ...               ...           ...                ...       ...              ...               ...           ...                ...         ...     ...     ...             ...     ...            ...      ...      ...      ...           ...               ...         ...         ...         ...         ...         ...         ...              ...              ...        ...     ...     ...                            ...                           ...                                      ...                              ...                        ...                       ...                                  ...                          ...\n",
      "                                               ...      ...      ...     ...     ...     ...     ...      ...       ...       ...              ...               ...           ...                ...       ...              ...               ...           ...                ...         ...     ...     ...             ...     ...            ...      ...      ...      ...           ...               ...         ...         ...         ...         ...         ...         ...              ...              ...        ...     ...     ...                            ...                           ...                                      ...                              ...                        ...                       ...                                  ...                          ...\n",
      "Dask Name: merge, 1560 tasks\n",
      "\n",
      "Delayed('to-parquet-27cdefe305e6187ac03bcec5b96b02a5').\n",
      "Wall time: 32.4 s\n"
     ]
    }
   ],
   "source": [
    "%%time\n",
    "import utils.preprocess as preprocess\n",
    "import utils.config\n",
    "from dask.distributed import progress\n",
    "config = utils.config.load_config(\"mach2_test_config.yaml\")\n",
    "\n",
    "ddf, delayed_dump, other_delayed = preprocess.preprocess(config)"
   ]
  },
  {
   "cell_type": "code",
   "execution_count": 2,
   "metadata": {},
   "outputs": [
    {
     "output_type": "stream",
     "name": "stdout",
     "text": [
      "Compute environment established: <Client: 'tcp://127.0.0.1:60916' processes=2 threads=4, memory=7.45 GiB>\n",
      "Wall time: 2min 6s\n"
     ]
    }
   ],
   "source": [
    "%%time\n",
    "import utils.compute_and_front as compute\n",
    "with compute.get_dask_compute_environment() as client:\n",
    "        f = client.persist(delayed_dump)\n",
    "        progress(f)\n",
    "        f.compute()"
   ]
  },
  {
   "cell_type": "code",
   "execution_count": 3,
   "metadata": {},
   "outputs": [
    {
     "output_type": "execute_result",
     "data": {
      "text/plain": [
       "                                 tweet_id  a_is_verified  \\\n",
       "idx                                                        \n",
       "1291757  22CC98A0288262B3E813EDEC050D783C          False   \n",
       "1291758  7ADE37CF14650A1E895C884D3D9C7D19          False   \n",
       "1291759  8C75F477F947495F2858DBF0033B008D          False   \n",
       "1291760  5E921C733E80E38AECA3285FF3AFF9CD          False   \n",
       "1291761  F1384C23AF802B2C2EA48321BFC4CAD7          False   \n",
       "...                                   ...            ...   \n",
       "1550557  6A138F53C7EFB9A69F55DE5BF2D588C0          False   \n",
       "1550558  4F5CCDD43D7ADD61A1F2438D53C04323          False   \n",
       "1550559  38BACCDD34A403C9417B047BC26CADD7           True   \n",
       "1550560  705CE3B0C1BA1D779F06FD444B1E102D          False   \n",
       "1550561  63387F5A95CBACC8C377607DC781DDE6          False   \n",
       "\n",
       "                                b_user_id  b_is_verified  a_follows_b  \\\n",
       "idx                                                                     \n",
       "1291757  FC07905C89470B551AB1B20CAC201F88          False        False   \n",
       "1291758  6D2269C322A31AA23BECBEEB0BE8E66A          False         True   \n",
       "1291759  C9AD69FC2D8D73CF70F993B3DD01F02A          False        False   \n",
       "1291760  9D9B65D744360D5039D23941A903FE61          False         True   \n",
       "1291761  C1DE41EEF039A65D8B7E04DF56D3C486          False        False   \n",
       "...                                   ...            ...          ...   \n",
       "1550557  640910B82D7DE3CE909CED36F55AACCA          False        False   \n",
       "1550558  D9A9CC5E1C1FB630BE5918483FC780E3          False        False   \n",
       "1550559  1F4397BA3584BA63C45765B98BC8C017          False        False   \n",
       "1550560  A9ABC68B8FB29826237474D2097A558D          False         True   \n",
       "1550561  686AC8C70BCD44455A1E270A63863A29          False        False   \n",
       "\n",
       "         bert_token_len  n_photos  n_videos  n_gifs  type_encoding  ...  \\\n",
       "idx                                                                 ...   \n",
       "1291757        3.871201  0.000000  0.000000     0.0              3  ...   \n",
       "1291758        3.688879  0.000000  0.693147     0.0              0  ...   \n",
       "1291759        3.332205  0.000000  0.693147     0.0              0  ...   \n",
       "1291760        3.465736  0.000000  0.693147     0.0              0  ...   \n",
       "1291761        3.218876  0.000000  0.000000     0.0              1  ...   \n",
       "...                 ...       ...       ...     ...            ...  ...   \n",
       "1550557        3.332205  0.000000  0.000000     0.0              0  ...   \n",
       "1550558        2.708050  0.000000  0.000000     0.0              3  ...   \n",
       "1550559        3.713572  0.000000  0.000000     0.0              0  ...   \n",
       "1550560        3.218876  0.693147  0.000000     0.0              0  ...   \n",
       "1550561        4.828314  0.000000  0.000000     0.0              3  ...   \n",
       "\n",
       "                      b_hash               a_hash  \\\n",
       "idx                                                 \n",
       "1291757  5221199295436911194  8036735432813318446   \n",
       "1291758  3164272874088043420  4105263239662179244   \n",
       "1291759  4522555600851021210  1590452100478707250   \n",
       "1291760  1994712128081330303  1265362263202565858   \n",
       "1291761  7046527720201065383  5629935827588143464   \n",
       "...                      ...                  ...   \n",
       "1550557  1617254490414437086  5347241945078641795   \n",
       "1550558  6525792024023395319  8822451879770240571   \n",
       "1550559  2896926341712634752  3180252973331060513   \n",
       "1550560  2769670422413023144  3237218770446887832   \n",
       "1550561   246043800870754899  8225722681027167253   \n",
       "\n",
       "         TE_language_encoding_has_reply  TE_language_encoding_has_like  \\\n",
       "idx                                                                      \n",
       "1291757                        0.028109                       0.385207   \n",
       "1291758                        0.028109                       0.385207   \n",
       "1291759                        0.018832                       0.417308   \n",
       "1291760                        0.014777                       0.340397   \n",
       "1291761                        0.028109                       0.385207   \n",
       "...                                 ...                            ...   \n",
       "1550557                        0.064841                       0.390789   \n",
       "1550558                        0.028109                       0.385207   \n",
       "1550559                        0.028109                       0.385207   \n",
       "1550560                        0.018832                       0.417308   \n",
       "1550561                        0.025945                       0.420080   \n",
       "\n",
       "         TE_language_encoding_has_retweet_comment  \\\n",
       "idx                                                 \n",
       "1291757                                  0.007687   \n",
       "1291758                                  0.007687   \n",
       "1291759                                  0.006443   \n",
       "1291760                                  0.008662   \n",
       "1291761                                  0.007687   \n",
       "...                                           ...   \n",
       "1550557                                  0.006844   \n",
       "1550558                                  0.007687   \n",
       "1550559                                  0.007687   \n",
       "1550560                                  0.006443   \n",
       "1550561                                  0.003495   \n",
       "\n",
       "         TE_language_encoding_has_retweet  TE_type_encoding_has_reply  \\\n",
       "idx                                                                     \n",
       "1291757                          0.079282                    0.040629   \n",
       "1291758                          0.079282                    0.005744   \n",
       "1291759                          0.081725                    0.005744   \n",
       "1291760                          0.147723                    0.005744   \n",
       "1291761                          0.079282                    0.033151   \n",
       "...                                   ...                         ...   \n",
       "1550557                          0.083544                    0.005744   \n",
       "1550558                          0.079282                    0.040629   \n",
       "1550559                          0.079282                    0.005744   \n",
       "1550560                          0.081725                    0.005744   \n",
       "1550561                          0.055674                    0.040629   \n",
       "\n",
       "         TE_type_encoding_has_like  TE_type_encoding_has_retweet_comment  \\\n",
       "idx                                                                        \n",
       "1291757                   0.484113                              0.007656   \n",
       "1291758                   0.247424                              0.005996   \n",
       "1291759                   0.247424                              0.005996   \n",
       "1291760                   0.247424                              0.005996   \n",
       "1291761                   0.360734                              0.005794   \n",
       "...                            ...                                   ...   \n",
       "1550557                   0.247424                              0.005996   \n",
       "1550558                   0.484113                              0.007656   \n",
       "1550559                   0.247424                              0.005996   \n",
       "1550560                   0.247424                              0.005996   \n",
       "1550561                   0.484113                              0.007656   \n",
       "\n",
       "         TE_type_encoding_has_retweet  \n",
       "idx                                    \n",
       "1291757                      0.077687  \n",
       "1291758                      0.112499  \n",
       "1291759                      0.112499  \n",
       "1291760                      0.112499  \n",
       "1291761                      0.054292  \n",
       "...                               ...  \n",
       "1550557                      0.112499  \n",
       "1550558                      0.077687  \n",
       "1550559                      0.112499  \n",
       "1550560                      0.112499  \n",
       "1550561                      0.077687  \n",
       "\n",
       "[258805 rows x 30 columns]"
      ],
      "text/html": "<div>\n<style scoped>\n    .dataframe tbody tr th:only-of-type {\n        vertical-align: middle;\n    }\n\n    .dataframe tbody tr th {\n        vertical-align: top;\n    }\n\n    .dataframe thead th {\n        text-align: right;\n    }\n</style>\n<table border=\"1\" class=\"dataframe\">\n  <thead>\n    <tr style=\"text-align: right;\">\n      <th></th>\n      <th>tweet_id</th>\n      <th>a_is_verified</th>\n      <th>b_user_id</th>\n      <th>b_is_verified</th>\n      <th>a_follows_b</th>\n      <th>bert_token_len</th>\n      <th>n_photos</th>\n      <th>n_videos</th>\n      <th>n_gifs</th>\n      <th>type_encoding</th>\n      <th>...</th>\n      <th>b_hash</th>\n      <th>a_hash</th>\n      <th>TE_language_encoding_has_reply</th>\n      <th>TE_language_encoding_has_like</th>\n      <th>TE_language_encoding_has_retweet_comment</th>\n      <th>TE_language_encoding_has_retweet</th>\n      <th>TE_type_encoding_has_reply</th>\n      <th>TE_type_encoding_has_like</th>\n      <th>TE_type_encoding_has_retweet_comment</th>\n      <th>TE_type_encoding_has_retweet</th>\n    </tr>\n    <tr>\n      <th>idx</th>\n      <th></th>\n      <th></th>\n      <th></th>\n      <th></th>\n      <th></th>\n      <th></th>\n      <th></th>\n      <th></th>\n      <th></th>\n      <th></th>\n      <th></th>\n      <th></th>\n      <th></th>\n      <th></th>\n      <th></th>\n      <th></th>\n      <th></th>\n      <th></th>\n      <th></th>\n      <th></th>\n      <th></th>\n    </tr>\n  </thead>\n  <tbody>\n    <tr>\n      <th>1291757</th>\n      <td>22CC98A0288262B3E813EDEC050D783C</td>\n      <td>False</td>\n      <td>FC07905C89470B551AB1B20CAC201F88</td>\n      <td>False</td>\n      <td>False</td>\n      <td>3.871201</td>\n      <td>0.000000</td>\n      <td>0.000000</td>\n      <td>0.0</td>\n      <td>3</td>\n      <td>...</td>\n      <td>5221199295436911194</td>\n      <td>8036735432813318446</td>\n      <td>0.028109</td>\n      <td>0.385207</td>\n      <td>0.007687</td>\n      <td>0.079282</td>\n      <td>0.040629</td>\n      <td>0.484113</td>\n      <td>0.007656</td>\n      <td>0.077687</td>\n    </tr>\n    <tr>\n      <th>1291758</th>\n      <td>7ADE37CF14650A1E895C884D3D9C7D19</td>\n      <td>False</td>\n      <td>6D2269C322A31AA23BECBEEB0BE8E66A</td>\n      <td>False</td>\n      <td>True</td>\n      <td>3.688879</td>\n      <td>0.000000</td>\n      <td>0.693147</td>\n      <td>0.0</td>\n      <td>0</td>\n      <td>...</td>\n      <td>3164272874088043420</td>\n      <td>4105263239662179244</td>\n      <td>0.028109</td>\n      <td>0.385207</td>\n      <td>0.007687</td>\n      <td>0.079282</td>\n      <td>0.005744</td>\n      <td>0.247424</td>\n      <td>0.005996</td>\n      <td>0.112499</td>\n    </tr>\n    <tr>\n      <th>1291759</th>\n      <td>8C75F477F947495F2858DBF0033B008D</td>\n      <td>False</td>\n      <td>C9AD69FC2D8D73CF70F993B3DD01F02A</td>\n      <td>False</td>\n      <td>False</td>\n      <td>3.332205</td>\n      <td>0.000000</td>\n      <td>0.693147</td>\n      <td>0.0</td>\n      <td>0</td>\n      <td>...</td>\n      <td>4522555600851021210</td>\n      <td>1590452100478707250</td>\n      <td>0.018832</td>\n      <td>0.417308</td>\n      <td>0.006443</td>\n      <td>0.081725</td>\n      <td>0.005744</td>\n      <td>0.247424</td>\n      <td>0.005996</td>\n      <td>0.112499</td>\n    </tr>\n    <tr>\n      <th>1291760</th>\n      <td>5E921C733E80E38AECA3285FF3AFF9CD</td>\n      <td>False</td>\n      <td>9D9B65D744360D5039D23941A903FE61</td>\n      <td>False</td>\n      <td>True</td>\n      <td>3.465736</td>\n      <td>0.000000</td>\n      <td>0.693147</td>\n      <td>0.0</td>\n      <td>0</td>\n      <td>...</td>\n      <td>1994712128081330303</td>\n      <td>1265362263202565858</td>\n      <td>0.014777</td>\n      <td>0.340397</td>\n      <td>0.008662</td>\n      <td>0.147723</td>\n      <td>0.005744</td>\n      <td>0.247424</td>\n      <td>0.005996</td>\n      <td>0.112499</td>\n    </tr>\n    <tr>\n      <th>1291761</th>\n      <td>F1384C23AF802B2C2EA48321BFC4CAD7</td>\n      <td>False</td>\n      <td>C1DE41EEF039A65D8B7E04DF56D3C486</td>\n      <td>False</td>\n      <td>False</td>\n      <td>3.218876</td>\n      <td>0.000000</td>\n      <td>0.000000</td>\n      <td>0.0</td>\n      <td>1</td>\n      <td>...</td>\n      <td>7046527720201065383</td>\n      <td>5629935827588143464</td>\n      <td>0.028109</td>\n      <td>0.385207</td>\n      <td>0.007687</td>\n      <td>0.079282</td>\n      <td>0.033151</td>\n      <td>0.360734</td>\n      <td>0.005794</td>\n      <td>0.054292</td>\n    </tr>\n    <tr>\n      <th>...</th>\n      <td>...</td>\n      <td>...</td>\n      <td>...</td>\n      <td>...</td>\n      <td>...</td>\n      <td>...</td>\n      <td>...</td>\n      <td>...</td>\n      <td>...</td>\n      <td>...</td>\n      <td>...</td>\n      <td>...</td>\n      <td>...</td>\n      <td>...</td>\n      <td>...</td>\n      <td>...</td>\n      <td>...</td>\n      <td>...</td>\n      <td>...</td>\n      <td>...</td>\n      <td>...</td>\n    </tr>\n    <tr>\n      <th>1550557</th>\n      <td>6A138F53C7EFB9A69F55DE5BF2D588C0</td>\n      <td>False</td>\n      <td>640910B82D7DE3CE909CED36F55AACCA</td>\n      <td>False</td>\n      <td>False</td>\n      <td>3.332205</td>\n      <td>0.000000</td>\n      <td>0.000000</td>\n      <td>0.0</td>\n      <td>0</td>\n      <td>...</td>\n      <td>1617254490414437086</td>\n      <td>5347241945078641795</td>\n      <td>0.064841</td>\n      <td>0.390789</td>\n      <td>0.006844</td>\n      <td>0.083544</td>\n      <td>0.005744</td>\n      <td>0.247424</td>\n      <td>0.005996</td>\n      <td>0.112499</td>\n    </tr>\n    <tr>\n      <th>1550558</th>\n      <td>4F5CCDD43D7ADD61A1F2438D53C04323</td>\n      <td>False</td>\n      <td>D9A9CC5E1C1FB630BE5918483FC780E3</td>\n      <td>False</td>\n      <td>False</td>\n      <td>2.708050</td>\n      <td>0.000000</td>\n      <td>0.000000</td>\n      <td>0.0</td>\n      <td>3</td>\n      <td>...</td>\n      <td>6525792024023395319</td>\n      <td>8822451879770240571</td>\n      <td>0.028109</td>\n      <td>0.385207</td>\n      <td>0.007687</td>\n      <td>0.079282</td>\n      <td>0.040629</td>\n      <td>0.484113</td>\n      <td>0.007656</td>\n      <td>0.077687</td>\n    </tr>\n    <tr>\n      <th>1550559</th>\n      <td>38BACCDD34A403C9417B047BC26CADD7</td>\n      <td>True</td>\n      <td>1F4397BA3584BA63C45765B98BC8C017</td>\n      <td>False</td>\n      <td>False</td>\n      <td>3.713572</td>\n      <td>0.000000</td>\n      <td>0.000000</td>\n      <td>0.0</td>\n      <td>0</td>\n      <td>...</td>\n      <td>2896926341712634752</td>\n      <td>3180252973331060513</td>\n      <td>0.028109</td>\n      <td>0.385207</td>\n      <td>0.007687</td>\n      <td>0.079282</td>\n      <td>0.005744</td>\n      <td>0.247424</td>\n      <td>0.005996</td>\n      <td>0.112499</td>\n    </tr>\n    <tr>\n      <th>1550560</th>\n      <td>705CE3B0C1BA1D779F06FD444B1E102D</td>\n      <td>False</td>\n      <td>A9ABC68B8FB29826237474D2097A558D</td>\n      <td>False</td>\n      <td>True</td>\n      <td>3.218876</td>\n      <td>0.693147</td>\n      <td>0.000000</td>\n      <td>0.0</td>\n      <td>0</td>\n      <td>...</td>\n      <td>2769670422413023144</td>\n      <td>3237218770446887832</td>\n      <td>0.018832</td>\n      <td>0.417308</td>\n      <td>0.006443</td>\n      <td>0.081725</td>\n      <td>0.005744</td>\n      <td>0.247424</td>\n      <td>0.005996</td>\n      <td>0.112499</td>\n    </tr>\n    <tr>\n      <th>1550561</th>\n      <td>63387F5A95CBACC8C377607DC781DDE6</td>\n      <td>False</td>\n      <td>686AC8C70BCD44455A1E270A63863A29</td>\n      <td>False</td>\n      <td>False</td>\n      <td>4.828314</td>\n      <td>0.000000</td>\n      <td>0.000000</td>\n      <td>0.0</td>\n      <td>3</td>\n      <td>...</td>\n      <td>246043800870754899</td>\n      <td>8225722681027167253</td>\n      <td>0.025945</td>\n      <td>0.420080</td>\n      <td>0.003495</td>\n      <td>0.055674</td>\n      <td>0.040629</td>\n      <td>0.484113</td>\n      <td>0.007656</td>\n      <td>0.077687</td>\n    </tr>\n  </tbody>\n</table>\n<p>258805 rows × 30 columns</p>\n</div>"
     },
     "metadata": {},
     "execution_count": 3
    }
   ],
   "source": [
    "import pandas as pd\n",
    "pd.read_parquet(\"preprocessed_validation_features\\\\part.5.parquet\")"
   ]
  },
  {
   "cell_type": "code",
   "execution_count": 91,
   "metadata": {},
   "outputs": [
    {
     "output_type": "execute_result",
     "data": {
      "text/plain": [
       "Index(['tweet_id', 'a_is_verified', 'b_user_id', 'b_is_verified',\n",
       "       'a_follows_b', 'has_reply', 'bert_token_len', 'has_retweet',\n",
       "       'has_retweet_comment', 'has_like', 'n_photos', 'n_videos', 'n_gifs',\n",
       "       'reply_age', 'type_encoding', 'language_encoding', 'a_followers',\n",
       "       'a_following', 'b_followers', 'b_following', 'day_of_week',\n",
       "       'hour_of_day', 'b_creation_delta', 'a_creation_delta', 'tweet_hash',\n",
       "       'b_hash', 'a_hash', 'TE_language_encoding_has_reply',\n",
       "       'TE_language_encoding_has_like',\n",
       "       'TE_language_encoding_has_retweet_comment',\n",
       "       'TE_language_encoding_has_retweet', 'TE_type_encoding_has_reply',\n",
       "       'TE_type_encoding_has_like', 'TE_type_encoding_has_retweet_comment',\n",
       "       'TE_type_encoding_has_retweet', 'TE_tweet_hash_has_reply',\n",
       "       'TE_tweet_hash_has_like', 'TE_tweet_hash_has_retweet_comment',\n",
       "       'TE_tweet_hash_has_retweet', 'TE_b_hash_has_reply',\n",
       "       'TE_b_hash_has_like', 'TE_b_hash_has_retweet_comment',\n",
       "       'TE_b_hash_has_retweet', 'TE_a_hash_has_reply', 'TE_a_hash_has_like',\n",
       "       'TE_a_hash_has_retweet_comment', 'TE_a_hash_has_retweet'],\n",
       "      dtype='object')"
      ]
     },
     "metadata": {},
     "execution_count": 91
    }
   ],
   "source": [
    "df.columns"
   ]
  },
  {
   "cell_type": "code",
   "execution_count": 117,
   "metadata": {},
   "outputs": [],
   "source": [
    "import pandas as pd\n",
    "from sklearn.model_selection import train_test_split\n",
    "\n",
    "df = pd.read_parquet(\"preprocessed_features\\\\part.2.parquet\")\n",
    "X_df = df[['a_is_verified', 'b_is_verified',\n",
    "       'a_follows_b', 'bert_token_len', 'n_photos', 'n_videos', 'n_gifs',\n",
    "       'type_encoding', 'language_encoding', 'a_followers',\n",
    "       'a_following', 'b_followers', 'b_following', 'day_of_week',\n",
    "       'hour_of_day', 'b_creation_delta', 'a_creation_delta',\n",
    "       'TE_language_encoding_has_reply',\n",
    "       'TE_language_encoding_has_like',\n",
    "       'TE_language_encoding_has_retweet_comment',\n",
    "       'TE_language_encoding_has_retweet', 'TE_type_encoding_has_reply',\n",
    "       'TE_type_encoding_has_like', 'TE_type_encoding_has_retweet_comment',\n",
    "       'TE_type_encoding_has_retweet']]\n",
    "X = X_df.to_numpy()\n",
    "\n",
    "Y= df[\"has_like\"].to_numpy()\n",
    "\n",
    "X_train, X_test, Y_train, Y_test = train_test_split(X, Y, test_size=.15)"
   ]
  },
  {
   "cell_type": "code",
   "execution_count": 118,
   "metadata": {},
   "outputs": [
    {
     "output_type": "stream",
     "name": "stderr",
     "text": [
      "[Parallel(n_jobs=4)]: Using backend ThreadingBackend with 4 concurrent workers.\n",
      "building tree 1 of 100\n",
      "building tree 2 of 100\n",
      "building tree 3 of 100\n",
      "building tree 4 of 100\n",
      "building tree 5 of 100\n",
      "building tree 6 of 100\n",
      "building tree 7 of 100\n",
      "building tree 8 of 100\n",
      "building tree 9 of 100\n",
      "building tree 10 of 100\n",
      "building tree 11 of 100\n",
      "building tree 12 of 100\n",
      "[Parallel(n_jobs=4)]: Done   5 tasks      | elapsed:    1.1s\n",
      "building tree 13 of 100\n",
      "building tree 14 of 100\n",
      "building tree 15 of 100\n",
      "building tree 16 of 100\n",
      "[Parallel(n_jobs=4)]: Done  10 tasks      | elapsed:    1.7s\n",
      "building tree 17 of 100\n",
      "building tree 18 of 100\n",
      "building tree 19 of 100\n",
      "building tree 20 of 100\n",
      "building tree 21 of 100\n",
      "building tree 22 of 100\n",
      "building tree 23 of 100\n",
      "building tree 24 of 100\n",
      "[Parallel(n_jobs=4)]: Done  17 tasks      | elapsed:    3.0s\n",
      "building tree 25 of 100\n",
      "building tree 26 of 100\n",
      "building tree 27 of 100\n",
      "building tree 28 of 100\n",
      "[Parallel(n_jobs=4)]: Done  24 tasks      | elapsed:    3.8s\n",
      "building tree 29 of 100\n",
      "building tree 30 of 100\n",
      "building tree 31 of 100\n",
      "building tree 32 of 100\n",
      "building tree 33 of 100\n",
      "building tree 34 of 100\n",
      "building tree 35 of 100\n",
      "building tree 36 of 100\n",
      "building tree 37 of 100\n",
      "building tree 38 of 100\n",
      "building tree 39 of 100\n",
      "building tree 40 of 100\n",
      "[Parallel(n_jobs=4)]: Done  33 tasks      | elapsed:    5.6s\n",
      "building tree 41 of 100\n",
      "building tree 42 of 100\n",
      "building tree 43 of 100\n",
      "building tree 44 of 100\n",
      "building tree 45 of 100\n",
      "building tree 46 of 100\n",
      "building tree 47 of 100\n",
      "building tree 48 of 100\n",
      "[Parallel(n_jobs=4)]: Done  42 tasks      | elapsed:    7.0s\n",
      "building tree 49 of 100\n",
      "building tree 50 of 100\n",
      "building tree 51 of 100\n",
      "building tree 52 of 100\n",
      "building tree 53 of 100\n",
      "building tree 54 of 100\n",
      "building tree 55 of 100\n",
      "building tree 56 of 100\n",
      "[Parallel(n_jobs=4)]: Done  53 tasks      | elapsed:    8.8s\n",
      "building tree 57 of 100\n",
      "building tree 58 of 100\n",
      "building tree 59 of 100\n",
      "building tree 60 of 100\n",
      "building tree 61 of 100\n",
      "building tree 62 of 100\n",
      "building tree 63 of 100\n",
      "building tree 64 of 100\n",
      "building tree 65 of 100\n",
      "building tree 66 of 100\n",
      "building tree 67 of 100\n",
      "building tree 68 of 100\n",
      "[Parallel(n_jobs=4)]: Done  64 tasks      | elapsed:   10.5s\n",
      "building tree 69 of 100\n",
      "building tree 70 of 100\n",
      "building tree 71 of 100\n",
      "building tree 72 of 100\n",
      "building tree 73 of 100\n",
      "building tree 74 of 100\n",
      "building tree 75 of 100\n",
      "building tree 76 of 100\n",
      "building tree 77 of 100\n",
      "building tree 78 of 100\n",
      "building tree 79 of 100\n",
      "building tree 80 of 100\n",
      "building tree 81 of 100\n",
      "[Parallel(n_jobs=4)]: Done  77 tasks      | elapsed:   12.7s\n",
      "building tree 82 of 100\n",
      "building tree 83 of 100\n",
      "building tree 84 of 100\n",
      "building tree 85 of 100\n",
      "building tree 86 of 100\n",
      "building tree 87 of 100\n",
      "building tree 88 of 100\n",
      "building tree 89 of 100\n",
      "building tree 90 of 100\n",
      "building tree 91 of 100\n",
      "building tree 92 of 100\n",
      "building tree 93 of 100\n",
      "building tree 94 of 100\n",
      "[Parallel(n_jobs=4)]: Done  90 tasks      | elapsed:   14.8s\n",
      "building tree 95 of 100\n",
      "building tree 96 of 100\n",
      "building tree 97 of 100\n",
      "building tree 98 of 100\n",
      "building tree 99 of 100\n",
      "building tree 100 of 100\n",
      "[Parallel(n_jobs=4)]: Done 100 out of 100 | elapsed:   16.4s finished\n"
     ]
    },
    {
     "output_type": "execute_result",
     "data": {
      "text/plain": [
       "RandomForestClassifier(class_weight='balanced', max_depth=20, n_jobs=4,\n",
       "                       verbose=10)"
      ]
     },
     "metadata": {},
     "execution_count": 118
    }
   ],
   "source": [
    "from sklearn.ensemble import RandomForestClassifier\n",
    "rfc = RandomForestClassifier(max_depth = 20, verbose = 10, n_jobs = 4, class_weight=\"balanced\")\n",
    "rfc.fit(np.nan_to_num(np.array(X_train, dtype=float)), Y_train)"
   ]
  },
  {
   "cell_type": "code",
   "execution_count": 119,
   "metadata": {},
   "outputs": [
    {
     "output_type": "stream",
     "name": "stderr",
     "text": [
      "[Parallel(n_jobs=4)]: Using backend ThreadingBackend with 4 concurrent workers.\n",
      "[Parallel(n_jobs=4)]: Done   5 tasks      | elapsed:    0.0s\n",
      "[Parallel(n_jobs=4)]: Done  10 tasks      | elapsed:    0.0s\n",
      "[Parallel(n_jobs=4)]: Done  17 tasks      | elapsed:    0.0s\n",
      "[Parallel(n_jobs=4)]: Done  24 tasks      | elapsed:    0.0s\n",
      "[Parallel(n_jobs=4)]: Done  33 tasks      | elapsed:    0.0s\n",
      "[Parallel(n_jobs=4)]: Done  42 tasks      | elapsed:    0.0s\n",
      "[Parallel(n_jobs=4)]: Done  53 tasks      | elapsed:    0.1s\n",
      "[Parallel(n_jobs=4)]: Done  64 tasks      | elapsed:    0.1s\n",
      "[Parallel(n_jobs=4)]: Done  77 tasks      | elapsed:    0.1s\n",
      "[Parallel(n_jobs=4)]: Done  90 tasks      | elapsed:    0.2s\n",
      "[Parallel(n_jobs=4)]: Done 100 out of 100 | elapsed:    0.2s finished\n"
     ]
    }
   ],
   "source": [
    "y_hat = rfc.predict(np.nan_to_num(np.array(X_test, dtype=float)))"
   ]
  },
  {
   "cell_type": "code",
   "execution_count": 113,
   "metadata": {},
   "outputs": [
    {
     "output_type": "stream",
     "name": "stdout",
     "text": [
      "0.8393957361243587\n0.5389367293634241\n"
     ]
    }
   ],
   "source": [
    "from sklearn.metrics import accuracy_score, balanced_accuracy_score\n",
    "print(accuracy_score(Y_test,y_hat))\n",
    "print(balanced_accuracy_score(Y_test, y_hat))"
   ]
  },
  {
   "cell_type": "code",
   "execution_count": 5,
   "metadata": {},
   "outputs": [],
   "source": [
    "import pandas as pd"
   ]
  },
  {
   "cell_type": "code",
   "execution_count": 9,
   "metadata": {},
   "outputs": [],
   "source": [
    "st = \"C789139E04D060218D1FF0D3637FC51E\""
   ]
  },
  {
   "cell_type": "code",
   "execution_count": 100,
   "metadata": {},
   "outputs": [],
   "source": [
    "from sklearn.tree import DecisionTreeClassifier"
   ]
  },
  {
   "cell_type": "code",
   "execution_count": 121,
   "metadata": {},
   "outputs": [],
   "source": [
    "dtc = DecisionTreeClassifier()\n",
    "dtc.fit(np.nan_to_num(np.array(X_train, dtype=float)), Y_train)\n",
    "y_hat = dtc.predict(np.nan_to_num(np.array(X_test, dtype=float)))"
   ]
  },
  {
   "cell_type": "code",
   "execution_count": 123,
   "metadata": {},
   "outputs": [
    {
     "output_type": "execute_result",
     "data": {
      "text/plain": [
       "array([0.00910362, 0.00019635, 0.00521936, 0.08744459, 0.01323359,\n",
       "       0.00462509, 0.00186938, 0.        , 0.01196485, 0.10836241,\n",
       "       0.10549077, 0.10078048, 0.10765432, 0.04308808, 0.06839164,\n",
       "       0.11628186, 0.10941547, 0.0130312 , 0.01909383, 0.01258962,\n",
       "       0.01271891, 0.        , 0.        , 0.04944459, 0.        ])"
      ]
     },
     "metadata": {},
     "execution_count": 123
    }
   ],
   "source": [
    "dtc.tree_.compute_feature_importances(normalize=True)"
   ]
  },
  {
   "cell_type": "code",
   "execution_count": 107,
   "metadata": {},
   "outputs": [
    {
     "output_type": "execute_result",
     "data": {
      "text/plain": [
       "13229"
      ]
     },
     "metadata": {},
     "execution_count": 107
    }
   ],
   "source": [
    "len(df) - len(set(df[\"b_hash\"]))"
   ]
  },
  {
   "cell_type": "code",
   "execution_count": 124,
   "metadata": {},
   "outputs": [
    {
     "output_type": "execute_result",
     "data": {
      "text/plain": [
       "Index(['a_is_verified', 'b_is_verified', 'a_follows_b', 'bert_token_len',\n",
       "       'n_photos', 'n_videos', 'n_gifs', 'type_encoding', 'language_encoding',\n",
       "       'a_followers', 'a_following', 'b_followers', 'b_following',\n",
       "       'day_of_week', 'hour_of_day', 'b_creation_delta', 'a_creation_delta',\n",
       "       'TE_language_encoding_has_reply', 'TE_language_encoding_has_like',\n",
       "       'TE_language_encoding_has_retweet_comment',\n",
       "       'TE_language_encoding_has_retweet', 'TE_type_encoding_has_reply',\n",
       "       'TE_type_encoding_has_like', 'TE_type_encoding_has_retweet_comment',\n",
       "       'TE_type_encoding_has_retweet'],\n",
       "      dtype='object')"
      ]
     },
     "metadata": {},
     "execution_count": 124
    }
   ],
   "source": [
    "X_df.columns"
   ]
  },
  {
   "cell_type": "code",
   "execution_count": 122,
   "metadata": {},
   "outputs": [
    {
     "output_type": "execute_result",
     "data": {
      "text/plain": [
       "<sklearn.metrics._plot.confusion_matrix.ConfusionMatrixDisplay at 0x15bcf73ad60>"
      ]
     },
     "metadata": {},
     "execution_count": 122
    },
    {
     "output_type": "display_data",
     "data": {
      "text/plain": "<Figure size 432x288 with 2 Axes>",
      "image/svg+xml": "<?xml version=\"1.0\" encoding=\"utf-8\" standalone=\"no\"?>\r\n<!DOCTYPE svg PUBLIC \"-//W3C//DTD SVG 1.1//EN\"\r\n  \"http://www.w3.org/Graphics/SVG/1.1/DTD/svg11.dtd\">\r\n<svg height=\"262.19625pt\" version=\"1.1\" viewBox=\"0 0 344.050437 262.19625\" width=\"344.050437pt\" xmlns=\"http://www.w3.org/2000/svg\" xmlns:xlink=\"http://www.w3.org/1999/xlink\">\r\n <metadata>\r\n  <rdf:RDF xmlns:cc=\"http://creativecommons.org/ns#\" xmlns:dc=\"http://purl.org/dc/elements/1.1/\" xmlns:rdf=\"http://www.w3.org/1999/02/22-rdf-syntax-ns#\">\r\n   <cc:Work>\r\n    <dc:type rdf:resource=\"http://purl.org/dc/dcmitype/StillImage\"/>\r\n    <dc:date>2021-05-06T16:58:36.759800</dc:date>\r\n    <dc:format>image/svg+xml</dc:format>\r\n    <dc:creator>\r\n     <cc:Agent>\r\n      <dc:title>Matplotlib v3.4.1, https://matplotlib.org/</dc:title>\r\n     </cc:Agent>\r\n    </dc:creator>\r\n   </cc:Work>\r\n  </rdf:RDF>\r\n </metadata>\r\n <defs>\r\n  <style type=\"text/css\">*{stroke-linecap:butt;stroke-linejoin:round;}</style>\r\n </defs>\r\n <g id=\"figure_1\">\r\n  <g id=\"patch_1\">\r\n   <path d=\"M 0 262.19625 \r\nL 344.050437 262.19625 \r\nL 344.050437 0 \r\nL 0 0 \r\nz\r\n\" style=\"fill:none;\"/>\r\n  </g>\r\n  <g id=\"axes_1\">\r\n   <g id=\"patch_2\">\r\n    <path d=\"M 52.985937 224.64 \r\nL 270.425937 224.64 \r\nL 270.425937 7.2 \r\nL 52.985937 7.2 \r\nz\r\n\" style=\"fill:#ffffff;\"/>\r\n   </g>\r\n   <g clip-path=\"url(#pd2da79e3a5)\">\r\n    <image height=\"218\" id=\"imaged13390adb6\" transform=\"scale(1 -1)translate(0 -218)\" width=\"218\" x=\"52.985937\" xlink:href=\"data:image/png;base64,\r\niVBORw0KGgoAAAANSUhEUgAAANoAAADaCAYAAADAHVzbAAACl0lEQVR4nO3VsQ3CQAAEQUwZxBTjiApcAn3bRYBMDZ/sC3mmgktWt6yP93njr3z2Y/YEBt1nD4ArEBoEhAYBoUFAaBAQGgSEBgGhQUBoEBAaBIQGAaFBQGgQEBoEhAYBoUFAaBAQGgSEBgGhQUBoEBAaBIQGAaFBQGgQEBoEhAYBoUFAaBAQGgSEBgGhQUBoEBAaBIQGAaFBQGgQEBoEhAYBoUFAaBAQGgSEBgGhQUBoEBAaBIQGAaFBQGgQEBoEhAYBoUFAaBAQGgSEBgGhQUBoEBAaBIQGAaFBQGgQEBoEhAYBoUFAaBAQGgSEBgGhQUBoEBAaBIQGAaFBQGgQEBoEhAYBoUFAaBAQGgSEBgGhQUBoEBAaBIQGAaFBQGgQEBoEhAYBoUFAaBAQGgSEBgGhQUBoEBAaBIQGAaFBQGgQEBoEhAYBoUFAaBAQGgSEBgGhQUBoEBAaBIQGAaFBYPnuz3P2CMasr232BAZ5NAgIDQJCg4DQICA0CAgNAkKDgNAgIDQICA0CQoOA0CAgNAgIDQJCg4DQICA0CAgNAkKDgNAgIDQICA0CQoOA0CAgNAgIDQJCg4DQICA0CAgNAkKDgNAgIDQICA0CQoOA0CAgNAgIDQJCg4DQICA0CAgNAkKDgNAgIDQICA0CQoOA0CAgNAgIDQJCg4DQICA0CAgNAkKDgNAgIDQICA0CQoOA0CAgNAgIDQJCg4DQICA0CAgNAkKDgNAgIDQICA0CQoOA0CAgNAgIDQJCg4DQICA0CAgNAkKDgNAgIDQICA0CQoOA0CAgNAgIDQJCg4DQICA0CAgNAkKDgNAgIDQICA0CQoOA0CAgNAgIDQJCg4DQICA0CAgNAkKDgNAgIDQICA0CQoOA0CDwAw4oCkT0WoLbAAAAAElFTkSuQmCC\" y=\"-6.64\"/>\r\n   </g>\r\n   <g id=\"matplotlib.axis_1\">\r\n    <g id=\"xtick_1\">\r\n     <g id=\"line2d_1\">\r\n      <defs>\r\n       <path d=\"M 0 0 \r\nL 0 3.5 \r\n\" id=\"mee72d36cb3\" style=\"stroke:#000000;stroke-width:0.8;\"/>\r\n      </defs>\r\n      <g>\r\n       <use style=\"stroke:#000000;stroke-width:0.8;\" x=\"107.345937\" xlink:href=\"#mee72d36cb3\" y=\"224.64\"/>\r\n      </g>\r\n     </g>\r\n     <g id=\"text_1\">\r\n      <!-- False -->\r\n      <g transform=\"translate(94.792031 239.238437)scale(0.1 -0.1)\">\r\n       <defs>\r\n        <path d=\"M 628 4666 \r\nL 3309 4666 \r\nL 3309 4134 \r\nL 1259 4134 \r\nL 1259 2759 \r\nL 3109 2759 \r\nL 3109 2228 \r\nL 1259 2228 \r\nL 1259 0 \r\nL 628 0 \r\nL 628 4666 \r\nz\r\n\" id=\"DejaVuSans-46\" transform=\"scale(0.015625)\"/>\r\n        <path d=\"M 2194 1759 \r\nQ 1497 1759 1228 1600 \r\nQ 959 1441 959 1056 \r\nQ 959 750 1161 570 \r\nQ 1363 391 1709 391 \r\nQ 2188 391 2477 730 \r\nQ 2766 1069 2766 1631 \r\nL 2766 1759 \r\nL 2194 1759 \r\nz\r\nM 3341 1997 \r\nL 3341 0 \r\nL 2766 0 \r\nL 2766 531 \r\nQ 2569 213 2275 61 \r\nQ 1981 -91 1556 -91 \r\nQ 1019 -91 701 211 \r\nQ 384 513 384 1019 \r\nQ 384 1609 779 1909 \r\nQ 1175 2209 1959 2209 \r\nL 2766 2209 \r\nL 2766 2266 \r\nQ 2766 2663 2505 2880 \r\nQ 2244 3097 1772 3097 \r\nQ 1472 3097 1187 3025 \r\nQ 903 2953 641 2809 \r\nL 641 3341 \r\nQ 956 3463 1253 3523 \r\nQ 1550 3584 1831 3584 \r\nQ 2591 3584 2966 3190 \r\nQ 3341 2797 3341 1997 \r\nz\r\n\" id=\"DejaVuSans-61\" transform=\"scale(0.015625)\"/>\r\n        <path d=\"M 603 4863 \r\nL 1178 4863 \r\nL 1178 0 \r\nL 603 0 \r\nL 603 4863 \r\nz\r\n\" id=\"DejaVuSans-6c\" transform=\"scale(0.015625)\"/>\r\n        <path d=\"M 2834 3397 \r\nL 2834 2853 \r\nQ 2591 2978 2328 3040 \r\nQ 2066 3103 1784 3103 \r\nQ 1356 3103 1142 2972 \r\nQ 928 2841 928 2578 \r\nQ 928 2378 1081 2264 \r\nQ 1234 2150 1697 2047 \r\nL 1894 2003 \r\nQ 2506 1872 2764 1633 \r\nQ 3022 1394 3022 966 \r\nQ 3022 478 2636 193 \r\nQ 2250 -91 1575 -91 \r\nQ 1294 -91 989 -36 \r\nQ 684 19 347 128 \r\nL 347 722 \r\nQ 666 556 975 473 \r\nQ 1284 391 1588 391 \r\nQ 1994 391 2212 530 \r\nQ 2431 669 2431 922 \r\nQ 2431 1156 2273 1281 \r\nQ 2116 1406 1581 1522 \r\nL 1381 1569 \r\nQ 847 1681 609 1914 \r\nQ 372 2147 372 2553 \r\nQ 372 3047 722 3315 \r\nQ 1072 3584 1716 3584 \r\nQ 2034 3584 2315 3537 \r\nQ 2597 3491 2834 3397 \r\nz\r\n\" id=\"DejaVuSans-73\" transform=\"scale(0.015625)\"/>\r\n        <path d=\"M 3597 1894 \r\nL 3597 1613 \r\nL 953 1613 \r\nQ 991 1019 1311 708 \r\nQ 1631 397 2203 397 \r\nQ 2534 397 2845 478 \r\nQ 3156 559 3463 722 \r\nL 3463 178 \r\nQ 3153 47 2828 -22 \r\nQ 2503 -91 2169 -91 \r\nQ 1331 -91 842 396 \r\nQ 353 884 353 1716 \r\nQ 353 2575 817 3079 \r\nQ 1281 3584 2069 3584 \r\nQ 2775 3584 3186 3129 \r\nQ 3597 2675 3597 1894 \r\nz\r\nM 3022 2063 \r\nQ 3016 2534 2758 2815 \r\nQ 2500 3097 2075 3097 \r\nQ 1594 3097 1305 2825 \r\nQ 1016 2553 972 2059 \r\nL 3022 2063 \r\nz\r\n\" id=\"DejaVuSans-65\" transform=\"scale(0.015625)\"/>\r\n       </defs>\r\n       <use xlink:href=\"#DejaVuSans-46\"/>\r\n       <use x=\"48.394531\" xlink:href=\"#DejaVuSans-61\"/>\r\n       <use x=\"109.673828\" xlink:href=\"#DejaVuSans-6c\"/>\r\n       <use x=\"137.457031\" xlink:href=\"#DejaVuSans-73\"/>\r\n       <use x=\"189.556641\" xlink:href=\"#DejaVuSans-65\"/>\r\n      </g>\r\n     </g>\r\n    </g>\r\n    <g id=\"xtick_2\">\r\n     <g id=\"line2d_2\">\r\n      <g>\r\n       <use style=\"stroke:#000000;stroke-width:0.8;\" x=\"216.065937\" xlink:href=\"#mee72d36cb3\" y=\"224.64\"/>\r\n      </g>\r\n     </g>\r\n     <g id=\"text_2\">\r\n      <!-- True -->\r\n      <g transform=\"translate(205.44875 239.238437)scale(0.1 -0.1)\">\r\n       <defs>\r\n        <path d=\"M -19 4666 \r\nL 3928 4666 \r\nL 3928 4134 \r\nL 2272 4134 \r\nL 2272 0 \r\nL 1638 0 \r\nL 1638 4134 \r\nL -19 4134 \r\nL -19 4666 \r\nz\r\n\" id=\"DejaVuSans-54\" transform=\"scale(0.015625)\"/>\r\n        <path d=\"M 2631 2963 \r\nQ 2534 3019 2420 3045 \r\nQ 2306 3072 2169 3072 \r\nQ 1681 3072 1420 2755 \r\nQ 1159 2438 1159 1844 \r\nL 1159 0 \r\nL 581 0 \r\nL 581 3500 \r\nL 1159 3500 \r\nL 1159 2956 \r\nQ 1341 3275 1631 3429 \r\nQ 1922 3584 2338 3584 \r\nQ 2397 3584 2469 3576 \r\nQ 2541 3569 2628 3553 \r\nL 2631 2963 \r\nz\r\n\" id=\"DejaVuSans-72\" transform=\"scale(0.015625)\"/>\r\n        <path d=\"M 544 1381 \r\nL 544 3500 \r\nL 1119 3500 \r\nL 1119 1403 \r\nQ 1119 906 1312 657 \r\nQ 1506 409 1894 409 \r\nQ 2359 409 2629 706 \r\nQ 2900 1003 2900 1516 \r\nL 2900 3500 \r\nL 3475 3500 \r\nL 3475 0 \r\nL 2900 0 \r\nL 2900 538 \r\nQ 2691 219 2414 64 \r\nQ 2138 -91 1772 -91 \r\nQ 1169 -91 856 284 \r\nQ 544 659 544 1381 \r\nz\r\nM 1991 3584 \r\nL 1991 3584 \r\nz\r\n\" id=\"DejaVuSans-75\" transform=\"scale(0.015625)\"/>\r\n       </defs>\r\n       <use xlink:href=\"#DejaVuSans-54\"/>\r\n       <use x=\"46.333984\" xlink:href=\"#DejaVuSans-72\"/>\r\n       <use x=\"87.447266\" xlink:href=\"#DejaVuSans-75\"/>\r\n       <use x=\"150.826172\" xlink:href=\"#DejaVuSans-65\"/>\r\n      </g>\r\n     </g>\r\n    </g>\r\n    <g id=\"text_3\">\r\n     <!-- Predicted label -->\r\n     <g transform=\"translate(124.553594 252.916562)scale(0.1 -0.1)\">\r\n      <defs>\r\n       <path d=\"M 1259 4147 \r\nL 1259 2394 \r\nL 2053 2394 \r\nQ 2494 2394 2734 2622 \r\nQ 2975 2850 2975 3272 \r\nQ 2975 3691 2734 3919 \r\nQ 2494 4147 2053 4147 \r\nL 1259 4147 \r\nz\r\nM 628 4666 \r\nL 2053 4666 \r\nQ 2838 4666 3239 4311 \r\nQ 3641 3956 3641 3272 \r\nQ 3641 2581 3239 2228 \r\nQ 2838 1875 2053 1875 \r\nL 1259 1875 \r\nL 1259 0 \r\nL 628 0 \r\nL 628 4666 \r\nz\r\n\" id=\"DejaVuSans-50\" transform=\"scale(0.015625)\"/>\r\n       <path d=\"M 2906 2969 \r\nL 2906 4863 \r\nL 3481 4863 \r\nL 3481 0 \r\nL 2906 0 \r\nL 2906 525 \r\nQ 2725 213 2448 61 \r\nQ 2172 -91 1784 -91 \r\nQ 1150 -91 751 415 \r\nQ 353 922 353 1747 \r\nQ 353 2572 751 3078 \r\nQ 1150 3584 1784 3584 \r\nQ 2172 3584 2448 3432 \r\nQ 2725 3281 2906 2969 \r\nz\r\nM 947 1747 \r\nQ 947 1113 1208 752 \r\nQ 1469 391 1925 391 \r\nQ 2381 391 2643 752 \r\nQ 2906 1113 2906 1747 \r\nQ 2906 2381 2643 2742 \r\nQ 2381 3103 1925 3103 \r\nQ 1469 3103 1208 2742 \r\nQ 947 2381 947 1747 \r\nz\r\n\" id=\"DejaVuSans-64\" transform=\"scale(0.015625)\"/>\r\n       <path d=\"M 603 3500 \r\nL 1178 3500 \r\nL 1178 0 \r\nL 603 0 \r\nL 603 3500 \r\nz\r\nM 603 4863 \r\nL 1178 4863 \r\nL 1178 4134 \r\nL 603 4134 \r\nL 603 4863 \r\nz\r\n\" id=\"DejaVuSans-69\" transform=\"scale(0.015625)\"/>\r\n       <path d=\"M 3122 3366 \r\nL 3122 2828 \r\nQ 2878 2963 2633 3030 \r\nQ 2388 3097 2138 3097 \r\nQ 1578 3097 1268 2742 \r\nQ 959 2388 959 1747 \r\nQ 959 1106 1268 751 \r\nQ 1578 397 2138 397 \r\nQ 2388 397 2633 464 \r\nQ 2878 531 3122 666 \r\nL 3122 134 \r\nQ 2881 22 2623 -34 \r\nQ 2366 -91 2075 -91 \r\nQ 1284 -91 818 406 \r\nQ 353 903 353 1747 \r\nQ 353 2603 823 3093 \r\nQ 1294 3584 2113 3584 \r\nQ 2378 3584 2631 3529 \r\nQ 2884 3475 3122 3366 \r\nz\r\n\" id=\"DejaVuSans-63\" transform=\"scale(0.015625)\"/>\r\n       <path d=\"M 1172 4494 \r\nL 1172 3500 \r\nL 2356 3500 \r\nL 2356 3053 \r\nL 1172 3053 \r\nL 1172 1153 \r\nQ 1172 725 1289 603 \r\nQ 1406 481 1766 481 \r\nL 2356 481 \r\nL 2356 0 \r\nL 1766 0 \r\nQ 1100 0 847 248 \r\nQ 594 497 594 1153 \r\nL 594 3053 \r\nL 172 3053 \r\nL 172 3500 \r\nL 594 3500 \r\nL 594 4494 \r\nL 1172 4494 \r\nz\r\n\" id=\"DejaVuSans-74\" transform=\"scale(0.015625)\"/>\r\n       <path id=\"DejaVuSans-20\" transform=\"scale(0.015625)\"/>\r\n       <path d=\"M 3116 1747 \r\nQ 3116 2381 2855 2742 \r\nQ 2594 3103 2138 3103 \r\nQ 1681 3103 1420 2742 \r\nQ 1159 2381 1159 1747 \r\nQ 1159 1113 1420 752 \r\nQ 1681 391 2138 391 \r\nQ 2594 391 2855 752 \r\nQ 3116 1113 3116 1747 \r\nz\r\nM 1159 2969 \r\nQ 1341 3281 1617 3432 \r\nQ 1894 3584 2278 3584 \r\nQ 2916 3584 3314 3078 \r\nQ 3713 2572 3713 1747 \r\nQ 3713 922 3314 415 \r\nQ 2916 -91 2278 -91 \r\nQ 1894 -91 1617 61 \r\nQ 1341 213 1159 525 \r\nL 1159 0 \r\nL 581 0 \r\nL 581 4863 \r\nL 1159 4863 \r\nL 1159 2969 \r\nz\r\n\" id=\"DejaVuSans-62\" transform=\"scale(0.015625)\"/>\r\n      </defs>\r\n      <use xlink:href=\"#DejaVuSans-50\"/>\r\n      <use x=\"58.552734\" xlink:href=\"#DejaVuSans-72\"/>\r\n      <use x=\"97.416016\" xlink:href=\"#DejaVuSans-65\"/>\r\n      <use x=\"158.939453\" xlink:href=\"#DejaVuSans-64\"/>\r\n      <use x=\"222.416016\" xlink:href=\"#DejaVuSans-69\"/>\r\n      <use x=\"250.199219\" xlink:href=\"#DejaVuSans-63\"/>\r\n      <use x=\"305.179688\" xlink:href=\"#DejaVuSans-74\"/>\r\n      <use x=\"344.388672\" xlink:href=\"#DejaVuSans-65\"/>\r\n      <use x=\"405.912109\" xlink:href=\"#DejaVuSans-64\"/>\r\n      <use x=\"469.388672\" xlink:href=\"#DejaVuSans-20\"/>\r\n      <use x=\"501.175781\" xlink:href=\"#DejaVuSans-6c\"/>\r\n      <use x=\"528.958984\" xlink:href=\"#DejaVuSans-61\"/>\r\n      <use x=\"590.238281\" xlink:href=\"#DejaVuSans-62\"/>\r\n      <use x=\"653.714844\" xlink:href=\"#DejaVuSans-65\"/>\r\n      <use x=\"715.238281\" xlink:href=\"#DejaVuSans-6c\"/>\r\n     </g>\r\n    </g>\r\n   </g>\r\n   <g id=\"matplotlib.axis_2\">\r\n    <g id=\"ytick_1\">\r\n     <g id=\"line2d_3\">\r\n      <defs>\r\n       <path d=\"M 0 0 \r\nL -3.5 0 \r\n\" id=\"mbe71061062\" style=\"stroke:#000000;stroke-width:0.8;\"/>\r\n      </defs>\r\n      <g>\r\n       <use style=\"stroke:#000000;stroke-width:0.8;\" x=\"52.985937\" xlink:href=\"#mbe71061062\" y=\"61.56\"/>\r\n      </g>\r\n     </g>\r\n     <g id=\"text_4\">\r\n      <!-- False -->\r\n      <g transform=\"translate(20.878125 65.359219)scale(0.1 -0.1)\">\r\n       <use xlink:href=\"#DejaVuSans-46\"/>\r\n       <use x=\"48.394531\" xlink:href=\"#DejaVuSans-61\"/>\r\n       <use x=\"109.673828\" xlink:href=\"#DejaVuSans-6c\"/>\r\n       <use x=\"137.457031\" xlink:href=\"#DejaVuSans-73\"/>\r\n       <use x=\"189.556641\" xlink:href=\"#DejaVuSans-65\"/>\r\n      </g>\r\n     </g>\r\n    </g>\r\n    <g id=\"ytick_2\">\r\n     <g id=\"line2d_4\">\r\n      <g>\r\n       <use style=\"stroke:#000000;stroke-width:0.8;\" x=\"52.985937\" xlink:href=\"#mbe71061062\" y=\"170.28\"/>\r\n      </g>\r\n     </g>\r\n     <g id=\"text_5\">\r\n      <!-- True -->\r\n      <g transform=\"translate(24.751562 174.079219)scale(0.1 -0.1)\">\r\n       <use xlink:href=\"#DejaVuSans-54\"/>\r\n       <use x=\"46.333984\" xlink:href=\"#DejaVuSans-72\"/>\r\n       <use x=\"87.447266\" xlink:href=\"#DejaVuSans-75\"/>\r\n       <use x=\"150.826172\" xlink:href=\"#DejaVuSans-65\"/>\r\n      </g>\r\n     </g>\r\n    </g>\r\n    <g id=\"text_6\">\r\n     <!-- True label -->\r\n     <g transform=\"translate(14.798437 140.219219)rotate(-90)scale(0.1 -0.1)\">\r\n      <use xlink:href=\"#DejaVuSans-54\"/>\r\n      <use x=\"46.333984\" xlink:href=\"#DejaVuSans-72\"/>\r\n      <use x=\"87.447266\" xlink:href=\"#DejaVuSans-75\"/>\r\n      <use x=\"150.826172\" xlink:href=\"#DejaVuSans-65\"/>\r\n      <use x=\"212.349609\" xlink:href=\"#DejaVuSans-20\"/>\r\n      <use x=\"244.136719\" xlink:href=\"#DejaVuSans-6c\"/>\r\n      <use x=\"271.919922\" xlink:href=\"#DejaVuSans-61\"/>\r\n      <use x=\"333.199219\" xlink:href=\"#DejaVuSans-62\"/>\r\n      <use x=\"396.675781\" xlink:href=\"#DejaVuSans-65\"/>\r\n      <use x=\"458.199219\" xlink:href=\"#DejaVuSans-6c\"/>\r\n     </g>\r\n    </g>\r\n   </g>\r\n   <g id=\"patch_3\">\r\n    <path d=\"M 52.985937 224.64 \r\nL 52.985937 7.2 \r\n\" style=\"fill:none;stroke:#000000;stroke-linecap:square;stroke-linejoin:miter;stroke-width:0.8;\"/>\r\n   </g>\r\n   <g id=\"patch_4\">\r\n    <path d=\"M 270.425937 224.64 \r\nL 270.425937 7.2 \r\n\" style=\"fill:none;stroke:#000000;stroke-linecap:square;stroke-linejoin:miter;stroke-width:0.8;\"/>\r\n   </g>\r\n   <g id=\"patch_5\">\r\n    <path d=\"M 52.985937 224.64 \r\nL 270.425937 224.64 \r\n\" style=\"fill:none;stroke:#000000;stroke-linecap:square;stroke-linejoin:miter;stroke-width:0.8;\"/>\r\n   </g>\r\n   <g id=\"patch_6\">\r\n    <path d=\"M 52.985937 7.2 \r\nL 270.425937 7.2 \r\n\" style=\"fill:none;stroke:#000000;stroke-linecap:square;stroke-linejoin:miter;stroke-width:0.8;\"/>\r\n   </g>\r\n   <g id=\"text_7\">\r\n    <!-- 14921 -->\r\n    <g style=\"fill:#440154;\" transform=\"translate(91.439687 64.319375)scale(0.1 -0.1)\">\r\n     <defs>\r\n      <path d=\"M 794 531 \r\nL 1825 531 \r\nL 1825 4091 \r\nL 703 3866 \r\nL 703 4441 \r\nL 1819 4666 \r\nL 2450 4666 \r\nL 2450 531 \r\nL 3481 531 \r\nL 3481 0 \r\nL 794 0 \r\nL 794 531 \r\nz\r\n\" id=\"DejaVuSans-31\" transform=\"scale(0.015625)\"/>\r\n      <path d=\"M 2419 4116 \r\nL 825 1625 \r\nL 2419 1625 \r\nL 2419 4116 \r\nz\r\nM 2253 4666 \r\nL 3047 4666 \r\nL 3047 1625 \r\nL 3713 1625 \r\nL 3713 1100 \r\nL 3047 1100 \r\nL 3047 0 \r\nL 2419 0 \r\nL 2419 1100 \r\nL 313 1100 \r\nL 313 1709 \r\nL 2253 4666 \r\nz\r\n\" id=\"DejaVuSans-34\" transform=\"scale(0.015625)\"/>\r\n      <path d=\"M 703 97 \r\nL 703 672 \r\nQ 941 559 1184 500 \r\nQ 1428 441 1663 441 \r\nQ 2288 441 2617 861 \r\nQ 2947 1281 2994 2138 \r\nQ 2813 1869 2534 1725 \r\nQ 2256 1581 1919 1581 \r\nQ 1219 1581 811 2004 \r\nQ 403 2428 403 3163 \r\nQ 403 3881 828 4315 \r\nQ 1253 4750 1959 4750 \r\nQ 2769 4750 3195 4129 \r\nQ 3622 3509 3622 2328 \r\nQ 3622 1225 3098 567 \r\nQ 2575 -91 1691 -91 \r\nQ 1453 -91 1209 -44 \r\nQ 966 3 703 97 \r\nz\r\nM 1959 2075 \r\nQ 2384 2075 2632 2365 \r\nQ 2881 2656 2881 3163 \r\nQ 2881 3666 2632 3958 \r\nQ 2384 4250 1959 4250 \r\nQ 1534 4250 1286 3958 \r\nQ 1038 3666 1038 3163 \r\nQ 1038 2656 1286 2365 \r\nQ 1534 2075 1959 2075 \r\nz\r\n\" id=\"DejaVuSans-39\" transform=\"scale(0.015625)\"/>\r\n      <path d=\"M 1228 531 \r\nL 3431 531 \r\nL 3431 0 \r\nL 469 0 \r\nL 469 531 \r\nQ 828 903 1448 1529 \r\nQ 2069 2156 2228 2338 \r\nQ 2531 2678 2651 2914 \r\nQ 2772 3150 2772 3378 \r\nQ 2772 3750 2511 3984 \r\nQ 2250 4219 1831 4219 \r\nQ 1534 4219 1204 4116 \r\nQ 875 4013 500 3803 \r\nL 500 4441 \r\nQ 881 4594 1212 4672 \r\nQ 1544 4750 1819 4750 \r\nQ 2544 4750 2975 4387 \r\nQ 3406 4025 3406 3419 \r\nQ 3406 3131 3298 2873 \r\nQ 3191 2616 2906 2266 \r\nQ 2828 2175 2409 1742 \r\nQ 1991 1309 1228 531 \r\nz\r\n\" id=\"DejaVuSans-32\" transform=\"scale(0.015625)\"/>\r\n     </defs>\r\n     <use xlink:href=\"#DejaVuSans-31\"/>\r\n     <use x=\"63.623047\" xlink:href=\"#DejaVuSans-34\"/>\r\n     <use x=\"127.246094\" xlink:href=\"#DejaVuSans-39\"/>\r\n     <use x=\"190.869141\" xlink:href=\"#DejaVuSans-32\"/>\r\n     <use x=\"254.492188\" xlink:href=\"#DejaVuSans-31\"/>\r\n    </g>\r\n   </g>\r\n   <g id=\"text_8\">\r\n    <!-- 8554 -->\r\n    <g style=\"fill:#fde725;\" transform=\"translate(203.340937 64.319375)scale(0.1 -0.1)\">\r\n     <defs>\r\n      <path d=\"M 2034 2216 \r\nQ 1584 2216 1326 1975 \r\nQ 1069 1734 1069 1313 \r\nQ 1069 891 1326 650 \r\nQ 1584 409 2034 409 \r\nQ 2484 409 2743 651 \r\nQ 3003 894 3003 1313 \r\nQ 3003 1734 2745 1975 \r\nQ 2488 2216 2034 2216 \r\nz\r\nM 1403 2484 \r\nQ 997 2584 770 2862 \r\nQ 544 3141 544 3541 \r\nQ 544 4100 942 4425 \r\nQ 1341 4750 2034 4750 \r\nQ 2731 4750 3128 4425 \r\nQ 3525 4100 3525 3541 \r\nQ 3525 3141 3298 2862 \r\nQ 3072 2584 2669 2484 \r\nQ 3125 2378 3379 2068 \r\nQ 3634 1759 3634 1313 \r\nQ 3634 634 3220 271 \r\nQ 2806 -91 2034 -91 \r\nQ 1263 -91 848 271 \r\nQ 434 634 434 1313 \r\nQ 434 1759 690 2068 \r\nQ 947 2378 1403 2484 \r\nz\r\nM 1172 3481 \r\nQ 1172 3119 1398 2916 \r\nQ 1625 2713 2034 2713 \r\nQ 2441 2713 2670 2916 \r\nQ 2900 3119 2900 3481 \r\nQ 2900 3844 2670 4047 \r\nQ 2441 4250 2034 4250 \r\nQ 1625 4250 1398 4047 \r\nQ 1172 3844 1172 3481 \r\nz\r\n\" id=\"DejaVuSans-38\" transform=\"scale(0.015625)\"/>\r\n      <path d=\"M 691 4666 \r\nL 3169 4666 \r\nL 3169 4134 \r\nL 1269 4134 \r\nL 1269 2991 \r\nQ 1406 3038 1543 3061 \r\nQ 1681 3084 1819 3084 \r\nQ 2600 3084 3056 2656 \r\nQ 3513 2228 3513 1497 \r\nQ 3513 744 3044 326 \r\nQ 2575 -91 1722 -91 \r\nQ 1428 -91 1123 -41 \r\nQ 819 9 494 109 \r\nL 494 744 \r\nQ 775 591 1075 516 \r\nQ 1375 441 1709 441 \r\nQ 2250 441 2565 725 \r\nQ 2881 1009 2881 1497 \r\nQ 2881 1984 2565 2268 \r\nQ 2250 2553 1709 2553 \r\nQ 1456 2553 1204 2497 \r\nQ 953 2441 691 2322 \r\nL 691 4666 \r\nz\r\n\" id=\"DejaVuSans-35\" transform=\"scale(0.015625)\"/>\r\n     </defs>\r\n     <use xlink:href=\"#DejaVuSans-38\"/>\r\n     <use x=\"63.623047\" xlink:href=\"#DejaVuSans-35\"/>\r\n     <use x=\"127.246094\" xlink:href=\"#DejaVuSans-35\"/>\r\n     <use x=\"190.869141\" xlink:href=\"#DejaVuSans-34\"/>\r\n    </g>\r\n   </g>\r\n   <g id=\"text_9\">\r\n    <!-- 7936 -->\r\n    <g style=\"fill:#fde725;\" transform=\"translate(94.620937 173.039375)scale(0.1 -0.1)\">\r\n     <defs>\r\n      <path d=\"M 525 4666 \r\nL 3525 4666 \r\nL 3525 4397 \r\nL 1831 0 \r\nL 1172 0 \r\nL 2766 4134 \r\nL 525 4134 \r\nL 525 4666 \r\nz\r\n\" id=\"DejaVuSans-37\" transform=\"scale(0.015625)\"/>\r\n      <path d=\"M 2597 2516 \r\nQ 3050 2419 3304 2112 \r\nQ 3559 1806 3559 1356 \r\nQ 3559 666 3084 287 \r\nQ 2609 -91 1734 -91 \r\nQ 1441 -91 1130 -33 \r\nQ 819 25 488 141 \r\nL 488 750 \r\nQ 750 597 1062 519 \r\nQ 1375 441 1716 441 \r\nQ 2309 441 2620 675 \r\nQ 2931 909 2931 1356 \r\nQ 2931 1769 2642 2001 \r\nQ 2353 2234 1838 2234 \r\nL 1294 2234 \r\nL 1294 2753 \r\nL 1863 2753 \r\nQ 2328 2753 2575 2939 \r\nQ 2822 3125 2822 3475 \r\nQ 2822 3834 2567 4026 \r\nQ 2313 4219 1838 4219 \r\nQ 1578 4219 1281 4162 \r\nQ 984 4106 628 3988 \r\nL 628 4550 \r\nQ 988 4650 1302 4700 \r\nQ 1616 4750 1894 4750 \r\nQ 2613 4750 3031 4423 \r\nQ 3450 4097 3450 3541 \r\nQ 3450 3153 3228 2886 \r\nQ 3006 2619 2597 2516 \r\nz\r\n\" id=\"DejaVuSans-33\" transform=\"scale(0.015625)\"/>\r\n      <path d=\"M 2113 2584 \r\nQ 1688 2584 1439 2293 \r\nQ 1191 2003 1191 1497 \r\nQ 1191 994 1439 701 \r\nQ 1688 409 2113 409 \r\nQ 2538 409 2786 701 \r\nQ 3034 994 3034 1497 \r\nQ 3034 2003 2786 2293 \r\nQ 2538 2584 2113 2584 \r\nz\r\nM 3366 4563 \r\nL 3366 3988 \r\nQ 3128 4100 2886 4159 \r\nQ 2644 4219 2406 4219 \r\nQ 1781 4219 1451 3797 \r\nQ 1122 3375 1075 2522 \r\nQ 1259 2794 1537 2939 \r\nQ 1816 3084 2150 3084 \r\nQ 2853 3084 3261 2657 \r\nQ 3669 2231 3669 1497 \r\nQ 3669 778 3244 343 \r\nQ 2819 -91 2113 -91 \r\nQ 1303 -91 875 529 \r\nQ 447 1150 447 2328 \r\nQ 447 3434 972 4092 \r\nQ 1497 4750 2381 4750 \r\nQ 2619 4750 2861 4703 \r\nQ 3103 4656 3366 4563 \r\nz\r\n\" id=\"DejaVuSans-36\" transform=\"scale(0.015625)\"/>\r\n     </defs>\r\n     <use xlink:href=\"#DejaVuSans-37\"/>\r\n     <use x=\"63.623047\" xlink:href=\"#DejaVuSans-39\"/>\r\n     <use x=\"127.246094\" xlink:href=\"#DejaVuSans-33\"/>\r\n     <use x=\"190.869141\" xlink:href=\"#DejaVuSans-36\"/>\r\n    </g>\r\n   </g>\r\n   <g id=\"text_10\">\r\n    <!-- 7380 -->\r\n    <g style=\"fill:#fde725;\" transform=\"translate(203.340937 173.039375)scale(0.1 -0.1)\">\r\n     <defs>\r\n      <path d=\"M 2034 4250 \r\nQ 1547 4250 1301 3770 \r\nQ 1056 3291 1056 2328 \r\nQ 1056 1369 1301 889 \r\nQ 1547 409 2034 409 \r\nQ 2525 409 2770 889 \r\nQ 3016 1369 3016 2328 \r\nQ 3016 3291 2770 3770 \r\nQ 2525 4250 2034 4250 \r\nz\r\nM 2034 4750 \r\nQ 2819 4750 3233 4129 \r\nQ 3647 3509 3647 2328 \r\nQ 3647 1150 3233 529 \r\nQ 2819 -91 2034 -91 \r\nQ 1250 -91 836 529 \r\nQ 422 1150 422 2328 \r\nQ 422 3509 836 4129 \r\nQ 1250 4750 2034 4750 \r\nz\r\n\" id=\"DejaVuSans-30\" transform=\"scale(0.015625)\"/>\r\n     </defs>\r\n     <use xlink:href=\"#DejaVuSans-37\"/>\r\n     <use x=\"63.623047\" xlink:href=\"#DejaVuSans-33\"/>\r\n     <use x=\"127.246094\" xlink:href=\"#DejaVuSans-38\"/>\r\n     <use x=\"190.869141\" xlink:href=\"#DejaVuSans-30\"/>\r\n    </g>\r\n   </g>\r\n  </g>\r\n  <g id=\"axes_2\">\r\n   <g id=\"patch_7\">\r\n    <path d=\"M 287.165938 224.64 \r\nL 298.037937 224.64 \r\nL 298.037937 7.2 \r\nL 287.165938 7.2 \r\nz\r\n\" style=\"fill:#ffffff;\"/>\r\n   </g>\r\n   <g id=\"patch_8\">\r\n    <path clip-path=\"url(#p5ed836e9f3)\" d=\"M 287.165938 224.64 \r\nL 287.165938 223.790625 \r\nL 287.165938 8.049375 \r\nL 287.165938 7.2 \r\nL 298.037937 7.2 \r\nL 298.037937 8.049375 \r\nL 298.037937 223.790625 \r\nL 298.037937 224.64 \r\nL 298.037937 224.64 \r\nz\r\n\" style=\"fill:#ffffff;stroke:#ffffff;stroke-linejoin:miter;stroke-width:0.01;\"/>\r\n   </g>\r\n   <image height=\"217\" id=\"imageacd7fa8a1d\" transform=\"scale(1 -1)translate(0 -217)\" width=\"11\" x=\"287\" xlink:href=\"data:image/png;base64,\r\niVBORw0KGgoAAAANSUhEUgAAAAsAAADZCAYAAAD2WsoCAAABUklEQVR4nN2awQ3CQAwEz/aFyqiB/gsBQguex0g+eK9W6/HmAiTxzNe9mp8dGV3t2iuyL/acF3GOKhKDZE6SmTnPGHAIDSQuL4ZVUZGzFuNmmdtak8aUzB7n0pz7Wjog4Xx7lxUZ0CsSckboYOuQMxGTDaIYJ9KAA2p9ZuiI85BzY8YGj+yGdxRoFR2ylCk0+lo184wT6f/XPSTzgc5DYsDy96/vM9GNoAFCyDTAgN4GEWdYfssZfLs0B/Q4h5bZdCbi/FrOM9Cltm5Ew4wBxEWOAsZ5jUBXrM9WkSANK8YmNLwBmbNHIzQanjPhvPPTF5e4botGTaHhDWg5X4FooBhAjDaInNmAMzbIOBN0V7xJDK+iqBsInUYDDUiWgtaNrhQ4oHWHZRvUYjxYRdtamrlvvDZ4zrx2gd9L+yLPgJI4oxjMmWTeC7yuU+SdkwR/Uv0A7xuAaGKmOKMAAAAASUVORK5CYII=\" y=\"-7\"/>\r\n   <g id=\"matplotlib.axis_3\"/>\r\n   <g id=\"matplotlib.axis_4\">\r\n    <g id=\"ytick_3\">\r\n     <g id=\"line2d_5\">\r\n      <defs>\r\n       <path d=\"M 0 0 \r\nL 3.5 0 \r\n\" id=\"m1e0a6d101b\" style=\"stroke:#000000;stroke-width:0.8;\"/>\r\n      </defs>\r\n      <g>\r\n       <use style=\"stroke:#000000;stroke-width:0.8;\" x=\"298.037937\" xlink:href=\"#m1e0a6d101b\" y=\"206.762689\"/>\r\n      </g>\r\n     </g>\r\n     <g id=\"text_11\">\r\n      <!-- 8000 -->\r\n      <g transform=\"translate(305.037937 210.561908)scale(0.1 -0.1)\">\r\n       <use xlink:href=\"#DejaVuSans-38\"/>\r\n       <use x=\"63.623047\" xlink:href=\"#DejaVuSans-30\"/>\r\n       <use x=\"127.246094\" xlink:href=\"#DejaVuSans-30\"/>\r\n       <use x=\"190.869141\" xlink:href=\"#DejaVuSans-30\"/>\r\n      </g>\r\n     </g>\r\n    </g>\r\n    <g id=\"ytick_4\">\r\n     <g id=\"line2d_6\">\r\n      <g>\r\n       <use style=\"stroke:#000000;stroke-width:0.8;\" x=\"298.037937\" xlink:href=\"#m1e0a6d101b\" y=\"177.928317\"/>\r\n      </g>\r\n     </g>\r\n     <g id=\"text_12\">\r\n      <!-- 9000 -->\r\n      <g transform=\"translate(305.037937 181.727536)scale(0.1 -0.1)\">\r\n       <use xlink:href=\"#DejaVuSans-39\"/>\r\n       <use x=\"63.623047\" xlink:href=\"#DejaVuSans-30\"/>\r\n       <use x=\"127.246094\" xlink:href=\"#DejaVuSans-30\"/>\r\n       <use x=\"190.869141\" xlink:href=\"#DejaVuSans-30\"/>\r\n      </g>\r\n     </g>\r\n    </g>\r\n    <g id=\"ytick_5\">\r\n     <g id=\"line2d_7\">\r\n      <g>\r\n       <use style=\"stroke:#000000;stroke-width:0.8;\" x=\"298.037937\" xlink:href=\"#m1e0a6d101b\" y=\"149.093945\"/>\r\n      </g>\r\n     </g>\r\n     <g id=\"text_13\">\r\n      <!-- 10000 -->\r\n      <g transform=\"translate(305.037937 152.893164)scale(0.1 -0.1)\">\r\n       <use xlink:href=\"#DejaVuSans-31\"/>\r\n       <use x=\"63.623047\" xlink:href=\"#DejaVuSans-30\"/>\r\n       <use x=\"127.246094\" xlink:href=\"#DejaVuSans-30\"/>\r\n       <use x=\"190.869141\" xlink:href=\"#DejaVuSans-30\"/>\r\n       <use x=\"254.492188\" xlink:href=\"#DejaVuSans-30\"/>\r\n      </g>\r\n     </g>\r\n    </g>\r\n    <g id=\"ytick_6\">\r\n     <g id=\"line2d_8\">\r\n      <g>\r\n       <use style=\"stroke:#000000;stroke-width:0.8;\" x=\"298.037937\" xlink:href=\"#m1e0a6d101b\" y=\"120.259573\"/>\r\n      </g>\r\n     </g>\r\n     <g id=\"text_14\">\r\n      <!-- 11000 -->\r\n      <g transform=\"translate(305.037937 124.058792)scale(0.1 -0.1)\">\r\n       <use xlink:href=\"#DejaVuSans-31\"/>\r\n       <use x=\"63.623047\" xlink:href=\"#DejaVuSans-31\"/>\r\n       <use x=\"127.246094\" xlink:href=\"#DejaVuSans-30\"/>\r\n       <use x=\"190.869141\" xlink:href=\"#DejaVuSans-30\"/>\r\n       <use x=\"254.492188\" xlink:href=\"#DejaVuSans-30\"/>\r\n      </g>\r\n     </g>\r\n    </g>\r\n    <g id=\"ytick_7\">\r\n     <g id=\"line2d_9\">\r\n      <g>\r\n       <use style=\"stroke:#000000;stroke-width:0.8;\" x=\"298.037937\" xlink:href=\"#m1e0a6d101b\" y=\"91.425201\"/>\r\n      </g>\r\n     </g>\r\n     <g id=\"text_15\">\r\n      <!-- 12000 -->\r\n      <g transform=\"translate(305.037937 95.22442)scale(0.1 -0.1)\">\r\n       <use xlink:href=\"#DejaVuSans-31\"/>\r\n       <use x=\"63.623047\" xlink:href=\"#DejaVuSans-32\"/>\r\n       <use x=\"127.246094\" xlink:href=\"#DejaVuSans-30\"/>\r\n       <use x=\"190.869141\" xlink:href=\"#DejaVuSans-30\"/>\r\n       <use x=\"254.492188\" xlink:href=\"#DejaVuSans-30\"/>\r\n      </g>\r\n     </g>\r\n    </g>\r\n    <g id=\"ytick_8\">\r\n     <g id=\"line2d_10\">\r\n      <g>\r\n       <use style=\"stroke:#000000;stroke-width:0.8;\" x=\"298.037937\" xlink:href=\"#m1e0a6d101b\" y=\"62.590829\"/>\r\n      </g>\r\n     </g>\r\n     <g id=\"text_16\">\r\n      <!-- 13000 -->\r\n      <g transform=\"translate(305.037937 66.390048)scale(0.1 -0.1)\">\r\n       <use xlink:href=\"#DejaVuSans-31\"/>\r\n       <use x=\"63.623047\" xlink:href=\"#DejaVuSans-33\"/>\r\n       <use x=\"127.246094\" xlink:href=\"#DejaVuSans-30\"/>\r\n       <use x=\"190.869141\" xlink:href=\"#DejaVuSans-30\"/>\r\n       <use x=\"254.492188\" xlink:href=\"#DejaVuSans-30\"/>\r\n      </g>\r\n     </g>\r\n    </g>\r\n    <g id=\"ytick_9\">\r\n     <g id=\"line2d_11\">\r\n      <g>\r\n       <use style=\"stroke:#000000;stroke-width:0.8;\" x=\"298.037937\" xlink:href=\"#m1e0a6d101b\" y=\"33.756457\"/>\r\n      </g>\r\n     </g>\r\n     <g id=\"text_17\">\r\n      <!-- 14000 -->\r\n      <g transform=\"translate(305.037937 37.555675)scale(0.1 -0.1)\">\r\n       <use xlink:href=\"#DejaVuSans-31\"/>\r\n       <use x=\"63.623047\" xlink:href=\"#DejaVuSans-34\"/>\r\n       <use x=\"127.246094\" xlink:href=\"#DejaVuSans-30\"/>\r\n       <use x=\"190.869141\" xlink:href=\"#DejaVuSans-30\"/>\r\n       <use x=\"254.492188\" xlink:href=\"#DejaVuSans-30\"/>\r\n      </g>\r\n     </g>\r\n    </g>\r\n   </g>\r\n   <g id=\"LineCollection_1\"/>\r\n   <g id=\"patch_9\">\r\n    <path d=\"M 287.165938 224.64 \r\nL 287.165938 223.790625 \r\nL 287.165938 8.049375 \r\nL 287.165938 7.2 \r\nL 298.037937 7.2 \r\nL 298.037937 8.049375 \r\nL 298.037937 223.790625 \r\nL 298.037937 224.64 \r\nz\r\n\" style=\"fill:none;stroke:#000000;stroke-linecap:square;stroke-linejoin:miter;stroke-width:0.8;\"/>\r\n   </g>\r\n  </g>\r\n </g>\r\n <defs>\r\n  <clipPath id=\"pd2da79e3a5\">\r\n   <rect height=\"217.44\" width=\"217.44\" x=\"52.985937\" y=\"7.2\"/>\r\n  </clipPath>\r\n  <clipPath id=\"p5ed836e9f3\">\r\n   <rect height=\"217.44\" width=\"10.872\" x=\"287.165938\" y=\"7.2\"/>\r\n  </clipPath>\r\n </defs>\r\n</svg>\r\n",
      "image/png": "[encoded data removed]"
     },
     "metadata": {
      "needs_background": "light"
     }
    }
   ],
   "source": [
    "import sklearn\n",
    "sklearn.metrics.plot_confusion_matrix(dtc, np.nan_to_num(np.array(X_test, dtype=float)), Y_test)"
   ]
  },
  {
   "cell_type": "code",
   "execution_count": null,
   "metadata": {},
   "outputs": [],
   "source": []
  }
 ],
 "metadata": {
  "kernelspec": {
   "name": "python388jvsc74a57bd0c6b843f3af2dabb1e3fbd5873f1c8dddaea821ff1dd89faafeae1498b4512a80",
   "display_name": "Python 3.8.8 64-bit ('m3': conda)"
  },
  "language_info": {
   "codemirror_mode": {
    "name": "ipython",
    "version": 3
   },
   "file_extension": ".py",
   "mimetype": "text/x-python",
   "name": "python",
   "nbconvert_exporter": "python",
   "pygments_lexer": "ipython3",
   "version": "3.8.8"
  }
 },
 "nbformat": 4,
 "nbformat_minor": 4
}