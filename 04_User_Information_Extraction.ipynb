{
 "metadata": {
  "language_info": {
   "codemirror_mode": {
    "name": "ipython",
    "version": 3
   },
   "file_extension": ".py",
   "mimetype": "text/x-python",
   "name": "python",
   "nbconvert_exporter": "python",
   "pygments_lexer": "ipython3",
   "version": "3.8.8"
  },
  "orig_nbformat": 2,
  "kernelspec": {
   "name": "python388jvsc74a57bd03b92691d56bfc9d5af752bc6654e963678e4150a6c1b95c958d07e2434145127",
   "display_name": "Python 3.8.8 64-bit ('m1': conda)"
  },
  "metadata": {
   "interpreter": {
    "hash": "3b92691d56bfc9d5af752bc6654e963678e4150a6c1b95c958d07e2434145127"
   }
  }
 },
 "nbformat": 4,
 "nbformat_minor": 2,
 "cells": [
  {
   "source": [
    "## Extract User Index from CSV/TSV"
   ],
   "cell_type": "markdown",
   "metadata": {}
  },
  {
   "cell_type": "code",
   "execution_count": 1,
   "metadata": {},
   "outputs": [],
   "source": [
    "data_location = \"data/downloaded_data\"\n",
    "temp_extraction_folder = \"data/tmp_user_mappings_w_type\"\n",
    "user_index_file = \"indices/user_index_w_type.parquet\""
   ]
  },
  {
   "cell_type": "code",
   "execution_count": 2,
   "metadata": {},
   "outputs": [
    {
     "output_type": "stream",
     "name": "stdout",
     "text": [
      "\n",
      "Extracting user information from 253 files \n",
      "\n",
      "[253/253][43.03 s/it]Writing File part-00121.tsv...\n",
      "Saved all extraction files to data/tmp_user_mappings_w_type!\n",
      "\n",
      "Creating index from 253 files \n",
      "\n",
      "[253/253][36.28 s/it]Final Concat with sort part-00136.tsv.parquet...\n",
      "Writing User Index to indices/user_index_w_type.parquet!\n",
      "CPU times: user 4h 2min 41s, sys: 37min 51s, total: 4h 40min 33s\n",
      "Wall time: 4h 53min 13s\n"
     ]
    }
   ],
   "source": [
    "%%time\n",
    "from utils import user_based\n",
    "\n",
    "user_based.extract_user_information(data_location, temp_extraction_folder, cutoff_timestamp=None)\n",
    "user_based.create_user_index(temp_extraction_folder, user_index_file)"
   ]
  },
  {
   "cell_type": "code",
   "execution_count": 3,
   "metadata": {},
   "outputs": [
    {
     "output_type": "execute_result",
     "data": {
      "text/plain": [
       "                      follower_count  following_count  verified  \\\n",
       "user_id                                                           \n",
       "135818039135                    1976             1816     False   \n",
       "172576553826                      12               23     False   \n",
       "682710903775                     487              477     False   \n",
       "2049088614082                    532              717     False   \n",
       "2307705279631                      1               65     False   \n",
       "...                              ...              ...       ...   \n",
       "18446740944060768855              55               33     False   \n",
       "18446741747024410398               0              165     False   \n",
       "18446742836979068699            1164             1673     False   \n",
       "18446743027311136627              27               46     False   \n",
       "18446743388464047409            1018             1054     False   \n",
       "\n",
       "                      account_creation  n_like_a_Quote  n_like_a_Retweet  \\\n",
       "user_id                                                                    \n",
       "135818039135                1349313262               0                 1   \n",
       "172576553826                1602322817               0                 0   \n",
       "682710903775                1417309686               1                 1   \n",
       "2049088614082               1403031460               0                 0   \n",
       "2307705279631               1598286192               0                 0   \n",
       "...                                ...             ...               ...   \n",
       "18446740944060768855        1604570426               0                 0   \n",
       "18446741747024410398        1604089009               0                 0   \n",
       "18446742836979068699        1417526046               0                 4   \n",
       "18446743027311136627        1596738343               1                 0   \n",
       "18446743388464047409        1462889373               0                46   \n",
       "\n",
       "                      n_like_a_TopLevel  n_like_b_Quote  n_like_b_Retweet  \\\n",
       "user_id                                                                     \n",
       "135818039135                          0               0                 0   \n",
       "172576553826                          0               0                 0   \n",
       "682710903775                          0               1                 1   \n",
       "2049088614082                         1               0                 0   \n",
       "2307705279631                         0               0                 0   \n",
       "...                                 ...             ...               ...   \n",
       "18446740944060768855                  0               0                 0   \n",
       "18446741747024410398                  0               0                 0   \n",
       "18446742836979068699                  0               0                 0   \n",
       "18446743027311136627                  0               1                 0   \n",
       "18446743388464047409                  2              37               184   \n",
       "\n",
       "                      n_like_b_TopLevel  ...  n_day_47  n_day_48  n_day_49  \\\n",
       "user_id                                  ...                                 \n",
       "135818039135                          0  ...         0         0         0   \n",
       "172576553826                          1  ...         0         0         0   \n",
       "682710903775                          2  ...         0         0         0   \n",
       "2049088614082                         0  ...         0         0         0   \n",
       "2307705279631                         0  ...         0         0         0   \n",
       "...                                 ...  ...       ...       ...       ...   \n",
       "18446740944060768855                  0  ...         0         0         0   \n",
       "18446741747024410398                  0  ...         0         0         0   \n",
       "18446742836979068699                  0  ...         0         0         0   \n",
       "18446743027311136627                  2  ...         0         0         0   \n",
       "18446743388464047409                452  ...        36        41        46   \n",
       "\n",
       "                      n_day_50  n_day_51  n_day_52  n_day_53  n_day_54  \\\n",
       "user_id                                                                  \n",
       "135818039135                 0         0         0         0         0   \n",
       "172576553826                 0         0         0         0         0   \n",
       "682710903775                 0         0         0         0         1   \n",
       "2049088614082                0         0         0         0         0   \n",
       "2307705279631                0         0         0         0         0   \n",
       "...                        ...       ...       ...       ...       ...   \n",
       "18446740944060768855         0         0         3         0         0   \n",
       "18446741747024410398         0         0         0         0         0   \n",
       "18446742836979068699         1         1         0         0         0   \n",
       "18446743027311136627         0         1         0         0         0   \n",
       "18446743388464047409        35        47       100        48        85   \n",
       "\n",
       "                      n_day_55  n_day_56  \n",
       "user_id                                   \n",
       "135818039135                 0         0  \n",
       "172576553826                 0         0  \n",
       "682710903775                 0         0  \n",
       "2049088614082                0         0  \n",
       "2307705279631                0         0  \n",
       "...                        ...       ...  \n",
       "18446740944060768855         1         0  \n",
       "18446741747024410398         0         0  \n",
       "18446742836979068699         0         0  \n",
       "18446743027311136627         0         0  \n",
       "18446743388464047409        80         2  \n",
       "\n",
       "[45278930 rows x 56 columns]"
      ],
      "text/html": "<div>\n<style scoped>\n    .dataframe tbody tr th:only-of-type {\n        vertical-align: middle;\n    }\n\n    .dataframe tbody tr th {\n        vertical-align: top;\n    }\n\n    .dataframe thead th {\n        text-align: right;\n    }\n</style>\n<table border=\"1\" class=\"dataframe\">\n  <thead>\n    <tr style=\"text-align: right;\">\n      <th></th>\n      <th>follower_count</th>\n      <th>following_count</th>\n      <th>verified</th>\n      <th>account_creation</th>\n      <th>n_like_a_Quote</th>\n      <th>n_like_a_Retweet</th>\n      <th>n_like_a_TopLevel</th>\n      <th>n_like_b_Quote</th>\n      <th>n_like_b_Retweet</th>\n      <th>n_like_b_TopLevel</th>\n      <th>...</th>\n      <th>n_day_47</th>\n      <th>n_day_48</th>\n      <th>n_day_49</th>\n      <th>n_day_50</th>\n      <th>n_day_51</th>\n      <th>n_day_52</th>\n      <th>n_day_53</th>\n      <th>n_day_54</th>\n      <th>n_day_55</th>\n      <th>n_day_56</th>\n    </tr>\n    <tr>\n      <th>user_id</th>\n      <th></th>\n      <th></th>\n      <th></th>\n      <th></th>\n      <th></th>\n      <th></th>\n      <th></th>\n      <th></th>\n      <th></th>\n      <th></th>\n      <th></th>\n      <th></th>\n      <th></th>\n      <th></th>\n      <th></th>\n      <th></th>\n      <th></th>\n      <th></th>\n      <th></th>\n      <th></th>\n      <th></th>\n    </tr>\n  </thead>\n  <tbody>\n    <tr>\n      <th>135818039135</th>\n      <td>1976</td>\n      <td>1816</td>\n      <td>False</td>\n      <td>1349313262</td>\n      <td>0</td>\n      <td>1</td>\n      <td>0</td>\n      <td>0</td>\n      <td>0</td>\n      <td>0</td>\n      <td>...</td>\n      <td>0</td>\n      <td>0</td>\n      <td>0</td>\n      <td>0</td>\n      <td>0</td>\n      <td>0</td>\n      <td>0</td>\n      <td>0</td>\n      <td>0</td>\n      <td>0</td>\n    </tr>\n    <tr>\n      <th>172576553826</th>\n      <td>12</td>\n      <td>23</td>\n      <td>False</td>\n      <td>1602322817</td>\n      <td>0</td>\n      <td>0</td>\n      <td>0</td>\n      <td>0</td>\n      <td>0</td>\n      <td>1</td>\n      <td>...</td>\n      <td>0</td>\n      <td>0</td>\n      <td>0</td>\n      <td>0</td>\n      <td>0</td>\n      <td>0</td>\n      <td>0</td>\n      <td>0</td>\n      <td>0</td>\n      <td>0</td>\n    </tr>\n    <tr>\n      <th>682710903775</th>\n      <td>487</td>\n      <td>477</td>\n      <td>False</td>\n      <td>1417309686</td>\n      <td>1</td>\n      <td>1</td>\n      <td>0</td>\n      <td>1</td>\n      <td>1</td>\n      <td>2</td>\n      <td>...</td>\n      <td>0</td>\n      <td>0</td>\n      <td>0</td>\n      <td>0</td>\n      <td>0</td>\n      <td>0</td>\n      <td>0</td>\n      <td>1</td>\n      <td>0</td>\n      <td>0</td>\n    </tr>\n    <tr>\n      <th>2049088614082</th>\n      <td>532</td>\n      <td>717</td>\n      <td>False</td>\n      <td>1403031460</td>\n      <td>0</td>\n      <td>0</td>\n      <td>1</td>\n      <td>0</td>\n      <td>0</td>\n      <td>0</td>\n      <td>...</td>\n      <td>0</td>\n      <td>0</td>\n      <td>0</td>\n      <td>0</td>\n      <td>0</td>\n      <td>0</td>\n      <td>0</td>\n      <td>0</td>\n      <td>0</td>\n      <td>0</td>\n    </tr>\n    <tr>\n      <th>2307705279631</th>\n      <td>1</td>\n      <td>65</td>\n      <td>False</td>\n      <td>1598286192</td>\n      <td>0</td>\n      <td>0</td>\n      <td>0</td>\n      <td>0</td>\n      <td>0</td>\n      <td>0</td>\n      <td>...</td>\n      <td>0</td>\n      <td>0</td>\n      <td>0</td>\n      <td>0</td>\n      <td>0</td>\n      <td>0</td>\n      <td>0</td>\n      <td>0</td>\n      <td>0</td>\n      <td>0</td>\n    </tr>\n    <tr>\n      <th>...</th>\n      <td>...</td>\n      <td>...</td>\n      <td>...</td>\n      <td>...</td>\n      <td>...</td>\n      <td>...</td>\n      <td>...</td>\n      <td>...</td>\n      <td>...</td>\n      <td>...</td>\n      <td>...</td>\n      <td>...</td>\n      <td>...</td>\n      <td>...</td>\n      <td>...</td>\n      <td>...</td>\n      <td>...</td>\n      <td>...</td>\n      <td>...</td>\n      <td>...</td>\n      <td>...</td>\n    </tr>\n    <tr>\n      <th>18446740944060768855</th>\n      <td>55</td>\n      <td>33</td>\n      <td>False</td>\n      <td>1604570426</td>\n      <td>0</td>\n      <td>0</td>\n      <td>0</td>\n      <td>0</td>\n      <td>0</td>\n      <td>0</td>\n      <td>...</td>\n      <td>0</td>\n      <td>0</td>\n      <td>0</td>\n      <td>0</td>\n      <td>0</td>\n      <td>3</td>\n      <td>0</td>\n      <td>0</td>\n      <td>1</td>\n      <td>0</td>\n    </tr>\n    <tr>\n      <th>18446741747024410398</th>\n      <td>0</td>\n      <td>165</td>\n      <td>False</td>\n      <td>1604089009</td>\n      <td>0</td>\n      <td>0</td>\n      <td>0</td>\n      <td>0</td>\n      <td>0</td>\n      <td>0</td>\n      <td>...</td>\n      <td>0</td>\n      <td>0</td>\n      <td>0</td>\n      <td>0</td>\n      <td>0</td>\n      <td>0</td>\n      <td>0</td>\n      <td>0</td>\n      <td>0</td>\n      <td>0</td>\n    </tr>\n    <tr>\n      <th>18446742836979068699</th>\n      <td>1164</td>\n      <td>1673</td>\n      <td>False</td>\n      <td>1417526046</td>\n      <td>0</td>\n      <td>4</td>\n      <td>0</td>\n      <td>0</td>\n      <td>0</td>\n      <td>0</td>\n      <td>...</td>\n      <td>0</td>\n      <td>0</td>\n      <td>0</td>\n      <td>1</td>\n      <td>1</td>\n      <td>0</td>\n      <td>0</td>\n      <td>0</td>\n      <td>0</td>\n      <td>0</td>\n    </tr>\n    <tr>\n      <th>18446743027311136627</th>\n      <td>27</td>\n      <td>46</td>\n      <td>False</td>\n      <td>1596738343</td>\n      <td>1</td>\n      <td>0</td>\n      <td>0</td>\n      <td>1</td>\n      <td>0</td>\n      <td>2</td>\n      <td>...</td>\n      <td>0</td>\n      <td>0</td>\n      <td>0</td>\n      <td>0</td>\n      <td>1</td>\n      <td>0</td>\n      <td>0</td>\n      <td>0</td>\n      <td>0</td>\n      <td>0</td>\n    </tr>\n    <tr>\n      <th>18446743388464047409</th>\n      <td>1018</td>\n      <td>1054</td>\n      <td>False</td>\n      <td>1462889373</td>\n      <td>0</td>\n      <td>46</td>\n      <td>2</td>\n      <td>37</td>\n      <td>184</td>\n      <td>452</td>\n      <td>...</td>\n      <td>36</td>\n      <td>41</td>\n      <td>46</td>\n      <td>35</td>\n      <td>47</td>\n      <td>100</td>\n      <td>48</td>\n      <td>85</td>\n      <td>80</td>\n      <td>2</td>\n    </tr>\n  </tbody>\n</table>\n<p>45278930 rows × 56 columns</p>\n</div>"
     },
     "metadata": {},
     "execution_count": 3
    }
   ],
   "source": [
    "import pandas as pd\n",
    "pd.read_parquet(\"indices/user_index_w_type.parquet\")"
   ]
  },
  {
   "cell_type": "code",
   "execution_count": null,
   "metadata": {},
   "outputs": [],
   "source": []
  }
 ]
}