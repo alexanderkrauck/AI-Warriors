{
 "metadata": {
  "language_info": {
   "codemirror_mode": {
    "name": "ipython",
    "version": 3
   },
   "file_extension": ".py",
   "mimetype": "text/x-python",
   "name": "python",
   "nbconvert_exporter": "python",
   "pygments_lexer": "ipython3",
   "version": "3.8.8"
  },
  "orig_nbformat": 2,
  "kernelspec": {
   "name": "python388jvsc74a57bd03b92691d56bfc9d5af752bc6654e963678e4150a6c1b95c958d07e2434145127",
   "display_name": "Python 3.8.8 64-bit ('m1': conda)"
  },
  "metadata": {
   "interpreter": {
    "hash": "3b92691d56bfc9d5af752bc6654e963678e4150a6c1b95c958d07e2434145127"
   }
  }
 },
 "nbformat": 4,
 "nbformat_minor": 2,
 "cells": [
  {
   "source": [
    "## Extract User Index from CSV/TSV"
   ],
   "cell_type": "markdown",
   "metadata": {}
  },
  {
   "cell_type": "code",
   "execution_count": null,
   "metadata": {},
   "outputs": [],
   "source": [
    "data_location = \"test_index_extr\"\n",
    "temp_extraction_folder = \"extraction_folder\"\n",
    "user_index_file = \"test_extr.parquet\""
   ]
  },
  {
   "cell_type": "code",
   "execution_count": 2,
   "metadata": {},
   "outputs": [
    {
     "output_type": "stream",
     "name": "stdout",
     "text": [
      "[2/2][0.00 s/it]Final Concat with sort part-00001.csv.parquet...\n",
      "Writing User Index to test_extr.parquet!\n"
     ]
    }
   ],
   "source": [
    "from utils import user_based\n",
    "\n",
    "user_based.extract_user_information(data_location, temp_extraction_folder)\n",
    "user_based.create_user_index(temp_extraction_folder, user_index_file)"
   ]
  },
  {
   "cell_type": "code",
   "execution_count": null,
   "metadata": {},
   "outputs": [],
   "source": []
  }
 ]
}