{
 "metadata": {
  "language_info": {
   "codemirror_mode": {
    "name": "ipython",
    "version": 3
   },
   "file_extension": ".py",
   "mimetype": "text/x-python",
   "name": "python",
   "nbconvert_exporter": "python",
   "pygments_lexer": "ipython3",
   "version": "3.8.8"
  },
  "orig_nbformat": 2,
  "kernelspec": {
   "name": "python388jvsc74a57bd03b92691d56bfc9d5af752bc6654e963678e4150a6c1b95c958d07e2434145127",
   "display_name": "Python 3.8.8 64-bit ('m1': conda)"
  },
  "metadata": {
   "interpreter": {
    "hash": "3b92691d56bfc9d5af752bc6654e963678e4150a6c1b95c958d07e2434145127"
   }
  }
 },
 "nbformat": 4,
 "nbformat_minor": 2,
 "cells": [
  {
   "source": [
    "## Train the model"
   ],
   "cell_type": "markdown",
   "metadata": {}
  },
  {
   "cell_type": "code",
   "execution_count": 1,
   "metadata": {},
   "outputs": [],
   "source": [
    "from utils import dataloader\n",
    "import utils.model\n",
    "from datetime import datetime\n",
    "from os.path import join\n",
    "from importlib import reload\n",
    "\n",
    "filter_timestamp = int(datetime(2021, 2, 19, 0).timestamp())\n",
    "use_user_index = join(\"indices\",\"train_user_index.parquet\")#\"train_user_index.parquet\"\n",
    "csv_data_location = join(\"data\",\"downloaded_data\")\n",
    "model_save_location = join(\"saved_models\",\"\")"
   ]
  },
  {
   "cell_type": "code",
   "execution_count": 2,
   "metadata": {},
   "outputs": [
    {
     "output_type": "stream",
     "name": "stdout",
     "text": [
      "Loading User Index\n",
      "Removing day counts\n",
      "Randomly keeping only 60.0% of the users.\n",
      "Created Dataloader in 20.15 seconds!\n"
     ]
    }
   ],
   "source": [
    "dl = dataloader.RecSys2021TSVDataLoader(csv_data_location, use_user_index, mode=\"train\", filter_timestamp=filter_timestamp, verbose=2, remove_day_counts=True, keep_user_percent=0.6)"
   ]
  },
  {
   "cell_type": "code",
   "execution_count": 3,
   "metadata": {},
   "outputs": [
    {
     "output_type": "stream",
     "name": "stdout",
     "text": [
      "Loaded Batch Nr. 1 in 24.30\n",
      "Timestamp Filtered Batch Nr. 1 in 0.53\n",
      "Did prepro part 1 of 1 in 0.59\n",
      "Did prepro part 2 of 1 in 31.77\n",
      "Did prepro part 3 of 1 in 0.12\n",
      "Merged Users of 1 in 10.86\n",
      "Extracted TE of 1 in 2.05\n",
      "Finished Batch Nr. 1 from file part-00000.tsv in 75.77s!\n",
      "CPU times: user 1min 9s, sys: 3.58 s, total: 1min 12s\n",
      "Wall time: 1min 17s\n"
     ]
    }
   ],
   "source": [
    "%%time\n",
    "data = next(iter(dl))\n",
    "train_data = data[0]\n",
    "quantiles = data[1]\n",
    "labels = data[2]"
   ]
  },
  {
   "cell_type": "code",
   "execution_count": 4,
   "metadata": {},
   "outputs": [
    {
     "output_type": "stream",
     "name": "stdout",
     "text": [
      "CPU times: user 59min 13s, sys: 40 s, total: 59min 53s\nWall time: 8min 45s\n"
     ]
    }
   ],
   "source": [
    "%%time\n",
    "recsysxgb = utils.model.RecSysXGB1()\n",
    "xgb_params = {'objective': 'binary:logistic', 'eval_metric':'map', 'max_depth':15}\n",
    "recsysxgb.train_in_memory(\n",
    "    train_set = train_data, \n",
    "    quantiles = quantiles, \n",
    "    targets = labels, \n",
    "    xgb_parameters = xgb_params, \n",
    "    save_dir = model_save_location\n",
    "    )"
   ]
  },
  {
   "source": [
    "## Evaluate the model"
   ],
   "cell_type": "markdown",
   "metadata": {}
  },
  {
   "cell_type": "code",
   "execution_count": 9,
   "metadata": {},
   "outputs": [
    {
     "output_type": "stream",
     "name": "stdout",
     "text": [
      "Loading User Index\n",
      "Removing day counts\n",
      "Randomly keeping only 40.0% of the users.\n",
      "Created Dataloader in 11.35 seconds!\n"
     ]
    }
   ],
   "source": [
    "recsysxgb = utils.model.RecSysXGB1(model_save_location)\n",
    "dl = dataloader.RecSys2021TSVDataLoader(\n",
    "    data_directory = csv_data_location, \n",
    "    user_index_location = join(\"indices\",\"user_index.parquet\"),#use_user_index, \n",
    "    mode=\"val\", \n",
    "    filter_timestamp=filter_timestamp, \n",
    "    verbose=2, \n",
    "    random_file_sampling=True, \n",
    "    load_n_batches=1, \n",
    "    remove_day_counts=True,\n",
    "    keep_user_percent=0.4\n",
    ")"
   ]
  },
  {
   "cell_type": "code",
   "execution_count": 10,
   "metadata": {},
   "outputs": [
    {
     "output_type": "stream",
     "name": "stdout",
     "text": [
      "Loaded Batch Nr. 1 in 21.37\n",
      "Timestamp Filtered Batch Nr. 1 in 0.40\n",
      "Did prepro part 1 of 1 in 0.23\n",
      "Did prepro part 2 of 1 in 11.15\n",
      "Did prepro part 3 of 1 in 0.04\n",
      "Merged Users of 1 in 7.34\n",
      "Extracted TE of 1 in 1.40\n",
      "Finished Batch Nr. 1 from file part-00197.tsv in 44.24s!\n"
     ]
    }
   ],
   "source": [
    "res = recsysxgb.evaluate_validation_set(dl)"
   ]
  },
  {
   "cell_type": "code",
   "execution_count": 11,
   "metadata": {},
   "outputs": [
    {
     "output_type": "stream",
     "name": "stdout",
     "text": [
      "Q1_reply_rce                    : 22.729220073921987\nQ1_retweet_rce                  : 26.151030010784282\nQ1_retweet_comment_rce          : -9.780654431664804\nQ1_like_rce                     : 21.09037327931468\nQ1_reply_avg_prec               : 0.3336286918695288\nQ1_retweet_avg_prec             : 0.46209248120849516\nQ1_retweet_comment_avg_prec     : 0.15533765934336405\nQ1_like_avg_prec                : 0.740558434702396\nQ2_reply_rce                    : 19.618270593603004\nQ2_retweet_rce                  : 22.28028927275042\nQ2_retweet_comment_rce          : -14.346606375277581\nQ2_like_rce                     : 17.487896762235643\nQ2_reply_avg_prec               : 0.27621584326400306\nQ2_retweet_avg_prec             : 0.4043430392308498\nQ2_retweet_comment_avg_prec     : 0.12160858236590194\nQ2_like_avg_prec                : 0.6889167457883101\nQ3_reply_rce                    : 17.192485094446873\nQ3_retweet_rce                  : 19.775637805773293\nQ3_retweet_comment_rce          : -17.13246900063774\nQ3_like_rce                     : 16.077552576653776\nQ3_reply_avg_prec               : 0.2524822897135828\nQ3_retweet_avg_prec             : 0.3767518057975704\nQ3_retweet_comment_avg_prec     : 0.08305612672959746\nQ3_like_avg_prec                : 0.6701396306566635\nQ4_reply_rce                    : 12.562656722256149\nQ4_retweet_rce                  : 18.390851297768616\nQ4_retweet_comment_rce          : -20.044808369075206\nQ4_like_rce                     : 15.303642038206466\nQ4_reply_avg_prec               : 0.20260223248588616\nQ4_retweet_avg_prec             : 0.3612778185674196\nQ4_retweet_comment_avg_prec     : 0.07996937407923545\nQ4_like_avg_prec                : 0.6542664829608682\nQ5_reply_rce                    : 3.780432550433288\nQ5_retweet_rce                  : 14.128661232982875\nQ5_retweet_comment_rce          : -22.65020936511515\nQ5_like_rce                     : 14.637104098714527\nQ5_reply_avg_prec               : 0.16115121236870728\nQ5_retweet_avg_prec             : 0.2666365038773023\nQ5_retweet_comment_avg_prec     : 0.061316293033339686\nQ5_like_avg_prec                : 0.6272092112569609\nTOTAL_reply_rce                 : 15.17661300693226\nTOTAL_retweet_rce               : 20.1452939240119\nTOTAL_retweet_comment_rce       : -16.790949508354096\nTOTAL_like_rce                  : 16.91931375102502\nTOTAL_reply_avg_prec            : 0.24521605394034163\nTOTAL_retweet_avg_prec          : 0.37422032973632746\nTOTAL_retweet_comment_avg_prec  : 0.10025760711028771\nTOTAL_like_avg_prec             : 0.6762181010730398\n"
     ]
    }
   ],
   "source": [
    "for key in res:\n",
    "    print(f\"{key:32}: {res[key]}\")"
   ]
  },
  {
   "cell_type": "code",
   "execution_count": 12,
   "metadata": {},
   "outputs": [
    {
     "output_type": "execute_result",
     "data": {
      "text/plain": [
       "{'type_encoding': 107.09208680142642,\n",
       " 'a_follows_b': 71.13019857198053,\n",
       " 'TE_reply_b_B': 62.4715877740013,\n",
       " 'TE_reply_a_A': 30.63367578810191,\n",
       " 'n_reply_b_B': 25.503888169851507,\n",
       " 'n_like_b_B': 18.849285707841,\n",
       " 'TE_like_b_A': 17.795373948141187,\n",
       " 'n_reply_a_A': 15.689319692110734,\n",
       " 'TE_retweet_comment_a_B': 11.730206456717488,\n",
       " 'n_present_a_A': 11.281252995845886,\n",
       " 'TE_like_b_B': 8.907177979841684,\n",
       " 'TE_like_a_B': 6.787289813129181,\n",
       " 'n_present_b_B': 6.184094191282754,\n",
       " 'TE_retweet_a_B': 5.310141026260722,\n",
       " 'n_like_a_A': 5.234576240058882,\n",
       " 'TE_retweet_b_B': 4.947445741521798,\n",
       " 'TE_like_a_A': 4.72830560476688,\n",
       " 'language_encoding': 4.628020425325446,\n",
       " 'n_retweet_b_A': 4.139456082878347,\n",
       " 'bert_token_len': 4.132712419106702,\n",
       " 'a_follower_count': 4.079159386188082,\n",
       " 'n_photos': 3.9480506393699124,\n",
       " 'TE_reply_a_B': 3.9379830537976117,\n",
       " 'n_present_a_B': 3.883223687553503,\n",
       " 'n_reply_a_B': 3.805701231468646,\n",
       " 'n_like_a_B': 3.8025541985251543,\n",
       " 'n_present_b_A': 3.7770048679311787,\n",
       " 'TE_reply_b_A': 3.7728161005305334,\n",
       " 'a_following_count': 3.7724770276109267,\n",
       " 'n_retweet_a_A': 3.769171506454804,\n",
       " 'n_like_b_A': 3.7517037320539477,\n",
       " 'b_creation_delta': 3.695350924082188,\n",
       " 'TE_retweet_comment_b_B': 3.6806834173418763,\n",
       " 'TE_retweet_b_A': 3.657030889331899,\n",
       " 'TE_retweet_a_A': 3.588713582713874,\n",
       " 'b_follower_count': 3.585700342276738,\n",
       " 'n_retweet_a_B': 3.5249836354729918,\n",
       " 'n_retweet_b_B': 3.512450021562562,\n",
       " 'a_is_verified': 3.4808884449722224,\n",
       " 'a_creation_delta': 3.4553892684664005,\n",
       " 'TE_retweet_comment_b_A': 3.453353098446765,\n",
       " 'TE_retweet_comment_a_A': 3.4097372029403803,\n",
       " 'b_following_count': 3.3953248714941084,\n",
       " 'n_retweet_comment_b_B': 3.325586159292819,\n",
       " 'n_reply_b_A': 3.300288864539402,\n",
       " 'n_retweet_comment_a_B': 3.2866481362592586,\n",
       " 'hour_of_day': 3.2824707585517894,\n",
       " 'a_b_creation_delta': 3.2606396345561084,\n",
       " 'day_of_week': 3.201667991302768,\n",
       " 'n_retweet_comment_a_A': 3.130694860157067,\n",
       " 'n_retweet_comment_b_A': 2.900651441303402,\n",
       " 'b_is_verified': 2.818059072777778,\n",
       " 'n_videos': 2.50441362445082,\n",
       " 'n_gifs': 2.3082399676129035}"
      ]
     },
     "metadata": {},
     "execution_count": 12
    }
   ],
   "source": [
    "dict(sorted(recsysxgb.clfs_[\"has_reply\"].get_score(importance_type='gain').items(), key=lambda item: item[1],reverse=True))"
   ]
  },
  {
   "source": [
    "## Try sample test run"
   ],
   "cell_type": "markdown",
   "metadata": {}
  },
  {
   "cell_type": "code",
   "execution_count": null,
   "metadata": {},
   "outputs": [],
   "source": [
    "import utils.model\n",
    "import utils.dataloader\n",
    "\n",
    "dl = utils.dataloader.RecSys2021TSVDataLoader(\"test\", \"user_index.parquet\", mode=\"test\", load_n_batches=-1)\n",
    "recsysxgb = utils.model.RecSysXGB1(\"xgb_models_05_submission\")\n",
    "\n",
    "recsysxgb.evaluate_test_set(testLoader = dl, output_file = \"res.csv\")"
   ]
  },
  {
   "source": [
    "## Testing Custom batch sizes"
   ],
   "cell_type": "markdown",
   "metadata": {}
  },
  {
   "cell_type": "code",
   "execution_count": 1,
   "metadata": {},
   "outputs": [],
   "source": [
    "from utils import dataloader\n",
    "from utils import dataloader\n",
    "import utils.model\n",
    "from datetime import datetime\n",
    "from os.path import join\n",
    "\n",
    "filter_timestamp = None#int(datetime(2021, 2, 19, 0).timestamp())\n",
    "use_user_index = join(\"indices\",\"user_index.parquet\")#\"train_user_index.parquet\"\n",
    "csv_data_location = join(\"data\",\"test_files\")\n",
    "model_save_location = join(\"saved_models\",\"xgb_models_06_submission\")"
   ]
  },
  {
   "cell_type": "code",
   "execution_count": 2,
   "metadata": {},
   "outputs": [],
   "source": [
    "dl = dataloader.RecSys2021TSVDataLoader(csv_data_location, use_user_index, mode=\"test\", filter_timestamp=filter_timestamp, load_n_batches=-1, batch_size=1000000, verbose=2, random_file_sampling=True)"
   ]
  },
  {
   "cell_type": "code",
   "execution_count": 3,
   "metadata": {},
   "outputs": [
    {
     "output_type": "stream",
     "name": "stdout",
     "text": [
      "just one\n",
      "1000000\n",
      "Loaded Batch Nr. 1 in 6.10\n",
      "Timestamp Filtered Batch Nr. 1 in 0.00\n",
      "Did prepro part 1 of 1 in 0.20\n",
      "Did prepro part 2 of 1 in 11.80\n",
      "Did prepro part 3 of 1 in 0.05\n",
      "Merged Users of 1 in 21.76\n",
      "Extracted TE of 1 in 3.21\n",
      "Finished Batch Nr. 1 from file part-00003.csv in 45.47s!\n",
      "just one\n",
      "1000000\n",
      "Loaded Batch Nr. 2 in 7.32\n",
      "Timestamp Filtered Batch Nr. 2 in 0.00\n",
      "Did prepro part 1 of 2 in 0.20\n",
      "Did prepro part 2 of 2 in 11.87\n",
      "Did prepro part 3 of 2 in 0.05\n",
      "Merged Users of 2 in 22.05\n",
      "Extracted TE of 2 in 3.20\n",
      "Finished Batch Nr. 2 from file part-00003.csv in 47.02s!\n",
      "just one\n",
      "1000000\n",
      "Loaded Batch Nr. 3 in 8.79\n",
      "Timestamp Filtered Batch Nr. 3 in 0.00\n",
      "Did prepro part 1 of 3 in 0.20\n",
      "Did prepro part 2 of 3 in 11.85\n",
      "Did prepro part 3 of 3 in 0.05\n",
      "Merged Users of 3 in 22.73\n",
      "Extracted TE of 3 in 3.20\n",
      "Finished Batch Nr. 3 from file part-00003.csv in 49.16s!\n",
      "more than one 1000000\n",
      "1000000\n",
      "Loaded Batch Nr. 4 in 12.99\n",
      "Timestamp Filtered Batch Nr. 4 in 0.00\n",
      "Did prepro part 1 of 4 in 0.20\n",
      "Did prepro part 2 of 4 in 11.84\n",
      "Did prepro part 3 of 4 in 0.05\n",
      "Merged Users of 4 in 20.62\n",
      "Extracted TE of 4 in 3.22\n",
      "Finished Batch Nr. 4 from file part-00002.csv in 51.52s!\n",
      "just one\n",
      "1000000\n",
      "Loaded Batch Nr. 5 in 9.31\n",
      "Timestamp Filtered Batch Nr. 5 in 0.00\n",
      "Did prepro part 1 of 5 in 0.20\n",
      "Did prepro part 2 of 5 in 11.78\n",
      "Did prepro part 3 of 5 in 0.05\n",
      "Merged Users of 5 in 21.59\n",
      "Extracted TE of 5 in 3.18\n",
      "Finished Batch Nr. 5 from file part-00002.csv in 48.45s!\n",
      "just one\n",
      "1000000\n",
      "Loaded Batch Nr. 6 in 10.75\n",
      "Timestamp Filtered Batch Nr. 6 in 0.00\n",
      "Did prepro part 1 of 6 in 0.20\n",
      "Did prepro part 2 of 6 in 11.86\n",
      "Did prepro part 3 of 6 in 0.05\n",
      "Merged Users of 6 in 21.92\n",
      "Extracted TE of 6 in 3.19\n",
      "Finished Batch Nr. 6 from file part-00002.csv in 50.29s!\n",
      "just one\n",
      "21788\n",
      "Loaded Batch Nr. 7 in 5.44\n",
      "Timestamp Filtered Batch Nr. 7 in 0.00\n",
      "Did prepro part 1 of 7 in 0.01\n",
      "Did prepro part 2 of 7 in 0.26\n",
      "Did prepro part 3 of 7 in 0.00\n",
      "Merged Users of 7 in 20.21\n",
      "Extracted TE of 7 in 3.00\n",
      "Finished Batch Nr. 7 from file part-00002.csv in 29.01s!\n"
     ]
    }
   ],
   "source": [
    "r = [a[1] for a in dl]"
   ]
  },
  {
   "cell_type": "code",
   "execution_count": 4,
   "metadata": {},
   "outputs": [
    {
     "output_type": "stream",
     "name": "stdout",
     "text": [
      "1000000\n1000000\n1000000\n1000000\n1000000\n1000000\n21788\n"
     ]
    }
   ],
   "source": [
    "for df in r:\n",
    "    print(len(df))"
   ]
  },
  {
   "cell_type": "code",
   "execution_count": 17,
   "metadata": {},
   "outputs": [],
   "source": [
    "import utils.features as fe\n",
    "import utils.constants as co\n",
    "import pandas as pd\n",
    "import numpy as np"
   ]
  },
  {
   "cell_type": "code",
   "execution_count": 12,
   "metadata": {},
   "outputs": [],
   "source": [
    "current_file = pd.read_csv(\n",
    "                \"data/test_files/part-00002.csv\",\n",
    "                sep='\\x01',\n",
    "                header=None,\n",
    "                names=co.all_features,\n",
    "                dtype={k: v for k, v in co.dtypes_of_features.items() if k in co.all_features}\n",
    "            )"
   ]
  },
  {
   "cell_type": "code",
   "execution_count": 14,
   "metadata": {},
   "outputs": [],
   "source": [
    "current_file[\"medias\"] = current_file[\"medias\"].fillna(\"\")\n",
    "current_file[\"hashtags\"] = current_file[\"hashtags\"].fillna(\"\")\n",
    "current_file[\"links\"] = current_file[\"links\"].fillna(\"\")\n",
    "current_file[\"domains\"] = current_file[\"domains\"].fillna(\"\")\n",
    "current_file[\"medias\"] = current_file[\"medias\"].fillna(\"\")"
   ]
  },
  {
   "cell_type": "code",
   "execution_count": 27,
   "metadata": {},
   "outputs": [
    {
     "output_type": "execute_result",
     "data": {
      "text/plain": [
       "{-0.9502129554748535, 1.0, 2.0, 3.0, 4.000000476837158, 5.0, 7.0}"
      ]
     },
     "metadata": {},
     "execution_count": 27
    }
   ],
   "source": [
    "import numpy as np\n",
    "set(np.exp(train_data[\"n_gifs\"]+ train_data[\"n_photos\"] +train_data[\"n_videos\"])-1)"
   ]
  },
  {
   "source": [
    "# Other"
   ],
   "cell_type": "markdown",
   "metadata": {}
  },
  {
   "cell_type": "code",
   "execution_count": null,
   "metadata": {},
   "outputs": [],
   "source": []
  }
 ]
}