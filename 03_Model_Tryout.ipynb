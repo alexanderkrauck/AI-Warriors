{
 "metadata": {
  "language_info": {
   "codemirror_mode": {
    "name": "ipython",
    "version": 3
   },
   "file_extension": ".py",
   "mimetype": "text/x-python",
   "name": "python",
   "nbconvert_exporter": "python",
   "pygments_lexer": "ipython3",
   "version": "3.8.8"
  },
  "orig_nbformat": 2,
  "kernelspec": {
   "name": "python388jvsc74a57bd0c6b843f3af2dabb1e3fbd5873f1c8dddaea821ff1dd89faafeae1498b4512a80",
   "display_name": "Python 3.8.8 64-bit ('m3': conda)"
  }
 },
 "nbformat": 4,
 "nbformat_minor": 2,
 "cells": [
  {
   "cell_type": "code",
   "execution_count": 74,
   "metadata": {},
   "outputs": [],
   "source": [
    "import utils.model\n",
    "import pandas as pd\n",
    "import utils.constants\n",
    "import sklearn\n",
    "import numpy as np"
   ]
  },
  {
   "cell_type": "code",
   "execution_count": 75,
   "metadata": {},
   "outputs": [],
   "source": [
    "train_data = pd.read_parquet(\"preprocessed_training_features\\\\part.0.parquet\")\n",
    "test_data = pd.read_parquet(\"preprocessed_validation_features\\\\part.1.parquet\")\n",
    "feature_columns_w_TE = ['a_is_verified', 'b_is_verified',\n",
    "       'a_follows_b', 'bert_token_len',\n",
    "        'n_photos', 'n_videos', 'n_gifs',\n",
    "       'type_encoding', 'language_encoding', 'a_followers', 'a_following',\n",
    "       'b_followers', 'b_following', 'day_of_week', 'hour_of_day',\n",
    "       'b_creation_delta', 'a_creation_delta', 'TE_language_encoding_has_reply',\n",
    "       'TE_language_encoding_has_like',\n",
    "       'TE_language_encoding_has_retweet_comment',\n",
    "       'TE_language_encoding_has_retweet', 'TE_type_encoding_has_reply',\n",
    "       'TE_type_encoding_has_like', 'TE_type_encoding_has_retweet_comment',\n",
    "       'TE_type_encoding_has_retweet', 'TE_a_hash_has_reply',\n",
    "       'TE_a_hash_has_like', 'TE_a_hash_has_retweet_comment',\n",
    "       'TE_a_hash_has_retweet', 'TE_b_hash_has_reply', 'TE_b_hash_has_like',\n",
    "       'TE_b_hash_has_retweet_comment', 'TE_b_hash_has_retweet',\n",
    "       'TE_tweet_hash_has_reply', 'TE_tweet_hash_has_like',\n",
    "       'TE_tweet_hash_has_retweet_comment', 'TE_tweet_hash_has_retweet']\n",
    "\n",
    "feature_columns_wo_TE = ['a_is_verified', 'b_is_verified',\n",
    "       'a_follows_b', 'bert_token_len',\n",
    "        'n_photos', 'n_videos', 'n_gifs',\n",
    "       'type_encoding', 'language_encoding', 'a_followers', 'a_following',\n",
    "       'b_followers', 'b_following', 'day_of_week', 'hour_of_day',\n",
    "       'b_creation_delta', 'a_creation_delta']"
   ]
  },
  {
   "cell_type": "code",
   "execution_count": 76,
   "metadata": {},
   "outputs": [],
   "source": [
    "def random_mask_columns(df, columns, prob=0.75):\n",
    "    inds = np.random.binomial(1, prob, size = len(df)).astype(bool)\n",
    "    cols = df[columns]\n",
    "    cols.loc[inds] = -1\n",
    "    df[columns] = cols\n",
    "    return df"
   ]
  },
  {
   "cell_type": "code",
   "execution_count": 77,
   "metadata": {},
   "outputs": [
    {
     "output_type": "stream",
     "name": "stderr",
     "text": [
      "C:\\Users\\alexa\\.conda\\envs\\m3\\lib\\site-packages\\pandas\\core\\indexing.py:1637: SettingWithCopyWarning: \nA value is trying to be set on a copy of a slice from a DataFrame\n\nSee the caveats in the documentation: https://pandas.pydata.org/pandas-docs/stable/user_guide/indexing.html#returning-a-view-versus-a-copy\n  self._setitem_single_block(indexer, value, name)\nC:\\Users\\alexa\\.conda\\envs\\m3\\lib\\site-packages\\pandas\\core\\indexing.py:692: SettingWithCopyWarning: \nA value is trying to be set on a copy of a slice from a DataFrame\n\nSee the caveats in the documentation: https://pandas.pydata.org/pandas-docs/stable/user_guide/indexing.html#returning-a-view-versus-a-copy\n  iloc._setitem_with_indexer(indexer, value, self.name)\n"
     ]
    }
   ],
   "source": [
    "train_data = random_mask_columns(train_data, ['TE_a_hash_has_reply','TE_a_hash_has_like', 'TE_a_hash_has_retweet_comment','TE_a_hash_has_retweet'])\n",
    "train_data = random_mask_columns(train_data, ['TE_b_hash_has_reply', 'TE_b_hash_has_like','TE_b_hash_has_retweet_comment', 'TE_b_hash_has_retweet'])\n",
    "train_data = random_mask_columns(train_data, ['TE_tweet_hash_has_reply', 'TE_tweet_hash_has_like','TE_tweet_hash_has_retweet_comment', 'TE_tweet_hash_has_retweet'])"
   ]
  },
  {
   "cell_type": "code",
   "execution_count": 78,
   "metadata": {},
   "outputs": [],
   "source": [
    "recsysxgb = utils.model.RecSysXGB1()\n",
    "xgb_params = {}\n",
    "recsysxgb.train_in_memory(train_data, feature_columns_w_TE, xgb_params, save_dir = \"xgb_models_02\")#add random mask for train data."
   ]
  },
  {
   "cell_type": "code",
   "execution_count": 79,
   "metadata": {},
   "outputs": [
    {
     "output_type": "execute_result",
     "data": {
      "text/plain": [
       "0.5312441418042868"
      ]
     },
     "metadata": {},
     "execution_count": 79
    }
   ],
   "source": [
    "reply_preds = recsysxgb.infer(test_data, feature_columns_w_TE)[0].round()\n",
    "sklearn.metrics.balanced_accuracy_score(test_data[\"has_reply\"]*1, reply_preds)"
   ]
  },
  {
   "cell_type": "code",
   "execution_count": 46,
   "metadata": {},
   "outputs": [
    {
     "output_type": "execute_result",
     "data": {
      "text/plain": [
       "{'type_encoding': 6.735549957290475,\n",
       " 'a_following': 0.9120658620693751,\n",
       " 'a_followers': 0.6897891438032256,\n",
       " 'bert_token_len': 0.5917634113366074,\n",
       " 'b_creation_delta': 0.8853121142012197,\n",
       " 'b_following': 0.4089456562056862,\n",
       " 'a_follows_b': 17.32100898075917,\n",
       " 'a_creation_delta': 0.6601634136229168,\n",
       " 'b_followers': 0.6879049905094342,\n",
       " 'language_encoding': 1.5264849263395355,\n",
       " 'b_is_verified': 0.447631836,\n",
       " 'n_videos': 0.295476071725,\n",
       " 'n_photos': 0.4783401376125,\n",
       " 'day_of_week': 0.8069416331666668,\n",
       " 'a_is_verified': 0.5554869656666667,\n",
       " 'hour_of_day': 0.6142008418461539,\n",
       " 'n_gifs': 0.651608705}"
      ]
     },
     "metadata": {},
     "execution_count": 46
    }
   ],
   "source": [
    "recsysxgb.clfs_[\"has_reply\"].get_score(importance_type=\"gain\")"
   ]
  },
  {
   "cell_type": "code",
   "execution_count": 3,
   "metadata": {},
   "outputs": [
    {
     "output_type": "execute_result",
     "data": {
      "text/plain": [
       "                                        0                                 1  \\\n",
       "0        86E96F830895E40DAB8F24F86D83B86E  74D5CE3C365903C64566F9FA5BEECB9C   \n",
       "1        AEE204C567095381322449234EE86E81  9E2A5163444B160FCE11466F2FBA8916   \n",
       "2        9CA1C34EC7E003A5024D84CDED5F9F2A  BA119634422E2546D7DBABB6A5982EEF   \n",
       "3        369D6820D2C39E2E6028EC871E8AF2D7  2B8C960A90BEDC328D682E0E70226793   \n",
       "4        3A4270400ADBF900DD170EFE73CE7622  72C2F73E3F9E85735BC12772E7F1E00C   \n",
       "...                                   ...                               ...   \n",
       "6021783  CD19AB894ABA72AD6C4B9D4BD82E4026  8522351239353E85F111767F8B25C34A   \n",
       "6021784  C4D0567E0D7BAA9206A8FE785BB91FB7  2CFA280F4AD55CEE5E782633977E5AF4   \n",
       "6021785  8E41EA985DB24BF917DC2F08E84D6889  43092FC9E166FD48ECD6609F45CD442B   \n",
       "6021786  F1D9CB611711282AD81EDB54727C177F  74D9CFFF7F2298849DA86C8A6F2BAB3F   \n",
       "6021787  4A9A556334F87E7AFC9239E491FF99A5  25CB7D16D3910254EA4F7BACA123C339   \n",
       "\n",
       "                2         3         4         5  \n",
       "0        0.019257  0.115212  0.022055  0.326475  \n",
       "1        0.038524  0.034698  0.017495  0.621212  \n",
       "2        0.116512  0.092753  0.038210  0.492120  \n",
       "3        0.036331  0.045587  0.014722  0.673827  \n",
       "4        0.020974  0.114041  0.018272  0.232942  \n",
       "...           ...       ...       ...       ...  \n",
       "6021783  0.075917  0.041989  0.016296  0.348669  \n",
       "6021784  0.034605  0.133356  0.027635  0.498689  \n",
       "6021785  0.048031  0.063350  0.018975  0.481854  \n",
       "6021786  0.032689  0.080162  0.023664  0.492081  \n",
       "6021787  0.068773  0.049890  0.019978  0.528264  \n",
       "\n",
       "[6021788 rows x 6 columns]"
      ],
      "text/html": "<div>\n<style scoped>\n    .dataframe tbody tr th:only-of-type {\n        vertical-align: middle;\n    }\n\n    .dataframe tbody tr th {\n        vertical-align: top;\n    }\n\n    .dataframe thead th {\n        text-align: right;\n    }\n</style>\n<table border=\"1\" class=\"dataframe\">\n  <thead>\n    <tr style=\"text-align: right;\">\n      <th></th>\n      <th>0</th>\n      <th>1</th>\n      <th>2</th>\n      <th>3</th>\n      <th>4</th>\n      <th>5</th>\n    </tr>\n  </thead>\n  <tbody>\n    <tr>\n      <th>0</th>\n      <td>86E96F830895E40DAB8F24F86D83B86E</td>\n      <td>74D5CE3C365903C64566F9FA5BEECB9C</td>\n      <td>0.019257</td>\n      <td>0.115212</td>\n      <td>0.022055</td>\n      <td>0.326475</td>\n    </tr>\n    <tr>\n      <th>1</th>\n      <td>AEE204C567095381322449234EE86E81</td>\n      <td>9E2A5163444B160FCE11466F2FBA8916</td>\n      <td>0.038524</td>\n      <td>0.034698</td>\n      <td>0.017495</td>\n      <td>0.621212</td>\n    </tr>\n    <tr>\n      <th>2</th>\n      <td>9CA1C34EC7E003A5024D84CDED5F9F2A</td>\n      <td>BA119634422E2546D7DBABB6A5982EEF</td>\n      <td>0.116512</td>\n      <td>0.092753</td>\n      <td>0.038210</td>\n      <td>0.492120</td>\n    </tr>\n    <tr>\n      <th>3</th>\n      <td>369D6820D2C39E2E6028EC871E8AF2D7</td>\n      <td>2B8C960A90BEDC328D682E0E70226793</td>\n      <td>0.036331</td>\n      <td>0.045587</td>\n      <td>0.014722</td>\n      <td>0.673827</td>\n    </tr>\n    <tr>\n      <th>4</th>\n      <td>3A4270400ADBF900DD170EFE73CE7622</td>\n      <td>72C2F73E3F9E85735BC12772E7F1E00C</td>\n      <td>0.020974</td>\n      <td>0.114041</td>\n      <td>0.018272</td>\n      <td>0.232942</td>\n    </tr>\n    <tr>\n      <th>...</th>\n      <td>...</td>\n      <td>...</td>\n      <td>...</td>\n      <td>...</td>\n      <td>...</td>\n      <td>...</td>\n    </tr>\n    <tr>\n      <th>6021783</th>\n      <td>CD19AB894ABA72AD6C4B9D4BD82E4026</td>\n      <td>8522351239353E85F111767F8B25C34A</td>\n      <td>0.075917</td>\n      <td>0.041989</td>\n      <td>0.016296</td>\n      <td>0.348669</td>\n    </tr>\n    <tr>\n      <th>6021784</th>\n      <td>C4D0567E0D7BAA9206A8FE785BB91FB7</td>\n      <td>2CFA280F4AD55CEE5E782633977E5AF4</td>\n      <td>0.034605</td>\n      <td>0.133356</td>\n      <td>0.027635</td>\n      <td>0.498689</td>\n    </tr>\n    <tr>\n      <th>6021785</th>\n      <td>8E41EA985DB24BF917DC2F08E84D6889</td>\n      <td>43092FC9E166FD48ECD6609F45CD442B</td>\n      <td>0.048031</td>\n      <td>0.063350</td>\n      <td>0.018975</td>\n      <td>0.481854</td>\n    </tr>\n    <tr>\n      <th>6021786</th>\n      <td>F1D9CB611711282AD81EDB54727C177F</td>\n      <td>74D9CFFF7F2298849DA86C8A6F2BAB3F</td>\n      <td>0.032689</td>\n      <td>0.080162</td>\n      <td>0.023664</td>\n      <td>0.492081</td>\n    </tr>\n    <tr>\n      <th>6021787</th>\n      <td>4A9A556334F87E7AFC9239E491FF99A5</td>\n      <td>25CB7D16D3910254EA4F7BACA123C339</td>\n      <td>0.068773</td>\n      <td>0.049890</td>\n      <td>0.019978</td>\n      <td>0.528264</td>\n    </tr>\n  </tbody>\n</table>\n<p>6021788 rows × 6 columns</p>\n</div>"
     },
     "metadata": {},
     "execution_count": 3
    }
   ],
   "source": [
    "pd.read_csv(\"simple_pandas_run\\\\results.csv\",  header=None)"
   ]
  },
  {
   "cell_type": "code",
   "execution_count": 5,
   "metadata": {},
   "outputs": [
    {
     "output_type": "execute_result",
     "data": {
      "text/plain": [
       "   bert_base_multilingual_cased_tokens  \\\n",
       "0                                    0   \n",
       "1                                    1   \n",
       "2                                    2   \n",
       "3                                    3   \n",
       "4                                    4   \n",
       "\n",
       "                                            hashtags  \\\n",
       "0  101\\t56898\\t137\\t78722\\t101518\\t10113\\t131\\t14...   \n",
       "1  101\\t12845\\t10285\\t62330\\t10107\\t10911\\t10121\\...   \n",
       "2            101\\t146\\t11337\\t20780\\t13028\\t119\\t102   \n",
       "3  101\\t56898\\t137\\t105192\\t105353\\t21127\\t10240\\...   \n",
       "4  101\\t56898\\t137\\t11859\\t11418\\t85004\\t10165\\t1...   \n",
       "\n",
       "                                            tweet_id  \\\n",
       "0  F057EABF27033C86635DACA39B75860A\\tE4367F69BD34...   \n",
       "1                                                NaN   \n",
       "2                                                NaN   \n",
       "3                                                NaN   \n",
       "4  AB7684EA0831CFD4A6269EFC770A8397\\t10420B9DA1F0...   \n",
       "\n",
       "                             medias  links domains type language  \\\n",
       "0  C23924CADFBB076A7D2D7F9096BF07B7  Photo     NaN  NaN  Retweet   \n",
       "1  CB4EC1A0ECB0CCBCAD05420E96ED4DD8    NaN     NaN  NaN    Quote   \n",
       "2  7CA02AC9EA45304CAFB61066DDF523ED    NaN     NaN  NaN    Quote   \n",
       "3  C324FDFA8D361DDA8C275B52F08311A7  Video     NaN  NaN  Retweet   \n",
       "4  25B61B9D047F7FA940AF0CC585F2EDF8    NaN     NaN  NaN  Retweet   \n",
       "\n",
       "                          timestamp   a_user_id  ...   b_user_id  \\\n",
       "0  9FCF19233EAD65EA6E32C2E6DC03A444  1612516671  ...  1379690719   \n",
       "1  B0FA488F2911701DD8EC5B1EA5E322D8  1613837103  ...  1423845537   \n",
       "2  488B32D24BD4BB44172EB981C1BCA6FA  1613855527  ...  1304754718   \n",
       "3  9FCF19233EAD65EA6E32C2E6DC03A444  1612681684  ...  1471693022   \n",
       "4  E7F038DE3EAD397AEC9193686C911677  1612867625  ...  1256282122   \n",
       "\n",
       "                   b_follower_count  b_following_count  b_is_verified  \\\n",
       "0  2CF8B49FB083BC4EC687C601F64EA8AD                683            689   \n",
       "1  77AF0FFF70745B62F02E2C590AAB0541                588           1670   \n",
       "2  6E3596FBE5441CCAC38229755C8506F4                297            595   \n",
       "3  6F9E0D6DDCF0DD79E740C4A7F999EEC7                134            917   \n",
       "4  4B4E3B3AF68B830214A6BC2C25EAA708                224            184   \n",
       "\n",
       "   b_account_creation a_follows_b  reply  retweet  retweet_comment  like  \n",
       "0               False  1265254445   True      NaN              NaN   NaN  \n",
       "1               False  1304362682  False      NaN              NaN   NaN  \n",
       "2               False  1528559689   True      NaN              NaN   NaN  \n",
       "3               False  1531225320  False      NaN              NaN   NaN  \n",
       "4               False  1466501106  False      NaN              NaN   NaN  \n",
       "\n",
       "[5 rows x 24 columns]"
      ],
      "text/html": "<div>\n<style scoped>\n    .dataframe tbody tr th:only-of-type {\n        vertical-align: middle;\n    }\n\n    .dataframe tbody tr th {\n        vertical-align: top;\n    }\n\n    .dataframe thead th {\n        text-align: right;\n    }\n</style>\n<table border=\"1\" class=\"dataframe\">\n  <thead>\n    <tr style=\"text-align: right;\">\n      <th></th>\n      <th>bert_base_multilingual_cased_tokens</th>\n      <th>hashtags</th>\n      <th>tweet_id</th>\n      <th>medias</th>\n      <th>links</th>\n      <th>domains</th>\n      <th>type</th>\n      <th>language</th>\n      <th>timestamp</th>\n      <th>a_user_id</th>\n      <th>...</th>\n      <th>b_user_id</th>\n      <th>b_follower_count</th>\n      <th>b_following_count</th>\n      <th>b_is_verified</th>\n      <th>b_account_creation</th>\n      <th>a_follows_b</th>\n      <th>reply</th>\n      <th>retweet</th>\n      <th>retweet_comment</th>\n      <th>like</th>\n    </tr>\n  </thead>\n  <tbody>\n    <tr>\n      <th>0</th>\n      <td>0</td>\n      <td>101\\t56898\\t137\\t78722\\t101518\\t10113\\t131\\t14...</td>\n      <td>F057EABF27033C86635DACA39B75860A\\tE4367F69BD34...</td>\n      <td>C23924CADFBB076A7D2D7F9096BF07B7</td>\n      <td>Photo</td>\n      <td>NaN</td>\n      <td>NaN</td>\n      <td>Retweet</td>\n      <td>9FCF19233EAD65EA6E32C2E6DC03A444</td>\n      <td>1612516671</td>\n      <td>...</td>\n      <td>1379690719</td>\n      <td>2CF8B49FB083BC4EC687C601F64EA8AD</td>\n      <td>683</td>\n      <td>689</td>\n      <td>False</td>\n      <td>1265254445</td>\n      <td>True</td>\n      <td>NaN</td>\n      <td>NaN</td>\n      <td>NaN</td>\n    </tr>\n    <tr>\n      <th>1</th>\n      <td>1</td>\n      <td>101\\t12845\\t10285\\t62330\\t10107\\t10911\\t10121\\...</td>\n      <td>NaN</td>\n      <td>CB4EC1A0ECB0CCBCAD05420E96ED4DD8</td>\n      <td>NaN</td>\n      <td>NaN</td>\n      <td>NaN</td>\n      <td>Quote</td>\n      <td>B0FA488F2911701DD8EC5B1EA5E322D8</td>\n      <td>1613837103</td>\n      <td>...</td>\n      <td>1423845537</td>\n      <td>77AF0FFF70745B62F02E2C590AAB0541</td>\n      <td>588</td>\n      <td>1670</td>\n      <td>False</td>\n      <td>1304362682</td>\n      <td>False</td>\n      <td>NaN</td>\n      <td>NaN</td>\n      <td>NaN</td>\n    </tr>\n    <tr>\n      <th>2</th>\n      <td>2</td>\n      <td>101\\t146\\t11337\\t20780\\t13028\\t119\\t102</td>\n      <td>NaN</td>\n      <td>7CA02AC9EA45304CAFB61066DDF523ED</td>\n      <td>NaN</td>\n      <td>NaN</td>\n      <td>NaN</td>\n      <td>Quote</td>\n      <td>488B32D24BD4BB44172EB981C1BCA6FA</td>\n      <td>1613855527</td>\n      <td>...</td>\n      <td>1304754718</td>\n      <td>6E3596FBE5441CCAC38229755C8506F4</td>\n      <td>297</td>\n      <td>595</td>\n      <td>False</td>\n      <td>1528559689</td>\n      <td>True</td>\n      <td>NaN</td>\n      <td>NaN</td>\n      <td>NaN</td>\n    </tr>\n    <tr>\n      <th>3</th>\n      <td>3</td>\n      <td>101\\t56898\\t137\\t105192\\t105353\\t21127\\t10240\\...</td>\n      <td>NaN</td>\n      <td>C324FDFA8D361DDA8C275B52F08311A7</td>\n      <td>Video</td>\n      <td>NaN</td>\n      <td>NaN</td>\n      <td>Retweet</td>\n      <td>9FCF19233EAD65EA6E32C2E6DC03A444</td>\n      <td>1612681684</td>\n      <td>...</td>\n      <td>1471693022</td>\n      <td>6F9E0D6DDCF0DD79E740C4A7F999EEC7</td>\n      <td>134</td>\n      <td>917</td>\n      <td>False</td>\n      <td>1531225320</td>\n      <td>False</td>\n      <td>NaN</td>\n      <td>NaN</td>\n      <td>NaN</td>\n    </tr>\n    <tr>\n      <th>4</th>\n      <td>4</td>\n      <td>101\\t56898\\t137\\t11859\\t11418\\t85004\\t10165\\t1...</td>\n      <td>AB7684EA0831CFD4A6269EFC770A8397\\t10420B9DA1F0...</td>\n      <td>25B61B9D047F7FA940AF0CC585F2EDF8</td>\n      <td>NaN</td>\n      <td>NaN</td>\n      <td>NaN</td>\n      <td>Retweet</td>\n      <td>E7F038DE3EAD397AEC9193686C911677</td>\n      <td>1612867625</td>\n      <td>...</td>\n      <td>1256282122</td>\n      <td>4B4E3B3AF68B830214A6BC2C25EAA708</td>\n      <td>224</td>\n      <td>184</td>\n      <td>False</td>\n      <td>1466501106</td>\n      <td>False</td>\n      <td>NaN</td>\n      <td>NaN</td>\n      <td>NaN</td>\n    </tr>\n  </tbody>\n</table>\n<p>5 rows × 24 columns</p>\n</div>"
     },
     "metadata": {},
     "execution_count": 5
    }
   ],
   "source": [
    "#f2 = f2.drop([\"reply\",\"retweet\",\"retweet_comment\",\"like\"], axis=1)\n",
    "f2.head()"
   ]
  },
  {
   "cell_type": "code",
   "execution_count": 10,
   "metadata": {},
   "outputs": [
    {
     "output_type": "execute_result",
     "data": {
      "text/plain": [
       "                                 tweet_id  a_is_verified  \\\n",
       "idx                                                        \n",
       "2328504  FC917234BCAEEC9D838802CC92DF440E          False   \n",
       "2328505  A073D4352E0A2FD304064180355607F2          False   \n",
       "2328506  5D3B0DD135E64C788917F3E9474BDD72          False   \n",
       "2328507  8FEFB3031291D157ECBA60C68026C30E          False   \n",
       "2328508  5278984CBE0C3DB1C14FCEDA67713864          False   \n",
       "...                                   ...            ...   \n",
       "2587206  C8D2C3701D87551726382D08D18A22FE          False   \n",
       "2587207  FF1CCC27DA37CF4857F2D5EF1C66C6EE          False   \n",
       "2587208  288DBA91E76CC73232310F1D6150C75F           True   \n",
       "2587209  064DE6BBA22138B9FA6950308BB7691E          False   \n",
       "2587210  D2BFF87A7DE9BFC3FB057EAAF2434D90          False   \n",
       "\n",
       "                                b_user_id  b_is_verified  a_follows_b  \\\n",
       "idx                                                                     \n",
       "2328504  AE40A3588E57FAD49B7A92A5EE576015          False         True   \n",
       "2328505  FAFD00BBD3FAF6F194F11491E9640919          False         True   \n",
       "2328506  C87EA3EF714D09A9ACB41CD4DFF05809          False        False   \n",
       "2328507  D343CDD24E62335E6366C43DD08657FB          False        False   \n",
       "2328508  147868445045FEE47354296184358E12          False        False   \n",
       "...                                   ...            ...          ...   \n",
       "2587206  169D946E742B2850A74178999E2877ED          False         True   \n",
       "2587207  F3AAA2045AD502D941017AEC8BA23D04          False        False   \n",
       "2587208  CD37942BB577A87E9E6B0DC6A003410D          False        False   \n",
       "2587209  00CFA0940C0D3D13D6849CD3F54C90E9          False         True   \n",
       "2587210  DE5A2A13AB3949B473F884AB414E751B          False        False   \n",
       "\n",
       "         has_reply  bert_token_len  has_retweet  has_retweet_comment  \\\n",
       "idx                                                                    \n",
       "2328504      False        4.204693        False                False   \n",
       "2328505      False        3.091042        False                False   \n",
       "2328506      False        3.258097        False                False   \n",
       "2328507      False        2.833213        False                False   \n",
       "2328508      False        3.496508        False                False   \n",
       "...            ...             ...          ...                  ...   \n",
       "2587206      False        4.204693        False                False   \n",
       "2587207      False        3.637586         True                False   \n",
       "2587208      False        3.970292        False                False   \n",
       "2587209      False        3.295837        False                False   \n",
       "2587210      False        4.025352        False                False   \n",
       "\n",
       "         has_like  ...  TE_a_hash_has_retweet_comment  TE_a_hash_has_retweet  \\\n",
       "idx                ...                                                         \n",
       "2328504     False  ...                       0.006630               0.082996   \n",
       "2328505     False  ...                       0.006630               0.082996   \n",
       "2328506      True  ...                       0.006630               0.082996   \n",
       "2328507      True  ...                       0.002110               0.102165   \n",
       "2328508      True  ...                       0.003570               0.070331   \n",
       "...           ...  ...                            ...                    ...   \n",
       "2587206      True  ...                       0.001379               0.106366   \n",
       "2587207     False  ...                       0.006054               0.119257   \n",
       "2587208      True  ...                       0.024903               0.084103   \n",
       "2587209      True  ...                       0.006630               0.082996   \n",
       "2587210      True  ...                       0.005569               0.109717   \n",
       "\n",
       "         TE_b_hash_has_reply  TE_b_hash_has_like  \\\n",
       "idx                                                \n",
       "2328504             0.027258            0.377806   \n",
       "2328505             0.027258            0.377806   \n",
       "2328506             0.026019            0.451542   \n",
       "2328507             0.027258            0.425425   \n",
       "2328508             0.021200            0.441997   \n",
       "...                      ...                 ...   \n",
       "2587206             0.027258            0.425425   \n",
       "2587207             0.027258            0.377806   \n",
       "2587208             0.018465            0.449481   \n",
       "2587209             0.024888            0.475388   \n",
       "2587210             0.027258            0.425425   \n",
       "\n",
       "         TE_b_hash_has_retweet_comment  TE_b_hash_has_retweet  \\\n",
       "idx                                                             \n",
       "2328504                       0.006630               0.082996   \n",
       "2328505                       0.006630               0.082996   \n",
       "2328506                       0.006329               0.079223   \n",
       "2328507                       0.006630               0.082996   \n",
       "2328508                       0.005157               0.101589   \n",
       "...                                ...                    ...   \n",
       "2587206                       0.006630               0.082996   \n",
       "2587207                       0.006630               0.130615   \n",
       "2587208                       0.004491               0.056223   \n",
       "2587209                       0.006054               0.075779   \n",
       "2587210                       0.006630               0.082996   \n",
       "\n",
       "         TE_tweet_hash_has_reply  TE_tweet_hash_has_like  \\\n",
       "idx                                                        \n",
       "2328504                 0.027258                0.377806   \n",
       "2328505                 0.027258                0.377806   \n",
       "2328506                 0.027258                0.425425   \n",
       "2328507                 0.027258                0.425425   \n",
       "2328508                 0.027258                0.425425   \n",
       "...                          ...                     ...   \n",
       "2587206                 0.027258                0.425425   \n",
       "2587207                 0.027258                0.377806   \n",
       "2587208                 0.023851                0.497247   \n",
       "2587209                 0.027258                0.425425   \n",
       "2587210                 0.026019                0.451542   \n",
       "\n",
       "         TE_tweet_hash_has_retweet_comment  TE_tweet_hash_has_retweet  \n",
       "idx                                                                    \n",
       "2328504                           0.006630                   0.082996  \n",
       "2328505                           0.006630                   0.082996  \n",
       "2328506                           0.006630                   0.082996  \n",
       "2328507                           0.006630                   0.082996  \n",
       "2328508                           0.006630                   0.082996  \n",
       "...                                    ...                        ...  \n",
       "2587206                           0.006630                   0.082996  \n",
       "2587207                           0.006630                   0.130615  \n",
       "2587208                           0.005801                   0.072621  \n",
       "2587209                           0.006630                   0.082996  \n",
       "2587210                           0.006329                   0.079223  \n",
       "\n",
       "[258707 rows x 46 columns]"
      ],
      "text/html": "<div>\n<style scoped>\n    .dataframe tbody tr th:only-of-type {\n        vertical-align: middle;\n    }\n\n    .dataframe tbody tr th {\n        vertical-align: top;\n    }\n\n    .dataframe thead th {\n        text-align: right;\n    }\n</style>\n<table border=\"1\" class=\"dataframe\">\n  <thead>\n    <tr style=\"text-align: right;\">\n      <th></th>\n      <th>tweet_id</th>\n      <th>a_is_verified</th>\n      <th>b_user_id</th>\n      <th>b_is_verified</th>\n      <th>a_follows_b</th>\n      <th>has_reply</th>\n      <th>bert_token_len</th>\n      <th>has_retweet</th>\n      <th>has_retweet_comment</th>\n      <th>has_like</th>\n      <th>...</th>\n      <th>TE_a_hash_has_retweet_comment</th>\n      <th>TE_a_hash_has_retweet</th>\n      <th>TE_b_hash_has_reply</th>\n      <th>TE_b_hash_has_like</th>\n      <th>TE_b_hash_has_retweet_comment</th>\n      <th>TE_b_hash_has_retweet</th>\n      <th>TE_tweet_hash_has_reply</th>\n      <th>TE_tweet_hash_has_like</th>\n      <th>TE_tweet_hash_has_retweet_comment</th>\n      <th>TE_tweet_hash_has_retweet</th>\n    </tr>\n    <tr>\n      <th>idx</th>\n      <th></th>\n      <th></th>\n      <th></th>\n      <th></th>\n      <th></th>\n      <th></th>\n      <th></th>\n      <th></th>\n      <th></th>\n      <th></th>\n      <th></th>\n      <th></th>\n      <th></th>\n      <th></th>\n      <th></th>\n      <th></th>\n      <th></th>\n      <th></th>\n      <th></th>\n      <th></th>\n      <th></th>\n    </tr>\n  </thead>\n  <tbody>\n    <tr>\n      <th>2328504</th>\n      <td>FC917234BCAEEC9D838802CC92DF440E</td>\n      <td>False</td>\n      <td>AE40A3588E57FAD49B7A92A5EE576015</td>\n      <td>False</td>\n      <td>True</td>\n      <td>False</td>\n      <td>4.204693</td>\n      <td>False</td>\n      <td>False</td>\n      <td>False</td>\n      <td>...</td>\n      <td>0.006630</td>\n      <td>0.082996</td>\n      <td>0.027258</td>\n      <td>0.377806</td>\n      <td>0.006630</td>\n      <td>0.082996</td>\n      <td>0.027258</td>\n      <td>0.377806</td>\n      <td>0.006630</td>\n      <td>0.082996</td>\n    </tr>\n    <tr>\n      <th>2328505</th>\n      <td>A073D4352E0A2FD304064180355607F2</td>\n      <td>False</td>\n      <td>FAFD00BBD3FAF6F194F11491E9640919</td>\n      <td>False</td>\n      <td>True</td>\n      <td>False</td>\n      <td>3.091042</td>\n      <td>False</td>\n      <td>False</td>\n      <td>False</td>\n      <td>...</td>\n      <td>0.006630</td>\n      <td>0.082996</td>\n      <td>0.027258</td>\n      <td>0.377806</td>\n      <td>0.006630</td>\n      <td>0.082996</td>\n      <td>0.027258</td>\n      <td>0.377806</td>\n      <td>0.006630</td>\n      <td>0.082996</td>\n    </tr>\n    <tr>\n      <th>2328506</th>\n      <td>5D3B0DD135E64C788917F3E9474BDD72</td>\n      <td>False</td>\n      <td>C87EA3EF714D09A9ACB41CD4DFF05809</td>\n      <td>False</td>\n      <td>False</td>\n      <td>False</td>\n      <td>3.258097</td>\n      <td>False</td>\n      <td>False</td>\n      <td>True</td>\n      <td>...</td>\n      <td>0.006630</td>\n      <td>0.082996</td>\n      <td>0.026019</td>\n      <td>0.451542</td>\n      <td>0.006329</td>\n      <td>0.079223</td>\n      <td>0.027258</td>\n      <td>0.425425</td>\n      <td>0.006630</td>\n      <td>0.082996</td>\n    </tr>\n    <tr>\n      <th>2328507</th>\n      <td>8FEFB3031291D157ECBA60C68026C30E</td>\n      <td>False</td>\n      <td>D343CDD24E62335E6366C43DD08657FB</td>\n      <td>False</td>\n      <td>False</td>\n      <td>False</td>\n      <td>2.833213</td>\n      <td>False</td>\n      <td>False</td>\n      <td>True</td>\n      <td>...</td>\n      <td>0.002110</td>\n      <td>0.102165</td>\n      <td>0.027258</td>\n      <td>0.425425</td>\n      <td>0.006630</td>\n      <td>0.082996</td>\n      <td>0.027258</td>\n      <td>0.425425</td>\n      <td>0.006630</td>\n      <td>0.082996</td>\n    </tr>\n    <tr>\n      <th>2328508</th>\n      <td>5278984CBE0C3DB1C14FCEDA67713864</td>\n      <td>False</td>\n      <td>147868445045FEE47354296184358E12</td>\n      <td>False</td>\n      <td>False</td>\n      <td>False</td>\n      <td>3.496508</td>\n      <td>False</td>\n      <td>False</td>\n      <td>True</td>\n      <td>...</td>\n      <td>0.003570</td>\n      <td>0.070331</td>\n      <td>0.021200</td>\n      <td>0.441997</td>\n      <td>0.005157</td>\n      <td>0.101589</td>\n      <td>0.027258</td>\n      <td>0.425425</td>\n      <td>0.006630</td>\n      <td>0.082996</td>\n    </tr>\n    <tr>\n      <th>...</th>\n      <td>...</td>\n      <td>...</td>\n      <td>...</td>\n      <td>...</td>\n      <td>...</td>\n      <td>...</td>\n      <td>...</td>\n      <td>...</td>\n      <td>...</td>\n      <td>...</td>\n      <td>...</td>\n      <td>...</td>\n      <td>...</td>\n      <td>...</td>\n      <td>...</td>\n      <td>...</td>\n      <td>...</td>\n      <td>...</td>\n      <td>...</td>\n      <td>...</td>\n      <td>...</td>\n    </tr>\n    <tr>\n      <th>2587206</th>\n      <td>C8D2C3701D87551726382D08D18A22FE</td>\n      <td>False</td>\n      <td>169D946E742B2850A74178999E2877ED</td>\n      <td>False</td>\n      <td>True</td>\n      <td>False</td>\n      <td>4.204693</td>\n      <td>False</td>\n      <td>False</td>\n      <td>True</td>\n      <td>...</td>\n      <td>0.001379</td>\n      <td>0.106366</td>\n      <td>0.027258</td>\n      <td>0.425425</td>\n      <td>0.006630</td>\n      <td>0.082996</td>\n      <td>0.027258</td>\n      <td>0.425425</td>\n      <td>0.006630</td>\n      <td>0.082996</td>\n    </tr>\n    <tr>\n      <th>2587207</th>\n      <td>FF1CCC27DA37CF4857F2D5EF1C66C6EE</td>\n      <td>False</td>\n      <td>F3AAA2045AD502D941017AEC8BA23D04</td>\n      <td>False</td>\n      <td>False</td>\n      <td>False</td>\n      <td>3.637586</td>\n      <td>True</td>\n      <td>False</td>\n      <td>False</td>\n      <td>...</td>\n      <td>0.006054</td>\n      <td>0.119257</td>\n      <td>0.027258</td>\n      <td>0.377806</td>\n      <td>0.006630</td>\n      <td>0.130615</td>\n      <td>0.027258</td>\n      <td>0.377806</td>\n      <td>0.006630</td>\n      <td>0.130615</td>\n    </tr>\n    <tr>\n      <th>2587208</th>\n      <td>288DBA91E76CC73232310F1D6150C75F</td>\n      <td>True</td>\n      <td>CD37942BB577A87E9E6B0DC6A003410D</td>\n      <td>False</td>\n      <td>False</td>\n      <td>False</td>\n      <td>3.970292</td>\n      <td>False</td>\n      <td>False</td>\n      <td>True</td>\n      <td>...</td>\n      <td>0.024903</td>\n      <td>0.084103</td>\n      <td>0.018465</td>\n      <td>0.449481</td>\n      <td>0.004491</td>\n      <td>0.056223</td>\n      <td>0.023851</td>\n      <td>0.497247</td>\n      <td>0.005801</td>\n      <td>0.072621</td>\n    </tr>\n    <tr>\n      <th>2587209</th>\n      <td>064DE6BBA22138B9FA6950308BB7691E</td>\n      <td>False</td>\n      <td>00CFA0940C0D3D13D6849CD3F54C90E9</td>\n      <td>False</td>\n      <td>True</td>\n      <td>False</td>\n      <td>3.295837</td>\n      <td>False</td>\n      <td>False</td>\n      <td>True</td>\n      <td>...</td>\n      <td>0.006630</td>\n      <td>0.082996</td>\n      <td>0.024888</td>\n      <td>0.475388</td>\n      <td>0.006054</td>\n      <td>0.075779</td>\n      <td>0.027258</td>\n      <td>0.425425</td>\n      <td>0.006630</td>\n      <td>0.082996</td>\n    </tr>\n    <tr>\n      <th>2587210</th>\n      <td>D2BFF87A7DE9BFC3FB057EAAF2434D90</td>\n      <td>False</td>\n      <td>DE5A2A13AB3949B473F884AB414E751B</td>\n      <td>False</td>\n      <td>False</td>\n      <td>False</td>\n      <td>4.025352</td>\n      <td>False</td>\n      <td>False</td>\n      <td>True</td>\n      <td>...</td>\n      <td>0.005569</td>\n      <td>0.109717</td>\n      <td>0.027258</td>\n      <td>0.425425</td>\n      <td>0.006630</td>\n      <td>0.082996</td>\n      <td>0.026019</td>\n      <td>0.451542</td>\n      <td>0.006329</td>\n      <td>0.079223</td>\n    </tr>\n  </tbody>\n</table>\n<p>258707 rows × 46 columns</p>\n</div>"
     },
     "metadata": {},
     "execution_count": 10
    }
   ],
   "source": [
    "import pandas as pd\n",
    "train = pd.read_parquet(\"preprocessed_training_features\\\\part.9.parquet\")\n",
    "test = pd.read_parquet(\"preprocessed_validation_features\\\\part.9.parquet\")\n",
    "train"
   ]
  },
  {
   "cell_type": "code",
   "execution_count": 15,
   "metadata": {},
   "outputs": [
    {
     "output_type": "execute_result",
     "data": {
      "text/plain": [
       "0.5059247741028873"
      ]
     },
     "metadata": {},
     "execution_count": 15
    }
   ],
   "source": []
  },
  {
   "cell_type": "code",
   "execution_count": 55,
   "metadata": {},
   "outputs": [
    {
     "output_type": "execute_result",
     "data": {
      "text/plain": [
       "idx\n",
       "2397455    6843327693395547848\n",
       "Name: b_hash, dtype: int64"
      ]
     },
     "metadata": {},
     "execution_count": 55
    }
   ],
   "source": [
    "train[train[\"b_user_id\"] == '7F6C55FBCE9A4FB981B1DF01807C121B'][\"b_hash\"]"
   ]
  },
  {
   "cell_type": "code",
   "execution_count": 57,
   "metadata": {},
   "outputs": [
    {
     "output_type": "execute_result",
     "data": {
      "text/plain": [
       "idx\n",
       "2541356    7661512752241346398\n",
       "Name: b_hash, dtype: int64"
      ]
     },
     "metadata": {},
     "execution_count": 57
    }
   ],
   "source": [
    "test[test[\"b_user_id\"] == '7F6C55FBCE9A4FB981B1DF01807C121B'][\"b_hash\"]"
   ]
  },
  {
   "cell_type": "code",
   "execution_count": 79,
   "metadata": {},
   "outputs": [
    {
     "output_type": "execute_result",
     "data": {
      "text/plain": [
       "169374467480431641803362595042813022747"
      ]
     },
     "metadata": {},
     "execution_count": 79
    }
   ],
   "source": []
  },
  {
   "cell_type": "code",
   "execution_count": 99,
   "metadata": {},
   "outputs": [
    {
     "output_type": "execute_result",
     "data": {
      "text/plain": [
       "array([16937446748043164180], dtype=uint64)"
      ]
     },
     "metadata": {},
     "execution_count": 99
    }
   ],
   "source": [
    "import numpy as np\n",
    "np.array([int(str(int(\"7F6C55FBCE9A4FB981B1DF01807C121B\", 16))[:20])], dtype=np.uint64)"
   ]
  },
  {
   "cell_type": "code",
   "execution_count": 74,
   "metadata": {},
   "outputs": [
    {
     "output_type": "execute_result",
     "data": {
      "text/plain": [
       "169374467480431641803362595042813022747"
      ]
     },
     "metadata": {},
     "execution_count": 74
    }
   ],
   "source": [
    "import ast\n",
    "ast.literal_eval('0x7F6C55FBCE9A4FB981B1DF01807C121B')"
   ]
  },
  {
   "cell_type": "code",
   "execution_count": 9,
   "metadata": {},
   "outputs": [
    {
     "output_type": "execute_result",
     "data": {
      "text/plain": [
       "2155614747"
      ]
     },
     "metadata": {},
     "execution_count": 9
    }
   ],
   "source": [
    "int(\"7F6C55FBCE9A4FB981B1DF01807C121B\", 16)%(2**32)"
   ]
  },
  {
   "cell_type": "code",
   "execution_count": 16,
   "metadata": {},
   "outputs": [
    {
     "output_type": "execute_result",
     "data": {
      "text/plain": [
       "Index(['tweet_id', 'a_is_verified', 'b_user_id', 'b_is_verified',\n",
       "       'a_follows_b', 'has_reply', 'bert_token_len', 'has_retweet',\n",
       "       'has_retweet_comment', 'has_like', 'n_photos', 'n_videos', 'n_gifs',\n",
       "       'type_encoding', 'language_encoding', 'a_followers', 'a_following',\n",
       "       'b_followers', 'b_following', 'day_of_week', 'hour_of_day',\n",
       "       'b_creation_delta', 'a_creation_delta', 'tweet_hash', 'b_hash',\n",
       "       'a_hash', 'TE_language_encoding_has_reply',\n",
       "       'TE_language_encoding_has_like',\n",
       "       'TE_language_encoding_has_retweet_comment',\n",
       "       'TE_language_encoding_has_retweet', 'TE_type_encoding_has_reply',\n",
       "       'TE_type_encoding_has_like', 'TE_type_encoding_has_retweet_comment',\n",
       "       'TE_type_encoding_has_retweet', 'TE_a_hash_has_reply',\n",
       "       'TE_a_hash_has_like', 'TE_a_hash_has_retweet_comment',\n",
       "       'TE_a_hash_has_retweet', 'TE_b_hash_has_reply', 'TE_b_hash_has_like',\n",
       "       'TE_b_hash_has_retweet_comment', 'TE_b_hash_has_retweet',\n",
       "       'TE_tweet_hash_has_reply', 'TE_tweet_hash_has_like',\n",
       "       'TE_tweet_hash_has_retweet_comment', 'TE_tweet_hash_has_retweet'],\n",
       "      dtype='object')"
      ]
     },
     "metadata": {},
     "execution_count": 16
    }
   ],
   "source": [
    "train.columns"
   ]
  },
  {
   "cell_type": "code",
   "execution_count": 35,
   "metadata": {},
   "outputs": [
    {
     "output_type": "execute_result",
     "data": {
      "text/plain": [
       "Index(['tweet_id', 'a_is_verified', 'b_user_id', 'b_is_verified',\n",
       "       'a_follows_b', 'has_reply', 'has_retweet', 'has_retweet_comment',\n",
       "       'has_like', 'bert_token_len', 'n_photos', 'n_videos', 'n_gifs',\n",
       "       'type_encoding', 'language_encoding', 'a_followers', 'a_following',\n",
       "       'b_followers', 'b_following', 'day_of_week', 'hour_of_day',\n",
       "       'b_creation_delta', 'a_creation_delta', 'tweet_hash', 'b_hash',\n",
       "       'a_hash', 'TE_language_encoding_has_reply',\n",
       "       'TE_language_encoding_has_like',\n",
       "       'TE_language_encoding_has_retweet_comment',\n",
       "       'TE_language_encoding_has_retweet', 'TE_type_encoding_has_reply',\n",
       "       'TE_type_encoding_has_like', 'TE_type_encoding_has_retweet_comment',\n",
       "       'TE_type_encoding_has_retweet', 'TE_a_hash_has_reply',\n",
       "       'TE_a_hash_has_like', 'TE_a_hash_has_retweet_comment',\n",
       "       'TE_a_hash_has_retweet', 'TE_b_hash_has_reply', 'TE_b_hash_has_like',\n",
       "       'TE_b_hash_has_retweet_comment', 'TE_b_hash_has_retweet',\n",
       "       'TE_tweet_hash_has_reply', 'TE_tweet_hash_has_like',\n",
       "       'TE_tweet_hash_has_retweet_comment', 'TE_tweet_hash_has_retweet'],\n",
       "      dtype='object')"
      ]
     },
     "metadata": {},
     "execution_count": 35
    }
   ],
   "source": [
    "test_data.columns"
   ]
  },
  {
   "cell_type": "code",
   "execution_count": 69,
   "metadata": {},
   "outputs": [
    {
     "output_type": "execute_result",
     "data": {
      "text/plain": [
       "                                tweet_id  a_is_verified  \\\n",
       "idx                                                       \n",
       "257991  90CA38A0A5D53E50B3A53CB4799EDAC7          False   \n",
       "257992  667A7A79B046C2630097E5F5575FF065          False   \n",
       "257993  9F3B4A2391BDE98F98DE6A62DC16ADB5          False   \n",
       "257994  120991A57590B5D29D4E0A2733467E3C           True   \n",
       "257995  95DD930F2F481228ACA4EE55730DA28F          False   \n",
       "...                                  ...            ...   \n",
       "516184  C634A10DD9BD635DC1893E50D9B114BE          False   \n",
       "516185  B91D1773740A5FB8A77A7282225EEB01           True   \n",
       "516186  485093203DC4E4025B4725C42C6202DF          False   \n",
       "516187  E2E3800A12F271608BD6EE9355FC8365           True   \n",
       "516188  32DFF6C89830621017A42236F85C48DC          False   \n",
       "\n",
       "                               b_user_id  b_is_verified  a_follows_b  \\\n",
       "idx                                                                    \n",
       "257991  C6639036885D0E58206BE888CF8079E1          False         True   \n",
       "257992  7CF0F5E830D6E29CA9A3E20398FBA987          False         True   \n",
       "257993  A78E7CE520EC824409084718FDE6C5B1          False         True   \n",
       "257994  4A3EF99CB4FEC651AAEC433CF7CA9912          False        False   \n",
       "257995  50CD246006E987B5142F8BC3017354C6          False        False   \n",
       "...                                  ...            ...          ...   \n",
       "516184  970C80229B14B6B9C0FC4BE5F7721D71          False         True   \n",
       "516185  4D1AD98E0CDC2C322A16AA97DA22C360          False        False   \n",
       "516186  F527AAE1AB3CF95733380E05451E56FA          False         True   \n",
       "516187  8E75B9C5408FD3DD82BEE5DDACF7A425          False        False   \n",
       "516188  4F2CB3928A060D58AA8F6F9280F4F4D7          False         True   \n",
       "\n",
       "        has_reply  has_retweet  has_retweet_comment  has_like  bert_token_len  \\\n",
       "idx                                                                             \n",
       "257991       True        False                False     False        2.639057   \n",
       "257992      False        False                False     False        3.737670   \n",
       "257993      False        False                False      True        3.526361   \n",
       "257994      False        False                False     False        3.713572   \n",
       "257995      False        False                False     False        4.595120   \n",
       "...           ...          ...                  ...       ...             ...   \n",
       "516184      False        False                False      True        2.944439   \n",
       "516185       True        False                False     False        2.944439   \n",
       "516186      False        False                False      True        4.682131   \n",
       "516187      False        False                False     False        3.637586   \n",
       "516188      False        False                False     False        2.564949   \n",
       "\n",
       "        ...  TE_a_hash_has_retweet_comment  TE_a_hash_has_retweet  \\\n",
       "idx     ...                                                         \n",
       "257991  ...                       0.006630               0.082996   \n",
       "257992  ...                      -1.000000              -1.000000   \n",
       "257993  ...                       0.049532               0.119257   \n",
       "257994  ...                       0.003238               0.040533   \n",
       "257995  ...                       0.006329               0.079223   \n",
       "...     ...                            ...                    ...   \n",
       "516184  ...                      -1.000000              -1.000000   \n",
       "516185  ...                       0.005569               0.069717   \n",
       "516186  ...                       0.006054               0.075779   \n",
       "516187  ...                       0.001200               0.023646   \n",
       "516188  ...                      -1.000000              -1.000000   \n",
       "\n",
       "        TE_b_hash_has_reply  TE_b_hash_has_like  \\\n",
       "idx                                               \n",
       "257991             0.022897            0.477357   \n",
       "257992             0.026019            0.406088   \n",
       "257993             0.019738            0.549446   \n",
       "257994            -1.000000           -1.000000   \n",
       "257995             0.024888            0.431910   \n",
       "...                     ...                 ...   \n",
       "516184            -1.000000           -1.000000   \n",
       "516185             0.026019            0.406088   \n",
       "516186             0.027258            0.425425   \n",
       "516187             0.026019            0.360633   \n",
       "516188             0.023851            0.372247   \n",
       "\n",
       "        TE_b_hash_has_retweet_comment  TE_b_hash_has_retweet  \\\n",
       "idx                                                            \n",
       "257991                       0.005569               0.069717   \n",
       "257992                       0.006329               0.079223   \n",
       "257993                       0.004801               0.094583   \n",
       "257994                      -1.000000              -1.000000   \n",
       "257995                       0.006054               0.119257   \n",
       "...                               ...                    ...   \n",
       "516184                      -1.000000              -1.000000   \n",
       "516185                       0.006329               0.079223   \n",
       "516186                       0.006630               0.082996   \n",
       "516187                       0.006329               0.079223   \n",
       "516188                       0.005801               0.072621   \n",
       "\n",
       "        TE_tweet_hash_has_reply  TE_tweet_hash_has_like  \\\n",
       "idx                                                       \n",
       "257991                -1.000000               -1.000000   \n",
       "257992                -1.000000               -1.000000   \n",
       "257993                -1.000000               -1.000000   \n",
       "257994                -1.000000               -1.000000   \n",
       "257995                -1.000000               -1.000000   \n",
       "...                         ...                     ...   \n",
       "516184                -1.000000               -1.000000   \n",
       "516185                -1.000000               -1.000000   \n",
       "516186                -1.000000               -1.000000   \n",
       "516187                 0.022016                0.305151   \n",
       "516188                -1.000000               -1.000000   \n",
       "\n",
       "        TE_tweet_hash_has_retweet_comment  TE_tweet_hash_has_retweet  \n",
       "idx                                                                   \n",
       "257991                          -1.000000                  -1.000000  \n",
       "257992                          -1.000000                  -1.000000  \n",
       "257993                          -1.000000                  -1.000000  \n",
       "257994                          -1.000000                  -1.000000  \n",
       "257995                          -1.000000                  -1.000000  \n",
       "...                                   ...                        ...  \n",
       "516184                          -1.000000                  -1.000000  \n",
       "516185                          -1.000000                  -1.000000  \n",
       "516186                          -1.000000                  -1.000000  \n",
       "516187                           0.005355                   0.067035  \n",
       "516188                          -1.000000                  -1.000000  \n",
       "\n",
       "[258198 rows x 46 columns]"
      ],
      "text/html": "<div>\n<style scoped>\n    .dataframe tbody tr th:only-of-type {\n        vertical-align: middle;\n    }\n\n    .dataframe tbody tr th {\n        vertical-align: top;\n    }\n\n    .dataframe thead th {\n        text-align: right;\n    }\n</style>\n<table border=\"1\" class=\"dataframe\">\n  <thead>\n    <tr style=\"text-align: right;\">\n      <th></th>\n      <th>tweet_id</th>\n      <th>a_is_verified</th>\n      <th>b_user_id</th>\n      <th>b_is_verified</th>\n      <th>a_follows_b</th>\n      <th>has_reply</th>\n      <th>has_retweet</th>\n      <th>has_retweet_comment</th>\n      <th>has_like</th>\n      <th>bert_token_len</th>\n      <th>...</th>\n      <th>TE_a_hash_has_retweet_comment</th>\n      <th>TE_a_hash_has_retweet</th>\n      <th>TE_b_hash_has_reply</th>\n      <th>TE_b_hash_has_like</th>\n      <th>TE_b_hash_has_retweet_comment</th>\n      <th>TE_b_hash_has_retweet</th>\n      <th>TE_tweet_hash_has_reply</th>\n      <th>TE_tweet_hash_has_like</th>\n      <th>TE_tweet_hash_has_retweet_comment</th>\n      <th>TE_tweet_hash_has_retweet</th>\n    </tr>\n    <tr>\n      <th>idx</th>\n      <th></th>\n      <th></th>\n      <th></th>\n      <th></th>\n      <th></th>\n      <th></th>\n      <th></th>\n      <th></th>\n      <th></th>\n      <th></th>\n      <th></th>\n      <th></th>\n      <th></th>\n      <th></th>\n      <th></th>\n      <th></th>\n      <th></th>\n      <th></th>\n      <th></th>\n      <th></th>\n      <th></th>\n    </tr>\n  </thead>\n  <tbody>\n    <tr>\n      <th>257991</th>\n      <td>90CA38A0A5D53E50B3A53CB4799EDAC7</td>\n      <td>False</td>\n      <td>C6639036885D0E58206BE888CF8079E1</td>\n      <td>False</td>\n      <td>True</td>\n      <td>True</td>\n      <td>False</td>\n      <td>False</td>\n      <td>False</td>\n      <td>2.639057</td>\n      <td>...</td>\n      <td>0.006630</td>\n      <td>0.082996</td>\n      <td>0.022897</td>\n      <td>0.477357</td>\n      <td>0.005569</td>\n      <td>0.069717</td>\n      <td>-1.000000</td>\n      <td>-1.000000</td>\n      <td>-1.000000</td>\n      <td>-1.000000</td>\n    </tr>\n    <tr>\n      <th>257992</th>\n      <td>667A7A79B046C2630097E5F5575FF065</td>\n      <td>False</td>\n      <td>7CF0F5E830D6E29CA9A3E20398FBA987</td>\n      <td>False</td>\n      <td>True</td>\n      <td>False</td>\n      <td>False</td>\n      <td>False</td>\n      <td>False</td>\n      <td>3.737670</td>\n      <td>...</td>\n      <td>-1.000000</td>\n      <td>-1.000000</td>\n      <td>0.026019</td>\n      <td>0.406088</td>\n      <td>0.006329</td>\n      <td>0.079223</td>\n      <td>-1.000000</td>\n      <td>-1.000000</td>\n      <td>-1.000000</td>\n      <td>-1.000000</td>\n    </tr>\n    <tr>\n      <th>257993</th>\n      <td>9F3B4A2391BDE98F98DE6A62DC16ADB5</td>\n      <td>False</td>\n      <td>A78E7CE520EC824409084718FDE6C5B1</td>\n      <td>False</td>\n      <td>True</td>\n      <td>False</td>\n      <td>False</td>\n      <td>False</td>\n      <td>True</td>\n      <td>3.526361</td>\n      <td>...</td>\n      <td>0.049532</td>\n      <td>0.119257</td>\n      <td>0.019738</td>\n      <td>0.549446</td>\n      <td>0.004801</td>\n      <td>0.094583</td>\n      <td>-1.000000</td>\n      <td>-1.000000</td>\n      <td>-1.000000</td>\n      <td>-1.000000</td>\n    </tr>\n    <tr>\n      <th>257994</th>\n      <td>120991A57590B5D29D4E0A2733467E3C</td>\n      <td>True</td>\n      <td>4A3EF99CB4FEC651AAEC433CF7CA9912</td>\n      <td>False</td>\n      <td>False</td>\n      <td>False</td>\n      <td>False</td>\n      <td>False</td>\n      <td>False</td>\n      <td>3.713572</td>\n      <td>...</td>\n      <td>0.003238</td>\n      <td>0.040533</td>\n      <td>-1.000000</td>\n      <td>-1.000000</td>\n      <td>-1.000000</td>\n      <td>-1.000000</td>\n      <td>-1.000000</td>\n      <td>-1.000000</td>\n      <td>-1.000000</td>\n      <td>-1.000000</td>\n    </tr>\n    <tr>\n      <th>257995</th>\n      <td>95DD930F2F481228ACA4EE55730DA28F</td>\n      <td>False</td>\n      <td>50CD246006E987B5142F8BC3017354C6</td>\n      <td>False</td>\n      <td>False</td>\n      <td>False</td>\n      <td>False</td>\n      <td>False</td>\n      <td>False</td>\n      <td>4.595120</td>\n      <td>...</td>\n      <td>0.006329</td>\n      <td>0.079223</td>\n      <td>0.024888</td>\n      <td>0.431910</td>\n      <td>0.006054</td>\n      <td>0.119257</td>\n      <td>-1.000000</td>\n      <td>-1.000000</td>\n      <td>-1.000000</td>\n      <td>-1.000000</td>\n    </tr>\n    <tr>\n      <th>...</th>\n      <td>...</td>\n      <td>...</td>\n      <td>...</td>\n      <td>...</td>\n      <td>...</td>\n      <td>...</td>\n      <td>...</td>\n      <td>...</td>\n      <td>...</td>\n      <td>...</td>\n      <td>...</td>\n      <td>...</td>\n      <td>...</td>\n      <td>...</td>\n      <td>...</td>\n      <td>...</td>\n      <td>...</td>\n      <td>...</td>\n      <td>...</td>\n      <td>...</td>\n      <td>...</td>\n    </tr>\n    <tr>\n      <th>516184</th>\n      <td>C634A10DD9BD635DC1893E50D9B114BE</td>\n      <td>False</td>\n      <td>970C80229B14B6B9C0FC4BE5F7721D71</td>\n      <td>False</td>\n      <td>True</td>\n      <td>False</td>\n      <td>False</td>\n      <td>False</td>\n      <td>True</td>\n      <td>2.944439</td>\n      <td>...</td>\n      <td>-1.000000</td>\n      <td>-1.000000</td>\n      <td>-1.000000</td>\n      <td>-1.000000</td>\n      <td>-1.000000</td>\n      <td>-1.000000</td>\n      <td>-1.000000</td>\n      <td>-1.000000</td>\n      <td>-1.000000</td>\n      <td>-1.000000</td>\n    </tr>\n    <tr>\n      <th>516185</th>\n      <td>B91D1773740A5FB8A77A7282225EEB01</td>\n      <td>True</td>\n      <td>4D1AD98E0CDC2C322A16AA97DA22C360</td>\n      <td>False</td>\n      <td>False</td>\n      <td>True</td>\n      <td>False</td>\n      <td>False</td>\n      <td>False</td>\n      <td>2.944439</td>\n      <td>...</td>\n      <td>0.005569</td>\n      <td>0.069717</td>\n      <td>0.026019</td>\n      <td>0.406088</td>\n      <td>0.006329</td>\n      <td>0.079223</td>\n      <td>-1.000000</td>\n      <td>-1.000000</td>\n      <td>-1.000000</td>\n      <td>-1.000000</td>\n    </tr>\n    <tr>\n      <th>516186</th>\n      <td>485093203DC4E4025B4725C42C6202DF</td>\n      <td>False</td>\n      <td>F527AAE1AB3CF95733380E05451E56FA</td>\n      <td>False</td>\n      <td>True</td>\n      <td>False</td>\n      <td>False</td>\n      <td>False</td>\n      <td>True</td>\n      <td>4.682131</td>\n      <td>...</td>\n      <td>0.006054</td>\n      <td>0.075779</td>\n      <td>0.027258</td>\n      <td>0.425425</td>\n      <td>0.006630</td>\n      <td>0.082996</td>\n      <td>-1.000000</td>\n      <td>-1.000000</td>\n      <td>-1.000000</td>\n      <td>-1.000000</td>\n    </tr>\n    <tr>\n      <th>516187</th>\n      <td>E2E3800A12F271608BD6EE9355FC8365</td>\n      <td>True</td>\n      <td>8E75B9C5408FD3DD82BEE5DDACF7A425</td>\n      <td>False</td>\n      <td>False</td>\n      <td>False</td>\n      <td>False</td>\n      <td>False</td>\n      <td>False</td>\n      <td>3.637586</td>\n      <td>...</td>\n      <td>0.001200</td>\n      <td>0.023646</td>\n      <td>0.026019</td>\n      <td>0.360633</td>\n      <td>0.006329</td>\n      <td>0.079223</td>\n      <td>0.022016</td>\n      <td>0.305151</td>\n      <td>0.005355</td>\n      <td>0.067035</td>\n    </tr>\n    <tr>\n      <th>516188</th>\n      <td>32DFF6C89830621017A42236F85C48DC</td>\n      <td>False</td>\n      <td>4F2CB3928A060D58AA8F6F9280F4F4D7</td>\n      <td>False</td>\n      <td>True</td>\n      <td>False</td>\n      <td>False</td>\n      <td>False</td>\n      <td>False</td>\n      <td>2.564949</td>\n      <td>...</td>\n      <td>-1.000000</td>\n      <td>-1.000000</td>\n      <td>0.023851</td>\n      <td>0.372247</td>\n      <td>0.005801</td>\n      <td>0.072621</td>\n      <td>-1.000000</td>\n      <td>-1.000000</td>\n      <td>-1.000000</td>\n      <td>-1.000000</td>\n    </tr>\n  </tbody>\n</table>\n<p>258198 rows × 46 columns</p>\n</div>"
     },
     "metadata": {},
     "execution_count": 69
    }
   ],
   "source": [
    "test_data"
   ]
  },
  {
   "cell_type": "code",
   "execution_count": null,
   "metadata": {},
   "outputs": [],
   "source": []
  }
 ]
}