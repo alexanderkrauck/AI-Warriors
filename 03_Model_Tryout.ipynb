{
 "metadata": {
  "language_info": {
   "codemirror_mode": {
    "name": "ipython",
    "version": 3
   },
   "file_extension": ".py",
   "mimetype": "text/x-python",
   "name": "python",
   "nbconvert_exporter": "python",
   "pygments_lexer": "ipython3",
   "version": "3.8.8"
  },
  "orig_nbformat": 2,
  "kernelspec": {
   "name": "python388jvsc74a57bd0c6b843f3af2dabb1e3fbd5873f1c8dddaea821ff1dd89faafeae1498b4512a80",
   "display_name": "Python 3.8.8 64-bit ('m3': conda)"
  }
 },
 "nbformat": 4,
 "nbformat_minor": 2,
 "cells": [
  {
   "cell_type": "code",
   "execution_count": 1,
   "metadata": {},
   "outputs": [],
   "source": [
    "import utils.model\n",
    "import pandas as pd\n",
    "import utils.constants"
   ]
  },
  {
   "cell_type": "code",
   "execution_count": 4,
   "metadata": {},
   "outputs": [
    {
     "output_type": "error",
     "ename": "ImportError",
     "evalue": "Unable to find a usable engine; tried using: 'pyarrow', 'fastparquet'.\nA suitable version of pyarrow or fastparquet is required for parquet support.\nTrying to import the above resulted in these errors:\n - Missing optional dependency 'pyarrow'. pyarrow is required for parquet support. Use pip or conda to install pyarrow.\n - Missing optional dependency 'fastparquet'. fastparquet is required for parquet support. Use pip or conda to install fastparquet.",
     "traceback": [
      "\u001b[1;31m---------------------------------------------------------------------------\u001b[0m",
      "\u001b[1;31mImportError\u001b[0m                               Traceback (most recent call last)",
      "\u001b[1;32m<ipython-input-4-704ca7054820>\u001b[0m in \u001b[0;36m<module>\u001b[1;34m\u001b[0m\n\u001b[1;32m----> 1\u001b[1;33m \u001b[0mdata\u001b[0m \u001b[1;33m=\u001b[0m \u001b[0mpd\u001b[0m\u001b[1;33m.\u001b[0m\u001b[0mread_parquet\u001b[0m\u001b[1;33m(\u001b[0m\u001b[1;34m\"preprocessed_training_features\\\\part.0.parquet\"\u001b[0m\u001b[1;33m)\u001b[0m\u001b[1;33m\u001b[0m\u001b[1;33m\u001b[0m\u001b[0m\n\u001b[0m\u001b[0;32m      2\u001b[0m \u001b[0mtest_data\u001b[0m \u001b[1;33m=\u001b[0m \u001b[0mpd\u001b[0m\u001b[1;33m.\u001b[0m\u001b[0mread_parquet\u001b[0m\u001b[1;33m(\u001b[0m\u001b[1;34m\"preprocessed_training_features\\\\part.1.parquet\"\u001b[0m\u001b[1;33m)\u001b[0m\u001b[1;33m\u001b[0m\u001b[1;33m\u001b[0m\u001b[0m\n\u001b[0;32m      3\u001b[0m feature_columns = ['a_is_verified', 'b_is_verified',\n\u001b[0;32m      4\u001b[0m        \u001b[1;34m'a_follows_b'\u001b[0m\u001b[1;33m,\u001b[0m \u001b[1;34m'bert_token_len'\u001b[0m\u001b[1;33m,\u001b[0m\u001b[1;33m\u001b[0m\u001b[1;33m\u001b[0m\u001b[0m\n\u001b[0;32m      5\u001b[0m         \u001b[1;34m'n_photos'\u001b[0m\u001b[1;33m,\u001b[0m \u001b[1;34m'n_videos'\u001b[0m\u001b[1;33m,\u001b[0m \u001b[1;34m'n_gifs'\u001b[0m\u001b[1;33m,\u001b[0m\u001b[1;33m\u001b[0m\u001b[1;33m\u001b[0m\u001b[0m\n",
      "\u001b[1;32m~\\.conda\\envs\\m3\\lib\\site-packages\\pandas\\io\\parquet.py\u001b[0m in \u001b[0;36mread_parquet\u001b[1;34m(path, engine, columns, use_nullable_dtypes, **kwargs)\u001b[0m\n\u001b[0;32m    456\u001b[0m     \u001b[0mDataFrame\u001b[0m\u001b[1;33m\u001b[0m\u001b[1;33m\u001b[0m\u001b[0m\n\u001b[0;32m    457\u001b[0m     \"\"\"\n\u001b[1;32m--> 458\u001b[1;33m     \u001b[0mimpl\u001b[0m \u001b[1;33m=\u001b[0m \u001b[0mget_engine\u001b[0m\u001b[1;33m(\u001b[0m\u001b[0mengine\u001b[0m\u001b[1;33m)\u001b[0m\u001b[1;33m\u001b[0m\u001b[1;33m\u001b[0m\u001b[0m\n\u001b[0m\u001b[0;32m    459\u001b[0m     return impl.read(\n\u001b[0;32m    460\u001b[0m         \u001b[0mpath\u001b[0m\u001b[1;33m,\u001b[0m \u001b[0mcolumns\u001b[0m\u001b[1;33m=\u001b[0m\u001b[0mcolumns\u001b[0m\u001b[1;33m,\u001b[0m \u001b[0muse_nullable_dtypes\u001b[0m\u001b[1;33m=\u001b[0m\u001b[0muse_nullable_dtypes\u001b[0m\u001b[1;33m,\u001b[0m \u001b[1;33m**\u001b[0m\u001b[0mkwargs\u001b[0m\u001b[1;33m\u001b[0m\u001b[1;33m\u001b[0m\u001b[0m\n",
      "\u001b[1;32m~\\.conda\\envs\\m3\\lib\\site-packages\\pandas\\io\\parquet.py\u001b[0m in \u001b[0;36mget_engine\u001b[1;34m(engine)\u001b[0m\n\u001b[0;32m     34\u001b[0m                 \u001b[0merror_msgs\u001b[0m \u001b[1;33m+=\u001b[0m \u001b[1;34m\"\\n - \"\u001b[0m \u001b[1;33m+\u001b[0m \u001b[0mstr\u001b[0m\u001b[1;33m(\u001b[0m\u001b[0merr\u001b[0m\u001b[1;33m)\u001b[0m\u001b[1;33m\u001b[0m\u001b[1;33m\u001b[0m\u001b[0m\n\u001b[0;32m     35\u001b[0m \u001b[1;33m\u001b[0m\u001b[0m\n\u001b[1;32m---> 36\u001b[1;33m         raise ImportError(\n\u001b[0m\u001b[0;32m     37\u001b[0m             \u001b[1;34m\"Unable to find a usable engine; \"\u001b[0m\u001b[1;33m\u001b[0m\u001b[1;33m\u001b[0m\u001b[0m\n\u001b[0;32m     38\u001b[0m             \u001b[1;34m\"tried using: 'pyarrow', 'fastparquet'.\\n\"\u001b[0m\u001b[1;33m\u001b[0m\u001b[1;33m\u001b[0m\u001b[0m\n",
      "\u001b[1;31mImportError\u001b[0m: Unable to find a usable engine; tried using: 'pyarrow', 'fastparquet'.\nA suitable version of pyarrow or fastparquet is required for parquet support.\nTrying to import the above resulted in these errors:\n - Missing optional dependency 'pyarrow'. pyarrow is required for parquet support. Use pip or conda to install pyarrow.\n - Missing optional dependency 'fastparquet'. fastparquet is required for parquet support. Use pip or conda to install fastparquet."
     ]
    }
   ],
   "source": [
    "data = pd.read_parquet(\"preprocessed_training_features\\\\part.0.parquet\")\n",
    "test_data = pd.read_parquet(\"preprocessed_training_features\\\\part.1.parquet\")\n",
    "feature_columns = ['a_is_verified', 'b_is_verified',\n",
    "       'a_follows_b', 'bert_token_len',\n",
    "        'n_photos', 'n_videos', 'n_gifs',\n",
    "       'type_encoding', 'language_encoding', 'a_followers', 'a_following',\n",
    "       'b_followers', 'b_following', 'day_of_week', 'hour_of_day',\n",
    "       'b_creation_delta', 'a_creation_delta', 'TE_language_encoding_has_reply',\n",
    "       'TE_language_encoding_has_like',\n",
    "       'TE_language_encoding_has_retweet_comment',\n",
    "       'TE_language_encoding_has_retweet', 'TE_type_encoding_has_reply',\n",
    "       'TE_type_encoding_has_like', 'TE_type_encoding_has_retweet_comment',\n",
    "       'TE_type_encoding_has_retweet']"
   ]
  },
  {
   "cell_type": "code",
   "execution_count": null,
   "metadata": {},
   "outputs": [],
   "source": [
    "recsysxgb = utils.model.RecSysXGB1(\"xgb_models_01\")\n",
    "#xgb_params = {}\n",
    "#recsysxgb.train_in_memory(data, feature_columns, {}, save_dir = \"xgb_models_01\")"
   ]
  },
  {
   "cell_type": "code",
   "execution_count": 15,
   "metadata": {},
   "outputs": [],
   "source": [
    "dl = PandasDataLoader(test_data)\n",
    "recsysxgb.evaluate_test_set(dl, output_file = \"output.csv\")"
   ]
  },
  {
   "cell_type": "code",
   "execution_count": 3,
   "metadata": {},
   "outputs": [
    {
     "output_type": "error",
     "ename": "NameError",
     "evalue": "name 'test_data' is not defined",
     "traceback": [
      "\u001b[1;31m---------------------------------------------------------------------------\u001b[0m",
      "\u001b[1;31mNameError\u001b[0m                                 Traceback (most recent call last)",
      "\u001b[1;32m<ipython-input-3-7ac3f8b4763c>\u001b[0m in \u001b[0;36m<module>\u001b[1;34m\u001b[0m\n\u001b[1;32m----> 1\u001b[1;33m \u001b[0mrecsysxgb\u001b[0m\u001b[1;33m.\u001b[0m\u001b[0minfer\u001b[0m\u001b[1;33m(\u001b[0m\u001b[0mtest_data\u001b[0m\u001b[1;33m,\u001b[0m \u001b[0mfeature_columns\u001b[0m\u001b[1;33m)\u001b[0m\u001b[1;33m\u001b[0m\u001b[1;33m\u001b[0m\u001b[0m\n\u001b[0m",
      "\u001b[1;31mNameError\u001b[0m: name 'test_data' is not defined"
     ]
    }
   ],
   "source": [
    "recsysxgb.infer(test_data, feature_columns)"
   ]
  },
  {
   "cell_type": "code",
   "execution_count": 3,
   "metadata": {},
   "outputs": [
    {
     "output_type": "execute_result",
     "data": {
      "text/plain": [
       "                                        0                                 1  \\\n",
       "0        86E96F830895E40DAB8F24F86D83B86E  74D5CE3C365903C64566F9FA5BEECB9C   \n",
       "1        AEE204C567095381322449234EE86E81  9E2A5163444B160FCE11466F2FBA8916   \n",
       "2        9CA1C34EC7E003A5024D84CDED5F9F2A  BA119634422E2546D7DBABB6A5982EEF   \n",
       "3        369D6820D2C39E2E6028EC871E8AF2D7  2B8C960A90BEDC328D682E0E70226793   \n",
       "4        3A4270400ADBF900DD170EFE73CE7622  72C2F73E3F9E85735BC12772E7F1E00C   \n",
       "...                                   ...                               ...   \n",
       "6021783  CD19AB894ABA72AD6C4B9D4BD82E4026  8522351239353E85F111767F8B25C34A   \n",
       "6021784  C4D0567E0D7BAA9206A8FE785BB91FB7  2CFA280F4AD55CEE5E782633977E5AF4   \n",
       "6021785  8E41EA985DB24BF917DC2F08E84D6889  43092FC9E166FD48ECD6609F45CD442B   \n",
       "6021786  F1D9CB611711282AD81EDB54727C177F  74D9CFFF7F2298849DA86C8A6F2BAB3F   \n",
       "6021787  4A9A556334F87E7AFC9239E491FF99A5  25CB7D16D3910254EA4F7BACA123C339   \n",
       "\n",
       "                2         3         4         5  \n",
       "0        0.019257  0.115212  0.022055  0.326475  \n",
       "1        0.038524  0.034698  0.017495  0.621212  \n",
       "2        0.116512  0.092753  0.038210  0.492120  \n",
       "3        0.036331  0.045587  0.014722  0.673827  \n",
       "4        0.020974  0.114041  0.018272  0.232942  \n",
       "...           ...       ...       ...       ...  \n",
       "6021783  0.075917  0.041989  0.016296  0.348669  \n",
       "6021784  0.034605  0.133356  0.027635  0.498689  \n",
       "6021785  0.048031  0.063350  0.018975  0.481854  \n",
       "6021786  0.032689  0.080162  0.023664  0.492081  \n",
       "6021787  0.068773  0.049890  0.019978  0.528264  \n",
       "\n",
       "[6021788 rows x 6 columns]"
      ],
      "text/html": "<div>\n<style scoped>\n    .dataframe tbody tr th:only-of-type {\n        vertical-align: middle;\n    }\n\n    .dataframe tbody tr th {\n        vertical-align: top;\n    }\n\n    .dataframe thead th {\n        text-align: right;\n    }\n</style>\n<table border=\"1\" class=\"dataframe\">\n  <thead>\n    <tr style=\"text-align: right;\">\n      <th></th>\n      <th>0</th>\n      <th>1</th>\n      <th>2</th>\n      <th>3</th>\n      <th>4</th>\n      <th>5</th>\n    </tr>\n  </thead>\n  <tbody>\n    <tr>\n      <th>0</th>\n      <td>86E96F830895E40DAB8F24F86D83B86E</td>\n      <td>74D5CE3C365903C64566F9FA5BEECB9C</td>\n      <td>0.019257</td>\n      <td>0.115212</td>\n      <td>0.022055</td>\n      <td>0.326475</td>\n    </tr>\n    <tr>\n      <th>1</th>\n      <td>AEE204C567095381322449234EE86E81</td>\n      <td>9E2A5163444B160FCE11466F2FBA8916</td>\n      <td>0.038524</td>\n      <td>0.034698</td>\n      <td>0.017495</td>\n      <td>0.621212</td>\n    </tr>\n    <tr>\n      <th>2</th>\n      <td>9CA1C34EC7E003A5024D84CDED5F9F2A</td>\n      <td>BA119634422E2546D7DBABB6A5982EEF</td>\n      <td>0.116512</td>\n      <td>0.092753</td>\n      <td>0.038210</td>\n      <td>0.492120</td>\n    </tr>\n    <tr>\n      <th>3</th>\n      <td>369D6820D2C39E2E6028EC871E8AF2D7</td>\n      <td>2B8C960A90BEDC328D682E0E70226793</td>\n      <td>0.036331</td>\n      <td>0.045587</td>\n      <td>0.014722</td>\n      <td>0.673827</td>\n    </tr>\n    <tr>\n      <th>4</th>\n      <td>3A4270400ADBF900DD170EFE73CE7622</td>\n      <td>72C2F73E3F9E85735BC12772E7F1E00C</td>\n      <td>0.020974</td>\n      <td>0.114041</td>\n      <td>0.018272</td>\n      <td>0.232942</td>\n    </tr>\n    <tr>\n      <th>...</th>\n      <td>...</td>\n      <td>...</td>\n      <td>...</td>\n      <td>...</td>\n      <td>...</td>\n      <td>...</td>\n    </tr>\n    <tr>\n      <th>6021783</th>\n      <td>CD19AB894ABA72AD6C4B9D4BD82E4026</td>\n      <td>8522351239353E85F111767F8B25C34A</td>\n      <td>0.075917</td>\n      <td>0.041989</td>\n      <td>0.016296</td>\n      <td>0.348669</td>\n    </tr>\n    <tr>\n      <th>6021784</th>\n      <td>C4D0567E0D7BAA9206A8FE785BB91FB7</td>\n      <td>2CFA280F4AD55CEE5E782633977E5AF4</td>\n      <td>0.034605</td>\n      <td>0.133356</td>\n      <td>0.027635</td>\n      <td>0.498689</td>\n    </tr>\n    <tr>\n      <th>6021785</th>\n      <td>8E41EA985DB24BF917DC2F08E84D6889</td>\n      <td>43092FC9E166FD48ECD6609F45CD442B</td>\n      <td>0.048031</td>\n      <td>0.063350</td>\n      <td>0.018975</td>\n      <td>0.481854</td>\n    </tr>\n    <tr>\n      <th>6021786</th>\n      <td>F1D9CB611711282AD81EDB54727C177F</td>\n      <td>74D9CFFF7F2298849DA86C8A6F2BAB3F</td>\n      <td>0.032689</td>\n      <td>0.080162</td>\n      <td>0.023664</td>\n      <td>0.492081</td>\n    </tr>\n    <tr>\n      <th>6021787</th>\n      <td>4A9A556334F87E7AFC9239E491FF99A5</td>\n      <td>25CB7D16D3910254EA4F7BACA123C339</td>\n      <td>0.068773</td>\n      <td>0.049890</td>\n      <td>0.019978</td>\n      <td>0.528264</td>\n    </tr>\n  </tbody>\n</table>\n<p>6021788 rows × 6 columns</p>\n</div>"
     },
     "metadata": {},
     "execution_count": 3
    }
   ],
   "source": [
    "pd.read_csv(\"simple_pandas_run\\\\results.csv\",  header=None)"
   ]
  },
  {
   "cell_type": "code",
   "execution_count": 5,
   "metadata": {},
   "outputs": [
    {
     "output_type": "execute_result",
     "data": {
      "text/plain": [
       "   bert_base_multilingual_cased_tokens  \\\n",
       "0                                    0   \n",
       "1                                    1   \n",
       "2                                    2   \n",
       "3                                    3   \n",
       "4                                    4   \n",
       "\n",
       "                                            hashtags  \\\n",
       "0  101\\t56898\\t137\\t78722\\t101518\\t10113\\t131\\t14...   \n",
       "1  101\\t12845\\t10285\\t62330\\t10107\\t10911\\t10121\\...   \n",
       "2            101\\t146\\t11337\\t20780\\t13028\\t119\\t102   \n",
       "3  101\\t56898\\t137\\t105192\\t105353\\t21127\\t10240\\...   \n",
       "4  101\\t56898\\t137\\t11859\\t11418\\t85004\\t10165\\t1...   \n",
       "\n",
       "                                            tweet_id  \\\n",
       "0  F057EABF27033C86635DACA39B75860A\\tE4367F69BD34...   \n",
       "1                                                NaN   \n",
       "2                                                NaN   \n",
       "3                                                NaN   \n",
       "4  AB7684EA0831CFD4A6269EFC770A8397\\t10420B9DA1F0...   \n",
       "\n",
       "                             medias  links domains type language  \\\n",
       "0  C23924CADFBB076A7D2D7F9096BF07B7  Photo     NaN  NaN  Retweet   \n",
       "1  CB4EC1A0ECB0CCBCAD05420E96ED4DD8    NaN     NaN  NaN    Quote   \n",
       "2  7CA02AC9EA45304CAFB61066DDF523ED    NaN     NaN  NaN    Quote   \n",
       "3  C324FDFA8D361DDA8C275B52F08311A7  Video     NaN  NaN  Retweet   \n",
       "4  25B61B9D047F7FA940AF0CC585F2EDF8    NaN     NaN  NaN  Retweet   \n",
       "\n",
       "                          timestamp   a_user_id  ...   b_user_id  \\\n",
       "0  9FCF19233EAD65EA6E32C2E6DC03A444  1612516671  ...  1379690719   \n",
       "1  B0FA488F2911701DD8EC5B1EA5E322D8  1613837103  ...  1423845537   \n",
       "2  488B32D24BD4BB44172EB981C1BCA6FA  1613855527  ...  1304754718   \n",
       "3  9FCF19233EAD65EA6E32C2E6DC03A444  1612681684  ...  1471693022   \n",
       "4  E7F038DE3EAD397AEC9193686C911677  1612867625  ...  1256282122   \n",
       "\n",
       "                   b_follower_count  b_following_count  b_is_verified  \\\n",
       "0  2CF8B49FB083BC4EC687C601F64EA8AD                683            689   \n",
       "1  77AF0FFF70745B62F02E2C590AAB0541                588           1670   \n",
       "2  6E3596FBE5441CCAC38229755C8506F4                297            595   \n",
       "3  6F9E0D6DDCF0DD79E740C4A7F999EEC7                134            917   \n",
       "4  4B4E3B3AF68B830214A6BC2C25EAA708                224            184   \n",
       "\n",
       "   b_account_creation a_follows_b  reply  retweet  retweet_comment  like  \n",
       "0               False  1265254445   True      NaN              NaN   NaN  \n",
       "1               False  1304362682  False      NaN              NaN   NaN  \n",
       "2               False  1528559689   True      NaN              NaN   NaN  \n",
       "3               False  1531225320  False      NaN              NaN   NaN  \n",
       "4               False  1466501106  False      NaN              NaN   NaN  \n",
       "\n",
       "[5 rows x 24 columns]"
      ],
      "text/html": "<div>\n<style scoped>\n    .dataframe tbody tr th:only-of-type {\n        vertical-align: middle;\n    }\n\n    .dataframe tbody tr th {\n        vertical-align: top;\n    }\n\n    .dataframe thead th {\n        text-align: right;\n    }\n</style>\n<table border=\"1\" class=\"dataframe\">\n  <thead>\n    <tr style=\"text-align: right;\">\n      <th></th>\n      <th>bert_base_multilingual_cased_tokens</th>\n      <th>hashtags</th>\n      <th>tweet_id</th>\n      <th>medias</th>\n      <th>links</th>\n      <th>domains</th>\n      <th>type</th>\n      <th>language</th>\n      <th>timestamp</th>\n      <th>a_user_id</th>\n      <th>...</th>\n      <th>b_user_id</th>\n      <th>b_follower_count</th>\n      <th>b_following_count</th>\n      <th>b_is_verified</th>\n      <th>b_account_creation</th>\n      <th>a_follows_b</th>\n      <th>reply</th>\n      <th>retweet</th>\n      <th>retweet_comment</th>\n      <th>like</th>\n    </tr>\n  </thead>\n  <tbody>\n    <tr>\n      <th>0</th>\n      <td>0</td>\n      <td>101\\t56898\\t137\\t78722\\t101518\\t10113\\t131\\t14...</td>\n      <td>F057EABF27033C86635DACA39B75860A\\tE4367F69BD34...</td>\n      <td>C23924CADFBB076A7D2D7F9096BF07B7</td>\n      <td>Photo</td>\n      <td>NaN</td>\n      <td>NaN</td>\n      <td>Retweet</td>\n      <td>9FCF19233EAD65EA6E32C2E6DC03A444</td>\n      <td>1612516671</td>\n      <td>...</td>\n      <td>1379690719</td>\n      <td>2CF8B49FB083BC4EC687C601F64EA8AD</td>\n      <td>683</td>\n      <td>689</td>\n      <td>False</td>\n      <td>1265254445</td>\n      <td>True</td>\n      <td>NaN</td>\n      <td>NaN</td>\n      <td>NaN</td>\n    </tr>\n    <tr>\n      <th>1</th>\n      <td>1</td>\n      <td>101\\t12845\\t10285\\t62330\\t10107\\t10911\\t10121\\...</td>\n      <td>NaN</td>\n      <td>CB4EC1A0ECB0CCBCAD05420E96ED4DD8</td>\n      <td>NaN</td>\n      <td>NaN</td>\n      <td>NaN</td>\n      <td>Quote</td>\n      <td>B0FA488F2911701DD8EC5B1EA5E322D8</td>\n      <td>1613837103</td>\n      <td>...</td>\n      <td>1423845537</td>\n      <td>77AF0FFF70745B62F02E2C590AAB0541</td>\n      <td>588</td>\n      <td>1670</td>\n      <td>False</td>\n      <td>1304362682</td>\n      <td>False</td>\n      <td>NaN</td>\n      <td>NaN</td>\n      <td>NaN</td>\n    </tr>\n    <tr>\n      <th>2</th>\n      <td>2</td>\n      <td>101\\t146\\t11337\\t20780\\t13028\\t119\\t102</td>\n      <td>NaN</td>\n      <td>7CA02AC9EA45304CAFB61066DDF523ED</td>\n      <td>NaN</td>\n      <td>NaN</td>\n      <td>NaN</td>\n      <td>Quote</td>\n      <td>488B32D24BD4BB44172EB981C1BCA6FA</td>\n      <td>1613855527</td>\n      <td>...</td>\n      <td>1304754718</td>\n      <td>6E3596FBE5441CCAC38229755C8506F4</td>\n      <td>297</td>\n      <td>595</td>\n      <td>False</td>\n      <td>1528559689</td>\n      <td>True</td>\n      <td>NaN</td>\n      <td>NaN</td>\n      <td>NaN</td>\n    </tr>\n    <tr>\n      <th>3</th>\n      <td>3</td>\n      <td>101\\t56898\\t137\\t105192\\t105353\\t21127\\t10240\\...</td>\n      <td>NaN</td>\n      <td>C324FDFA8D361DDA8C275B52F08311A7</td>\n      <td>Video</td>\n      <td>NaN</td>\n      <td>NaN</td>\n      <td>Retweet</td>\n      <td>9FCF19233EAD65EA6E32C2E6DC03A444</td>\n      <td>1612681684</td>\n      <td>...</td>\n      <td>1471693022</td>\n      <td>6F9E0D6DDCF0DD79E740C4A7F999EEC7</td>\n      <td>134</td>\n      <td>917</td>\n      <td>False</td>\n      <td>1531225320</td>\n      <td>False</td>\n      <td>NaN</td>\n      <td>NaN</td>\n      <td>NaN</td>\n    </tr>\n    <tr>\n      <th>4</th>\n      <td>4</td>\n      <td>101\\t56898\\t137\\t11859\\t11418\\t85004\\t10165\\t1...</td>\n      <td>AB7684EA0831CFD4A6269EFC770A8397\\t10420B9DA1F0...</td>\n      <td>25B61B9D047F7FA940AF0CC585F2EDF8</td>\n      <td>NaN</td>\n      <td>NaN</td>\n      <td>NaN</td>\n      <td>Retweet</td>\n      <td>E7F038DE3EAD397AEC9193686C911677</td>\n      <td>1612867625</td>\n      <td>...</td>\n      <td>1256282122</td>\n      <td>4B4E3B3AF68B830214A6BC2C25EAA708</td>\n      <td>224</td>\n      <td>184</td>\n      <td>False</td>\n      <td>1466501106</td>\n      <td>False</td>\n      <td>NaN</td>\n      <td>NaN</td>\n      <td>NaN</td>\n    </tr>\n  </tbody>\n</table>\n<p>5 rows × 24 columns</p>\n</div>"
     },
     "metadata": {},
     "execution_count": 5
    }
   ],
   "source": [
    "#f2 = f2.drop([\"reply\",\"retweet\",\"retweet_comment\",\"like\"], axis=1)\n",
    "f2.head()"
   ]
  },
  {
   "cell_type": "code",
   "execution_count": 30,
   "metadata": {},
   "outputs": [],
   "source": [
    "f2.to_csv(\"simple_pandas_run\\\\test\\\\part-00003.csv\", sep='\\x01', header=False)"
   ]
  },
  {
   "cell_type": "code",
   "execution_count": null,
   "metadata": {},
   "outputs": [],
   "source": []
  }
 ]
}