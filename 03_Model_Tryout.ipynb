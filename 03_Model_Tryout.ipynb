{
 "metadata": {
  "language_info": {
   "codemirror_mode": {
    "name": "ipython",
    "version": 3
   },
   "file_extension": ".py",
   "mimetype": "text/x-python",
   "name": "python",
   "nbconvert_exporter": "python",
   "pygments_lexer": "ipython3",
   "version": "3.8.8"
  },
  "orig_nbformat": 2,
  "kernelspec": {
   "name": "python388jvsc74a57bd0c6b843f3af2dabb1e3fbd5873f1c8dddaea821ff1dd89faafeae1498b4512a80",
   "display_name": "Python 3.8.8 64-bit ('m3': conda)"
  }
 },
 "nbformat": 4,
 "nbformat_minor": 2,
 "cells": [
  {
   "cell_type": "code",
   "execution_count": 8,
   "metadata": {},
   "outputs": [],
   "source": [
    "import utils.model\n",
    "import pandas as pd\n",
    "import utils.constants\n",
    "import sklearn\n",
    "import numpy as np"
   ]
  },
  {
   "cell_type": "code",
   "execution_count": 9,
   "metadata": {},
   "outputs": [],
   "source": [
    "train_data = pd.read_parquet(\"preprocessed_training_features\\\\part.0.parquet\")\n",
    "test_data = pd.read_parquet(\"preprocessed_validation_features\\\\part.1.parquet\")\n",
    "feature_columns_w_TE = ['a_is_verified', 'b_is_verified',\n",
    "       'a_follows_b', 'bert_token_len',\n",
    "        'n_photos', 'n_videos', 'n_gifs',\n",
    "       'type_encoding', 'language_encoding', 'a_followers', 'a_following',\n",
    "       'b_followers', 'b_following', 'day_of_week', 'hour_of_day',\n",
    "       'b_creation_delta', 'a_creation_delta', 'TE_language_encoding_has_reply',\n",
    "       'TE_language_encoding_has_like',\n",
    "       'TE_language_encoding_has_retweet_comment',\n",
    "       'TE_language_encoding_has_retweet', 'TE_type_encoding_has_reply',\n",
    "       'TE_type_encoding_has_like', 'TE_type_encoding_has_retweet_comment',\n",
    "       'TE_type_encoding_has_retweet', 'TE_a_hash_has_reply',\n",
    "       'TE_a_hash_has_like', 'TE_a_hash_has_retweet_comment',\n",
    "       'TE_a_hash_has_retweet', 'TE_b_hash_has_reply', 'TE_b_hash_has_like',\n",
    "       'TE_b_hash_has_retweet_comment', 'TE_b_hash_has_retweet',\n",
    "       'TE_tweet_hash_has_reply', 'TE_tweet_hash_has_like',\n",
    "       'TE_tweet_hash_has_retweet_comment', 'TE_tweet_hash_has_retweet']\n",
    "\n",
    "feature_columns_wo_TE = ['a_is_verified', 'b_is_verified',\n",
    "       'a_follows_b', 'bert_token_len',\n",
    "        'n_photos', 'n_videos', 'n_gifs',\n",
    "       'type_encoding', 'language_encoding', 'a_followers', 'a_following',\n",
    "       'b_followers', 'b_following', 'day_of_week', 'hour_of_day',\n",
    "       'b_creation_delta', 'a_creation_delta']"
   ]
  },
  {
   "cell_type": "code",
   "execution_count": 10,
   "metadata": {},
   "outputs": [],
   "source": [
    "def random_mask_columns(df, columns, prob=0.75):\n",
    "    inds = np.random.binomial(1, prob, size = len(df)).astype(bool)\n",
    "    cols = df[columns]\n",
    "    cols.loc[inds] = -1\n",
    "    df[columns] = cols\n",
    "    return df"
   ]
  },
  {
   "cell_type": "code",
   "execution_count": 11,
   "metadata": {},
   "outputs": [
    {
     "output_type": "stream",
     "name": "stderr",
     "text": [
      "C:\\Users\\alexa\\.conda\\envs\\m3\\lib\\site-packages\\pandas\\core\\indexing.py:1637: SettingWithCopyWarning: \nA value is trying to be set on a copy of a slice from a DataFrame\n\nSee the caveats in the documentation: https://pandas.pydata.org/pandas-docs/stable/user_guide/indexing.html#returning-a-view-versus-a-copy\n  self._setitem_single_block(indexer, value, name)\nC:\\Users\\alexa\\.conda\\envs\\m3\\lib\\site-packages\\pandas\\core\\indexing.py:692: SettingWithCopyWarning: \nA value is trying to be set on a copy of a slice from a DataFrame\n\nSee the caveats in the documentation: https://pandas.pydata.org/pandas-docs/stable/user_guide/indexing.html#returning-a-view-versus-a-copy\n  iloc._setitem_with_indexer(indexer, value, self.name)\n"
     ]
    }
   ],
   "source": [
    "train_data = random_mask_columns(train_data, ['TE_a_hash_has_reply','TE_a_hash_has_like', 'TE_a_hash_has_retweet_comment','TE_a_hash_has_retweet'])\n",
    "train_data = random_mask_columns(train_data, ['TE_b_hash_has_reply', 'TE_b_hash_has_like','TE_b_hash_has_retweet_comment', 'TE_b_hash_has_retweet'])\n",
    "train_data = random_mask_columns(train_data, ['TE_tweet_hash_has_reply', 'TE_tweet_hash_has_like','TE_tweet_hash_has_retweet_comment', 'TE_tweet_hash_has_retweet'])"
   ]
  },
  {
   "cell_type": "code",
   "execution_count": 12,
   "metadata": {},
   "outputs": [],
   "source": [
    "recsysxgb = utils.model.RecSysXGB1()\n",
    "xgb_params = {'objective': 'binary:logistic', 'eval_metric':'map'}\n",
    "recsysxgb.train_in_memory(train_data, feature_columns_w_TE, xgb_params, save_dir = \"xgb_models_02\")#add random mask for train data."
   ]
  },
  {
   "cell_type": "code",
   "execution_count": 13,
   "metadata": {},
   "outputs": [
    {
     "output_type": "stream",
     "name": "stdout",
     "text": [
      "0.6419358790765154\n0.5764507215228738\n"
     ]
    },
    {
     "output_type": "display_data",
     "data": {
      "text/plain": "<Figure size 432x288 with 2 Axes>",
      "image/svg+xml": "<?xml version=\"1.0\" encoding=\"utf-8\" standalone=\"no\"?>\r\n<!DOCTYPE svg PUBLIC \"-//W3C//DTD SVG 1.1//EN\"\r\n  \"http://www.w3.org/Graphics/SVG/1.1/DTD/svg11.dtd\">\r\n<svg height=\"262.19625pt\" version=\"1.1\" viewBox=\"0 0 331.667625 262.19625\" width=\"331.667625pt\" xmlns=\"http://www.w3.org/2000/svg\" xmlns:xlink=\"http://www.w3.org/1999/xlink\">\r\n <metadata>\r\n  <rdf:RDF xmlns:cc=\"http://creativecommons.org/ns#\" xmlns:dc=\"http://purl.org/dc/elements/1.1/\" xmlns:rdf=\"http://www.w3.org/1999/02/22-rdf-syntax-ns#\">\r\n   <cc:Work>\r\n    <dc:type rdf:resource=\"http://purl.org/dc/dcmitype/StillImage\"/>\r\n    <dc:date>2021-05-10T14:26:45.597068</dc:date>\r\n    <dc:format>image/svg+xml</dc:format>\r\n    <dc:creator>\r\n     <cc:Agent>\r\n      <dc:title>Matplotlib v3.4.1, https://matplotlib.org/</dc:title>\r\n     </cc:Agent>\r\n    </dc:creator>\r\n   </cc:Work>\r\n  </rdf:RDF>\r\n </metadata>\r\n <defs>\r\n  <style type=\"text/css\">*{stroke-linecap:butt;stroke-linejoin:round;}</style>\r\n </defs>\r\n <g id=\"figure_1\">\r\n  <g id=\"patch_1\">\r\n   <path d=\"M 0 262.19625 \r\nL 331.667625 262.19625 \r\nL 331.667625 0 \r\nL 0 0 \r\nz\r\n\" style=\"fill:none;\"/>\r\n  </g>\r\n  <g id=\"axes_1\">\r\n   <g id=\"patch_2\">\r\n    <path d=\"M 34.240625 224.64 \r\nL 251.680625 224.64 \r\nL 251.680625 7.2 \r\nL 34.240625 7.2 \r\nz\r\n\" style=\"fill:#ffffff;\"/>\r\n   </g>\r\n   <g clip-path=\"url(#pd3045f9bef)\">\r\n    <image height=\"218\" id=\"image85d94bee6c\" transform=\"scale(1 -1)translate(0 -218)\" width=\"218\" x=\"34.240625\" xlink:href=\"data:image/png;base64,\r\niVBORw0KGgoAAAANSUhEUgAAANoAAADaCAYAAADAHVzbAAACmUlEQVR4nO3VsQ3CQAAEQUwVFhIZIQFduBcapwYCZNfwyb6QZyq4ZHXLtr73C3/l+7zPnsCg6+wBcAZCg4DQICA0CAgNAkKDgNAgIDQICA0CQoOA0CAgNAgIDQJCg4DQICA0CAgNAkKDgNAgIDQICA0CQoOA0CAgNAgIDQJCg4DQICA0CAgNAkKDgNAgIDQICA0CQoOA0CAgNAgIDQJCg4DQICA0CAgNAkKDgNAgIDQICA0CQoOA0CAgNAgIDQJCg4DQICA0CAgNAkKDgNAgIDQICA0CQoOA0CAgNAgIDQJCg4DQICA0CAgNAkKDgNAgIDQICA0CQoOA0CAgNAgIDQJCg4DQICA0CAgNAkKDgNAgIDQICA0CQoOA0CAgNAgIDQJCg4DQICA0CAgNAkKDgNAgIDQICA0CQoOA0CAgNAgIDQJCg4DQICA0CAgNAkKDgNAgIDQICA0CQoOA0CAgNAgsv89jnz2CMdvtNXsCgzwaBIQGAaFBQGgQEBoEhAYBoUFAaBAQGgSEBgGhQUBoEBAaBIQGAaFBQGgQEBoEhAYBoUFAaBAQGgSEBgGhQUBoEBAaBIQGAaFBQGgQEBoEhAYBoUFAaBAQGgSEBgGhQUBoEBAaBIQGAaFBQGgQEBoEhAYBoUFAaBAQGgSEBgGhQUBoEBAaBIQGAaFBQGgQEBoEhAYBoUFAaBAQGgSEBgGhQUBoEBAaBIQGAaFBQGgQEBoEhAYBoUFAaBAQGgSEBgGhQUBoEBAaBIQGAaFBQGgQEBoEhAYBoUFAaBAQGgSEBgGhQUBoEBAaBIQGAaFBQGgQEBoEhAYBoUFAaBAQGgSEBgGhQUBoEBAaBIQGAaFBQGgQEBoEhAYBoUFAaBAQGgSEBgGhQUBoEDgAa08IVRsdJ24AAAAASUVORK5CYII=\" y=\"-6.64\"/>\r\n   </g>\r\n   <g id=\"matplotlib.axis_1\">\r\n    <g id=\"xtick_1\">\r\n     <g id=\"line2d_1\">\r\n      <defs>\r\n       <path d=\"M 0 0 \r\nL 0 3.5 \r\n\" id=\"me0d0fab35c\" style=\"stroke:#000000;stroke-width:0.8;\"/>\r\n      </defs>\r\n      <g>\r\n       <use style=\"stroke:#000000;stroke-width:0.8;\" x=\"88.600625\" xlink:href=\"#me0d0fab35c\" y=\"224.64\"/>\r\n      </g>\r\n     </g>\r\n     <g id=\"text_1\">\r\n      <!-- 0 -->\r\n      <g transform=\"translate(85.419375 239.238437)scale(0.1 -0.1)\">\r\n       <defs>\r\n        <path d=\"M 2034 4250 \r\nQ 1547 4250 1301 3770 \r\nQ 1056 3291 1056 2328 \r\nQ 1056 1369 1301 889 \r\nQ 1547 409 2034 409 \r\nQ 2525 409 2770 889 \r\nQ 3016 1369 3016 2328 \r\nQ 3016 3291 2770 3770 \r\nQ 2525 4250 2034 4250 \r\nz\r\nM 2034 4750 \r\nQ 2819 4750 3233 4129 \r\nQ 3647 3509 3647 2328 \r\nQ 3647 1150 3233 529 \r\nQ 2819 -91 2034 -91 \r\nQ 1250 -91 836 529 \r\nQ 422 1150 422 2328 \r\nQ 422 3509 836 4129 \r\nQ 1250 4750 2034 4750 \r\nz\r\n\" id=\"DejaVuSans-30\" transform=\"scale(0.015625)\"/>\r\n       </defs>\r\n       <use xlink:href=\"#DejaVuSans-30\"/>\r\n      </g>\r\n     </g>\r\n    </g>\r\n    <g id=\"xtick_2\">\r\n     <g id=\"line2d_2\">\r\n      <g>\r\n       <use style=\"stroke:#000000;stroke-width:0.8;\" x=\"197.320625\" xlink:href=\"#me0d0fab35c\" y=\"224.64\"/>\r\n      </g>\r\n     </g>\r\n     <g id=\"text_2\">\r\n      <!-- 1 -->\r\n      <g transform=\"translate(194.139375 239.238437)scale(0.1 -0.1)\">\r\n       <defs>\r\n        <path d=\"M 794 531 \r\nL 1825 531 \r\nL 1825 4091 \r\nL 703 3866 \r\nL 703 4441 \r\nL 1819 4666 \r\nL 2450 4666 \r\nL 2450 531 \r\nL 3481 531 \r\nL 3481 0 \r\nL 794 0 \r\nL 794 531 \r\nz\r\n\" id=\"DejaVuSans-31\" transform=\"scale(0.015625)\"/>\r\n       </defs>\r\n       <use xlink:href=\"#DejaVuSans-31\"/>\r\n      </g>\r\n     </g>\r\n    </g>\r\n    <g id=\"text_3\">\r\n     <!-- Predicted label -->\r\n     <g transform=\"translate(105.808281 252.916562)scale(0.1 -0.1)\">\r\n      <defs>\r\n       <path d=\"M 1259 4147 \r\nL 1259 2394 \r\nL 2053 2394 \r\nQ 2494 2394 2734 2622 \r\nQ 2975 2850 2975 3272 \r\nQ 2975 3691 2734 3919 \r\nQ 2494 4147 2053 4147 \r\nL 1259 4147 \r\nz\r\nM 628 4666 \r\nL 2053 4666 \r\nQ 2838 4666 3239 4311 \r\nQ 3641 3956 3641 3272 \r\nQ 3641 2581 3239 2228 \r\nQ 2838 1875 2053 1875 \r\nL 1259 1875 \r\nL 1259 0 \r\nL 628 0 \r\nL 628 4666 \r\nz\r\n\" id=\"DejaVuSans-50\" transform=\"scale(0.015625)\"/>\r\n       <path d=\"M 2631 2963 \r\nQ 2534 3019 2420 3045 \r\nQ 2306 3072 2169 3072 \r\nQ 1681 3072 1420 2755 \r\nQ 1159 2438 1159 1844 \r\nL 1159 0 \r\nL 581 0 \r\nL 581 3500 \r\nL 1159 3500 \r\nL 1159 2956 \r\nQ 1341 3275 1631 3429 \r\nQ 1922 3584 2338 3584 \r\nQ 2397 3584 2469 3576 \r\nQ 2541 3569 2628 3553 \r\nL 2631 2963 \r\nz\r\n\" id=\"DejaVuSans-72\" transform=\"scale(0.015625)\"/>\r\n       <path d=\"M 3597 1894 \r\nL 3597 1613 \r\nL 953 1613 \r\nQ 991 1019 1311 708 \r\nQ 1631 397 2203 397 \r\nQ 2534 397 2845 478 \r\nQ 3156 559 3463 722 \r\nL 3463 178 \r\nQ 3153 47 2828 -22 \r\nQ 2503 -91 2169 -91 \r\nQ 1331 -91 842 396 \r\nQ 353 884 353 1716 \r\nQ 353 2575 817 3079 \r\nQ 1281 3584 2069 3584 \r\nQ 2775 3584 3186 3129 \r\nQ 3597 2675 3597 1894 \r\nz\r\nM 3022 2063 \r\nQ 3016 2534 2758 2815 \r\nQ 2500 3097 2075 3097 \r\nQ 1594 3097 1305 2825 \r\nQ 1016 2553 972 2059 \r\nL 3022 2063 \r\nz\r\n\" id=\"DejaVuSans-65\" transform=\"scale(0.015625)\"/>\r\n       <path d=\"M 2906 2969 \r\nL 2906 4863 \r\nL 3481 4863 \r\nL 3481 0 \r\nL 2906 0 \r\nL 2906 525 \r\nQ 2725 213 2448 61 \r\nQ 2172 -91 1784 -91 \r\nQ 1150 -91 751 415 \r\nQ 353 922 353 1747 \r\nQ 353 2572 751 3078 \r\nQ 1150 3584 1784 3584 \r\nQ 2172 3584 2448 3432 \r\nQ 2725 3281 2906 2969 \r\nz\r\nM 947 1747 \r\nQ 947 1113 1208 752 \r\nQ 1469 391 1925 391 \r\nQ 2381 391 2643 752 \r\nQ 2906 1113 2906 1747 \r\nQ 2906 2381 2643 2742 \r\nQ 2381 3103 1925 3103 \r\nQ 1469 3103 1208 2742 \r\nQ 947 2381 947 1747 \r\nz\r\n\" id=\"DejaVuSans-64\" transform=\"scale(0.015625)\"/>\r\n       <path d=\"M 603 3500 \r\nL 1178 3500 \r\nL 1178 0 \r\nL 603 0 \r\nL 603 3500 \r\nz\r\nM 603 4863 \r\nL 1178 4863 \r\nL 1178 4134 \r\nL 603 4134 \r\nL 603 4863 \r\nz\r\n\" id=\"DejaVuSans-69\" transform=\"scale(0.015625)\"/>\r\n       <path d=\"M 3122 3366 \r\nL 3122 2828 \r\nQ 2878 2963 2633 3030 \r\nQ 2388 3097 2138 3097 \r\nQ 1578 3097 1268 2742 \r\nQ 959 2388 959 1747 \r\nQ 959 1106 1268 751 \r\nQ 1578 397 2138 397 \r\nQ 2388 397 2633 464 \r\nQ 2878 531 3122 666 \r\nL 3122 134 \r\nQ 2881 22 2623 -34 \r\nQ 2366 -91 2075 -91 \r\nQ 1284 -91 818 406 \r\nQ 353 903 353 1747 \r\nQ 353 2603 823 3093 \r\nQ 1294 3584 2113 3584 \r\nQ 2378 3584 2631 3529 \r\nQ 2884 3475 3122 3366 \r\nz\r\n\" id=\"DejaVuSans-63\" transform=\"scale(0.015625)\"/>\r\n       <path d=\"M 1172 4494 \r\nL 1172 3500 \r\nL 2356 3500 \r\nL 2356 3053 \r\nL 1172 3053 \r\nL 1172 1153 \r\nQ 1172 725 1289 603 \r\nQ 1406 481 1766 481 \r\nL 2356 481 \r\nL 2356 0 \r\nL 1766 0 \r\nQ 1100 0 847 248 \r\nQ 594 497 594 1153 \r\nL 594 3053 \r\nL 172 3053 \r\nL 172 3500 \r\nL 594 3500 \r\nL 594 4494 \r\nL 1172 4494 \r\nz\r\n\" id=\"DejaVuSans-74\" transform=\"scale(0.015625)\"/>\r\n       <path id=\"DejaVuSans-20\" transform=\"scale(0.015625)\"/>\r\n       <path d=\"M 603 4863 \r\nL 1178 4863 \r\nL 1178 0 \r\nL 603 0 \r\nL 603 4863 \r\nz\r\n\" id=\"DejaVuSans-6c\" transform=\"scale(0.015625)\"/>\r\n       <path d=\"M 2194 1759 \r\nQ 1497 1759 1228 1600 \r\nQ 959 1441 959 1056 \r\nQ 959 750 1161 570 \r\nQ 1363 391 1709 391 \r\nQ 2188 391 2477 730 \r\nQ 2766 1069 2766 1631 \r\nL 2766 1759 \r\nL 2194 1759 \r\nz\r\nM 3341 1997 \r\nL 3341 0 \r\nL 2766 0 \r\nL 2766 531 \r\nQ 2569 213 2275 61 \r\nQ 1981 -91 1556 -91 \r\nQ 1019 -91 701 211 \r\nQ 384 513 384 1019 \r\nQ 384 1609 779 1909 \r\nQ 1175 2209 1959 2209 \r\nL 2766 2209 \r\nL 2766 2266 \r\nQ 2766 2663 2505 2880 \r\nQ 2244 3097 1772 3097 \r\nQ 1472 3097 1187 3025 \r\nQ 903 2953 641 2809 \r\nL 641 3341 \r\nQ 956 3463 1253 3523 \r\nQ 1550 3584 1831 3584 \r\nQ 2591 3584 2966 3190 \r\nQ 3341 2797 3341 1997 \r\nz\r\n\" id=\"DejaVuSans-61\" transform=\"scale(0.015625)\"/>\r\n       <path d=\"M 3116 1747 \r\nQ 3116 2381 2855 2742 \r\nQ 2594 3103 2138 3103 \r\nQ 1681 3103 1420 2742 \r\nQ 1159 2381 1159 1747 \r\nQ 1159 1113 1420 752 \r\nQ 1681 391 2138 391 \r\nQ 2594 391 2855 752 \r\nQ 3116 1113 3116 1747 \r\nz\r\nM 1159 2969 \r\nQ 1341 3281 1617 3432 \r\nQ 1894 3584 2278 3584 \r\nQ 2916 3584 3314 3078 \r\nQ 3713 2572 3713 1747 \r\nQ 3713 922 3314 415 \r\nQ 2916 -91 2278 -91 \r\nQ 1894 -91 1617 61 \r\nQ 1341 213 1159 525 \r\nL 1159 0 \r\nL 581 0 \r\nL 581 4863 \r\nL 1159 4863 \r\nL 1159 2969 \r\nz\r\n\" id=\"DejaVuSans-62\" transform=\"scale(0.015625)\"/>\r\n      </defs>\r\n      <use xlink:href=\"#DejaVuSans-50\"/>\r\n      <use x=\"58.552734\" xlink:href=\"#DejaVuSans-72\"/>\r\n      <use x=\"97.416016\" xlink:href=\"#DejaVuSans-65\"/>\r\n      <use x=\"158.939453\" xlink:href=\"#DejaVuSans-64\"/>\r\n      <use x=\"222.416016\" xlink:href=\"#DejaVuSans-69\"/>\r\n      <use x=\"250.199219\" xlink:href=\"#DejaVuSans-63\"/>\r\n      <use x=\"305.179688\" xlink:href=\"#DejaVuSans-74\"/>\r\n      <use x=\"344.388672\" xlink:href=\"#DejaVuSans-65\"/>\r\n      <use x=\"405.912109\" xlink:href=\"#DejaVuSans-64\"/>\r\n      <use x=\"469.388672\" xlink:href=\"#DejaVuSans-20\"/>\r\n      <use x=\"501.175781\" xlink:href=\"#DejaVuSans-6c\"/>\r\n      <use x=\"528.958984\" xlink:href=\"#DejaVuSans-61\"/>\r\n      <use x=\"590.238281\" xlink:href=\"#DejaVuSans-62\"/>\r\n      <use x=\"653.714844\" xlink:href=\"#DejaVuSans-65\"/>\r\n      <use x=\"715.238281\" xlink:href=\"#DejaVuSans-6c\"/>\r\n     </g>\r\n    </g>\r\n   </g>\r\n   <g id=\"matplotlib.axis_2\">\r\n    <g id=\"ytick_1\">\r\n     <g id=\"line2d_3\">\r\n      <defs>\r\n       <path d=\"M 0 0 \r\nL -3.5 0 \r\n\" id=\"m2f126e3465\" style=\"stroke:#000000;stroke-width:0.8;\"/>\r\n      </defs>\r\n      <g>\r\n       <use style=\"stroke:#000000;stroke-width:0.8;\" x=\"34.240625\" xlink:href=\"#m2f126e3465\" y=\"61.56\"/>\r\n      </g>\r\n     </g>\r\n     <g id=\"text_4\">\r\n      <!-- 0 -->\r\n      <g transform=\"translate(20.878125 65.359219)scale(0.1 -0.1)\">\r\n       <use xlink:href=\"#DejaVuSans-30\"/>\r\n      </g>\r\n     </g>\r\n    </g>\r\n    <g id=\"ytick_2\">\r\n     <g id=\"line2d_4\">\r\n      <g>\r\n       <use style=\"stroke:#000000;stroke-width:0.8;\" x=\"34.240625\" xlink:href=\"#m2f126e3465\" y=\"170.28\"/>\r\n      </g>\r\n     </g>\r\n     <g id=\"text_5\">\r\n      <!-- 1 -->\r\n      <g transform=\"translate(20.878125 174.079219)scale(0.1 -0.1)\">\r\n       <use xlink:href=\"#DejaVuSans-31\"/>\r\n      </g>\r\n     </g>\r\n    </g>\r\n    <g id=\"text_6\">\r\n     <!-- True label -->\r\n     <g transform=\"translate(14.798437 140.219219)rotate(-90)scale(0.1 -0.1)\">\r\n      <defs>\r\n       <path d=\"M -19 4666 \r\nL 3928 4666 \r\nL 3928 4134 \r\nL 2272 4134 \r\nL 2272 0 \r\nL 1638 0 \r\nL 1638 4134 \r\nL -19 4134 \r\nL -19 4666 \r\nz\r\n\" id=\"DejaVuSans-54\" transform=\"scale(0.015625)\"/>\r\n       <path d=\"M 544 1381 \r\nL 544 3500 \r\nL 1119 3500 \r\nL 1119 1403 \r\nQ 1119 906 1312 657 \r\nQ 1506 409 1894 409 \r\nQ 2359 409 2629 706 \r\nQ 2900 1003 2900 1516 \r\nL 2900 3500 \r\nL 3475 3500 \r\nL 3475 0 \r\nL 2900 0 \r\nL 2900 538 \r\nQ 2691 219 2414 64 \r\nQ 2138 -91 1772 -91 \r\nQ 1169 -91 856 284 \r\nQ 544 659 544 1381 \r\nz\r\nM 1991 3584 \r\nL 1991 3584 \r\nz\r\n\" id=\"DejaVuSans-75\" transform=\"scale(0.015625)\"/>\r\n      </defs>\r\n      <use xlink:href=\"#DejaVuSans-54\"/>\r\n      <use x=\"46.333984\" xlink:href=\"#DejaVuSans-72\"/>\r\n      <use x=\"87.447266\" xlink:href=\"#DejaVuSans-75\"/>\r\n      <use x=\"150.826172\" xlink:href=\"#DejaVuSans-65\"/>\r\n      <use x=\"212.349609\" xlink:href=\"#DejaVuSans-20\"/>\r\n      <use x=\"244.136719\" xlink:href=\"#DejaVuSans-6c\"/>\r\n      <use x=\"271.919922\" xlink:href=\"#DejaVuSans-61\"/>\r\n      <use x=\"333.199219\" xlink:href=\"#DejaVuSans-62\"/>\r\n      <use x=\"396.675781\" xlink:href=\"#DejaVuSans-65\"/>\r\n      <use x=\"458.199219\" xlink:href=\"#DejaVuSans-6c\"/>\r\n     </g>\r\n    </g>\r\n   </g>\r\n   <g id=\"patch_3\">\r\n    <path d=\"M 34.240625 224.64 \r\nL 34.240625 7.2 \r\n\" style=\"fill:none;stroke:#000000;stroke-linecap:square;stroke-linejoin:miter;stroke-width:0.8;\"/>\r\n   </g>\r\n   <g id=\"patch_4\">\r\n    <path d=\"M 251.680625 224.64 \r\nL 251.680625 7.2 \r\n\" style=\"fill:none;stroke:#000000;stroke-linecap:square;stroke-linejoin:miter;stroke-width:0.8;\"/>\r\n   </g>\r\n   <g id=\"patch_5\">\r\n    <path d=\"M 34.240625 224.64 \r\nL 251.680625 224.64 \r\n\" style=\"fill:none;stroke:#000000;stroke-linecap:square;stroke-linejoin:miter;stroke-width:0.8;\"/>\r\n   </g>\r\n   <g id=\"patch_6\">\r\n    <path d=\"M 34.240625 7.2 \r\nL 251.680625 7.2 \r\n\" style=\"fill:none;stroke:#000000;stroke-linecap:square;stroke-linejoin:miter;stroke-width:0.8;\"/>\r\n   </g>\r\n   <g id=\"text_7\">\r\n    <!-- 114336 -->\r\n    <g style=\"fill:#440154;\" transform=\"translate(69.513125 64.319375)scale(0.1 -0.1)\">\r\n     <defs>\r\n      <path d=\"M 2419 4116 \r\nL 825 1625 \r\nL 2419 1625 \r\nL 2419 4116 \r\nz\r\nM 2253 4666 \r\nL 3047 4666 \r\nL 3047 1625 \r\nL 3713 1625 \r\nL 3713 1100 \r\nL 3047 1100 \r\nL 3047 0 \r\nL 2419 0 \r\nL 2419 1100 \r\nL 313 1100 \r\nL 313 1709 \r\nL 2253 4666 \r\nz\r\n\" id=\"DejaVuSans-34\" transform=\"scale(0.015625)\"/>\r\n      <path d=\"M 2597 2516 \r\nQ 3050 2419 3304 2112 \r\nQ 3559 1806 3559 1356 \r\nQ 3559 666 3084 287 \r\nQ 2609 -91 1734 -91 \r\nQ 1441 -91 1130 -33 \r\nQ 819 25 488 141 \r\nL 488 750 \r\nQ 750 597 1062 519 \r\nQ 1375 441 1716 441 \r\nQ 2309 441 2620 675 \r\nQ 2931 909 2931 1356 \r\nQ 2931 1769 2642 2001 \r\nQ 2353 2234 1838 2234 \r\nL 1294 2234 \r\nL 1294 2753 \r\nL 1863 2753 \r\nQ 2328 2753 2575 2939 \r\nQ 2822 3125 2822 3475 \r\nQ 2822 3834 2567 4026 \r\nQ 2313 4219 1838 4219 \r\nQ 1578 4219 1281 4162 \r\nQ 984 4106 628 3988 \r\nL 628 4550 \r\nQ 988 4650 1302 4700 \r\nQ 1616 4750 1894 4750 \r\nQ 2613 4750 3031 4423 \r\nQ 3450 4097 3450 3541 \r\nQ 3450 3153 3228 2886 \r\nQ 3006 2619 2597 2516 \r\nz\r\n\" id=\"DejaVuSans-33\" transform=\"scale(0.015625)\"/>\r\n      <path d=\"M 2113 2584 \r\nQ 1688 2584 1439 2293 \r\nQ 1191 2003 1191 1497 \r\nQ 1191 994 1439 701 \r\nQ 1688 409 2113 409 \r\nQ 2538 409 2786 701 \r\nQ 3034 994 3034 1497 \r\nQ 3034 2003 2786 2293 \r\nQ 2538 2584 2113 2584 \r\nz\r\nM 3366 4563 \r\nL 3366 3988 \r\nQ 3128 4100 2886 4159 \r\nQ 2644 4219 2406 4219 \r\nQ 1781 4219 1451 3797 \r\nQ 1122 3375 1075 2522 \r\nQ 1259 2794 1537 2939 \r\nQ 1816 3084 2150 3084 \r\nQ 2853 3084 3261 2657 \r\nQ 3669 2231 3669 1497 \r\nQ 3669 778 3244 343 \r\nQ 2819 -91 2113 -91 \r\nQ 1303 -91 875 529 \r\nQ 447 1150 447 2328 \r\nQ 447 3434 972 4092 \r\nQ 1497 4750 2381 4750 \r\nQ 2619 4750 2861 4703 \r\nQ 3103 4656 3366 4563 \r\nz\r\n\" id=\"DejaVuSans-36\" transform=\"scale(0.015625)\"/>\r\n     </defs>\r\n     <use xlink:href=\"#DejaVuSans-31\"/>\r\n     <use x=\"63.623047\" xlink:href=\"#DejaVuSans-31\"/>\r\n     <use x=\"127.246094\" xlink:href=\"#DejaVuSans-34\"/>\r\n     <use x=\"190.869141\" xlink:href=\"#DejaVuSans-33\"/>\r\n     <use x=\"254.492188\" xlink:href=\"#DejaVuSans-33\"/>\r\n     <use x=\"318.115234\" xlink:href=\"#DejaVuSans-36\"/>\r\n    </g>\r\n   </g>\r\n   <g id=\"text_8\">\r\n    <!-- 41385 -->\r\n    <g style=\"fill:#fde725;\" transform=\"translate(181.414375 64.319375)scale(0.1 -0.1)\">\r\n     <defs>\r\n      <path d=\"M 2034 2216 \r\nQ 1584 2216 1326 1975 \r\nQ 1069 1734 1069 1313 \r\nQ 1069 891 1326 650 \r\nQ 1584 409 2034 409 \r\nQ 2484 409 2743 651 \r\nQ 3003 894 3003 1313 \r\nQ 3003 1734 2745 1975 \r\nQ 2488 2216 2034 2216 \r\nz\r\nM 1403 2484 \r\nQ 997 2584 770 2862 \r\nQ 544 3141 544 3541 \r\nQ 544 4100 942 4425 \r\nQ 1341 4750 2034 4750 \r\nQ 2731 4750 3128 4425 \r\nQ 3525 4100 3525 3541 \r\nQ 3525 3141 3298 2862 \r\nQ 3072 2584 2669 2484 \r\nQ 3125 2378 3379 2068 \r\nQ 3634 1759 3634 1313 \r\nQ 3634 634 3220 271 \r\nQ 2806 -91 2034 -91 \r\nQ 1263 -91 848 271 \r\nQ 434 634 434 1313 \r\nQ 434 1759 690 2068 \r\nQ 947 2378 1403 2484 \r\nz\r\nM 1172 3481 \r\nQ 1172 3119 1398 2916 \r\nQ 1625 2713 2034 2713 \r\nQ 2441 2713 2670 2916 \r\nQ 2900 3119 2900 3481 \r\nQ 2900 3844 2670 4047 \r\nQ 2441 4250 2034 4250 \r\nQ 1625 4250 1398 4047 \r\nQ 1172 3844 1172 3481 \r\nz\r\n\" id=\"DejaVuSans-38\" transform=\"scale(0.015625)\"/>\r\n      <path d=\"M 691 4666 \r\nL 3169 4666 \r\nL 3169 4134 \r\nL 1269 4134 \r\nL 1269 2991 \r\nQ 1406 3038 1543 3061 \r\nQ 1681 3084 1819 3084 \r\nQ 2600 3084 3056 2656 \r\nQ 3513 2228 3513 1497 \r\nQ 3513 744 3044 326 \r\nQ 2575 -91 1722 -91 \r\nQ 1428 -91 1123 -41 \r\nQ 819 9 494 109 \r\nL 494 744 \r\nQ 775 591 1075 516 \r\nQ 1375 441 1709 441 \r\nQ 2250 441 2565 725 \r\nQ 2881 1009 2881 1497 \r\nQ 2881 1984 2565 2268 \r\nQ 2250 2553 1709 2553 \r\nQ 1456 2553 1204 2497 \r\nQ 953 2441 691 2322 \r\nL 691 4666 \r\nz\r\n\" id=\"DejaVuSans-35\" transform=\"scale(0.015625)\"/>\r\n     </defs>\r\n     <use xlink:href=\"#DejaVuSans-34\"/>\r\n     <use x=\"63.623047\" xlink:href=\"#DejaVuSans-31\"/>\r\n     <use x=\"127.246094\" xlink:href=\"#DejaVuSans-33\"/>\r\n     <use x=\"190.869141\" xlink:href=\"#DejaVuSans-38\"/>\r\n     <use x=\"254.492188\" xlink:href=\"#DejaVuSans-35\"/>\r\n    </g>\r\n   </g>\r\n   <g id=\"text_9\">\r\n    <!-- 46152 -->\r\n    <g style=\"fill:#fde725;\" transform=\"translate(72.694375 173.039375)scale(0.1 -0.1)\">\r\n     <defs>\r\n      <path d=\"M 1228 531 \r\nL 3431 531 \r\nL 3431 0 \r\nL 469 0 \r\nL 469 531 \r\nQ 828 903 1448 1529 \r\nQ 2069 2156 2228 2338 \r\nQ 2531 2678 2651 2914 \r\nQ 2772 3150 2772 3378 \r\nQ 2772 3750 2511 3984 \r\nQ 2250 4219 1831 4219 \r\nQ 1534 4219 1204 4116 \r\nQ 875 4013 500 3803 \r\nL 500 4441 \r\nQ 881 4594 1212 4672 \r\nQ 1544 4750 1819 4750 \r\nQ 2544 4750 2975 4387 \r\nQ 3406 4025 3406 3419 \r\nQ 3406 3131 3298 2873 \r\nQ 3191 2616 2906 2266 \r\nQ 2828 2175 2409 1742 \r\nQ 1991 1309 1228 531 \r\nz\r\n\" id=\"DejaVuSans-32\" transform=\"scale(0.015625)\"/>\r\n     </defs>\r\n     <use xlink:href=\"#DejaVuSans-34\"/>\r\n     <use x=\"63.623047\" xlink:href=\"#DejaVuSans-36\"/>\r\n     <use x=\"127.246094\" xlink:href=\"#DejaVuSans-31\"/>\r\n     <use x=\"190.869141\" xlink:href=\"#DejaVuSans-35\"/>\r\n     <use x=\"254.492188\" xlink:href=\"#DejaVuSans-32\"/>\r\n    </g>\r\n   </g>\r\n   <g id=\"text_10\">\r\n    <!-- 56325 -->\r\n    <g style=\"fill:#fde725;\" transform=\"translate(181.414375 173.039375)scale(0.1 -0.1)\">\r\n     <use xlink:href=\"#DejaVuSans-35\"/>\r\n     <use x=\"63.623047\" xlink:href=\"#DejaVuSans-36\"/>\r\n     <use x=\"127.246094\" xlink:href=\"#DejaVuSans-33\"/>\r\n     <use x=\"190.869141\" xlink:href=\"#DejaVuSans-32\"/>\r\n     <use x=\"254.492188\" xlink:href=\"#DejaVuSans-35\"/>\r\n    </g>\r\n   </g>\r\n  </g>\r\n  <g id=\"axes_2\">\r\n   <g id=\"patch_7\">\r\n    <path d=\"M 268.420625 224.64 \r\nL 279.292625 224.64 \r\nL 279.292625 7.2 \r\nL 268.420625 7.2 \r\nz\r\n\" style=\"fill:#ffffff;\"/>\r\n   </g>\r\n   <g id=\"patch_8\">\r\n    <path clip-path=\"url(#pc56233121d)\" d=\"M 268.420625 224.64 \r\nL 268.420625 223.790625 \r\nL 268.420625 8.049375 \r\nL 268.420625 7.2 \r\nL 279.292625 7.2 \r\nL 279.292625 8.049375 \r\nL 279.292625 223.790625 \r\nL 279.292625 224.64 \r\nL 279.292625 224.64 \r\nz\r\n\" style=\"fill:#ffffff;stroke:#ffffff;stroke-linejoin:miter;stroke-width:0.01;\"/>\r\n   </g>\r\n   <image height=\"217\" id=\"image206ccb41ca\" transform=\"scale(1 -1)translate(0 -217)\" width=\"11\" x=\"268\" xlink:href=\"data:image/png;base64,\r\niVBORw0KGgoAAAANSUhEUgAAAAsAAADZCAYAAAD2WsoCAAABUklEQVR4nN2awQ3CQAwEz/aFyqiB/gsBQguex0g+eK9W6/HmAiTxzNe9mp8dGV3t2iuyL/acF3GOKhKDZE6SmTnPGHAIDSQuL4ZVUZGzFuNmmdtak8aUzB7n0pz7Wjog4Xx7lxUZ0CsSckboYOuQMxGTDaIYJ9KAA2p9ZuiI85BzY8YGj+yGdxRoFR2ylCk0+lo184wT6f/XPSTzgc5DYsDy96/vM9GNoAFCyDTAgN4GEWdYfssZfLs0B/Q4h5bZdCbi/FrOM9Cltm5Ew4wBxEWOAsZ5jUBXrM9WkSANK8YmNLwBmbNHIzQanjPhvPPTF5e4botGTaHhDWg5X4FooBhAjDaInNmAMzbIOBN0V7xJDK+iqBsInUYDDUiWgtaNrhQ4oHWHZRvUYjxYRdtamrlvvDZ4zrx2gd9L+yLPgJI4oxjMmWTeC7yuU+SdkwR/Uv0A7xuAaGKmOKMAAAAASUVORK5CYII=\" y=\"-7\"/>\r\n   <g id=\"matplotlib.axis_3\"/>\r\n   <g id=\"matplotlib.axis_4\">\r\n    <g id=\"ytick_3\">\r\n     <g id=\"line2d_5\">\r\n      <defs>\r\n       <path d=\"M 0 0 \r\nL 3.5 0 \r\n\" id=\"m2c945ce82b\" style=\"stroke:#000000;stroke-width:0.8;\"/>\r\n      </defs>\r\n      <g>\r\n       <use style=\"stroke:#000000;stroke-width:0.8;\" x=\"279.292625\" xlink:href=\"#m2c945ce82b\" y=\"198.961865\"/>\r\n      </g>\r\n     </g>\r\n     <g id=\"text_11\">\r\n      <!-- 50000 -->\r\n      <g transform=\"translate(286.292625 202.761084)scale(0.1 -0.1)\">\r\n       <use xlink:href=\"#DejaVuSans-35\"/>\r\n       <use x=\"63.623047\" xlink:href=\"#DejaVuSans-30\"/>\r\n       <use x=\"127.246094\" xlink:href=\"#DejaVuSans-30\"/>\r\n       <use x=\"190.869141\" xlink:href=\"#DejaVuSans-30\"/>\r\n       <use x=\"254.492188\" xlink:href=\"#DejaVuSans-30\"/>\r\n      </g>\r\n     </g>\r\n    </g>\r\n    <g id=\"ytick_4\">\r\n     <g id=\"line2d_6\">\r\n      <g>\r\n       <use style=\"stroke:#000000;stroke-width:0.8;\" x=\"279.292625\" xlink:href=\"#m2c945ce82b\" y=\"169.155557\"/>\r\n      </g>\r\n     </g>\r\n     <g id=\"text_12\">\r\n      <!-- 60000 -->\r\n      <g transform=\"translate(286.292625 172.954776)scale(0.1 -0.1)\">\r\n       <use xlink:href=\"#DejaVuSans-36\"/>\r\n       <use x=\"63.623047\" xlink:href=\"#DejaVuSans-30\"/>\r\n       <use x=\"127.246094\" xlink:href=\"#DejaVuSans-30\"/>\r\n       <use x=\"190.869141\" xlink:href=\"#DejaVuSans-30\"/>\r\n       <use x=\"254.492188\" xlink:href=\"#DejaVuSans-30\"/>\r\n      </g>\r\n     </g>\r\n    </g>\r\n    <g id=\"ytick_5\">\r\n     <g id=\"line2d_7\">\r\n      <g>\r\n       <use style=\"stroke:#000000;stroke-width:0.8;\" x=\"279.292625\" xlink:href=\"#m2c945ce82b\" y=\"139.349249\"/>\r\n      </g>\r\n     </g>\r\n     <g id=\"text_13\">\r\n      <!-- 70000 -->\r\n      <g transform=\"translate(286.292625 143.148467)scale(0.1 -0.1)\">\r\n       <defs>\r\n        <path d=\"M 525 4666 \r\nL 3525 4666 \r\nL 3525 4397 \r\nL 1831 0 \r\nL 1172 0 \r\nL 2766 4134 \r\nL 525 4134 \r\nL 525 4666 \r\nz\r\n\" id=\"DejaVuSans-37\" transform=\"scale(0.015625)\"/>\r\n       </defs>\r\n       <use xlink:href=\"#DejaVuSans-37\"/>\r\n       <use x=\"63.623047\" xlink:href=\"#DejaVuSans-30\"/>\r\n       <use x=\"127.246094\" xlink:href=\"#DejaVuSans-30\"/>\r\n       <use x=\"190.869141\" xlink:href=\"#DejaVuSans-30\"/>\r\n       <use x=\"254.492188\" xlink:href=\"#DejaVuSans-30\"/>\r\n      </g>\r\n     </g>\r\n    </g>\r\n    <g id=\"ytick_6\">\r\n     <g id=\"line2d_8\">\r\n      <g>\r\n       <use style=\"stroke:#000000;stroke-width:0.8;\" x=\"279.292625\" xlink:href=\"#m2c945ce82b\" y=\"109.54294\"/>\r\n      </g>\r\n     </g>\r\n     <g id=\"text_14\">\r\n      <!-- 80000 -->\r\n      <g transform=\"translate(286.292625 113.342159)scale(0.1 -0.1)\">\r\n       <use xlink:href=\"#DejaVuSans-38\"/>\r\n       <use x=\"63.623047\" xlink:href=\"#DejaVuSans-30\"/>\r\n       <use x=\"127.246094\" xlink:href=\"#DejaVuSans-30\"/>\r\n       <use x=\"190.869141\" xlink:href=\"#DejaVuSans-30\"/>\r\n       <use x=\"254.492188\" xlink:href=\"#DejaVuSans-30\"/>\r\n      </g>\r\n     </g>\r\n    </g>\r\n    <g id=\"ytick_7\">\r\n     <g id=\"line2d_9\">\r\n      <g>\r\n       <use style=\"stroke:#000000;stroke-width:0.8;\" x=\"279.292625\" xlink:href=\"#m2c945ce82b\" y=\"79.736632\"/>\r\n      </g>\r\n     </g>\r\n     <g id=\"text_15\">\r\n      <!-- 90000 -->\r\n      <g transform=\"translate(286.292625 83.535851)scale(0.1 -0.1)\">\r\n       <defs>\r\n        <path d=\"M 703 97 \r\nL 703 672 \r\nQ 941 559 1184 500 \r\nQ 1428 441 1663 441 \r\nQ 2288 441 2617 861 \r\nQ 2947 1281 2994 2138 \r\nQ 2813 1869 2534 1725 \r\nQ 2256 1581 1919 1581 \r\nQ 1219 1581 811 2004 \r\nQ 403 2428 403 3163 \r\nQ 403 3881 828 4315 \r\nQ 1253 4750 1959 4750 \r\nQ 2769 4750 3195 4129 \r\nQ 3622 3509 3622 2328 \r\nQ 3622 1225 3098 567 \r\nQ 2575 -91 1691 -91 \r\nQ 1453 -91 1209 -44 \r\nQ 966 3 703 97 \r\nz\r\nM 1959 2075 \r\nQ 2384 2075 2632 2365 \r\nQ 2881 2656 2881 3163 \r\nQ 2881 3666 2632 3958 \r\nQ 2384 4250 1959 4250 \r\nQ 1534 4250 1286 3958 \r\nQ 1038 3666 1038 3163 \r\nQ 1038 2656 1286 2365 \r\nQ 1534 2075 1959 2075 \r\nz\r\n\" id=\"DejaVuSans-39\" transform=\"scale(0.015625)\"/>\r\n       </defs>\r\n       <use xlink:href=\"#DejaVuSans-39\"/>\r\n       <use x=\"63.623047\" xlink:href=\"#DejaVuSans-30\"/>\r\n       <use x=\"127.246094\" xlink:href=\"#DejaVuSans-30\"/>\r\n       <use x=\"190.869141\" xlink:href=\"#DejaVuSans-30\"/>\r\n       <use x=\"254.492188\" xlink:href=\"#DejaVuSans-30\"/>\r\n      </g>\r\n     </g>\r\n    </g>\r\n    <g id=\"ytick_8\">\r\n     <g id=\"line2d_10\">\r\n      <g>\r\n       <use style=\"stroke:#000000;stroke-width:0.8;\" x=\"279.292625\" xlink:href=\"#m2c945ce82b\" y=\"49.930324\"/>\r\n      </g>\r\n     </g>\r\n     <g id=\"text_16\">\r\n      <!-- 100000 -->\r\n      <g transform=\"translate(286.292625 53.729542)scale(0.1 -0.1)\">\r\n       <use xlink:href=\"#DejaVuSans-31\"/>\r\n       <use x=\"63.623047\" xlink:href=\"#DejaVuSans-30\"/>\r\n       <use x=\"127.246094\" xlink:href=\"#DejaVuSans-30\"/>\r\n       <use x=\"190.869141\" xlink:href=\"#DejaVuSans-30\"/>\r\n       <use x=\"254.492188\" xlink:href=\"#DejaVuSans-30\"/>\r\n       <use x=\"318.115234\" xlink:href=\"#DejaVuSans-30\"/>\r\n      </g>\r\n     </g>\r\n    </g>\r\n    <g id=\"ytick_9\">\r\n     <g id=\"line2d_11\">\r\n      <g>\r\n       <use style=\"stroke:#000000;stroke-width:0.8;\" x=\"279.292625\" xlink:href=\"#m2c945ce82b\" y=\"20.124015\"/>\r\n      </g>\r\n     </g>\r\n     <g id=\"text_17\">\r\n      <!-- 110000 -->\r\n      <g transform=\"translate(286.292625 23.923234)scale(0.1 -0.1)\">\r\n       <use xlink:href=\"#DejaVuSans-31\"/>\r\n       <use x=\"63.623047\" xlink:href=\"#DejaVuSans-31\"/>\r\n       <use x=\"127.246094\" xlink:href=\"#DejaVuSans-30\"/>\r\n       <use x=\"190.869141\" xlink:href=\"#DejaVuSans-30\"/>\r\n       <use x=\"254.492188\" xlink:href=\"#DejaVuSans-30\"/>\r\n       <use x=\"318.115234\" xlink:href=\"#DejaVuSans-30\"/>\r\n      </g>\r\n     </g>\r\n    </g>\r\n   </g>\r\n   <g id=\"LineCollection_1\"/>\r\n   <g id=\"patch_9\">\r\n    <path d=\"M 268.420625 224.64 \r\nL 268.420625 223.790625 \r\nL 268.420625 8.049375 \r\nL 268.420625 7.2 \r\nL 279.292625 7.2 \r\nL 279.292625 8.049375 \r\nL 279.292625 223.790625 \r\nL 279.292625 224.64 \r\nz\r\n\" style=\"fill:none;stroke:#000000;stroke-linecap:square;stroke-linejoin:miter;stroke-width:0.8;\"/>\r\n   </g>\r\n  </g>\r\n </g>\r\n <defs>\r\n  <clipPath id=\"pd3045f9bef\">\r\n   <rect height=\"217.44\" width=\"217.44\" x=\"34.240625\" y=\"7.2\"/>\r\n  </clipPath>\r\n  <clipPath id=\"pc56233121d\">\r\n   <rect height=\"217.44\" width=\"10.872\" x=\"268.420625\" y=\"7.2\"/>\r\n  </clipPath>\r\n </defs>\r\n</svg>\r\n",
      "image/png": "[encoded data removed]"
     },
     "metadata": {
      "needs_background": "light"
     }
    }
   ],
   "source": [
    "import matplotlib.pyplot as plt\n",
    "like_preds = recsysxgb.infer(test_data, feature_columns_w_TE)[3].round()\n",
    "print(sklearn.metrics.balanced_accuracy_score(test_data[\"has_like\"]*1, like_preds))\n",
    "print(sklearn.metrics.precision_score(test_data[\"has_like\"]*1 , like_preds))\n",
    "sklearn.metrics.ConfusionMatrixDisplay(sklearn.metrics.confusion_matrix(test_data[\"has_like\"]*1, like_preds)).plot()\n",
    "plt.show()"
   ]
  },
  {
   "cell_type": "code",
   "execution_count": 15,
   "metadata": {},
   "outputs": [
    {
     "output_type": "stream",
     "name": "stdout",
     "text": [
      "0.6032578522512818\n0.5947571581378766\n"
     ]
    },
    {
     "output_type": "display_data",
     "data": {
      "text/plain": "<Figure size 432x288 with 2 Axes>",
      "image/svg+xml": "<?xml version=\"1.0\" encoding=\"utf-8\" standalone=\"no\"?>\r\n<!DOCTYPE svg PUBLIC \"-//W3C//DTD SVG 1.1//EN\"\r\n  \"http://www.w3.org/Graphics/SVG/1.1/DTD/svg11.dtd\">\r\n<svg height=\"262.19625pt\" version=\"1.1\" viewBox=\"0 0 331.667625 262.19625\" width=\"331.667625pt\" xmlns=\"http://www.w3.org/2000/svg\" xmlns:xlink=\"http://www.w3.org/1999/xlink\">\r\n <metadata>\r\n  <rdf:RDF xmlns:cc=\"http://creativecommons.org/ns#\" xmlns:dc=\"http://purl.org/dc/elements/1.1/\" xmlns:rdf=\"http://www.w3.org/1999/02/22-rdf-syntax-ns#\">\r\n   <cc:Work>\r\n    <dc:type rdf:resource=\"http://purl.org/dc/dcmitype/StillImage\"/>\r\n    <dc:date>2021-05-10T14:30:18.938707</dc:date>\r\n    <dc:format>image/svg+xml</dc:format>\r\n    <dc:creator>\r\n     <cc:Agent>\r\n      <dc:title>Matplotlib v3.4.1, https://matplotlib.org/</dc:title>\r\n     </cc:Agent>\r\n    </dc:creator>\r\n   </cc:Work>\r\n  </rdf:RDF>\r\n </metadata>\r\n <defs>\r\n  <style type=\"text/css\">*{stroke-linecap:butt;stroke-linejoin:round;}</style>\r\n </defs>\r\n <g id=\"figure_1\">\r\n  <g id=\"patch_1\">\r\n   <path d=\"M 0 262.19625 \r\nL 331.667625 262.19625 \r\nL 331.667625 0 \r\nL 0 0 \r\nz\r\n\" style=\"fill:none;\"/>\r\n  </g>\r\n  <g id=\"axes_1\">\r\n   <g id=\"patch_2\">\r\n    <path d=\"M 34.240625 224.64 \r\nL 251.680625 224.64 \r\nL 251.680625 7.2 \r\nL 34.240625 7.2 \r\nz\r\n\" style=\"fill:#ffffff;\"/>\r\n   </g>\r\n   <g clip-path=\"url(#p2da4fc0e25)\">\r\n    <image height=\"218\" id=\"image800cc4293d\" transform=\"scale(1 -1)translate(0 -218)\" width=\"218\" x=\"34.240625\" xlink:href=\"data:image/png;base64,\r\niVBORw0KGgoAAAANSUhEUgAAANoAAADaCAYAAADAHVzbAAACmklEQVR4nO3VMQ3CUABFUYqMzqwkuEAOTmqoghjQQFoNf7k/hHMUvOXmLffXdlz4Kev+mT2BQdfZA+AfCA0CQoOA0CAgNAgIDQJCg4DQICA0CAgNAkKDgNAgIDQICA0CQoOA0CAgNAgIDQJCg4DQICA0CAgNAkKDgNAgIDQICA0CQoOA0CAgNAgIDQJCg4DQICA0CAgNAkKDgNAgIDQICA0CQoOA0CAgNAgIDQJCg4DQICA0CAgNAkKDgNAgIDQICA0CQoOA0CAgNAgIDQJCg4DQICA0CAgNAkKDgNAgIDQICA0CQoOA0CAgNAgIDQJCg4DQICA0CAgNAkKDgNAgIDQICA0CQoOA0CAgNAgIDQJCg4DQICA0CAgNAkKDgNAgIDQICA0CQoOA0CAgNAgIDQJCg4DQICA0CAgNAkKDgNAgIDQICA0CQoOA0CAgNAgIDQJCg4DQICA0CAgNAkKDgNAgsHzft2P2CMY818fsCQzyaBAQGgSEBgGhQUBoEBAaBIQGAaFBQGgQEBoEhAYBoUFAaBAQGgSEBgGhQUBoEBAaBIQGAaFBQGgQEBoEhAYBoUFAaBAQGgSEBgGhQUBoEBAaBIQGAaFBQGgQEBoEhAYBoUFAaBAQGgSEBgGhQUBoEBAaBIQGAaFBQGgQEBoEhAYBoUFAaBAQGgSEBgGhQUBoEBAaBIQGAaFBQGgQEBoEhAYBoUFAaBAQGgSEBgGhQUBoEBAaBIQGAaFBQGgQEBoEhAYBoUFAaBAQGgSEBgGhQUBoEBAaBIQGAaFBQGgQEBoEhAYBoUFAaBAQGgSEBgGhQUBoEBAaBIQGAaFBQGgQEBoEhAYBoUFAaBAQGgSEBgGhQUBoEBAaBIQGAaFBQGgQEBoEhAYBoUHgBExNCTTziOODAAAAAElFTkSuQmCC\" y=\"-6.64\"/>\r\n   </g>\r\n   <g id=\"matplotlib.axis_1\">\r\n    <g id=\"xtick_1\">\r\n     <g id=\"line2d_1\">\r\n      <defs>\r\n       <path d=\"M 0 0 \r\nL 0 3.5 \r\n\" id=\"madb2efd8b1\" style=\"stroke:#000000;stroke-width:0.8;\"/>\r\n      </defs>\r\n      <g>\r\n       <use style=\"stroke:#000000;stroke-width:0.8;\" x=\"88.600625\" xlink:href=\"#madb2efd8b1\" y=\"224.64\"/>\r\n      </g>\r\n     </g>\r\n     <g id=\"text_1\">\r\n      <!-- 0 -->\r\n      <g transform=\"translate(85.419375 239.238438)scale(0.1 -0.1)\">\r\n       <defs>\r\n        <path d=\"M 2034 4250 \r\nQ 1547 4250 1301 3770 \r\nQ 1056 3291 1056 2328 \r\nQ 1056 1369 1301 889 \r\nQ 1547 409 2034 409 \r\nQ 2525 409 2770 889 \r\nQ 3016 1369 3016 2328 \r\nQ 3016 3291 2770 3770 \r\nQ 2525 4250 2034 4250 \r\nz\r\nM 2034 4750 \r\nQ 2819 4750 3233 4129 \r\nQ 3647 3509 3647 2328 \r\nQ 3647 1150 3233 529 \r\nQ 2819 -91 2034 -91 \r\nQ 1250 -91 836 529 \r\nQ 422 1150 422 2328 \r\nQ 422 3509 836 4129 \r\nQ 1250 4750 2034 4750 \r\nz\r\n\" id=\"DejaVuSans-30\" transform=\"scale(0.015625)\"/>\r\n       </defs>\r\n       <use xlink:href=\"#DejaVuSans-30\"/>\r\n      </g>\r\n     </g>\r\n    </g>\r\n    <g id=\"xtick_2\">\r\n     <g id=\"line2d_2\">\r\n      <g>\r\n       <use style=\"stroke:#000000;stroke-width:0.8;\" x=\"197.320625\" xlink:href=\"#madb2efd8b1\" y=\"224.64\"/>\r\n      </g>\r\n     </g>\r\n     <g id=\"text_2\">\r\n      <!-- 1 -->\r\n      <g transform=\"translate(194.139375 239.238438)scale(0.1 -0.1)\">\r\n       <defs>\r\n        <path d=\"M 794 531 \r\nL 1825 531 \r\nL 1825 4091 \r\nL 703 3866 \r\nL 703 4441 \r\nL 1819 4666 \r\nL 2450 4666 \r\nL 2450 531 \r\nL 3481 531 \r\nL 3481 0 \r\nL 794 0 \r\nL 794 531 \r\nz\r\n\" id=\"DejaVuSans-31\" transform=\"scale(0.015625)\"/>\r\n       </defs>\r\n       <use xlink:href=\"#DejaVuSans-31\"/>\r\n      </g>\r\n     </g>\r\n    </g>\r\n    <g id=\"text_3\">\r\n     <!-- Predicted label -->\r\n     <g transform=\"translate(105.808281 252.916563)scale(0.1 -0.1)\">\r\n      <defs>\r\n       <path d=\"M 1259 4147 \r\nL 1259 2394 \r\nL 2053 2394 \r\nQ 2494 2394 2734 2622 \r\nQ 2975 2850 2975 3272 \r\nQ 2975 3691 2734 3919 \r\nQ 2494 4147 2053 4147 \r\nL 1259 4147 \r\nz\r\nM 628 4666 \r\nL 2053 4666 \r\nQ 2838 4666 3239 4311 \r\nQ 3641 3956 3641 3272 \r\nQ 3641 2581 3239 2228 \r\nQ 2838 1875 2053 1875 \r\nL 1259 1875 \r\nL 1259 0 \r\nL 628 0 \r\nL 628 4666 \r\nz\r\n\" id=\"DejaVuSans-50\" transform=\"scale(0.015625)\"/>\r\n       <path d=\"M 2631 2963 \r\nQ 2534 3019 2420 3045 \r\nQ 2306 3072 2169 3072 \r\nQ 1681 3072 1420 2755 \r\nQ 1159 2438 1159 1844 \r\nL 1159 0 \r\nL 581 0 \r\nL 581 3500 \r\nL 1159 3500 \r\nL 1159 2956 \r\nQ 1341 3275 1631 3429 \r\nQ 1922 3584 2338 3584 \r\nQ 2397 3584 2469 3576 \r\nQ 2541 3569 2628 3553 \r\nL 2631 2963 \r\nz\r\n\" id=\"DejaVuSans-72\" transform=\"scale(0.015625)\"/>\r\n       <path d=\"M 3597 1894 \r\nL 3597 1613 \r\nL 953 1613 \r\nQ 991 1019 1311 708 \r\nQ 1631 397 2203 397 \r\nQ 2534 397 2845 478 \r\nQ 3156 559 3463 722 \r\nL 3463 178 \r\nQ 3153 47 2828 -22 \r\nQ 2503 -91 2169 -91 \r\nQ 1331 -91 842 396 \r\nQ 353 884 353 1716 \r\nQ 353 2575 817 3079 \r\nQ 1281 3584 2069 3584 \r\nQ 2775 3584 3186 3129 \r\nQ 3597 2675 3597 1894 \r\nz\r\nM 3022 2063 \r\nQ 3016 2534 2758 2815 \r\nQ 2500 3097 2075 3097 \r\nQ 1594 3097 1305 2825 \r\nQ 1016 2553 972 2059 \r\nL 3022 2063 \r\nz\r\n\" id=\"DejaVuSans-65\" transform=\"scale(0.015625)\"/>\r\n       <path d=\"M 2906 2969 \r\nL 2906 4863 \r\nL 3481 4863 \r\nL 3481 0 \r\nL 2906 0 \r\nL 2906 525 \r\nQ 2725 213 2448 61 \r\nQ 2172 -91 1784 -91 \r\nQ 1150 -91 751 415 \r\nQ 353 922 353 1747 \r\nQ 353 2572 751 3078 \r\nQ 1150 3584 1784 3584 \r\nQ 2172 3584 2448 3432 \r\nQ 2725 3281 2906 2969 \r\nz\r\nM 947 1747 \r\nQ 947 1113 1208 752 \r\nQ 1469 391 1925 391 \r\nQ 2381 391 2643 752 \r\nQ 2906 1113 2906 1747 \r\nQ 2906 2381 2643 2742 \r\nQ 2381 3103 1925 3103 \r\nQ 1469 3103 1208 2742 \r\nQ 947 2381 947 1747 \r\nz\r\n\" id=\"DejaVuSans-64\" transform=\"scale(0.015625)\"/>\r\n       <path d=\"M 603 3500 \r\nL 1178 3500 \r\nL 1178 0 \r\nL 603 0 \r\nL 603 3500 \r\nz\r\nM 603 4863 \r\nL 1178 4863 \r\nL 1178 4134 \r\nL 603 4134 \r\nL 603 4863 \r\nz\r\n\" id=\"DejaVuSans-69\" transform=\"scale(0.015625)\"/>\r\n       <path d=\"M 3122 3366 \r\nL 3122 2828 \r\nQ 2878 2963 2633 3030 \r\nQ 2388 3097 2138 3097 \r\nQ 1578 3097 1268 2742 \r\nQ 959 2388 959 1747 \r\nQ 959 1106 1268 751 \r\nQ 1578 397 2138 397 \r\nQ 2388 397 2633 464 \r\nQ 2878 531 3122 666 \r\nL 3122 134 \r\nQ 2881 22 2623 -34 \r\nQ 2366 -91 2075 -91 \r\nQ 1284 -91 818 406 \r\nQ 353 903 353 1747 \r\nQ 353 2603 823 3093 \r\nQ 1294 3584 2113 3584 \r\nQ 2378 3584 2631 3529 \r\nQ 2884 3475 3122 3366 \r\nz\r\n\" id=\"DejaVuSans-63\" transform=\"scale(0.015625)\"/>\r\n       <path d=\"M 1172 4494 \r\nL 1172 3500 \r\nL 2356 3500 \r\nL 2356 3053 \r\nL 1172 3053 \r\nL 1172 1153 \r\nQ 1172 725 1289 603 \r\nQ 1406 481 1766 481 \r\nL 2356 481 \r\nL 2356 0 \r\nL 1766 0 \r\nQ 1100 0 847 248 \r\nQ 594 497 594 1153 \r\nL 594 3053 \r\nL 172 3053 \r\nL 172 3500 \r\nL 594 3500 \r\nL 594 4494 \r\nL 1172 4494 \r\nz\r\n\" id=\"DejaVuSans-74\" transform=\"scale(0.015625)\"/>\r\n       <path id=\"DejaVuSans-20\" transform=\"scale(0.015625)\"/>\r\n       <path d=\"M 603 4863 \r\nL 1178 4863 \r\nL 1178 0 \r\nL 603 0 \r\nL 603 4863 \r\nz\r\n\" id=\"DejaVuSans-6c\" transform=\"scale(0.015625)\"/>\r\n       <path d=\"M 2194 1759 \r\nQ 1497 1759 1228 1600 \r\nQ 959 1441 959 1056 \r\nQ 959 750 1161 570 \r\nQ 1363 391 1709 391 \r\nQ 2188 391 2477 730 \r\nQ 2766 1069 2766 1631 \r\nL 2766 1759 \r\nL 2194 1759 \r\nz\r\nM 3341 1997 \r\nL 3341 0 \r\nL 2766 0 \r\nL 2766 531 \r\nQ 2569 213 2275 61 \r\nQ 1981 -91 1556 -91 \r\nQ 1019 -91 701 211 \r\nQ 384 513 384 1019 \r\nQ 384 1609 779 1909 \r\nQ 1175 2209 1959 2209 \r\nL 2766 2209 \r\nL 2766 2266 \r\nQ 2766 2663 2505 2880 \r\nQ 2244 3097 1772 3097 \r\nQ 1472 3097 1187 3025 \r\nQ 903 2953 641 2809 \r\nL 641 3341 \r\nQ 956 3463 1253 3523 \r\nQ 1550 3584 1831 3584 \r\nQ 2591 3584 2966 3190 \r\nQ 3341 2797 3341 1997 \r\nz\r\n\" id=\"DejaVuSans-61\" transform=\"scale(0.015625)\"/>\r\n       <path d=\"M 3116 1747 \r\nQ 3116 2381 2855 2742 \r\nQ 2594 3103 2138 3103 \r\nQ 1681 3103 1420 2742 \r\nQ 1159 2381 1159 1747 \r\nQ 1159 1113 1420 752 \r\nQ 1681 391 2138 391 \r\nQ 2594 391 2855 752 \r\nQ 3116 1113 3116 1747 \r\nz\r\nM 1159 2969 \r\nQ 1341 3281 1617 3432 \r\nQ 1894 3584 2278 3584 \r\nQ 2916 3584 3314 3078 \r\nQ 3713 2572 3713 1747 \r\nQ 3713 922 3314 415 \r\nQ 2916 -91 2278 -91 \r\nQ 1894 -91 1617 61 \r\nQ 1341 213 1159 525 \r\nL 1159 0 \r\nL 581 0 \r\nL 581 4863 \r\nL 1159 4863 \r\nL 1159 2969 \r\nz\r\n\" id=\"DejaVuSans-62\" transform=\"scale(0.015625)\"/>\r\n      </defs>\r\n      <use xlink:href=\"#DejaVuSans-50\"/>\r\n      <use x=\"58.552734\" xlink:href=\"#DejaVuSans-72\"/>\r\n      <use x=\"97.416016\" xlink:href=\"#DejaVuSans-65\"/>\r\n      <use x=\"158.939453\" xlink:href=\"#DejaVuSans-64\"/>\r\n      <use x=\"222.416016\" xlink:href=\"#DejaVuSans-69\"/>\r\n      <use x=\"250.199219\" xlink:href=\"#DejaVuSans-63\"/>\r\n      <use x=\"305.179688\" xlink:href=\"#DejaVuSans-74\"/>\r\n      <use x=\"344.388672\" xlink:href=\"#DejaVuSans-65\"/>\r\n      <use x=\"405.912109\" xlink:href=\"#DejaVuSans-64\"/>\r\n      <use x=\"469.388672\" xlink:href=\"#DejaVuSans-20\"/>\r\n      <use x=\"501.175781\" xlink:href=\"#DejaVuSans-6c\"/>\r\n      <use x=\"528.958984\" xlink:href=\"#DejaVuSans-61\"/>\r\n      <use x=\"590.238281\" xlink:href=\"#DejaVuSans-62\"/>\r\n      <use x=\"653.714844\" xlink:href=\"#DejaVuSans-65\"/>\r\n      <use x=\"715.238281\" xlink:href=\"#DejaVuSans-6c\"/>\r\n     </g>\r\n    </g>\r\n   </g>\r\n   <g id=\"matplotlib.axis_2\">\r\n    <g id=\"ytick_1\">\r\n     <g id=\"line2d_3\">\r\n      <defs>\r\n       <path d=\"M 0 0 \r\nL -3.5 0 \r\n\" id=\"m1dc1361555\" style=\"stroke:#000000;stroke-width:0.8;\"/>\r\n      </defs>\r\n      <g>\r\n       <use style=\"stroke:#000000;stroke-width:0.8;\" x=\"34.240625\" xlink:href=\"#m1dc1361555\" y=\"61.56\"/>\r\n      </g>\r\n     </g>\r\n     <g id=\"text_4\">\r\n      <!-- 0 -->\r\n      <g transform=\"translate(20.878125 65.359219)scale(0.1 -0.1)\">\r\n       <use xlink:href=\"#DejaVuSans-30\"/>\r\n      </g>\r\n     </g>\r\n    </g>\r\n    <g id=\"ytick_2\">\r\n     <g id=\"line2d_4\">\r\n      <g>\r\n       <use style=\"stroke:#000000;stroke-width:0.8;\" x=\"34.240625\" xlink:href=\"#m1dc1361555\" y=\"170.28\"/>\r\n      </g>\r\n     </g>\r\n     <g id=\"text_5\">\r\n      <!-- 1 -->\r\n      <g transform=\"translate(20.878125 174.079219)scale(0.1 -0.1)\">\r\n       <use xlink:href=\"#DejaVuSans-31\"/>\r\n      </g>\r\n     </g>\r\n    </g>\r\n    <g id=\"text_6\">\r\n     <!-- True label -->\r\n     <g transform=\"translate(14.798437 140.219219)rotate(-90)scale(0.1 -0.1)\">\r\n      <defs>\r\n       <path d=\"M -19 4666 \r\nL 3928 4666 \r\nL 3928 4134 \r\nL 2272 4134 \r\nL 2272 0 \r\nL 1638 0 \r\nL 1638 4134 \r\nL -19 4134 \r\nL -19 4666 \r\nz\r\n\" id=\"DejaVuSans-54\" transform=\"scale(0.015625)\"/>\r\n       <path d=\"M 544 1381 \r\nL 544 3500 \r\nL 1119 3500 \r\nL 1119 1403 \r\nQ 1119 906 1312 657 \r\nQ 1506 409 1894 409 \r\nQ 2359 409 2629 706 \r\nQ 2900 1003 2900 1516 \r\nL 2900 3500 \r\nL 3475 3500 \r\nL 3475 0 \r\nL 2900 0 \r\nL 2900 538 \r\nQ 2691 219 2414 64 \r\nQ 2138 -91 1772 -91 \r\nQ 1169 -91 856 284 \r\nQ 544 659 544 1381 \r\nz\r\nM 1991 3584 \r\nL 1991 3584 \r\nz\r\n\" id=\"DejaVuSans-75\" transform=\"scale(0.015625)\"/>\r\n      </defs>\r\n      <use xlink:href=\"#DejaVuSans-54\"/>\r\n      <use x=\"46.333984\" xlink:href=\"#DejaVuSans-72\"/>\r\n      <use x=\"87.447266\" xlink:href=\"#DejaVuSans-75\"/>\r\n      <use x=\"150.826172\" xlink:href=\"#DejaVuSans-65\"/>\r\n      <use x=\"212.349609\" xlink:href=\"#DejaVuSans-20\"/>\r\n      <use x=\"244.136719\" xlink:href=\"#DejaVuSans-6c\"/>\r\n      <use x=\"271.919922\" xlink:href=\"#DejaVuSans-61\"/>\r\n      <use x=\"333.199219\" xlink:href=\"#DejaVuSans-62\"/>\r\n      <use x=\"396.675781\" xlink:href=\"#DejaVuSans-65\"/>\r\n      <use x=\"458.199219\" xlink:href=\"#DejaVuSans-6c\"/>\r\n     </g>\r\n    </g>\r\n   </g>\r\n   <g id=\"patch_3\">\r\n    <path d=\"M 34.240625 224.64 \r\nL 34.240625 7.2 \r\n\" style=\"fill:none;stroke:#000000;stroke-linecap:square;stroke-linejoin:miter;stroke-width:0.8;\"/>\r\n   </g>\r\n   <g id=\"patch_4\">\r\n    <path d=\"M 251.680625 224.64 \r\nL 251.680625 7.2 \r\n\" style=\"fill:none;stroke:#000000;stroke-linecap:square;stroke-linejoin:miter;stroke-width:0.8;\"/>\r\n   </g>\r\n   <g id=\"patch_5\">\r\n    <path d=\"M 34.240625 224.64 \r\nL 251.680625 224.64 \r\n\" style=\"fill:none;stroke:#000000;stroke-linecap:square;stroke-linejoin:miter;stroke-width:0.8;\"/>\r\n   </g>\r\n   <g id=\"patch_6\">\r\n    <path d=\"M 34.240625 7.2 \r\nL 251.680625 7.2 \r\n\" style=\"fill:none;stroke:#000000;stroke-linecap:square;stroke-linejoin:miter;stroke-width:0.8;\"/>\r\n   </g>\r\n   <g id=\"text_7\">\r\n    <!-- 129580 -->\r\n    <g style=\"fill:#440154;\" transform=\"translate(69.513125 64.319375)scale(0.1 -0.1)\">\r\n     <defs>\r\n      <path d=\"M 1228 531 \r\nL 3431 531 \r\nL 3431 0 \r\nL 469 0 \r\nL 469 531 \r\nQ 828 903 1448 1529 \r\nQ 2069 2156 2228 2338 \r\nQ 2531 2678 2651 2914 \r\nQ 2772 3150 2772 3378 \r\nQ 2772 3750 2511 3984 \r\nQ 2250 4219 1831 4219 \r\nQ 1534 4219 1204 4116 \r\nQ 875 4013 500 3803 \r\nL 500 4441 \r\nQ 881 4594 1212 4672 \r\nQ 1544 4750 1819 4750 \r\nQ 2544 4750 2975 4387 \r\nQ 3406 4025 3406 3419 \r\nQ 3406 3131 3298 2873 \r\nQ 3191 2616 2906 2266 \r\nQ 2828 2175 2409 1742 \r\nQ 1991 1309 1228 531 \r\nz\r\n\" id=\"DejaVuSans-32\" transform=\"scale(0.015625)\"/>\r\n      <path d=\"M 703 97 \r\nL 703 672 \r\nQ 941 559 1184 500 \r\nQ 1428 441 1663 441 \r\nQ 2288 441 2617 861 \r\nQ 2947 1281 2994 2138 \r\nQ 2813 1869 2534 1725 \r\nQ 2256 1581 1919 1581 \r\nQ 1219 1581 811 2004 \r\nQ 403 2428 403 3163 \r\nQ 403 3881 828 4315 \r\nQ 1253 4750 1959 4750 \r\nQ 2769 4750 3195 4129 \r\nQ 3622 3509 3622 2328 \r\nQ 3622 1225 3098 567 \r\nQ 2575 -91 1691 -91 \r\nQ 1453 -91 1209 -44 \r\nQ 966 3 703 97 \r\nz\r\nM 1959 2075 \r\nQ 2384 2075 2632 2365 \r\nQ 2881 2656 2881 3163 \r\nQ 2881 3666 2632 3958 \r\nQ 2384 4250 1959 4250 \r\nQ 1534 4250 1286 3958 \r\nQ 1038 3666 1038 3163 \r\nQ 1038 2656 1286 2365 \r\nQ 1534 2075 1959 2075 \r\nz\r\n\" id=\"DejaVuSans-39\" transform=\"scale(0.015625)\"/>\r\n      <path d=\"M 691 4666 \r\nL 3169 4666 \r\nL 3169 4134 \r\nL 1269 4134 \r\nL 1269 2991 \r\nQ 1406 3038 1543 3061 \r\nQ 1681 3084 1819 3084 \r\nQ 2600 3084 3056 2656 \r\nQ 3513 2228 3513 1497 \r\nQ 3513 744 3044 326 \r\nQ 2575 -91 1722 -91 \r\nQ 1428 -91 1123 -41 \r\nQ 819 9 494 109 \r\nL 494 744 \r\nQ 775 591 1075 516 \r\nQ 1375 441 1709 441 \r\nQ 2250 441 2565 725 \r\nQ 2881 1009 2881 1497 \r\nQ 2881 1984 2565 2268 \r\nQ 2250 2553 1709 2553 \r\nQ 1456 2553 1204 2497 \r\nQ 953 2441 691 2322 \r\nL 691 4666 \r\nz\r\n\" id=\"DejaVuSans-35\" transform=\"scale(0.015625)\"/>\r\n      <path d=\"M 2034 2216 \r\nQ 1584 2216 1326 1975 \r\nQ 1069 1734 1069 1313 \r\nQ 1069 891 1326 650 \r\nQ 1584 409 2034 409 \r\nQ 2484 409 2743 651 \r\nQ 3003 894 3003 1313 \r\nQ 3003 1734 2745 1975 \r\nQ 2488 2216 2034 2216 \r\nz\r\nM 1403 2484 \r\nQ 997 2584 770 2862 \r\nQ 544 3141 544 3541 \r\nQ 544 4100 942 4425 \r\nQ 1341 4750 2034 4750 \r\nQ 2731 4750 3128 4425 \r\nQ 3525 4100 3525 3541 \r\nQ 3525 3141 3298 2862 \r\nQ 3072 2584 2669 2484 \r\nQ 3125 2378 3379 2068 \r\nQ 3634 1759 3634 1313 \r\nQ 3634 634 3220 271 \r\nQ 2806 -91 2034 -91 \r\nQ 1263 -91 848 271 \r\nQ 434 634 434 1313 \r\nQ 434 1759 690 2068 \r\nQ 947 2378 1403 2484 \r\nz\r\nM 1172 3481 \r\nQ 1172 3119 1398 2916 \r\nQ 1625 2713 2034 2713 \r\nQ 2441 2713 2670 2916 \r\nQ 2900 3119 2900 3481 \r\nQ 2900 3844 2670 4047 \r\nQ 2441 4250 2034 4250 \r\nQ 1625 4250 1398 4047 \r\nQ 1172 3844 1172 3481 \r\nz\r\n\" id=\"DejaVuSans-38\" transform=\"scale(0.015625)\"/>\r\n     </defs>\r\n     <use xlink:href=\"#DejaVuSans-31\"/>\r\n     <use x=\"63.623047\" xlink:href=\"#DejaVuSans-32\"/>\r\n     <use x=\"127.246094\" xlink:href=\"#DejaVuSans-39\"/>\r\n     <use x=\"190.869141\" xlink:href=\"#DejaVuSans-35\"/>\r\n     <use x=\"254.492188\" xlink:href=\"#DejaVuSans-38\"/>\r\n     <use x=\"318.115234\" xlink:href=\"#DejaVuSans-30\"/>\r\n    </g>\r\n   </g>\r\n   <g id=\"text_8\">\r\n    <!-- 26141 -->\r\n    <g style=\"fill:#fde725;\" transform=\"translate(181.414375 64.319375)scale(0.1 -0.1)\">\r\n     <defs>\r\n      <path d=\"M 2113 2584 \r\nQ 1688 2584 1439 2293 \r\nQ 1191 2003 1191 1497 \r\nQ 1191 994 1439 701 \r\nQ 1688 409 2113 409 \r\nQ 2538 409 2786 701 \r\nQ 3034 994 3034 1497 \r\nQ 3034 2003 2786 2293 \r\nQ 2538 2584 2113 2584 \r\nz\r\nM 3366 4563 \r\nL 3366 3988 \r\nQ 3128 4100 2886 4159 \r\nQ 2644 4219 2406 4219 \r\nQ 1781 4219 1451 3797 \r\nQ 1122 3375 1075 2522 \r\nQ 1259 2794 1537 2939 \r\nQ 1816 3084 2150 3084 \r\nQ 2853 3084 3261 2657 \r\nQ 3669 2231 3669 1497 \r\nQ 3669 778 3244 343 \r\nQ 2819 -91 2113 -91 \r\nQ 1303 -91 875 529 \r\nQ 447 1150 447 2328 \r\nQ 447 3434 972 4092 \r\nQ 1497 4750 2381 4750 \r\nQ 2619 4750 2861 4703 \r\nQ 3103 4656 3366 4563 \r\nz\r\n\" id=\"DejaVuSans-36\" transform=\"scale(0.015625)\"/>\r\n      <path d=\"M 2419 4116 \r\nL 825 1625 \r\nL 2419 1625 \r\nL 2419 4116 \r\nz\r\nM 2253 4666 \r\nL 3047 4666 \r\nL 3047 1625 \r\nL 3713 1625 \r\nL 3713 1100 \r\nL 3047 1100 \r\nL 3047 0 \r\nL 2419 0 \r\nL 2419 1100 \r\nL 313 1100 \r\nL 313 1709 \r\nL 2253 4666 \r\nz\r\n\" id=\"DejaVuSans-34\" transform=\"scale(0.015625)\"/>\r\n     </defs>\r\n     <use xlink:href=\"#DejaVuSans-32\"/>\r\n     <use x=\"63.623047\" xlink:href=\"#DejaVuSans-36\"/>\r\n     <use x=\"127.246094\" xlink:href=\"#DejaVuSans-31\"/>\r\n     <use x=\"190.869141\" xlink:href=\"#DejaVuSans-34\"/>\r\n     <use x=\"254.492188\" xlink:href=\"#DejaVuSans-31\"/>\r\n    </g>\r\n   </g>\r\n   <g id=\"text_9\">\r\n    <!-- 64111 -->\r\n    <g style=\"fill:#fde725;\" transform=\"translate(72.694375 173.039375)scale(0.1 -0.1)\">\r\n     <use xlink:href=\"#DejaVuSans-36\"/>\r\n     <use x=\"63.623047\" xlink:href=\"#DejaVuSans-34\"/>\r\n     <use x=\"127.246094\" xlink:href=\"#DejaVuSans-31\"/>\r\n     <use x=\"190.869141\" xlink:href=\"#DejaVuSans-31\"/>\r\n     <use x=\"254.492188\" xlink:href=\"#DejaVuSans-31\"/>\r\n    </g>\r\n   </g>\r\n   <g id=\"text_10\">\r\n    <!-- 38366 -->\r\n    <g style=\"fill:#fde725;\" transform=\"translate(181.414375 173.039375)scale(0.1 -0.1)\">\r\n     <defs>\r\n      <path d=\"M 2597 2516 \r\nQ 3050 2419 3304 2112 \r\nQ 3559 1806 3559 1356 \r\nQ 3559 666 3084 287 \r\nQ 2609 -91 1734 -91 \r\nQ 1441 -91 1130 -33 \r\nQ 819 25 488 141 \r\nL 488 750 \r\nQ 750 597 1062 519 \r\nQ 1375 441 1716 441 \r\nQ 2309 441 2620 675 \r\nQ 2931 909 2931 1356 \r\nQ 2931 1769 2642 2001 \r\nQ 2353 2234 1838 2234 \r\nL 1294 2234 \r\nL 1294 2753 \r\nL 1863 2753 \r\nQ 2328 2753 2575 2939 \r\nQ 2822 3125 2822 3475 \r\nQ 2822 3834 2567 4026 \r\nQ 2313 4219 1838 4219 \r\nQ 1578 4219 1281 4162 \r\nQ 984 4106 628 3988 \r\nL 628 4550 \r\nQ 988 4650 1302 4700 \r\nQ 1616 4750 1894 4750 \r\nQ 2613 4750 3031 4423 \r\nQ 3450 4097 3450 3541 \r\nQ 3450 3153 3228 2886 \r\nQ 3006 2619 2597 2516 \r\nz\r\n\" id=\"DejaVuSans-33\" transform=\"scale(0.015625)\"/>\r\n     </defs>\r\n     <use xlink:href=\"#DejaVuSans-33\"/>\r\n     <use x=\"63.623047\" xlink:href=\"#DejaVuSans-38\"/>\r\n     <use x=\"127.246094\" xlink:href=\"#DejaVuSans-33\"/>\r\n     <use x=\"190.869141\" xlink:href=\"#DejaVuSans-36\"/>\r\n     <use x=\"254.492188\" xlink:href=\"#DejaVuSans-36\"/>\r\n    </g>\r\n   </g>\r\n  </g>\r\n  <g id=\"axes_2\">\r\n   <g id=\"patch_7\">\r\n    <path d=\"M 268.420625 224.64 \r\nL 279.292625 224.64 \r\nL 279.292625 7.2 \r\nL 268.420625 7.2 \r\nz\r\n\" style=\"fill:#ffffff;\"/>\r\n   </g>\r\n   <g id=\"patch_8\">\r\n    <path clip-path=\"url(#pe97dd31888)\" d=\"M 268.420625 224.64 \r\nL 268.420625 223.790625 \r\nL 268.420625 8.049375 \r\nL 268.420625 7.2 \r\nL 279.292625 7.2 \r\nL 279.292625 8.049375 \r\nL 279.292625 223.790625 \r\nL 279.292625 224.64 \r\nL 279.292625 224.64 \r\nz\r\n\" style=\"fill:#ffffff;stroke:#ffffff;stroke-linejoin:miter;stroke-width:0.01;\"/>\r\n   </g>\r\n   <image height=\"217\" id=\"image0be036a52d\" transform=\"scale(1 -1)translate(0 -217)\" width=\"11\" x=\"268\" xlink:href=\"data:image/png;base64,\r\niVBORw0KGgoAAAANSUhEUgAAAAsAAADZCAYAAAD2WsoCAAABUklEQVR4nN2awQ3CQAwEz/aFyqiB/gsBQguex0g+eK9W6/HmAiTxzNe9mp8dGV3t2iuyL/acF3GOKhKDZE6SmTnPGHAIDSQuL4ZVUZGzFuNmmdtak8aUzB7n0pz7Wjog4Xx7lxUZ0CsSckboYOuQMxGTDaIYJ9KAA2p9ZuiI85BzY8YGj+yGdxRoFR2ylCk0+lo184wT6f/XPSTzgc5DYsDy96/vM9GNoAFCyDTAgN4GEWdYfssZfLs0B/Q4h5bZdCbi/FrOM9Cltm5Ew4wBxEWOAsZ5jUBXrM9WkSANK8YmNLwBmbNHIzQanjPhvPPTF5e4botGTaHhDWg5X4FooBhAjDaInNmAMzbIOBN0V7xJDK+iqBsInUYDDUiWgtaNrhQ4oHWHZRvUYjxYRdtamrlvvDZ4zrx2gd9L+yLPgJI4oxjMmWTeC7yuU+SdkwR/Uv0A7xuAaGKmOKMAAAAASUVORK5CYII=\" y=\"-7\"/>\r\n   <g id=\"matplotlib.axis_3\"/>\r\n   <g id=\"matplotlib.axis_4\">\r\n    <g id=\"ytick_3\">\r\n     <g id=\"line2d_5\">\r\n      <defs>\r\n       <path d=\"M 0 0 \r\nL 3.5 0 \r\n\" id=\"md95047573f\" style=\"stroke:#000000;stroke-width:0.8;\"/>\r\n      </defs>\r\n      <g>\r\n       <use style=\"stroke:#000000;stroke-width:0.8;\" x=\"279.292625\" xlink:href=\"#md95047573f\" y=\"195.506878\"/>\r\n      </g>\r\n     </g>\r\n     <g id=\"text_11\">\r\n      <!-- 40000 -->\r\n      <g transform=\"translate(286.292625 199.306097)scale(0.1 -0.1)\">\r\n       <use xlink:href=\"#DejaVuSans-34\"/>\r\n       <use x=\"63.623047\" xlink:href=\"#DejaVuSans-30\"/>\r\n       <use x=\"127.246094\" xlink:href=\"#DejaVuSans-30\"/>\r\n       <use x=\"190.869141\" xlink:href=\"#DejaVuSans-30\"/>\r\n       <use x=\"254.492188\" xlink:href=\"#DejaVuSans-30\"/>\r\n      </g>\r\n     </g>\r\n    </g>\r\n    <g id=\"ytick_4\">\r\n     <g id=\"line2d_6\">\r\n      <g>\r\n       <use style=\"stroke:#000000;stroke-width:0.8;\" x=\"279.292625\" xlink:href=\"#md95047573f\" y=\"153.464709\"/>\r\n      </g>\r\n     </g>\r\n     <g id=\"text_12\">\r\n      <!-- 60000 -->\r\n      <g transform=\"translate(286.292625 157.263927)scale(0.1 -0.1)\">\r\n       <use xlink:href=\"#DejaVuSans-36\"/>\r\n       <use x=\"63.623047\" xlink:href=\"#DejaVuSans-30\"/>\r\n       <use x=\"127.246094\" xlink:href=\"#DejaVuSans-30\"/>\r\n       <use x=\"190.869141\" xlink:href=\"#DejaVuSans-30\"/>\r\n       <use x=\"254.492188\" xlink:href=\"#DejaVuSans-30\"/>\r\n      </g>\r\n     </g>\r\n    </g>\r\n    <g id=\"ytick_5\">\r\n     <g id=\"line2d_7\">\r\n      <g>\r\n       <use style=\"stroke:#000000;stroke-width:0.8;\" x=\"279.292625\" xlink:href=\"#md95047573f\" y=\"111.422539\"/>\r\n      </g>\r\n     </g>\r\n     <g id=\"text_13\">\r\n      <!-- 80000 -->\r\n      <g transform=\"translate(286.292625 115.221758)scale(0.1 -0.1)\">\r\n       <use xlink:href=\"#DejaVuSans-38\"/>\r\n       <use x=\"63.623047\" xlink:href=\"#DejaVuSans-30\"/>\r\n       <use x=\"127.246094\" xlink:href=\"#DejaVuSans-30\"/>\r\n       <use x=\"190.869141\" xlink:href=\"#DejaVuSans-30\"/>\r\n       <use x=\"254.492188\" xlink:href=\"#DejaVuSans-30\"/>\r\n      </g>\r\n     </g>\r\n    </g>\r\n    <g id=\"ytick_6\">\r\n     <g id=\"line2d_8\">\r\n      <g>\r\n       <use style=\"stroke:#000000;stroke-width:0.8;\" x=\"279.292625\" xlink:href=\"#md95047573f\" y=\"69.380369\"/>\r\n      </g>\r\n     </g>\r\n     <g id=\"text_14\">\r\n      <!-- 100000 -->\r\n      <g transform=\"translate(286.292625 73.179588)scale(0.1 -0.1)\">\r\n       <use xlink:href=\"#DejaVuSans-31\"/>\r\n       <use x=\"63.623047\" xlink:href=\"#DejaVuSans-30\"/>\r\n       <use x=\"127.246094\" xlink:href=\"#DejaVuSans-30\"/>\r\n       <use x=\"190.869141\" xlink:href=\"#DejaVuSans-30\"/>\r\n       <use x=\"254.492188\" xlink:href=\"#DejaVuSans-30\"/>\r\n       <use x=\"318.115234\" xlink:href=\"#DejaVuSans-30\"/>\r\n      </g>\r\n     </g>\r\n    </g>\r\n    <g id=\"ytick_7\">\r\n     <g id=\"line2d_9\">\r\n      <g>\r\n       <use style=\"stroke:#000000;stroke-width:0.8;\" x=\"279.292625\" xlink:href=\"#md95047573f\" y=\"27.338199\"/>\r\n      </g>\r\n     </g>\r\n     <g id=\"text_15\">\r\n      <!-- 120000 -->\r\n      <g transform=\"translate(286.292625 31.137418)scale(0.1 -0.1)\">\r\n       <use xlink:href=\"#DejaVuSans-31\"/>\r\n       <use x=\"63.623047\" xlink:href=\"#DejaVuSans-32\"/>\r\n       <use x=\"127.246094\" xlink:href=\"#DejaVuSans-30\"/>\r\n       <use x=\"190.869141\" xlink:href=\"#DejaVuSans-30\"/>\r\n       <use x=\"254.492188\" xlink:href=\"#DejaVuSans-30\"/>\r\n       <use x=\"318.115234\" xlink:href=\"#DejaVuSans-30\"/>\r\n      </g>\r\n     </g>\r\n    </g>\r\n   </g>\r\n   <g id=\"LineCollection_1\"/>\r\n   <g id=\"patch_9\">\r\n    <path d=\"M 268.420625 224.64 \r\nL 268.420625 223.790625 \r\nL 268.420625 8.049375 \r\nL 268.420625 7.2 \r\nL 279.292625 7.2 \r\nL 279.292625 8.049375 \r\nL 279.292625 223.790625 \r\nL 279.292625 224.64 \r\nz\r\n\" style=\"fill:none;stroke:#000000;stroke-linecap:square;stroke-linejoin:miter;stroke-width:0.8;\"/>\r\n   </g>\r\n  </g>\r\n </g>\r\n <defs>\r\n  <clipPath id=\"p2da4fc0e25\">\r\n   <rect height=\"217.44\" width=\"217.44\" x=\"34.240625\" y=\"7.2\"/>\r\n  </clipPath>\r\n  <clipPath id=\"pe97dd31888\">\r\n   <rect height=\"217.44\" width=\"10.872\" x=\"268.420625\" y=\"7.2\"/>\r\n  </clipPath>\r\n </defs>\r\n</svg>\r\n",
      "image/png": "[encoded data removed]"
     },
     "metadata": {
      "needs_background": "light"
     }
    }
   ],
   "source": [
    "recsysxgb = utils.model.RecSysXGB1()\n",
    "xgb_params = {'objective': 'binary:logistic', 'eval_metric':'map'}\n",
    "recsysxgb.train_in_memory(train_data, feature_columns_wo_TE, xgb_params, save_dir = \"xgb_models_02\")#add random mask for train data.\n",
    "\n",
    "import matplotlib.pyplot as plt\n",
    "like_preds = recsysxgb.infer(test_data, feature_columns_wo_TE)[3].round()\n",
    "print(sklearn.metrics.balanced_accuracy_score(test_data[\"has_like\"]*1, like_preds))\n",
    "print(sklearn.metrics.precision_score(test_data[\"has_like\"]*1 , like_preds))\n",
    "sklearn.metrics.ConfusionMatrixDisplay(sklearn.metrics.confusion_matrix(test_data[\"has_like\"]*1, like_preds)).plot()\n",
    "plt.show()"
   ]
  },
  {
   "cell_type": "code",
   "execution_count": 17,
   "metadata": {},
   "outputs": [
    {
     "output_type": "execute_result",
     "data": {
      "text/plain": [
       "((0.07838889395626775,\n",
       "  0.21017256831466424,\n",
       "  0.01311680208030953,\n",
       "  0.5497049910700084),\n",
       " (-10.895447388277212,\n",
       "  -7.667416115453207,\n",
       "  -35.1241308278595,\n",
       "  -14.72609793741293))"
      ]
     },
     "metadata": {},
     "execution_count": 17
    }
   ],
   "source": [
    "from utils.dataloader import RecSys2021PandasDataLoader\n",
    "val_loader = RecSys2021PandasDataLoader(test_data, feature_columns_w_TE, mode = \"validation\")\n",
    "res = recsysxgb.evaluate_validation_set(val_loader)\n",
    "res"
   ]
  },
  {
   "cell_type": "code",
   "execution_count": 22,
   "metadata": {},
   "outputs": [
    {
     "output_type": "execute_result",
     "data": {
      "text/plain": [
       "((-11.980558944316488,\n",
       "  0.2151621868957992,\n",
       "  0.014035841385669563,\n",
       "  0.5509188674378727),\n",
       " (-11.980558944316488,\n",
       "  -7.355539671873346,\n",
       "  -37.56595235666913,\n",
       "  -12.942204554657044))"
      ]
     },
     "metadata": {},
     "execution_count": 22
    }
   ],
   "source": [
    "print(f\"AP Reply: {res[0][0]} - RCE Reply: {res[0][1]}\")\n",
    "print(f\"AP Reply: {res[0][1]} - RCE Reply: {res[0][1]}\")\n",
    "print(f\"AP Reply: {res[0][2]} - RCE Reply: {res[0][2]}\")\n",
    "print(f\"AP Reply: {res[0][3]} - RCE Reply: {res[0][3]}\")"
   ]
  },
  {
   "cell_type": "code",
   "execution_count": 22,
   "metadata": {},
   "outputs": [
    {
     "output_type": "execute_result",
     "data": {
      "text/plain": [
       "{'TE_tweet_hash_has_reply': 62.22787582221791,\n",
       " 'TE_b_hash_has_reply': 28.455619993834684,\n",
       " 'TE_a_hash_has_reply': 20.471449685112496,\n",
       " 'type_encoding': 5.046187223706666,\n",
       " 'b_following': 0.6543604263666667,\n",
       " 'TE_tweet_hash_has_retweet_comment': 5.34679594421154,\n",
       " 'TE_tweet_hash_has_like': 1.2482774285117646,\n",
       " 'TE_b_hash_has_like': 3.2116974821214272,\n",
       " 'TE_b_hash_has_retweet_comment': 15.321340592249996,\n",
       " 'a_followers': 2.262771235222105,\n",
       " 'a_creation_delta': 0.9374418887999999,\n",
       " 'hour_of_day': 0.5637817881111111,\n",
       " 'bert_token_len': 0.6652109679361848,\n",
       " 'b_followers': 0.7834144117333334,\n",
       " 'a_following': 0.6242849637008333,\n",
       " 'b_creation_delta': 0.9075859542571428,\n",
       " 'a_is_verified': 0.28109640875833336,\n",
       " 'a_follows_b': 5.1664734322250006,\n",
       " 'TE_tweet_hash_has_retweet': 6.1951241224,\n",
       " 'TE_a_hash_has_retweet_comment': 5.191675475502353,\n",
       " 'language_encoding': 0.5869294612,\n",
       " 'TE_a_hash_has_like': 2.2203893068615383,\n",
       " 'TE_language_encoding_has_reply': 1.7514976512,\n",
       " 'TE_b_hash_has_retweet': 4.395102540749999,\n",
       " 'n_photos': 0.4501318136666667,\n",
       " 'day_of_week': 1.712286115,\n",
       " 'TE_language_encoding_has_like': 0.642314255,\n",
       " 'TE_a_hash_has_retweet': 0.355140686,\n",
       " 'n_gifs': 0.500121057}"
      ]
     },
     "metadata": {},
     "execution_count": 22
    }
   ],
   "source": [
    "recsysxgb.clfs_[\"has_reply\"].get_score(importance_type=\"gain\")"
   ]
  },
  {
   "cell_type": "code",
   "execution_count": 3,
   "metadata": {},
   "outputs": [
    {
     "output_type": "execute_result",
     "data": {
      "text/plain": [
       "                                        0                                 1  \\\n",
       "0        86E96F830895E40DAB8F24F86D83B86E  74D5CE3C365903C64566F9FA5BEECB9C   \n",
       "1        AEE204C567095381322449234EE86E81  9E2A5163444B160FCE11466F2FBA8916   \n",
       "2        9CA1C34EC7E003A5024D84CDED5F9F2A  BA119634422E2546D7DBABB6A5982EEF   \n",
       "3        369D6820D2C39E2E6028EC871E8AF2D7  2B8C960A90BEDC328D682E0E70226793   \n",
       "4        3A4270400ADBF900DD170EFE73CE7622  72C2F73E3F9E85735BC12772E7F1E00C   \n",
       "...                                   ...                               ...   \n",
       "6021783  CD19AB894ABA72AD6C4B9D4BD82E4026  8522351239353E85F111767F8B25C34A   \n",
       "6021784  C4D0567E0D7BAA9206A8FE785BB91FB7  2CFA280F4AD55CEE5E782633977E5AF4   \n",
       "6021785  8E41EA985DB24BF917DC2F08E84D6889  43092FC9E166FD48ECD6609F45CD442B   \n",
       "6021786  F1D9CB611711282AD81EDB54727C177F  74D9CFFF7F2298849DA86C8A6F2BAB3F   \n",
       "6021787  4A9A556334F87E7AFC9239E491FF99A5  25CB7D16D3910254EA4F7BACA123C339   \n",
       "\n",
       "                2         3         4         5  \n",
       "0        0.019257  0.115212  0.022055  0.326475  \n",
       "1        0.038524  0.034698  0.017495  0.621212  \n",
       "2        0.116512  0.092753  0.038210  0.492120  \n",
       "3        0.036331  0.045587  0.014722  0.673827  \n",
       "4        0.020974  0.114041  0.018272  0.232942  \n",
       "...           ...       ...       ...       ...  \n",
       "6021783  0.075917  0.041989  0.016296  0.348669  \n",
       "6021784  0.034605  0.133356  0.027635  0.498689  \n",
       "6021785  0.048031  0.063350  0.018975  0.481854  \n",
       "6021786  0.032689  0.080162  0.023664  0.492081  \n",
       "6021787  0.068773  0.049890  0.019978  0.528264  \n",
       "\n",
       "[6021788 rows x 6 columns]"
      ],
      "text/html": "<div>\n<style scoped>\n    .dataframe tbody tr th:only-of-type {\n        vertical-align: middle;\n    }\n\n    .dataframe tbody tr th {\n        vertical-align: top;\n    }\n\n    .dataframe thead th {\n        text-align: right;\n    }\n</style>\n<table border=\"1\" class=\"dataframe\">\n  <thead>\n    <tr style=\"text-align: right;\">\n      <th></th>\n      <th>0</th>\n      <th>1</th>\n      <th>2</th>\n      <th>3</th>\n      <th>4</th>\n      <th>5</th>\n    </tr>\n  </thead>\n  <tbody>\n    <tr>\n      <th>0</th>\n      <td>86E96F830895E40DAB8F24F86D83B86E</td>\n      <td>74D5CE3C365903C64566F9FA5BEECB9C</td>\n      <td>0.019257</td>\n      <td>0.115212</td>\n      <td>0.022055</td>\n      <td>0.326475</td>\n    </tr>\n    <tr>\n      <th>1</th>\n      <td>AEE204C567095381322449234EE86E81</td>\n      <td>9E2A5163444B160FCE11466F2FBA8916</td>\n      <td>0.038524</td>\n      <td>0.034698</td>\n      <td>0.017495</td>\n      <td>0.621212</td>\n    </tr>\n    <tr>\n      <th>2</th>\n      <td>9CA1C34EC7E003A5024D84CDED5F9F2A</td>\n      <td>BA119634422E2546D7DBABB6A5982EEF</td>\n      <td>0.116512</td>\n      <td>0.092753</td>\n      <td>0.038210</td>\n      <td>0.492120</td>\n    </tr>\n    <tr>\n      <th>3</th>\n      <td>369D6820D2C39E2E6028EC871E8AF2D7</td>\n      <td>2B8C960A90BEDC328D682E0E70226793</td>\n      <td>0.036331</td>\n      <td>0.045587</td>\n      <td>0.014722</td>\n      <td>0.673827</td>\n    </tr>\n    <tr>\n      <th>4</th>\n      <td>3A4270400ADBF900DD170EFE73CE7622</td>\n      <td>72C2F73E3F9E85735BC12772E7F1E00C</td>\n      <td>0.020974</td>\n      <td>0.114041</td>\n      <td>0.018272</td>\n      <td>0.232942</td>\n    </tr>\n    <tr>\n      <th>...</th>\n      <td>...</td>\n      <td>...</td>\n      <td>...</td>\n      <td>...</td>\n      <td>...</td>\n      <td>...</td>\n    </tr>\n    <tr>\n      <th>6021783</th>\n      <td>CD19AB894ABA72AD6C4B9D4BD82E4026</td>\n      <td>8522351239353E85F111767F8B25C34A</td>\n      <td>0.075917</td>\n      <td>0.041989</td>\n      <td>0.016296</td>\n      <td>0.348669</td>\n    </tr>\n    <tr>\n      <th>6021784</th>\n      <td>C4D0567E0D7BAA9206A8FE785BB91FB7</td>\n      <td>2CFA280F4AD55CEE5E782633977E5AF4</td>\n      <td>0.034605</td>\n      <td>0.133356</td>\n      <td>0.027635</td>\n      <td>0.498689</td>\n    </tr>\n    <tr>\n      <th>6021785</th>\n      <td>8E41EA985DB24BF917DC2F08E84D6889</td>\n      <td>43092FC9E166FD48ECD6609F45CD442B</td>\n      <td>0.048031</td>\n      <td>0.063350</td>\n      <td>0.018975</td>\n      <td>0.481854</td>\n    </tr>\n    <tr>\n      <th>6021786</th>\n      <td>F1D9CB611711282AD81EDB54727C177F</td>\n      <td>74D9CFFF7F2298849DA86C8A6F2BAB3F</td>\n      <td>0.032689</td>\n      <td>0.080162</td>\n      <td>0.023664</td>\n      <td>0.492081</td>\n    </tr>\n    <tr>\n      <th>6021787</th>\n      <td>4A9A556334F87E7AFC9239E491FF99A5</td>\n      <td>25CB7D16D3910254EA4F7BACA123C339</td>\n      <td>0.068773</td>\n      <td>0.049890</td>\n      <td>0.019978</td>\n      <td>0.528264</td>\n    </tr>\n  </tbody>\n</table>\n<p>6021788 rows × 6 columns</p>\n</div>"
     },
     "metadata": {},
     "execution_count": 3
    }
   ],
   "source": [
    "pd.read_csv(\"simple_pandas_run\\\\results.csv\",  header=None)"
   ]
  },
  {
   "cell_type": "code",
   "execution_count": 5,
   "metadata": {},
   "outputs": [
    {
     "output_type": "execute_result",
     "data": {
      "text/plain": [
       "   bert_base_multilingual_cased_tokens  \\\n",
       "0                                    0   \n",
       "1                                    1   \n",
       "2                                    2   \n",
       "3                                    3   \n",
       "4                                    4   \n",
       "\n",
       "                                            hashtags  \\\n",
       "0  101\\t56898\\t137\\t78722\\t101518\\t10113\\t131\\t14...   \n",
       "1  101\\t12845\\t10285\\t62330\\t10107\\t10911\\t10121\\...   \n",
       "2            101\\t146\\t11337\\t20780\\t13028\\t119\\t102   \n",
       "3  101\\t56898\\t137\\t105192\\t105353\\t21127\\t10240\\...   \n",
       "4  101\\t56898\\t137\\t11859\\t11418\\t85004\\t10165\\t1...   \n",
       "\n",
       "                                            tweet_id  \\\n",
       "0  F057EABF27033C86635DACA39B75860A\\tE4367F69BD34...   \n",
       "1                                                NaN   \n",
       "2                                                NaN   \n",
       "3                                                NaN   \n",
       "4  AB7684EA0831CFD4A6269EFC770A8397\\t10420B9DA1F0...   \n",
       "\n",
       "                             medias  links domains type language  \\\n",
       "0  C23924CADFBB076A7D2D7F9096BF07B7  Photo     NaN  NaN  Retweet   \n",
       "1  CB4EC1A0ECB0CCBCAD05420E96ED4DD8    NaN     NaN  NaN    Quote   \n",
       "2  7CA02AC9EA45304CAFB61066DDF523ED    NaN     NaN  NaN    Quote   \n",
       "3  C324FDFA8D361DDA8C275B52F08311A7  Video     NaN  NaN  Retweet   \n",
       "4  25B61B9D047F7FA940AF0CC585F2EDF8    NaN     NaN  NaN  Retweet   \n",
       "\n",
       "                          timestamp   a_user_id  ...   b_user_id  \\\n",
       "0  9FCF19233EAD65EA6E32C2E6DC03A444  1612516671  ...  1379690719   \n",
       "1  B0FA488F2911701DD8EC5B1EA5E322D8  1613837103  ...  1423845537   \n",
       "2  488B32D24BD4BB44172EB981C1BCA6FA  1613855527  ...  1304754718   \n",
       "3  9FCF19233EAD65EA6E32C2E6DC03A444  1612681684  ...  1471693022   \n",
       "4  E7F038DE3EAD397AEC9193686C911677  1612867625  ...  1256282122   \n",
       "\n",
       "                   b_follower_count  b_following_count  b_is_verified  \\\n",
       "0  2CF8B49FB083BC4EC687C601F64EA8AD                683            689   \n",
       "1  77AF0FFF70745B62F02E2C590AAB0541                588           1670   \n",
       "2  6E3596FBE5441CCAC38229755C8506F4                297            595   \n",
       "3  6F9E0D6DDCF0DD79E740C4A7F999EEC7                134            917   \n",
       "4  4B4E3B3AF68B830214A6BC2C25EAA708                224            184   \n",
       "\n",
       "   b_account_creation a_follows_b  reply  retweet  retweet_comment  like  \n",
       "0               False  1265254445   True      NaN              NaN   NaN  \n",
       "1               False  1304362682  False      NaN              NaN   NaN  \n",
       "2               False  1528559689   True      NaN              NaN   NaN  \n",
       "3               False  1531225320  False      NaN              NaN   NaN  \n",
       "4               False  1466501106  False      NaN              NaN   NaN  \n",
       "\n",
       "[5 rows x 24 columns]"
      ],
      "text/html": "<div>\n<style scoped>\n    .dataframe tbody tr th:only-of-type {\n        vertical-align: middle;\n    }\n\n    .dataframe tbody tr th {\n        vertical-align: top;\n    }\n\n    .dataframe thead th {\n        text-align: right;\n    }\n</style>\n<table border=\"1\" class=\"dataframe\">\n  <thead>\n    <tr style=\"text-align: right;\">\n      <th></th>\n      <th>bert_base_multilingual_cased_tokens</th>\n      <th>hashtags</th>\n      <th>tweet_id</th>\n      <th>medias</th>\n      <th>links</th>\n      <th>domains</th>\n      <th>type</th>\n      <th>language</th>\n      <th>timestamp</th>\n      <th>a_user_id</th>\n      <th>...</th>\n      <th>b_user_id</th>\n      <th>b_follower_count</th>\n      <th>b_following_count</th>\n      <th>b_is_verified</th>\n      <th>b_account_creation</th>\n      <th>a_follows_b</th>\n      <th>reply</th>\n      <th>retweet</th>\n      <th>retweet_comment</th>\n      <th>like</th>\n    </tr>\n  </thead>\n  <tbody>\n    <tr>\n      <th>0</th>\n      <td>0</td>\n      <td>101\\t56898\\t137\\t78722\\t101518\\t10113\\t131\\t14...</td>\n      <td>F057EABF27033C86635DACA39B75860A\\tE4367F69BD34...</td>\n      <td>C23924CADFBB076A7D2D7F9096BF07B7</td>\n      <td>Photo</td>\n      <td>NaN</td>\n      <td>NaN</td>\n      <td>Retweet</td>\n      <td>9FCF19233EAD65EA6E32C2E6DC03A444</td>\n      <td>1612516671</td>\n      <td>...</td>\n      <td>1379690719</td>\n      <td>2CF8B49FB083BC4EC687C601F64EA8AD</td>\n      <td>683</td>\n      <td>689</td>\n      <td>False</td>\n      <td>1265254445</td>\n      <td>True</td>\n      <td>NaN</td>\n      <td>NaN</td>\n      <td>NaN</td>\n    </tr>\n    <tr>\n      <th>1</th>\n      <td>1</td>\n      <td>101\\t12845\\t10285\\t62330\\t10107\\t10911\\t10121\\...</td>\n      <td>NaN</td>\n      <td>CB4EC1A0ECB0CCBCAD05420E96ED4DD8</td>\n      <td>NaN</td>\n      <td>NaN</td>\n      <td>NaN</td>\n      <td>Quote</td>\n      <td>B0FA488F2911701DD8EC5B1EA5E322D8</td>\n      <td>1613837103</td>\n      <td>...</td>\n      <td>1423845537</td>\n      <td>77AF0FFF70745B62F02E2C590AAB0541</td>\n      <td>588</td>\n      <td>1670</td>\n      <td>False</td>\n      <td>1304362682</td>\n      <td>False</td>\n      <td>NaN</td>\n      <td>NaN</td>\n      <td>NaN</td>\n    </tr>\n    <tr>\n      <th>2</th>\n      <td>2</td>\n      <td>101\\t146\\t11337\\t20780\\t13028\\t119\\t102</td>\n      <td>NaN</td>\n      <td>7CA02AC9EA45304CAFB61066DDF523ED</td>\n      <td>NaN</td>\n      <td>NaN</td>\n      <td>NaN</td>\n      <td>Quote</td>\n      <td>488B32D24BD4BB44172EB981C1BCA6FA</td>\n      <td>1613855527</td>\n      <td>...</td>\n      <td>1304754718</td>\n      <td>6E3596FBE5441CCAC38229755C8506F4</td>\n      <td>297</td>\n      <td>595</td>\n      <td>False</td>\n      <td>1528559689</td>\n      <td>True</td>\n      <td>NaN</td>\n      <td>NaN</td>\n      <td>NaN</td>\n    </tr>\n    <tr>\n      <th>3</th>\n      <td>3</td>\n      <td>101\\t56898\\t137\\t105192\\t105353\\t21127\\t10240\\...</td>\n      <td>NaN</td>\n      <td>C324FDFA8D361DDA8C275B52F08311A7</td>\n      <td>Video</td>\n      <td>NaN</td>\n      <td>NaN</td>\n      <td>Retweet</td>\n      <td>9FCF19233EAD65EA6E32C2E6DC03A444</td>\n      <td>1612681684</td>\n      <td>...</td>\n      <td>1471693022</td>\n      <td>6F9E0D6DDCF0DD79E740C4A7F999EEC7</td>\n      <td>134</td>\n      <td>917</td>\n      <td>False</td>\n      <td>1531225320</td>\n      <td>False</td>\n      <td>NaN</td>\n      <td>NaN</td>\n      <td>NaN</td>\n    </tr>\n    <tr>\n      <th>4</th>\n      <td>4</td>\n      <td>101\\t56898\\t137\\t11859\\t11418\\t85004\\t10165\\t1...</td>\n      <td>AB7684EA0831CFD4A6269EFC770A8397\\t10420B9DA1F0...</td>\n      <td>25B61B9D047F7FA940AF0CC585F2EDF8</td>\n      <td>NaN</td>\n      <td>NaN</td>\n      <td>NaN</td>\n      <td>Retweet</td>\n      <td>E7F038DE3EAD397AEC9193686C911677</td>\n      <td>1612867625</td>\n      <td>...</td>\n      <td>1256282122</td>\n      <td>4B4E3B3AF68B830214A6BC2C25EAA708</td>\n      <td>224</td>\n      <td>184</td>\n      <td>False</td>\n      <td>1466501106</td>\n      <td>False</td>\n      <td>NaN</td>\n      <td>NaN</td>\n      <td>NaN</td>\n    </tr>\n  </tbody>\n</table>\n<p>5 rows × 24 columns</p>\n</div>"
     },
     "metadata": {},
     "execution_count": 5
    }
   ],
   "source": [
    "#f2 = f2.drop([\"reply\",\"retweet\",\"retweet_comment\",\"like\"], axis=1)\n",
    "f2.head()"
   ]
  },
  {
   "cell_type": "code",
   "execution_count": 10,
   "metadata": {},
   "outputs": [
    {
     "output_type": "execute_result",
     "data": {
      "text/plain": [
       "                                 tweet_id  a_is_verified  \\\n",
       "idx                                                        \n",
       "2328504  FC917234BCAEEC9D838802CC92DF440E          False   \n",
       "2328505  A073D4352E0A2FD304064180355607F2          False   \n",
       "2328506  5D3B0DD135E64C788917F3E9474BDD72          False   \n",
       "2328507  8FEFB3031291D157ECBA60C68026C30E          False   \n",
       "2328508  5278984CBE0C3DB1C14FCEDA67713864          False   \n",
       "...                                   ...            ...   \n",
       "2587206  C8D2C3701D87551726382D08D18A22FE          False   \n",
       "2587207  FF1CCC27DA37CF4857F2D5EF1C66C6EE          False   \n",
       "2587208  288DBA91E76CC73232310F1D6150C75F           True   \n",
       "2587209  064DE6BBA22138B9FA6950308BB7691E          False   \n",
       "2587210  D2BFF87A7DE9BFC3FB057EAAF2434D90          False   \n",
       "\n",
       "                                b_user_id  b_is_verified  a_follows_b  \\\n",
       "idx                                                                     \n",
       "2328504  AE40A3588E57FAD49B7A92A5EE576015          False         True   \n",
       "2328505  FAFD00BBD3FAF6F194F11491E9640919          False         True   \n",
       "2328506  C87EA3EF714D09A9ACB41CD4DFF05809          False        False   \n",
       "2328507  D343CDD24E62335E6366C43DD08657FB          False        False   \n",
       "2328508  147868445045FEE47354296184358E12          False        False   \n",
       "...                                   ...            ...          ...   \n",
       "2587206  169D946E742B2850A74178999E2877ED          False         True   \n",
       "2587207  F3AAA2045AD502D941017AEC8BA23D04          False        False   \n",
       "2587208  CD37942BB577A87E9E6B0DC6A003410D          False        False   \n",
       "2587209  00CFA0940C0D3D13D6849CD3F54C90E9          False         True   \n",
       "2587210  DE5A2A13AB3949B473F884AB414E751B          False        False   \n",
       "\n",
       "         has_reply  bert_token_len  has_retweet  has_retweet_comment  \\\n",
       "idx                                                                    \n",
       "2328504      False        4.204693        False                False   \n",
       "2328505      False        3.091042        False                False   \n",
       "2328506      False        3.258097        False                False   \n",
       "2328507      False        2.833213        False                False   \n",
       "2328508      False        3.496508        False                False   \n",
       "...            ...             ...          ...                  ...   \n",
       "2587206      False        4.204693        False                False   \n",
       "2587207      False        3.637586         True                False   \n",
       "2587208      False        3.970292        False                False   \n",
       "2587209      False        3.295837        False                False   \n",
       "2587210      False        4.025352        False                False   \n",
       "\n",
       "         has_like  ...  TE_a_hash_has_retweet_comment  TE_a_hash_has_retweet  \\\n",
       "idx                ...                                                         \n",
       "2328504     False  ...                       0.006630               0.082996   \n",
       "2328505     False  ...                       0.006630               0.082996   \n",
       "2328506      True  ...                       0.006630               0.082996   \n",
       "2328507      True  ...                       0.002110               0.102165   \n",
       "2328508      True  ...                       0.003570               0.070331   \n",
       "...           ...  ...                            ...                    ...   \n",
       "2587206      True  ...                       0.001379               0.106366   \n",
       "2587207     False  ...                       0.006054               0.119257   \n",
       "2587208      True  ...                       0.024903               0.084103   \n",
       "2587209      True  ...                       0.006630               0.082996   \n",
       "2587210      True  ...                       0.005569               0.109717   \n",
       "\n",
       "         TE_b_hash_has_reply  TE_b_hash_has_like  \\\n",
       "idx                                                \n",
       "2328504             0.027258            0.377806   \n",
       "2328505             0.027258            0.377806   \n",
       "2328506             0.026019            0.451542   \n",
       "2328507             0.027258            0.425425   \n",
       "2328508             0.021200            0.441997   \n",
       "...                      ...                 ...   \n",
       "2587206             0.027258            0.425425   \n",
       "2587207             0.027258            0.377806   \n",
       "2587208             0.018465            0.449481   \n",
       "2587209             0.024888            0.475388   \n",
       "2587210             0.027258            0.425425   \n",
       "\n",
       "         TE_b_hash_has_retweet_comment  TE_b_hash_has_retweet  \\\n",
       "idx                                                             \n",
       "2328504                       0.006630               0.082996   \n",
       "2328505                       0.006630               0.082996   \n",
       "2328506                       0.006329               0.079223   \n",
       "2328507                       0.006630               0.082996   \n",
       "2328508                       0.005157               0.101589   \n",
       "...                                ...                    ...   \n",
       "2587206                       0.006630               0.082996   \n",
       "2587207                       0.006630               0.130615   \n",
       "2587208                       0.004491               0.056223   \n",
       "2587209                       0.006054               0.075779   \n",
       "2587210                       0.006630               0.082996   \n",
       "\n",
       "         TE_tweet_hash_has_reply  TE_tweet_hash_has_like  \\\n",
       "idx                                                        \n",
       "2328504                 0.027258                0.377806   \n",
       "2328505                 0.027258                0.377806   \n",
       "2328506                 0.027258                0.425425   \n",
       "2328507                 0.027258                0.425425   \n",
       "2328508                 0.027258                0.425425   \n",
       "...                          ...                     ...   \n",
       "2587206                 0.027258                0.425425   \n",
       "2587207                 0.027258                0.377806   \n",
       "2587208                 0.023851                0.497247   \n",
       "2587209                 0.027258                0.425425   \n",
       "2587210                 0.026019                0.451542   \n",
       "\n",
       "         TE_tweet_hash_has_retweet_comment  TE_tweet_hash_has_retweet  \n",
       "idx                                                                    \n",
       "2328504                           0.006630                   0.082996  \n",
       "2328505                           0.006630                   0.082996  \n",
       "2328506                           0.006630                   0.082996  \n",
       "2328507                           0.006630                   0.082996  \n",
       "2328508                           0.006630                   0.082996  \n",
       "...                                    ...                        ...  \n",
       "2587206                           0.006630                   0.082996  \n",
       "2587207                           0.006630                   0.130615  \n",
       "2587208                           0.005801                   0.072621  \n",
       "2587209                           0.006630                   0.082996  \n",
       "2587210                           0.006329                   0.079223  \n",
       "\n",
       "[258707 rows x 46 columns]"
      ],
      "text/html": "<div>\n<style scoped>\n    .dataframe tbody tr th:only-of-type {\n        vertical-align: middle;\n    }\n\n    .dataframe tbody tr th {\n        vertical-align: top;\n    }\n\n    .dataframe thead th {\n        text-align: right;\n    }\n</style>\n<table border=\"1\" class=\"dataframe\">\n  <thead>\n    <tr style=\"text-align: right;\">\n      <th></th>\n      <th>tweet_id</th>\n      <th>a_is_verified</th>\n      <th>b_user_id</th>\n      <th>b_is_verified</th>\n      <th>a_follows_b</th>\n      <th>has_reply</th>\n      <th>bert_token_len</th>\n      <th>has_retweet</th>\n      <th>has_retweet_comment</th>\n      <th>has_like</th>\n      <th>...</th>\n      <th>TE_a_hash_has_retweet_comment</th>\n      <th>TE_a_hash_has_retweet</th>\n      <th>TE_b_hash_has_reply</th>\n      <th>TE_b_hash_has_like</th>\n      <th>TE_b_hash_has_retweet_comment</th>\n      <th>TE_b_hash_has_retweet</th>\n      <th>TE_tweet_hash_has_reply</th>\n      <th>TE_tweet_hash_has_like</th>\n      <th>TE_tweet_hash_has_retweet_comment</th>\n      <th>TE_tweet_hash_has_retweet</th>\n    </tr>\n    <tr>\n      <th>idx</th>\n      <th></th>\n      <th></th>\n      <th></th>\n      <th></th>\n      <th></th>\n      <th></th>\n      <th></th>\n      <th></th>\n      <th></th>\n      <th></th>\n      <th></th>\n      <th></th>\n      <th></th>\n      <th></th>\n      <th></th>\n      <th></th>\n      <th></th>\n      <th></th>\n      <th></th>\n      <th></th>\n      <th></th>\n    </tr>\n  </thead>\n  <tbody>\n    <tr>\n      <th>2328504</th>\n      <td>FC917234BCAEEC9D838802CC92DF440E</td>\n      <td>False</td>\n      <td>AE40A3588E57FAD49B7A92A5EE576015</td>\n      <td>False</td>\n      <td>True</td>\n      <td>False</td>\n      <td>4.204693</td>\n      <td>False</td>\n      <td>False</td>\n      <td>False</td>\n      <td>...</td>\n      <td>0.006630</td>\n      <td>0.082996</td>\n      <td>0.027258</td>\n      <td>0.377806</td>\n      <td>0.006630</td>\n      <td>0.082996</td>\n      <td>0.027258</td>\n      <td>0.377806</td>\n      <td>0.006630</td>\n      <td>0.082996</td>\n    </tr>\n    <tr>\n      <th>2328505</th>\n      <td>A073D4352E0A2FD304064180355607F2</td>\n      <td>False</td>\n      <td>FAFD00BBD3FAF6F194F11491E9640919</td>\n      <td>False</td>\n      <td>True</td>\n      <td>False</td>\n      <td>3.091042</td>\n      <td>False</td>\n      <td>False</td>\n      <td>False</td>\n      <td>...</td>\n      <td>0.006630</td>\n      <td>0.082996</td>\n      <td>0.027258</td>\n      <td>0.377806</td>\n      <td>0.006630</td>\n      <td>0.082996</td>\n      <td>0.027258</td>\n      <td>0.377806</td>\n      <td>0.006630</td>\n      <td>0.082996</td>\n    </tr>\n    <tr>\n      <th>2328506</th>\n      <td>5D3B0DD135E64C788917F3E9474BDD72</td>\n      <td>False</td>\n      <td>C87EA3EF714D09A9ACB41CD4DFF05809</td>\n      <td>False</td>\n      <td>False</td>\n      <td>False</td>\n      <td>3.258097</td>\n      <td>False</td>\n      <td>False</td>\n      <td>True</td>\n      <td>...</td>\n      <td>0.006630</td>\n      <td>0.082996</td>\n      <td>0.026019</td>\n      <td>0.451542</td>\n      <td>0.006329</td>\n      <td>0.079223</td>\n      <td>0.027258</td>\n      <td>0.425425</td>\n      <td>0.006630</td>\n      <td>0.082996</td>\n    </tr>\n    <tr>\n      <th>2328507</th>\n      <td>8FEFB3031291D157ECBA60C68026C30E</td>\n      <td>False</td>\n      <td>D343CDD24E62335E6366C43DD08657FB</td>\n      <td>False</td>\n      <td>False</td>\n      <td>False</td>\n      <td>2.833213</td>\n      <td>False</td>\n      <td>False</td>\n      <td>True</td>\n      <td>...</td>\n      <td>0.002110</td>\n      <td>0.102165</td>\n      <td>0.027258</td>\n      <td>0.425425</td>\n      <td>0.006630</td>\n      <td>0.082996</td>\n      <td>0.027258</td>\n      <td>0.425425</td>\n      <td>0.006630</td>\n      <td>0.082996</td>\n    </tr>\n    <tr>\n      <th>2328508</th>\n      <td>5278984CBE0C3DB1C14FCEDA67713864</td>\n      <td>False</td>\n      <td>147868445045FEE47354296184358E12</td>\n      <td>False</td>\n      <td>False</td>\n      <td>False</td>\n      <td>3.496508</td>\n      <td>False</td>\n      <td>False</td>\n      <td>True</td>\n      <td>...</td>\n      <td>0.003570</td>\n      <td>0.070331</td>\n      <td>0.021200</td>\n      <td>0.441997</td>\n      <td>0.005157</td>\n      <td>0.101589</td>\n      <td>0.027258</td>\n      <td>0.425425</td>\n      <td>0.006630</td>\n      <td>0.082996</td>\n    </tr>\n    <tr>\n      <th>...</th>\n      <td>...</td>\n      <td>...</td>\n      <td>...</td>\n      <td>...</td>\n      <td>...</td>\n      <td>...</td>\n      <td>...</td>\n      <td>...</td>\n      <td>...</td>\n      <td>...</td>\n      <td>...</td>\n      <td>...</td>\n      <td>...</td>\n      <td>...</td>\n      <td>...</td>\n      <td>...</td>\n      <td>...</td>\n      <td>...</td>\n      <td>...</td>\n      <td>...</td>\n      <td>...</td>\n    </tr>\n    <tr>\n      <th>2587206</th>\n      <td>C8D2C3701D87551726382D08D18A22FE</td>\n      <td>False</td>\n      <td>169D946E742B2850A74178999E2877ED</td>\n      <td>False</td>\n      <td>True</td>\n      <td>False</td>\n      <td>4.204693</td>\n      <td>False</td>\n      <td>False</td>\n      <td>True</td>\n      <td>...</td>\n      <td>0.001379</td>\n      <td>0.106366</td>\n      <td>0.027258</td>\n      <td>0.425425</td>\n      <td>0.006630</td>\n      <td>0.082996</td>\n      <td>0.027258</td>\n      <td>0.425425</td>\n      <td>0.006630</td>\n      <td>0.082996</td>\n    </tr>\n    <tr>\n      <th>2587207</th>\n      <td>FF1CCC27DA37CF4857F2D5EF1C66C6EE</td>\n      <td>False</td>\n      <td>F3AAA2045AD502D941017AEC8BA23D04</td>\n      <td>False</td>\n      <td>False</td>\n      <td>False</td>\n      <td>3.637586</td>\n      <td>True</td>\n      <td>False</td>\n      <td>False</td>\n      <td>...</td>\n      <td>0.006054</td>\n      <td>0.119257</td>\n      <td>0.027258</td>\n      <td>0.377806</td>\n      <td>0.006630</td>\n      <td>0.130615</td>\n      <td>0.027258</td>\n      <td>0.377806</td>\n      <td>0.006630</td>\n      <td>0.130615</td>\n    </tr>\n    <tr>\n      <th>2587208</th>\n      <td>288DBA91E76CC73232310F1D6150C75F</td>\n      <td>True</td>\n      <td>CD37942BB577A87E9E6B0DC6A003410D</td>\n      <td>False</td>\n      <td>False</td>\n      <td>False</td>\n      <td>3.970292</td>\n      <td>False</td>\n      <td>False</td>\n      <td>True</td>\n      <td>...</td>\n      <td>0.024903</td>\n      <td>0.084103</td>\n      <td>0.018465</td>\n      <td>0.449481</td>\n      <td>0.004491</td>\n      <td>0.056223</td>\n      <td>0.023851</td>\n      <td>0.497247</td>\n      <td>0.005801</td>\n      <td>0.072621</td>\n    </tr>\n    <tr>\n      <th>2587209</th>\n      <td>064DE6BBA22138B9FA6950308BB7691E</td>\n      <td>False</td>\n      <td>00CFA0940C0D3D13D6849CD3F54C90E9</td>\n      <td>False</td>\n      <td>True</td>\n      <td>False</td>\n      <td>3.295837</td>\n      <td>False</td>\n      <td>False</td>\n      <td>True</td>\n      <td>...</td>\n      <td>0.006630</td>\n      <td>0.082996</td>\n      <td>0.024888</td>\n      <td>0.475388</td>\n      <td>0.006054</td>\n      <td>0.075779</td>\n      <td>0.027258</td>\n      <td>0.425425</td>\n      <td>0.006630</td>\n      <td>0.082996</td>\n    </tr>\n    <tr>\n      <th>2587210</th>\n      <td>D2BFF87A7DE9BFC3FB057EAAF2434D90</td>\n      <td>False</td>\n      <td>DE5A2A13AB3949B473F884AB414E751B</td>\n      <td>False</td>\n      <td>False</td>\n      <td>False</td>\n      <td>4.025352</td>\n      <td>False</td>\n      <td>False</td>\n      <td>True</td>\n      <td>...</td>\n      <td>0.005569</td>\n      <td>0.109717</td>\n      <td>0.027258</td>\n      <td>0.425425</td>\n      <td>0.006630</td>\n      <td>0.082996</td>\n      <td>0.026019</td>\n      <td>0.451542</td>\n      <td>0.006329</td>\n      <td>0.079223</td>\n    </tr>\n  </tbody>\n</table>\n<p>258707 rows × 46 columns</p>\n</div>"
     },
     "metadata": {},
     "execution_count": 10
    }
   ],
   "source": [
    "import pandas as pd\n",
    "train = pd.read_parquet(\"preprocessed_training_features\\\\part.9.parquet\")\n",
    "test = pd.read_parquet(\"preprocessed_validation_features\\\\part.9.parquet\")\n",
    "train"
   ]
  },
  {
   "cell_type": "code",
   "execution_count": 15,
   "metadata": {},
   "outputs": [
    {
     "output_type": "execute_result",
     "data": {
      "text/plain": [
       "0.5059247741028873"
      ]
     },
     "metadata": {},
     "execution_count": 15
    }
   ],
   "source": []
  },
  {
   "cell_type": "code",
   "execution_count": 55,
   "metadata": {},
   "outputs": [
    {
     "output_type": "execute_result",
     "data": {
      "text/plain": [
       "idx\n",
       "2397455    6843327693395547848\n",
       "Name: b_hash, dtype: int64"
      ]
     },
     "metadata": {},
     "execution_count": 55
    }
   ],
   "source": [
    "train[train[\"b_user_id\"] == '7F6C55FBCE9A4FB981B1DF01807C121B'][\"b_hash\"]"
   ]
  },
  {
   "cell_type": "code",
   "execution_count": 57,
   "metadata": {},
   "outputs": [
    {
     "output_type": "execute_result",
     "data": {
      "text/plain": [
       "idx\n",
       "2541356    7661512752241346398\n",
       "Name: b_hash, dtype: int64"
      ]
     },
     "metadata": {},
     "execution_count": 57
    }
   ],
   "source": [
    "test[test[\"b_user_id\"] == '7F6C55FBCE9A4FB981B1DF01807C121B'][\"b_hash\"]"
   ]
  },
  {
   "cell_type": "code",
   "execution_count": 79,
   "metadata": {},
   "outputs": [
    {
     "output_type": "execute_result",
     "data": {
      "text/plain": [
       "169374467480431641803362595042813022747"
      ]
     },
     "metadata": {},
     "execution_count": 79
    }
   ],
   "source": []
  },
  {
   "cell_type": "code",
   "execution_count": 99,
   "metadata": {},
   "outputs": [
    {
     "output_type": "execute_result",
     "data": {
      "text/plain": [
       "array([16937446748043164180], dtype=uint64)"
      ]
     },
     "metadata": {},
     "execution_count": 99
    }
   ],
   "source": [
    "import numpy as np\n",
    "np.array([int(str(int(\"7F6C55FBCE9A4FB981B1DF01807C121B\", 16))[:20])], dtype=np.uint64)"
   ]
  },
  {
   "cell_type": "code",
   "execution_count": 74,
   "metadata": {},
   "outputs": [
    {
     "output_type": "execute_result",
     "data": {
      "text/plain": [
       "169374467480431641803362595042813022747"
      ]
     },
     "metadata": {},
     "execution_count": 74
    }
   ],
   "source": [
    "import ast\n",
    "ast.literal_eval('0x7F6C55FBCE9A4FB981B1DF01807C121B')"
   ]
  },
  {
   "cell_type": "code",
   "execution_count": 9,
   "metadata": {},
   "outputs": [
    {
     "output_type": "execute_result",
     "data": {
      "text/plain": [
       "2155614747"
      ]
     },
     "metadata": {},
     "execution_count": 9
    }
   ],
   "source": [
    "int(\"7F6C55FBCE9A4FB981B1DF01807C121B\", 16)%(2**32)"
   ]
  },
  {
   "cell_type": "code",
   "execution_count": 16,
   "metadata": {},
   "outputs": [
    {
     "output_type": "execute_result",
     "data": {
      "text/plain": [
       "Index(['tweet_id', 'a_is_verified', 'b_user_id', 'b_is_verified',\n",
       "       'a_follows_b', 'has_reply', 'bert_token_len', 'has_retweet',\n",
       "       'has_retweet_comment', 'has_like', 'n_photos', 'n_videos', 'n_gifs',\n",
       "       'type_encoding', 'language_encoding', 'a_followers', 'a_following',\n",
       "       'b_followers', 'b_following', 'day_of_week', 'hour_of_day',\n",
       "       'b_creation_delta', 'a_creation_delta', 'tweet_hash', 'b_hash',\n",
       "       'a_hash', 'TE_language_encoding_has_reply',\n",
       "       'TE_language_encoding_has_like',\n",
       "       'TE_language_encoding_has_retweet_comment',\n",
       "       'TE_language_encoding_has_retweet', 'TE_type_encoding_has_reply',\n",
       "       'TE_type_encoding_has_like', 'TE_type_encoding_has_retweet_comment',\n",
       "       'TE_type_encoding_has_retweet', 'TE_a_hash_has_reply',\n",
       "       'TE_a_hash_has_like', 'TE_a_hash_has_retweet_comment',\n",
       "       'TE_a_hash_has_retweet', 'TE_b_hash_has_reply', 'TE_b_hash_has_like',\n",
       "       'TE_b_hash_has_retweet_comment', 'TE_b_hash_has_retweet',\n",
       "       'TE_tweet_hash_has_reply', 'TE_tweet_hash_has_like',\n",
       "       'TE_tweet_hash_has_retweet_comment', 'TE_tweet_hash_has_retweet'],\n",
       "      dtype='object')"
      ]
     },
     "metadata": {},
     "execution_count": 16
    }
   ],
   "source": [
    "train.columns"
   ]
  },
  {
   "cell_type": "code",
   "execution_count": 35,
   "metadata": {},
   "outputs": [
    {
     "output_type": "execute_result",
     "data": {
      "text/plain": [
       "Index(['tweet_id', 'a_is_verified', 'b_user_id', 'b_is_verified',\n",
       "       'a_follows_b', 'has_reply', 'has_retweet', 'has_retweet_comment',\n",
       "       'has_like', 'bert_token_len', 'n_photos', 'n_videos', 'n_gifs',\n",
       "       'type_encoding', 'language_encoding', 'a_followers', 'a_following',\n",
       "       'b_followers', 'b_following', 'day_of_week', 'hour_of_day',\n",
       "       'b_creation_delta', 'a_creation_delta', 'tweet_hash', 'b_hash',\n",
       "       'a_hash', 'TE_language_encoding_has_reply',\n",
       "       'TE_language_encoding_has_like',\n",
       "       'TE_language_encoding_has_retweet_comment',\n",
       "       'TE_language_encoding_has_retweet', 'TE_type_encoding_has_reply',\n",
       "       'TE_type_encoding_has_like', 'TE_type_encoding_has_retweet_comment',\n",
       "       'TE_type_encoding_has_retweet', 'TE_a_hash_has_reply',\n",
       "       'TE_a_hash_has_like', 'TE_a_hash_has_retweet_comment',\n",
       "       'TE_a_hash_has_retweet', 'TE_b_hash_has_reply', 'TE_b_hash_has_like',\n",
       "       'TE_b_hash_has_retweet_comment', 'TE_b_hash_has_retweet',\n",
       "       'TE_tweet_hash_has_reply', 'TE_tweet_hash_has_like',\n",
       "       'TE_tweet_hash_has_retweet_comment', 'TE_tweet_hash_has_retweet'],\n",
       "      dtype='object')"
      ]
     },
     "metadata": {},
     "execution_count": 35
    }
   ],
   "source": [
    "test_data.columns"
   ]
  },
  {
   "cell_type": "code",
   "execution_count": 69,
   "metadata": {},
   "outputs": [
    {
     "output_type": "execute_result",
     "data": {
      "text/plain": [
       "                                tweet_id  a_is_verified  \\\n",
       "idx                                                       \n",
       "257991  90CA38A0A5D53E50B3A53CB4799EDAC7          False   \n",
       "257992  667A7A79B046C2630097E5F5575FF065          False   \n",
       "257993  9F3B4A2391BDE98F98DE6A62DC16ADB5          False   \n",
       "257994  120991A57590B5D29D4E0A2733467E3C           True   \n",
       "257995  95DD930F2F481228ACA4EE55730DA28F          False   \n",
       "...                                  ...            ...   \n",
       "516184  C634A10DD9BD635DC1893E50D9B114BE          False   \n",
       "516185  B91D1773740A5FB8A77A7282225EEB01           True   \n",
       "516186  485093203DC4E4025B4725C42C6202DF          False   \n",
       "516187  E2E3800A12F271608BD6EE9355FC8365           True   \n",
       "516188  32DFF6C89830621017A42236F85C48DC          False   \n",
       "\n",
       "                               b_user_id  b_is_verified  a_follows_b  \\\n",
       "idx                                                                    \n",
       "257991  C6639036885D0E58206BE888CF8079E1          False         True   \n",
       "257992  7CF0F5E830D6E29CA9A3E20398FBA987          False         True   \n",
       "257993  A78E7CE520EC824409084718FDE6C5B1          False         True   \n",
       "257994  4A3EF99CB4FEC651AAEC433CF7CA9912          False        False   \n",
       "257995  50CD246006E987B5142F8BC3017354C6          False        False   \n",
       "...                                  ...            ...          ...   \n",
       "516184  970C80229B14B6B9C0FC4BE5F7721D71          False         True   \n",
       "516185  4D1AD98E0CDC2C322A16AA97DA22C360          False        False   \n",
       "516186  F527AAE1AB3CF95733380E05451E56FA          False         True   \n",
       "516187  8E75B9C5408FD3DD82BEE5DDACF7A425          False        False   \n",
       "516188  4F2CB3928A060D58AA8F6F9280F4F4D7          False         True   \n",
       "\n",
       "        has_reply  has_retweet  has_retweet_comment  has_like  bert_token_len  \\\n",
       "idx                                                                             \n",
       "257991       True        False                False     False        2.639057   \n",
       "257992      False        False                False     False        3.737670   \n",
       "257993      False        False                False      True        3.526361   \n",
       "257994      False        False                False     False        3.713572   \n",
       "257995      False        False                False     False        4.595120   \n",
       "...           ...          ...                  ...       ...             ...   \n",
       "516184      False        False                False      True        2.944439   \n",
       "516185       True        False                False     False        2.944439   \n",
       "516186      False        False                False      True        4.682131   \n",
       "516187      False        False                False     False        3.637586   \n",
       "516188      False        False                False     False        2.564949   \n",
       "\n",
       "        ...  TE_a_hash_has_retweet_comment  TE_a_hash_has_retweet  \\\n",
       "idx     ...                                                         \n",
       "257991  ...                       0.006630               0.082996   \n",
       "257992  ...                      -1.000000              -1.000000   \n",
       "257993  ...                       0.049532               0.119257   \n",
       "257994  ...                       0.003238               0.040533   \n",
       "257995  ...                       0.006329               0.079223   \n",
       "...     ...                            ...                    ...   \n",
       "516184  ...                      -1.000000              -1.000000   \n",
       "516185  ...                       0.005569               0.069717   \n",
       "516186  ...                       0.006054               0.075779   \n",
       "516187  ...                       0.001200               0.023646   \n",
       "516188  ...                      -1.000000              -1.000000   \n",
       "\n",
       "        TE_b_hash_has_reply  TE_b_hash_has_like  \\\n",
       "idx                                               \n",
       "257991             0.022897            0.477357   \n",
       "257992             0.026019            0.406088   \n",
       "257993             0.019738            0.549446   \n",
       "257994            -1.000000           -1.000000   \n",
       "257995             0.024888            0.431910   \n",
       "...                     ...                 ...   \n",
       "516184            -1.000000           -1.000000   \n",
       "516185             0.026019            0.406088   \n",
       "516186             0.027258            0.425425   \n",
       "516187             0.026019            0.360633   \n",
       "516188             0.023851            0.372247   \n",
       "\n",
       "        TE_b_hash_has_retweet_comment  TE_b_hash_has_retweet  \\\n",
       "idx                                                            \n",
       "257991                       0.005569               0.069717   \n",
       "257992                       0.006329               0.079223   \n",
       "257993                       0.004801               0.094583   \n",
       "257994                      -1.000000              -1.000000   \n",
       "257995                       0.006054               0.119257   \n",
       "...                               ...                    ...   \n",
       "516184                      -1.000000              -1.000000   \n",
       "516185                       0.006329               0.079223   \n",
       "516186                       0.006630               0.082996   \n",
       "516187                       0.006329               0.079223   \n",
       "516188                       0.005801               0.072621   \n",
       "\n",
       "        TE_tweet_hash_has_reply  TE_tweet_hash_has_like  \\\n",
       "idx                                                       \n",
       "257991                -1.000000               -1.000000   \n",
       "257992                -1.000000               -1.000000   \n",
       "257993                -1.000000               -1.000000   \n",
       "257994                -1.000000               -1.000000   \n",
       "257995                -1.000000               -1.000000   \n",
       "...                         ...                     ...   \n",
       "516184                -1.000000               -1.000000   \n",
       "516185                -1.000000               -1.000000   \n",
       "516186                -1.000000               -1.000000   \n",
       "516187                 0.022016                0.305151   \n",
       "516188                -1.000000               -1.000000   \n",
       "\n",
       "        TE_tweet_hash_has_retweet_comment  TE_tweet_hash_has_retweet  \n",
       "idx                                                                   \n",
       "257991                          -1.000000                  -1.000000  \n",
       "257992                          -1.000000                  -1.000000  \n",
       "257993                          -1.000000                  -1.000000  \n",
       "257994                          -1.000000                  -1.000000  \n",
       "257995                          -1.000000                  -1.000000  \n",
       "...                                   ...                        ...  \n",
       "516184                          -1.000000                  -1.000000  \n",
       "516185                          -1.000000                  -1.000000  \n",
       "516186                          -1.000000                  -1.000000  \n",
       "516187                           0.005355                   0.067035  \n",
       "516188                          -1.000000                  -1.000000  \n",
       "\n",
       "[258198 rows x 46 columns]"
      ],
      "text/html": "<div>\n<style scoped>\n    .dataframe tbody tr th:only-of-type {\n        vertical-align: middle;\n    }\n\n    .dataframe tbody tr th {\n        vertical-align: top;\n    }\n\n    .dataframe thead th {\n        text-align: right;\n    }\n</style>\n<table border=\"1\" class=\"dataframe\">\n  <thead>\n    <tr style=\"text-align: right;\">\n      <th></th>\n      <th>tweet_id</th>\n      <th>a_is_verified</th>\n      <th>b_user_id</th>\n      <th>b_is_verified</th>\n      <th>a_follows_b</th>\n      <th>has_reply</th>\n      <th>has_retweet</th>\n      <th>has_retweet_comment</th>\n      <th>has_like</th>\n      <th>bert_token_len</th>\n      <th>...</th>\n      <th>TE_a_hash_has_retweet_comment</th>\n      <th>TE_a_hash_has_retweet</th>\n      <th>TE_b_hash_has_reply</th>\n      <th>TE_b_hash_has_like</th>\n      <th>TE_b_hash_has_retweet_comment</th>\n      <th>TE_b_hash_has_retweet</th>\n      <th>TE_tweet_hash_has_reply</th>\n      <th>TE_tweet_hash_has_like</th>\n      <th>TE_tweet_hash_has_retweet_comment</th>\n      <th>TE_tweet_hash_has_retweet</th>\n    </tr>\n    <tr>\n      <th>idx</th>\n      <th></th>\n      <th></th>\n      <th></th>\n      <th></th>\n      <th></th>\n      <th></th>\n      <th></th>\n      <th></th>\n      <th></th>\n      <th></th>\n      <th></th>\n      <th></th>\n      <th></th>\n      <th></th>\n      <th></th>\n      <th></th>\n      <th></th>\n      <th></th>\n      <th></th>\n      <th></th>\n      <th></th>\n    </tr>\n  </thead>\n  <tbody>\n    <tr>\n      <th>257991</th>\n      <td>90CA38A0A5D53E50B3A53CB4799EDAC7</td>\n      <td>False</td>\n      <td>C6639036885D0E58206BE888CF8079E1</td>\n      <td>False</td>\n      <td>True</td>\n      <td>True</td>\n      <td>False</td>\n      <td>False</td>\n      <td>False</td>\n      <td>2.639057</td>\n      <td>...</td>\n      <td>0.006630</td>\n      <td>0.082996</td>\n      <td>0.022897</td>\n      <td>0.477357</td>\n      <td>0.005569</td>\n      <td>0.069717</td>\n      <td>-1.000000</td>\n      <td>-1.000000</td>\n      <td>-1.000000</td>\n      <td>-1.000000</td>\n    </tr>\n    <tr>\n      <th>257992</th>\n      <td>667A7A79B046C2630097E5F5575FF065</td>\n      <td>False</td>\n      <td>7CF0F5E830D6E29CA9A3E20398FBA987</td>\n      <td>False</td>\n      <td>True</td>\n      <td>False</td>\n      <td>False</td>\n      <td>False</td>\n      <td>False</td>\n      <td>3.737670</td>\n      <td>...</td>\n      <td>-1.000000</td>\n      <td>-1.000000</td>\n      <td>0.026019</td>\n      <td>0.406088</td>\n      <td>0.006329</td>\n      <td>0.079223</td>\n      <td>-1.000000</td>\n      <td>-1.000000</td>\n      <td>-1.000000</td>\n      <td>-1.000000</td>\n    </tr>\n    <tr>\n      <th>257993</th>\n      <td>9F3B4A2391BDE98F98DE6A62DC16ADB5</td>\n      <td>False</td>\n      <td>A78E7CE520EC824409084718FDE6C5B1</td>\n      <td>False</td>\n      <td>True</td>\n      <td>False</td>\n      <td>False</td>\n      <td>False</td>\n      <td>True</td>\n      <td>3.526361</td>\n      <td>...</td>\n      <td>0.049532</td>\n      <td>0.119257</td>\n      <td>0.019738</td>\n      <td>0.549446</td>\n      <td>0.004801</td>\n      <td>0.094583</td>\n      <td>-1.000000</td>\n      <td>-1.000000</td>\n      <td>-1.000000</td>\n      <td>-1.000000</td>\n    </tr>\n    <tr>\n      <th>257994</th>\n      <td>120991A57590B5D29D4E0A2733467E3C</td>\n      <td>True</td>\n      <td>4A3EF99CB4FEC651AAEC433CF7CA9912</td>\n      <td>False</td>\n      <td>False</td>\n      <td>False</td>\n      <td>False</td>\n      <td>False</td>\n      <td>False</td>\n      <td>3.713572</td>\n      <td>...</td>\n      <td>0.003238</td>\n      <td>0.040533</td>\n      <td>-1.000000</td>\n      <td>-1.000000</td>\n      <td>-1.000000</td>\n      <td>-1.000000</td>\n      <td>-1.000000</td>\n      <td>-1.000000</td>\n      <td>-1.000000</td>\n      <td>-1.000000</td>\n    </tr>\n    <tr>\n      <th>257995</th>\n      <td>95DD930F2F481228ACA4EE55730DA28F</td>\n      <td>False</td>\n      <td>50CD246006E987B5142F8BC3017354C6</td>\n      <td>False</td>\n      <td>False</td>\n      <td>False</td>\n      <td>False</td>\n      <td>False</td>\n      <td>False</td>\n      <td>4.595120</td>\n      <td>...</td>\n      <td>0.006329</td>\n      <td>0.079223</td>\n      <td>0.024888</td>\n      <td>0.431910</td>\n      <td>0.006054</td>\n      <td>0.119257</td>\n      <td>-1.000000</td>\n      <td>-1.000000</td>\n      <td>-1.000000</td>\n      <td>-1.000000</td>\n    </tr>\n    <tr>\n      <th>...</th>\n      <td>...</td>\n      <td>...</td>\n      <td>...</td>\n      <td>...</td>\n      <td>...</td>\n      <td>...</td>\n      <td>...</td>\n      <td>...</td>\n      <td>...</td>\n      <td>...</td>\n      <td>...</td>\n      <td>...</td>\n      <td>...</td>\n      <td>...</td>\n      <td>...</td>\n      <td>...</td>\n      <td>...</td>\n      <td>...</td>\n      <td>...</td>\n      <td>...</td>\n      <td>...</td>\n    </tr>\n    <tr>\n      <th>516184</th>\n      <td>C634A10DD9BD635DC1893E50D9B114BE</td>\n      <td>False</td>\n      <td>970C80229B14B6B9C0FC4BE5F7721D71</td>\n      <td>False</td>\n      <td>True</td>\n      <td>False</td>\n      <td>False</td>\n      <td>False</td>\n      <td>True</td>\n      <td>2.944439</td>\n      <td>...</td>\n      <td>-1.000000</td>\n      <td>-1.000000</td>\n      <td>-1.000000</td>\n      <td>-1.000000</td>\n      <td>-1.000000</td>\n      <td>-1.000000</td>\n      <td>-1.000000</td>\n      <td>-1.000000</td>\n      <td>-1.000000</td>\n      <td>-1.000000</td>\n    </tr>\n    <tr>\n      <th>516185</th>\n      <td>B91D1773740A5FB8A77A7282225EEB01</td>\n      <td>True</td>\n      <td>4D1AD98E0CDC2C322A16AA97DA22C360</td>\n      <td>False</td>\n      <td>False</td>\n      <td>True</td>\n      <td>False</td>\n      <td>False</td>\n      <td>False</td>\n      <td>2.944439</td>\n      <td>...</td>\n      <td>0.005569</td>\n      <td>0.069717</td>\n      <td>0.026019</td>\n      <td>0.406088</td>\n      <td>0.006329</td>\n      <td>0.079223</td>\n      <td>-1.000000</td>\n      <td>-1.000000</td>\n      <td>-1.000000</td>\n      <td>-1.000000</td>\n    </tr>\n    <tr>\n      <th>516186</th>\n      <td>485093203DC4E4025B4725C42C6202DF</td>\n      <td>False</td>\n      <td>F527AAE1AB3CF95733380E05451E56FA</td>\n      <td>False</td>\n      <td>True</td>\n      <td>False</td>\n      <td>False</td>\n      <td>False</td>\n      <td>True</td>\n      <td>4.682131</td>\n      <td>...</td>\n      <td>0.006054</td>\n      <td>0.075779</td>\n      <td>0.027258</td>\n      <td>0.425425</td>\n      <td>0.006630</td>\n      <td>0.082996</td>\n      <td>-1.000000</td>\n      <td>-1.000000</td>\n      <td>-1.000000</td>\n      <td>-1.000000</td>\n    </tr>\n    <tr>\n      <th>516187</th>\n      <td>E2E3800A12F271608BD6EE9355FC8365</td>\n      <td>True</td>\n      <td>8E75B9C5408FD3DD82BEE5DDACF7A425</td>\n      <td>False</td>\n      <td>False</td>\n      <td>False</td>\n      <td>False</td>\n      <td>False</td>\n      <td>False</td>\n      <td>3.637586</td>\n      <td>...</td>\n      <td>0.001200</td>\n      <td>0.023646</td>\n      <td>0.026019</td>\n      <td>0.360633</td>\n      <td>0.006329</td>\n      <td>0.079223</td>\n      <td>0.022016</td>\n      <td>0.305151</td>\n      <td>0.005355</td>\n      <td>0.067035</td>\n    </tr>\n    <tr>\n      <th>516188</th>\n      <td>32DFF6C89830621017A42236F85C48DC</td>\n      <td>False</td>\n      <td>4F2CB3928A060D58AA8F6F9280F4F4D7</td>\n      <td>False</td>\n      <td>True</td>\n      <td>False</td>\n      <td>False</td>\n      <td>False</td>\n      <td>False</td>\n      <td>2.564949</td>\n      <td>...</td>\n      <td>-1.000000</td>\n      <td>-1.000000</td>\n      <td>0.023851</td>\n      <td>0.372247</td>\n      <td>0.005801</td>\n      <td>0.072621</td>\n      <td>-1.000000</td>\n      <td>-1.000000</td>\n      <td>-1.000000</td>\n      <td>-1.000000</td>\n    </tr>\n  </tbody>\n</table>\n<p>258198 rows × 46 columns</p>\n</div>"
     },
     "metadata": {},
     "execution_count": 69
    }
   ],
   "source": [
    "test_data"
   ]
  },
  {
   "cell_type": "code",
   "execution_count": null,
   "metadata": {},
   "outputs": [],
   "source": []
  }
 ]
}